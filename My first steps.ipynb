{
 "cells": [
  {
   "cell_type": "code",
   "execution_count": 1,
   "metadata": {
    "scrolled": false
   },
   "outputs": [
    {
     "name": "stdout",
     "output_type": "stream",
     "text": [
      "hello, world!\n"
     ]
    }
   ],
   "source": [
    "print('hello, world!') "
   ]
  },
  {
   "cell_type": "code",
   "execution_count": 303,
   "metadata": {},
   "outputs": [
    {
     "data": {
      "text/plain": [
       "42"
      ]
     },
     "execution_count": 303,
     "metadata": {},
     "output_type": "execute_result"
    }
   ],
   "source": [
    "25 + 17"
   ]
  },
  {
   "cell_type": "code",
   "execution_count": 297,
   "metadata": {},
   "outputs": [
    {
     "data": {
      "text/plain": [
       "24642"
      ]
     },
     "execution_count": 297,
     "metadata": {},
     "output_type": "execute_result"
    }
   ],
   "source": [
    "2 *12321"
   ]
  },
  {
   "cell_type": "code",
   "execution_count": 298,
   "metadata": {
    "scrolled": true
   },
   "outputs": [
    {
     "data": {
      "text/plain": [
       "1024"
      ]
     },
     "execution_count": 298,
     "metadata": {},
     "output_type": "execute_result"
    }
   ],
   "source": [
    "2 ** 10"
   ]
  },
  {
   "cell_type": "code",
   "execution_count": 299,
   "metadata": {},
   "outputs": [
    {
     "data": {
      "text/plain": [
       "128"
      ]
     },
     "execution_count": 299,
     "metadata": {},
     "output_type": "execute_result"
    }
   ],
   "source": [
    "x = 256 - 128"
   ]
  },
  {
   "cell_type": "code",
   "execution_count": 300,
   "metadata": {},
   "outputs": [
    {
     "data": {
      "text/plain": [
       "list"
      ]
     },
     "execution_count": 300,
     "metadata": {},
     "output_type": "execute_result"
    }
   ],
   "source": [
    "type(x)"
   ]
  },
  {
   "cell_type": "code",
   "execution_count": 301,
   "metadata": {
    "scrolled": true
   },
   "outputs": [
    {
     "data": {
      "text/plain": [
       "int"
      ]
     },
     "execution_count": 301,
     "metadata": {},
     "output_type": "execute_result"
    }
   ],
   "source": [
    "y = 10\n",
    "type(y)"
   ]
  },
  {
   "cell_type": "code",
   "execution_count": 302,
   "metadata": {},
   "outputs": [
    {
     "data": {
      "text/plain": [
       "str"
      ]
     },
     "execution_count": 302,
     "metadata": {},
     "output_type": "execute_result"
    }
   ],
   "source": [
    "z = 'Sunrise'\n",
    "type(z)"
   ]
  },
  {
   "cell_type": "markdown",
   "metadata": {},
   "source": [
    "# Заполнение списка числами"
   ]
  },
  {
   "cell_type": "code",
   "execution_count": 228,
   "metadata": {},
   "outputs": [
    {
     "data": {
      "text/plain": [
       "[5, 6, 7, 8, 9, 10]"
      ]
     },
     "execution_count": 228,
     "metadata": {},
     "output_type": "execute_result"
    }
   ],
   "source": [
    "list(range(5,11))"
   ]
  },
  {
   "cell_type": "code",
   "execution_count": 229,
   "metadata": {},
   "outputs": [
    {
     "data": {
      "text/plain": [
       "[5, 4, 3, 2, 1]"
      ]
     },
     "execution_count": 229,
     "metadata": {},
     "output_type": "execute_result"
    }
   ],
   "source": [
    "list(range(5,0,-1))"
   ]
  },
  {
   "cell_type": "code",
   "execution_count": 230,
   "metadata": {},
   "outputs": [],
   "source": [
    "import random"
   ]
  },
  {
   "cell_type": "code",
   "execution_count": 231,
   "metadata": {},
   "outputs": [],
   "source": [
    "arr = [505, 588, 1377, 1488]"
   ]
  },
  {
   "cell_type": "code",
   "execution_count": 232,
   "metadata": {},
   "outputs": [
    {
     "data": {
      "text/plain": [
       "[1488]"
      ]
     },
     "execution_count": 232,
     "metadata": {},
     "output_type": "execute_result"
    }
   ],
   "source": [
    "random.sample(arr,1)"
   ]
  },
  {
   "cell_type": "code",
   "execution_count": 233,
   "metadata": {
    "scrolled": true
   },
   "outputs": [
    {
     "data": {
      "text/plain": [
       "[277, 264, 295, 262, 263, 256, 299, 284, 254, 250]"
      ]
     },
     "execution_count": 233,
     "metadata": {},
     "output_type": "execute_result"
    }
   ],
   "source": [
    "random.sample(range(250,300),10)"
   ]
  },
  {
   "cell_type": "markdown",
   "metadata": {},
   "source": [
    "# Преобразование списка в строку"
   ]
  },
  {
   "cell_type": "code",
   "execution_count": 234,
   "metadata": {},
   "outputs": [],
   "source": [
    "arr = ['word1','word2','word3']"
   ]
  },
  {
   "cell_type": "code",
   "execution_count": 235,
   "metadata": {},
   "outputs": [
    {
     "data": {
      "text/plain": [
       "list"
      ]
     },
     "execution_count": 235,
     "metadata": {},
     "output_type": "execute_result"
    }
   ],
   "source": [
    "type(arr)"
   ]
  },
  {
   "cell_type": "code",
   "execution_count": 236,
   "metadata": {},
   "outputs": [],
   "source": [
    "list_in_str = '  '.join(arr)"
   ]
  },
  {
   "cell_type": "code",
   "execution_count": 237,
   "metadata": {},
   "outputs": [
    {
     "data": {
      "text/plain": [
       "str"
      ]
     },
     "execution_count": 237,
     "metadata": {},
     "output_type": "execute_result"
    }
   ],
   "source": [
    "type(list_in_str)"
   ]
  },
  {
   "cell_type": "code",
   "execution_count": 238,
   "metadata": {},
   "outputs": [
    {
     "data": {
      "text/plain": [
       "'word1  word2  word3'"
      ]
     },
     "execution_count": 238,
     "metadata": {},
     "output_type": "execute_result"
    }
   ],
   "source": [
    "list_in_str"
   ]
  },
  {
   "cell_type": "code",
   "execution_count": 239,
   "metadata": {},
   "outputs": [
    {
     "data": {
      "text/plain": [
       "'welcome-to-my-world-7'"
      ]
     },
     "execution_count": 239,
     "metadata": {},
     "output_type": "execute_result"
    }
   ],
   "source": [
    "arr_with_int = ['welcome','to','my','world',7]\n",
    "'-'.join((str(i) for i in arr_with_int)) #генератор"
   ]
  },
  {
   "cell_type": "code",
   "execution_count": 240,
   "metadata": {
    "scrolled": true
   },
   "outputs": [
    {
     "data": {
      "text/plain": [
       "\"['welcome', 'to', 'my', 'world', 7]\""
      ]
     },
     "execution_count": 240,
     "metadata": {},
     "output_type": "execute_result"
    }
   ],
   "source": [
    "str(arr_with_int)"
   ]
  },
  {
   "cell_type": "markdown",
   "metadata": {},
   "source": [
    "# Кортежи"
   ]
  },
  {
   "cell_type": "code",
   "execution_count": 241,
   "metadata": {},
   "outputs": [],
   "source": [
    "t_5 = (5)"
   ]
  },
  {
   "cell_type": "code",
   "execution_count": 242,
   "metadata": {},
   "outputs": [
    {
     "data": {
      "text/plain": [
       "int"
      ]
     },
     "execution_count": 242,
     "metadata": {},
     "output_type": "execute_result"
    }
   ],
   "source": [
    "type(t_5)"
   ]
  },
  {
   "cell_type": "code",
   "execution_count": 243,
   "metadata": {},
   "outputs": [],
   "source": [
    "t_5_number1 = (5,)"
   ]
  },
  {
   "cell_type": "code",
   "execution_count": 244,
   "metadata": {},
   "outputs": [
    {
     "data": {
      "text/plain": [
       "tuple"
      ]
     },
     "execution_count": 244,
     "metadata": {},
     "output_type": "execute_result"
    }
   ],
   "source": [
    "type(t_5_number1)"
   ]
  },
  {
   "cell_type": "code",
   "execution_count": 245,
   "metadata": {},
   "outputs": [
    {
     "data": {
      "text/plain": [
       "('s', 't', 'r', 'o', 'k', 'a')"
      ]
     },
     "execution_count": 245,
     "metadata": {},
     "output_type": "execute_result"
    }
   ],
   "source": [
    "tuple('stroka')"
   ]
  },
  {
   "cell_type": "code",
   "execution_count": 246,
   "metadata": {},
   "outputs": [],
   "source": [
    "my_tuple = (2, 3, 5, 6, 8)"
   ]
  },
  {
   "cell_type": "code",
   "execution_count": 247,
   "metadata": {},
   "outputs": [
    {
     "data": {
      "text/plain": [
       "(2, 3, 5, 6, 8)"
      ]
     },
     "execution_count": 247,
     "metadata": {},
     "output_type": "execute_result"
    }
   ],
   "source": [
    "my_tuple"
   ]
  },
  {
   "cell_type": "code",
   "execution_count": 248,
   "metadata": {},
   "outputs": [
    {
     "data": {
      "text/plain": [
       "tuple"
      ]
     },
     "execution_count": 248,
     "metadata": {},
     "output_type": "execute_result"
    }
   ],
   "source": [
    "type(my_tuple)"
   ]
  },
  {
   "cell_type": "code",
   "execution_count": 249,
   "metadata": {},
   "outputs": [
    {
     "data": {
      "text/plain": [
       "5"
      ]
     },
     "execution_count": 249,
     "metadata": {},
     "output_type": "execute_result"
    }
   ],
   "source": [
    "my_tuple[2]"
   ]
  },
  {
   "cell_type": "code",
   "execution_count": 250,
   "metadata": {},
   "outputs": [
    {
     "data": {
      "text/plain": [
       "4"
      ]
     },
     "execution_count": 250,
     "metadata": {},
     "output_type": "execute_result"
    }
   ],
   "source": [
    "my_tuple.index(8)"
   ]
  },
  {
   "cell_type": "code",
   "execution_count": 251,
   "metadata": {},
   "outputs": [
    {
     "data": {
      "text/plain": [
       "1"
      ]
     },
     "execution_count": 251,
     "metadata": {},
     "output_type": "execute_result"
    }
   ],
   "source": [
    "my_tuple.count(5)"
   ]
  },
  {
   "cell_type": "code",
   "execution_count": 252,
   "metadata": {},
   "outputs": [
    {
     "data": {
      "text/plain": [
       "5"
      ]
     },
     "execution_count": 252,
     "metadata": {},
     "output_type": "execute_result"
    }
   ],
   "source": [
    "len(my_tuple)"
   ]
  },
  {
   "cell_type": "markdown",
   "metadata": {},
   "source": [
    "# Множества"
   ]
  },
  {
   "cell_type": "code",
   "execution_count": 254,
   "metadata": {},
   "outputs": [
    {
     "data": {
      "text/plain": [
       "{1, 3, 7, 9, 19, 22, 24, 588}"
      ]
     },
     "execution_count": 254,
     "metadata": {},
     "output_type": "execute_result"
    }
   ],
   "source": [
    "set([1,1,22,24,22,588,7,3,7,9,19,9])"
   ]
  },
  {
   "cell_type": "code",
   "execution_count": 255,
   "metadata": {},
   "outputs": [],
   "source": [
    "s =([1,2,3,4,5])"
   ]
  },
  {
   "cell_type": "code",
   "execution_count": 256,
   "metadata": {},
   "outputs": [
    {
     "data": {
      "text/plain": [
       "list"
      ]
     },
     "execution_count": 256,
     "metadata": {},
     "output_type": "execute_result"
    }
   ],
   "source": [
    "type(s)"
   ]
  },
  {
   "cell_type": "code",
   "execution_count": 257,
   "metadata": {},
   "outputs": [],
   "source": [
    "s = set([1,2,3,4,5])"
   ]
  },
  {
   "cell_type": "code",
   "execution_count": 258,
   "metadata": {},
   "outputs": [
    {
     "data": {
      "text/plain": [
       "set"
      ]
     },
     "execution_count": 258,
     "metadata": {},
     "output_type": "execute_result"
    }
   ],
   "source": [
    "type(s)"
   ]
  },
  {
   "cell_type": "markdown",
   "metadata": {},
   "source": [
    "# объединения множеств"
   ]
  },
  {
   "cell_type": "code",
   "execution_count": 259,
   "metadata": {},
   "outputs": [
    {
     "data": {
      "text/plain": [
       "{1, 2, 3, 4, 5, 6, 7, 8}"
      ]
     },
     "execution_count": 259,
     "metadata": {},
     "output_type": "execute_result"
    }
   ],
   "source": [
    "s.union(set([4,5,6,7,8,]))"
   ]
  },
  {
   "cell_type": "code",
   "execution_count": 260,
   "metadata": {},
   "outputs": [],
   "source": [
    "# само по себе изменение переменной s не происх-т"
   ]
  },
  {
   "cell_type": "code",
   "execution_count": 270,
   "metadata": {},
   "outputs": [],
   "source": [
    "s1 = s | set([4,5,6,7,8,])"
   ]
  },
  {
   "cell_type": "code",
   "execution_count": 262,
   "metadata": {},
   "outputs": [
    {
     "data": {
      "text/plain": [
       "{1, 2, 3, 4, 5}"
      ]
     },
     "execution_count": 262,
     "metadata": {},
     "output_type": "execute_result"
    }
   ],
   "source": [
    "s"
   ]
  },
  {
   "cell_type": "code",
   "execution_count": 263,
   "metadata": {},
   "outputs": [
    {
     "data": {
      "text/plain": [
       "{1, 2, 3, 4, 5, 6, 7, 8}"
      ]
     },
     "execution_count": 263,
     "metadata": {},
     "output_type": "execute_result"
    }
   ],
   "source": [
    "s1"
   ]
  },
  {
   "cell_type": "markdown",
   "metadata": {},
   "source": [
    "# добавление элементов множества"
   ]
  },
  {
   "cell_type": "code",
   "execution_count": 264,
   "metadata": {},
   "outputs": [],
   "source": [
    "s1.update(set([9,10,11]))"
   ]
  },
  {
   "cell_type": "code",
   "execution_count": 265,
   "metadata": {},
   "outputs": [
    {
     "data": {
      "text/plain": [
       "{1, 2, 3, 4, 5, 6, 7, 8, 9, 10, 11}"
      ]
     },
     "execution_count": 265,
     "metadata": {},
     "output_type": "execute_result"
    }
   ],
   "source": [
    "s1"
   ]
  },
  {
   "cell_type": "code",
   "execution_count": 266,
   "metadata": {},
   "outputs": [],
   "source": [
    "s1 |= set([12,13,14])"
   ]
  },
  {
   "cell_type": "code",
   "execution_count": 267,
   "metadata": {},
   "outputs": [
    {
     "data": {
      "text/plain": [
       "{1, 2, 3, 4, 5, 6, 7, 8, 9, 10, 11, 12, 13, 14}"
      ]
     },
     "execution_count": 267,
     "metadata": {},
     "output_type": "execute_result"
    }
   ],
   "source": [
    "s1"
   ]
  },
  {
   "cell_type": "code",
   "execution_count": 272,
   "metadata": {},
   "outputs": [],
   "source": [
    "#разница"
   ]
  },
  {
   "cell_type": "code",
   "execution_count": 271,
   "metadata": {},
   "outputs": [
    {
     "data": {
      "text/plain": [
       "{3}"
      ]
     },
     "execution_count": 271,
     "metadata": {},
     "output_type": "execute_result"
    }
   ],
   "source": [
    "set([1,2,3]) - set([1,2,4])"
   ]
  },
  {
   "cell_type": "code",
   "execution_count": 274,
   "metadata": {},
   "outputs": [
    {
     "data": {
      "text/plain": [
       "{1, 2, 3, 4, 5}"
      ]
     },
     "execution_count": 274,
     "metadata": {},
     "output_type": "execute_result"
    }
   ],
   "source": [
    "s"
   ]
  },
  {
   "cell_type": "code",
   "execution_count": 273,
   "metadata": {},
   "outputs": [
    {
     "data": {
      "text/plain": [
       "{3, 5}"
      ]
     },
     "execution_count": 273,
     "metadata": {},
     "output_type": "execute_result"
    }
   ],
   "source": [
    "s.difference(set([1,2,4]))"
   ]
  },
  {
   "cell_type": "code",
   "execution_count": null,
   "metadata": {},
   "outputs": [],
   "source": [
    "#удаление из множества А элементов,которые есть во множестве А и мн-ве В"
   ]
  },
  {
   "cell_type": "code",
   "execution_count": 275,
   "metadata": {},
   "outputs": [],
   "source": [
    "s = set([1,2,3,4,5])"
   ]
  },
  {
   "cell_type": "code",
   "execution_count": 276,
   "metadata": {},
   "outputs": [
    {
     "data": {
      "text/plain": [
       "{1, 2, 3, 4, 5}"
      ]
     },
     "execution_count": 276,
     "metadata": {},
     "output_type": "execute_result"
    }
   ],
   "source": [
    "s"
   ]
  },
  {
   "cell_type": "code",
   "execution_count": 277,
   "metadata": {},
   "outputs": [],
   "source": [
    "s.difference_update(set([3,2,5]))"
   ]
  },
  {
   "cell_type": "code",
   "execution_count": 278,
   "metadata": {},
   "outputs": [
    {
     "data": {
      "text/plain": [
       "{1, 4}"
      ]
     },
     "execution_count": 278,
     "metadata": {},
     "output_type": "execute_result"
    }
   ],
   "source": [
    "s"
   ]
  },
  {
   "cell_type": "code",
   "execution_count": 279,
   "metadata": {},
   "outputs": [],
   "source": [
    "s -= set([3,1,4])"
   ]
  },
  {
   "cell_type": "code",
   "execution_count": 280,
   "metadata": {},
   "outputs": [
    {
     "data": {
      "text/plain": [
       "set()"
      ]
     },
     "execution_count": 280,
     "metadata": {},
     "output_type": "execute_result"
    }
   ],
   "source": [
    "s"
   ]
  },
  {
   "cell_type": "code",
   "execution_count": null,
   "metadata": {},
   "outputs": [],
   "source": [
    "#пересечение множеств"
   ]
  },
  {
   "cell_type": "code",
   "execution_count": 281,
   "metadata": {},
   "outputs": [
    {
     "data": {
      "text/plain": [
       "{3, 588}"
      ]
     },
     "execution_count": 281,
     "metadata": {},
     "output_type": "execute_result"
    }
   ],
   "source": [
    "set([2,3,588,2,3,]) & set(list(range(3,599)))"
   ]
  },
  {
   "cell_type": "code",
   "execution_count": 282,
   "metadata": {},
   "outputs": [
    {
     "data": {
      "text/plain": [
       "set()"
      ]
     },
     "execution_count": 282,
     "metadata": {},
     "output_type": "execute_result"
    }
   ],
   "source": [
    "s.intersection(set([1,3,4,5,5,588]))"
   ]
  },
  {
   "cell_type": "code",
   "execution_count": 283,
   "metadata": {},
   "outputs": [],
   "source": [
    "# во множестве А останутся элементы которые есть во Множ А и В"
   ]
  },
  {
   "cell_type": "code",
   "execution_count": 285,
   "metadata": {},
   "outputs": [],
   "source": [
    "s = set([1,2,3])"
   ]
  },
  {
   "cell_type": "code",
   "execution_count": 286,
   "metadata": {},
   "outputs": [
    {
     "data": {
      "text/plain": [
       "{1, 2}"
      ]
     },
     "execution_count": 286,
     "metadata": {},
     "output_type": "execute_result"
    }
   ],
   "source": [
    "s.intersection_update([1,2,4])\n",
    "s"
   ]
  },
  {
   "cell_type": "code",
   "execution_count": 1,
   "metadata": {},
   "outputs": [],
   "source": [
    "s = set([1,2,3])"
   ]
  },
  {
   "cell_type": "code",
   "execution_count": 2,
   "metadata": {},
   "outputs": [],
   "source": [
    "s &= set([1,6,7])"
   ]
  },
  {
   "cell_type": "code",
   "execution_count": 3,
   "metadata": {},
   "outputs": [
    {
     "data": {
      "text/plain": [
       "{1}"
      ]
     },
     "execution_count": 3,
     "metadata": {},
     "output_type": "execute_result"
    }
   ],
   "source": [
    "s"
   ]
  },
  {
   "cell_type": "code",
   "execution_count": null,
   "metadata": {},
   "outputs": [],
   "source": [
    "# возвращение всех элементов , которых нет сразу в ОБОИХ множествах"
   ]
  },
  {
   "cell_type": "code",
   "execution_count": 290,
   "metadata": {},
   "outputs": [],
   "source": [
    "s = set([1,2,3])"
   ]
  },
  {
   "cell_type": "code",
   "execution_count": 289,
   "metadata": {},
   "outputs": [
    {
     "data": {
      "text/plain": [
       "{2, 7}"
      ]
     },
     "execution_count": 289,
     "metadata": {},
     "output_type": "execute_result"
    }
   ],
   "source": [
    "s ^ set([1,2,7])"
   ]
  },
  {
   "cell_type": "code",
   "execution_count": 291,
   "metadata": {},
   "outputs": [
    {
     "data": {
      "text/plain": [
       "{2, 7}"
      ]
     },
     "execution_count": 291,
     "metadata": {},
     "output_type": "execute_result"
    }
   ],
   "source": [
    "s.symmetric_difference(set([1,3,7]))"
   ]
  },
  {
   "cell_type": "code",
   "execution_count": 292,
   "metadata": {},
   "outputs": [
    {
     "data": {
      "text/plain": [
       "True"
      ]
     },
     "execution_count": 292,
     "metadata": {},
     "output_type": "execute_result"
    }
   ],
   "source": [
    "2 in s"
   ]
  },
  {
   "cell_type": "code",
   "execution_count": 293,
   "metadata": {},
   "outputs": [
    {
     "data": {
      "text/plain": [
       "False"
      ]
     },
     "execution_count": 293,
     "metadata": {},
     "output_type": "execute_result"
    }
   ],
   "source": [
    "1 not in s"
   ]
  },
  {
   "cell_type": "code",
   "execution_count": null,
   "metadata": {},
   "outputs": [],
   "source": [
    "# a <= b входят ли все элементы множества A во множество b "
   ]
  },
  {
   "cell_type": "code",
   "execution_count": 294,
   "metadata": {},
   "outputs": [
    {
     "data": {
      "text/plain": [
       "{1, 2, 3}"
      ]
     },
     "execution_count": 294,
     "metadata": {},
     "output_type": "execute_result"
    }
   ],
   "source": [
    "s"
   ]
  },
  {
   "cell_type": "code",
   "execution_count": 295,
   "metadata": {},
   "outputs": [
    {
     "data": {
      "text/plain": [
       "(False, True)"
      ]
     },
     "execution_count": 295,
     "metadata": {},
     "output_type": "execute_result"
    }
   ],
   "source": [
    "s <= set([1,2]), s <= set([1,2,3,4])"
   ]
  },
  {
   "cell_type": "code",
   "execution_count": null,
   "metadata": {},
   "outputs": [],
   "source": [
    "# проверка на разные множества"
   ]
  },
  {
   "cell_type": "code",
   "execution_count": null,
   "metadata": {},
   "outputs": [],
   "source": [
    "s"
   ]
  },
  {
   "cell_type": "code",
   "execution_count": 4,
   "metadata": {},
   "outputs": [
    {
     "data": {
      "text/plain": [
       "True"
      ]
     },
     "execution_count": 4,
     "metadata": {},
     "output_type": "execute_result"
    }
   ],
   "source": [
    "s.isdisjoint(set([4,5,6]))"
   ]
  },
  {
   "cell_type": "code",
   "execution_count": 5,
   "metadata": {},
   "outputs": [
    {
     "data": {
      "text/plain": [
       "False"
      ]
     },
     "execution_count": 5,
     "metadata": {},
     "output_type": "execute_result"
    }
   ],
   "source": [
    "s.isdisjoint(set([1,5,6]))"
   ]
  },
  {
   "cell_type": "code",
   "execution_count": 296,
   "metadata": {},
   "outputs": [
    {
     "data": {
      "text/plain": [
       "(1, 10, 1)"
      ]
     },
     "execution_count": 296,
     "metadata": {},
     "output_type": "execute_result"
    }
   ],
   "source": [
    "### у диапазона можно найти параметры\n",
    "\n",
    "r = range(1, 10)\n",
    "r.start, r.stop, r.step"
   ]
  },
  {
   "cell_type": "code",
   "execution_count": 2,
   "metadata": {},
   "outputs": [
    {
     "data": {
      "text/plain": [
       "range(0, 10)"
      ]
     },
     "execution_count": 2,
     "metadata": {},
     "output_type": "execute_result"
    }
   ],
   "source": [
    "range(0,10)"
   ]
  },
  {
   "cell_type": "code",
   "execution_count": 3,
   "metadata": {},
   "outputs": [
    {
     "data": {
      "text/plain": [
       "[0, 5, 10]"
      ]
     },
     "execution_count": 3,
     "metadata": {},
     "output_type": "execute_result"
    }
   ],
   "source": [
    "list(range(0, 11, 5))"
   ]
  },
  {
   "cell_type": "code",
   "execution_count": 11,
   "metadata": {},
   "outputs": [],
   "source": [
    "m = 5"
   ]
  },
  {
   "cell_type": "code",
   "execution_count": 6,
   "metadata": {},
   "outputs": [
    {
     "data": {
      "text/plain": [
       "'5'"
      ]
     },
     "execution_count": 6,
     "metadata": {},
     "output_type": "execute_result"
    }
   ],
   "source": [
    "str(m)"
   ]
  },
  {
   "cell_type": "code",
   "execution_count": 8,
   "metadata": {},
   "outputs": [
    {
     "data": {
      "text/plain": [
       "'5'"
      ]
     },
     "execution_count": 8,
     "metadata": {},
     "output_type": "execute_result"
    }
   ],
   "source": [
    "str(m)"
   ]
  },
  {
   "cell_type": "code",
   "execution_count": 6,
   "metadata": {},
   "outputs": [
    {
     "data": {
      "text/plain": [
       "'Abraham Howdy ho'"
      ]
     },
     "execution_count": 6,
     "metadata": {},
     "output_type": "execute_result"
    }
   ],
   "source": [
    "name = 'Abraham'\n",
    "\n",
    "surname = 'Howdy ho'\n",
    "\n",
    "name + ' ' + surname"
   ]
  },
  {
   "cell_type": "code",
   "execution_count": null,
   "metadata": {},
   "outputs": [],
   "source": [
    "5 + 5,0"
   ]
  },
  {
   "cell_type": "code",
   "execution_count": 17,
   "metadata": {},
   "outputs": [
    {
     "name": "stdout",
     "output_type": "stream",
     "text": [
      "hello\n",
      "hello\n",
      "hello 'world\n",
      "hello \n",
      "world\n"
     ]
    }
   ],
   "source": [
    "print(\"hello\")\n",
    "print('hello')\n",
    "print('hello \\'world')\n",
    "print('hello \\nworld')"
   ]
  },
  {
   "cell_type": "code",
   "execution_count": 44,
   "metadata": {},
   "outputs": [
    {
     "name": "stdout",
     "output_type": "stream",
     "text": [
      "Время за полночь, и мне осталось три пути: \n",
      "Не один ли бес, куда ступать, зачем идти —\n",
      "Опустились руки, поднялись корни.\n",
      "Монету на удачу, руку чёрт не дёрни.\n",
      "Первая дорога – сидеть, ждать смирно,\n",
      "Быть каменно спокойным, быть абсолютно мирным.\n",
      "Только ветер знает, сколько нужно силы,\n",
      "Чтобы не слететь с катушек и ждать судьбы красиво!\n"
     ]
    }
   ],
   "source": [
    "print('Время за полночь, и мне осталось три пути: \\nНе один ли бес, куда ступать, зачем идти —'\n",
    "'\\nОпустились руки, поднялись корни.\\nМонету на удачу, руку чёрт не дёрни.'\n",
    "'\\nПервая дорога – сидеть, ждать смирно,\\nБыть каменно спокойным, быть абсолютно мирным.'\n",
    "'\\nТолько ветер знает, сколько нужно силы,\\nЧтобы не слететь с катушек и ждать судьбы красиво!')"
   ]
  },
  {
   "cell_type": "code",
   "execution_count": 19,
   "metadata": {
    "scrolled": true
   },
   "outputs": [
    {
     "name": "stdout",
     "output_type": "stream",
     "text": [
      "Ваше имя? :Abraham\n",
      "Ваше имя Abraham\n"
     ]
    }
   ],
   "source": [
    "name = input('Ваше имя? :')\n",
    "print('Ваше имя ' + name)"
   ]
  },
  {
   "cell_type": "code",
   "execution_count": 20,
   "metadata": {},
   "outputs": [
    {
     "data": {
      "text/plain": [
       "34"
      ]
     },
     "execution_count": 20,
     "metadata": {},
     "output_type": "execute_result"
    }
   ],
   "source": [
    "int('3'+'4')"
   ]
  },
  {
   "cell_type": "code",
   "execution_count": 21,
   "metadata": {},
   "outputs": [
    {
     "name": "stdout",
     "output_type": "stream",
     "text": [
      "34\n"
     ]
    }
   ],
   "source": [
    "print('3'+'4')"
   ]
  },
  {
   "cell_type": "code",
   "execution_count": 22,
   "metadata": {},
   "outputs": [
    {
     "data": {
      "text/plain": [
       "210210.0"
      ]
     },
     "execution_count": 22,
     "metadata": {},
     "output_type": "execute_result"
    }
   ],
   "source": [
    " float('210' * int('2'))"
   ]
  },
  {
   "cell_type": "code",
   "execution_count": 23,
   "metadata": {
    "scrolled": true
   },
   "outputs": [
    {
     "name": "stdout",
     "output_type": "stream",
     "text": [
      "37\n"
     ]
    }
   ],
   "source": [
    "test = 100\n",
    "test -= 63\n",
    "print(test)"
   ]
  },
  {
   "cell_type": "code",
   "execution_count": 24,
   "metadata": {
    "scrolled": true
   },
   "outputs": [
    {
     "data": {
      "text/plain": [
       "1076.0"
      ]
     },
     "execution_count": 24,
     "metadata": {},
     "output_type": "execute_result"
    }
   ],
   "source": [
    "2000 - 2 ** 10 + 1000 / 10"
   ]
  },
  {
   "cell_type": "code",
   "execution_count": 25,
   "metadata": {},
   "outputs": [
    {
     "data": {
      "text/plain": [
       "2121"
      ]
     },
     "execution_count": 25,
     "metadata": {},
     "output_type": "execute_result"
    }
   ],
   "source": [
    "x = [12345,2121,1221]\n",
    "x[1]"
   ]
  },
  {
   "cell_type": "code",
   "execution_count": 27,
   "metadata": {
    "scrolled": true
   },
   "outputs": [
    {
     "data": {
      "text/plain": [
       "0"
      ]
     },
     "execution_count": 27,
     "metadata": {},
     "output_type": "execute_result"
    }
   ],
   "source": [
    "10 % 5"
   ]
  },
  {
   "cell_type": "code",
   "execution_count": 30,
   "metadata": {
    "scrolled": true
   },
   "outputs": [
    {
     "data": {
      "text/plain": [
       "3"
      ]
     },
     "execution_count": 30,
     "metadata": {},
     "output_type": "execute_result"
    }
   ],
   "source": [
    "10 // 3"
   ]
  },
  {
   "cell_type": "code",
   "execution_count": 31,
   "metadata": {},
   "outputs": [
    {
     "data": {
      "text/plain": [
       "1"
      ]
     },
     "execution_count": 31,
     "metadata": {},
     "output_type": "execute_result"
    }
   ],
   "source": [
    "10 % 3"
   ]
  },
  {
   "cell_type": "code",
   "execution_count": 7,
   "metadata": {},
   "outputs": [
    {
     "data": {
      "text/plain": [
       "5"
      ]
     },
     "execution_count": 7,
     "metadata": {},
     "output_type": "execute_result"
    }
   ],
   "source": [
    "round(5)"
   ]
  },
  {
   "cell_type": "code",
   "execution_count": 8,
   "metadata": {},
   "outputs": [
    {
     "data": {
      "text/plain": [
       "5.35"
      ]
     },
     "execution_count": 8,
     "metadata": {},
     "output_type": "execute_result"
    }
   ],
   "source": [
    "round(5.34785,2)"
   ]
  },
  {
   "cell_type": "code",
   "execution_count": 9,
   "metadata": {},
   "outputs": [
    {
     "data": {
      "text/plain": [
       "'2321321\\ndsadsada\\nfdfds\\nfsdfs'"
      ]
     },
     "execution_count": 9,
     "metadata": {},
     "output_type": "execute_result"
    }
   ],
   "source": [
    "'''2321321\n",
    "dsadsada\n",
    "fdfds\n",
    "fsdfs'''"
   ]
  },
  {
   "cell_type": "code",
   "execution_count": 10,
   "metadata": {},
   "outputs": [
    {
     "data": {
      "text/plain": [
       "'hellohello'"
      ]
     },
     "execution_count": 10,
     "metadata": {},
     "output_type": "execute_result"
    }
   ],
   "source": [
    "'hello' * 2"
   ]
  },
  {
   "cell_type": "code",
   "execution_count": 11,
   "metadata": {},
   "outputs": [
    {
     "data": {
      "text/plain": [
       "'hello, world!'"
      ]
     },
     "execution_count": 11,
     "metadata": {},
     "output_type": "execute_result"
    }
   ],
   "source": [
    "'hello, ' + 'world!'"
   ]
  },
  {
   "cell_type": "code",
   "execution_count": 12,
   "metadata": {},
   "outputs": [
    {
     "data": {
      "text/plain": [
       "True"
      ]
     },
     "execution_count": 12,
     "metadata": {},
     "output_type": "execute_result"
    }
   ],
   "source": [
    "'qwerty' > 'qwert'"
   ]
  },
  {
   "cell_type": "code",
   "execution_count": 13,
   "metadata": {},
   "outputs": [],
   "source": [
    "x = y =[1, 2]"
   ]
  },
  {
   "cell_type": "code",
   "execution_count": 33,
   "metadata": {},
   "outputs": [
    {
     "data": {
      "text/plain": [
       "True"
      ]
     },
     "execution_count": 33,
     "metadata": {},
     "output_type": "execute_result"
    }
   ],
   "source": [
    "x is y"
   ]
  },
  {
   "cell_type": "code",
   "execution_count": 36,
   "metadata": {},
   "outputs": [
    {
     "data": {
      "text/plain": [
       "([1, 100], [1, 100])"
      ]
     },
     "execution_count": 36,
     "metadata": {},
     "output_type": "execute_result"
    }
   ],
   "source": [
    "x,y"
   ]
  },
  {
   "cell_type": "code",
   "execution_count": 38,
   "metadata": {},
   "outputs": [],
   "source": [
    "x = [1, 2]\n",
    "y = [1, 2]"
   ]
  },
  {
   "cell_type": "code",
   "execution_count": 39,
   "metadata": {},
   "outputs": [
    {
     "data": {
      "text/plain": [
       "([1, 2], [1, 100])"
      ]
     },
     "execution_count": 39,
     "metadata": {},
     "output_type": "execute_result"
    }
   ],
   "source": [
    "y[1] = 100\n",
    "\n",
    "x,y"
   ]
  },
  {
   "cell_type": "code",
   "execution_count": 40,
   "metadata": {},
   "outputs": [
    {
     "data": {
      "text/plain": [
       "False"
      ]
     },
     "execution_count": 40,
     "metadata": {},
     "output_type": "execute_result"
    }
   ],
   "source": [
    "x is y"
   ]
  },
  {
   "cell_type": "code",
   "execution_count": 41,
   "metadata": {},
   "outputs": [],
   "source": [
    "x, y = 1, 2"
   ]
  },
  {
   "cell_type": "code",
   "execution_count": 42,
   "metadata": {},
   "outputs": [],
   "source": [
    "x, y = y, x"
   ]
  },
  {
   "cell_type": "code",
   "execution_count": 43,
   "metadata": {},
   "outputs": [
    {
     "data": {
      "text/plain": [
       "(2, 1)"
      ]
     },
     "execution_count": 43,
     "metadata": {},
     "output_type": "execute_result"
    }
   ],
   "source": [
    "x, y"
   ]
  },
  {
   "cell_type": "code",
   "execution_count": 44,
   "metadata": {},
   "outputs": [],
   "source": [
    "x,y,z = '123'"
   ]
  },
  {
   "cell_type": "code",
   "execution_count": 45,
   "metadata": {},
   "outputs": [
    {
     "data": {
      "text/plain": [
       "('1', '2', '3')"
      ]
     },
     "execution_count": 45,
     "metadata": {},
     "output_type": "execute_result"
    }
   ],
   "source": [
    "x,y,z"
   ]
  },
  {
   "cell_type": "code",
   "execution_count": 46,
   "metadata": {},
   "outputs": [
    {
     "data": {
      "text/plain": [
       "10"
      ]
     },
     "execution_count": 46,
     "metadata": {},
     "output_type": "execute_result"
    }
   ],
   "source": [
    "int('A',16)"
   ]
  },
  {
   "cell_type": "code",
   "execution_count": 60,
   "metadata": {},
   "outputs": [
    {
     "data": {
      "text/plain": [
       "True"
      ]
     },
     "execution_count": 60,
     "metadata": {},
     "output_type": "execute_result"
    }
   ],
   "source": [
    "x=2;y=2;z=2\n",
    "x is y"
   ]
  },
  {
   "cell_type": "code",
   "execution_count": 61,
   "metadata": {},
   "outputs": [
    {
     "data": {
      "text/plain": [
       "False"
      ]
     },
     "execution_count": 61,
     "metadata": {},
     "output_type": "execute_result"
    }
   ],
   "source": [
    "bool(0)"
   ]
  },
  {
   "cell_type": "code",
   "execution_count": 63,
   "metadata": {},
   "outputs": [
    {
     "data": {
      "text/plain": [
       "True"
      ]
     },
     "execution_count": 63,
     "metadata": {},
     "output_type": "execute_result"
    }
   ],
   "source": [
    "bool(10 and 20)"
   ]
  },
  {
   "cell_type": "code",
   "execution_count": 64,
   "metadata": {},
   "outputs": [
    {
     "data": {
      "text/plain": [
       "(20, 0, 0)"
      ]
     },
     "execution_count": 64,
     "metadata": {},
     "output_type": "execute_result"
    }
   ],
   "source": [
    "10 and 20, 0 and 20, 10 and 0"
   ]
  },
  {
   "cell_type": "code",
   "execution_count": 74,
   "metadata": {},
   "outputs": [
    {
     "data": {
      "text/plain": [
       "dict_keys(['x', 'y', 'z'])"
      ]
     },
     "execution_count": 74,
     "metadata": {},
     "output_type": "execute_result"
    }
   ],
   "source": [
    "arr = {'x':1, 'y':2, 'z':3}\n",
    "arr.keys()"
   ]
  },
  {
   "cell_type": "code",
   "execution_count": 75,
   "metadata": {},
   "outputs": [
    {
     "name": "stdout",
     "output_type": "stream",
     "text": [
      "x 1\n",
      "y 2\n",
      "z 3\n"
     ]
    }
   ],
   "source": [
    "for key in arr.keys():\n",
    "    print(key,arr[key])"
   ]
  },
  {
   "cell_type": "code",
   "execution_count": 76,
   "metadata": {},
   "outputs": [
    {
     "data": {
      "text/plain": [
       "(2, 1)"
      ]
     },
     "execution_count": 76,
     "metadata": {},
     "output_type": "execute_result"
    }
   ],
   "source": [
    "arr = [1, 2]\n",
    "obj = enumerate(arr, start=2)\n",
    "next(obj)"
   ]
  },
  {
   "cell_type": "code",
   "execution_count": 77,
   "metadata": {},
   "outputs": [
    {
     "name": "stdout",
     "output_type": "stream",
     "text": [
      "(0, 16)\n",
      "(1, 46)\n",
      "(2, 26)\n",
      "(3, 36)\n"
     ]
    }
   ],
   "source": [
    "spisok = [16, 46, 26, 36]\n",
    "for i in enumerate(spisok):\n",
    "    print(i)"
   ]
  },
  {
   "cell_type": "code",
   "execution_count": 82,
   "metadata": {},
   "outputs": [
    {
     "name": "stdout",
     "output_type": "stream",
     "text": [
      "STROka\n"
     ]
    }
   ],
   "source": [
    "print('stroKA'.swapcase())"
   ]
  },
  {
   "cell_type": "code",
   "execution_count": 83,
   "metadata": {},
   "outputs": [
    {
     "data": {
      "text/plain": [
       "(0, 14, -1)"
      ]
     },
     "execution_count": 83,
     "metadata": {},
     "output_type": "execute_result"
    }
   ],
   "source": [
    "s = 'пример пример Пример'\n",
    "s.find('при'),s.find('При'),s.find('тест')"
   ]
  },
  {
   "cell_type": "code",
   "execution_count": 84,
   "metadata": {},
   "outputs": [
    {
     "name": "stdout",
     "output_type": "stream",
     "text": [
      "Привет, Вася\n"
     ]
    }
   ],
   "source": [
    "s = 'Привет, Петя'\n",
    "print(s.replace('Петя', 'Вася'))"
   ]
  },
  {
   "cell_type": "code",
   "execution_count": 85,
   "metadata": {},
   "outputs": [
    {
     "data": {
      "text/plain": [
       "False"
      ]
     },
     "execution_count": 85,
     "metadata": {},
     "output_type": "execute_result"
    }
   ],
   "source": [
    "'11s'.isidentifier()"
   ]
  },
  {
   "cell_type": "code",
   "execution_count": 86,
   "metadata": {},
   "outputs": [
    {
     "data": {
      "text/plain": [
       "False"
      ]
     },
     "execution_count": 86,
     "metadata": {},
     "output_type": "execute_result"
    }
   ],
   "source": [
    "x = 'sdf12321'\n",
    "\n",
    "x[1:].isdigit()"
   ]
  },
  {
   "cell_type": "code",
   "execution_count": 88,
   "metadata": {},
   "outputs": [],
   "source": [
    "x =[1,2,3,4,5]\n",
    "y=x.copy()"
   ]
  },
  {
   "cell_type": "code",
   "execution_count": 89,
   "metadata": {},
   "outputs": [
    {
     "data": {
      "text/plain": [
       "[1, 2, 3, 4, 5]"
      ]
     },
     "execution_count": 89,
     "metadata": {},
     "output_type": "execute_result"
    }
   ],
   "source": [
    "y"
   ]
  },
  {
   "cell_type": "code",
   "execution_count": 90,
   "metadata": {},
   "outputs": [
    {
     "data": {
      "text/plain": [
       "False"
      ]
     },
     "execution_count": 90,
     "metadata": {},
     "output_type": "execute_result"
    }
   ],
   "source": [
    "x is y"
   ]
  },
  {
   "cell_type": "code",
   "execution_count": 92,
   "metadata": {},
   "outputs": [
    {
     "data": {
      "text/plain": [
       "'atac'"
      ]
     },
     "execution_count": 92,
     "metadata": {},
     "output_type": "execute_result"
    }
   ],
   "source": [
    "arr = [\n",
    "    [1,2,3],\n",
    "    ['str','atac',4],\n",
    "    [5,6,7]\n",
    "]\n",
    "\n",
    "arr\n",
    "\n",
    "arr[1][1]"
   ]
  },
  {
   "cell_type": "code",
   "execution_count": 93,
   "metadata": {},
   "outputs": [
    {
     "name": "stdout",
     "output_type": "stream",
     "text": [
      "[2, 4, 6, 8]\n"
     ]
    }
   ],
   "source": [
    "arr = [1, 2, 3, 4]\n",
    "for i in range(len(arr)):\n",
    "    arr[i] *= 2\n",
    "print(arr)"
   ]
  },
  {
   "cell_type": "code",
   "execution_count": 94,
   "metadata": {},
   "outputs": [
    {
     "name": "stdout",
     "output_type": "stream",
     "text": [
      "[2, 4, 6, 8]\n"
     ]
    }
   ],
   "source": [
    "arr = [1, 2, 3, 4]\n",
    "arr = [ i * 2 for i in arr ]\n",
    "print(arr)"
   ]
  },
  {
   "cell_type": "code",
   "execution_count": 97,
   "metadata": {},
   "outputs": [
    {
     "data": {
      "text/plain": [
       "{2: 0, 4: 1, 6: 2, 8: 3}"
      ]
     },
     "execution_count": 97,
     "metadata": {},
     "output_type": "execute_result"
    }
   ],
   "source": [
    "{k:v for v, k in enumerate(arr)} #GENERATOR dictionary u know yep"
   ]
  },
  {
   "cell_type": "code",
   "execution_count": 98,
   "metadata": {},
   "outputs": [
    {
     "name": "stdout",
     "output_type": "stream",
     "text": [
      "[11, 12, 13, 14, 15]\n"
     ]
    }
   ],
   "source": [
    "def func(elem):\n",
    "    return elem + 10\n",
    "arr = [1, 2, 3, 4, 5]\n",
    "print(list(map(func,arr)))"
   ]
  },
  {
   "cell_type": "code",
   "execution_count": 99,
   "metadata": {},
   "outputs": [
    {
     "data": {
      "text/plain": [
       "[(1, 4, 7), (2, 5, 8), (3, 6, 9)]"
      ]
     },
     "execution_count": 99,
     "metadata": {},
     "output_type": "execute_result"
    }
   ],
   "source": [
    "list(zip([1,2,3],[4,5,6],[7,8,9]))"
   ]
  },
  {
   "cell_type": "code",
   "execution_count": 100,
   "metadata": {},
   "outputs": [
    {
     "data": {
      "text/plain": [
       "[(1, 4, 7), (2, 6, 8)]"
      ]
     },
     "execution_count": 100,
     "metadata": {},
     "output_type": "execute_result"
    }
   ],
   "source": [
    "list(zip([1,2,3],[4,6],[7,8,9,10])) #  во втором списке 2 эл-та, zip Дал кол-во списков = числу мин.эл"
   ]
  },
  {
   "cell_type": "code",
   "execution_count": 102,
   "metadata": {},
   "outputs": [
    {
     "data": {
      "text/plain": [
       "[1, 2, 3, 4]"
      ]
     },
     "execution_count": 102,
     "metadata": {},
     "output_type": "execute_result"
    }
   ],
   "source": [
    "arr = [1,1,2,3,4]\n",
    "\n",
    "arr.remove(1)\n",
    "\n",
    "arr"
   ]
  },
  {
   "cell_type": "code",
   "execution_count": 104,
   "metadata": {},
   "outputs": [
    {
     "data": {
      "text/plain": [
       "True"
      ]
     },
     "execution_count": 104,
     "metadata": {},
     "output_type": "execute_result"
    }
   ],
   "source": [
    "all(['str', 10])"
   ]
  },
  {
   "cell_type": "code",
   "execution_count": 105,
   "metadata": {},
   "outputs": [
    {
     "data": {
      "text/plain": [
       "True"
      ]
     },
     "execution_count": 105,
     "metadata": {},
     "output_type": "execute_result"
    }
   ],
   "source": [
    "all([])"
   ]
  },
  {
   "cell_type": "code",
   "execution_count": 106,
   "metadata": {},
   "outputs": [
    {
     "data": {
      "text/plain": [
       "<list_reverseiterator at 0x1cc85d92df0>"
      ]
     },
     "execution_count": 106,
     "metadata": {},
     "output_type": "execute_result"
    }
   ],
   "source": [
    "reversed(arr)"
   ]
  },
  {
   "cell_type": "code",
   "execution_count": 107,
   "metadata": {},
   "outputs": [
    {
     "data": {
      "text/plain": [
       "[1, 2, 1, 2, 1]"
      ]
     },
     "execution_count": 107,
     "metadata": {},
     "output_type": "execute_result"
    }
   ],
   "source": [
    "list(reversed(arr))"
   ]
  },
  {
   "cell_type": "code",
   "execution_count": 108,
   "metadata": {},
   "outputs": [],
   "source": [
    "arr.insert(0, 999)"
   ]
  },
  {
   "cell_type": "code",
   "execution_count": 109,
   "metadata": {},
   "outputs": [
    {
     "data": {
      "text/plain": [
       "[999, 1, 2, 1, 2, 1]"
      ]
     },
     "execution_count": 109,
     "metadata": {},
     "output_type": "execute_result"
    }
   ],
   "source": [
    "arr"
   ]
  },
  {
   "cell_type": "code",
   "execution_count": 113,
   "metadata": {},
   "outputs": [
    {
     "data": {
      "text/plain": [
       "'t'"
      ]
     },
     "execution_count": 113,
     "metadata": {},
     "output_type": "execute_result"
    }
   ],
   "source": [
    "import random\n",
    "\n",
    "random.choice(['s','t','r','n'])"
   ]
  },
  {
   "cell_type": "code",
   "execution_count": 116,
   "metadata": {
    "scrolled": true
   },
   "outputs": [
    {
     "data": {
      "text/plain": [
       "[9, 7, 6, 5, 4, 3, 2, 1]"
      ]
     },
     "execution_count": 116,
     "metadata": {},
     "output_type": "execute_result"
    }
   ],
   "source": [
    "arr = [2, 7, 4, 9 , 3, 1, 5, 6]\n",
    "arr.sort(reverse = True)\n",
    "\n",
    "arr"
   ]
  },
  {
   "cell_type": "code",
   "execution_count": 117,
   "metadata": {},
   "outputs": [],
   "source": [
    "arr = [2, 9, 0 ,588 ,1488]"
   ]
  },
  {
   "cell_type": "code",
   "execution_count": 118,
   "metadata": {},
   "outputs": [],
   "source": [
    "arr.sort()"
   ]
  },
  {
   "cell_type": "code",
   "execution_count": 119,
   "metadata": {},
   "outputs": [
    {
     "data": {
      "text/plain": [
       "[0, 2, 9, 588, 1488]"
      ]
     },
     "execution_count": 119,
     "metadata": {},
     "output_type": "execute_result"
    }
   ],
   "source": [
    "arr"
   ]
  },
  {
   "cell_type": "code",
   "execution_count": 120,
   "metadata": {},
   "outputs": [],
   "source": [
    "arr.sort(reverse=True)"
   ]
  },
  {
   "cell_type": "code",
   "execution_count": 121,
   "metadata": {},
   "outputs": [
    {
     "data": {
      "text/plain": [
       "[1488, 588, 9, 2, 0]"
      ]
     },
     "execution_count": 121,
     "metadata": {},
     "output_type": "execute_result"
    }
   ],
   "source": [
    "arr"
   ]
  },
  {
   "cell_type": "code",
   "execution_count": 122,
   "metadata": {},
   "outputs": [],
   "source": [
    "arr.sort(reverse=False)"
   ]
  },
  {
   "cell_type": "code",
   "execution_count": 123,
   "metadata": {},
   "outputs": [
    {
     "data": {
      "text/plain": [
       "[0, 2, 9, 588, 1488]"
      ]
     },
     "execution_count": 123,
     "metadata": {},
     "output_type": "execute_result"
    }
   ],
   "source": [
    "arr"
   ]
  },
  {
   "cell_type": "code",
   "execution_count": 124,
   "metadata": {},
   "outputs": [
    {
     "name": "stdout",
     "output_type": "stream",
     "text": [
      "аргум1 аргумен аргумент аргумент100 "
     ]
    }
   ],
   "source": [
    "arr = ['аргумент','аргумен','аргум1','аргумент100']\n",
    "arr.sort(key=str.lower)\n",
    "for i in arr:\n",
    "    print(i, end=' ')"
   ]
  },
  {
   "cell_type": "code",
   "execution_count": 125,
   "metadata": {},
   "outputs": [
    {
     "data": {
      "text/plain": [
       "['аргум1', 'аргумен', 'аргумент', 'аргумент100']"
      ]
     },
     "execution_count": 125,
     "metadata": {},
     "output_type": "execute_result"
    }
   ],
   "source": [
    "sorted(arr)"
   ]
  },
  {
   "cell_type": "code",
   "execution_count": 127,
   "metadata": {},
   "outputs": [
    {
     "data": {
      "text/plain": [
       "('3', [4])"
      ]
     },
     "execution_count": 127,
     "metadata": {},
     "output_type": "execute_result"
    }
   ],
   "source": [
    "'1232121'[2],[4]"
   ]
  },
  {
   "cell_type": "code",
   "execution_count": 128,
   "metadata": {},
   "outputs": [
    {
     "data": {
      "text/plain": [
       "'ert'"
      ]
     },
     "execution_count": 128,
     "metadata": {},
     "output_type": "execute_result"
    }
   ],
   "source": [
    "'qwerty'[2:-1]"
   ]
  },
  {
   "cell_type": "code",
   "execution_count": 129,
   "metadata": {},
   "outputs": [
    {
     "data": {
      "text/plain": [
       "'sfssf'"
      ]
     },
     "execution_count": 129,
     "metadata": {},
     "output_type": "execute_result"
    }
   ],
   "source": [
    "'sdfdsfsdfsdfsd'[0:10:2]"
   ]
  },
  {
   "cell_type": "code",
   "execution_count": 130,
   "metadata": {},
   "outputs": [
    {
     "data": {
      "text/plain": [
       "'2'"
      ]
     },
     "execution_count": 130,
     "metadata": {},
     "output_type": "execute_result"
    }
   ],
   "source": [
    "'1232312'[1]"
   ]
  },
  {
   "cell_type": "code",
   "execution_count": 131,
   "metadata": {},
   "outputs": [
    {
     "data": {
      "text/plain": [
       "'123'"
      ]
     },
     "execution_count": 131,
     "metadata": {},
     "output_type": "execute_result"
    }
   ],
   "source": [
    "x = '1232121'\n",
    "x[0]+x[1]+x[2]"
   ]
  },
  {
   "cell_type": "code",
   "execution_count": 132,
   "metadata": {},
   "outputs": [],
   "source": [
    "x = int(x)"
   ]
  },
  {
   "cell_type": "code",
   "execution_count": 133,
   "metadata": {},
   "outputs": [
    {
     "data": {
      "text/plain": [
       "1232121"
      ]
     },
     "execution_count": 133,
     "metadata": {},
     "output_type": "execute_result"
    }
   ],
   "source": [
    "x"
   ]
  },
  {
   "cell_type": "code",
   "execution_count": 134,
   "metadata": {},
   "outputs": [
    {
     "data": {
      "text/plain": [
       "'123456'"
      ]
     },
     "execution_count": 134,
     "metadata": {},
     "output_type": "execute_result"
    }
   ],
   "source": [
    "'123456'[:]"
   ]
  },
  {
   "cell_type": "code",
   "execution_count": 135,
   "metadata": {},
   "outputs": [
    {
     "name": "stdout",
     "output_type": "stream",
     "text": [
      "['Love', 'thy', 'neighbor']\n"
     ]
    }
   ],
   "source": [
    "text = 'Love thy neighbor'\n",
    "print(text.split())"
   ]
  },
  {
   "cell_type": "code",
   "execution_count": 136,
   "metadata": {},
   "outputs": [
    {
     "name": "stdout",
     "output_type": "stream",
     "text": [
      "['Love thy neighbor']\n"
     ]
    }
   ],
   "source": [
    "print(text.split(', '))"
   ]
  },
  {
   "cell_type": "code",
   "execution_count": 137,
   "metadata": {},
   "outputs": [
    {
     "name": "stdout",
     "output_type": "stream",
     "text": [
      "<class 'str'>\n",
      "<class 'str'>\n"
     ]
    }
   ],
   "source": [
    "x = '121212'\n",
    "x.isnumeric()\n",
    "print(type(x))\n",
    "int(x)\n",
    "print(type(x))"
   ]
  },
  {
   "cell_type": "code",
   "execution_count": 138,
   "metadata": {},
   "outputs": [
    {
     "data": {
      "text/plain": [
       "'Love thy neighbor'"
      ]
     },
     "execution_count": 138,
     "metadata": {},
     "output_type": "execute_result"
    }
   ],
   "source": [
    "text"
   ]
  },
  {
   "cell_type": "code",
   "execution_count": 140,
   "metadata": {},
   "outputs": [
    {
     "data": {
      "text/plain": [
       "'Seigherstorm Gust'"
      ]
     },
     "execution_count": 140,
     "metadata": {},
     "output_type": "execute_result"
    }
   ],
   "source": [
    "t = 'Storm Gust'\n",
    "t.replace('S' , 'Seighers')"
   ]
  },
  {
   "cell_type": "code",
   "execution_count": 141,
   "metadata": {},
   "outputs": [],
   "source": [
    "text = 'Toyota Camry'"
   ]
  },
  {
   "cell_type": "code",
   "execution_count": 142,
   "metadata": {},
   "outputs": [
    {
     "data": {
      "text/plain": [
       "'Toyota Camry'"
      ]
     },
     "execution_count": 142,
     "metadata": {},
     "output_type": "execute_result"
    }
   ],
   "source": [
    "text"
   ]
  },
  {
   "cell_type": "code",
   "execution_count": 143,
   "metadata": {},
   "outputs": [
    {
     "data": {
      "text/plain": [
       "4"
      ]
     },
     "execution_count": 143,
     "metadata": {},
     "output_type": "execute_result"
    }
   ],
   "source": [
    "text.find('t')"
   ]
  },
  {
   "cell_type": "code",
   "execution_count": 144,
   "metadata": {},
   "outputs": [
    {
     "data": {
      "text/plain": [
       "10"
      ]
     },
     "execution_count": 144,
     "metadata": {},
     "output_type": "execute_result"
    }
   ],
   "source": [
    "text.rfind('r')"
   ]
  },
  {
   "cell_type": "code",
   "execution_count": 145,
   "metadata": {},
   "outputs": [
    {
     "data": {
      "text/plain": [
       "10"
      ]
     },
     "execution_count": 145,
     "metadata": {},
     "output_type": "execute_result"
    }
   ],
   "source": [
    "text.find('r')"
   ]
  },
  {
   "cell_type": "code",
   "execution_count": 146,
   "metadata": {},
   "outputs": [
    {
     "data": {
      "text/plain": [
       "2"
      ]
     },
     "execution_count": 146,
     "metadata": {},
     "output_type": "execute_result"
    }
   ],
   "source": [
    "text.find('y')"
   ]
  },
  {
   "cell_type": "code",
   "execution_count": 147,
   "metadata": {},
   "outputs": [
    {
     "data": {
      "text/plain": [
       "11"
      ]
     },
     "execution_count": 147,
     "metadata": {},
     "output_type": "execute_result"
    }
   ],
   "source": [
    "text.rfind('y')"
   ]
  },
  {
   "cell_type": "code",
   "execution_count": 148,
   "metadata": {},
   "outputs": [
    {
     "data": {
      "text/plain": [
       "'Coyota Camry'"
      ]
     },
     "execution_count": 148,
     "metadata": {},
     "output_type": "execute_result"
    }
   ],
   "source": [
    "text.replace('T', 'C')"
   ]
  },
  {
   "cell_type": "code",
   "execution_count": 149,
   "metadata": {},
   "outputs": [
    {
     "data": {
      "text/plain": [
       "'Toyota Camry'"
      ]
     },
     "execution_count": 149,
     "metadata": {},
     "output_type": "execute_result"
    }
   ],
   "source": [
    "text"
   ]
  },
  {
   "cell_type": "code",
   "execution_count": 153,
   "metadata": {},
   "outputs": [
    {
     "data": {
      "text/plain": [
       "'Tayata Mark II'"
      ]
     },
     "execution_count": 153,
     "metadata": {},
     "output_type": "execute_result"
    }
   ],
   "source": [
    "text = text.replace('o', 'a')\n",
    "text"
   ]
  },
  {
   "cell_type": "code",
   "execution_count": 150,
   "metadata": {},
   "outputs": [
    {
     "data": {
      "text/plain": [
       "'TOYOTA CAMRY'"
      ]
     },
     "execution_count": 150,
     "metadata": {},
     "output_type": "execute_result"
    }
   ],
   "source": [
    "text.upper()"
   ]
  },
  {
   "cell_type": "code",
   "execution_count": 154,
   "metadata": {},
   "outputs": [],
   "source": [
    "text = 'Toyota Mark II'"
   ]
  },
  {
   "cell_type": "code",
   "execution_count": 152,
   "metadata": {},
   "outputs": [
    {
     "data": {
      "text/plain": [
       "'Toyota Mark II'"
      ]
     },
     "execution_count": 152,
     "metadata": {},
     "output_type": "execute_result"
    }
   ],
   "source": [
    "text"
   ]
  },
  {
   "cell_type": "code",
   "execution_count": 155,
   "metadata": {},
   "outputs": [
    {
     "data": {
      "text/plain": [
       "False"
      ]
     },
     "execution_count": 155,
     "metadata": {},
     "output_type": "execute_result"
    }
   ],
   "source": [
    "text.isalpha()"
   ]
  },
  {
   "cell_type": "code",
   "execution_count": 156,
   "metadata": {},
   "outputs": [],
   "source": [
    "text = 'Toyota'"
   ]
  },
  {
   "cell_type": "code",
   "execution_count": 157,
   "metadata": {},
   "outputs": [
    {
     "data": {
      "text/plain": [
       "True"
      ]
     },
     "execution_count": 157,
     "metadata": {},
     "output_type": "execute_result"
    }
   ],
   "source": [
    "text.isalpha()"
   ]
  },
  {
   "cell_type": "code",
   "execution_count": 158,
   "metadata": {},
   "outputs": [],
   "source": [
    "text = 'Toyota '"
   ]
  },
  {
   "cell_type": "code",
   "execution_count": 159,
   "metadata": {},
   "outputs": [
    {
     "data": {
      "text/plain": [
       "False"
      ]
     },
     "execution_count": 159,
     "metadata": {},
     "output_type": "execute_result"
    }
   ],
   "source": [
    "text.isalpha()"
   ]
  },
  {
   "cell_type": "code",
   "execution_count": 160,
   "metadata": {},
   "outputs": [],
   "source": [
    "text = '12321'"
   ]
  },
  {
   "cell_type": "code",
   "execution_count": 161,
   "metadata": {},
   "outputs": [
    {
     "data": {
      "text/plain": [
       "True"
      ]
     },
     "execution_count": 161,
     "metadata": {},
     "output_type": "execute_result"
    }
   ],
   "source": [
    "text.isnumeric()"
   ]
  },
  {
   "cell_type": "code",
   "execution_count": 162,
   "metadata": {},
   "outputs": [],
   "source": [
    "text = '12345  '"
   ]
  },
  {
   "cell_type": "code",
   "execution_count": 163,
   "metadata": {},
   "outputs": [
    {
     "data": {
      "text/plain": [
       "False"
      ]
     },
     "execution_count": 163,
     "metadata": {},
     "output_type": "execute_result"
    }
   ],
   "source": [
    "text.isnumeric()"
   ]
  },
  {
   "cell_type": "code",
   "execution_count": 164,
   "metadata": {},
   "outputs": [],
   "source": [
    "text = '1234_234'"
   ]
  },
  {
   "cell_type": "code",
   "execution_count": 165,
   "metadata": {},
   "outputs": [
    {
     "data": {
      "text/plain": [
       "False"
      ]
     },
     "execution_count": 165,
     "metadata": {},
     "output_type": "execute_result"
    }
   ],
   "source": [
    "text.isnumeric()"
   ]
  },
  {
   "cell_type": "code",
   "execution_count": 166,
   "metadata": {},
   "outputs": [
    {
     "name": "stdout",
     "output_type": "stream",
     "text": [
      "vvedite chisla: 213125\n",
      "['2', '1', '3', '1', '2', '5']\n"
     ]
    },
    {
     "data": {
      "text/plain": [
       "list"
      ]
     },
     "execution_count": 166,
     "metadata": {},
     "output_type": "execute_result"
    }
   ],
   "source": [
    "text = input('vvedite chisla: ')\n",
    "text = list(text)\n",
    "print(text)\n",
    "type(text)"
   ]
  },
  {
   "cell_type": "code",
   "execution_count": 167,
   "metadata": {},
   "outputs": [
    {
     "name": "stdout",
     "output_type": "stream",
     "text": [
      "['Nakemaru', '1', '2', '3', 'Gumi']\n",
      "['Nakemaru', 'Creators', '1', '2', '3', 'Gumi']\n",
      "['Nakemaru', 'Creators', '1', '2', '3', 'Gumi', '1', '2', '588', '44440']\n",
      "['Nakemaru', 'Creators', '2', '3', 'Gumi', '1', '2', '588', '44440']\n",
      "['Nakemaru', 'Creators', '2', '3', 'Gumi', '1', '2', '588']\n",
      "2\n",
      "['588', '2', '1', 'Gumi', '3', '2', 'Creators', 'Nakemaru']\n"
     ]
    }
   ],
   "source": [
    "# использование методов списка\n",
    "# https://pythonworld.ru/tipy-dannyx-v-python/spiski-list-funkcii-i-metody-spiskov.html\n",
    "text_1 = ['Nakemaru', '1', '2', '3', 'Gumi']\n",
    "text_2 = ['1','2','588','44440']\n",
    "text_3 = [1, 10, 6, 2, 322, 1337, 1488, 2012, 2048]\n",
    "print(text_1)\n",
    "text_1.insert(1, 'Creators')\n",
    "print(text_1)\n",
    "text_1 = text_1 + text_2\n",
    "print(text_1)\n",
    "text_1.remove('1')\n",
    "print(text_1)\n",
    "text_1.pop()\n",
    "print(text_1)\n",
    "text_1 = list(text_1)\n",
    "t = text_1.count('2')\n",
    "print(t)\n",
    "text_1.reverse()\n",
    "print(text_1)"
   ]
  },
  {
   "cell_type": "code",
   "execution_count": 168,
   "metadata": {},
   "outputs": [
    {
     "data": {
      "text/plain": [
       "2"
      ]
     },
     "execution_count": 168,
     "metadata": {},
     "output_type": "execute_result"
    }
   ],
   "source": [
    "ls = [124, 1245, 'word', 555]\n",
    "\n",
    "ls.index('word')"
   ]
  },
  {
   "cell_type": "code",
   "execution_count": 171,
   "metadata": {},
   "outputs": [
    {
     "data": {
      "text/plain": [
       "(1, 2, 3, 1, 2, 3, 1, 2, 3)"
      ]
     },
     "execution_count": 171,
     "metadata": {},
     "output_type": "execute_result"
    }
   ],
   "source": [
    "my_tuple = (1, 2, 3)\n",
    "my_tuple * 3"
   ]
  },
  {
   "cell_type": "code",
   "execution_count": 174,
   "metadata": {},
   "outputs": [
    {
     "name": "stdout",
     "output_type": "stream",
     "text": [
      "Введите год: 2012\n",
      "True\n"
     ]
    }
   ],
   "source": [
    "# Определение високосного года, високосный -true, иначе - false\n",
    "year = int(input('Введите год: ')) # вводим через input\n",
    "if year % 4 == 0: # Задаю условие (високосный раз / 4 года)\n",
    "    print(True) # выполняется - на печать True\n",
    "else:\n",
    "    print(False) # не выполняется - False"
   ]
  },
  {
   "cell_type": "code",
   "execution_count": null,
   "metadata": {},
   "outputs": [],
   "source": [
    "# квадрат, периметр, площадь и диагональ\n",
    "a = float(input('Введите длину стороны квадрата : ')) # ввод длины\n",
    "periemeter = a * 4 \n",
    "area = a ** 2 \n",
    "diagonal = a * 2 ** 0.5\n",
    "my_tuple =(periemeter, area, diagonal) # кидаю в кортеж параметры квадрата\n",
    "print(my_tuple)"
   ]
  },
  {
   "cell_type": "code",
   "execution_count": 185,
   "metadata": {},
   "outputs": [
    {
     "name": "stdout",
     "output_type": "stream",
     "text": [
      "Введите сумму: 10000\n",
      "Введите количество лет: 20\n",
      "12000\n",
      "14400\n",
      "17280\n",
      "20736\n",
      "24883\n",
      "29859\n",
      "35830\n",
      "42996\n",
      "51595\n",
      "61914\n",
      "74296\n",
      "89155\n",
      "106986\n",
      "128383\n",
      "154059\n",
      "184870\n",
      "221844\n",
      "266212\n",
      "319454\n",
      "383344\n"
     ]
    }
   ],
   "source": [
    "# bank, вводим сумму и сдаём её на определенное количество лет (процент - 20)\n",
    "# на выводе построчно сумма за год i до года, который мы ввели при втором вводе\n",
    "a = float(input('Введите сумму: ')) \n",
    "year = int(input('Введите количество лет: '))\n",
    "i = 0 # обозначаю счётчик перед началом цикла\n",
    "while i < year: # напр. если год сейчас 15 (по итератору) а мы указали 17 лет, цикл пройдет еще 1 круг\n",
    "    a += a / 100 *20 # a = a + a / 100 * 20 \n",
    "    i += 1 # прибавил год\n",
    "    a = int(a) # изменил float на integer (после деления т.д.(int) -> (float)\n",
    "    print(a) # вывод погодового прироста суммы"
   ]
  },
  {
   "cell_type": "code",
   "execution_count": 187,
   "metadata": {},
   "outputs": [
    {
     "data": {
      "text/plain": [
       "[5, 2, 3]"
      ]
     },
     "execution_count": 187,
     "metadata": {},
     "output_type": "execute_result"
    }
   ],
   "source": [
    "arr = [1,2,3]\n",
    "arr[0] = 5\n",
    "arr"
   ]
  },
  {
   "cell_type": "code",
   "execution_count": 188,
   "metadata": {},
   "outputs": [
    {
     "name": "stdout",
     "output_type": "stream",
     "text": [
      "avto world\n"
     ]
    }
   ],
   "source": [
    "str1 = 'avto'\n",
    "str2 = ' world'\n",
    "str3 = str1+ str2\n",
    "print(str3)"
   ]
  },
  {
   "cell_type": "code",
   "execution_count": 194,
   "metadata": {},
   "outputs": [
    {
     "name": "stdout",
     "output_type": "stream",
     "text": [
      "3\n",
      "5\n",
      "[13, 5, 10, 4, 44440, 6, 7, 8]\n"
     ]
    }
   ],
   "source": [
    "u = 44440\n",
    "o = [13, 5, 10, 4, 5, 6, 7, 8,]\n",
    "print(o.index(4))\n",
    "print(o.pop(4))\n",
    "o.insert(4,u)\n",
    "print(o)"
   ]
  },
  {
   "cell_type": "code",
   "execution_count": 45,
   "metadata": {},
   "outputs": [],
   "source": [
    "pandora = {}"
   ]
  },
  {
   "cell_type": "code",
   "execution_count": 46,
   "metadata": {},
   "outputs": [],
   "source": [
    "pandora['borderlands'] = 'zero'"
   ]
  },
  {
   "cell_type": "code",
   "execution_count": 47,
   "metadata": {},
   "outputs": [
    {
     "data": {
      "text/plain": [
       "{'borderlands': 'zero'}"
      ]
     },
     "execution_count": 47,
     "metadata": {},
     "output_type": "execute_result"
    }
   ],
   "source": [
    "pandora"
   ]
  },
  {
   "cell_type": "code",
   "execution_count": 50,
   "metadata": {},
   "outputs": [],
   "source": [
    "pandora[588] = 'Night_Witches'"
   ]
  },
  {
   "cell_type": "code",
   "execution_count": 51,
   "metadata": {},
   "outputs": [
    {
     "data": {
      "text/plain": [
       "{'borderlands': 'zero', 588: 'Night_Witches'}"
      ]
     },
     "execution_count": 51,
     "metadata": {},
     "output_type": "execute_result"
    }
   ],
   "source": [
    "pandora"
   ]
  },
  {
   "cell_type": "code",
   "execution_count": 52,
   "metadata": {},
   "outputs": [
    {
     "data": {
      "text/plain": [
       "'Night_Witches'"
      ]
     },
     "execution_count": 52,
     "metadata": {},
     "output_type": "execute_result"
    }
   ],
   "source": [
    "pandora[588]"
   ]
  },
  {
   "cell_type": "code",
   "execution_count": null,
   "metadata": {},
   "outputs": [],
   "source": [
    "zoo_pets = [\n",
    "    'lion', 'skunk',\n",
    "'elephant','horse'\n",
    "]\n",
    "for animal in zoo_pets[::-1]:\n",
    "    print(animal)"
   ]
  },
  {
   "cell_type": "code",
   "execution_count": 225,
   "metadata": {},
   "outputs": [
    {
     "name": "stdout",
     "output_type": "stream",
     "text": [
      "l\n",
      "i\n",
      "o\n",
      "n\n"
     ]
    }
   ],
   "source": [
    "animal = 'lion'\n",
    "for char in animal:\n",
    "    print(char)"
   ]
  },
  {
   "cell_type": "code",
   "execution_count": 205,
   "metadata": {},
   "outputs": [
    {
     "name": "stdout",
     "output_type": "stream",
     "text": [
      "lion 300\n",
      "skunk 5\n",
      "elephant 5000\n",
      "horse 400\n",
      "obshaya massa 5705\n"
     ]
    }
   ],
   "source": [
    "zoo_pet_massiv = {\n",
    "    'lion': 300,\n",
    "    'skunk': 5,\n",
    "    'elephant': 5000,\n",
    "    'horse': 400,\n",
    "}\n",
    "total_mass = 0\n",
    "for animal in zoo_pet_massiv:\n",
    "    print(animal, zoo_pet_massiv[animal])\n",
    "    total_mass += zoo_pet_massiv[animal]\n",
    "print('obshaya massa', total_mass)"
   ]
  },
  {
   "cell_type": "code",
   "execution_count": 20,
   "metadata": {},
   "outputs": [
    {
     "name": "stdout",
     "output_type": "stream",
     "text": [
      "кто - Мама\n",
      "Делал(а) - мыла\n",
      "Над чем -  раму\n",
      "Получается :- Мама мыла раму\n"
     ]
    }
   ],
   "source": [
    "def process(subject, action='мыла',object ='раму'):\n",
    "    print('кто -',subject)\n",
    "    print('Делал(а) -',action)\n",
    "    print('Над чем - ',object)\n",
    "    print('Получается :-',subject,action,object)\n",
    "    \n",
    "process(subject='Мама')"
   ]
  },
  {
   "cell_type": "code",
   "execution_count": 14,
   "metadata": {},
   "outputs": [
    {
     "name": "stdout",
     "output_type": "stream",
     "text": [
      "Введите число: \n",
      "100\n",
      "составное число\n"
     ]
    }
   ],
   "source": [
    "# пр-ма на определения числа по типу составное(делится на 1 и себя) и составное(>2)\n",
    "numeric = int(input('Введите число: \\n')) # делимое\n",
    "count_of_divides = 0 # по этой переменной отличим простое от составного\n",
    "i = 0 # делитель\n",
    "while numeric != i:\n",
    "    i += 1\n",
    "    if numeric % i == 0:\n",
    "        count_of_divides += 1\n",
    "if count_of_divides == 2:\n",
    "    print('простое число')\n",
    "else:\n",
    "    print('составное число')"
   ]
  },
  {
   "cell_type": "code",
   "execution_count": 17,
   "metadata": {},
   "outputs": [
    {
     "name": "stdout",
     "output_type": "stream",
     "text": [
      "Вводите числа, чтобы остановиться - введите 0: 1\n",
      "Вводите числа, чтобы остановиться - введите 0: 2\n",
      "Вводите числа, чтобы остановиться - введите 0: 3\n",
      "Вводите числа, чтобы остановиться - введите 0: 4\n",
      "Вводите числа, чтобы остановиться - введите 0: 0\n",
      "максимальное: 4\n",
      "предмаксимальное: 3\n"
     ]
    }
   ],
   "source": [
    "# поиск максимального и предмаксимального\n",
    "# вводи числа, ввёл одно - нажми Enter\n",
    "# для останова 0 вводи и нажми Enter\n",
    "x = 5\n",
    "maxi = 0\n",
    "maxi_over = 0\n",
    "\n",
    "while x != 0:\n",
    "    x = int(input('Вводите числа, чтобы остановиться - введите 0: '))\n",
    "    if maxi < x:\n",
    "        maxi_over = maxi\n",
    "        maxi = x\n",
    "#     if maxi_over < x < maxi:\n",
    "#         maxi_over = x           \n",
    "print('максимальное:', maxi)\n",
    "print('предмаксимальное:', maxi_over) \n",
    "    "
   ]
  },
  {
   "cell_type": "code",
   "execution_count": 23,
   "metadata": {},
   "outputs": [
    {
     "name": "stdout",
     "output_type": "stream",
     "text": [
      "Введите целое число > 2 :\n",
      "6\n",
      "Минимальный делитель  2\n"
     ]
    }
   ],
   "source": [
    "x = input('Введите целое число > 2 :\\n')\n",
    "x = int(x)\n",
    "if x <= 2:\n",
    "    print('Вы ввели число <= 2: ')\n",
    "divider = 2\n",
    "while x % divider != 0:\n",
    "    divider += 1\n",
    "print('Минимальный делитель ',divider)"
   ]
  },
  {
   "cell_type": "code",
   "execution_count": 23,
   "metadata": {
    "scrolled": true
   },
   "outputs": [
    {
     "name": "stdout",
     "output_type": "stream",
     "text": [
      "какова цель в км? : 7\n",
      "км в 1й день: 2\n",
      "процент дневного роста? : 25\n",
      "до цикла 2\n",
      "после цикла 2.5\n",
      "до цикла 2.5\n",
      "после цикла 3.125\n",
      "до цикла 3.125\n",
      "после цикла 3.90625\n",
      "до цикла 3.90625\n",
      "после цикла 4.8828125\n",
      "до цикла 4.8828125\n",
      "после цикла 6.103515625\n",
      "до цикла 6.103515625\n",
      "после цикла 7.62939453125\n",
      "6\n"
     ]
    }
   ],
   "source": [
    "# программа тренировок по бегу\n",
    "finish = int(input('какова цель в км? : ')) # например 7\n",
    "first_day = int(input('км в 1й день: ')) # напр 2\n",
    "percent = int(input('процент дневного роста? : ')) # напр 25\n",
    "count = first_day\n",
    "i = 0 \n",
    "while count <= finish:\n",
    "    print(f'до цикла {count}')\n",
    "    count += count / 100 * percent \n",
    "    i += 1 # счётчик дней \n",
    "    print(f'после цикла {count}')\n",
    "\n",
    "print(i) # на выходе получаем количество дней, за которое натренируемся бегать"
   ]
  },
  {
   "cell_type": "code",
   "execution_count": 24,
   "metadata": {},
   "outputs": [
    {
     "name": "stdout",
     "output_type": "stream",
     "text": [
      "Введите число, от которого получим факториал: 5\n",
      "120\n"
     ]
    }
   ],
   "source": [
    "# факториал своими руками\n",
    "k = int(input('Введите число, от которого получим факториал: '))\n",
    "i = 1\n",
    "res = 1\n",
    "while i < k:\n",
    "    res = res * (i+1)\n",
    "    i += 1\n",
    "print(res)"
   ]
  },
  {
   "cell_type": "code",
   "execution_count": 27,
   "metadata": {},
   "outputs": [
    {
     "name": "stdout",
     "output_type": "stream",
     "text": [
      "Какой факториал нужен? 5\n",
      "120\n"
     ]
    }
   ],
   "source": [
    "# факториал через itertools\n",
    "import itertools\n",
    "def svoi_factorial(x,y): return x*y\n",
    "chislo = int(input('Какой факториал нужен? '))\n",
    "chislo = list(range(1,chislo+1))\n",
    "crazy_res = list(itertools.accumulate(chislo,svoi_factorial))\n",
    "print(crazy_res[-1])"
   ]
  },
  {
   "cell_type": "code",
   "execution_count": null,
   "metadata": {},
   "outputs": [],
   "source": [
    "x = int(input('Введите число, сколько секунд прошло с начала часа?'))\n",
    "h = x // 3600 # задаю формат для ед. часов\n",
    "m = x % 3600 // 60 # задаю формат для ед. минут\n",
    "s = x % 3600 % 60 # задаю формат для ед. сек\n",
    "zero = str(0)\n",
    "m = str(m)\n",
    "if len(m) == 1:\n",
    "    result_min = zero + m\n",
    "s = str(s)    \n",
    "if len(s) == 1:\n",
    "    result_sec = zero + s\n",
    "print(f'''\n",
    "X = {x}\n",
    "H = {h}\n",
    "M = {m}\n",
    "S = {s}\n",
    "''')\n",
    "print(f'{h}:{result_min}:{result_sec}')"
   ]
  },
  {
   "cell_type": "code",
   "execution_count": 29,
   "metadata": {},
   "outputs": [
    {
     "name": "stdout",
     "output_type": "stream",
     "text": [
      "Введите число: 235\n",
      "4\n",
      "24\n",
      "0\n",
      "четных:  2\n"
     ]
    }
   ],
   "source": [
    "### Подсчёт чётных. Программа останавливается после ввода 0  \n",
    "j = int(input('Введите число: '))\n",
    "count_chet = 0\n",
    "while j != 0:\n",
    "    j = int(input())\n",
    "    if j == 0:\n",
    "        pass\n",
    "    elif j % 2 == 0:\n",
    "        count_chet = count_chet + 1\n",
    "    #Здесь ставил break - это было ошибкой, прогнав цикл 1 раз-прога стопарилась\n",
    "print('четных: ',count_chet)"
   ]
  },
  {
   "cell_type": "code",
   "execution_count": 43,
   "metadata": {},
   "outputs": [
    {
     "name": "stdout",
     "output_type": "stream",
     "text": [
      "Введите пол: (м или ж) ж\n",
      "Ваш возраст: 27\n",
      "Welcome to the club\n",
      "В команде сейчас:  1 женщин\n",
      "Введите пол: (м или ж) ж\n",
      "Ваш возраст: 39\n",
      "Введите пол: (м или ж) ж\n",
      "Ваш возраст: 22\n",
      "Welcome to the club\n",
      "В команде сейчас:  2 женщин\n",
      "Введите пол: (м или ж) м\n",
      "Вы не подходите\n",
      "Введите пол: (м или ж) ж\n",
      "Ваш возраст: 26\n",
      "Welcome to the club\n",
      "В команде сейчас:  3 женщин\n",
      "Введите пол: (м или ж) ж\n",
      "Ваш возраст: 31\n",
      "Welcome to the club\n",
      "В команде сейчас:  4 женщин\n",
      "Введите пол: (м или ж) ж\n",
      "Ваш возраст: 35\n",
      "Welcome to the club\n",
      "В команде сейчас:  5 женщин\n",
      "Введите пол: (м или ж) ж\n",
      "Ваш возраст: 30\n",
      "Welcome to the club\n",
      "В команде сейчас:  6 женщин\n",
      "Запись в команду закрыта\n"
     ]
    }
   ],
   "source": [
    "# задачка по набору людей в команду по критериям пол (м\\ж) и возраст\n",
    "woman_count = 0 \n",
    "while woman_count != 6: # всего должно быть 6 женщин в команде\n",
    "    vash_pol = input('Введите пол: (м или ж) ') \n",
    "    if vash_pol == 'м':\n",
    "        print('Вы не подходите') # мужики не принимаются (условие задачи)\n",
    "    \n",
    "    elif vash_pol == 'ж':\n",
    "        ear = int(input('Ваш возраст: '))\n",
    "        if 18 <= ear <= 35 : #\n",
    "            woman_count = woman_count + 1\n",
    "            print('Welcome to the club')\n",
    "            print('В команде сейчас: ', woman_count,'женщин')\n",
    "print('Запись в команду закрыта')"
   ]
  },
  {
   "cell_type": "code",
   "execution_count": 7,
   "metadata": {},
   "outputs": [
    {
     "name": "stdout",
     "output_type": "stream",
     "text": [
      "Введите рубли и копейки через пробел (например 10 25) за 1 авокадо : 20 50\n",
      "Сколько авокадо покупаете? : 5\n",
      "итого: 102 руб. 50 коп.\n"
     ]
    }
   ],
   "source": [
    "rub = input('Введите рубли и копейки через пробел (например 10 25) за 1 авокадо : ')\n",
    "count = input('Сколько авокадо покупаете? : ')\n",
    "rub = rub.replace(' ','.')\n",
    "rub = float(rub)\n",
    "count = int(count)\n",
    "result = rub * count\n",
    "result = str(result)\n",
    "rub, kop = result.split('.')\n",
    "if len(kop) == 1:\n",
    "    kop += '0'\n",
    "print('итого:',f'{rub} руб. {kop} коп.')"
   ]
  },
  {
   "cell_type": "code",
   "execution_count": 8,
   "metadata": {},
   "outputs": [
    {
     "name": "stdout",
     "output_type": "stream",
     "text": [
      "Введите имя, отчество и фамилию: \n",
      "haha hehe huhu\n",
      "huhu haha hehe\n"
     ]
    }
   ],
   "source": [
    "text= input('Введите имя, отчество и фамилию: \\n')\n",
    "ls = text.split(' ')\n",
    "print(f'{ls[2]} {ls[0]} {ls[1]}')"
   ]
  },
  {
   "cell_type": "code",
   "execution_count": 60,
   "metadata": {},
   "outputs": [
    {
     "name": "stdout",
     "output_type": "stream",
     "text": [
      "Введите месяц: сентябрь горит\n",
      "программист, перестань \n"
     ]
    }
   ],
   "source": [
    "# месяц - сезон\n",
    "mounth = input(\"Введите месяц: \")\n",
    "if mounth == 'декабрь' or mounth == 'январь' or mounth == 'февраль': \n",
    "    print('зима')\n",
    "elif mounth == 'март' or mounth == 'апрель' or mounth == 'май':\n",
    "    print('весна')\n",
    "elif mounth == 'июнь' or mounth == 'июль' or mounth == 'август':\n",
    "    print('лето')\n",
    "elif mounth == 'сентябрь' or mounth == 'октябрь' or mounth == 'ноябрь':\n",
    "    print('осень')\n",
    "else:\n",
    "    print('программист, перестань ')\n",
    "    "
   ]
  },
  {
   "cell_type": "code",
   "execution_count": 25,
   "metadata": {},
   "outputs": [
    {
     "name": "stdout",
     "output_type": "stream",
     "text": [
      "Введите месяц: май\n",
      "весна\n"
     ]
    }
   ],
   "source": [
    "# месяц - сезон (в более приятном виде)\n",
    "mounth = input(\"Введите месяц: \") \n",
    "winter = ('декабрь','январь','февраль') # кортежи, в которых записан месяца согласно сезонам\n",
    "spring = ('март','апрель','май')\n",
    "summer = ('июнь','июль','август')\n",
    "fall = ('сентябрь','октябрь','ноябрь')\n",
    "if mounth in winter: # проверка на включение\n",
    "    print('зима')\n",
    "elif mounth in spring:\n",
    "    print('весна')\n",
    "elif mounth in summer:\n",
    "    print('лето')\n",
    "elif mounth in fall:\n",
    "    print('осень')\n",
    "else: \n",
    "    print('программист, перестань ')"
   ]
  },
  {
   "cell_type": "code",
   "execution_count": 26,
   "metadata": {},
   "outputs": [
    {
     "data": {
      "text/plain": [
       "tuple"
      ]
     },
     "execution_count": 26,
     "metadata": {},
     "output_type": "execute_result"
    }
   ],
   "source": [
    "type(spring)"
   ]
  },
  {
   "cell_type": "code",
   "execution_count": null,
   "metadata": {},
   "outputs": [],
   "source": []
  },
  {
   "cell_type": "code",
   "execution_count": 58,
   "metadata": {},
   "outputs": [
    {
     "name": "stdout",
     "output_type": "stream",
     "text": [
      "Введите координату первой клетки шахмат: \n",
      "a1\n",
      "Введите координату первой клетки шахмат: \n",
      "c4\n",
      "['a1'] - черный\n",
      "['c4'] - белый\n",
      "Клетки разного цвета: \n"
     ]
    }
   ],
   "source": [
    "# шахматы (задаём координаты на доске, если цвет один - узнаем об этом)\n",
    "# например А1 и С3\n",
    "qwerty = input('Введите координату первой клетки шахмат: \\n')\n",
    "qwerty = qwerty.split(' ')\n",
    "qwe = input('Введите координату первой клетки шахмат: \\n')\n",
    "qwe = qwe.split(' ')\n",
    "#задаю координаты щахмат, сравниваю с эталоном\n",
    "if ((qwerty[0][1] == '2') or (qwerty[0][1] == '4') or (qwerty[0][1] == '6') or (qwerty[0][1] == '8')) and (\n",
    "    (qwerty[0][0] == 'a') or (qwerty[0][0] == 'c') or (qwerty[0][0] == 'e') or (qwerty[0][0] == 'g')):\n",
    "    qwerty_res ='белый'\n",
    "    print(qwerty,'-',qwerty_res)\n",
    "    if ((qwerty[0][1] == '1') or (qwerty[0][1] == '3') or (qwerty[0][1] == '5') or (qwerty[0][1] == '7')) and (\n",
    "        (qwerty[0][0] == 'b') or (qwerty[0][0] == 'd') or (qwerty[0][0] == 'f') or (qwerty[0][0] == 'h')):\n",
    "        qwerty_res ='белый'\n",
    "        print(qwerty,'-',qwerty_res)\n",
    "else:\n",
    "    qwerty_res = 'черный'\n",
    "    print(qwerty,'-',qwerty_res)\n",
    "if ((qwe[0][1] == '2') or (qwe[0][1] == '4') or (qwe[0][1] == '6') or (qwe[0][1] == '8')) and (\n",
    "            (qwe[0][0] == 'a') or (qwe[0][0] == 'c') or (qwe[0][0] == 'e') or (qwe[0][0] == 'g')):\n",
    "        qwe_res = 'белый'\n",
    "        print(qwe,'-',qwe_res)\n",
    "        if ((qwe[0][1] == '1') or (qwe[0][1] == '3') or (qwe[0][1] == '5') or (qwe[0][1] == '7')) and (\n",
    "                (qwe[0][0] == 'b') or (qwe[0][0] == 'd') or (qwe[0][0] == 'f') or (qwe[0][0] == 'h')):\n",
    "            qwe_res = 'белый'\n",
    "            print(qwe,'-',qwe_res)\n",
    "else:\n",
    "    qwe_res = 'черный'\n",
    "    print(qwe,'-',qwe_res)\n",
    "if qwerty_res == qwe_res:\n",
    "    print('Клетки одинакого цвета: ')\n",
    "else:\n",
    "    print('Клетки разного цвета: ')"
   ]
  },
  {
   "cell_type": "code",
   "execution_count": 27,
   "metadata": {
    "scrolled": true
   },
   "outputs": [
    {
     "name": "stdout",
     "output_type": "stream",
     "text": [
      "Введите макс. ширину ромба: \n",
      "7\n",
      "    *\n",
      "   ***\n",
      "  *****\n",
      " *******\n",
      "  *****\n",
      "   ***\n",
      "    *\n"
     ]
    }
   ],
   "source": [
    "# Ромбик\n",
    "count_stars = int(input('Введите макс. ширину ромба: \\n'))\n",
    "start = 1 # создам цикл, печать от start до count_stars\n",
    "how_draw = 'volume_up'\n",
    "probel = int((count_stars - 1) / 2)\n",
    "while start <= count_stars:\n",
    "    if start == count_stars:\n",
    "        how_draw = 'volume_down'\n",
    "    if how_draw == 'volume_up':\n",
    "        print(' '*probel,'*'*start)\n",
    "        probel -= 1\n",
    "        if start <= count_stars:\n",
    "            start += 2\n",
    "    elif how_draw == 'volume_down':\n",
    "        print(' '*probel,'*'*start)\n",
    "        probel += 1\n",
    "        if start <= count_stars:\n",
    "            start -= 2\n",
    "            if start <=0:\n",
    "                break"
   ]
  },
  {
   "cell_type": "code",
   "execution_count": 42,
   "metadata": {
    "scrolled": true
   },
   "outputs": [
    {
     "name": "stdout",
     "output_type": "stream",
     "text": [
      "Введите длину квадрата: \n",
      "15\n",
      "Введите cимвол которым нарисую диагонали \n",
      "&\n",
      " &               &\n",
      "  &             &\n",
      "   &           &\n",
      "    &         &\n",
      "     &       &\n",
      "      &     &\n",
      "       &   &\n",
      "        & &\n",
      "         &\n",
      "        & &\n",
      "       &   &\n",
      "      &     &\n",
      "     &       &\n",
      "    &         &\n",
      "   &           &\n",
      "  &             &\n",
      " &               &\n"
     ]
    }
   ],
   "source": [
    "# Диагонали\n",
    "length_square = int(input('Введите длину квадрата: \\n'))\n",
    "symbol = input('Введите cимвол которым нарисую диагонали \\n')\n",
    "probel_middle = length_square - 2\n",
    "probel_middle_max = probel_middle\n",
    "probel_left = 0\n",
    "while probel_middle >= 1:\n",
    "    print(probel_left*' ',symbol, probel_middle * ' ', symbol)\n",
    "    probel_middle -= 2\n",
    "    probel_left += 1\n",
    "    if probel_middle <= 0: #Нужно для концовки верхней части + середина\n",
    "        print(probel_left * ' ', symbol, symbol)\n",
    "        probel_left += 1\n",
    "        print(probel_left * ' ', symbol)\n",
    "        probel_left += 1\n",
    "while probel_middle <= probel_middle_max: # Нижний сектор\n",
    "    probel_middle += 2\n",
    "    probel_left -= 1\n",
    "    final_print = probel_left * ' ' + symbol + probel_middle * ' ' + symbol\n",
    "    print(final_print)"
   ]
  },
  {
   "cell_type": "code",
   "execution_count": 35,
   "metadata": {},
   "outputs": [
    {
     "name": "stdout",
     "output_type": "stream",
     "text": [
      "301\n"
     ]
    }
   ],
   "source": [
    "# В корзине лежат шары. Если разложить их в кучи по два, останется один.\n",
    "#Если разложить в кучи по три, останется один. Если разложить в кучи по четыре,\n",
    "#останется один. Если разложить в кучи по пять, останется один. Если разложить в кучи по шесть,\n",
    "#останется один. Если разложить в кучи по семь, не будет остатка. Нужно найти минимальное\n",
    "#количество шаров, удовлетворяющее условию.\n",
    "count = 5\n",
    "while True:\n",
    "    if not ((count % 2 == 1) and (count % 3 == 1) and (count % 4 == 1)\n",
    "        and (count % 5 == 1) and (count % 6 == 1) and (count % 7 == 0)):\n",
    "        count += 1\n",
    "    else:\n",
    "        print(count)\n",
    "        break"
   ]
  },
  {
   "cell_type": "code",
   "execution_count": 36,
   "metadata": {},
   "outputs": [
    {
     "name": "stdout",
     "output_type": "stream",
     "text": [
      "Количество стен: 6\n",
      "Время на первую стену: 12\n",
      "на количество стен:  2 , минут:  29\n",
      "на количество стен:  3 , минут:  51\n",
      "на количество стен:  4 , минут:  78\n",
      "на количество стен:  5 , минут:  110\n",
      "на количество стен:  6 , минут:  147\n",
      "3 часов\n"
     ]
    }
   ],
   "source": [
    "# Маляр, первая стена за * минут, последующие на 5 минут дольше\n",
    "count_sten = int(input('Количество стен: '))\n",
    "count_min_1st = int(input('Время на первую стену: '))\n",
    "i = 1 \n",
    "result = count_min_1st\n",
    "time_next = count_min_1st\n",
    "while i < count_sten:\n",
    "    time_next += 5\n",
    "    i += 1\n",
    "    result = result + time_next\n",
    "    print('на количество стен: ',i,', минут: ',result )\n",
    "if result > 60 and result % 60 > 0:\n",
    "    jet = result // 60\n",
    "    jet += 1\n",
    "    print(jet,'часов')\n",
    "else:\n",
    "    print('1 hour')\n",
    "        "
   ]
  },
  {
   "cell_type": "code",
   "execution_count": 51,
   "metadata": {
    "scrolled": true
   },
   "outputs": [
    {
     "name": "stdout",
     "output_type": "stream",
     "text": [
      "Введите слово: Comodo\n",
      "Введите слово: Payon\n",
      "Введите слово: Payon\n",
      "Введите слово: Niflheim\n",
      "Введите слово: Comodo\n",
      "Введите слово: Aldebaran\n",
      "Введите слово: Altair\n",
      "Введите слово: Gemini\n",
      "Введите слово: Carina\n",
      "Введите слово: Comodo\n",
      "Введите слово: \n",
      "['Comodo', 'Payon', 'Niflheim', 'Aldebaran', 'Altair', 'Gemini', 'Carina']\n"
     ]
    }
   ],
   "source": [
    "# Множества, находит оригиналы, останавливается при пустом вводе\n",
    "word_list = []\n",
    "word = 'Raven'\n",
    "while word != '':\n",
    "    word = input('Введите слово: ')\n",
    "    if word == '':\n",
    "        break\n",
    "    elif word not in word_list:\n",
    "        word_list.append(word)\n",
    "print(word_list)"
   ]
  },
  {
   "cell_type": "code",
   "execution_count": 50,
   "metadata": {
    "scrolled": true
   },
   "outputs": [
    {
     "name": "stdout",
     "output_type": "stream",
     "text": [
      "Введите слово: \n",
      "Geffen\n",
      "Введите слово: \n",
      "Geffen\n",
      "Введите слово: \n",
      "Prontera\n",
      "Введите слово: \n",
      "\n",
      "количество пар = 1\n"
     ]
    }
   ],
   "source": [
    "# Прога, которая выводит число пар одинаковых элементов в списке.\n",
    "# При этом, если два элемента образовали пару, они не могут вступить\n",
    "# в пару с другими элементами. Программа должна запрашивать на вход слова,\n",
    "# каждое с новой строки, пока пользователь не введёт пустую строку\n",
    "word = 0 #обозначаю здесь, чтобы word запустился в цикле\n",
    "last = [] # лист, в который в начале кидаю строки\n",
    "list_discharge = [] # лист, в который сбрасываю строки - пары из list\n",
    "k = 0 # счётчик строк - пар\n",
    "while word != '':\n",
    "    word = input('Введите слово: \\n')\n",
    "    last.insert(0,word) # скидываю слова в last, пока не будет > 1 для сравнения\n",
    "    if len(last) > 1:\n",
    "        for i in last:\n",
    "            if last[0] == last[1]: # сравниваю строки\n",
    "                k += 1\n",
    "                list_discharge.insert(0,last[0])\n",
    "                last.remove(last[0])\n",
    "                list_discharge.insert(0,last[0])\n",
    "                last.remove(last[0])\n",
    "print('количество пар =', k)"
   ]
  },
  {
   "cell_type": "code",
   "execution_count": 56,
   "metadata": {
    "scrolled": true
   },
   "outputs": [
    {
     "name": "stdout",
     "output_type": "stream",
     "text": [
      "Введите количество граней первого кубика: 6\n",
      "Введите количество граней второго кубика: 6\n"
     ]
    },
    {
     "data": {
      "text/plain": [
       "[(1, 1),\n",
       " (1, 2),\n",
       " (1, 3),\n",
       " (1, 4),\n",
       " (1, 5),\n",
       " (1, 6),\n",
       " (2, 1),\n",
       " (2, 2),\n",
       " (2, 3),\n",
       " (2, 4),\n",
       " (2, 5),\n",
       " (2, 6),\n",
       " (3, 1),\n",
       " (3, 2),\n",
       " (3, 3),\n",
       " (3, 4),\n",
       " (3, 5),\n",
       " (3, 6),\n",
       " (4, 1),\n",
       " (4, 2),\n",
       " (4, 3),\n",
       " (4, 4),\n",
       " (4, 5),\n",
       " (4, 6),\n",
       " (5, 1),\n",
       " (5, 2),\n",
       " (5, 3),\n",
       " (5, 4),\n",
       " (5, 5),\n",
       " (5, 6),\n",
       " (6, 1),\n",
       " (6, 2),\n",
       " (6, 3),\n",
       " (6, 4),\n",
       " (6, 5),\n",
       " (6, 6)]"
      ]
     },
     "execution_count": 56,
     "metadata": {},
     "output_type": "execute_result"
    }
   ],
   "source": [
    "# вариации двух кубиков с заданным количеством граней\n",
    "import itertools\n",
    "from itertools import product\n",
    "\n",
    "first = int(input('Введите количество граней первого кубика: '))\n",
    "second = int(input('Введите количество граней второго кубика: '))\n",
    "my_list1 = list(range(1,first+1))\n",
    "my_list2 = list(range(1,second+1))\n",
    "\n",
    "\n",
    "list(product(my_list1, my_list2, repeat = 1))"
   ]
  },
  {
   "cell_type": "code",
   "execution_count": 28,
   "metadata": {},
   "outputs": [
    {
     "name": "stdout",
     "output_type": "stream",
     "text": [
      "[3, 5, 6, 9, 10, 12, 15, 15, 18, 20, 21, 24, 25, 27, 30, 30, 33, 35, 36, 39, 40, 42, 45, 45, 48, 50, 51, 54, 55, 57, 60, 60, 63, 65, 66, 69, 70, 72, 75, 75, 78, 80, 81, 84, 85, 87, 90, 90, 93, 95, 96, 99]\n"
     ]
    },
    {
     "data": {
      "text/plain": [
       "2633"
      ]
     },
     "execution_count": 28,
     "metadata": {},
     "output_type": "execute_result"
    }
   ],
   "source": [
    "# задачка Эйлера №1\n",
    "# определение делителей 3 и 5\n",
    "x = 100 # до этого числа просматриваю\n",
    "my_list = [] # в этот список буду кидать делители\n",
    "for i in range(x): # запуск цикла \n",
    "    if i % 3 == 0 and i > 1: # делители на 3 без остатка\n",
    "        my_list.append(i) # добавляю\n",
    "    if i % 5 == 0 and i > 1: # делители на 5 без остатка\n",
    "        my_list.append(i) # добавляю\n",
    "print(my_list) # делители \n",
    "sum(my_list) # сумма всех чисел списка делителей"
   ]
  },
  {
   "cell_type": "code",
   "execution_count": 31,
   "metadata": {},
   "outputs": [
    {
     "name": "stdout",
     "output_type": "stream",
     "text": [
      "Ряд Фибоначчи:  [1, 2, 3, 5, 8, 13, 21, 34, 55, 89, 144, 233, 377, 610, 987, 1597, 2584, 4181, 6765, 10946, 17711, 28657, 46368, 75025, 121393, 196418, 317811, 514229, 832040, 1346269, 2178309, 3524578, 5702887, 9227465, 14930352, 24157817, 39088169, 63245986, 102334155, 165580141, 267914296, 433494437, 701408733, 1134903170, 1836311903, 2971215073, 4807526976, 7778742049, 12586269025, 20365011074]\n",
      "Список чётных:  [2, 8, 34, 144, 610, 2584, 10946, 46368, 196418, 832040, 3524578, 14930352, 63245986, 267914296, 1134903170, 4807526976, 20365011074]\n"
     ]
    },
    {
     "data": {
      "text/plain": [
       "26658145586"
      ]
     },
     "execution_count": 31,
     "metadata": {},
     "output_type": "execute_result"
    }
   ],
   "source": [
    "# http://euler.jakumo.org/problems/view/2.html\n",
    "#Каждый следующий элемент ряда Фибоначчи получается при сложении двух\n",
    "#предыдущих. Начиная с 1 и 2, первые 10 элементов будут:\n",
    "#1, 2, 3, 5, 8, 13, 21, 34, 55, 89, ...\n",
    "#Найдите сумму всех четных элементов ряда Фибоначчи, которые не превышают четыре миллиона\n",
    "num_1 = 1\n",
    "num_2 = 2\n",
    "transfer = None # трансферная переменная\n",
    "i = 0  # счётчик\n",
    "my_list_ex2 = [] # список чисел ряда Фибоначчи\n",
    "my_list_ex2_chet = [] # список для чётных чисел Ф.\n",
    "my_list_ex2.append(num_1) # закинул 1й эл ряда Ф.\n",
    "my_list_ex2.append(num_2) # закинул 2й эл ряда Ф.\n",
    "while len(my_list_ex2) < 50: \n",
    "    transfer = num_1 + num_2 # переадресация строк через трансферную переменную = 1 + 2 = 3\n",
    "    num_1 = num_2 # см. пример - 1 стала 2\n",
    "    num_2 = transfer # см. пример - 2 стала 3\n",
    "    my_list_ex2.append(num_2) # при первом цикле в список попала 3, при втором 5 и т.д.\n",
    "    i += 1 # круг цикла пройден\n",
    "print('Ряд Фибоначчи: ', my_list_ex2)\n",
    "for some in my_list_ex2: # смотрю числа Ф, а там солянка\n",
    "    if some % 2 == 0: # проверяю на чётность\n",
    "        my_list_ex2_chet.append(some) # чётные кидаю в отдельный список\n",
    "print('Список чётных: ', my_list_ex2_chet) \n",
    "sum(my_list_ex2_chet)\n",
    "        "
   ]
  },
  {
   "cell_type": "code",
   "execution_count": 46,
   "metadata": {},
   "outputs": [
    {
     "name": "stdout",
     "output_type": "stream",
     "text": [
      "Введите число 1000000\n",
      "Число составное\n",
      "1  - 1 делитель\n",
      "2  - простое \n",
      "4  - составное, делители:  [1, 2, 4]\n",
      "5  - простое \n",
      "8  - составное, делители:  [1, 2, 4, 8]\n",
      "10  - составное, делители:  [1, 2, 5, 10]\n",
      "16  - составное, делители:  [1, 2, 4, 8, 16]\n",
      "20  - составное, делители:  [1, 2, 4, 5, 10, 20]\n",
      "25  - составное, делители:  [1, 5, 25]\n",
      "32  - составное, делители:  [1, 2, 4, 8, 16, 32]\n",
      "40  - составное, делители:  [1, 2, 4, 5, 8, 10, 20, 40]\n",
      "50  - составное, делители:  [1, 2, 5, 10, 25, 50]\n",
      "64  - составное, делители:  [1, 2, 4, 8, 16, 32, 64]\n",
      "80  - составное, делители:  [1, 2, 4, 5, 8, 10, 16, 20, 40, 80]\n",
      "100  - составное, делители:  [1, 2, 4, 5, 10, 20, 25, 50, 100]\n",
      "125  - составное, делители:  [1, 5, 25, 125]\n",
      "160  - составное, делители:  [1, 2, 4, 5, 8, 10, 16, 20, 32, 40, 80, 160]\n",
      "200  - составное, делители:  [1, 2, 4, 5, 8, 10, 20, 25, 40, 50, 100, 200]\n",
      "250  - составное, делители:  [1, 2, 5, 10, 25, 50, 125, 250]\n",
      "320  - составное, делители:  [1, 2, 4, 5, 8, 10, 16, 20, 32, 40, 64, 80, 160, 320]\n",
      "400  - составное, делители:  [1, 2, 4, 5, 8, 10, 16, 20, 25, 40, 50, 80, 100, 200, 400]\n",
      "500  - составное, делители:  [1, 2, 4, 5, 10, 20, 25, 50, 100, 125, 250, 500]\n",
      "625  - составное, делители:  [1, 5, 25, 125, 625]\n",
      "800  - составное, делители:  [1, 2, 4, 5, 8, 10, 16, 20, 25, 32, 40, 50, 80, 100, 160, 200, 400, 800]\n",
      "1000  - составное, делители:  [1, 2, 4, 5, 8, 10, 20, 25, 40, 50, 100, 125, 200, 250, 500, 1000]\n",
      "1250  - составное, делители:  [1, 2, 5, 10, 25, 50, 125, 250, 625, 1250]\n",
      "1600  - составное, делители:  [1, 2, 4, 5, 8, 10, 16, 20, 25, 32, 40, 50, 64, 80, 100, 160, 200, 320, 400, 800, 1600]\n",
      "2000  - составное, делители:  [1, 2, 4, 5, 8, 10, 16, 20, 25, 40, 50, 80, 100, 125, 200, 250, 400, 500, 1000, 2000]\n",
      "2500  - составное, делители:  [1, 2, 4, 5, 10, 20, 25, 50, 100, 125, 250, 500, 625, 1250, 2500]\n",
      "3125  - составное, делители:  [1, 5, 25, 125, 625, 3125]\n",
      "4000  - составное, делители:  [1, 2, 4, 5, 8, 10, 16, 20, 25, 32, 40, 50, 80, 100, 125, 160, 200, 250, 400, 500, 800, 1000, 2000, 4000]\n",
      "5000  - составное, делители:  [1, 2, 4, 5, 8, 10, 20, 25, 40, 50, 100, 125, 200, 250, 500, 625, 1000, 1250, 2500, 5000]\n",
      "6250  - составное, делители:  [1, 2, 5, 10, 25, 50, 125, 250, 625, 1250, 3125, 6250]\n",
      "8000  - составное, делители:  [1, 2, 4, 5, 8, 10, 16, 20, 25, 32, 40, 50, 64, 80, 100, 125, 160, 200, 250, 320, 400, 500, 800, 1000, 1600, 2000, 4000, 8000]\n",
      "10000  - составное, делители:  [1, 2, 4, 5, 8, 10, 16, 20, 25, 40, 50, 80, 100, 125, 200, 250, 400, 500, 625, 1000, 1250, 2000, 2500, 5000, 10000]\n",
      "12500  - составное, делители:  [1, 2, 4, 5, 10, 20, 25, 50, 100, 125, 250, 500, 625, 1250, 2500, 3125, 6250, 12500]\n",
      "15625  - составное, делители:  [1, 5, 25, 125, 625, 3125, 15625]\n",
      "20000  - составное, делители:  [1, 2, 4, 5, 8, 10, 16, 20, 25, 32, 40, 50, 80, 100, 125, 160, 200, 250, 400, 500, 625, 800, 1000, 1250, 2000, 2500, 4000, 5000, 10000, 20000]\n",
      "25000  - составное, делители:  [1, 2, 4, 5, 8, 10, 20, 25, 40, 50, 100, 125, 200, 250, 500, 625, 1000, 1250, 2500, 3125, 5000, 6250, 12500, 25000]\n",
      "31250  - составное, делители:  [1, 2, 5, 10, 25, 50, 125, 250, 625, 1250, 3125, 6250, 15625, 31250]\n",
      "40000  - составное, делители:  [1, 2, 4, 5, 8, 10, 16, 20, 25, 32, 40, 50, 64, 80, 100, 125, 160, 200, 250, 320, 400, 500, 625, 800, 1000, 1250, 1600, 2000, 2500, 4000, 5000, 8000, 10000, 20000, 40000]\n",
      "50000  - составное, делители:  [1, 2, 4, 5, 8, 10, 16, 20, 25, 40, 50, 80, 100, 125, 200, 250, 400, 500, 625, 1000, 1250, 2000, 2500, 3125, 5000, 6250, 10000, 12500, 25000, 50000]\n",
      "62500  - составное, делители:  [1, 2, 4, 5, 10, 20, 25, 50, 100, 125, 250, 500, 625, 1250, 2500, 3125, 6250, 12500, 15625, 31250, 62500]\n",
      "100000  - составное, делители:  [1, 2, 4, 5, 8, 10, 16, 20, 25, 32, 40, 50, 80, 100, 125, 160, 200, 250, 400, 500, 625, 800, 1000, 1250, 2000, 2500, 3125, 4000, 5000, 6250, 10000, 12500, 20000, 25000, 50000, 100000]\n",
      "125000  - составное, делители:  [1, 2, 4, 5, 8, 10, 20, 25, 40, 50, 100, 125, 200, 250, 500, 625, 1000, 1250, 2500, 3125, 5000, 6250, 12500, 15625, 25000, 31250, 62500, 125000]\n",
      "200000  - составное, делители:  [1, 2, 4, 5, 8, 10, 16, 20, 25, 32, 40, 50, 64, 80, 100, 125, 160, 200, 250, 320, 400, 500, 625, 800, 1000, 1250, 1600, 2000, 2500, 3125, 4000, 5000, 6250, 8000, 10000, 12500, 20000, 25000, 40000, 50000, 100000, 200000]\n",
      "250000  - составное, делители:  [1, 2, 4, 5, 8, 10, 16, 20, 25, 40, 50, 80, 100, 125, 200, 250, 400, 500, 625, 1000, 1250, 2000, 2500, 3125, 5000, 6250, 10000, 12500, 15625, 25000, 31250, 50000, 62500, 125000, 250000]\n",
      "500000  - составное, делители:  [1, 2, 4, 5, 8, 10, 16, 20, 25, 32, 40, 50, 80, 100, 125, 160, 200, 250, 400, 500, 625, 800, 1000, 1250, 2000, 2500, 3125, 4000, 5000, 6250, 10000, 12500, 15625, 20000, 25000, 31250, 50000, 62500, 100000, 125000, 250000, 500000]\n",
      "1000000  - составное, делители:  [1, 2, 4, 5, 8, 10, 16, 20, 25, 32, 40, 50, 64, 80, 100, 125, 160, 200, 250, 320, 400, 500, 625, 800, 1000, 1250, 1600, 2000, 2500, 3125, 4000, 5000, 6250, 8000, 10000, 12500, 15625, 20000, 25000, 31250, 40000, 50000, 62500, 100000, 125000, 200000, 250000, 500000, 1000000]\n",
      "[2, 5]\n",
      "Максимальный делитель, являющийся простым числом -  5\n"
     ]
    }
   ],
   "source": [
    "## http://euler.jakumo.org/problems/view/3.html\n",
    "# Простые делители числа 13195 - это 5, 7, 13 и 29.\n",
    "# Каков самый большой делитель числа 600851475143, являющийся простым числом?\n",
    "x = int(input('Введите число '))\n",
    "some_list_ex3 = []  # список со всеми делителями\n",
    "some_list_ex3_update = []  # делители, которые явл. простыми\n",
    "s = 1  # счётчик цикла while\n",
    "\n",
    "for i in range(1, x + 1): # Просматриваю все \"возможные\" делители числа, которого мы ввели\n",
    "    if x % i == 0: # подсчёт делителей [1; x]\n",
    "        some_list_ex3.append(i) # если делится, добавляю в список some_list_ex3, чтобы посчитать их\n",
    "if len(some_list_ex3) == 2: # определяю простое число при вводе (1 и само на себя)\n",
    "    print('Число Простое')\n",
    "else:\n",
    "    print('Число составное') # составное (1, само на себя, + еще)\n",
    "\n",
    "simple = []  # делители числа\n",
    "s = 1 \n",
    "for j in some_list_ex3:\n",
    "    s = 1 # для обновления после прохождения числа j по кругу и начала нового круга \n",
    "    while s <= j:\n",
    "        if j % s == 0: # считаю количество делителей у делителей числа, которое ввели в начале\n",
    "            simple.append(s) # добавляю это число в список, для дальнейшего определения\n",
    "            s += 1 # изменяю s для возможности выхода из бесконечного цикла\n",
    "        else:\n",
    "            s += 1 # на случай если число не делитс без остатка, написал тоже самое в else\n",
    "    if len(simple) == 1: # (например у еденицы)\n",
    "        print(j, ' - 1 делитель')\n",
    "        simple.clear() # очищаю список делителей делителей\n",
    "    elif len(simple) == 2:\n",
    "        print(j, ' - простое ')\n",
    "        some_list_ex3_update.append(j) # простые делители отсеиваю в список some_list_ex3_update\n",
    "        simple.clear() # очищаю список делителей делителей\n",
    "    else:\n",
    "        print(j, ' - составное, делители: ', simple) # перечисление деителей составного числа\n",
    "        simple.clear() # очищаю список делителей делителей\n",
    "print(some_list_ex3_update) # вывод простых делитей числа, которое мы ввели в начале\n",
    "z = max(some_list_ex3_update) # присваиваю максимальный простой делитель z\n",
    "print('Максимальный делитель, являющийся простым числом - ', z)"
   ]
  },
  {
   "cell_type": "code",
   "execution_count": 55,
   "metadata": {},
   "outputs": [
    {
     "name": "stdout",
     "output_type": "stream",
     "text": [
      "Введите имя: Artem\n",
      "Введите почту: fomin.artem.serg@gmail.com\n",
      "Введите возраст: 24\n",
      "Вы ввели данные верно!\n",
      "В имени всё чётко\n",
      "почта введа верно\n",
      "Проходите по возрасту \n"
     ]
    }
   ],
   "source": [
    "#Есть файл с протоколом регистраций пользователей на сайте (registrations.txt).\n",
    "#Каждая строка содержит информацию о имени, электронной почте и возрасте человека.\n",
    "\n",
    "\n",
    "#Надо проверить данные из файла, для каждой строки:\n",
    "\n",
    "#присутсвуют все три поля\n",
    "#поле имени содержит только буквы\n",
    "#поле email содержит @ и .\n",
    "#поле возраст является числом от 10 до 99\n",
    "# проверка\n",
    "inp1 = input('Введите имя: ')\n",
    "inp2 = input('Введите почту: ')\n",
    "inp3 = int(input('Введите возраст: '))\n",
    "\n",
    "my_list = [inp1, inp2, inp3]\n",
    "\n",
    "if len(my_list) < 3:\n",
    "    print('Вы ввели данные не полностью! ')\n",
    "else:\n",
    "        print('Вы ввели данные верно!')\n",
    "if inp1.isalpha:\n",
    "    print('В имени всё чётко')\n",
    "else:\n",
    "        print('В имени есть буквы, ошибка')\n",
    "if '@' not in my_list[1] or '.' not in my_list[1]:\n",
    "    print('неправильно ввели почту')\n",
    "else:\n",
    "        print('почта введа верно')\n",
    "if inp3 > 10 or inp3  > 99:\n",
    "     print('Проходите по возрасту ')\n",
    "else:\n",
    "    print('не подходите ')"
   ]
  }
 ],
 "metadata": {
  "kernelspec": {
   "display_name": "Python 3",
   "language": "python",
   "name": "python3"
  },
  "language_info": {
   "codemirror_mode": {
    "name": "ipython",
    "version": 3
   },
   "file_extension": ".py",
   "mimetype": "text/x-python",
   "name": "python",
   "nbconvert_exporter": "python",
   "pygments_lexer": "ipython3",
   "version": "3.8.3"
  }
 },
 "nbformat": 4,
 "nbformat_minor": 4
}
