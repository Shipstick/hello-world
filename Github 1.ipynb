{
 "cells": [
  {
   "cell_type": "code",
   "execution_count": 1,
   "metadata": {
    "scrolled": false
   },
   "outputs": [
    {
     "name": "stdout",
     "output_type": "stream",
     "text": [
      "hello, world!\n"
     ]
    }
   ],
   "source": [
    "print('hello, world!')"
   ]
  },
  {
   "cell_type": "code",
   "execution_count": 303,
   "metadata": {},
   "outputs": [
    {
     "data": {
      "text/plain": [
       "42"
      ]
     },
     "execution_count": 303,
     "metadata": {},
     "output_type": "execute_result"
    }
   ],
   "source": [
    "25 + 17"
   ]
  },
  {
   "cell_type": "code",
   "execution_count": 297,
   "metadata": {},
   "outputs": [
    {
     "data": {
      "text/plain": [
       "24642"
      ]
     },
     "execution_count": 297,
     "metadata": {},
     "output_type": "execute_result"
    }
   ],
   "source": [
    "2 *12321"
   ]
  },
  {
   "cell_type": "code",
   "execution_count": 298,
   "metadata": {
    "scrolled": true
   },
   "outputs": [
    {
     "data": {
      "text/plain": [
       "1024"
      ]
     },
     "execution_count": 298,
     "metadata": {},
     "output_type": "execute_result"
    }
   ],
   "source": [
    "2 ** 10"
   ]
  },
  {
   "cell_type": "code",
   "execution_count": 299,
   "metadata": {},
   "outputs": [
    {
     "data": {
      "text/plain": [
       "128"
      ]
     },
     "execution_count": 299,
     "metadata": {},
     "output_type": "execute_result"
    }
   ],
   "source": [
    "x = 256 - 128"
   ]
  },
  {
   "cell_type": "code",
   "execution_count": 300,
   "metadata": {},
   "outputs": [
    {
     "data": {
      "text/plain": [
       "list"
      ]
     },
     "execution_count": 300,
     "metadata": {},
     "output_type": "execute_result"
    }
   ],
   "source": [
    "type(x)"
   ]
  },
  {
   "cell_type": "code",
   "execution_count": 301,
   "metadata": {
    "scrolled": true
   },
   "outputs": [
    {
     "data": {
      "text/plain": [
       "int"
      ]
     },
     "execution_count": 301,
     "metadata": {},
     "output_type": "execute_result"
    }
   ],
   "source": [
    "y = 10\n",
    "type(y)"
   ]
  },
  {
   "cell_type": "code",
   "execution_count": 302,
   "metadata": {},
   "outputs": [
    {
     "data": {
      "text/plain": [
       "str"
      ]
     },
     "execution_count": 302,
     "metadata": {},
     "output_type": "execute_result"
    }
   ],
   "source": [
    "z = 'Sunrise'\n",
    "type(z)"
   ]
  },
  {
   "cell_type": "markdown",
   "metadata": {},
   "source": [
    "# Заполнение списка числами"
   ]
  },
  {
   "cell_type": "code",
   "execution_count": 228,
   "metadata": {},
   "outputs": [
    {
     "data": {
      "text/plain": [
       "[5, 6, 7, 8, 9, 10]"
      ]
     },
     "execution_count": 228,
     "metadata": {},
     "output_type": "execute_result"
    }
   ],
   "source": [
    "list(range(5,11))"
   ]
  },
  {
   "cell_type": "code",
   "execution_count": 229,
   "metadata": {},
   "outputs": [
    {
     "data": {
      "text/plain": [
       "[5, 4, 3, 2, 1]"
      ]
     },
     "execution_count": 229,
     "metadata": {},
     "output_type": "execute_result"
    }
   ],
   "source": [
    "list(range(5,0,-1))"
   ]
  },
  {
   "cell_type": "code",
   "execution_count": 230,
   "metadata": {},
   "outputs": [],
   "source": [
    "import random"
   ]
  },
  {
   "cell_type": "code",
   "execution_count": 231,
   "metadata": {},
   "outputs": [],
   "source": [
    "arr = [505, 588, 1377, 1488]"
   ]
  },
  {
   "cell_type": "code",
   "execution_count": 232,
   "metadata": {},
   "outputs": [
    {
     "data": {
      "text/plain": [
       "[1488]"
      ]
     },
     "execution_count": 232,
     "metadata": {},
     "output_type": "execute_result"
    }
   ],
   "source": [
    "random.sample(arr,1)"
   ]
  },
  {
   "cell_type": "code",
   "execution_count": 233,
   "metadata": {
    "scrolled": true
   },
   "outputs": [
    {
     "data": {
      "text/plain": [
       "[277, 264, 295, 262, 263, 256, 299, 284, 254, 250]"
      ]
     },
     "execution_count": 233,
     "metadata": {},
     "output_type": "execute_result"
    }
   ],
   "source": [
    "random.sample(range(250,300),10)"
   ]
  },
  {
   "cell_type": "markdown",
   "metadata": {},
   "source": [
    "# Преобразование списка в строку"
   ]
  },
  {
   "cell_type": "code",
   "execution_count": 234,
   "metadata": {},
   "outputs": [],
   "source": [
    "arr = ['word1','word2','word3']"
   ]
  },
  {
   "cell_type": "code",
   "execution_count": 235,
   "metadata": {},
   "outputs": [
    {
     "data": {
      "text/plain": [
       "list"
      ]
     },
     "execution_count": 235,
     "metadata": {},
     "output_type": "execute_result"
    }
   ],
   "source": [
    "type(arr)"
   ]
  },
  {
   "cell_type": "code",
   "execution_count": 236,
   "metadata": {},
   "outputs": [],
   "source": [
    "list_in_str = '  '.join(arr)"
   ]
  },
  {
   "cell_type": "code",
   "execution_count": 237,
   "metadata": {},
   "outputs": [
    {
     "data": {
      "text/plain": [
       "str"
      ]
     },
     "execution_count": 237,
     "metadata": {},
     "output_type": "execute_result"
    }
   ],
   "source": [
    "type(list_in_str)"
   ]
  },
  {
   "cell_type": "code",
   "execution_count": 238,
   "metadata": {},
   "outputs": [
    {
     "data": {
      "text/plain": [
       "'word1  word2  word3'"
      ]
     },
     "execution_count": 238,
     "metadata": {},
     "output_type": "execute_result"
    }
   ],
   "source": [
    "list_in_str"
   ]
  },
  {
   "cell_type": "code",
   "execution_count": 239,
   "metadata": {},
   "outputs": [
    {
     "data": {
      "text/plain": [
       "'welcome-to-my-world-7'"
      ]
     },
     "execution_count": 239,
     "metadata": {},
     "output_type": "execute_result"
    }
   ],
   "source": [
    "arr_with_int = ['welcome','to','my','world',7]\n",
    "'-'.join((str(i) for i in arr_with_int)) #генератор"
   ]
  },
  {
   "cell_type": "code",
   "execution_count": 240,
   "metadata": {
    "scrolled": true
   },
   "outputs": [
    {
     "data": {
      "text/plain": [
       "\"['welcome', 'to', 'my', 'world', 7]\""
      ]
     },
     "execution_count": 240,
     "metadata": {},
     "output_type": "execute_result"
    }
   ],
   "source": [
    "str(arr_with_int)"
   ]
  },
  {
   "cell_type": "markdown",
   "metadata": {},
   "source": [
    "# Кортежи"
   ]
  },
  {
   "cell_type": "code",
   "execution_count": 241,
   "metadata": {},
   "outputs": [],
   "source": [
    "t_5 = (5)"
   ]
  },
  {
   "cell_type": "code",
   "execution_count": 242,
   "metadata": {},
   "outputs": [
    {
     "data": {
      "text/plain": [
       "int"
      ]
     },
     "execution_count": 242,
     "metadata": {},
     "output_type": "execute_result"
    }
   ],
   "source": [
    "type(t_5)"
   ]
  },
  {
   "cell_type": "code",
   "execution_count": 243,
   "metadata": {},
   "outputs": [],
   "source": [
    "t_5_number1 = (5,)"
   ]
  },
  {
   "cell_type": "code",
   "execution_count": 244,
   "metadata": {},
   "outputs": [
    {
     "data": {
      "text/plain": [
       "tuple"
      ]
     },
     "execution_count": 244,
     "metadata": {},
     "output_type": "execute_result"
    }
   ],
   "source": [
    "type(t_5_number1)"
   ]
  },
  {
   "cell_type": "code",
   "execution_count": 245,
   "metadata": {},
   "outputs": [
    {
     "data": {
      "text/plain": [
       "('s', 't', 'r', 'o', 'k', 'a')"
      ]
     },
     "execution_count": 245,
     "metadata": {},
     "output_type": "execute_result"
    }
   ],
   "source": [
    "tuple('stroka')"
   ]
  },
  {
   "cell_type": "code",
   "execution_count": 246,
   "metadata": {},
   "outputs": [],
   "source": [
    "my_tuple = (2, 3, 5, 6, 8)"
   ]
  },
  {
   "cell_type": "code",
   "execution_count": 247,
   "metadata": {},
   "outputs": [
    {
     "data": {
      "text/plain": [
       "(2, 3, 5, 6, 8)"
      ]
     },
     "execution_count": 247,
     "metadata": {},
     "output_type": "execute_result"
    }
   ],
   "source": [
    "my_tuple"
   ]
  },
  {
   "cell_type": "code",
   "execution_count": 248,
   "metadata": {},
   "outputs": [
    {
     "data": {
      "text/plain": [
       "tuple"
      ]
     },
     "execution_count": 248,
     "metadata": {},
     "output_type": "execute_result"
    }
   ],
   "source": [
    "type(my_tuple)"
   ]
  },
  {
   "cell_type": "code",
   "execution_count": 249,
   "metadata": {},
   "outputs": [
    {
     "data": {
      "text/plain": [
       "5"
      ]
     },
     "execution_count": 249,
     "metadata": {},
     "output_type": "execute_result"
    }
   ],
   "source": [
    "my_tuple[2]"
   ]
  },
  {
   "cell_type": "code",
   "execution_count": 250,
   "metadata": {},
   "outputs": [
    {
     "data": {
      "text/plain": [
       "4"
      ]
     },
     "execution_count": 250,
     "metadata": {},
     "output_type": "execute_result"
    }
   ],
   "source": [
    "my_tuple.index(8)"
   ]
  },
  {
   "cell_type": "code",
   "execution_count": 251,
   "metadata": {},
   "outputs": [
    {
     "data": {
      "text/plain": [
       "1"
      ]
     },
     "execution_count": 251,
     "metadata": {},
     "output_type": "execute_result"
    }
   ],
   "source": [
    "my_tuple.count(5)"
   ]
  },
  {
   "cell_type": "code",
   "execution_count": 252,
   "metadata": {},
   "outputs": [
    {
     "data": {
      "text/plain": [
       "5"
      ]
     },
     "execution_count": 252,
     "metadata": {},
     "output_type": "execute_result"
    }
   ],
   "source": [
    "len(my_tuple)"
   ]
  },
  {
   "cell_type": "markdown",
   "metadata": {},
   "source": [
    "# Множества"
   ]
  },
  {
   "cell_type": "code",
   "execution_count": 254,
   "metadata": {},
   "outputs": [
    {
     "data": {
      "text/plain": [
       "{1, 3, 7, 9, 19, 22, 24, 588}"
      ]
     },
     "execution_count": 254,
     "metadata": {},
     "output_type": "execute_result"
    }
   ],
   "source": [
    "set([1,1,22,24,22,588,7,3,7,9,19,9])"
   ]
  },
  {
   "cell_type": "code",
   "execution_count": 255,
   "metadata": {},
   "outputs": [],
   "source": [
    "s =([1,2,3,4,5])"
   ]
  },
  {
   "cell_type": "code",
   "execution_count": 256,
   "metadata": {},
   "outputs": [
    {
     "data": {
      "text/plain": [
       "list"
      ]
     },
     "execution_count": 256,
     "metadata": {},
     "output_type": "execute_result"
    }
   ],
   "source": [
    "type(s)"
   ]
  },
  {
   "cell_type": "code",
   "execution_count": 257,
   "metadata": {},
   "outputs": [],
   "source": [
    "s = set([1,2,3,4,5])"
   ]
  },
  {
   "cell_type": "code",
   "execution_count": 258,
   "metadata": {},
   "outputs": [
    {
     "data": {
      "text/plain": [
       "set"
      ]
     },
     "execution_count": 258,
     "metadata": {},
     "output_type": "execute_result"
    }
   ],
   "source": [
    "type(s)"
   ]
  },
  {
   "cell_type": "markdown",
   "metadata": {},
   "source": [
    "# объединения множеств"
   ]
  },
  {
   "cell_type": "code",
   "execution_count": 259,
   "metadata": {},
   "outputs": [
    {
     "data": {
      "text/plain": [
       "{1, 2, 3, 4, 5, 6, 7, 8}"
      ]
     },
     "execution_count": 259,
     "metadata": {},
     "output_type": "execute_result"
    }
   ],
   "source": [
    "s.union(set([4,5,6,7,8,]))"
   ]
  },
  {
   "cell_type": "code",
   "execution_count": 260,
   "metadata": {},
   "outputs": [],
   "source": [
    "# само по себе изменение переменной s не происх-т"
   ]
  },
  {
   "cell_type": "code",
   "execution_count": 270,
   "metadata": {},
   "outputs": [],
   "source": [
    "s1 = s | set([4,5,6,7,8,])"
   ]
  },
  {
   "cell_type": "code",
   "execution_count": 262,
   "metadata": {},
   "outputs": [
    {
     "data": {
      "text/plain": [
       "{1, 2, 3, 4, 5}"
      ]
     },
     "execution_count": 262,
     "metadata": {},
     "output_type": "execute_result"
    }
   ],
   "source": [
    "s"
   ]
  },
  {
   "cell_type": "code",
   "execution_count": 263,
   "metadata": {},
   "outputs": [
    {
     "data": {
      "text/plain": [
       "{1, 2, 3, 4, 5, 6, 7, 8}"
      ]
     },
     "execution_count": 263,
     "metadata": {},
     "output_type": "execute_result"
    }
   ],
   "source": [
    "s1"
   ]
  },
  {
   "cell_type": "markdown",
   "metadata": {},
   "source": [
    "# добавление элементов множества"
   ]
  },
  {
   "cell_type": "code",
   "execution_count": 264,
   "metadata": {},
   "outputs": [],
   "source": [
    "s1.update(set([9,10,11]))"
   ]
  },
  {
   "cell_type": "code",
   "execution_count": 265,
   "metadata": {},
   "outputs": [
    {
     "data": {
      "text/plain": [
       "{1, 2, 3, 4, 5, 6, 7, 8, 9, 10, 11}"
      ]
     },
     "execution_count": 265,
     "metadata": {},
     "output_type": "execute_result"
    }
   ],
   "source": [
    "s1"
   ]
  },
  {
   "cell_type": "code",
   "execution_count": 266,
   "metadata": {},
   "outputs": [],
   "source": [
    "s1 |= set([12,13,14])"
   ]
  },
  {
   "cell_type": "code",
   "execution_count": 267,
   "metadata": {},
   "outputs": [
    {
     "data": {
      "text/plain": [
       "{1, 2, 3, 4, 5, 6, 7, 8, 9, 10, 11, 12, 13, 14}"
      ]
     },
     "execution_count": 267,
     "metadata": {},
     "output_type": "execute_result"
    }
   ],
   "source": [
    "s1"
   ]
  },
  {
   "cell_type": "code",
   "execution_count": 272,
   "metadata": {},
   "outputs": [],
   "source": [
    "#разница"
   ]
  },
  {
   "cell_type": "code",
   "execution_count": 271,
   "metadata": {},
   "outputs": [
    {
     "data": {
      "text/plain": [
       "{3}"
      ]
     },
     "execution_count": 271,
     "metadata": {},
     "output_type": "execute_result"
    }
   ],
   "source": [
    "set([1,2,3]) - set([1,2,4])"
   ]
  },
  {
   "cell_type": "code",
   "execution_count": 274,
   "metadata": {},
   "outputs": [
    {
     "data": {
      "text/plain": [
       "{1, 2, 3, 4, 5}"
      ]
     },
     "execution_count": 274,
     "metadata": {},
     "output_type": "execute_result"
    }
   ],
   "source": [
    "s"
   ]
  },
  {
   "cell_type": "code",
   "execution_count": 273,
   "metadata": {},
   "outputs": [
    {
     "data": {
      "text/plain": [
       "{3, 5}"
      ]
     },
     "execution_count": 273,
     "metadata": {},
     "output_type": "execute_result"
    }
   ],
   "source": [
    "s.difference(set([1,2,4]))"
   ]
  },
  {
   "cell_type": "code",
   "execution_count": null,
   "metadata": {},
   "outputs": [],
   "source": [
    "#удаление из множества А элементов,которые есть во множестве А и мн-ве В"
   ]
  },
  {
   "cell_type": "code",
   "execution_count": 275,
   "metadata": {},
   "outputs": [],
   "source": [
    "s = set([1,2,3,4,5])"
   ]
  },
  {
   "cell_type": "code",
   "execution_count": 276,
   "metadata": {},
   "outputs": [
    {
     "data": {
      "text/plain": [
       "{1, 2, 3, 4, 5}"
      ]
     },
     "execution_count": 276,
     "metadata": {},
     "output_type": "execute_result"
    }
   ],
   "source": [
    "s"
   ]
  },
  {
   "cell_type": "code",
   "execution_count": 277,
   "metadata": {},
   "outputs": [],
   "source": [
    "s.difference_update(set([3,2,5]))"
   ]
  },
  {
   "cell_type": "code",
   "execution_count": 278,
   "metadata": {},
   "outputs": [
    {
     "data": {
      "text/plain": [
       "{1, 4}"
      ]
     },
     "execution_count": 278,
     "metadata": {},
     "output_type": "execute_result"
    }
   ],
   "source": [
    "s"
   ]
  },
  {
   "cell_type": "code",
   "execution_count": 279,
   "metadata": {},
   "outputs": [],
   "source": [
    "s -= set([3,1,4])"
   ]
  },
  {
   "cell_type": "code",
   "execution_count": 280,
   "metadata": {},
   "outputs": [
    {
     "data": {
      "text/plain": [
       "set()"
      ]
     },
     "execution_count": 280,
     "metadata": {},
     "output_type": "execute_result"
    }
   ],
   "source": [
    "s"
   ]
  },
  {
   "cell_type": "code",
   "execution_count": null,
   "metadata": {},
   "outputs": [],
   "source": [
    "#пересечение множеств"
   ]
  },
  {
   "cell_type": "code",
   "execution_count": 281,
   "metadata": {},
   "outputs": [
    {
     "data": {
      "text/plain": [
       "{3, 588}"
      ]
     },
     "execution_count": 281,
     "metadata": {},
     "output_type": "execute_result"
    }
   ],
   "source": [
    "set([2,3,588,2,3,]) & set(list(range(3,599)))"
   ]
  },
  {
   "cell_type": "code",
   "execution_count": null,
   "metadata": {},
   "outputs": [],
   "source": [
    "s"
   ]
  },
  {
   "cell_type": "code",
   "execution_count": 282,
   "metadata": {},
   "outputs": [
    {
     "data": {
      "text/plain": [
       "set()"
      ]
     },
     "execution_count": 282,
     "metadata": {},
     "output_type": "execute_result"
    }
   ],
   "source": [
    "s.intersection(set([1,3,4,5,5,588]))"
   ]
  },
  {
   "cell_type": "code",
   "execution_count": 283,
   "metadata": {},
   "outputs": [],
   "source": [
    "# во множестве А останутся элементы которые есть во Множ А и В"
   ]
  },
  {
   "cell_type": "code",
   "execution_count": 285,
   "metadata": {},
   "outputs": [],
   "source": [
    "s = set([1,2,3])"
   ]
  },
  {
   "cell_type": "code",
   "execution_count": 286,
   "metadata": {},
   "outputs": [
    {
     "data": {
      "text/plain": [
       "{1, 2}"
      ]
     },
     "execution_count": 286,
     "metadata": {},
     "output_type": "execute_result"
    }
   ],
   "source": [
    "s.intersection_update([1,2,4])\n",
    "s"
   ]
  },
  {
   "cell_type": "code",
   "execution_count": 287,
   "metadata": {},
   "outputs": [],
   "source": [
    "s = set([1,2,3])"
   ]
  },
  {
   "cell_type": "code",
   "execution_count": 288,
   "metadata": {},
   "outputs": [],
   "source": [
    "s &= set([1,6,7])"
   ]
  },
  {
   "cell_type": "code",
   "execution_count": null,
   "metadata": {},
   "outputs": [],
   "source": [
    "s"
   ]
  },
  {
   "cell_type": "code",
   "execution_count": null,
   "metadata": {},
   "outputs": [],
   "source": [
    "# возвращение всех элементов , которых нет сразу в ОБОИХ множествах"
   ]
  },
  {
   "cell_type": "code",
   "execution_count": 290,
   "metadata": {},
   "outputs": [],
   "source": [
    "s = set([1,2,3])"
   ]
  },
  {
   "cell_type": "code",
   "execution_count": 289,
   "metadata": {},
   "outputs": [
    {
     "data": {
      "text/plain": [
       "{2, 7}"
      ]
     },
     "execution_count": 289,
     "metadata": {},
     "output_type": "execute_result"
    }
   ],
   "source": [
    "s ^ set([1,2,7])"
   ]
  },
  {
   "cell_type": "code",
   "execution_count": 291,
   "metadata": {},
   "outputs": [
    {
     "data": {
      "text/plain": [
       "{2, 7}"
      ]
     },
     "execution_count": 291,
     "metadata": {},
     "output_type": "execute_result"
    }
   ],
   "source": [
    "s.symmetric_difference(set([1,3,7]))"
   ]
  },
  {
   "cell_type": "code",
   "execution_count": 292,
   "metadata": {},
   "outputs": [
    {
     "data": {
      "text/plain": [
       "True"
      ]
     },
     "execution_count": 292,
     "metadata": {},
     "output_type": "execute_result"
    }
   ],
   "source": [
    "2 in s"
   ]
  },
  {
   "cell_type": "code",
   "execution_count": 293,
   "metadata": {},
   "outputs": [
    {
     "data": {
      "text/plain": [
       "False"
      ]
     },
     "execution_count": 293,
     "metadata": {},
     "output_type": "execute_result"
    }
   ],
   "source": [
    "1 not in s"
   ]
  },
  {
   "cell_type": "code",
   "execution_count": null,
   "metadata": {},
   "outputs": [],
   "source": [
    "# a <= b входят ли все элементы множества A во множество b "
   ]
  },
  {
   "cell_type": "code",
   "execution_count": 294,
   "metadata": {},
   "outputs": [
    {
     "data": {
      "text/plain": [
       "{1, 2, 3}"
      ]
     },
     "execution_count": 294,
     "metadata": {},
     "output_type": "execute_result"
    }
   ],
   "source": [
    "s"
   ]
  },
  {
   "cell_type": "code",
   "execution_count": 295,
   "metadata": {},
   "outputs": [
    {
     "data": {
      "text/plain": [
       "(False, True)"
      ]
     },
     "execution_count": 295,
     "metadata": {},
     "output_type": "execute_result"
    }
   ],
   "source": [
    "s <= set([1,2]), s <= set([1,2,3,4])"
   ]
  },
  {
   "cell_type": "code",
   "execution_count": null,
   "metadata": {},
   "outputs": [],
   "source": [
    "# проверка на разные множества"
   ]
  },
  {
   "cell_type": "code",
   "execution_count": null,
   "metadata": {},
   "outputs": [],
   "source": [
    "s"
   ]
  },
  {
   "cell_type": "code",
   "execution_count": null,
   "metadata": {},
   "outputs": [],
   "source": [
    "s.isdisjoint(set([4,5,6]))"
   ]
  },
  {
   "cell_type": "code",
   "execution_count": null,
   "metadata": {},
   "outputs": [],
   "source": [
    "s.isdisjoint(set([1,5,6]))"
   ]
  },
  {
   "cell_type": "code",
   "execution_count": 296,
   "metadata": {},
   "outputs": [
    {
     "data": {
      "text/plain": [
       "(1, 10, 1)"
      ]
     },
     "execution_count": 296,
     "metadata": {},
     "output_type": "execute_result"
    }
   ],
   "source": [
    "### у диапазона можно найти параметры\n",
    "\n",
    "r = range(1, 10)\n",
    "r.start, r.stop, r.step"
   ]
  },
  {
   "cell_type": "code",
   "execution_count": 2,
   "metadata": {},
   "outputs": [
    {
     "data": {
      "text/plain": [
       "range(0, 10)"
      ]
     },
     "execution_count": 2,
     "metadata": {},
     "output_type": "execute_result"
    }
   ],
   "source": [
    "range(0,10)"
   ]
  },
  {
   "cell_type": "code",
   "execution_count": 3,
   "metadata": {},
   "outputs": [
    {
     "data": {
      "text/plain": [
       "[0, 5, 10]"
      ]
     },
     "execution_count": 3,
     "metadata": {},
     "output_type": "execute_result"
    }
   ],
   "source": [
    "list(range(0, 11, 5))"
   ]
  },
  {
   "cell_type": "code",
   "execution_count": 11,
   "metadata": {},
   "outputs": [],
   "source": [
    "m = 5"
   ]
  },
  {
   "cell_type": "code",
   "execution_count": 6,
   "metadata": {},
   "outputs": [
    {
     "data": {
      "text/plain": [
       "'5'"
      ]
     },
     "execution_count": 6,
     "metadata": {},
     "output_type": "execute_result"
    }
   ],
   "source": [
    "str(m)"
   ]
  },
  {
   "cell_type": "code",
   "execution_count": 8,
   "metadata": {},
   "outputs": [
    {
     "data": {
      "text/plain": [
       "'5'"
      ]
     },
     "execution_count": 8,
     "metadata": {},
     "output_type": "execute_result"
    }
   ],
   "source": [
    "str(m)"
   ]
  },
  {
   "cell_type": "code",
   "execution_count": 16,
   "metadata": {},
   "outputs": [
    {
     "data": {
      "text/plain": [
       "'Artem Fomin'"
      ]
     },
     "execution_count": 16,
     "metadata": {},
     "output_type": "execute_result"
    }
   ],
   "source": [
    "name = 'Artem'\n",
    "\n",
    "surname = 'Fomin'\n",
    "\n",
    "name + ' ' + surname"
   ]
  },
  {
   "cell_type": "code",
   "execution_count": null,
   "metadata": {},
   "outputs": [],
   "source": [
    "5 + 5,0"
   ]
  },
  {
   "cell_type": "code",
   "execution_count": 17,
   "metadata": {},
   "outputs": [
    {
     "name": "stdout",
     "output_type": "stream",
     "text": [
      "hello\n",
      "hello\n",
      "hello 'world\n",
      "hello \n",
      "world\n"
     ]
    }
   ],
   "source": [
    "print(\"hello\")\n",
    "print('hello')\n",
    "print('hello \\'world')\n",
    "print('hello \\nworld')"
   ]
  },
  {
   "cell_type": "code",
   "execution_count": 19,
   "metadata": {
    "scrolled": true
   },
   "outputs": [
    {
     "name": "stdout",
     "output_type": "stream",
     "text": [
      "Ваше имя? :Abraham\n",
      "Ваше имя Abraham\n"
     ]
    }
   ],
   "source": [
    "name = input('Ваше имя? :')\n",
    "print('Ваше имя ' + name)"
   ]
  },
  {
   "cell_type": "code",
   "execution_count": 20,
   "metadata": {},
   "outputs": [
    {
     "data": {
      "text/plain": [
       "34"
      ]
     },
     "execution_count": 20,
     "metadata": {},
     "output_type": "execute_result"
    }
   ],
   "source": [
    "int('3'+'4')"
   ]
  },
  {
   "cell_type": "code",
   "execution_count": 21,
   "metadata": {},
   "outputs": [
    {
     "name": "stdout",
     "output_type": "stream",
     "text": [
      "34\n"
     ]
    }
   ],
   "source": [
    "print('3'+'4')"
   ]
  },
  {
   "cell_type": "code",
   "execution_count": 22,
   "metadata": {},
   "outputs": [
    {
     "data": {
      "text/plain": [
       "210210.0"
      ]
     },
     "execution_count": 22,
     "metadata": {},
     "output_type": "execute_result"
    }
   ],
   "source": [
    " float('210' * int('2'))"
   ]
  },
  {
   "cell_type": "code",
   "execution_count": 23,
   "metadata": {
    "scrolled": true
   },
   "outputs": [
    {
     "name": "stdout",
     "output_type": "stream",
     "text": [
      "37\n"
     ]
    }
   ],
   "source": [
    "test = 100\n",
    "test -= 63\n",
    "print(test)"
   ]
  },
  {
   "cell_type": "code",
   "execution_count": 24,
   "metadata": {
    "scrolled": true
   },
   "outputs": [
    {
     "data": {
      "text/plain": [
       "1076.0"
      ]
     },
     "execution_count": 24,
     "metadata": {},
     "output_type": "execute_result"
    }
   ],
   "source": [
    "2000 - 2 ** 10 + 1000 / 10"
   ]
  },
  {
   "cell_type": "code",
   "execution_count": 25,
   "metadata": {},
   "outputs": [
    {
     "data": {
      "text/plain": [
       "2121"
      ]
     },
     "execution_count": 25,
     "metadata": {},
     "output_type": "execute_result"
    }
   ],
   "source": [
    "x = [12345,2121,1221]\n",
    "x[1]"
   ]
  },
  {
   "cell_type": "code",
   "execution_count": 27,
   "metadata": {
    "scrolled": true
   },
   "outputs": [
    {
     "data": {
      "text/plain": [
       "0"
      ]
     },
     "execution_count": 27,
     "metadata": {},
     "output_type": "execute_result"
    }
   ],
   "source": [
    "10 % 5"
   ]
  },
  {
   "cell_type": "code",
   "execution_count": 30,
   "metadata": {
    "scrolled": true
   },
   "outputs": [
    {
     "data": {
      "text/plain": [
       "3"
      ]
     },
     "execution_count": 30,
     "metadata": {},
     "output_type": "execute_result"
    }
   ],
   "source": [
    "10 // 3"
   ]
  },
  {
   "cell_type": "code",
   "execution_count": 31,
   "metadata": {},
   "outputs": [
    {
     "data": {
      "text/plain": [
       "1"
      ]
     },
     "execution_count": 31,
     "metadata": {},
     "output_type": "execute_result"
    }
   ],
   "source": [
    "10 % 3"
   ]
  },
  {
   "cell_type": "code",
   "execution_count": null,
   "metadata": {},
   "outputs": [],
   "source": [
    "round(5)"
   ]
  },
  {
   "cell_type": "code",
   "execution_count": null,
   "metadata": {},
   "outputs": [],
   "source": [
    "round(5.34785,2)"
   ]
  },
  {
   "cell_type": "code",
   "execution_count": null,
   "metadata": {},
   "outputs": [],
   "source": [
    "'''2321321\n",
    "dsadsada\n",
    "fdfds\n",
    "fsdfs'''"
   ]
  },
  {
   "cell_type": "code",
   "execution_count": null,
   "metadata": {},
   "outputs": [],
   "source": [
    "'hello' * 2"
   ]
  },
  {
   "cell_type": "code",
   "execution_count": null,
   "metadata": {},
   "outputs": [],
   "source": [
    "'hello, ' + 'world!'"
   ]
  },
  {
   "cell_type": "code",
   "execution_count": null,
   "metadata": {},
   "outputs": [],
   "source": [
    "'qwerty' > 'qwert'"
   ]
  },
  {
   "cell_type": "code",
   "execution_count": 32,
   "metadata": {},
   "outputs": [],
   "source": [
    "x = y =[1, 2]"
   ]
  },
  {
   "cell_type": "code",
   "execution_count": 33,
   "metadata": {},
   "outputs": [
    {
     "data": {
      "text/plain": [
       "True"
      ]
     },
     "execution_count": 33,
     "metadata": {},
     "output_type": "execute_result"
    }
   ],
   "source": [
    "x is y"
   ]
  },
  {
   "cell_type": "code",
   "execution_count": 36,
   "metadata": {},
   "outputs": [
    {
     "data": {
      "text/plain": [
       "([1, 100], [1, 100])"
      ]
     },
     "execution_count": 36,
     "metadata": {},
     "output_type": "execute_result"
    }
   ],
   "source": [
    "x,y"
   ]
  },
  {
   "cell_type": "code",
   "execution_count": 38,
   "metadata": {},
   "outputs": [],
   "source": [
    "x = [1, 2]\n",
    "y = [1, 2]"
   ]
  },
  {
   "cell_type": "code",
   "execution_count": 39,
   "metadata": {},
   "outputs": [
    {
     "data": {
      "text/plain": [
       "([1, 2], [1, 100])"
      ]
     },
     "execution_count": 39,
     "metadata": {},
     "output_type": "execute_result"
    }
   ],
   "source": [
    "y[1] = 100\n",
    "\n",
    "x,y"
   ]
  },
  {
   "cell_type": "code",
   "execution_count": 40,
   "metadata": {},
   "outputs": [
    {
     "data": {
      "text/plain": [
       "False"
      ]
     },
     "execution_count": 40,
     "metadata": {},
     "output_type": "execute_result"
    }
   ],
   "source": [
    "x is y"
   ]
  },
  {
   "cell_type": "code",
   "execution_count": 41,
   "metadata": {},
   "outputs": [],
   "source": [
    "x, y = 1, 2"
   ]
  },
  {
   "cell_type": "code",
   "execution_count": 42,
   "metadata": {},
   "outputs": [],
   "source": [
    "x, y = y, x"
   ]
  },
  {
   "cell_type": "code",
   "execution_count": 43,
   "metadata": {},
   "outputs": [
    {
     "data": {
      "text/plain": [
       "(2, 1)"
      ]
     },
     "execution_count": 43,
     "metadata": {},
     "output_type": "execute_result"
    }
   ],
   "source": [
    "x, y"
   ]
  },
  {
   "cell_type": "code",
   "execution_count": 44,
   "metadata": {},
   "outputs": [],
   "source": [
    "x,y,z = '123'"
   ]
  },
  {
   "cell_type": "code",
   "execution_count": 45,
   "metadata": {},
   "outputs": [
    {
     "data": {
      "text/plain": [
       "('1', '2', '3')"
      ]
     },
     "execution_count": 45,
     "metadata": {},
     "output_type": "execute_result"
    }
   ],
   "source": [
    "x,y,z"
   ]
  },
  {
   "cell_type": "code",
   "execution_count": 46,
   "metadata": {},
   "outputs": [
    {
     "data": {
      "text/plain": [
       "10"
      ]
     },
     "execution_count": 46,
     "metadata": {},
     "output_type": "execute_result"
    }
   ],
   "source": [
    "int('A',16)"
   ]
  },
  {
   "cell_type": "code",
   "execution_count": 60,
   "metadata": {},
   "outputs": [
    {
     "data": {
      "text/plain": [
       "True"
      ]
     },
     "execution_count": 60,
     "metadata": {},
     "output_type": "execute_result"
    }
   ],
   "source": [
    "x=2;y=2;z=2\n",
    "x is y"
   ]
  },
  {
   "cell_type": "code",
   "execution_count": 61,
   "metadata": {},
   "outputs": [
    {
     "data": {
      "text/plain": [
       "False"
      ]
     },
     "execution_count": 61,
     "metadata": {},
     "output_type": "execute_result"
    }
   ],
   "source": [
    "bool(0)"
   ]
  },
  {
   "cell_type": "code",
   "execution_count": 63,
   "metadata": {},
   "outputs": [
    {
     "data": {
      "text/plain": [
       "True"
      ]
     },
     "execution_count": 63,
     "metadata": {},
     "output_type": "execute_result"
    }
   ],
   "source": [
    "bool(10 and 20)"
   ]
  },
  {
   "cell_type": "code",
   "execution_count": 64,
   "metadata": {},
   "outputs": [
    {
     "data": {
      "text/plain": [
       "(20, 0, 0)"
      ]
     },
     "execution_count": 64,
     "metadata": {},
     "output_type": "execute_result"
    }
   ],
   "source": [
    "10 and 20, 0 and 20, 10 and 0"
   ]
  },
  {
   "cell_type": "code",
   "execution_count": 74,
   "metadata": {},
   "outputs": [
    {
     "data": {
      "text/plain": [
       "dict_keys(['x', 'y', 'z'])"
      ]
     },
     "execution_count": 74,
     "metadata": {},
     "output_type": "execute_result"
    }
   ],
   "source": [
    "arr = {'x':1, 'y':2, 'z':3}\n",
    "arr.keys()"
   ]
  },
  {
   "cell_type": "code",
   "execution_count": 75,
   "metadata": {},
   "outputs": [
    {
     "name": "stdout",
     "output_type": "stream",
     "text": [
      "x 1\n",
      "y 2\n",
      "z 3\n"
     ]
    }
   ],
   "source": [
    "for key in arr.keys():\n",
    "    print(key,arr[key])"
   ]
  },
  {
   "cell_type": "code",
   "execution_count": 76,
   "metadata": {},
   "outputs": [
    {
     "data": {
      "text/plain": [
       "(2, 1)"
      ]
     },
     "execution_count": 76,
     "metadata": {},
     "output_type": "execute_result"
    }
   ],
   "source": [
    "arr = [1, 2]\n",
    "obj = enumerate(arr, start=2)\n",
    "next(obj)"
   ]
  },
  {
   "cell_type": "code",
   "execution_count": 77,
   "metadata": {},
   "outputs": [
    {
     "name": "stdout",
     "output_type": "stream",
     "text": [
      "(0, 16)\n",
      "(1, 46)\n",
      "(2, 26)\n",
      "(3, 36)\n"
     ]
    }
   ],
   "source": [
    "spisok = [16, 46, 26, 36]\n",
    "for i in enumerate(spisok):\n",
    "    print(i)"
   ]
  },
  {
   "cell_type": "code",
   "execution_count": 82,
   "metadata": {},
   "outputs": [
    {
     "name": "stdout",
     "output_type": "stream",
     "text": [
      "STROka\n"
     ]
    }
   ],
   "source": [
    "print('stroKA'.swapcase())"
   ]
  },
  {
   "cell_type": "code",
   "execution_count": 83,
   "metadata": {},
   "outputs": [
    {
     "data": {
      "text/plain": [
       "(0, 14, -1)"
      ]
     },
     "execution_count": 83,
     "metadata": {},
     "output_type": "execute_result"
    }
   ],
   "source": [
    "s = 'пример пример Пример'\n",
    "s.find('при'),s.find('При'),s.find('тест')"
   ]
  },
  {
   "cell_type": "code",
   "execution_count": 84,
   "metadata": {},
   "outputs": [
    {
     "name": "stdout",
     "output_type": "stream",
     "text": [
      "Привет, Вася\n"
     ]
    }
   ],
   "source": [
    "s = 'Привет, Петя'\n",
    "print(s.replace('Петя', 'Вася'))"
   ]
  },
  {
   "cell_type": "code",
   "execution_count": 85,
   "metadata": {},
   "outputs": [
    {
     "data": {
      "text/plain": [
       "False"
      ]
     },
     "execution_count": 85,
     "metadata": {},
     "output_type": "execute_result"
    }
   ],
   "source": [
    "'11s'.isidentifier()"
   ]
  },
  {
   "cell_type": "code",
   "execution_count": 86,
   "metadata": {},
   "outputs": [
    {
     "data": {
      "text/plain": [
       "False"
      ]
     },
     "execution_count": 86,
     "metadata": {},
     "output_type": "execute_result"
    }
   ],
   "source": [
    "x = 'sdf12321'\n",
    "\n",
    "x[1:].isdigit()"
   ]
  },
  {
   "cell_type": "code",
   "execution_count": 88,
   "metadata": {},
   "outputs": [],
   "source": [
    "x =[1,2,3,4,5]\n",
    "y=x.copy()"
   ]
  },
  {
   "cell_type": "code",
   "execution_count": 89,
   "metadata": {},
   "outputs": [
    {
     "data": {
      "text/plain": [
       "[1, 2, 3, 4, 5]"
      ]
     },
     "execution_count": 89,
     "metadata": {},
     "output_type": "execute_result"
    }
   ],
   "source": [
    "y"
   ]
  },
  {
   "cell_type": "code",
   "execution_count": 90,
   "metadata": {},
   "outputs": [
    {
     "data": {
      "text/plain": [
       "False"
      ]
     },
     "execution_count": 90,
     "metadata": {},
     "output_type": "execute_result"
    }
   ],
   "source": [
    "x is y"
   ]
  },
  {
   "cell_type": "code",
   "execution_count": 92,
   "metadata": {},
   "outputs": [
    {
     "data": {
      "text/plain": [
       "'atac'"
      ]
     },
     "execution_count": 92,
     "metadata": {},
     "output_type": "execute_result"
    }
   ],
   "source": [
    "arr = [\n",
    "    [1,2,3],\n",
    "    ['str','atac',4],\n",
    "    [5,6,7]\n",
    "]\n",
    "\n",
    "arr\n",
    "\n",
    "arr[1][1]"
   ]
  },
  {
   "cell_type": "code",
   "execution_count": 93,
   "metadata": {},
   "outputs": [
    {
     "name": "stdout",
     "output_type": "stream",
     "text": [
      "[2, 4, 6, 8]\n"
     ]
    }
   ],
   "source": [
    "arr = [1, 2, 3, 4]\n",
    "for i in range(len(arr)):\n",
    "    arr[i] *= 2\n",
    "print(arr)"
   ]
  },
  {
   "cell_type": "code",
   "execution_count": 94,
   "metadata": {},
   "outputs": [
    {
     "name": "stdout",
     "output_type": "stream",
     "text": [
      "[2, 4, 6, 8]\n"
     ]
    }
   ],
   "source": [
    "arr = [1, 2, 3, 4]\n",
    "arr = [ i * 2 for i in arr ]\n",
    "print(arr)"
   ]
  },
  {
   "cell_type": "code",
   "execution_count": 97,
   "metadata": {},
   "outputs": [
    {
     "data": {
      "text/plain": [
       "{2: 0, 4: 1, 6: 2, 8: 3}"
      ]
     },
     "execution_count": 97,
     "metadata": {},
     "output_type": "execute_result"
    }
   ],
   "source": [
    "{k:v for v, k in enumerate(arr)} #GENERATOR dictionary u know yep"
   ]
  },
  {
   "cell_type": "code",
   "execution_count": 98,
   "metadata": {},
   "outputs": [
    {
     "name": "stdout",
     "output_type": "stream",
     "text": [
      "[11, 12, 13, 14, 15]\n"
     ]
    }
   ],
   "source": [
    "def func(elem):\n",
    "    return elem + 10\n",
    "arr = [1, 2, 3, 4, 5]\n",
    "print(list(map(func,arr)))"
   ]
  },
  {
   "cell_type": "code",
   "execution_count": 99,
   "metadata": {},
   "outputs": [
    {
     "data": {
      "text/plain": [
       "[(1, 4, 7), (2, 5, 8), (3, 6, 9)]"
      ]
     },
     "execution_count": 99,
     "metadata": {},
     "output_type": "execute_result"
    }
   ],
   "source": [
    "list(zip([1,2,3],[4,5,6],[7,8,9]))"
   ]
  },
  {
   "cell_type": "code",
   "execution_count": 100,
   "metadata": {},
   "outputs": [
    {
     "data": {
      "text/plain": [
       "[(1, 4, 7), (2, 6, 8)]"
      ]
     },
     "execution_count": 100,
     "metadata": {},
     "output_type": "execute_result"
    }
   ],
   "source": [
    "list(zip([1,2,3],[4,6],[7,8,9,10])) #  во втором списке 2 эл-та, zip Дал кол-во списков = числу мин.эл"
   ]
  },
  {
   "cell_type": "code",
   "execution_count": 102,
   "metadata": {},
   "outputs": [
    {
     "data": {
      "text/plain": [
       "[1, 2, 3, 4]"
      ]
     },
     "execution_count": 102,
     "metadata": {},
     "output_type": "execute_result"
    }
   ],
   "source": [
    "arr = [1,1,2,3,4]\n",
    "\n",
    "arr.remove(1)\n",
    "\n",
    "arr"
   ]
  },
  {
   "cell_type": "code",
   "execution_count": 104,
   "metadata": {},
   "outputs": [
    {
     "data": {
      "text/plain": [
       "True"
      ]
     },
     "execution_count": 104,
     "metadata": {},
     "output_type": "execute_result"
    }
   ],
   "source": [
    "all(['str', 10])"
   ]
  },
  {
   "cell_type": "code",
   "execution_count": 105,
   "metadata": {},
   "outputs": [
    {
     "data": {
      "text/plain": [
       "True"
      ]
     },
     "execution_count": 105,
     "metadata": {},
     "output_type": "execute_result"
    }
   ],
   "source": [
    "all([])"
   ]
  },
  {
   "cell_type": "code",
   "execution_count": 106,
   "metadata": {},
   "outputs": [
    {
     "data": {
      "text/plain": [
       "<list_reverseiterator at 0x1cc85d92df0>"
      ]
     },
     "execution_count": 106,
     "metadata": {},
     "output_type": "execute_result"
    }
   ],
   "source": [
    "reversed(arr)"
   ]
  },
  {
   "cell_type": "code",
   "execution_count": 107,
   "metadata": {},
   "outputs": [
    {
     "data": {
      "text/plain": [
       "[1, 2, 1, 2, 1]"
      ]
     },
     "execution_count": 107,
     "metadata": {},
     "output_type": "execute_result"
    }
   ],
   "source": [
    "list(reversed(arr))"
   ]
  },
  {
   "cell_type": "code",
   "execution_count": 108,
   "metadata": {},
   "outputs": [],
   "source": [
    "arr.insert(0, 999)"
   ]
  },
  {
   "cell_type": "code",
   "execution_count": 109,
   "metadata": {},
   "outputs": [
    {
     "data": {
      "text/plain": [
       "[999, 1, 2, 1, 2, 1]"
      ]
     },
     "execution_count": 109,
     "metadata": {},
     "output_type": "execute_result"
    }
   ],
   "source": [
    "arr"
   ]
  },
  {
   "cell_type": "code",
   "execution_count": 113,
   "metadata": {},
   "outputs": [
    {
     "data": {
      "text/plain": [
       "'t'"
      ]
     },
     "execution_count": 113,
     "metadata": {},
     "output_type": "execute_result"
    }
   ],
   "source": [
    "import random\n",
    "\n",
    "random.choice(['s','t','r','n'])"
   ]
  },
  {
   "cell_type": "code",
   "execution_count": 116,
   "metadata": {
    "scrolled": true
   },
   "outputs": [
    {
     "data": {
      "text/plain": [
       "[9, 7, 6, 5, 4, 3, 2, 1]"
      ]
     },
     "execution_count": 116,
     "metadata": {},
     "output_type": "execute_result"
    }
   ],
   "source": [
    "arr = [2, 7, 4, 9 , 3, 1, 5, 6]\n",
    "arr.sort(reverse = True)\n",
    "\n",
    "arr"
   ]
  },
  {
   "cell_type": "code",
   "execution_count": 117,
   "metadata": {},
   "outputs": [],
   "source": [
    "arr = [2, 9, 0 ,588 ,1488]"
   ]
  },
  {
   "cell_type": "code",
   "execution_count": 118,
   "metadata": {},
   "outputs": [],
   "source": [
    "arr.sort()"
   ]
  },
  {
   "cell_type": "code",
   "execution_count": 119,
   "metadata": {},
   "outputs": [
    {
     "data": {
      "text/plain": [
       "[0, 2, 9, 588, 1488]"
      ]
     },
     "execution_count": 119,
     "metadata": {},
     "output_type": "execute_result"
    }
   ],
   "source": [
    "arr"
   ]
  },
  {
   "cell_type": "code",
   "execution_count": 120,
   "metadata": {},
   "outputs": [],
   "source": [
    "arr.sort(reverse=True)"
   ]
  },
  {
   "cell_type": "code",
   "execution_count": 121,
   "metadata": {},
   "outputs": [
    {
     "data": {
      "text/plain": [
       "[1488, 588, 9, 2, 0]"
      ]
     },
     "execution_count": 121,
     "metadata": {},
     "output_type": "execute_result"
    }
   ],
   "source": [
    "arr"
   ]
  },
  {
   "cell_type": "code",
   "execution_count": 122,
   "metadata": {},
   "outputs": [],
   "source": [
    "arr.sort(reverse=False)"
   ]
  },
  {
   "cell_type": "code",
   "execution_count": 123,
   "metadata": {},
   "outputs": [
    {
     "data": {
      "text/plain": [
       "[0, 2, 9, 588, 1488]"
      ]
     },
     "execution_count": 123,
     "metadata": {},
     "output_type": "execute_result"
    }
   ],
   "source": [
    "arr"
   ]
  },
  {
   "cell_type": "code",
   "execution_count": 124,
   "metadata": {},
   "outputs": [
    {
     "name": "stdout",
     "output_type": "stream",
     "text": [
      "аргум1 аргумен аргумент аргумент100 "
     ]
    }
   ],
   "source": [
    "arr = ['аргумент','аргумен','аргум1','аргумент100']\n",
    "arr.sort(key=str.lower)\n",
    "for i in arr:\n",
    "    print(i, end=' ')"
   ]
  },
  {
   "cell_type": "code",
   "execution_count": 125,
   "metadata": {},
   "outputs": [
    {
     "data": {
      "text/plain": [
       "['аргум1', 'аргумен', 'аргумент', 'аргумент100']"
      ]
     },
     "execution_count": 125,
     "metadata": {},
     "output_type": "execute_result"
    }
   ],
   "source": [
    "sorted(arr)"
   ]
  },
  {
   "cell_type": "code",
   "execution_count": 127,
   "metadata": {},
   "outputs": [
    {
     "data": {
      "text/plain": [
       "('3', [4])"
      ]
     },
     "execution_count": 127,
     "metadata": {},
     "output_type": "execute_result"
    }
   ],
   "source": [
    "'1232121'[2],[4]"
   ]
  },
  {
   "cell_type": "code",
   "execution_count": 128,
   "metadata": {},
   "outputs": [
    {
     "data": {
      "text/plain": [
       "'ert'"
      ]
     },
     "execution_count": 128,
     "metadata": {},
     "output_type": "execute_result"
    }
   ],
   "source": [
    "'qwerty'[2:-1]"
   ]
  },
  {
   "cell_type": "code",
   "execution_count": 129,
   "metadata": {},
   "outputs": [
    {
     "data": {
      "text/plain": [
       "'sfssf'"
      ]
     },
     "execution_count": 129,
     "metadata": {},
     "output_type": "execute_result"
    }
   ],
   "source": [
    "'sdfdsfsdfsdfsd'[0:10:2]"
   ]
  },
  {
   "cell_type": "code",
   "execution_count": 130,
   "metadata": {},
   "outputs": [
    {
     "data": {
      "text/plain": [
       "'2'"
      ]
     },
     "execution_count": 130,
     "metadata": {},
     "output_type": "execute_result"
    }
   ],
   "source": [
    "'1232312'[1]"
   ]
  },
  {
   "cell_type": "code",
   "execution_count": 131,
   "metadata": {},
   "outputs": [
    {
     "data": {
      "text/plain": [
       "'123'"
      ]
     },
     "execution_count": 131,
     "metadata": {},
     "output_type": "execute_result"
    }
   ],
   "source": [
    "x = '1232121'\n",
    "x[0]+x[1]+x[2]"
   ]
  },
  {
   "cell_type": "code",
   "execution_count": 132,
   "metadata": {},
   "outputs": [],
   "source": [
    "x = int(x)"
   ]
  },
  {
   "cell_type": "code",
   "execution_count": 133,
   "metadata": {},
   "outputs": [
    {
     "data": {
      "text/plain": [
       "1232121"
      ]
     },
     "execution_count": 133,
     "metadata": {},
     "output_type": "execute_result"
    }
   ],
   "source": [
    "x"
   ]
  },
  {
   "cell_type": "code",
   "execution_count": 134,
   "metadata": {},
   "outputs": [
    {
     "data": {
      "text/plain": [
       "'123456'"
      ]
     },
     "execution_count": 134,
     "metadata": {},
     "output_type": "execute_result"
    }
   ],
   "source": [
    "'123456'[:]"
   ]
  },
  {
   "cell_type": "code",
   "execution_count": 135,
   "metadata": {},
   "outputs": [
    {
     "name": "stdout",
     "output_type": "stream",
     "text": [
      "['Love', 'thy', 'neighbor']\n"
     ]
    }
   ],
   "source": [
    "text = 'Love thy neighbor'\n",
    "print(text.split())"
   ]
  },
  {
   "cell_type": "code",
   "execution_count": 136,
   "metadata": {},
   "outputs": [
    {
     "name": "stdout",
     "output_type": "stream",
     "text": [
      "['Love thy neighbor']\n"
     ]
    }
   ],
   "source": [
    "print(text.split(', '))"
   ]
  },
  {
   "cell_type": "code",
   "execution_count": 137,
   "metadata": {},
   "outputs": [
    {
     "name": "stdout",
     "output_type": "stream",
     "text": [
      "<class 'str'>\n",
      "<class 'str'>\n"
     ]
    }
   ],
   "source": [
    "x = '121212'\n",
    "x.isnumeric()\n",
    "print(type(x))\n",
    "int(x)\n",
    "print(type(x))"
   ]
  },
  {
   "cell_type": "code",
   "execution_count": 138,
   "metadata": {},
   "outputs": [
    {
     "data": {
      "text/plain": [
       "'Love thy neighbor'"
      ]
     },
     "execution_count": 138,
     "metadata": {},
     "output_type": "execute_result"
    }
   ],
   "source": [
    "text"
   ]
  },
  {
   "cell_type": "code",
   "execution_count": 140,
   "metadata": {},
   "outputs": [
    {
     "data": {
      "text/plain": [
       "'Seigherstorm Gust'"
      ]
     },
     "execution_count": 140,
     "metadata": {},
     "output_type": "execute_result"
    }
   ],
   "source": [
    "t = 'Storm Gust'\n",
    "t.replace('S' , 'Seighers')"
   ]
  },
  {
   "cell_type": "code",
   "execution_count": 141,
   "metadata": {},
   "outputs": [],
   "source": [
    "text = 'Toyota Camry'"
   ]
  },
  {
   "cell_type": "code",
   "execution_count": 142,
   "metadata": {},
   "outputs": [
    {
     "data": {
      "text/plain": [
       "'Toyota Camry'"
      ]
     },
     "execution_count": 142,
     "metadata": {},
     "output_type": "execute_result"
    }
   ],
   "source": [
    "text"
   ]
  },
  {
   "cell_type": "code",
   "execution_count": 143,
   "metadata": {},
   "outputs": [
    {
     "data": {
      "text/plain": [
       "4"
      ]
     },
     "execution_count": 143,
     "metadata": {},
     "output_type": "execute_result"
    }
   ],
   "source": [
    "text.find('t')"
   ]
  },
  {
   "cell_type": "code",
   "execution_count": 144,
   "metadata": {},
   "outputs": [
    {
     "data": {
      "text/plain": [
       "10"
      ]
     },
     "execution_count": 144,
     "metadata": {},
     "output_type": "execute_result"
    }
   ],
   "source": [
    "text.rfind('r')"
   ]
  },
  {
   "cell_type": "code",
   "execution_count": 145,
   "metadata": {},
   "outputs": [
    {
     "data": {
      "text/plain": [
       "10"
      ]
     },
     "execution_count": 145,
     "metadata": {},
     "output_type": "execute_result"
    }
   ],
   "source": [
    "text.find('r')"
   ]
  },
  {
   "cell_type": "code",
   "execution_count": 146,
   "metadata": {},
   "outputs": [
    {
     "data": {
      "text/plain": [
       "2"
      ]
     },
     "execution_count": 146,
     "metadata": {},
     "output_type": "execute_result"
    }
   ],
   "source": [
    "text.find('y')"
   ]
  },
  {
   "cell_type": "code",
   "execution_count": 147,
   "metadata": {},
   "outputs": [
    {
     "data": {
      "text/plain": [
       "11"
      ]
     },
     "execution_count": 147,
     "metadata": {},
     "output_type": "execute_result"
    }
   ],
   "source": [
    "text.rfind('y')"
   ]
  },
  {
   "cell_type": "code",
   "execution_count": 148,
   "metadata": {},
   "outputs": [
    {
     "data": {
      "text/plain": [
       "'Coyota Camry'"
      ]
     },
     "execution_count": 148,
     "metadata": {},
     "output_type": "execute_result"
    }
   ],
   "source": [
    "text.replace('T', 'C')"
   ]
  },
  {
   "cell_type": "code",
   "execution_count": 149,
   "metadata": {},
   "outputs": [
    {
     "data": {
      "text/plain": [
       "'Toyota Camry'"
      ]
     },
     "execution_count": 149,
     "metadata": {},
     "output_type": "execute_result"
    }
   ],
   "source": [
    "text"
   ]
  },
  {
   "cell_type": "code",
   "execution_count": 153,
   "metadata": {},
   "outputs": [
    {
     "data": {
      "text/plain": [
       "'Tayata Mark II'"
      ]
     },
     "execution_count": 153,
     "metadata": {},
     "output_type": "execute_result"
    }
   ],
   "source": [
    "text = text.replace('o', 'a')\n",
    "text"
   ]
  },
  {
   "cell_type": "code",
   "execution_count": 150,
   "metadata": {},
   "outputs": [
    {
     "data": {
      "text/plain": [
       "'TOYOTA CAMRY'"
      ]
     },
     "execution_count": 150,
     "metadata": {},
     "output_type": "execute_result"
    }
   ],
   "source": [
    "text.upper()"
   ]
  },
  {
   "cell_type": "code",
   "execution_count": 154,
   "metadata": {},
   "outputs": [],
   "source": [
    "text = 'Toyota Mark II'"
   ]
  },
  {
   "cell_type": "code",
   "execution_count": 152,
   "metadata": {},
   "outputs": [
    {
     "data": {
      "text/plain": [
       "'Toyota Mark II'"
      ]
     },
     "execution_count": 152,
     "metadata": {},
     "output_type": "execute_result"
    }
   ],
   "source": [
    "text"
   ]
  },
  {
   "cell_type": "code",
   "execution_count": 155,
   "metadata": {},
   "outputs": [
    {
     "data": {
      "text/plain": [
       "False"
      ]
     },
     "execution_count": 155,
     "metadata": {},
     "output_type": "execute_result"
    }
   ],
   "source": [
    "text.isalpha()"
   ]
  },
  {
   "cell_type": "code",
   "execution_count": 156,
   "metadata": {},
   "outputs": [],
   "source": [
    "text = 'Toyota'"
   ]
  },
  {
   "cell_type": "code",
   "execution_count": 157,
   "metadata": {},
   "outputs": [
    {
     "data": {
      "text/plain": [
       "True"
      ]
     },
     "execution_count": 157,
     "metadata": {},
     "output_type": "execute_result"
    }
   ],
   "source": [
    "text.isalpha()"
   ]
  },
  {
   "cell_type": "code",
   "execution_count": 158,
   "metadata": {},
   "outputs": [],
   "source": [
    "text = 'Toyota '"
   ]
  },
  {
   "cell_type": "code",
   "execution_count": 159,
   "metadata": {},
   "outputs": [
    {
     "data": {
      "text/plain": [
       "False"
      ]
     },
     "execution_count": 159,
     "metadata": {},
     "output_type": "execute_result"
    }
   ],
   "source": [
    "text.isalpha()"
   ]
  },
  {
   "cell_type": "code",
   "execution_count": 160,
   "metadata": {},
   "outputs": [],
   "source": [
    "text = '12321'"
   ]
  },
  {
   "cell_type": "code",
   "execution_count": 161,
   "metadata": {},
   "outputs": [
    {
     "data": {
      "text/plain": [
       "True"
      ]
     },
     "execution_count": 161,
     "metadata": {},
     "output_type": "execute_result"
    }
   ],
   "source": [
    "text.isnumeric()"
   ]
  },
  {
   "cell_type": "code",
   "execution_count": 162,
   "metadata": {},
   "outputs": [],
   "source": [
    "text = '12345  '"
   ]
  },
  {
   "cell_type": "code",
   "execution_count": 163,
   "metadata": {},
   "outputs": [
    {
     "data": {
      "text/plain": [
       "False"
      ]
     },
     "execution_count": 163,
     "metadata": {},
     "output_type": "execute_result"
    }
   ],
   "source": [
    "text.isnumeric()"
   ]
  },
  {
   "cell_type": "code",
   "execution_count": 164,
   "metadata": {},
   "outputs": [],
   "source": [
    "text = '1234_234'"
   ]
  },
  {
   "cell_type": "code",
   "execution_count": 165,
   "metadata": {},
   "outputs": [
    {
     "data": {
      "text/plain": [
       "False"
      ]
     },
     "execution_count": 165,
     "metadata": {},
     "output_type": "execute_result"
    }
   ],
   "source": [
    "text.isnumeric()"
   ]
  },
  {
   "cell_type": "code",
   "execution_count": 166,
   "metadata": {},
   "outputs": [
    {
     "name": "stdout",
     "output_type": "stream",
     "text": [
      "vvedite chisla: 213125\n",
      "['2', '1', '3', '1', '2', '5']\n"
     ]
    },
    {
     "data": {
      "text/plain": [
       "list"
      ]
     },
     "execution_count": 166,
     "metadata": {},
     "output_type": "execute_result"
    }
   ],
   "source": [
    "text = input('vvedite chisla: ')\n",
    "text = list(text)\n",
    "print(text)\n",
    "type(text)"
   ]
  },
  {
   "cell_type": "code",
   "execution_count": 167,
   "metadata": {},
   "outputs": [
    {
     "name": "stdout",
     "output_type": "stream",
     "text": [
      "['Nakemaru', '1', '2', '3', 'Gumi']\n",
      "['Nakemaru', 'Creators', '1', '2', '3', 'Gumi']\n",
      "['Nakemaru', 'Creators', '1', '2', '3', 'Gumi', '1', '2', '588', '44440']\n",
      "['Nakemaru', 'Creators', '2', '3', 'Gumi', '1', '2', '588', '44440']\n",
      "['Nakemaru', 'Creators', '2', '3', 'Gumi', '1', '2', '588']\n",
      "2\n",
      "['588', '2', '1', 'Gumi', '3', '2', 'Creators', 'Nakemaru']\n"
     ]
    }
   ],
   "source": [
    "text_1 = ['Nakemaru', '1', '2', '3', 'Gumi']\n",
    "text_2 = ['1','2','588','44440']\n",
    "text_3 = [1, 10, 6, 2, 322, 1337, 1488, 2012, 2048]\n",
    "print(text_1)\n",
    "text_1.insert(1, 'Creators')\n",
    "print(text_1)\n",
    "text_1 = text_1 + text_2\n",
    "print(text_1)\n",
    "text_1.remove('1')\n",
    "print(text_1)\n",
    "text_1.pop()\n",
    "print(text_1)\n",
    "text_1 = list(text_1)\n",
    "t = text_1.count('2')\n",
    "print(t)\n",
    "text_1.reverse()\n",
    "print(text_1)"
   ]
  },
  {
   "cell_type": "code",
   "execution_count": 168,
   "metadata": {},
   "outputs": [
    {
     "data": {
      "text/plain": [
       "2"
      ]
     },
     "execution_count": 168,
     "metadata": {},
     "output_type": "execute_result"
    }
   ],
   "source": [
    "ls = [124, 1245, 'word', 555]\n",
    "\n",
    "ls.index('word')"
   ]
  },
  {
   "cell_type": "code",
   "execution_count": 171,
   "metadata": {},
   "outputs": [
    {
     "data": {
      "text/plain": [
       "(1, 2, 3, 1, 2, 3, 1, 2, 3)"
      ]
     },
     "execution_count": 171,
     "metadata": {},
     "output_type": "execute_result"
    }
   ],
   "source": [
    "my_tuple = (1, 2, 3)\n",
    "my_tuple * 3"
   ]
  },
  {
   "cell_type": "code",
   "execution_count": 174,
   "metadata": {},
   "outputs": [
    {
     "name": "stdout",
     "output_type": "stream",
     "text": [
      "Введите год: 2012\n",
      "True\n"
     ]
    }
   ],
   "source": [
    "# Определение високосного года, високосный -true, иначе - false\n",
    "year = int(input('Введите год: '))\n",
    "if year % 4 == 0:\n",
    "    print(True)\n",
    "else:\n",
    "    print(False)"
   ]
  },
  {
   "cell_type": "code",
   "execution_count": null,
   "metadata": {},
   "outputs": [],
   "source": [
    "# квадрат, периметр, площадь и диагональ\n",
    "a = float(input('Введите длину стороны квадрата : '))\n",
    "periemeter = a * 4\n",
    "area = a ** 2\n",
    "diagonal = a * 2 ** 0.5\n",
    "my_tuple =(periemeter, area, diagonal)\n",
    "print(my_tuple)"
   ]
  },
  {
   "cell_type": "code",
   "execution_count": 184,
   "metadata": {},
   "outputs": [
    {
     "name": "stdout",
     "output_type": "stream",
     "text": [
      "Введите месяц: сентябрь\n",
      "осень\n"
     ]
    }
   ],
   "source": [
    "# месяц - сезон (в более приятном виде)\n",
    "mounth = input(\"Введите месяц: \")\n",
    "winter = ('декабрь','январь','февраль')\n",
    "spring = ('март','апрель','май')\n",
    "summer = ('июнь','июль','август')\n",
    "fall = ('сентябрь','октябрь','ноябрь')\n",
    "if mounth in winter:\n",
    "    print('зима')\n",
    "elif mounth in spring:\n",
    "    print('весна')\n",
    "elif mounth in summer:\n",
    "    print('лето')\n",
    "elif mounth in fall:\n",
    "    print('осень')\n",
    "else:\n",
    "    print('программист, перестань ')"
   ]
  },
  {
   "cell_type": "code",
   "execution_count": 185,
   "metadata": {},
   "outputs": [
    {
     "name": "stdout",
     "output_type": "stream",
     "text": [
      "Введите сумму: 10000\n",
      "Введите количество лет: 20\n",
      "12000\n",
      "14400\n",
      "17280\n",
      "20736\n",
      "24883\n",
      "29859\n",
      "35830\n",
      "42996\n",
      "51595\n",
      "61914\n",
      "74296\n",
      "89155\n",
      "106986\n",
      "128383\n",
      "154059\n",
      "184870\n",
      "221844\n",
      "266212\n",
      "319454\n",
      "383344\n"
     ]
    }
   ],
   "source": [
    "# bank \n",
    "a = float(input('Введите сумму: '))\n",
    "year = int(input('Введите количество лет: '))\n",
    "i = 0\n",
    "while i < year:\n",
    "    a += a / 100 *20\n",
    "    i += 1\n",
    "    a = int(a)\n",
    "    print(a)"
   ]
  },
  {
   "cell_type": "code",
   "execution_count": 187,
   "metadata": {},
   "outputs": [
    {
     "data": {
      "text/plain": [
       "[5, 2, 3]"
      ]
     },
     "execution_count": 187,
     "metadata": {},
     "output_type": "execute_result"
    }
   ],
   "source": [
    "arr = [1,2,3]\n",
    "arr[0] = 5\n",
    "arr"
   ]
  },
  {
   "cell_type": "code",
   "execution_count": 188,
   "metadata": {},
   "outputs": [
    {
     "name": "stdout",
     "output_type": "stream",
     "text": [
      "avto world\n"
     ]
    }
   ],
   "source": [
    "str1 = 'avto'\n",
    "str2 = ' world'\n",
    "str3 = str1+ str2\n",
    "print(str3)"
   ]
  },
  {
   "cell_type": "code",
   "execution_count": 194,
   "metadata": {},
   "outputs": [
    {
     "name": "stdout",
     "output_type": "stream",
     "text": [
      "3\n",
      "5\n",
      "[13, 5, 10, 4, 44440, 6, 7, 8]\n"
     ]
    }
   ],
   "source": [
    "u = 44440\n",
    "o = [13, 5, 10, 4, 5, 6, 7, 8,]\n",
    "print(o.index(4))\n",
    "print(o.pop(4))\n",
    "o.insert(4,u)\n",
    "print(o)"
   ]
  },
  {
   "cell_type": "code",
   "execution_count": 45,
   "metadata": {},
   "outputs": [],
   "source": [
    "pandora = {}"
   ]
  },
  {
   "cell_type": "code",
   "execution_count": 46,
   "metadata": {},
   "outputs": [],
   "source": [
    "pandora['borderlands'] = 'zero'"
   ]
  },
  {
   "cell_type": "code",
   "execution_count": 47,
   "metadata": {},
   "outputs": [
    {
     "data": {
      "text/plain": [
       "{'borderlands': 'zero'}"
      ]
     },
     "execution_count": 47,
     "metadata": {},
     "output_type": "execute_result"
    }
   ],
   "source": [
    "pandora"
   ]
  },
  {
   "cell_type": "code",
   "execution_count": 50,
   "metadata": {},
   "outputs": [],
   "source": [
    "pandora[588] = 'Night_Witches'"
   ]
  },
  {
   "cell_type": "code",
   "execution_count": 51,
   "metadata": {},
   "outputs": [
    {
     "data": {
      "text/plain": [
       "{'borderlands': 'zero', 588: 'Night_Witches'}"
      ]
     },
     "execution_count": 51,
     "metadata": {},
     "output_type": "execute_result"
    }
   ],
   "source": [
    "pandora"
   ]
  },
  {
   "cell_type": "code",
   "execution_count": 52,
   "metadata": {},
   "outputs": [
    {
     "data": {
      "text/plain": [
       "'Night_Witches'"
      ]
     },
     "execution_count": 52,
     "metadata": {},
     "output_type": "execute_result"
    }
   ],
   "source": [
    "pandora[588]"
   ]
  },
  {
   "cell_type": "code",
   "execution_count": null,
   "metadata": {},
   "outputs": [],
   "source": [
    "zoo_pets = [\n",
    "    'lion', 'skunk',\n",
    "'elephant','horse'\n",
    "]\n",
    "for animal in zoo_pets[::-1]:\n",
    "    print(animal)"
   ]
  },
  {
   "cell_type": "code",
   "execution_count": 225,
   "metadata": {},
   "outputs": [
    {
     "name": "stdout",
     "output_type": "stream",
     "text": [
      "l\n",
      "i\n",
      "o\n",
      "n\n"
     ]
    }
   ],
   "source": [
    "animal = 'lion'\n",
    "for char in animal:\n",
    "    print(char)"
   ]
  },
  {
   "cell_type": "code",
   "execution_count": 205,
   "metadata": {},
   "outputs": [
    {
     "name": "stdout",
     "output_type": "stream",
     "text": [
      "lion 300\n",
      "skunk 5\n",
      "elephant 5000\n",
      "horse 400\n",
      "obshaya massa 5705\n"
     ]
    }
   ],
   "source": [
    "zoo_pet_massiv = {\n",
    "    'lion': 300,\n",
    "    'skunk': 5,\n",
    "    'elephant': 5000,\n",
    "    'horse': 400,\n",
    "}\n",
    "total_mass = 0\n",
    "for animal in zoo_pet_massiv:\n",
    "    print(animal, zoo_pet_massiv[animal])\n",
    "    total_mass += zoo_pet_massiv[animal]\n",
    "print('obshaya massa', total_mass)"
   ]
  },
  {
   "cell_type": "code",
   "execution_count": 20,
   "metadata": {},
   "outputs": [
    {
     "name": "stdout",
     "output_type": "stream",
     "text": [
      "кто - Мама\n",
      "Делал(а) - мыла\n",
      "Над чем -  раму\n",
      "Получается :- Мама мыла раму\n"
     ]
    }
   ],
   "source": [
    "def process(subject, action='мыла',object ='раму'):\n",
    "    print('кто -',subject)\n",
    "    print('Делал(а) -',action)\n",
    "    print('Над чем - ',object)\n",
    "    print('Получается :-',subject,action,object)\n",
    "    \n",
    "process(subject='Мама')"
   ]
  },
  {
   "cell_type": "code",
   "execution_count": 21,
   "metadata": {},
   "outputs": [
    {
     "name": "stdout",
     "output_type": "stream",
     "text": [
      "Введите число: \n",
      "25\n",
      "составное число\n"
     ]
    }
   ],
   "source": [
    "numeric = int(input('Введите число: \\n')) # делимое\n",
    "count_of_divides = 0 # по этой переменной отличим простое от составного\n",
    "i = 0 # делитель\n",
    "while numeric != i:\n",
    "    i += 1\n",
    "    if numeric % i == 0:\n",
    "        count_of_divides += 1\n",
    "if count_of_divides == 2:\n",
    "    print('простое число')\n",
    "else:\n",
    "    print('составное число')"
   ]
  },
  {
   "cell_type": "code",
   "execution_count": 22,
   "metadata": {},
   "outputs": [
    {
     "name": "stdout",
     "output_type": "stream",
     "text": [
      "Вводите числа, чтобы остановиться - введите 0: 1\n",
      "Вводите числа, чтобы остановиться - введите 0: 2\n",
      "Вводите числа, чтобы остановиться - введите 0: 3\n",
      "Вводите числа, чтобы остановиться - введите 0: 4\n",
      "Вводите числа, чтобы остановиться - введите 0: 5\n",
      "Вводите числа, чтобы остановиться - введите 0: 2024\n",
      "Вводите числа, чтобы остановиться - введите 0: 0\n",
      "максимальное: 2024\n",
      "максимальное_почти: 5\n"
     ]
    }
   ],
   "source": [
    "x = 5\n",
    "maxi = 0\n",
    "maxi_over = 0\n",
    "\n",
    "while x != 0:\n",
    "    x = int(input('Вводите числа, чтобы остановиться - введите 0: '))\n",
    "    if maxi < x:\n",
    "        maxi_over = maxi\n",
    "        maxi = x\n",
    "#     if maxi_over < x < maxi:\n",
    "#         maxi_over = x           \n",
    "print('максимальное:', maxi)\n",
    "print('предмаксимальное:', maxi_over) \n",
    "    "
   ]
  },
  {
   "cell_type": "code",
   "execution_count": 23,
   "metadata": {},
   "outputs": [
    {
     "name": "stdout",
     "output_type": "stream",
     "text": [
      "Введите целое число > 2 :\n",
      "6\n",
      "Минимальный делитель  2\n"
     ]
    }
   ],
   "source": [
    "x = input('Введите целое число > 2 :\\n')\n",
    "x = int(x)\n",
    "if x <= 2:\n",
    "    print('Вы ввели число <= 2: ')\n",
    "divider = 2\n",
    "while x % divider != 0:\n",
    "    divider += 1\n",
    "print('Минимальный делитель ',divider)"
   ]
  },
  {
   "cell_type": "code",
   "execution_count": 44,
   "metadata": {
    "scrolled": true
   },
   "outputs": [
    {
     "name": "stdout",
     "output_type": "stream",
     "text": [
      "какова цель в км? : 15\n",
      "км в 1й день: 7\n",
      "процент дневного роста? : 15\n",
      "count до цикла 7\n",
      "count после цикла 8.05\n",
      "count до цикла 8.05\n",
      "count после цикла 9.2575\n",
      "count до цикла 9.2575\n",
      "count после цикла 10.646125\n",
      "count до цикла 10.646125\n",
      "count после цикла 12.24304375\n",
      "count до цикла 12.24304375\n",
      "count после цикла 14.0795003125\n",
      "count до цикла 14.0795003125\n",
      "count после цикла 16.191425359375\n",
      "6\n"
     ]
    }
   ],
   "source": [
    "# программа тренировок по бегу\n",
    "finish = int(input('какова цель в км? : '))\n",
    "first_day = int(input('км в 1й день: '))\n",
    "percent = int(input('процент дневного роста? : '))\n",
    "count = first_day\n",
    "i = 0 \n",
    "from time import sleep\n",
    "while count <= finish:\n",
    "    print(f'count до цикла {count}')\n",
    "    count += count / 100 * percent \n",
    "    i += 1 # счётчик дней \n",
    "    print(f'count после цикла {count}')\n",
    "#     sleep(1)\n",
    "#     if count <= finish:\n",
    "print(i)"
   ]
  },
  {
   "cell_type": "code",
   "execution_count": 25,
   "metadata": {},
   "outputs": [
    {
     "name": "stdout",
     "output_type": "stream",
     "text": [
      "Введите число, от которого получим факториал: 5\n",
      "120\n"
     ]
    }
   ],
   "source": [
    "# факториал своими руками\n",
    "k = int(input('Введите число, от которого получим факториал: '))\n",
    "i = 1\n",
    "res = 1\n",
    "while i < k:\n",
    "    res = res * (i+1)\n",
    "    i += 1\n",
    "print(res)"
   ]
  },
  {
   "cell_type": "code",
   "execution_count": 27,
   "metadata": {},
   "outputs": [
    {
     "name": "stdout",
     "output_type": "stream",
     "text": [
      "Какой факториал нужен? 5\n",
      "120\n"
     ]
    }
   ],
   "source": [
    "# факториал через itertools\n",
    "import itertools\n",
    "def svoi_factorial(x,y): return x*y\n",
    "chislo = int(input('Какой факториал нужен? '))\n",
    "chislo = list(range(1,chislo+1))\n",
    "crazy_res = list(itertools.accumulate(chislo,svoi_factorial))\n",
    "print(crazy_res[-1])"
   ]
  },
  {
   "cell_type": "code",
   "execution_count": null,
   "metadata": {},
   "outputs": [],
   "source": [
    "x = int(input('Введите число, сколько секунд прошло с начала часа?'))\n",
    "h = x // 3600 # задаю формат для ед. часов\n",
    "m = x % 3600 // 60 # задаю формат для ед. минут\n",
    "s = x % 3600 % 60 # задаю формат для ед. сек\n",
    "zero = str(0)\n",
    "m = str(m)\n",
    "if len(m) == 1:\n",
    "    result_min = zero + m\n",
    "s = str(s)    \n",
    "if len(s) == 1:\n",
    "    result_sec = zero + s\n",
    "print(f'''\n",
    "X = {x}\n",
    "H = {h}\n",
    "M = {m}\n",
    "S = {s}\n",
    "''')\n",
    "print(f'{h}:{result_min}:{result_sec}')"
   ]
  },
  {
   "cell_type": "code",
   "execution_count": 29,
   "metadata": {},
   "outputs": [
    {
     "name": "stdout",
     "output_type": "stream",
     "text": [
      "Введите число: 235\n",
      "4\n",
      "24\n",
      "0\n",
      "четных:  2\n"
     ]
    }
   ],
   "source": [
    "### Подсчёт чётных. Программа останавливается после ввода 0  \n",
    "j = int(input('Введите число: '))\n",
    "count_chet = 0\n",
    "while j != 0:\n",
    "    j = int(input())\n",
    "    if j == 0:\n",
    "        pass\n",
    "    elif j % 2 == 0:\n",
    "        count_chet = count_chet + 1\n",
    "    #Здесь ставил break - это было ошибкой, прогнав цикл 1 раз-прога стопарилась\n",
    "print('четных: ',count_chet)"
   ]
  },
  {
   "cell_type": "code",
   "execution_count": 43,
   "metadata": {},
   "outputs": [
    {
     "name": "stdout",
     "output_type": "stream",
     "text": [
      "Введите пол: (м или ж) ж\n",
      "Ваш возраст: 27\n",
      "Welcome to the club\n",
      "В команде сейчас:  1 женщин\n",
      "Введите пол: (м или ж) ж\n",
      "Ваш возраст: 39\n",
      "Введите пол: (м или ж) ж\n",
      "Ваш возраст: 22\n",
      "Welcome to the club\n",
      "В команде сейчас:  2 женщин\n",
      "Введите пол: (м или ж) м\n",
      "Вы не подходите\n",
      "Введите пол: (м или ж) ж\n",
      "Ваш возраст: 26\n",
      "Welcome to the club\n",
      "В команде сейчас:  3 женщин\n",
      "Введите пол: (м или ж) ж\n",
      "Ваш возраст: 31\n",
      "Welcome to the club\n",
      "В команде сейчас:  4 женщин\n",
      "Введите пол: (м или ж) ж\n",
      "Ваш возраст: 35\n",
      "Welcome to the club\n",
      "В команде сейчас:  5 женщин\n",
      "Введите пол: (м или ж) ж\n",
      "Ваш возраст: 30\n",
      "Welcome to the club\n",
      "В команде сейчас:  6 женщин\n",
      "Запись в команду закрыта\n"
     ]
    }
   ],
   "source": [
    "woman_count = 0\n",
    "while woman_count != 6:\n",
    "    vash_pol = input('Введите пол: (м или ж) ') #\n",
    "    if vash_pol == 'м':\n",
    "        print('Вы не подходите') # как вернуться к while?\n",
    "    \n",
    "    elif vash_pol == 'ж':\n",
    "        ear = int(input('Ваш возраст: '))\n",
    "        if 18 <= ear <= 35 :\n",
    "            woman_count = woman_count + 1\n",
    "            print('Welcome to the club')\n",
    "            print('В команде сейчас: ', woman_count,'женщин')\n",
    "print('Запись в команду закрыта')"
   ]
  },
  {
   "cell_type": "code",
   "execution_count": 7,
   "metadata": {},
   "outputs": [
    {
     "name": "stdout",
     "output_type": "stream",
     "text": [
      "Введите рубли и копейки через пробел (например 10 25) за 1 авокадо : 20 50\n",
      "Сколько авокадо покупаете? : 5\n",
      "итого: 102 руб. 50 коп.\n"
     ]
    }
   ],
   "source": [
    "rub = input('Введите рубли и копейки через пробел (например 10 25) за 1 авокадо : ')\n",
    "count = input('Сколько авокадо покупаете? : ')\n",
    "rub = rub.replace(' ','.')\n",
    "rub = float(rub)\n",
    "count = int(count)\n",
    "result = rub * count\n",
    "result = str(result)\n",
    "rub, kop = result.split('.')\n",
    "if len(kop) == 1:\n",
    "    kop += '0'\n",
    "print('итого:',f'{rub} руб. {kop} коп.')"
   ]
  },
  {
   "cell_type": "code",
   "execution_count": 8,
   "metadata": {},
   "outputs": [
    {
     "name": "stdout",
     "output_type": "stream",
     "text": [
      "Введите имя, отчество и фамилию: \n",
      "haha hehe huhu\n",
      "huhu haha hehe\n"
     ]
    }
   ],
   "source": [
    "text= input('Введите имя, отчество и фамилию: \\n')\n",
    "ls = text.split(' ')\n",
    "print(f'{ls[2]} {ls[0]} {ls[1]}')"
   ]
  },
  {
   "cell_type": "code",
   "execution_count": null,
   "metadata": {},
   "outputs": [],
   "source": [
    "# месяц - сезон\n",
    "mounth = input(\"Введите месяц: \")\n",
    "if mounth == 'декабрь' or mounth == 'январь' or mounth == 'февраль':\n",
    "    print('зима')\n",
    "elif mounth == 'март' or mounth == 'апрель' or mounth == 'май':\n",
    "    print('весна')\n",
    "elif mounth == 'июнь' or mounth == 'июль' or mounth == 'август':\n",
    "    print('лето')\n",
    "elif mounth == 'сентябрь' or mounth == 'октябрь' or mounth == 'ноябрь':\n",
    "    print('осень')\n",
    "else:\n",
    "    print('программист, перестань ')\n",
    "    "
   ]
  },
  {
   "cell_type": "code",
   "execution_count": null,
   "metadata": {},
   "outputs": [],
   "source": [
    "# шахматы (задаём координаты на доске, если цвет один - узнаем об этом)\n",
    "qwerty = input('Введите координату первой клетки шахмат: \\n')\n",
    "qwerty = qwerty.split(' ')\n",
    "qwe = input('Введите координату первой клетки шахмат: \\n')\n",
    "qwe = qwe.split(' ')\n",
    "#задаю координаты щахмат, сравниваю с эталоном\n",
    "if ((qwerty[0][1] == '2') or (qwerty[0][1] == '4') or (qwerty[0][1] == '6') or (qwerty[0][1] == '8')) and (\n",
    "    (qwerty[0][0] == 'a') or (qwerty[0][0] == 'c') or (qwerty[0][0] == 'e') or (qwerty[0][0] == 'g')):\n",
    "    qwerty_res ='белый'\n",
    "    print(qwerty,'-',qwerty_res)\n",
    "    if ((qwerty[0][1] == '1') or (qwerty[0][1] == '3') or (qwerty[0][1] == '5') or (qwerty[0][1] == '7')) and (\n",
    "        (qwerty[0][0] == 'b') or (qwerty[0][0] == 'd') or (qwerty[0][0] == 'f') or (qwerty[0][0] == 'h')):\n",
    "        qwerty_res ='белый'\n",
    "        print(qwerty,'-',qwerty_res)\n",
    "else:\n",
    "    qwerty_res = 'черный'\n",
    "    print(qwerty,'-',qwerty_res)\n",
    "if ((qwe[0][1] == '2') or (qwe[0][1] == '4') or (qwe[0][1] == '6') or (qwe[0][1] == '8')) and (\n",
    "            (qwe[0][0] == 'a') or (qwe[0][0] == 'c') or (qwe[0][0] == 'e') or (qwe[0][0] == 'g')):\n",
    "        qwe_res = 'белый'\n",
    "        print(qwe,'-',qwe_res)\n",
    "        if ((qwe[0][1] == '1') or (qwe[0][1] == '3') or (qwe[0][1] == '5') or (qwe[0][1] == '7')) and (\n",
    "                (qwe[0][0] == 'b') or (qwe[0][0] == 'd') or (qwe[0][0] == 'f') or (qwe[0][0] == 'h')):\n",
    "            qwe_res = 'белый'\n",
    "            print(qwe,'-',qwe_res)\n",
    "else:\n",
    "    qwe_res = 'черный'\n",
    "    print(qwe,'-',qwe_res)\n",
    "if qwerty_res == qwe_res:\n",
    "    print('Клетки одинакого цвета: ')\n",
    "else:\n",
    "    print('Клетки разного цвета: ')"
   ]
  },
  {
   "cell_type": "code",
   "execution_count": 32,
   "metadata": {
    "scrolled": true
   },
   "outputs": [
    {
     "name": "stdout",
     "output_type": "stream",
     "text": [
      "Введите макс. ширину ромба: \n",
      "10\n",
      "     *\n",
      "    ***\n",
      "   *****\n",
      "  *******\n",
      " *********\n"
     ]
    }
   ],
   "source": [
    "# Пирамидка\n",
    "count_stars = int(input('Введите макс. ширину ромба: \\n'))\n",
    "start = 1 # создам цикл, печать от start до count_stars\n",
    "how_draw = 'volume_up'\n",
    "probel = int((count_stars - 1) / 2)\n",
    "while start <= count_stars:\n",
    "    if start == count_stars:\n",
    "        how_draw = 'volume_down'\n",
    "    if how_draw == 'volume_up':\n",
    "        print(' '*probel,'*'*start)\n",
    "        probel -= 1\n",
    "        if start <= count_stars:\n",
    "            start += 2\n",
    "    elif how_draw == 'volume_down':\n",
    "        print(' '*probel,'*'*start)\n",
    "        probel += 1\n",
    "        if start <= count_stars:\n",
    "            start -= 2\n",
    "            if start <=0:\n",
    "                break"
   ]
  },
  {
   "cell_type": "code",
   "execution_count": 42,
   "metadata": {
    "scrolled": true
   },
   "outputs": [
    {
     "name": "stdout",
     "output_type": "stream",
     "text": [
      "Введите длину квадрата: \n",
      "15\n",
      "Введите cимвол которым нарисую диагонали \n",
      "&\n",
      " &               &\n",
      "  &             &\n",
      "   &           &\n",
      "    &         &\n",
      "     &       &\n",
      "      &     &\n",
      "       &   &\n",
      "        & &\n",
      "         &\n",
      "        & &\n",
      "       &   &\n",
      "      &     &\n",
      "     &       &\n",
      "    &         &\n",
      "   &           &\n",
      "  &             &\n",
      " &               &\n"
     ]
    }
   ],
   "source": [
    "# Диагонали\n",
    "length_square = int(input('Введите длину квадрата: \\n'))\n",
    "symbol = input('Введите cимвол которым нарисую диагонали \\n')\n",
    "probel_middle = length_square - 2\n",
    "probel_middle_max = probel_middle\n",
    "probel_left = 0\n",
    "while probel_middle >= 1:\n",
    "    print(probel_left*' ',symbol, probel_middle * ' ', symbol)\n",
    "    probel_middle -= 2\n",
    "    probel_left += 1\n",
    "    if probel_middle <= 0: #Нужно для концовки верхней части + середина\n",
    "        print(probel_left * ' ', symbol, symbol)\n",
    "        probel_left += 1\n",
    "        print(probel_left * ' ', symbol)\n",
    "        probel_left += 1\n",
    "while probel_middle <= probel_middle_max: # Нижний сектор\n",
    "    probel_middle += 2\n",
    "    probel_left -= 1\n",
    "    final_print = probel_left * ' ' + symbol + probel_middle * ' ' + symbol\n",
    "    print(final_print)"
   ]
  },
  {
   "cell_type": "code",
   "execution_count": 35,
   "metadata": {},
   "outputs": [
    {
     "name": "stdout",
     "output_type": "stream",
     "text": [
      "301\n"
     ]
    }
   ],
   "source": [
    "# В корзине лежат шары. Если разложить их в кучи по два, останется один.\n",
    "#Если разложить в кучи по три, останется один. Если разложить в кучи по четыре,\n",
    "#останется один. Если разложить в кучи по пять, останется один. Если разложить в кучи по шесть,\n",
    "#останется один. Если разложить в кучи по семь, не будет остатка. Нужно найти минимальное\n",
    "#количество шаров, удовлетворяющее условию.\n",
    "count = 5\n",
    "while True:\n",
    "    if not ((count % 2 == 1) and (count % 3 == 1) and (count % 4 == 1)\n",
    "        and (count % 5 == 1) and (count % 6 == 1) and (count % 7 == 0)):\n",
    "        count += 1\n",
    "    else:\n",
    "        print(count)\n",
    "        break"
   ]
  },
  {
   "cell_type": "code",
   "execution_count": 36,
   "metadata": {},
   "outputs": [
    {
     "name": "stdout",
     "output_type": "stream",
     "text": [
      "Количество стен: 6\n",
      "Время на первую стену: 12\n",
      "на количество стен:  2 , минут:  29\n",
      "на количество стен:  3 , минут:  51\n",
      "на количество стен:  4 , минут:  78\n",
      "на количество стен:  5 , минут:  110\n",
      "на количество стен:  6 , минут:  147\n",
      "3 часов\n"
     ]
    }
   ],
   "source": [
    "# Маляр, первая стена за * минут, последующие на 5 минут дольше\n",
    "count_sten = int(input('Количество стен: '))\n",
    "count_min_1st = int(input('Время на первую стену: '))\n",
    "i = 1 \n",
    "result = count_min_1st\n",
    "time_next = count_min_1st\n",
    "while i < count_sten:\n",
    "    time_next += 5\n",
    "    i += 1\n",
    "    result = result + time_next\n",
    "    print('на количество стен: ',i,', минут: ',result )\n",
    "if result > 60 and result % 60 > 0:\n",
    "    jet = result // 60\n",
    "    jet += 1\n",
    "    print(jet,'часов')\n",
    "else:\n",
    "    print('1 hour')\n",
    "        "
   ]
  },
  {
   "cell_type": "code",
   "execution_count": 37,
   "metadata": {
    "scrolled": true
   },
   "outputs": [
    {
     "name": "stdout",
     "output_type": "stream",
     "text": [
      "Введите слово: руру\n",
      "Введите слово: рфрф\n",
      "Введите слово: \n",
      "['руру', 'рфрф']\n"
     ]
    }
   ],
   "source": [
    "# Множества, находит оригиналы, останавливается при пустом вводе\n",
    "word_list = []\n",
    "word = 'Raven'\n",
    "while word != '':\n",
    "    word = input('Введите слово: ')\n",
    "    if word == '':\n",
    "        break\n",
    "    elif word not in word_list:\n",
    "        word_list.append(word)\n",
    "print(word_list)"
   ]
  },
  {
   "cell_type": "code",
   "execution_count": 38,
   "metadata": {
    "scrolled": true
   },
   "outputs": [
    {
     "name": "stdout",
     "output_type": "stream",
     "text": [
      "Введите слово: \n",
      "рфрф\n",
      "Введите слово: \n",
      "рфрф\n",
      "Введите слово: \n",
      "рфрф\n",
      "Введите слово: \n",
      "рфрф\n",
      "Введите слово: \n",
      "\n",
      "количество пар = 2\n"
     ]
    }
   ],
   "source": [
    "# Прога, которая выводит число пар одинаковых элементов в списке.\n",
    "# При этом, если два элемента образовали пару, они не могут вступить\n",
    "# в пару с другими элементами. Программа должна запрашивать на вход слова,\n",
    "# каждое с новой строки, пока пользователь не введёт пустую строку\n",
    "word = 0 #обозначаю здесь, чтобы word запустился в цикле\n",
    "last = [] # лист, в который в начале кидаю строки\n",
    "list_discharge = [] # лист, в который сбрасываю строки - пары из list\n",
    "k = 0 # счётчик строк - пар\n",
    "while word != '':\n",
    "    word = input('Введите слово: \\n')\n",
    "    last.insert(0,word) # скидываю слова в last, пока не будет > 1 для сравнения\n",
    "    if len(last) > 1:\n",
    "        for i in last:\n",
    "            if last[0] == last[1]: # сравниваю строки\n",
    "                k += 1\n",
    "                list_discharge.insert(0,last[0])\n",
    "                last.remove(last[0])\n",
    "                list_discharge.insert(0,last[0])\n",
    "                last.remove(last[0])\n",
    "print('количество пар =', k)"
   ]
  },
  {
   "cell_type": "code",
   "execution_count": 56,
   "metadata": {
    "scrolled": true
   },
   "outputs": [
    {
     "name": "stdout",
     "output_type": "stream",
     "text": [
      "Введите количество граней первого кубика: 6\n",
      "Введите количество граней второго кубика: 6\n"
     ]
    },
    {
     "data": {
      "text/plain": [
       "[(1, 1),\n",
       " (1, 2),\n",
       " (1, 3),\n",
       " (1, 4),\n",
       " (1, 5),\n",
       " (1, 6),\n",
       " (2, 1),\n",
       " (2, 2),\n",
       " (2, 3),\n",
       " (2, 4),\n",
       " (2, 5),\n",
       " (2, 6),\n",
       " (3, 1),\n",
       " (3, 2),\n",
       " (3, 3),\n",
       " (3, 4),\n",
       " (3, 5),\n",
       " (3, 6),\n",
       " (4, 1),\n",
       " (4, 2),\n",
       " (4, 3),\n",
       " (4, 4),\n",
       " (4, 5),\n",
       " (4, 6),\n",
       " (5, 1),\n",
       " (5, 2),\n",
       " (5, 3),\n",
       " (5, 4),\n",
       " (5, 5),\n",
       " (5, 6),\n",
       " (6, 1),\n",
       " (6, 2),\n",
       " (6, 3),\n",
       " (6, 4),\n",
       " (6, 5),\n",
       " (6, 6)]"
      ]
     },
     "execution_count": 56,
     "metadata": {},
     "output_type": "execute_result"
    }
   ],
   "source": [
    "# вариации двух кубиков с заданным количеством граней\n",
    "import itertools\n",
    "from itertools import product\n",
    "\n",
    "first = int(input('Введите количество граней первого кубика: '))\n",
    "second = int(input('Введите количество граней второго кубика: '))\n",
    "my_list1 = list(range(1,first+1))\n",
    "my_list2 = list(range(1,second+1))\n",
    "\n",
    "\n",
    "list(product(my_list1, my_list2, repeat = 1))"
   ]
  },
  {
   "cell_type": "code",
   "execution_count": 55,
   "metadata": {},
   "outputs": [
    {
     "name": "stdout",
     "output_type": "stream",
     "text": [
      "Введите имя: Artem\n",
      "Введите почту: fomin.artem.serg@gmail.com\n",
      "Введите возраст: 24\n",
      "Вы ввели данные верно!\n",
      "В имени всё чётко\n",
      "почта введа верно\n",
      "Проходите по возрасту \n"
     ]
    }
   ],
   "source": [
    "#Есть файл с протоколом регистраций пользователей на сайте (registrations.txt).\n",
    "#Каждая строка содержит информацию о имени, электронной почте и возрасте человека.\n",
    "\n",
    "\n",
    "#Надо проверить данные из файла, для каждой строки:\n",
    "\n",
    "#присутсвуют все три поля\n",
    "#поле имени содержит только буквы\n",
    "#поле email содержит @ и .\n",
    "#поле возраст является числом от 10 до 99\n",
    "# проверка\n",
    "inp1 = input('Введите имя: ')\n",
    "inp2 = input('Введите почту: ')\n",
    "inp3 = int(input('Введите возраст: '))\n",
    "\n",
    "my_list = [inp1, inp2, inp3]\n",
    "\n",
    "if len(my_list) < 3:\n",
    "    print('Вы ввели данные не полностью! ')\n",
    "else:\n",
    "        print('Вы ввели данные верно!')\n",
    "if inp1.isalpha:\n",
    "    print('В имени всё чётко')\n",
    "else:\n",
    "        print('В имени есть буквы, ошибка')\n",
    "if '@' not in my_list[1] or '.' not in my_list[1]:\n",
    "    print('неправильно ввели почту')\n",
    "else:\n",
    "        print('почта введа верно')\n",
    "if inp3 > 10 or inp3  > 99:\n",
    "     print('Проходите по возрасту ')\n",
    "else:\n",
    "    print('не подходите ')"
   ]
  }
 ],
 "metadata": {
  "kernelspec": {
   "display_name": "Python 3",
   "language": "python",
   "name": "python3"
  },
  "language_info": {
   "codemirror_mode": {
    "name": "ipython",
    "version": 3
   },
   "file_extension": ".py",
   "mimetype": "text/x-python",
   "name": "python",
   "nbconvert_exporter": "python",
   "pygments_lexer": "ipython3",
   "version": "3.8.3"
  }
 },
 "nbformat": 4,
 "nbformat_minor": 4
}
