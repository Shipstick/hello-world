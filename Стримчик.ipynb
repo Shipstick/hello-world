{
 "cells": [
  {
   "cell_type": "markdown",
   "metadata": {
    "toc": true
   },
   "source": [
    "<h1>Содержание<span class=\"tocSkip\"></span></h1>\n",
    "<div class=\"toc\"><ul class=\"toc-item\"><li><span><a href=\"#Изучение-данных\" data-toc-modified-id=\"Изучение-данных-1\"><span class=\"toc-item-num\">1&nbsp;&nbsp;</span>Изучение данных</a></span></li><li><span><a href=\"#Предобработка-данных\" data-toc-modified-id=\"Предобработка-данных-2\"><span class=\"toc-item-num\">2&nbsp;&nbsp;</span>Предобработка данных</a></span><ul class=\"toc-item\"><li><span><a href=\"#year_of_release\" data-toc-modified-id=\"year_of_release-2.1\"><span class=\"toc-item-num\">2.1&nbsp;&nbsp;</span>year_of_release</a></span></li><li><span><a href=\"#critic_score\" data-toc-modified-id=\"critic_score-2.2\"><span class=\"toc-item-num\">2.2&nbsp;&nbsp;</span>critic_score</a></span></li><li><span><a href=\"#user_score\" data-toc-modified-id=\"user_score-2.3\"><span class=\"toc-item-num\">2.3&nbsp;&nbsp;</span>user_score</a></span></li><li><span><a href=\"#rating\" data-toc-modified-id=\"rating-2.4\"><span class=\"toc-item-num\">2.4&nbsp;&nbsp;</span>rating</a></span></li><li><span><a href=\"#Общие-продажи-по-всем-регионам\" data-toc-modified-id=\"Общие-продажи-по-всем-регионам-2.5\"><span class=\"toc-item-num\">2.5&nbsp;&nbsp;</span>Общие продажи по всем регионам</a></span><ul class=\"toc-item\"><li><span><a href=\"#Вывод\" data-toc-modified-id=\"Вывод-2.5.1\"><span class=\"toc-item-num\">2.5.1&nbsp;&nbsp;</span>Вывод</a></span></li></ul></li></ul></li><li><span><a href=\"#Исследовательский-анализ-данных\" data-toc-modified-id=\"Исследовательский-анализ-данных-3\"><span class=\"toc-item-num\">3&nbsp;&nbsp;</span>Исследовательский анализ данных</a></span><ul class=\"toc-item\"><li><span><a href=\"#Cколько-игр-выпускалось-в-разные-годы,-важны-ли-данные-за-все-периоды?\" data-toc-modified-id=\"Cколько-игр-выпускалось-в-разные-годы,-важны-ли-данные-за-все-периоды?-3.1\"><span class=\"toc-item-num\">3.1&nbsp;&nbsp;</span>Cколько игр выпускалось в разные годы, важны ли данные за все периоды?</a></span></li><li><span><a href=\"#Как-менялись-продажи-по-платформам,-у-каких-платформ-наибольшие-суммарные-продажи?\" data-toc-modified-id=\"Как-менялись-продажи-по-платформам,-у-каких-платформ-наибольшие-суммарные-продажи?-3.2\"><span class=\"toc-item-num\">3.2&nbsp;&nbsp;</span>Как менялись продажи по платформам, у каких платформ наибольшие суммарные продажи?</a></span></li><li><span><a href=\"#Актуальный-период\" data-toc-modified-id=\"Актуальный-период-3.3\"><span class=\"toc-item-num\">3.3&nbsp;&nbsp;</span>Актуальный период</a></span></li><li><span><a href=\"#Какие-платформы-лидируют-по-продажам,-растут-или-падают?-Выберите-несколько-потенциально-прибыльных-платформ\" data-toc-modified-id=\"Какие-платформы-лидируют-по-продажам,-растут-или-падают?-Выберите-несколько-потенциально-прибыльных-платформ-3.4\"><span class=\"toc-item-num\">3.4&nbsp;&nbsp;</span>Какие платформы лидируют по продажам, растут или падают? Выберите несколько потенциально прибыльных платформ</a></span></li><li><span><a href=\"#Постройте-график-«ящик-с-усами»-по-глобальным-продажам-игр-в-разбивке-по-платформам\" data-toc-modified-id=\"Постройте-график-«ящик-с-усами»-по-глобальным-продажам-игр-в-разбивке-по-платформам-3.5\"><span class=\"toc-item-num\">3.5&nbsp;&nbsp;</span>Постройте график «ящик с усами» по глобальным продажам игр в разбивке по платформам</a></span></li><li><span><a href=\"#Как-влияют-на-продажи-внутри-одной-популярной-платформы-отзывы-пользователей-и-критиков.\" data-toc-modified-id=\"Как-влияют-на-продажи-внутри-одной-популярной-платформы-отзывы-пользователей-и-критиков.-3.6\"><span class=\"toc-item-num\">3.6&nbsp;&nbsp;</span>Как влияют на продажи внутри одной популярной платформы отзывы пользователей и критиков.</a></span><ul class=\"toc-item\"><li><ul class=\"toc-item\"><li><span><a href=\"#Вывод\" data-toc-modified-id=\"Вывод-3.6.0.1\"><span class=\"toc-item-num\">3.6.0.1&nbsp;&nbsp;</span>Вывод</a></span></li></ul></li><li><span><a href=\"#Топы-жанров-по-выручке-и-количеству-релизов\" data-toc-modified-id=\"Топы-жанров-по-выручке-и-количеству-релизов-3.6.1\"><span class=\"toc-item-num\">3.6.1&nbsp;&nbsp;</span>Топы жанров по выручке и количеству релизов</a></span><ul class=\"toc-item\"><li><span><a href=\"#Вывод\" data-toc-modified-id=\"Вывод-3.6.1.1\"><span class=\"toc-item-num\">3.6.1.1&nbsp;&nbsp;</span>Вывод</a></span></li></ul></li></ul></li></ul></li><li><span><a href=\"#Портрет-пользователя-каждого-региона\" data-toc-modified-id=\"Портрет-пользователя-каждого-региона-4\"><span class=\"toc-item-num\">4&nbsp;&nbsp;</span>Портрет пользователя каждого региона</a></span><ul class=\"toc-item\"><li><span><a href=\"#По-платформам\" data-toc-modified-id=\"По-платформам-4.1\"><span class=\"toc-item-num\">4.1&nbsp;&nbsp;</span>По платформам</a></span></li><li><span><a href=\"#По-жанрам\" data-toc-modified-id=\"По-жанрам-4.2\"><span class=\"toc-item-num\">4.2&nbsp;&nbsp;</span>По жанрам</a></span><ul class=\"toc-item\"><li><span><a href=\"#Вывод\" data-toc-modified-id=\"Вывод-4.2.1\"><span class=\"toc-item-num\">4.2.1&nbsp;&nbsp;</span>Вывод</a></span></li><li><span><a href=\"#Вывод:\" data-toc-modified-id=\"Вывод:-4.2.2\"><span class=\"toc-item-num\">4.2.2&nbsp;&nbsp;</span>Вывод:</a></span></li></ul></li></ul></li><li><span><a href=\"#Проверка-гипотез\" data-toc-modified-id=\"Проверка-гипотез-5\"><span class=\"toc-item-num\">5&nbsp;&nbsp;</span>Проверка гипотез</a></span><ul class=\"toc-item\"><li><span><a href=\"#Средние-пользовательские-рейтинги-платформ-Xbox-One-и-PC-одинаковые\" data-toc-modified-id=\"Средние-пользовательские-рейтинги-платформ-Xbox-One-и-PC-одинаковые-5.1\"><span class=\"toc-item-num\">5.1&nbsp;&nbsp;</span>Средние пользовательские рейтинги платформ Xbox One и PC одинаковые</a></span></li><li><span><a href=\"#Средние-пользовательские-рейтинги-жанров-Action-(англ.-«действие»,-экшен-игры)-и-Sports-(англ.-«спортивные-соревнования»)-разные.\" data-toc-modified-id=\"Средние-пользовательские-рейтинги-жанров-Action-(англ.-«действие»,-экшен-игры)-и-Sports-(англ.-«спортивные-соревнования»)-разные.-5.2\"><span class=\"toc-item-num\">5.2&nbsp;&nbsp;</span>Средние пользовательские рейтинги жанров Action (англ. «действие», экшен-игры) и Sports (англ. «спортивные соревнования») разные.</a></span><ul class=\"toc-item\"><li><span><a href=\"#Вывод\" data-toc-modified-id=\"Вывод-5.2.1\"><span class=\"toc-item-num\">5.2.1&nbsp;&nbsp;</span>Вывод</a></span></li></ul></li></ul></li><li><span><a href=\"#Общий-вывод:\" data-toc-modified-id=\"Общий-вывод:-6\"><span class=\"toc-item-num\">6&nbsp;&nbsp;</span>Общий вывод:</a></span></li></ul></div>"
   ]
  },
  {
   "cell_type": "markdown",
   "metadata": {},
   "source": [
    "# Интернет-магазин \"Стримчик\""
   ]
  },
  {
   "cell_type": "markdown",
   "metadata": {},
   "source": [
    "**Описание проекта**\n",
    "\n",
    "Вы работаете в интернет-магазине «Стримчик», который продаёт по всему миру компьютерные игры. Из открытых источников доступны исторические данные о продажах игр, оценки пользователей и экспертов, жанры и платформы (например, Xbox или PlayStation). Вам нужно выявить определяющие успешность игры закономерности. Это позволит сделать ставку на потенциально популярный продукт и спланировать рекламные кампании.\n",
    "\n",
    "Перед вами данные до 2016 года. Представим, что сейчас декабрь 2016 г., и вы планируете кампанию на 2017-й. Нужно отработать принцип работы с данными. Неважно, прогнозируете ли вы продажи на 2017 год по данным 2016-го или же 2027-й — по данным 2026 года.\n",
    "\n",
    "В наборе данных попадается аббревиатура ESRB (Entertainment Software Rating Board) — это ассоциация, определяющая возрастной рейтинг компьютерных игр. ESRB оценивает игровой контент и присваивает ему подходящую возрастную категорию, например, «Для взрослых», «Для детей младшего возраста» или «Для подростков»."
   ]
  },
  {
   "cell_type": "markdown",
   "metadata": {},
   "source": [
    "**Цели и основные этапы:**\n",
    "\n",
    "  **Выполнить предобработку данных**\n",
    "    - Замена названий колонок\n",
    "    - Обработать пропуски при необходимости\n",
    "    - Обратить внимание на `tbd`\n",
    "    - Посчитать суммарные продажи по всем регионам и записать их в отдельную колонку\n",
    "        \n",
    "  **Провести исследовательский анализ**\n",
    "    - Посмотреть на выпуск релизов от всех платформ по годам. Для этих фаворитов построить график распределения по годам.\n",
    "    - Выбрать актуальный период\n",
    "    - Для потенциально прибыльных платформ построить boxplot\n",
    "    - Узнать корреляцию между продажами и отзывами пользователей (не забываем про критиков)\n",
    "        \n",
    "  **Составить портрет каждого пользователя**\n",
    "    - Самые популярные платформы\n",
    "    - Самые популярные жанры\n",
    "        \n",
    "  **Проверьте гипотезы**\n",
    "    - Средние пользовательские рейтинги платформ Xbox One и PC одинаковые\n",
    "    - Средние пользовательские рейтинги жанров Action  и Sports разные\n",
    "    \n",
    "  **Общий вывод**"
   ]
  },
  {
   "cell_type": "markdown",
   "metadata": {},
   "source": [
    "## Изучение данных"
   ]
  },
  {
   "cell_type": "code",
   "execution_count": 1,
   "metadata": {},
   "outputs": [],
   "source": [
    "import pandas as pd\n",
    "import matplotlib.pyplot as plt\n",
    "import seaborn as sns\n",
    "import numpy as np\n",
    "import warnings\n",
    "\n",
    "from scipy import stats as st"
   ]
  },
  {
   "cell_type": "code",
   "execution_count": 2,
   "metadata": {},
   "outputs": [],
   "source": [
    "pd.set_option('display.max_rows', None)\n",
    "pd.set_option('display.max_columns', None)\n",
    "pd.options.display.float_format = '{:_.2f}'.format\n",
    "warnings.filterwarnings('ignore')"
   ]
  },
  {
   "cell_type": "code",
   "execution_count": 3,
   "metadata": {
    "scrolled": true
   },
   "outputs": [],
   "source": [
    "data = pd.read_csv('/datasets/games.csv')"
   ]
  },
  {
   "cell_type": "markdown",
   "metadata": {},
   "source": [
    "**Описание данных**\n",
    "\n",
    "- `Name` — название игры\n",
    "- `Platform` — платформа\n",
    "- `Year_of_Release` — год выпуска\n",
    "- `Genre` — жанр игры\n",
    "- `NA_sales` — продажи в Северной Америке (миллионы проданных копий)\n",
    "- `EU_sales` — продажи в Европе (миллионы проданных копий)\n",
    "- `JP_sales` — продажи в Японии (миллионы проданных копий)\n",
    "- `Other_sales` — продажи в других странах (миллионы проданных копий)\n",
    "- `Critic_Score` — оценка критиков (максимум 100)\n",
    "- `User_Score` — оценка пользователей (максимум 10)\n",
    "- `Rating` — рейтинг от организации ESRB (англ. Entertainment Software Rating Board). Эта ассоциация определяет рейтинг компьютерных игр и присваивает им подходящую возрастную категорию."
   ]
  },
  {
   "cell_type": "code",
   "execution_count": 4,
   "metadata": {},
   "outputs": [
    {
     "data": {
      "text/html": [
       "<div>\n",
       "<style scoped>\n",
       "    .dataframe tbody tr th:only-of-type {\n",
       "        vertical-align: middle;\n",
       "    }\n",
       "\n",
       "    .dataframe tbody tr th {\n",
       "        vertical-align: top;\n",
       "    }\n",
       "\n",
       "    .dataframe thead th {\n",
       "        text-align: right;\n",
       "    }\n",
       "</style>\n",
       "<table border=\"1\" class=\"dataframe\">\n",
       "  <thead>\n",
       "    <tr style=\"text-align: right;\">\n",
       "      <th></th>\n",
       "      <th>Name</th>\n",
       "      <th>Platform</th>\n",
       "      <th>Year_of_Release</th>\n",
       "      <th>Genre</th>\n",
       "      <th>NA_sales</th>\n",
       "      <th>EU_sales</th>\n",
       "      <th>JP_sales</th>\n",
       "      <th>Other_sales</th>\n",
       "      <th>Critic_Score</th>\n",
       "      <th>User_Score</th>\n",
       "      <th>Rating</th>\n",
       "    </tr>\n",
       "  </thead>\n",
       "  <tbody>\n",
       "    <tr>\n",
       "      <th>0</th>\n",
       "      <td>Wii Sports</td>\n",
       "      <td>Wii</td>\n",
       "      <td>2_006.00</td>\n",
       "      <td>Sports</td>\n",
       "      <td>41.36</td>\n",
       "      <td>28.96</td>\n",
       "      <td>3.77</td>\n",
       "      <td>8.45</td>\n",
       "      <td>76.00</td>\n",
       "      <td>8</td>\n",
       "      <td>E</td>\n",
       "    </tr>\n",
       "    <tr>\n",
       "      <th>1</th>\n",
       "      <td>Super Mario Bros.</td>\n",
       "      <td>NES</td>\n",
       "      <td>1_985.00</td>\n",
       "      <td>Platform</td>\n",
       "      <td>29.08</td>\n",
       "      <td>3.58</td>\n",
       "      <td>6.81</td>\n",
       "      <td>0.77</td>\n",
       "      <td>NaN</td>\n",
       "      <td>NaN</td>\n",
       "      <td>NaN</td>\n",
       "    </tr>\n",
       "    <tr>\n",
       "      <th>2</th>\n",
       "      <td>Mario Kart Wii</td>\n",
       "      <td>Wii</td>\n",
       "      <td>2_008.00</td>\n",
       "      <td>Racing</td>\n",
       "      <td>15.68</td>\n",
       "      <td>12.76</td>\n",
       "      <td>3.79</td>\n",
       "      <td>3.29</td>\n",
       "      <td>82.00</td>\n",
       "      <td>8.3</td>\n",
       "      <td>E</td>\n",
       "    </tr>\n",
       "    <tr>\n",
       "      <th>3</th>\n",
       "      <td>Wii Sports Resort</td>\n",
       "      <td>Wii</td>\n",
       "      <td>2_009.00</td>\n",
       "      <td>Sports</td>\n",
       "      <td>15.61</td>\n",
       "      <td>10.93</td>\n",
       "      <td>3.28</td>\n",
       "      <td>2.95</td>\n",
       "      <td>80.00</td>\n",
       "      <td>8</td>\n",
       "      <td>E</td>\n",
       "    </tr>\n",
       "    <tr>\n",
       "      <th>4</th>\n",
       "      <td>Pokemon Red/Pokemon Blue</td>\n",
       "      <td>GB</td>\n",
       "      <td>1_996.00</td>\n",
       "      <td>Role-Playing</td>\n",
       "      <td>11.27</td>\n",
       "      <td>8.89</td>\n",
       "      <td>10.22</td>\n",
       "      <td>1.00</td>\n",
       "      <td>NaN</td>\n",
       "      <td>NaN</td>\n",
       "      <td>NaN</td>\n",
       "    </tr>\n",
       "  </tbody>\n",
       "</table>\n",
       "</div>"
      ],
      "text/plain": [
       "                       Name Platform  Year_of_Release         Genre  NA_sales  \\\n",
       "0                Wii Sports      Wii         2_006.00        Sports     41.36   \n",
       "1         Super Mario Bros.      NES         1_985.00      Platform     29.08   \n",
       "2            Mario Kart Wii      Wii         2_008.00        Racing     15.68   \n",
       "3         Wii Sports Resort      Wii         2_009.00        Sports     15.61   \n",
       "4  Pokemon Red/Pokemon Blue       GB         1_996.00  Role-Playing     11.27   \n",
       "\n",
       "   EU_sales  JP_sales  Other_sales  Critic_Score User_Score Rating  \n",
       "0     28.96      3.77         8.45         76.00          8      E  \n",
       "1      3.58      6.81         0.77           NaN        NaN    NaN  \n",
       "2     12.76      3.79         3.29         82.00        8.3      E  \n",
       "3     10.93      3.28         2.95         80.00          8      E  \n",
       "4      8.89     10.22         1.00           NaN        NaN    NaN  "
      ]
     },
     "execution_count": 4,
     "metadata": {},
     "output_type": "execute_result"
    }
   ],
   "source": [
    "data.head()"
   ]
  },
  {
   "cell_type": "code",
   "execution_count": 5,
   "metadata": {},
   "outputs": [
    {
     "name": "stdout",
     "output_type": "stream",
     "text": [
      "<class 'pandas.core.frame.DataFrame'>\n",
      "RangeIndex: 16715 entries, 0 to 16714\n",
      "Data columns (total 11 columns):\n",
      " #   Column           Non-Null Count  Dtype  \n",
      "---  ------           --------------  -----  \n",
      " 0   Name             16713 non-null  object \n",
      " 1   Platform         16715 non-null  object \n",
      " 2   Year_of_Release  16446 non-null  float64\n",
      " 3   Genre            16713 non-null  object \n",
      " 4   NA_sales         16715 non-null  float64\n",
      " 5   EU_sales         16715 non-null  float64\n",
      " 6   JP_sales         16715 non-null  float64\n",
      " 7   Other_sales      16715 non-null  float64\n",
      " 8   Critic_Score     8137 non-null   float64\n",
      " 9   User_Score       10014 non-null  object \n",
      " 10  Rating           9949 non-null   object \n",
      "dtypes: float64(6), object(5)\n",
      "memory usage: 1.4+ MB\n"
     ]
    }
   ],
   "source": [
    "data.info()"
   ]
  },
  {
   "cell_type": "code",
   "execution_count": 6,
   "metadata": {
    "scrolled": false
   },
   "outputs": [
    {
     "data": {
      "image/png": "[encoded data removed]",
      "text/plain": [
       "<Figure size 576x720 with 6 Axes>"
      ]
     },
     "metadata": {
      "needs_background": "light"
     },
     "output_type": "display_data"
    }
   ],
   "source": [
    "data.hist(figsize=(8,10))\n",
    "plt.show()"
   ]
  },
  {
   "cell_type": "markdown",
   "metadata": {},
   "source": [
    "## Предобработка данных"
   ]
  },
  {
   "cell_type": "code",
   "execution_count": 7,
   "metadata": {},
   "outputs": [
    {
     "data": {
      "text/plain": [
       "16715"
      ]
     },
     "execution_count": 7,
     "metadata": {},
     "output_type": "execute_result"
    }
   ],
   "source": [
    "# считаю количество строк перед предобработкой\n",
    "row_start = data.shape[0]\n",
    "row_start"
   ]
  },
  {
   "cell_type": "code",
   "execution_count": 8,
   "metadata": {},
   "outputs": [],
   "source": [
    "# привожу к нижнему регистру\n",
    "data.columns = data.columns.str.lower()"
   ]
  },
  {
   "cell_type": "code",
   "execution_count": 9,
   "metadata": {
    "scrolled": false
   },
   "outputs": [
    {
     "data": {
      "text/plain": [
       "name                  2\n",
       "platform              0\n",
       "year_of_release     269\n",
       "genre                 2\n",
       "na_sales              0\n",
       "eu_sales              0\n",
       "jp_sales              0\n",
       "other_sales           0\n",
       "critic_score       8578\n",
       "user_score         6701\n",
       "rating             6766\n",
       "dtype: int64"
      ]
     },
     "execution_count": 9,
     "metadata": {},
     "output_type": "execute_result"
    }
   ],
   "source": [
    "# пропуски по колонкам\n",
    "data.isna().sum()"
   ]
  },
  {
   "cell_type": "code",
   "execution_count": 10,
   "metadata": {
    "scrolled": true
   },
   "outputs": [
    {
     "data": {
      "text/html": [
       "<style  type=\"text/css\" >\n",
       "#T_2e694_row0_col0,#T_2e694_row1_col0,#T_2e694_row3_col0,#T_2e694_row4_col0,#T_2e694_row5_col0,#T_2e694_row6_col0,#T_2e694_row7_col0{\n",
       "            background-color:  #3b4cc0;\n",
       "            color:  #f1f1f1;\n",
       "        }#T_2e694_row2_col0{\n",
       "            background-color:  #465ecf;\n",
       "            color:  #f1f1f1;\n",
       "        }#T_2e694_row8_col0{\n",
       "            background-color:  #b40426;\n",
       "            color:  #f1f1f1;\n",
       "        }#T_2e694_row9_col0,#T_2e694_row10_col0{\n",
       "            background-color:  #f08b6e;\n",
       "            color:  #000000;\n",
       "        }</style><table id=\"T_2e694_\" ><thead>    <tr>        <th class=\"blank level0\" ></th>        <th class=\"col_heading level0 col0\" >0</th>    </tr></thead><tbody>\n",
       "                <tr>\n",
       "                        <th id=\"T_2e694_level0_row0\" class=\"row_heading level0 row0\" >name</th>\n",
       "                        <td id=\"T_2e694_row0_col0\" class=\"data row0 col0\" >0.000000</td>\n",
       "            </tr>\n",
       "            <tr>\n",
       "                        <th id=\"T_2e694_level0_row1\" class=\"row_heading level0 row1\" >platform</th>\n",
       "                        <td id=\"T_2e694_row1_col0\" class=\"data row1 col0\" >0.000000</td>\n",
       "            </tr>\n",
       "            <tr>\n",
       "                        <th id=\"T_2e694_level0_row2\" class=\"row_heading level0 row2\" >year_of_release</th>\n",
       "                        <td id=\"T_2e694_row2_col0\" class=\"data row2 col0\" >2.000000</td>\n",
       "            </tr>\n",
       "            <tr>\n",
       "                        <th id=\"T_2e694_level0_row3\" class=\"row_heading level0 row3\" >genre</th>\n",
       "                        <td id=\"T_2e694_row3_col0\" class=\"data row3 col0\" >0.000000</td>\n",
       "            </tr>\n",
       "            <tr>\n",
       "                        <th id=\"T_2e694_level0_row4\" class=\"row_heading level0 row4\" >na_sales</th>\n",
       "                        <td id=\"T_2e694_row4_col0\" class=\"data row4 col0\" >0.000000</td>\n",
       "            </tr>\n",
       "            <tr>\n",
       "                        <th id=\"T_2e694_level0_row5\" class=\"row_heading level0 row5\" >eu_sales</th>\n",
       "                        <td id=\"T_2e694_row5_col0\" class=\"data row5 col0\" >0.000000</td>\n",
       "            </tr>\n",
       "            <tr>\n",
       "                        <th id=\"T_2e694_level0_row6\" class=\"row_heading level0 row6\" >jp_sales</th>\n",
       "                        <td id=\"T_2e694_row6_col0\" class=\"data row6 col0\" >0.000000</td>\n",
       "            </tr>\n",
       "            <tr>\n",
       "                        <th id=\"T_2e694_level0_row7\" class=\"row_heading level0 row7\" >other_sales</th>\n",
       "                        <td id=\"T_2e694_row7_col0\" class=\"data row7 col0\" >0.000000</td>\n",
       "            </tr>\n",
       "            <tr>\n",
       "                        <th id=\"T_2e694_level0_row8\" class=\"row_heading level0 row8\" >critic_score</th>\n",
       "                        <td id=\"T_2e694_row8_col0\" class=\"data row8 col0\" >51.000000</td>\n",
       "            </tr>\n",
       "            <tr>\n",
       "                        <th id=\"T_2e694_level0_row9\" class=\"row_heading level0 row9\" >user_score</th>\n",
       "                        <td id=\"T_2e694_row9_col0\" class=\"data row9 col0\" >40.000000</td>\n",
       "            </tr>\n",
       "            <tr>\n",
       "                        <th id=\"T_2e694_level0_row10\" class=\"row_heading level0 row10\" >rating</th>\n",
       "                        <td id=\"T_2e694_row10_col0\" class=\"data row10 col0\" >40.000000</td>\n",
       "            </tr>\n",
       "    </tbody></table>"
      ],
      "text/plain": [
       "<pandas.io.formats.style.Styler at 0x7fed278526a0>"
      ]
     },
     "execution_count": 10,
     "metadata": {},
     "output_type": "execute_result"
    }
   ],
   "source": [
    "#  пропуски по колонкам в (%)\n",
    "pd.DataFrame(round(data.isna().mean()*100,)).style.background_gradient('coolwarm')"
   ]
  },
  {
   "cell_type": "markdown",
   "metadata": {},
   "source": [
    "- `name` - 2 пропуска, можно затереть\n",
    "- `year_of_release` - пропусков мало, меньше 5%, лучше уберу сразу. Без точных данных по году релиза данные теряют актуальность.\n",
    "- `critic_score` - пропусков больше половины, удалять нельзя, можем поставить заглушку\n",
    "- `user_score` - ставим заглушку\n",
    "- `rating` - и ещё раз\n",
    "\n",
    "На весь объём данных можем отсеять ~ 10% данных, не более - с этим всё хорошо\n",
    "С нашими пропусками mean, median не помогут, будем использовать заглушки"
   ]
  },
  {
   "cell_type": "code",
   "execution_count": 11,
   "metadata": {},
   "outputs": [],
   "source": [
    "data.dropna(subset=['year_of_release'], inplace=True)\n",
    "data.dropna(subset=['name'], inplace=True)"
   ]
  },
  {
   "cell_type": "code",
   "execution_count": 12,
   "metadata": {},
   "outputs": [
    {
     "data": {
      "text/plain": [
       "1.6212982351181608"
      ]
     },
     "execution_count": 12,
     "metadata": {},
     "output_type": "execute_result"
    }
   ],
   "source": [
    "100 - (data.shape[0] / row_start * 100) # процентр пока небольшой"
   ]
  },
  {
   "cell_type": "markdown",
   "metadata": {},
   "source": [
    "### year_of_release"
   ]
  },
  {
   "cell_type": "code",
   "execution_count": 13,
   "metadata": {},
   "outputs": [
    {
     "data": {
      "text/plain": [
       "0   2_006.00\n",
       "Name: year_of_release, dtype: float64"
      ]
     },
     "execution_count": 13,
     "metadata": {},
     "output_type": "execute_result"
    }
   ],
   "source": [
    "data['year_of_release'].head(1)"
   ]
  },
  {
   "cell_type": "code",
   "execution_count": 14,
   "metadata": {},
   "outputs": [],
   "source": [
    "data['year_of_release'] = data['year_of_release'].astype('int') # убираю \"_\" в колонке с годом, год д.б. типа int"
   ]
  },
  {
   "cell_type": "code",
   "execution_count": 15,
   "metadata": {
    "scrolled": true
   },
   "outputs": [
    {
     "data": {
      "text/plain": [
       "0    2006\n",
       "Name: year_of_release, dtype: int64"
      ]
     },
     "execution_count": 15,
     "metadata": {},
     "output_type": "execute_result"
    }
   ],
   "source": [
    "data['year_of_release'].head(1)"
   ]
  },
  {
   "cell_type": "markdown",
   "metadata": {},
   "source": [
    "### critic_score"
   ]
  },
  {
   "cell_type": "code",
   "execution_count": 16,
   "metadata": {
    "scrolled": true
   },
   "outputs": [
    {
     "data": {
      "text/plain": [
       "array([76., nan, 82., 80., 89., 58., 87., 91., 61., 97., 95., 77., 88.,\n",
       "       83., 94., 93., 85., 86., 98., 96., 90., 84., 73., 74., 78., 92.,\n",
       "       71., 72., 68., 62., 49., 67., 81., 66., 56., 79., 70., 59., 64.,\n",
       "       75., 60., 63., 69., 50., 25., 42., 44., 55., 48., 57., 29., 47.,\n",
       "       65., 54., 20., 53., 37., 38., 33., 52., 30., 32., 43., 45., 51.,\n",
       "       40., 46., 39., 34., 41., 36., 31., 27., 35., 26., 19., 28., 23.,\n",
       "       24., 21., 17., 13.])"
      ]
     },
     "execution_count": 16,
     "metadata": {},
     "output_type": "execute_result"
    }
   ],
   "source": [
    "data.critic_score.unique() "
   ]
  },
  {
   "cell_type": "code",
   "execution_count": 17,
   "metadata": {},
   "outputs": [],
   "source": [
    "# во многих строках с пропусками по колонке critic_score, есть также пропуски  \n",
    "# по колонкам user_score, rating - зато тут есть данные по продажам,\n",
    "# поэтому забью заглушкой численно, напр. 999,  "
   ]
  },
  {
   "cell_type": "code",
   "execution_count": 18,
   "metadata": {
    "scrolled": true
   },
   "outputs": [
    {
     "data": {
      "text/plain": [
       "0"
      ]
     },
     "execution_count": 18,
     "metadata": {},
     "output_type": "execute_result"
    }
   ],
   "source": [
    "data.critic_score = data.critic_score.fillna(999)\n",
    "data.critic_score.isna().sum()"
   ]
  },
  {
   "cell_type": "markdown",
   "metadata": {},
   "source": [
    "во многих строках с пропусками по колонке critic_score, есть также пропуски по колонкам user_score, rating - зато тут есть данные по продажам, поэтому забью заглушкой численно, напр. 999,  "
   ]
  },
  {
   "cell_type": "markdown",
   "metadata": {},
   "source": [
    "### user_score"
   ]
  },
  {
   "cell_type": "code",
   "execution_count": 19,
   "metadata": {},
   "outputs": [
    {
     "data": {
      "text/plain": [
       "array(['8', nan, '8.3', '8.5', '6.6', '8.4', '8.6', '7.7', '6.3', '7.4',\n",
       "       '8.2', '9', '7.9', '8.1', '8.7', '7.1', '3.4', '5.3', '4.8', '3.2',\n",
       "       '8.9', '6.4', '7.8', '7.5', '2.6', '7.2', '9.2', '7', '7.3', '4.3',\n",
       "       '7.6', '5.7', '5', '9.1', '6.5', 'tbd', '8.8', '6.9', '9.4', '6.8',\n",
       "       '6.1', '6.7', '5.4', '4', '4.9', '4.5', '9.3', '6.2', '4.2', '6',\n",
       "       '3.7', '4.1', '5.8', '5.6', '5.5', '4.4', '4.6', '5.9', '3.9',\n",
       "       '3.1', '2.9', '5.2', '3.3', '4.7', '5.1', '3.5', '2.5', '1.9', '3',\n",
       "       '2.7', '2.2', '2', '9.5', '2.1', '3.6', '2.8', '1.8', '3.8', '0',\n",
       "       '1.6', '9.6', '2.4', '1.7', '1.1', '0.3', '1.5', '0.7', '1.2',\n",
       "       '2.3', '0.5', '1.3', '0.2', '0.6', '1.4', '0.9', '1', '9.7'],\n",
       "      dtype=object)"
      ]
     },
     "execution_count": 19,
     "metadata": {},
     "output_type": "execute_result"
    }
   ],
   "source": [
    "data.user_score.unique()"
   ]
  },
  {
   "cell_type": "code",
   "execution_count": 20,
   "metadata": {
    "scrolled": true
   },
   "outputs": [
    {
     "data": {
      "text/plain": [
       "0"
      ]
     },
     "execution_count": 20,
     "metadata": {},
     "output_type": "execute_result"
    }
   ],
   "source": [
    "data.user_score = data.user_score.fillna(999)\n",
    "data.user_score.isna().sum()"
   ]
  },
  {
   "cell_type": "markdown",
   "metadata": {},
   "source": [
    "tbd - скорее всего to be determined,т.е. будет определено, хочу заменить его:"
   ]
  },
  {
   "cell_type": "code",
   "execution_count": 22,
   "metadata": {},
   "outputs": [],
   "source": [
    "#Код ревьюера\n",
    "import numpy as np\n",
    "data['user_score'] = data['user_score'].replace('tbd', np.NaN)\n",
    "\n"
   ]
  },
  {
   "cell_type": "code",
   "execution_count": 23,
   "metadata": {},
   "outputs": [],
   "source": [
    "# теперь там только цифры, можно поменять тип данных\n",
    "data['user_score'] = data['user_score'].astype('float')"
   ]
  },
  {
   "cell_type": "markdown",
   "metadata": {},
   "source": [
    "### rating"
   ]
  },
  {
   "cell_type": "code",
   "execution_count": 24,
   "metadata": {},
   "outputs": [
    {
     "data": {
      "text/plain": [
       "array(['E', nan, 'M', 'T', 'E10+', 'K-A', 'AO', 'EC', 'RP'], dtype=object)"
      ]
     },
     "execution_count": 24,
     "metadata": {},
     "output_type": "execute_result"
    }
   ],
   "source": [
    "data.rating.unique()"
   ]
  },
  {
   "cell_type": "code",
   "execution_count": 25,
   "metadata": {},
   "outputs": [
    {
     "data": {
      "text/plain": [
       "0"
      ]
     },
     "execution_count": 25,
     "metadata": {},
     "output_type": "execute_result"
    }
   ],
   "source": [
    "data.rating = data.rating.fillna('unknown')\n",
    "data.rating.isna().sum()"
   ]
  },
  {
   "cell_type": "markdown",
   "metadata": {},
   "source": [
    "### Общие продажи по всем регионам"
   ]
  },
  {
   "cell_type": "code",
   "execution_count": 26,
   "metadata": {
    "scrolled": true
   },
   "outputs": [
    {
     "data": {
      "text/html": [
       "<div>\n",
       "<style scoped>\n",
       "    .dataframe tbody tr th:only-of-type {\n",
       "        vertical-align: middle;\n",
       "    }\n",
       "\n",
       "    .dataframe tbody tr th {\n",
       "        vertical-align: top;\n",
       "    }\n",
       "\n",
       "    .dataframe thead th {\n",
       "        text-align: right;\n",
       "    }\n",
       "</style>\n",
       "<table border=\"1\" class=\"dataframe\">\n",
       "  <thead>\n",
       "    <tr style=\"text-align: right;\">\n",
       "      <th></th>\n",
       "      <th>name</th>\n",
       "      <th>platform</th>\n",
       "      <th>year_of_release</th>\n",
       "      <th>genre</th>\n",
       "      <th>na_sales</th>\n",
       "      <th>eu_sales</th>\n",
       "      <th>jp_sales</th>\n",
       "      <th>other_sales</th>\n",
       "      <th>critic_score</th>\n",
       "      <th>user_score</th>\n",
       "      <th>rating</th>\n",
       "      <th>total_sales</th>\n",
       "    </tr>\n",
       "  </thead>\n",
       "  <tbody>\n",
       "    <tr>\n",
       "      <th>0</th>\n",
       "      <td>Wii Sports</td>\n",
       "      <td>Wii</td>\n",
       "      <td>2006</td>\n",
       "      <td>Sports</td>\n",
       "      <td>41.36</td>\n",
       "      <td>28.96</td>\n",
       "      <td>3.77</td>\n",
       "      <td>8.45</td>\n",
       "      <td>76.00</td>\n",
       "      <td>8.00</td>\n",
       "      <td>E</td>\n",
       "      <td>82.54</td>\n",
       "    </tr>\n",
       "  </tbody>\n",
       "</table>\n",
       "</div>"
      ],
      "text/plain": [
       "         name platform  year_of_release   genre  na_sales  eu_sales  jp_sales  \\\n",
       "0  Wii Sports      Wii             2006  Sports     41.36     28.96      3.77   \n",
       "\n",
       "   other_sales  critic_score  user_score rating  total_sales  \n",
       "0         8.45         76.00        8.00      E        82.54  "
      ]
     },
     "execution_count": 26,
     "metadata": {},
     "output_type": "execute_result"
    }
   ],
   "source": [
    "data['total_sales'] = data['na_sales'] + data['eu_sales'] + data['jp_sales'] + data['other_sales']\n",
    "data.head(1)"
   ]
  },
  {
   "cell_type": "markdown",
   "metadata": {},
   "source": [
    "#### Вывод\n",
    "- Названия колонок превидены к нижнему регистру\n",
    "- Почистили пропуски в `name`, `year_of_release`\n",
    "- Колонку с годом релиза в нужном виде\n",
    "- Поставили заглушки в оценках\n",
    "- Разобран \"tbd\" в `user_score`\n",
    "- Убрано 1.6 % данных\n"
   ]
  },
  {
   "cell_type": "code",
   "execution_count": 27,
   "metadata": {
    "scrolled": true
   },
   "outputs": [
    {
     "data": {
      "text/plain": [
       "0"
      ]
     },
     "execution_count": 27,
     "metadata": {},
     "output_type": "execute_result"
    }
   ],
   "source": [
    "# Ещё раз проверка на дубликаты:\n",
    "data.duplicated().sum()"
   ]
  },
  {
   "cell_type": "markdown",
   "metadata": {},
   "source": [
    "## Исследовательский анализ данных"
   ]
  },
  {
   "cell_type": "markdown",
   "metadata": {},
   "source": [
    "### Cколько игр выпускалось в разные годы, важны ли данные за все периоды?"
   ]
  },
  {
   "cell_type": "code",
   "execution_count": 28,
   "metadata": {
    "scrolled": true
   },
   "outputs": [
    {
     "data": {
      "image/png": "[encoded data removed]",
      "text/plain": [
       "<Figure size 432x288 with 1 Axes>"
      ]
     },
     "metadata": {
      "needs_background": "light"
     },
     "output_type": "display_data"
    }
   ],
   "source": [
    "data.groupby('year_of_release').agg('count')['name'].plot(kind='line', \n",
    "                                                                    ylabel='Количество игр',\n",
    "                                                                    xlabel='Год',\n",
    "                                                                    grid=True,\n",
    "                                                                    title = 'Развитие игропрома')\n",
    "plt.show()"
   ]
  },
  {
   "cell_type": "markdown",
   "metadata": {},
   "source": [
    "1990 - отправная точка, с этого этапа продажи выстреливают, 2008-9гг. держатся на вершине.\n",
    "\n",
    "в начале выпускали ~ 25 игр, дошли до 1400+,в последние годы ~ 500 Больше всего нам нужны данные за последние годы, помним что за 2016 наши данные неполные - возможно от этого спад"
   ]
  },
  {
   "cell_type": "markdown",
   "metadata": {},
   "source": [
    "### Как менялись продажи по платформам, у каких платформ наибольшие суммарные продажи?"
   ]
  },
  {
   "cell_type": "markdown",
   "metadata": {},
   "source": [
    "Для начала хочу построить график по общему количеству продаж за всё время по каждой платформ"
   ]
  },
  {
   "cell_type": "code",
   "execution_count": 31,
   "metadata": {
    "scrolled": false
   },
   "outputs": [
    {
     "data": {
      "image/png": "[encoded data removed]",
      "text/plain": [
       "<Figure size 432x288 with 1 Axes>"
      ]
     },
     "metadata": {
      "needs_background": "light"
     },
     "output_type": "display_data"
    }
   ],
   "source": [
    "data.groupby('platform').agg('sum')['total_sales'].sort_values(ascending=False).plot(kind='bar', \n",
    "                                                                                        ylabel='Млн. проданных копий',\n",
    "                                                                                        xlabel='Платформа',\n",
    "                                                                                        grid=True,\n",
    "                                                                                        title = 'Общие продажи по платформам')\n",
    "plt.show()"
   ]
  },
  {
   "cell_type": "markdown",
   "metadata": {},
   "source": [
    "Выйгрывают PS2, X360, PS3, Wii, DS, PS, остальные заметно отстают - это были суммарные продажи по платформам"
   ]
  },
  {
   "cell_type": "markdown",
   "metadata": {},
   "source": [
    "Мы выяснили фаворитов по продажам, теперь капаем глубже!  \n",
    "Строю график по годам, сможем увидеть примерную динамику по каждой платформе за весь период времени"
   ]
  },
  {
   "cell_type": "code",
   "execution_count": 34,
   "metadata": {
    "scrolled": true
   },
   "outputs": [
    {
     "data": {
      "image/png": "[encoded data removed]",
      "text/plain": [
       "<Figure size 2160x360 with 6 Axes>"
      ]
     },
     "metadata": {
      "needs_background": "light"
     },
     "output_type": "display_data"
    }
   ],
   "source": [
    "def top_platforms(platform, year_of_release, total_sales, ax):\n",
    "    temp = data[data['platform'] == platform].pivot_table(index='year_of_release', values = 'total_sales', aggfunc='sum')\n",
    "    temp.index = temp.index.astype(int)\n",
    "\n",
    "    temp.plot(ax=ax,\n",
    "    kind='bar',\n",
    "    subplots=True,\n",
    "    legend=True)\n",
    "    ax.set_title(platform)\n",
    "    ax.tick_params(axis='x', labelrotation=45)\n",
    "\n",
    "\n",
    "platforms = ('PS2', 'X360', 'PS3', 'Wii', 'DS', 'PS')\n",
    "\n",
    "fig, axes = plt.subplots(1, len(platforms), figsize=(5*len(platforms), 5))\n",
    "fig.suptitle('Динамика продаж платформ по годам')\n",
    "for i in range(len(axes)):    \n",
    "    top_platforms(platforms[i], 'year_of_release', 'general_sales', axes[i])\n",
    "plt.show()"
   ]
  },
  {
   "cell_type": "code",
   "execution_count": 35,
   "metadata": {
    "scrolled": false
   },
   "outputs": [
    {
     "data": {
      "image/png": "[encoded data removed]",
      "text/plain": [
       "<Figure size 1080x360 with 1 Axes>"
      ]
     },
     "metadata": {
      "needs_background": "light"
     },
     "output_type": "display_data"
    }
   ],
   "source": [
    "data.pivot_table(index='year_of_release', columns='platform', values='total_sales', aggfunc='sum').plot(figsize=(15,5))\n",
    "plt.show()"
   ]
  },
  {
   "cell_type": "markdown",
   "metadata": {},
   "source": [
    "Отчетливо видно, что многие платформы появляются/пропадают внезапно\n",
    "\n",
    "Платформы в среднем держатся по 5-7 лет"
   ]
  },
  {
   "cell_type": "markdown",
   "metadata": {},
   "source": [
    "### Актуальный период"
   ]
  },
  {
   "cell_type": "markdown",
   "metadata": {},
   "source": [
    "Актуальным периодом буду считать минималку 5-7 лет, столько времени должна жить платформа"
   ]
  },
  {
   "cell_type": "code",
   "execution_count": 37,
   "metadata": {},
   "outputs": [
    {
     "data": {
      "text/html": [
       "<div>\n",
       "<style scoped>\n",
       "    .dataframe tbody tr th:only-of-type {\n",
       "        vertical-align: middle;\n",
       "    }\n",
       "\n",
       "    .dataframe tbody tr th {\n",
       "        vertical-align: top;\n",
       "    }\n",
       "\n",
       "    .dataframe thead th {\n",
       "        text-align: right;\n",
       "    }\n",
       "</style>\n",
       "<table border=\"1\" class=\"dataframe\">\n",
       "  <thead>\n",
       "    <tr style=\"text-align: right;\">\n",
       "      <th></th>\n",
       "      <th>name</th>\n",
       "      <th>platform</th>\n",
       "      <th>year_of_release</th>\n",
       "      <th>genre</th>\n",
       "      <th>na_sales</th>\n",
       "      <th>eu_sales</th>\n",
       "      <th>jp_sales</th>\n",
       "      <th>other_sales</th>\n",
       "      <th>critic_score</th>\n",
       "      <th>user_score</th>\n",
       "      <th>rating</th>\n",
       "      <th>total_sales</th>\n",
       "    </tr>\n",
       "  </thead>\n",
       "  <tbody>\n",
       "    <tr>\n",
       "      <th>0</th>\n",
       "      <td>Grand Theft Auto V</td>\n",
       "      <td>PS3</td>\n",
       "      <td>2013</td>\n",
       "      <td>Action</td>\n",
       "      <td>7.02</td>\n",
       "      <td>9.09</td>\n",
       "      <td>0.98</td>\n",
       "      <td>3.96</td>\n",
       "      <td>97.00</td>\n",
       "      <td>8.20</td>\n",
       "      <td>M</td>\n",
       "      <td>21.05</td>\n",
       "    </tr>\n",
       "    <tr>\n",
       "      <th>1</th>\n",
       "      <td>Grand Theft Auto V</td>\n",
       "      <td>X360</td>\n",
       "      <td>2013</td>\n",
       "      <td>Action</td>\n",
       "      <td>9.66</td>\n",
       "      <td>5.14</td>\n",
       "      <td>0.06</td>\n",
       "      <td>1.41</td>\n",
       "      <td>97.00</td>\n",
       "      <td>8.10</td>\n",
       "      <td>M</td>\n",
       "      <td>16.27</td>\n",
       "    </tr>\n",
       "    <tr>\n",
       "      <th>2</th>\n",
       "      <td>Call of Duty: Black Ops 3</td>\n",
       "      <td>PS4</td>\n",
       "      <td>2015</td>\n",
       "      <td>Shooter</td>\n",
       "      <td>6.03</td>\n",
       "      <td>5.86</td>\n",
       "      <td>0.36</td>\n",
       "      <td>2.38</td>\n",
       "      <td>999.00</td>\n",
       "      <td>999.00</td>\n",
       "      <td>unknown</td>\n",
       "      <td>14.63</td>\n",
       "    </tr>\n",
       "    <tr>\n",
       "      <th>3</th>\n",
       "      <td>Pokemon X/Pokemon Y</td>\n",
       "      <td>3DS</td>\n",
       "      <td>2013</td>\n",
       "      <td>Role-Playing</td>\n",
       "      <td>5.28</td>\n",
       "      <td>4.19</td>\n",
       "      <td>4.35</td>\n",
       "      <td>0.78</td>\n",
       "      <td>999.00</td>\n",
       "      <td>999.00</td>\n",
       "      <td>unknown</td>\n",
       "      <td>14.60</td>\n",
       "    </tr>\n",
       "    <tr>\n",
       "      <th>4</th>\n",
       "      <td>Call of Duty: Black Ops II</td>\n",
       "      <td>PS3</td>\n",
       "      <td>2012</td>\n",
       "      <td>Shooter</td>\n",
       "      <td>4.99</td>\n",
       "      <td>5.73</td>\n",
       "      <td>0.65</td>\n",
       "      <td>2.42</td>\n",
       "      <td>83.00</td>\n",
       "      <td>5.30</td>\n",
       "      <td>M</td>\n",
       "      <td>13.79</td>\n",
       "    </tr>\n",
       "  </tbody>\n",
       "</table>\n",
       "</div>"
      ],
      "text/plain": [
       "                         name platform  year_of_release         genre  \\\n",
       "0          Grand Theft Auto V      PS3             2013        Action   \n",
       "1          Grand Theft Auto V     X360             2013        Action   \n",
       "2   Call of Duty: Black Ops 3      PS4             2015       Shooter   \n",
       "3         Pokemon X/Pokemon Y      3DS             2013  Role-Playing   \n",
       "4  Call of Duty: Black Ops II      PS3             2012       Shooter   \n",
       "\n",
       "   na_sales  eu_sales  jp_sales  other_sales  critic_score  user_score  \\\n",
       "0      7.02      9.09      0.98         3.96         97.00        8.20   \n",
       "1      9.66      5.14      0.06         1.41         97.00        8.10   \n",
       "2      6.03      5.86      0.36         2.38        999.00      999.00   \n",
       "3      5.28      4.19      4.35         0.78        999.00      999.00   \n",
       "4      4.99      5.73      0.65         2.42         83.00        5.30   \n",
       "\n",
       "    rating  total_sales  \n",
       "0        M        21.05  \n",
       "1        M        16.27  \n",
       "2  unknown        14.63  \n",
       "3  unknown        14.60  \n",
       "4        M        13.79  "
      ]
     },
     "execution_count": 37,
     "metadata": {},
     "output_type": "execute_result"
    }
   ],
   "source": [
    "data_2012 = data[data['year_of_release'] >= 2012]\n",
    "data_2012 = data_2012.reset_index(drop=True)\n",
    "data_2012.head()"
   ]
  },
  {
   "cell_type": "markdown",
   "metadata": {},
   "source": [
    "### Какие платформы лидируют по продажам, растут или падают? Выберите несколько потенциально прибыльных платформ"
   ]
  },
  {
   "cell_type": "code",
   "execution_count": 38,
   "metadata": {
    "scrolled": false
   },
   "outputs": [
    {
     "data": {
      "image/png": "[encoded data removed]",
      "text/plain": [
       "<Figure size 1080x720 with 1 Axes>"
      ]
     },
     "metadata": {
      "needs_background": "light"
     },
     "output_type": "display_data"
    }
   ],
   "source": [
    "data_2012.pivot_table(index='year_of_release', columns='platform', values='total_sales', aggfunc='sum').plot(figsize=(15,10))\n",
    "plt.show()"
   ]
  },
  {
   "cell_type": "markdown",
   "metadata": {},
   "source": [
    "Данные неполные за 2016, это играет свою роль на графиках - наблюдаем присед по продажам.\n",
    "\n",
    "Даже так можем назвать тройку: PS4, Xone, 3DS, Поехали!"
   ]
  },
  {
   "cell_type": "markdown",
   "metadata": {},
   "source": [
    "### Постройте график «ящик с усами» по глобальным продажам игр в разбивке по платформам"
   ]
  },
  {
   "cell_type": "code",
   "execution_count": 40,
   "metadata": {
    "scrolled": true
   },
   "outputs": [
    {
     "data": {
      "image/png": "[encoded data removed]",
      "text/plain": [
       "<Figure size 864x432 with 1 Axes>"
      ]
     },
     "metadata": {
      "needs_background": "light"
     },
     "output_type": "display_data"
    }
   ],
   "source": [
    "platform_lider_three_year = data_2012.query(\"(platform in ['PS4','3DS','XOne'])\")\n",
    "plt.figure(figsize=(12,6))\n",
    "df = sns.boxplot(data=platform_lider_three_year, x='platform', y='total_sales')\n",
    "df.set(title='Диаграмма размаха для платформ', xlabel='platform', ylabel='total_sales', ylim=(0,2))\n",
    "plt.show()"
   ]
  },
  {
   "cell_type": "markdown",
   "metadata": {},
   "source": [
    "3DS явно отстает, его максимальное значение - Q3 PS4 и XOne, возможно дело в недостатке данных - говорю \"на глаз\"\n",
    "\n",
    "PS4 и XOne примерно равны, второй и третий квартили схожи по продажам, однако PS4 побил его общие продажи"
   ]
  },
  {
   "cell_type": "code",
   "execution_count": 42,
   "metadata": {},
   "outputs": [
    {
     "data": {
      "image/png": "[encoded data removed]",
      "text/plain": [
       "<Figure size 864x432 with 1 Axes>"
      ]
     },
     "metadata": {
      "needs_background": "light"
     },
     "output_type": "display_data"
    }
   ],
   "source": [
    "platform_lider_three_year = data_2012.query(\"(platform in ['PS4','3DS','XOne'])\")\n",
    "plt.figure(figsize=(12,6))\n",
    "df = sns.boxplot(data=platform_lider_three_year, x='platform', y='total_sales')\n",
    "df.set(title='Диаграмма размаха для платформ', xlabel='platform', ylabel='total_sales')\n",
    "plt.show()"
   ]
  },
  {
   "cell_type": "markdown",
   "metadata": {},
   "source": [
    "### Как влияют на продажи внутри одной популярной платформы отзывы пользователей и критиков. "
   ]
  },
  {
   "cell_type": "markdown",
   "metadata": {},
   "source": [
    "Вспоминаю, что в начале поставил заглушки, учитываем их\n",
    "\n",
    "p.s. Хорошо, что пропуски всё это время стояли в колонках с оценками, не продажами"
   ]
  },
  {
   "cell_type": "code",
   "execution_count": 44,
   "metadata": {},
   "outputs": [
    {
     "data": {
      "image/png": "[encoded data removed]",
      "text/plain": [
       "<Figure size 432x288 with 1 Axes>"
      ]
     },
     "metadata": {
      "needs_background": "light"
     },
     "output_type": "display_data"
    },
    {
     "data": {
      "image/png": "[encoded data removed]",
      "text/plain": [
       "<Figure size 432x288 with 1 Axes>"
      ]
     },
     "metadata": {
      "needs_background": "light"
     },
     "output_type": "display_data"
    },
    {
     "name": "stdout",
     "output_type": "stream",
     "text": [
      "critic_score    0.41\n",
      "user_score     -0.03\n",
      "total_sales     1.00\n",
      "Name: total_sales, dtype: float64\n"
     ]
    }
   ],
   "source": [
    "games_platform = data_2012.query('platform == \"PS4\"')\n",
    "games_platform[games_platform['critic_score'] != 999].plot(kind='scatter', x='critic_score', y='total_sales')\n",
    "games_platform[games_platform['user_score'] != 999].plot(kind='scatter', x='user_score', y='total_sales')\n",
    "plt.show()\n",
    "print(games_platform[(games_platform['critic_score'] != 999) \n",
    "                        & (games_platform['user_score'] != 999)]\n",
    "                       [['critic_score', 'user_score', 'total_sales']].corr()['total_sales'])"
   ]
  },
  {
   "cell_type": "code",
   "execution_count": 45,
   "metadata": {},
   "outputs": [
    {
     "data": {
      "text/plain": [
       "array([999. ,   8.3,   4.3,   5.7,   5. ,   6.5,   6.1,   7.9,   8.1,\n",
       "         3.4,   8.4,   6.3,   7.7,   9.2,   4.9,   7.6,   6.7,   3.7,\n",
       "         7. ,   6.9,   8.2,   6.8,   5.9,   7.8,   8.6,   7.3,   7.4,\n",
       "         6.2,   6. ,   7.1,   5.1,   6.6,   5.4,   4.5,   8.8,   8.5,\n",
       "         5.2,   7.2,   7.5,   5.5,   3.6,   5.6,   8. ,   8.7,   5.8,\n",
       "         3.8,   4.7,   3.3,   2.7,   2. ,   1.5,   4.1,   6.4,   2.9,\n",
       "         1.9,   3. ,   3.5,   nan,   2.3])"
      ]
     },
     "execution_count": 45,
     "metadata": {},
     "output_type": "execute_result"
    }
   ],
   "source": [
    "games_platform['user_score'].unique()"
   ]
  },
  {
   "cell_type": "code",
   "execution_count": 46,
   "metadata": {
    "scrolled": false
   },
   "outputs": [
    {
     "data": {
      "image/png": "[encoded data removed]",
      "text/plain": [
       "<Figure size 432x288 with 1 Axes>"
      ]
     },
     "metadata": {
      "needs_background": "light"
     },
     "output_type": "display_data"
    },
    {
     "data": {
      "image/png": "[encoded data removed]",
      "text/plain": [
       "<Figure size 432x288 with 1 Axes>"
      ]
     },
     "metadata": {
      "needs_background": "light"
     },
     "output_type": "display_data"
    },
    {
     "name": "stdout",
     "output_type": "stream",
     "text": [
      "critic_score   0.32\n",
      "user_score     0.20\n",
      "total_sales    1.00\n",
      "Name: total_sales, dtype: float64\n"
     ]
    }
   ],
   "source": [
    "games_platform = data_2012.query('platform == \"3DS\"')\n",
    "games_platform[games_platform['critic_score'] != 999].plot(kind='scatter', x='critic_score', y='total_sales')\n",
    "games_platform[games_platform['user_score'] != 999].plot(kind='scatter', x='user_score', y='total_sales')\n",
    "plt.show()\n",
    "print(games_platform[(games_platform['critic_score'] != 999) \n",
    "                        & (games_platform['user_score'] != 999)]\n",
    "                       [['critic_score', 'user_score', 'total_sales']].corr()['total_sales'])"
   ]
  },
  {
   "cell_type": "code",
   "execution_count": 47,
   "metadata": {
    "scrolled": false
   },
   "outputs": [
    {
     "data": {
      "image/png": "[encoded data removed]",
      "text/plain": [
       "<Figure size 432x288 with 1 Axes>"
      ]
     },
     "metadata": {
      "needs_background": "light"
     },
     "output_type": "display_data"
    },
    {
     "data": {
      "image/png": "[encoded data removed]",
      "text/plain": [
       "<Figure size 432x288 with 1 Axes>"
      ]
     },
     "metadata": {
      "needs_background": "light"
     },
     "output_type": "display_data"
    },
    {
     "name": "stdout",
     "output_type": "stream",
     "text": [
      "critic_score    0.42\n",
      "user_score     -0.09\n",
      "total_sales     1.00\n",
      "Name: total_sales, dtype: float64\n"
     ]
    }
   ],
   "source": [
    "games_platform = data_2012.query('platform == \"XOne\"')\n",
    "games_platform[games_platform['critic_score'] != 999].plot(kind='scatter', x='critic_score', y='total_sales')\n",
    "games_platform[games_platform['user_score'] != 999].plot(kind='scatter', x='user_score', y='total_sales')\n",
    "plt.show()\n",
    "print(games_platform[(games_platform['critic_score'] != 999) \n",
    "                        & (games_platform['user_score'] != 999)]\n",
    "                       [['critic_score', 'user_score', 'total_sales']].corr()['total_sales'])"
   ]
  },
  {
   "cell_type": "markdown",
   "metadata": {},
   "source": [
    "##### Вывод\n",
    "Между оъёмами продаж и отзывами критиков есть слабая корреляция (~ 0.4) по всем платформам.А между продажами и отзывами пользователей корреляции очень слабая, можно выделить 3DS, у неё (0.2)"
   ]
  },
  {
   "cell_type": "markdown",
   "metadata": {},
   "source": [
    "#### Топы жанров по выручке и количеству релизов"
   ]
  },
  {
   "cell_type": "code",
   "execution_count": 48,
   "metadata": {
    "scrolled": false
   },
   "outputs": [
    {
     "data": {
      "text/plain": [
       "genre\n",
       "Shooter        0.44\n",
       "Sports         0.24\n",
       "Platform       0.21\n",
       "Role-Playing   0.14\n",
       "Racing         0.14\n",
       "Fighting       0.13\n",
       "Action         0.12\n",
       "Misc           0.12\n",
       "Simulation     0.12\n",
       "Strategy       0.08\n",
       "Puzzle         0.04\n",
       "Adventure      0.03\n",
       "Name: total_sales, dtype: float64"
      ]
     },
     "execution_count": 48,
     "metadata": {},
     "output_type": "execute_result"
    }
   ],
   "source": [
    "data_2012.groupby('genre').agg('median').sort_values(by='total_sales', ascending=False)['total_sales']"
   ]
  },
  {
   "cell_type": "code",
   "execution_count": 49,
   "metadata": {},
   "outputs": [
    {
     "data": {
      "text/plain": [
       "genre\n",
       "Action          1031\n",
       "Role-Playing     370\n",
       "Adventure        302\n",
       "Sports           268\n",
       "Shooter          235\n",
       "Misc             192\n",
       "Racing           115\n",
       "Fighting         109\n",
       "Platform          85\n",
       "Simulation        80\n",
       "Strategy          71\n",
       "Puzzle            28\n",
       "Name: name, dtype: int64"
      ]
     },
     "execution_count": 49,
     "metadata": {},
     "output_type": "execute_result"
    }
   ],
   "source": [
    "data_2012.groupby('genre').agg('count')['name'].sort_values(ascending=False)"
   ]
  },
  {
   "cell_type": "markdown",
   "metadata": {},
   "source": [
    "##### Вывод\n",
    "- Узнали общую картину продаж по платформам за весь период\n",
    "- Рассмотрены продажи у фаворитов, а именно: `PS2`, `X360`, `PS3`, `Wii`, `DS`, `PS`\n",
    "- Платформы живут в среднем по 5-7 лет\n",
    "- Актуальный период приняли последние 5 лет, в него входят следующие фавориты: `PS4`,`3DS`, `XOne`\n",
    "\n",
    "- Корреляции между оценкой критиков и выручкой слабая (~ 0.4),кор. оценки игроков и выручки - очень слабая\n",
    "- Больше всего выпускались игры в жанре Action, Role-Playing, Adventure\n",
    "- Жанр шутер \"выстрелил\" по продажам (хотя их выпускали не так много), похоже на правду\n",
    "- Shooter, Sports, Platform - показывают хорошие медианные значения по продажам"
   ]
  },
  {
   "cell_type": "markdown",
   "metadata": {},
   "source": [
    "## Портрет пользователя каждого региона"
   ]
  },
  {
   "cell_type": "markdown",
   "metadata": {},
   "source": [
    "### По платформам"
   ]
  },
  {
   "cell_type": "code",
   "execution_count": 50,
   "metadata": {
    "scrolled": true
   },
   "outputs": [
    {
     "data": {
      "text/plain": [
       "platform\n",
       "X360   140.05\n",
       "PS4    108.74\n",
       "PS3    103.38\n",
       "XOne    93.12\n",
       "3DS     55.31\n",
       "Name: na_sales, dtype: float64"
      ]
     },
     "execution_count": 50,
     "metadata": {},
     "output_type": "execute_result"
    }
   ],
   "source": [
    "data_2012.groupby('platform').agg('sum').sort_values(by='na_sales',ascending=False).head()['na_sales']"
   ]
  },
  {
   "cell_type": "code",
   "execution_count": 51,
   "metadata": {
    "scrolled": true
   },
   "outputs": [
    {
     "data": {
      "text/plain": [
       "platform\n",
       "PS4    141.09\n",
       "PS3    106.86\n",
       "X360    74.52\n",
       "XOne    51.59\n",
       "3DS     42.64\n",
       "Name: eu_sales, dtype: float64"
      ]
     },
     "execution_count": 51,
     "metadata": {},
     "output_type": "execute_result"
    }
   ],
   "source": [
    "data_2012.groupby('platform').agg('sum').sort_values(by='eu_sales',ascending=False).head()['eu_sales']"
   ]
  },
  {
   "cell_type": "code",
   "execution_count": 52,
   "metadata": {
    "scrolled": true
   },
   "outputs": [
    {
     "data": {
      "text/plain": [
       "platform\n",
       "3DS    87.79\n",
       "PS3    35.29\n",
       "PSV    21.04\n",
       "PS4    15.96\n",
       "WiiU   13.01\n",
       "Name: jp_sales, dtype: float64"
      ]
     },
     "execution_count": 52,
     "metadata": {},
     "output_type": "execute_result"
    }
   ],
   "source": [
    "data_2012.groupby('platform').agg('sum').sort_values(by='jp_sales',ascending=False).head()['jp_sales']"
   ]
  },
  {
   "cell_type": "markdown",
   "metadata": {},
   "source": [
    "### По жанрам"
   ]
  },
  {
   "cell_type": "code",
   "execution_count": 53,
   "metadata": {
    "scrolled": true
   },
   "outputs": [
    {
     "data": {
      "text/plain": [
       "genre\n",
       "Action         177.84\n",
       "Shooter        144.77\n",
       "Sports          81.53\n",
       "Role-Playing    64.00\n",
       "Misc            38.19\n",
       "Name: na_sales, dtype: float64"
      ]
     },
     "execution_count": 53,
     "metadata": {},
     "output_type": "execute_result"
    }
   ],
   "source": [
    "data_2012.groupby('genre').agg('sum').sort_values(by='na_sales',ascending=False).head()['na_sales']"
   ]
  },
  {
   "cell_type": "code",
   "execution_count": 54,
   "metadata": {
    "scrolled": true
   },
   "outputs": [
    {
     "data": {
      "text/plain": [
       "genre\n",
       "Action         159.34\n",
       "Shooter        113.47\n",
       "Sports          69.09\n",
       "Role-Playing    48.53\n",
       "Racing          27.29\n",
       "Name: eu_sales, dtype: float64"
      ]
     },
     "execution_count": 54,
     "metadata": {},
     "output_type": "execute_result"
    }
   ],
   "source": [
    "data_2012.groupby('genre').agg('sum').sort_values(by='eu_sales',ascending=False).head()['eu_sales']"
   ]
  },
  {
   "cell_type": "code",
   "execution_count": 55,
   "metadata": {
    "scrolled": true
   },
   "outputs": [
    {
     "data": {
      "text/plain": [
       "genre\n",
       "Role-Playing   65.44\n",
       "Action         52.80\n",
       "Misc           12.86\n",
       "Simulation     10.41\n",
       "Fighting        9.44\n",
       "Name: jp_sales, dtype: float64"
      ]
     },
     "execution_count": 55,
     "metadata": {},
     "output_type": "execute_result"
    }
   ],
   "source": [
    "data_2012.groupby('genre').agg('sum').sort_values(by='jp_sales',ascending=False).head()['jp_sales']"
   ]
  },
  {
   "cell_type": "markdown",
   "metadata": {},
   "source": [
    "#### Вывод\n",
    "NA и EU в целом похожи по своим предпочтениям - оба выбирают PS4,у na альтернатива - X360, у eu-PS4, любят экшен и шутеры.\n",
    "По предпочтениям одного можно \"прикинуть\" оценку у другого.\n",
    "\n",
    "В JP по-другому: чаще берут 3DS и PS3, любят ролевые и экшен, однако не признают шутеры"
   ]
  },
  {
   "cell_type": "code",
   "execution_count": 56,
   "metadata": {},
   "outputs": [
    {
     "data": {
      "text/plain": [
       "array(['M', 'E', 'E10+', 'T'], dtype=object)"
      ]
     },
     "execution_count": 56,
     "metadata": {},
     "output_type": "execute_result"
    }
   ],
   "source": [
    "data_esrb = data_2012[data_2012['rating'] != 'unknown']\n",
    "data_esrb.rating.unique()"
   ]
  },
  {
   "cell_type": "code",
   "execution_count": 57,
   "metadata": {
    "scrolled": true
   },
   "outputs": [],
   "source": [
    "# Делаю замену для подсчёта корреляции, которая будет ниже:\n",
    "data_esrb['rating'] = data_esrb['rating'].str.replace('M','1')\n",
    "data_esrb['rating'] = data_esrb['rating'].str.replace('E','2')\n",
    "data_esrb['rating'] = data_esrb['rating'].str.replace('T','4')\n",
    "\n",
    "data_esrb['rating'] = data_esrb['rating'].replace(to_replace ='210+', value = '3')"
   ]
  },
  {
   "cell_type": "code",
   "execution_count": 58,
   "metadata": {
    "scrolled": true
   },
   "outputs": [
    {
     "data": {
      "text/plain": [
       "numpy.int64"
      ]
     },
     "execution_count": 58,
     "metadata": {},
     "output_type": "execute_result"
    }
   ],
   "source": [
    "data_esrb['rating'] = data_esrb['rating'].astype('int')"
   ]
  },
  {
   "cell_type": "code",
   "execution_count": 59,
   "metadata": {},
   "outputs": [
    {
     "data": {
      "image/png": "[encoded data removed]",
      "text/plain": [
       "<Figure size 432x288 with 1 Axes>"
      ]
     },
     "metadata": {
      "needs_background": "light"
     },
     "output_type": "display_data"
    },
    {
     "data": {
      "image/png": "[encoded data removed]",
      "text/plain": [
       "<Figure size 432x288 with 1 Axes>"
      ]
     },
     "metadata": {
      "needs_background": "light"
     },
     "output_type": "display_data"
    },
    {
     "data": {
      "image/png": "[encoded data removed]",
      "text/plain": [
       "<Figure size 432x288 with 1 Axes>"
      ]
     },
     "metadata": {
      "needs_background": "light"
     },
     "output_type": "display_data"
    },
    {
     "name": "stdout",
     "output_type": "stream",
     "text": [
      "-0.175410137562354\n",
      "-0.17311469455299253\n",
      "0.01737887473946476\n"
     ]
    }
   ],
   "source": [
    "data_esrb.plot(kind='scatter', x='rating', y='na_sales')\n",
    "data_esrb.plot(kind='scatter', x='rating', y='eu_sales')\n",
    "data_esrb.plot(kind='scatter', x='rating', y='jp_sales')\n",
    "plt.show()\n",
    "\n",
    "# Расчитаем коэффициент корреляции\n",
    "print(data_esrb['rating'].corr(data_esrb['na_sales']))\n",
    "print(data_esrb['rating'].corr(data_esrb['eu_sales']))\n",
    "print(data_esrb['rating'].corr(data_esrb['jp_sales']))"
   ]
  },
  {
   "cell_type": "code",
   "execution_count": 60,
   "metadata": {
    "scrolled": true
   },
   "outputs": [
    {
     "data": {
      "text/plain": [
       "rating\n",
       "M         231.57\n",
       "E         114.37\n",
       "unknown   103.31\n",
       "E10+       75.70\n",
       "T          66.02\n",
       "Name: na_sales, dtype: float64"
      ]
     },
     "execution_count": 60,
     "metadata": {},
     "output_type": "execute_result"
    }
   ],
   "source": [
    "data_2012.groupby('rating').agg('sum').sort_values(by='na_sales',ascending=False)['na_sales']"
   ]
  },
  {
   "cell_type": "code",
   "execution_count": 61,
   "metadata": {},
   "outputs": [
    {
     "data": {
      "text/plain": [
       "rating\n",
       "M         193.96\n",
       "E         113.03\n",
       "unknown    91.50\n",
       "E10+       55.37\n",
       "T          52.96\n",
       "Name: eu_sales, dtype: float64"
      ]
     },
     "execution_count": 61,
     "metadata": {},
     "output_type": "execute_result"
    }
   ],
   "source": [
    "data_2012.groupby('rating').agg('sum').sort_values(by='eu_sales',ascending=False)['eu_sales']"
   ]
  },
  {
   "cell_type": "code",
   "execution_count": 62,
   "metadata": {
    "scrolled": false
   },
   "outputs": [
    {
     "data": {
      "text/plain": [
       "rating\n",
       "unknown   108.84\n",
       "E          28.33\n",
       "T          26.02\n",
       "M          21.20\n",
       "E10+        8.19\n",
       "Name: jp_sales, dtype: float64"
      ]
     },
     "execution_count": 62,
     "metadata": {},
     "output_type": "execute_result"
    }
   ],
   "source": [
    "data_2012.groupby('rating').agg('sum').sort_values(by='jp_sales',ascending=False)['jp_sales']"
   ]
  },
  {
   "cell_type": "code",
   "execution_count": 63,
   "metadata": {},
   "outputs": [
    {
     "data": {
      "text/plain": [
       "rating\n",
       "M         63.38\n",
       "E         31.44\n",
       "unknown   27.17\n",
       "T         17.94\n",
       "E10+      16.23\n",
       "Name: other_sales, dtype: float64"
      ]
     },
     "execution_count": 63,
     "metadata": {},
     "output_type": "execute_result"
    }
   ],
   "source": [
    "data_2012.groupby('rating').agg('sum').sort_values(by='other_sales',ascending=False)['other_sales']"
   ]
  },
  {
   "cell_type": "markdown",
   "metadata": {},
   "source": [
    "#### Вывод:\n",
    "Влияет ли рейтинг ESRB на продажи в отдельном регионе?\n",
    "-ДА, выбрав любой рейтинг, можно найти самый благоприятный для него регион продажи"
   ]
  },
  {
   "cell_type": "markdown",
   "metadata": {},
   "source": [
    "## Проверка гипотез"
   ]
  },
  {
   "cell_type": "markdown",
   "metadata": {},
   "source": [
    "### Средние пользовательские рейтинги платформ Xbox One и PC одинаковые"
   ]
  },
  {
   "cell_type": "code",
   "execution_count": 64,
   "metadata": {
    "scrolled": true
   },
   "outputs": [
    {
     "name": "stdout",
     "output_type": "stream",
     "text": [
      "Среднее XOne: 6.521428571428572\n",
      "Среднее PC: 6.42864077669903\n",
      "Pvalue: 0.5489537965135027\n",
      "Не получилось отвергнуть нулевую гипотезу\n"
     ]
    }
   ],
   "source": [
    "# H_0: Пользовательский рейтинг (user_score) платформы \"XOne\" = пользовательский  рейтинг (user_score) платформы \"PC\"`\n",
    "# Случай, когда всё идет по плану, знак равенства принимаем за нулевую\n",
    "\n",
    "# H_a: Пользовательский рейтинг (user_score) платформы \"XOne\" ≠ пользовательский рейтинг (user_score) платформы \"PC\"`\n",
    "# Случай, когда всё не идет по плану, результат может быть и <, и > - тест двусторонний, pvalue НЕ делим на 2\n",
    "\n",
    "# Заведу отдельные переменные для удобства:\n",
    "XOne = data_2012[(data_2012['platform'] =='XOne') &\n",
    "                            (data_2012['user_score'] != 999)]['user_score']\n",
    "\n",
    "PC = data_2012[(data_2012['platform'] =='PC') &\n",
    "                            (data_2012['user_score'] != 999)]['user_score']\n",
    "\n",
    "# в оценках у меня стоят заглушки 999 и 404(наш tbd), которые повлияли на pvalue, учитываю это ниже:\n",
    "\n",
    "print('Среднее XOne:',XOne.mean())\n",
    "print('Среднее PC:',PC.mean())\n",
    "\n",
    "results = st.ttest_ind  (XOne, PC, equal_var = False, nan_policy='omit') # equal_var - False, не уверен в одинаковой дисперсии\n",
    " \n",
    "alpha = 0.05 # задаю такой, т.к. не вижу необходимости ставить более строгий 1%\n",
    " \n",
    "print('Pvalue:', results.pvalue) # вывод значения p-value на экран \n",
    "if results.pvalue  < alpha: # условный оператор с выводом строки с ответом\n",
    "    print('Отвергаем нулевую гипотезу')\n",
    "else:\n",
    "    print('Не получилось отвергнуть нулевую гипотезу')"
   ]
  },
  {
   "cell_type": "markdown",
   "metadata": {},
   "source": [
    "### Средние пользовательские рейтинги жанров Action (англ. «действие», экшен-игры) и Sports (англ. «спортивные соревнования») разные."
   ]
  },
  {
   "cell_type": "code",
   "execution_count": 65,
   "metadata": {
    "scrolled": true
   },
   "outputs": [
    {
     "name": "stdout",
     "output_type": "stream",
     "text": [
      "Среднее у Action 6.825047801147227\n",
      "Среднее у Sports 5.455897435897437\n",
      "Pvalue: 4.24307776572644e-20\n",
      "Отвергаем нулевую гипотезу\n"
     ]
    }
   ],
   "source": [
    "#H_0: Пользовательский рейтинг (user_score) жанра 'Action' = пользовательский  рейтинг (user_score) жанра 'Sports'\n",
    "#H_a: Пользовательский рейтинг (user_score) жанра 'Action' != пользовательский рейтинг (user_score) жанра 'Sports'\n",
    "\n",
    "# заведу отдельные переменные для удобства:\n",
    "action = data_2012[(data_2012['genre'] =='Action') &\n",
    "                            (data_2012['user_score'] != 999)]['user_score']\n",
    "\n",
    "sports = data_2012[(data_2012['genre'] =='Sports') &\n",
    "                            (data_2012['user_score'] != 999)]['user_score']\n",
    "\n",
    "print('Среднее у Action', action.mean())\n",
    "\n",
    "print('Среднее у Sports', sports.mean())\n",
    "\n",
    "\n",
    "results = st.ttest_ind (action, sports, equal_var = False, nan_policy='omit') # equal_var - False, не уверен в одинаковой дисперсии\n",
    " \n",
    "alpha = 0.05 # задаю такой, т.к. не вижу необходимости ставить более строгий 1%\n",
    " \n",
    "print('Pvalue:', results.pvalue) # вывод значения p-value на экран \n",
    "if results.pvalue  < alpha: # условный оператор с выводом строки с ответом\n",
    "    print('Отвергаем нулевую гипотезу')\n",
    "else:\n",
    "    print('Не получилось отвергнуть нулевую гипотезу')"
   ]
  },
  {
   "cell_type": "markdown",
   "metadata": {},
   "source": [
    "#### Вывод\n",
    "- Вероятность получить для  платформы XOne и платформы PC одинаковые оценки - крайне высока\n",
    "- Вероятность получить для  жанра Action и жанра Sports одинаковые оценки - низка"
   ]
  },
  {
   "cell_type": "markdown",
   "metadata": {},
   "source": [
    "## Общий вывод:\n",
    "\n",
    "По исследовательскому анализу:\n",
    "- Узнали общую картину продаж по платформам за весь период\n",
    "- Рассмотрены продажи у фаворитов, а именно: PS2, X360, PS3, Wii, DS, PS\n",
    "- Платформы живут в среднем по 5-7 лет\n",
    "- Актуальный период приняли последние 5 лет, в него входят следующие фавориты: PS4,3DS, XOne\n",
    "- Между оъёмами продаж и отзывами критиков есть слабая корреляция (~ 0.4) по всем платформам.А между продажами и отзывами пользователей корреляции очень слабая, можно выделить 3DS, у неё (0.2)\n",
    "- Больше всего выпускались игры в жанре Action, Role-Playing, Adventure\n",
    "- Жанр шутер \"выстрелил\" по продажам (хотя их выпускали не так много), похоже на правду\n",
    "- Shooter, Sports, Platform - показывают хорошие медианные значения по продажам\n",
    "\n",
    "Портрет пользователя каждого региона:\n",
    "- NA и EU в целом похожи по своим предпочтениям - оба выбирают PS4,у na альтернатива - X360, у eu-PS4, любят экшен и шутеры.\n",
    "- В JP по-другому: чаще берут 3DS и PS3, любят ролевые и экшен, однако не признают шутеры\n",
    "- Влияет ли рейтинг ESRB на продажи в отдельном регионе? -ДА, выбрав любой рейтинг, можно найти самый благоприятный для него регион продажи. Лучше всего делать игры рейтинга М и Е для NA и EU в первую очередь, там высокий спрос\n",
    "\n",
    "По проверке гипотез:\n",
    "- Вероятность получить для  платформы XOne и платформы PC одинаковые оценки - крайне высока\n",
    "- Вероятность получить для  жанра Action и жанра Sports одинаковые оценки - низка"
   ]
  }
 ],
 "metadata": {
  "ExecuteTimeLog": [
   {
    "duration": 394,
    "start_time": "2022-12-15T07:57:31.258Z"
   },
   {
    "duration": 220,
    "start_time": "2022-12-15T07:57:47.612Z"
   },
   {
    "duration": 3,
    "start_time": "2022-12-15T07:59:58.068Z"
   },
   {
    "duration": 166,
    "start_time": "2022-12-15T08:00:44.774Z"
   },
   {
    "duration": 17,
    "start_time": "2022-12-15T08:00:49.309Z"
   },
   {
    "duration": 20,
    "start_time": "2022-12-15T08:00:52.150Z"
   },
   {
    "duration": 22,
    "start_time": "2022-12-15T08:01:07.007Z"
   },
   {
    "duration": 21,
    "start_time": "2022-12-15T08:01:23.782Z"
   },
   {
    "duration": 49,
    "start_time": "2022-12-15T08:02:48.841Z"
   },
   {
    "duration": 12,
    "start_time": "2022-12-15T08:02:50.025Z"
   },
   {
    "duration": 17,
    "start_time": "2022-12-15T08:03:02.289Z"
   },
   {
    "duration": 1185,
    "start_time": "2022-12-15T08:03:21.145Z"
   },
   {
    "duration": 3,
    "start_time": "2022-12-15T08:03:37.097Z"
   },
   {
    "duration": 806,
    "start_time": "2022-12-15T08:03:39.673Z"
   },
   {
    "duration": 533,
    "start_time": "2022-12-15T08:04:27.818Z"
   },
   {
    "duration": 753,
    "start_time": "2022-12-15T08:04:36.637Z"
   },
   {
    "duration": 2,
    "start_time": "2022-12-15T08:08:04.904Z"
   },
   {
    "duration": 4,
    "start_time": "2022-12-15T08:09:22.698Z"
   },
   {
    "duration": 10,
    "start_time": "2022-12-15T08:09:31.096Z"
   },
   {
    "duration": 131,
    "start_time": "2022-12-15T08:09:58.416Z"
   },
   {
    "duration": 10,
    "start_time": "2022-12-15T08:11:22.123Z"
   },
   {
    "duration": 5,
    "start_time": "2022-12-15T08:11:25.259Z"
   },
   {
    "duration": 10,
    "start_time": "2022-12-15T08:11:33.348Z"
   },
   {
    "duration": 7,
    "start_time": "2022-12-15T08:11:35.485Z"
   },
   {
    "duration": 8,
    "start_time": "2022-12-15T08:12:20.588Z"
   },
   {
    "duration": 5,
    "start_time": "2022-12-15T08:12:29.996Z"
   },
   {
    "duration": 6,
    "start_time": "2022-12-15T08:12:40.477Z"
   },
   {
    "duration": 5,
    "start_time": "2022-12-15T08:12:55.357Z"
   },
   {
    "duration": 3,
    "start_time": "2022-12-15T08:12:59.186Z"
   },
   {
    "duration": 3,
    "start_time": "2022-12-15T08:13:15.949Z"
   },
   {
    "duration": 5,
    "start_time": "2022-12-15T08:13:46.175Z"
   },
   {
    "duration": 10,
    "start_time": "2022-12-15T08:13:59.869Z"
   },
   {
    "duration": 14,
    "start_time": "2022-12-15T08:14:20.486Z"
   },
   {
    "duration": 8,
    "start_time": "2022-12-15T08:21:33.809Z"
   },
   {
    "duration": 4,
    "start_time": "2022-12-15T08:21:50.944Z"
   },
   {
    "duration": 3,
    "start_time": "2022-12-15T08:22:02.680Z"
   },
   {
    "duration": 4,
    "start_time": "2022-12-15T08:22:21.465Z"
   },
   {
    "duration": 4,
    "start_time": "2022-12-15T08:22:56.168Z"
   },
   {
    "duration": 7,
    "start_time": "2022-12-15T08:29:14.931Z"
   },
   {
    "duration": 128,
    "start_time": "2022-12-15T08:29:45.561Z"
   },
   {
    "duration": 3,
    "start_time": "2022-12-15T08:30:14.092Z"
   },
   {
    "duration": 12,
    "start_time": "2022-12-15T08:30:23.210Z"
   },
   {
    "duration": 4,
    "start_time": "2022-12-15T08:30:26.556Z"
   },
   {
    "duration": 14,
    "start_time": "2022-12-15T08:30:39.433Z"
   },
   {
    "duration": 3,
    "start_time": "2022-12-15T08:31:16.499Z"
   },
   {
    "duration": 11,
    "start_time": "2022-12-15T08:31:18.202Z"
   },
   {
    "duration": 4,
    "start_time": "2022-12-15T08:31:20.285Z"
   },
   {
    "duration": 12,
    "start_time": "2022-12-15T08:31:21.548Z"
   },
   {
    "duration": 133,
    "start_time": "2022-12-15T08:33:09.813Z"
   },
   {
    "duration": 8,
    "start_time": "2022-12-15T08:33:24.930Z"
   },
   {
    "duration": 10,
    "start_time": "2022-12-15T08:33:35.570Z"
   },
   {
    "duration": 13,
    "start_time": "2022-12-15T08:33:42.634Z"
   },
   {
    "duration": 272,
    "start_time": "2022-12-15T08:34:24.921Z"
   },
   {
    "duration": 6,
    "start_time": "2022-12-15T08:35:09.573Z"
   },
   {
    "duration": 4,
    "start_time": "2022-12-15T08:35:27.001Z"
   },
   {
    "duration": 20,
    "start_time": "2022-12-15T08:35:36.695Z"
   },
   {
    "duration": 12,
    "start_time": "2022-12-15T08:36:27.854Z"
   },
   {
    "duration": 4,
    "start_time": "2022-12-15T08:36:33.186Z"
   },
   {
    "duration": 4,
    "start_time": "2022-12-15T08:36:34.145Z"
   },
   {
    "duration": 22,
    "start_time": "2022-12-15T08:36:37.360Z"
   },
   {
    "duration": 8,
    "start_time": "2022-12-15T08:36:39.052Z"
   },
   {
    "duration": 5,
    "start_time": "2022-12-15T08:37:16.273Z"
   },
   {
    "duration": 48,
    "start_time": "2022-12-15T08:37:34.952Z"
   },
   {
    "duration": 1346,
    "start_time": "2022-12-15T08:37:50.027Z"
   },
   {
    "duration": 3,
    "start_time": "2022-12-15T08:37:56.915Z"
   },
   {
    "duration": 6,
    "start_time": "2022-12-15T08:38:00.588Z"
   },
   {
    "duration": 310,
    "start_time": "2022-12-15T08:38:13.160Z"
   },
   {
    "duration": 4,
    "start_time": "2022-12-15T08:38:17.152Z"
   },
   {
    "duration": 5,
    "start_time": "2022-12-15T08:38:18.365Z"
   },
   {
    "duration": 12,
    "start_time": "2022-12-15T08:38:36.500Z"
   },
   {
    "duration": 4,
    "start_time": "2022-12-15T08:38:46.691Z"
   },
   {
    "duration": 329,
    "start_time": "2022-12-15T08:39:03.326Z"
   },
   {
    "duration": 766,
    "start_time": "2022-12-15T13:54:35.896Z"
   },
   {
    "duration": 3,
    "start_time": "2022-12-15T13:54:37.744Z"
   },
   {
    "duration": 187,
    "start_time": "2022-12-15T13:54:38.494Z"
   },
   {
    "duration": 18,
    "start_time": "2022-12-15T13:54:40.719Z"
   },
   {
    "duration": 15,
    "start_time": "2022-12-15T13:54:42.309Z"
   },
   {
    "duration": 693,
    "start_time": "2022-12-15T13:54:43.944Z"
   },
   {
    "duration": 4,
    "start_time": "2022-12-15T13:54:46.798Z"
   },
   {
    "duration": 3,
    "start_time": "2022-12-15T13:54:48.016Z"
   },
   {
    "duration": 10,
    "start_time": "2022-12-15T13:54:49.077Z"
   },
   {
    "duration": 49,
    "start_time": "2022-12-15T13:54:51.661Z"
   },
   {
    "duration": 7,
    "start_time": "2022-12-15T13:55:31.119Z"
   },
   {
    "duration": 7,
    "start_time": "2022-12-15T13:55:32.238Z"
   },
   {
    "duration": 3,
    "start_time": "2022-12-15T13:55:33.303Z"
   },
   {
    "duration": 4,
    "start_time": "2022-12-15T13:55:35.039Z"
   },
   {
    "duration": 4,
    "start_time": "2022-12-15T13:55:35.871Z"
   },
   {
    "duration": 11,
    "start_time": "2022-12-15T13:55:37.927Z"
   },
   {
    "duration": 348,
    "start_time": "2022-12-15T13:55:42.007Z"
   },
   {
    "duration": 783,
    "start_time": "2022-12-18T06:43:26.268Z"
   },
   {
    "duration": 4,
    "start_time": "2022-12-18T06:43:28.359Z"
   },
   {
    "duration": 192,
    "start_time": "2022-12-18T06:43:29.799Z"
   },
   {
    "duration": 16,
    "start_time": "2022-12-18T06:43:32.745Z"
   },
   {
    "duration": 16,
    "start_time": "2022-12-18T06:43:43.457Z"
   },
   {
    "duration": 783,
    "start_time": "2022-12-18T06:43:44.809Z"
   },
   {
    "duration": 4,
    "start_time": "2022-12-18T06:43:48.561Z"
   },
   {
    "duration": 4,
    "start_time": "2022-12-18T06:43:49.960Z"
   },
   {
    "duration": 9,
    "start_time": "2022-12-18T06:43:51.056Z"
   },
   {
    "duration": 61,
    "start_time": "2022-12-18T06:43:52.681Z"
   },
   {
    "duration": 7,
    "start_time": "2022-12-18T06:43:56.440Z"
   },
   {
    "duration": 9,
    "start_time": "2022-12-18T06:43:58.496Z"
   },
   {
    "duration": 5,
    "start_time": "2022-12-18T06:43:59.600Z"
   },
   {
    "duration": 4,
    "start_time": "2022-12-18T06:44:10.625Z"
   },
   {
    "duration": 4,
    "start_time": "2022-12-18T06:44:29.817Z"
   },
   {
    "duration": 4,
    "start_time": "2022-12-18T06:44:33.138Z"
   },
   {
    "duration": 6,
    "start_time": "2022-12-18T06:44:34.234Z"
   },
   {
    "duration": 12,
    "start_time": "2022-12-18T06:44:38.930Z"
   },
   {
    "duration": 5,
    "start_time": "2022-12-18T06:44:46.701Z"
   },
   {
    "duration": 6,
    "start_time": "2022-12-18T06:44:48.988Z"
   },
   {
    "duration": 5,
    "start_time": "2022-12-18T06:44:50.618Z"
   },
   {
    "duration": 345,
    "start_time": "2022-12-18T06:45:09.298Z"
   },
   {
    "duration": 5,
    "start_time": "2022-12-18T06:45:12.930Z"
   },
   {
    "duration": 5,
    "start_time": "2022-12-18T06:45:52.388Z"
   },
   {
    "duration": 4,
    "start_time": "2022-12-18T06:46:01.851Z"
   },
   {
    "duration": 5,
    "start_time": "2022-12-18T06:46:03.010Z"
   },
   {
    "duration": 4,
    "start_time": "2022-12-18T06:46:07.116Z"
   },
   {
    "duration": 3,
    "start_time": "2022-12-18T06:46:09.020Z"
   },
   {
    "duration": 6,
    "start_time": "2022-12-18T06:46:09.755Z"
   },
   {
    "duration": 5,
    "start_time": "2022-12-18T06:46:11.011Z"
   },
   {
    "duration": 4,
    "start_time": "2022-12-18T06:46:15.260Z"
   },
   {
    "duration": 5,
    "start_time": "2022-12-18T06:46:17.124Z"
   },
   {
    "duration": 3,
    "start_time": "2022-12-18T06:46:24.915Z"
   },
   {
    "duration": 3,
    "start_time": "2022-12-18T06:46:25.539Z"
   },
   {
    "duration": 51,
    "start_time": "2022-12-18T06:46:26.276Z"
   },
   {
    "duration": 11,
    "start_time": "2022-12-18T06:46:27.779Z"
   },
   {
    "duration": 801,
    "start_time": "2022-12-18T06:46:30.741Z"
   },
   {
    "duration": 4,
    "start_time": "2022-12-18T06:46:34.236Z"
   },
   {
    "duration": 3,
    "start_time": "2022-12-18T06:46:36.101Z"
   },
   {
    "duration": 9,
    "start_time": "2022-12-18T06:46:36.700Z"
   },
   {
    "duration": 14,
    "start_time": "2022-12-18T06:46:38.396Z"
   },
   {
    "duration": 7,
    "start_time": "2022-12-18T06:46:40.845Z"
   },
   {
    "duration": 7,
    "start_time": "2022-12-18T06:46:41.644Z"
   },
   {
    "duration": 5,
    "start_time": "2022-12-18T06:46:43.133Z"
   },
   {
    "duration": 4,
    "start_time": "2022-12-18T06:46:44.956Z"
   },
   {
    "duration": 5,
    "start_time": "2022-12-18T06:46:47.580Z"
   },
   {
    "duration": 4,
    "start_time": "2022-12-18T06:46:49.668Z"
   },
   {
    "duration": 5,
    "start_time": "2022-12-18T06:46:50.724Z"
   },
   {
    "duration": 4,
    "start_time": "2022-12-18T06:47:06.421Z"
   },
   {
    "duration": 4,
    "start_time": "2022-12-18T06:47:07.110Z"
   },
   {
    "duration": 8,
    "start_time": "2022-12-18T08:36:27.063Z"
   },
   {
    "duration": 9,
    "start_time": "2022-12-18T08:36:28.982Z"
   },
   {
    "duration": 11,
    "start_time": "2022-12-18T08:36:32.918Z"
   },
   {
    "duration": 119,
    "start_time": "2022-12-18T08:36:37.782Z"
   },
   {
    "duration": 85,
    "start_time": "2022-12-18T08:36:44.792Z"
   },
   {
    "duration": 88,
    "start_time": "2022-12-18T08:36:56.335Z"
   },
   {
    "duration": 8,
    "start_time": "2022-12-18T08:37:26.095Z"
   },
   {
    "duration": 8,
    "start_time": "2022-12-18T08:37:29.007Z"
   },
   {
    "duration": 8,
    "start_time": "2022-12-18T08:37:36.489Z"
   },
   {
    "duration": 9,
    "start_time": "2022-12-18T08:37:39.936Z"
   },
   {
    "duration": 5,
    "start_time": "2022-12-18T08:37:42.025Z"
   },
   {
    "duration": 8,
    "start_time": "2022-12-18T08:37:52.511Z"
   },
   {
    "duration": 8,
    "start_time": "2022-12-18T08:37:54.511Z"
   },
   {
    "duration": 5,
    "start_time": "2022-12-18T08:37:58.537Z"
   },
   {
    "duration": 144,
    "start_time": "2022-12-18T08:38:55.529Z"
   },
   {
    "duration": 15,
    "start_time": "2022-12-18T08:39:03.322Z"
   },
   {
    "duration": 15,
    "start_time": "2022-12-18T08:39:31.014Z"
   },
   {
    "duration": 20,
    "start_time": "2022-12-18T08:39:50.092Z"
   },
   {
    "duration": 10,
    "start_time": "2022-12-18T09:02:21.015Z"
   },
   {
    "duration": 3,
    "start_time": "2022-12-18T09:09:09.840Z"
   },
   {
    "duration": 145,
    "start_time": "2022-12-18T09:09:21.816Z"
   },
   {
    "duration": 5,
    "start_time": "2022-12-18T09:09:26.520Z"
   },
   {
    "duration": 5,
    "start_time": "2022-12-18T09:09:53.649Z"
   },
   {
    "duration": 7,
    "start_time": "2022-12-18T09:10:20.025Z"
   },
   {
    "duration": 6,
    "start_time": "2022-12-18T09:10:21.248Z"
   },
   {
    "duration": 7,
    "start_time": "2022-12-18T09:10:22.233Z"
   },
   {
    "duration": 11,
    "start_time": "2022-12-18T09:10:34.654Z"
   },
   {
    "duration": 10,
    "start_time": "2022-12-18T09:11:28.634Z"
   },
   {
    "duration": 3,
    "start_time": "2022-12-18T09:14:29.454Z"
   },
   {
    "duration": 13,
    "start_time": "2022-12-18T09:18:31.899Z"
   },
   {
    "duration": 5,
    "start_time": "2022-12-18T09:19:20.141Z"
   },
   {
    "duration": 5,
    "start_time": "2022-12-18T09:20:02.581Z"
   },
   {
    "duration": 12,
    "start_time": "2022-12-18T09:23:08.873Z"
   },
   {
    "duration": 43,
    "start_time": "2022-12-18T09:27:08.664Z"
   },
   {
    "duration": 1119,
    "start_time": "2022-12-18T09:27:54.580Z"
   },
   {
    "duration": 15,
    "start_time": "2022-12-18T09:29:47.969Z"
   },
   {
    "duration": 2,
    "start_time": "2022-12-18T09:30:24.460Z"
   },
   {
    "duration": 3,
    "start_time": "2022-12-18T09:30:25.390Z"
   },
   {
    "duration": 49,
    "start_time": "2022-12-18T09:30:26.851Z"
   },
   {
    "duration": 11,
    "start_time": "2022-12-18T09:30:28.363Z"
   },
   {
    "duration": 13,
    "start_time": "2022-12-18T09:30:29.990Z"
   },
   {
    "duration": 767,
    "start_time": "2022-12-18T09:30:31.111Z"
   },
   {
    "duration": 4,
    "start_time": "2022-12-18T09:30:33.812Z"
   },
   {
    "duration": 3,
    "start_time": "2022-12-18T09:30:38.099Z"
   },
   {
    "duration": 8,
    "start_time": "2022-12-18T09:30:39.006Z"
   },
   {
    "duration": 17,
    "start_time": "2022-12-18T09:30:45.835Z"
   },
   {
    "duration": 16,
    "start_time": "2022-12-18T09:30:57.269Z"
   },
   {
    "duration": 10,
    "start_time": "2022-12-18T09:30:58.781Z"
   },
   {
    "duration": 10,
    "start_time": "2022-12-18T09:31:35.221Z"
   },
   {
    "duration": 4,
    "start_time": "2022-12-18T09:31:38.357Z"
   },
   {
    "duration": 5,
    "start_time": "2022-12-18T09:31:41.125Z"
   },
   {
    "duration": 4,
    "start_time": "2022-12-18T09:31:42.309Z"
   },
   {
    "duration": 5,
    "start_time": "2022-12-18T09:31:43.253Z"
   },
   {
    "duration": 5,
    "start_time": "2022-12-18T09:31:47.365Z"
   },
   {
    "duration": 23,
    "start_time": "2022-12-18T09:31:48.255Z"
   },
   {
    "duration": 6,
    "start_time": "2022-12-18T09:32:01.357Z"
   },
   {
    "duration": 5,
    "start_time": "2022-12-18T09:32:19.989Z"
   },
   {
    "duration": 8,
    "start_time": "2022-12-18T09:33:04.056Z"
   },
   {
    "duration": 430,
    "start_time": "2022-12-18T09:33:39.928Z"
   },
   {
    "duration": 24,
    "start_time": "2022-12-18T09:34:01.949Z"
   },
   {
    "duration": 5,
    "start_time": "2022-12-18T09:34:15.841Z"
   },
   {
    "duration": 5,
    "start_time": "2022-12-18T09:34:24.297Z"
   },
   {
    "duration": 873,
    "start_time": "2022-12-18T09:36:20.717Z"
   },
   {
    "duration": 9,
    "start_time": "2022-12-18T09:36:25.510Z"
   },
   {
    "duration": 887,
    "start_time": "2022-12-18T09:38:39.695Z"
   },
   {
    "duration": 5,
    "start_time": "2022-12-18T09:38:50.721Z"
   },
   {
    "duration": 152,
    "start_time": "2022-12-18T09:39:05.368Z"
   },
   {
    "duration": 79,
    "start_time": "2022-12-18T09:39:20.872Z"
   },
   {
    "duration": 463,
    "start_time": "2022-12-18T09:39:40.040Z"
   },
   {
    "duration": 26,
    "start_time": "2022-12-18T09:39:49.266Z"
   },
   {
    "duration": 6,
    "start_time": "2022-12-18T09:40:00.160Z"
   },
   {
    "duration": 5,
    "start_time": "2022-12-18T09:40:03.433Z"
   },
   {
    "duration": 4,
    "start_time": "2022-12-18T09:40:05.986Z"
   },
   {
    "duration": 5,
    "start_time": "2022-12-18T09:43:47.093Z"
   },
   {
    "duration": 6,
    "start_time": "2022-12-18T09:43:50.950Z"
   },
   {
    "duration": 14,
    "start_time": "2022-12-18T09:44:05.166Z"
   },
   {
    "duration": 3,
    "start_time": "2022-12-18T09:44:29.447Z"
   },
   {
    "duration": 5,
    "start_time": "2022-12-18T09:45:00.758Z"
   },
   {
    "duration": 9,
    "start_time": "2022-12-18T09:45:16.947Z"
   },
   {
    "duration": 9,
    "start_time": "2022-12-18T09:45:19.047Z"
   },
   {
    "duration": 14,
    "start_time": "2022-12-18T09:45:21.063Z"
   },
   {
    "duration": 4,
    "start_time": "2022-12-18T09:45:35.445Z"
   },
   {
    "duration": 14,
    "start_time": "2022-12-18T09:45:37.568Z"
   },
   {
    "duration": 5,
    "start_time": "2022-12-18T09:45:46.056Z"
   },
   {
    "duration": 5,
    "start_time": "2022-12-18T09:45:58.609Z"
   },
   {
    "duration": 14,
    "start_time": "2022-12-18T09:46:01.720Z"
   },
   {
    "duration": 8,
    "start_time": "2022-12-18T10:01:25.756Z"
   },
   {
    "duration": 11,
    "start_time": "2022-12-18T10:01:36.532Z"
   },
   {
    "duration": 11,
    "start_time": "2022-12-18T10:01:47.660Z"
   },
   {
    "duration": 3,
    "start_time": "2022-12-18T10:01:53.299Z"
   },
   {
    "duration": 4,
    "start_time": "2022-12-18T10:01:54.380Z"
   },
   {
    "duration": 46,
    "start_time": "2022-12-18T10:01:54.981Z"
   },
   {
    "duration": 12,
    "start_time": "2022-12-18T10:01:57.331Z"
   },
   {
    "duration": 15,
    "start_time": "2022-12-18T10:01:58.941Z"
   },
   {
    "duration": 3,
    "start_time": "2022-12-18T10:02:03.374Z"
   },
   {
    "duration": 10,
    "start_time": "2022-12-18T10:02:04.165Z"
   },
   {
    "duration": 15,
    "start_time": "2022-12-18T10:02:06.044Z"
   },
   {
    "duration": 10,
    "start_time": "2022-12-18T10:02:08.526Z"
   },
   {
    "duration": 4,
    "start_time": "2022-12-18T10:02:09.180Z"
   },
   {
    "duration": 6,
    "start_time": "2022-12-18T10:02:11.097Z"
   },
   {
    "duration": 4,
    "start_time": "2022-12-18T10:02:12.981Z"
   },
   {
    "duration": 5,
    "start_time": "2022-12-18T10:02:14.013Z"
   },
   {
    "duration": 6,
    "start_time": "2022-12-18T10:02:16.237Z"
   },
   {
    "duration": 22,
    "start_time": "2022-12-18T10:02:18.366Z"
   },
   {
    "duration": 6,
    "start_time": "2022-12-18T10:02:21.709Z"
   },
   {
    "duration": 6,
    "start_time": "2022-12-18T10:02:28.532Z"
   },
   {
    "duration": 9,
    "start_time": "2022-12-18T10:02:30.741Z"
   },
   {
    "duration": 5,
    "start_time": "2022-12-18T10:02:35.277Z"
   },
   {
    "duration": 69,
    "start_time": "2022-12-18T10:02:36.222Z"
   },
   {
    "duration": 5,
    "start_time": "2022-12-18T10:02:41.918Z"
   },
   {
    "duration": 5,
    "start_time": "2022-12-18T10:02:44.359Z"
   },
   {
    "duration": 5,
    "start_time": "2022-12-18T10:02:47.710Z"
   },
   {
    "duration": 8,
    "start_time": "2022-12-18T10:02:48.509Z"
   },
   {
    "duration": 8,
    "start_time": "2022-12-18T10:02:49.622Z"
   },
   {
    "duration": 15,
    "start_time": "2022-12-18T10:02:51.670Z"
   },
   {
    "duration": 11,
    "start_time": "2022-12-18T10:02:53.853Z"
   },
   {
    "duration": 11,
    "start_time": "2022-12-18T10:02:59.166Z"
   },
   {
    "duration": 162,
    "start_time": "2022-12-18T10:04:08.400Z"
   },
   {
    "duration": 112,
    "start_time": "2022-12-18T10:04:59.064Z"
   },
   {
    "duration": 167,
    "start_time": "2022-12-18T10:07:19.724Z"
   },
   {
    "duration": 219,
    "start_time": "2022-12-18T10:07:37.164Z"
   },
   {
    "duration": 1339,
    "start_time": "2022-12-18T10:07:41.956Z"
   },
   {
    "duration": 140,
    "start_time": "2022-12-18T10:07:54.165Z"
   },
   {
    "duration": 91,
    "start_time": "2022-12-18T10:08:24.349Z"
   },
   {
    "duration": 9,
    "start_time": "2022-12-18T10:08:30.207Z"
   },
   {
    "duration": 10,
    "start_time": "2022-12-18T10:08:36.389Z"
   },
   {
    "duration": 8,
    "start_time": "2022-12-18T10:08:39.542Z"
   },
   {
    "duration": 5,
    "start_time": "2022-12-18T10:08:47.005Z"
   },
   {
    "duration": 93,
    "start_time": "2022-12-18T10:11:30.073Z"
   },
   {
    "duration": 179,
    "start_time": "2022-12-18T10:11:34.640Z"
   },
   {
    "duration": 148,
    "start_time": "2022-12-18T10:13:02.395Z"
   },
   {
    "duration": 285,
    "start_time": "2022-12-18T10:13:13.347Z"
   },
   {
    "duration": 145,
    "start_time": "2022-12-18T10:13:21.123Z"
   },
   {
    "duration": 14,
    "start_time": "2022-12-18T10:15:15.062Z"
   },
   {
    "duration": 3,
    "start_time": "2022-12-18T10:20:50.564Z"
   },
   {
    "duration": 12,
    "start_time": "2022-12-18T10:24:38.216Z"
   },
   {
    "duration": 136,
    "start_time": "2022-12-18T10:27:19.316Z"
   },
   {
    "duration": 10,
    "start_time": "2022-12-18T10:27:33.000Z"
   },
   {
    "duration": 8,
    "start_time": "2022-12-18T10:27:37.021Z"
   },
   {
    "duration": 124,
    "start_time": "2022-12-18T10:28:20.446Z"
   },
   {
    "duration": 7,
    "start_time": "2022-12-18T10:28:27.014Z"
   },
   {
    "duration": 288,
    "start_time": "2022-12-18T10:28:56.936Z"
   },
   {
    "duration": 6,
    "start_time": "2022-12-18T10:29:44.728Z"
   },
   {
    "duration": 267,
    "start_time": "2022-12-18T10:31:58.850Z"
   },
   {
    "duration": 1086,
    "start_time": "2022-12-18T10:32:41.004Z"
   },
   {
    "duration": 954,
    "start_time": "2022-12-18T10:32:54.773Z"
   },
   {
    "duration": 1157,
    "start_time": "2022-12-18T10:33:34.101Z"
   },
   {
    "duration": 19,
    "start_time": "2022-12-18T10:37:41.947Z"
   },
   {
    "duration": 10,
    "start_time": "2022-12-18T10:38:26.680Z"
   },
   {
    "duration": 12,
    "start_time": "2022-12-18T10:38:36.946Z"
   },
   {
    "duration": 16,
    "start_time": "2022-12-18T10:38:57.699Z"
   },
   {
    "duration": 11,
    "start_time": "2022-12-18T10:39:01.723Z"
   },
   {
    "duration": 11,
    "start_time": "2022-12-18T10:39:04.939Z"
   },
   {
    "duration": 256,
    "start_time": "2022-12-18T10:39:54.093Z"
   },
   {
    "duration": 18,
    "start_time": "2022-12-18T10:40:12.261Z"
   },
   {
    "duration": 263,
    "start_time": "2022-12-18T10:41:48.496Z"
   },
   {
    "duration": 636,
    "start_time": "2022-12-18T10:47:04.959Z"
   },
   {
    "duration": 458,
    "start_time": "2022-12-18T10:47:12.591Z"
   },
   {
    "duration": 831,
    "start_time": "2022-12-18T10:54:41.119Z"
   },
   {
    "duration": 547,
    "start_time": "2022-12-18T10:54:53.225Z"
   },
   {
    "duration": 476,
    "start_time": "2022-12-18T10:55:02.628Z"
   },
   {
    "duration": 489,
    "start_time": "2022-12-18T10:55:10.777Z"
   },
   {
    "duration": 520,
    "start_time": "2022-12-18T10:55:18.337Z"
   },
   {
    "duration": 5,
    "start_time": "2022-12-18T11:03:21.579Z"
   },
   {
    "duration": 8,
    "start_time": "2022-12-18T11:05:08.165Z"
   },
   {
    "duration": 9,
    "start_time": "2022-12-18T11:05:34.878Z"
   },
   {
    "duration": 112,
    "start_time": "2022-12-18T11:06:23.273Z"
   },
   {
    "duration": 12,
    "start_time": "2022-12-18T11:06:31.792Z"
   },
   {
    "duration": 13,
    "start_time": "2022-12-18T11:06:35.160Z"
   },
   {
    "duration": 106,
    "start_time": "2022-12-18T11:06:38.671Z"
   },
   {
    "duration": 152,
    "start_time": "2022-12-18T11:06:45.736Z"
   },
   {
    "duration": 176,
    "start_time": "2022-12-18T11:07:04.089Z"
   },
   {
    "duration": 334,
    "start_time": "2022-12-18T11:07:13.025Z"
   },
   {
    "duration": 5,
    "start_time": "2022-12-18T11:08:01.324Z"
   },
   {
    "duration": 161,
    "start_time": "2022-12-18T11:08:10.074Z"
   },
   {
    "duration": 141,
    "start_time": "2022-12-18T11:08:16.018Z"
   },
   {
    "duration": 161,
    "start_time": "2022-12-18T11:08:25.763Z"
   },
   {
    "duration": 156,
    "start_time": "2022-12-18T11:08:39.996Z"
   },
   {
    "duration": 169,
    "start_time": "2022-12-18T11:08:46.499Z"
   },
   {
    "duration": 150,
    "start_time": "2022-12-18T11:08:51.667Z"
   },
   {
    "duration": 155,
    "start_time": "2022-12-18T11:08:56.459Z"
   },
   {
    "duration": 108,
    "start_time": "2022-12-18T11:09:02.163Z"
   },
   {
    "duration": 120,
    "start_time": "2022-12-18T11:09:08.596Z"
   },
   {
    "duration": 130,
    "start_time": "2022-12-18T11:09:16.444Z"
   },
   {
    "duration": 146,
    "start_time": "2022-12-18T11:09:23.686Z"
   },
   {
    "duration": 128,
    "start_time": "2022-12-18T11:09:34.175Z"
   },
   {
    "duration": 231,
    "start_time": "2022-12-18T11:09:38.597Z"
   },
   {
    "duration": 133,
    "start_time": "2022-12-18T11:09:44.060Z"
   },
   {
    "duration": 222,
    "start_time": "2022-12-18T11:09:49.492Z"
   },
   {
    "duration": 136,
    "start_time": "2022-12-18T11:10:18.270Z"
   },
   {
    "duration": 145,
    "start_time": "2022-12-18T11:10:29.733Z"
   },
   {
    "duration": 142,
    "start_time": "2022-12-18T11:10:40.248Z"
   },
   {
    "duration": 118,
    "start_time": "2022-12-18T11:11:01.840Z"
   },
   {
    "duration": 300,
    "start_time": "2022-12-18T11:11:07.239Z"
   },
   {
    "duration": 121,
    "start_time": "2022-12-18T11:11:39.241Z"
   },
   {
    "duration": 110,
    "start_time": "2022-12-18T11:11:45.719Z"
   },
   {
    "duration": 132,
    "start_time": "2022-12-18T11:11:51.120Z"
   },
   {
    "duration": 140,
    "start_time": "2022-12-18T11:11:55.725Z"
   },
   {
    "duration": 138,
    "start_time": "2022-12-18T11:12:00.847Z"
   },
   {
    "duration": 123,
    "start_time": "2022-12-18T11:12:05.032Z"
   },
   {
    "duration": 108,
    "start_time": "2022-12-18T11:12:09.793Z"
   },
   {
    "duration": 107,
    "start_time": "2022-12-18T11:12:15.900Z"
   },
   {
    "duration": 131,
    "start_time": "2022-12-18T11:12:33.905Z"
   },
   {
    "duration": 136,
    "start_time": "2022-12-18T11:12:38.513Z"
   },
   {
    "duration": 116,
    "start_time": "2022-12-18T11:13:03.834Z"
   },
   {
    "duration": 116,
    "start_time": "2022-12-18T11:13:05.450Z"
   },
   {
    "duration": 141,
    "start_time": "2022-12-18T11:13:06.913Z"
   },
   {
    "duration": 98,
    "start_time": "2022-12-18T11:13:08.472Z"
   },
   {
    "duration": 165,
    "start_time": "2022-12-18T11:13:38.834Z"
   },
   {
    "duration": 147,
    "start_time": "2022-12-18T11:13:44.931Z"
   },
   {
    "duration": 149,
    "start_time": "2022-12-18T11:13:48.198Z"
   },
   {
    "duration": 151,
    "start_time": "2022-12-18T11:13:51.146Z"
   },
   {
    "duration": 163,
    "start_time": "2022-12-18T11:13:54.683Z"
   },
   {
    "duration": 140,
    "start_time": "2022-12-18T11:13:57.523Z"
   },
   {
    "duration": 167,
    "start_time": "2022-12-18T11:14:00.650Z"
   },
   {
    "duration": 173,
    "start_time": "2022-12-18T11:14:03.570Z"
   },
   {
    "duration": 141,
    "start_time": "2022-12-18T11:14:06.426Z"
   },
   {
    "duration": 109,
    "start_time": "2022-12-18T11:14:09.107Z"
   },
   {
    "duration": 115,
    "start_time": "2022-12-18T11:14:11.690Z"
   },
   {
    "duration": 122,
    "start_time": "2022-12-18T11:14:14.442Z"
   },
   {
    "duration": 161,
    "start_time": "2022-12-18T11:14:16.899Z"
   },
   {
    "duration": 336,
    "start_time": "2022-12-18T11:14:19.651Z"
   },
   {
    "duration": 230,
    "start_time": "2022-12-18T11:14:23.379Z"
   },
   {
    "duration": 142,
    "start_time": "2022-12-18T11:14:28.331Z"
   },
   {
    "duration": 139,
    "start_time": "2022-12-18T11:14:31.651Z"
   },
   {
    "duration": 107,
    "start_time": "2022-12-18T11:14:35.251Z"
   },
   {
    "duration": 98,
    "start_time": "2022-12-18T11:14:38.347Z"
   },
   {
    "duration": 115,
    "start_time": "2022-12-18T11:14:41.139Z"
   },
   {
    "duration": 110,
    "start_time": "2022-12-18T11:14:44.138Z"
   },
   {
    "duration": 153,
    "start_time": "2022-12-18T11:14:46.756Z"
   },
   {
    "duration": 129,
    "start_time": "2022-12-18T11:14:49.499Z"
   },
   {
    "duration": 129,
    "start_time": "2022-12-18T11:14:52.379Z"
   },
   {
    "duration": 114,
    "start_time": "2022-12-18T11:14:55.219Z"
   },
   {
    "duration": 109,
    "start_time": "2022-12-18T11:14:58.067Z"
   },
   {
    "duration": 107,
    "start_time": "2022-12-18T11:15:01.131Z"
   },
   {
    "duration": 112,
    "start_time": "2022-12-18T11:15:03.260Z"
   },
   {
    "duration": 119,
    "start_time": "2022-12-18T11:15:05.897Z"
   },
   {
    "duration": 105,
    "start_time": "2022-12-18T11:15:08.659Z"
   },
   {
    "duration": 114,
    "start_time": "2022-12-18T11:15:11.380Z"
   },
   {
    "duration": 107,
    "start_time": "2022-12-18T11:15:13.949Z"
   },
   {
    "duration": 100,
    "start_time": "2022-12-18T11:15:16.405Z"
   },
   {
    "duration": 4,
    "start_time": "2022-12-18T11:17:43.305Z"
   },
   {
    "duration": 5,
    "start_time": "2022-12-18T11:18:04.089Z"
   },
   {
    "duration": 5,
    "start_time": "2022-12-18T11:18:20.080Z"
   },
   {
    "duration": 5,
    "start_time": "2022-12-18T11:18:41.809Z"
   },
   {
    "duration": 5,
    "start_time": "2022-12-18T11:19:01.217Z"
   },
   {
    "duration": 4,
    "start_time": "2022-12-18T11:19:15.698Z"
   },
   {
    "duration": 5,
    "start_time": "2022-12-18T11:19:31.904Z"
   },
   {
    "duration": 5,
    "start_time": "2022-12-18T11:19:59.450Z"
   },
   {
    "duration": 5,
    "start_time": "2022-12-18T11:20:15.170Z"
   },
   {
    "duration": 39,
    "start_time": "2022-12-18T11:23:43.687Z"
   },
   {
    "duration": 45,
    "start_time": "2022-12-18T11:24:48.518Z"
   },
   {
    "duration": 163,
    "start_time": "2022-12-18T11:27:13.435Z"
   },
   {
    "duration": 159,
    "start_time": "2022-12-18T11:27:36.924Z"
   },
   {
    "duration": 159,
    "start_time": "2022-12-18T11:27:38.252Z"
   },
   {
    "duration": 42,
    "start_time": "2022-12-18T11:29:54.879Z"
   },
   {
    "duration": 38,
    "start_time": "2022-12-18T11:30:29.388Z"
   },
   {
    "duration": 14,
    "start_time": "2022-12-18T11:31:19.469Z"
   },
   {
    "duration": 7,
    "start_time": "2022-12-18T11:31:27.315Z"
   },
   {
    "duration": 5,
    "start_time": "2022-12-18T11:31:28.839Z"
   },
   {
    "duration": 5,
    "start_time": "2022-12-18T11:31:48.936Z"
   },
   {
    "duration": 4,
    "start_time": "2022-12-18T11:32:32.170Z"
   },
   {
    "duration": 30,
    "start_time": "2022-12-18T11:32:35.869Z"
   },
   {
    "duration": 498,
    "start_time": "2022-12-18T11:38:43.013Z"
   },
   {
    "duration": 465,
    "start_time": "2022-12-18T11:38:47.737Z"
   },
   {
    "duration": 719,
    "start_time": "2022-12-18T11:38:55.443Z"
   },
   {
    "duration": 1109,
    "start_time": "2022-12-18T11:41:02.141Z"
   },
   {
    "duration": 152,
    "start_time": "2022-12-18T11:41:17.136Z"
   },
   {
    "duration": 5,
    "start_time": "2022-12-18T11:44:32.386Z"
   },
   {
    "duration": 246,
    "start_time": "2022-12-18T11:44:42.050Z"
   },
   {
    "duration": 237,
    "start_time": "2022-12-18T11:45:15.826Z"
   },
   {
    "duration": 195,
    "start_time": "2022-12-18T11:45:22.529Z"
   },
   {
    "duration": 259,
    "start_time": "2022-12-18T11:46:54.509Z"
   },
   {
    "duration": 249,
    "start_time": "2022-12-18T11:47:08.541Z"
   },
   {
    "duration": 5,
    "start_time": "2022-12-18T11:47:33.909Z"
   },
   {
    "duration": 398,
    "start_time": "2022-12-18T11:47:34.861Z"
   },
   {
    "duration": 468,
    "start_time": "2022-12-18T13:29:10.879Z"
   },
   {
    "duration": 464,
    "start_time": "2022-12-18T13:29:17.120Z"
   },
   {
    "duration": 501,
    "start_time": "2022-12-18T13:29:35.330Z"
   },
   {
    "duration": 457,
    "start_time": "2022-12-18T13:29:54.573Z"
   },
   {
    "duration": 4,
    "start_time": "2022-12-18T13:35:38.272Z"
   },
   {
    "duration": 20,
    "start_time": "2022-12-18T13:38:20.204Z"
   },
   {
    "duration": 11,
    "start_time": "2022-12-18T13:39:39.552Z"
   },
   {
    "duration": 15,
    "start_time": "2022-12-18T13:39:50.034Z"
   },
   {
    "duration": 489,
    "start_time": "2022-12-18T13:40:22.708Z"
   },
   {
    "duration": 60,
    "start_time": "2022-12-18T13:40:27.647Z"
   },
   {
    "duration": 1000,
    "start_time": "2022-12-18T13:40:37.448Z"
   },
   {
    "duration": 20,
    "start_time": "2022-12-18T13:42:33.193Z"
   },
   {
    "duration": 14,
    "start_time": "2022-12-18T13:42:44.416Z"
   },
   {
    "duration": 69,
    "start_time": "2022-12-18T13:43:12.646Z"
   },
   {
    "duration": 64,
    "start_time": "2022-12-18T13:43:19.652Z"
   },
   {
    "duration": 68,
    "start_time": "2022-12-18T13:43:32.283Z"
   },
   {
    "duration": 65,
    "start_time": "2022-12-18T13:43:42.956Z"
   },
   {
    "duration": 20,
    "start_time": "2022-12-18T13:44:02.073Z"
   },
   {
    "duration": 185,
    "start_time": "2022-12-18T13:44:19.638Z"
   },
   {
    "duration": 161,
    "start_time": "2022-12-18T13:44:31.561Z"
   },
   {
    "duration": 121,
    "start_time": "2022-12-18T13:44:35.178Z"
   },
   {
    "duration": 13,
    "start_time": "2022-12-18T13:44:39.068Z"
   },
   {
    "duration": 62,
    "start_time": "2022-12-18T13:44:43.591Z"
   },
   {
    "duration": 60,
    "start_time": "2022-12-18T13:45:43.171Z"
   },
   {
    "duration": 301,
    "start_time": "2022-12-18T13:46:03.787Z"
   },
   {
    "duration": 58,
    "start_time": "2022-12-18T14:33:47.117Z"
   },
   {
    "duration": 164,
    "start_time": "2022-12-18T14:34:02.067Z"
   },
   {
    "duration": 19004,
    "start_time": "2022-12-18T14:34:19.581Z"
   },
   {
    "duration": 100,
    "start_time": "2022-12-18T14:36:32.000Z"
   },
   {
    "duration": 214,
    "start_time": "2022-12-18T14:36:52.641Z"
   },
   {
    "duration": 14,
    "start_time": "2022-12-18T14:37:02.745Z"
   },
   {
    "duration": 96,
    "start_time": "2022-12-18T14:38:06.810Z"
   },
   {
    "duration": 100,
    "start_time": "2022-12-18T14:38:49.235Z"
   },
   {
    "duration": 108,
    "start_time": "2022-12-18T14:38:58.835Z"
   },
   {
    "duration": 98,
    "start_time": "2022-12-18T14:39:05.259Z"
   },
   {
    "duration": 107,
    "start_time": "2022-12-18T14:39:09.196Z"
   },
   {
    "duration": 103,
    "start_time": "2022-12-18T14:39:12.060Z"
   },
   {
    "duration": 112,
    "start_time": "2022-12-18T14:39:53.435Z"
   },
   {
    "duration": 111,
    "start_time": "2022-12-18T14:40:03.443Z"
   },
   {
    "duration": 113,
    "start_time": "2022-12-18T14:40:13.357Z"
   },
   {
    "duration": 479,
    "start_time": "2022-12-18T14:44:03.723Z"
   },
   {
    "duration": 1149,
    "start_time": "2022-12-18T14:44:44.812Z"
   },
   {
    "duration": 436,
    "start_time": "2022-12-18T14:52:12.796Z"
   },
   {
    "duration": 23,
    "start_time": "2022-12-18T14:58:44.646Z"
   },
   {
    "duration": 18,
    "start_time": "2022-12-18T14:58:52.317Z"
   },
   {
    "duration": 191,
    "start_time": "2022-12-18T15:03:01.335Z"
   },
   {
    "duration": 160,
    "start_time": "2022-12-18T15:08:04.066Z"
   },
   {
    "duration": 234,
    "start_time": "2022-12-18T15:08:39.994Z"
   },
   {
    "duration": 1313,
    "start_time": "2022-12-18T15:09:01.090Z"
   },
   {
    "duration": 314,
    "start_time": "2022-12-18T15:11:40.293Z"
   },
   {
    "duration": 248,
    "start_time": "2022-12-18T15:11:53.963Z"
   },
   {
    "duration": 261,
    "start_time": "2022-12-18T15:12:05.334Z"
   },
   {
    "duration": 257,
    "start_time": "2022-12-18T15:12:13.902Z"
   },
   {
    "duration": 764,
    "start_time": "2022-12-18T15:13:57.717Z"
   },
   {
    "duration": 567,
    "start_time": "2022-12-18T15:16:21.488Z"
   },
   {
    "duration": 626,
    "start_time": "2022-12-18T15:17:12.801Z"
   },
   {
    "duration": 594,
    "start_time": "2022-12-18T15:17:59.978Z"
   },
   {
    "duration": 573,
    "start_time": "2022-12-18T15:18:06.490Z"
   },
   {
    "duration": 540,
    "start_time": "2022-12-18T15:18:11.724Z"
   },
   {
    "duration": 607,
    "start_time": "2022-12-18T15:18:27.667Z"
   },
   {
    "duration": 236,
    "start_time": "2022-12-18T15:43:16.307Z"
   },
   {
    "duration": 285,
    "start_time": "2022-12-18T15:43:25.411Z"
   },
   {
    "duration": 237,
    "start_time": "2022-12-18T15:43:37.891Z"
   },
   {
    "duration": 251,
    "start_time": "2022-12-18T15:43:43.435Z"
   },
   {
    "duration": 620,
    "start_time": "2022-12-18T15:44:41.430Z"
   },
   {
    "duration": 283,
    "start_time": "2022-12-18T15:46:18.934Z"
   },
   {
    "duration": 276,
    "start_time": "2022-12-18T15:46:26.744Z"
   },
   {
    "duration": 718,
    "start_time": "2022-12-18T16:03:25.520Z"
   },
   {
    "duration": 544,
    "start_time": "2022-12-18T16:03:30.786Z"
   },
   {
    "duration": 1043,
    "start_time": "2022-12-18T16:03:34.040Z"
   },
   {
    "duration": 605,
    "start_time": "2022-12-18T16:03:38.165Z"
   },
   {
    "duration": 689,
    "start_time": "2022-12-18T16:03:42.991Z"
   },
   {
    "duration": 72,
    "start_time": "2022-12-18T16:15:57.714Z"
   },
   {
    "duration": 14,
    "start_time": "2022-12-18T16:16:10.265Z"
   },
   {
    "duration": 266,
    "start_time": "2022-12-18T16:16:47.092Z"
   },
   {
    "duration": 283,
    "start_time": "2022-12-18T16:16:59.596Z"
   },
   {
    "duration": 306,
    "start_time": "2022-12-18T16:18:52.393Z"
   },
   {
    "duration": 13,
    "start_time": "2022-12-18T16:20:49.221Z"
   },
   {
    "duration": 6,
    "start_time": "2022-12-18T16:21:31.634Z"
   },
   {
    "duration": 7,
    "start_time": "2022-12-18T16:22:05.454Z"
   },
   {
    "duration": 275,
    "start_time": "2022-12-18T16:22:49.428Z"
   },
   {
    "duration": 430,
    "start_time": "2022-12-18T16:23:27.586Z"
   },
   {
    "duration": 279,
    "start_time": "2022-12-18T16:23:50.627Z"
   },
   {
    "duration": 13,
    "start_time": "2022-12-18T16:27:08.851Z"
   },
   {
    "duration": 7,
    "start_time": "2022-12-18T16:27:26.300Z"
   },
   {
    "duration": 12,
    "start_time": "2022-12-18T16:27:42.888Z"
   },
   {
    "duration": 71,
    "start_time": "2022-12-18T16:28:37.674Z"
   },
   {
    "duration": 8,
    "start_time": "2022-12-18T16:29:34.422Z"
   },
   {
    "duration": 12,
    "start_time": "2022-12-18T16:30:30.214Z"
   },
   {
    "duration": 873,
    "start_time": "2022-12-18T16:30:43.629Z"
   },
   {
    "duration": 11,
    "start_time": "2022-12-18T16:30:52.144Z"
   },
   {
    "duration": 20,
    "start_time": "2022-12-18T16:31:16.894Z"
   },
   {
    "duration": 18,
    "start_time": "2022-12-18T16:31:35.191Z"
   },
   {
    "duration": 19,
    "start_time": "2022-12-18T16:31:57.688Z"
   },
   {
    "duration": 23,
    "start_time": "2022-12-18T16:32:00.402Z"
   },
   {
    "duration": 8,
    "start_time": "2022-12-18T16:32:11.080Z"
   },
   {
    "duration": 1054,
    "start_time": "2022-12-18T16:32:32.469Z"
   },
   {
    "duration": 11,
    "start_time": "2022-12-18T16:32:53.809Z"
   },
   {
    "duration": 5,
    "start_time": "2022-12-18T16:33:09.357Z"
   },
   {
    "duration": 5,
    "start_time": "2022-12-18T16:34:46.237Z"
   },
   {
    "duration": 20,
    "start_time": "2022-12-18T16:35:53.128Z"
   },
   {
    "duration": 12,
    "start_time": "2022-12-18T16:36:13.302Z"
   },
   {
    "duration": 8,
    "start_time": "2022-12-18T16:36:37.127Z"
   },
   {
    "duration": 5,
    "start_time": "2022-12-18T16:37:38.024Z"
   },
   {
    "duration": 19,
    "start_time": "2022-12-18T16:37:40.969Z"
   },
   {
    "duration": 7,
    "start_time": "2022-12-18T16:37:57.674Z"
   },
   {
    "duration": 13,
    "start_time": "2022-12-18T16:38:11.594Z"
   },
   {
    "duration": 14,
    "start_time": "2022-12-18T16:38:28.755Z"
   },
   {
    "duration": 5,
    "start_time": "2022-12-18T16:39:02.254Z"
   },
   {
    "duration": 16,
    "start_time": "2022-12-18T16:39:04.981Z"
   },
   {
    "duration": 13,
    "start_time": "2022-12-18T16:39:19.355Z"
   },
   {
    "duration": 12,
    "start_time": "2022-12-18T16:40:11.180Z"
   },
   {
    "duration": 18,
    "start_time": "2022-12-18T16:40:36.455Z"
   },
   {
    "duration": 18,
    "start_time": "2022-12-18T16:41:03.935Z"
   },
   {
    "duration": 17,
    "start_time": "2022-12-18T16:41:36.094Z"
   },
   {
    "duration": 17,
    "start_time": "2022-12-18T16:41:47.015Z"
   },
   {
    "duration": 6,
    "start_time": "2022-12-18T16:41:55.951Z"
   },
   {
    "duration": 18,
    "start_time": "2022-12-18T16:41:57.935Z"
   },
   {
    "duration": 6,
    "start_time": "2022-12-18T16:47:28.496Z"
   },
   {
    "duration": 8,
    "start_time": "2022-12-18T16:49:59.603Z"
   },
   {
    "duration": 8,
    "start_time": "2022-12-18T16:50:02.183Z"
   },
   {
    "duration": 9,
    "start_time": "2022-12-18T16:50:15.907Z"
   },
   {
    "duration": 9,
    "start_time": "2022-12-18T16:50:19.542Z"
   },
   {
    "duration": 9,
    "start_time": "2022-12-18T16:50:21.886Z"
   },
   {
    "duration": 9,
    "start_time": "2022-12-18T16:50:28.397Z"
   },
   {
    "duration": 9,
    "start_time": "2022-12-18T16:50:35.004Z"
   },
   {
    "duration": 9,
    "start_time": "2022-12-18T16:50:39.972Z"
   },
   {
    "duration": 8,
    "start_time": "2022-12-18T16:50:44.977Z"
   },
   {
    "duration": 240,
    "start_time": "2022-12-18T16:51:09.390Z"
   },
   {
    "duration": 84,
    "start_time": "2022-12-18T16:51:21.510Z"
   },
   {
    "duration": 258,
    "start_time": "2022-12-18T16:51:28.790Z"
   },
   {
    "duration": 249,
    "start_time": "2022-12-18T16:51:37.823Z"
   },
   {
    "duration": 257,
    "start_time": "2022-12-18T16:51:46.182Z"
   },
   {
    "duration": 1268,
    "start_time": "2022-12-18T19:59:57.939Z"
   },
   {
    "duration": 4,
    "start_time": "2022-12-18T20:00:38.816Z"
   },
   {
    "duration": 1149,
    "start_time": "2022-12-18T20:01:14.890Z"
   },
   {
    "duration": 198,
    "start_time": "2022-12-18T20:03:33.862Z"
   },
   {
    "duration": 1049,
    "start_time": "2022-12-18T20:03:42.077Z"
   },
   {
    "duration": 3,
    "start_time": "2022-12-18T20:03:43.980Z"
   },
   {
    "duration": 53,
    "start_time": "2022-12-18T20:03:45.830Z"
   },
   {
    "duration": 21,
    "start_time": "2022-12-18T20:03:49.893Z"
   },
   {
    "duration": 15,
    "start_time": "2022-12-18T20:03:51.685Z"
   },
   {
    "duration": 710,
    "start_time": "2022-12-18T20:03:55.693Z"
   },
   {
    "duration": 610,
    "start_time": "2022-12-18T20:04:25.325Z"
   },
   {
    "duration": 634,
    "start_time": "2022-12-18T20:04:33.110Z"
   },
   {
    "duration": 4,
    "start_time": "2022-12-18T20:04:41.006Z"
   },
   {
    "duration": 3,
    "start_time": "2022-12-18T20:04:43.754Z"
   },
   {
    "duration": 9,
    "start_time": "2022-12-18T20:04:49.869Z"
   },
   {
    "duration": 48,
    "start_time": "2022-12-18T20:05:00.342Z"
   },
   {
    "duration": 10,
    "start_time": "2022-12-18T20:10:53.431Z"
   },
   {
    "duration": 5,
    "start_time": "2022-12-18T20:10:55.558Z"
   },
   {
    "duration": 6,
    "start_time": "2022-12-18T20:11:16.934Z"
   },
   {
    "duration": 12,
    "start_time": "2022-12-18T20:11:25.254Z"
   },
   {
    "duration": 5,
    "start_time": "2022-12-18T20:13:07.052Z"
   },
   {
    "duration": 6,
    "start_time": "2022-12-18T20:13:20.281Z"
   },
   {
    "duration": 5,
    "start_time": "2022-12-18T20:13:49.769Z"
   },
   {
    "duration": 5,
    "start_time": "2022-12-18T20:13:52.553Z"
   },
   {
    "duration": 4,
    "start_time": "2022-12-18T20:13:56.049Z"
   },
   {
    "duration": 7,
    "start_time": "2022-12-18T20:14:06.129Z"
   },
   {
    "duration": 13,
    "start_time": "2022-12-18T20:14:26.785Z"
   },
   {
    "duration": 13,
    "start_time": "2022-12-18T20:14:31.663Z"
   },
   {
    "duration": 137,
    "start_time": "2022-12-18T20:14:48.658Z"
   },
   {
    "duration": 1149,
    "start_time": "2022-12-18T20:15:56.029Z"
   },
   {
    "duration": 11,
    "start_time": "2022-12-18T20:16:04.198Z"
   },
   {
    "duration": 153,
    "start_time": "2022-12-18T20:16:07.751Z"
   },
   {
    "duration": 151,
    "start_time": "2022-12-18T20:16:31.581Z"
   },
   {
    "duration": 151,
    "start_time": "2022-12-18T20:16:49.038Z"
   },
   {
    "duration": 3,
    "start_time": "2022-12-18T20:20:08.190Z"
   },
   {
    "duration": 3,
    "start_time": "2022-12-18T20:20:09.113Z"
   },
   {
    "duration": 49,
    "start_time": "2022-12-18T20:20:10.338Z"
   },
   {
    "duration": 11,
    "start_time": "2022-12-18T20:20:13.327Z"
   },
   {
    "duration": 16,
    "start_time": "2022-12-18T20:20:14.291Z"
   },
   {
    "duration": 550,
    "start_time": "2022-12-18T20:20:16.162Z"
   },
   {
    "duration": 5,
    "start_time": "2022-12-18T20:20:19.085Z"
   },
   {
    "duration": 3,
    "start_time": "2022-12-18T20:20:19.761Z"
   },
   {
    "duration": 8,
    "start_time": "2022-12-18T20:20:21.201Z"
   },
   {
    "duration": 14,
    "start_time": "2022-12-18T20:20:23.154Z"
   },
   {
    "duration": 10,
    "start_time": "2022-12-18T20:20:25.770Z"
   },
   {
    "duration": 5,
    "start_time": "2022-12-18T20:20:27.089Z"
   },
   {
    "duration": 6,
    "start_time": "2022-12-18T20:20:48.930Z"
   },
   {
    "duration": 4,
    "start_time": "2022-12-18T20:20:51.362Z"
   },
   {
    "duration": 6,
    "start_time": "2022-12-18T20:20:52.994Z"
   },
   {
    "duration": 5,
    "start_time": "2022-12-18T20:21:03.636Z"
   },
   {
    "duration": 7,
    "start_time": "2022-12-18T20:21:05.747Z"
   },
   {
    "duration": 5,
    "start_time": "2022-12-18T20:21:07.948Z"
   },
   {
    "duration": 7,
    "start_time": "2022-12-18T20:21:09.362Z"
   },
   {
    "duration": 5,
    "start_time": "2022-12-18T20:21:10.771Z"
   },
   {
    "duration": 5,
    "start_time": "2022-12-18T20:21:11.858Z"
   },
   {
    "duration": 4,
    "start_time": "2022-12-18T20:21:13.858Z"
   },
   {
    "duration": 6,
    "start_time": "2022-12-18T20:21:14.802Z"
   },
   {
    "duration": 13,
    "start_time": "2022-12-18T20:21:16.707Z"
   },
   {
    "duration": 136,
    "start_time": "2022-12-18T20:21:20.545Z"
   },
   {
    "duration": 18,
    "start_time": "2022-12-18T20:24:01.814Z"
   },
   {
    "duration": 1074,
    "start_time": "2022-12-18T20:24:12.547Z"
   },
   {
    "duration": 341,
    "start_time": "2022-12-18T20:24:18.779Z"
   },
   {
    "duration": 1101,
    "start_time": "2022-12-18T20:24:45.458Z"
   },
   {
    "duration": 14,
    "start_time": "2022-12-18T20:25:14.344Z"
   },
   {
    "duration": 436,
    "start_time": "2022-12-18T20:25:20.353Z"
   },
   {
    "duration": 260,
    "start_time": "2022-12-18T20:28:08.820Z"
   },
   {
    "duration": 493,
    "start_time": "2022-12-18T20:29:26.134Z"
   },
   {
    "duration": 428,
    "start_time": "2022-12-18T20:29:29.262Z"
   },
   {
    "duration": 12,
    "start_time": "2022-12-18T20:29:32.989Z"
   },
   {
    "duration": 435,
    "start_time": "2022-12-18T20:29:39.103Z"
   },
   {
    "duration": 17,
    "start_time": "2022-12-18T20:35:15.277Z"
   },
   {
    "duration": 368,
    "start_time": "2022-12-18T20:35:23.426Z"
   },
   {
    "duration": 8,
    "start_time": "2022-12-18T20:35:29.085Z"
   },
   {
    "duration": 10,
    "start_time": "2022-12-18T20:35:37.653Z"
   },
   {
    "duration": 21,
    "start_time": "2022-12-18T20:36:01.870Z"
   },
   {
    "duration": 237,
    "start_time": "2022-12-18T20:36:10.502Z"
   },
   {
    "duration": 416,
    "start_time": "2022-12-18T20:36:17.958Z"
   },
   {
    "duration": 351,
    "start_time": "2022-12-18T20:37:56.560Z"
   },
   {
    "duration": 258,
    "start_time": "2022-12-18T20:38:25.721Z"
   },
   {
    "duration": 250,
    "start_time": "2022-12-18T20:38:36.258Z"
   },
   {
    "duration": 261,
    "start_time": "2022-12-18T20:43:32.934Z"
   },
   {
    "duration": 154,
    "start_time": "2022-12-18T20:46:55.843Z"
   },
   {
    "duration": 165,
    "start_time": "2022-12-18T20:47:20.017Z"
   },
   {
    "duration": 3,
    "start_time": "2022-12-18T20:50:41.287Z"
   },
   {
    "duration": 3,
    "start_time": "2022-12-18T20:53:41.467Z"
   },
   {
    "duration": 285,
    "start_time": "2022-12-18T20:53:54.020Z"
   },
   {
    "duration": 150,
    "start_time": "2022-12-18T20:58:29.295Z"
   },
   {
    "duration": 6,
    "start_time": "2022-12-18T21:07:49.198Z"
   },
   {
    "duration": 5,
    "start_time": "2022-12-18T21:08:36.072Z"
   },
   {
    "duration": 4,
    "start_time": "2022-12-18T21:08:51.092Z"
   },
   {
    "duration": 11,
    "start_time": "2022-12-18T21:09:02.872Z"
   },
   {
    "duration": 20,
    "start_time": "2022-12-18T21:09:16.397Z"
   },
   {
    "duration": 4,
    "start_time": "2022-12-18T21:13:13.677Z"
   },
   {
    "duration": 15,
    "start_time": "2022-12-18T21:13:22.773Z"
   },
   {
    "duration": 14,
    "start_time": "2022-12-18T21:14:13.158Z"
   },
   {
    "duration": 12,
    "start_time": "2022-12-18T21:14:18.519Z"
   },
   {
    "duration": 16,
    "start_time": "2022-12-18T21:14:21.814Z"
   },
   {
    "duration": 13,
    "start_time": "2022-12-18T21:15:11.928Z"
   },
   {
    "duration": 14,
    "start_time": "2022-12-18T21:15:14.744Z"
   },
   {
    "duration": 13,
    "start_time": "2022-12-18T21:15:21.417Z"
   },
   {
    "duration": 255,
    "start_time": "2022-12-18T21:16:28.753Z"
   },
   {
    "duration": 11,
    "start_time": "2022-12-18T21:16:58.756Z"
   },
   {
    "duration": 20,
    "start_time": "2022-12-18T21:17:29.405Z"
   },
   {
    "duration": 246,
    "start_time": "2022-12-18T21:18:28.733Z"
   },
   {
    "duration": 266,
    "start_time": "2022-12-18T21:18:45.350Z"
   },
   {
    "duration": 13,
    "start_time": "2022-12-18T21:21:36.826Z"
   },
   {
    "duration": 6,
    "start_time": "2022-12-18T21:22:05.238Z"
   },
   {
    "duration": 2,
    "start_time": "2022-12-18T21:22:54.582Z"
   },
   {
    "duration": 3,
    "start_time": "2022-12-18T21:24:00.941Z"
   },
   {
    "duration": 2,
    "start_time": "2022-12-18T21:35:59.756Z"
   },
   {
    "duration": 2,
    "start_time": "2022-12-18T21:37:04.317Z"
   },
   {
    "duration": 3,
    "start_time": "2022-12-18T21:37:10.180Z"
   },
   {
    "duration": 2,
    "start_time": "2022-12-18T21:37:36.391Z"
   },
   {
    "duration": 11,
    "start_time": "2022-12-18T21:38:27.072Z"
   },
   {
    "duration": 16,
    "start_time": "2022-12-18T21:39:24.805Z"
   },
   {
    "duration": 19,
    "start_time": "2022-12-18T21:39:34.921Z"
   },
   {
    "duration": 9,
    "start_time": "2022-12-18T21:41:14.090Z"
   },
   {
    "duration": 5,
    "start_time": "2022-12-18T21:41:18.690Z"
   },
   {
    "duration": 23,
    "start_time": "2022-12-18T21:41:35.455Z"
   },
   {
    "duration": 1175,
    "start_time": "2022-12-18T21:42:45.256Z"
   },
   {
    "duration": 14,
    "start_time": "2022-12-18T21:43:53.727Z"
   },
   {
    "duration": 14,
    "start_time": "2022-12-18T21:44:21.015Z"
   },
   {
    "duration": 121,
    "start_time": "2022-12-18T21:44:30.112Z"
   },
   {
    "duration": 13,
    "start_time": "2022-12-18T21:44:45.601Z"
   },
   {
    "duration": 12,
    "start_time": "2022-12-18T21:44:51.647Z"
   },
   {
    "duration": 16,
    "start_time": "2022-12-18T21:44:59.017Z"
   },
   {
    "duration": 11,
    "start_time": "2022-12-18T21:45:02.048Z"
   },
   {
    "duration": 9,
    "start_time": "2022-12-18T21:45:28.984Z"
   },
   {
    "duration": 9,
    "start_time": "2022-12-18T21:45:31.304Z"
   },
   {
    "duration": 127,
    "start_time": "2022-12-18T21:46:16.419Z"
   },
   {
    "duration": 130,
    "start_time": "2022-12-18T21:46:21.570Z"
   },
   {
    "duration": 10,
    "start_time": "2022-12-18T21:46:38.842Z"
   },
   {
    "duration": 10,
    "start_time": "2022-12-18T21:47:47.988Z"
   },
   {
    "duration": 11,
    "start_time": "2022-12-18T21:47:49.706Z"
   },
   {
    "duration": 11,
    "start_time": "2022-12-18T21:47:56.075Z"
   },
   {
    "duration": 10,
    "start_time": "2022-12-18T22:05:26.894Z"
   },
   {
    "duration": 12,
    "start_time": "2022-12-18T22:07:38.962Z"
   },
   {
    "duration": 15,
    "start_time": "2022-12-18T22:08:41.894Z"
   },
   {
    "duration": 13,
    "start_time": "2022-12-18T22:08:47.297Z"
   },
   {
    "duration": 13,
    "start_time": "2022-12-18T22:09:09.367Z"
   },
   {
    "duration": 14,
    "start_time": "2022-12-18T22:09:12.103Z"
   },
   {
    "duration": 13,
    "start_time": "2022-12-18T22:09:17.919Z"
   },
   {
    "duration": 10,
    "start_time": "2022-12-18T22:10:34.745Z"
   },
   {
    "duration": 13,
    "start_time": "2022-12-18T22:10:39.009Z"
   },
   {
    "duration": 12,
    "start_time": "2022-12-18T22:11:11.178Z"
   },
   {
    "duration": 13,
    "start_time": "2022-12-18T22:11:21.736Z"
   },
   {
    "duration": 12,
    "start_time": "2022-12-18T22:11:23.538Z"
   },
   {
    "duration": 12,
    "start_time": "2022-12-18T22:11:52.187Z"
   },
   {
    "duration": 13,
    "start_time": "2022-12-18T22:11:57.595Z"
   },
   {
    "duration": 12,
    "start_time": "2022-12-18T22:12:00.411Z"
   },
   {
    "duration": 2,
    "start_time": "2022-12-18T22:19:26.229Z"
   },
   {
    "duration": 12,
    "start_time": "2022-12-18T22:19:58.494Z"
   },
   {
    "duration": 12,
    "start_time": "2022-12-18T22:20:43.480Z"
   },
   {
    "duration": 13,
    "start_time": "2022-12-18T22:20:56.190Z"
   },
   {
    "duration": 13,
    "start_time": "2022-12-18T22:21:32.718Z"
   },
   {
    "duration": 13,
    "start_time": "2022-12-18T22:21:37.800Z"
   },
   {
    "duration": 12,
    "start_time": "2022-12-18T22:21:48.481Z"
   },
   {
    "duration": 13,
    "start_time": "2022-12-18T22:22:04.593Z"
   },
   {
    "duration": 13,
    "start_time": "2022-12-18T22:22:05.913Z"
   },
   {
    "duration": 12,
    "start_time": "2022-12-18T22:22:12.721Z"
   },
   {
    "duration": 10,
    "start_time": "2022-12-18T22:23:45.884Z"
   },
   {
    "duration": 9,
    "start_time": "2022-12-18T22:23:48.012Z"
   },
   {
    "duration": 10,
    "start_time": "2022-12-18T22:23:49.935Z"
   },
   {
    "duration": 9,
    "start_time": "2022-12-18T22:27:47.625Z"
   },
   {
    "duration": 9,
    "start_time": "2022-12-18T22:27:49.216Z"
   },
   {
    "duration": 9,
    "start_time": "2022-12-18T22:27:50.570Z"
   },
   {
    "duration": 11,
    "start_time": "2022-12-18T22:29:04.051Z"
   },
   {
    "duration": 11,
    "start_time": "2022-12-18T22:35:53.594Z"
   },
   {
    "duration": 10,
    "start_time": "2022-12-18T22:38:05.374Z"
   },
   {
    "duration": 1237,
    "start_time": "2022-12-19T05:40:24.448Z"
   },
   {
    "duration": 3,
    "start_time": "2022-12-19T05:40:25.687Z"
   },
   {
    "duration": 116,
    "start_time": "2022-12-19T05:40:25.691Z"
   },
   {
    "duration": 13,
    "start_time": "2022-12-19T05:40:25.809Z"
   },
   {
    "duration": 14,
    "start_time": "2022-12-19T05:40:25.823Z"
   },
   {
    "duration": 585,
    "start_time": "2022-12-19T05:40:25.838Z"
   },
   {
    "duration": 4,
    "start_time": "2022-12-19T05:40:26.424Z"
   },
   {
    "duration": 6,
    "start_time": "2022-12-19T05:40:26.430Z"
   },
   {
    "duration": 10,
    "start_time": "2022-12-19T05:40:26.437Z"
   },
   {
    "duration": 68,
    "start_time": "2022-12-19T05:40:26.450Z"
   },
   {
    "duration": 10,
    "start_time": "2022-12-19T05:40:26.520Z"
   },
   {
    "duration": 8,
    "start_time": "2022-12-19T05:40:26.532Z"
   },
   {
    "duration": 6,
    "start_time": "2022-12-19T05:40:26.542Z"
   },
   {
    "duration": 11,
    "start_time": "2022-12-19T05:40:26.549Z"
   },
   {
    "duration": 16,
    "start_time": "2022-12-19T05:40:26.562Z"
   },
   {
    "duration": 8,
    "start_time": "2022-12-19T05:40:26.580Z"
   },
   {
    "duration": 7,
    "start_time": "2022-12-19T05:40:26.590Z"
   },
   {
    "duration": 8,
    "start_time": "2022-12-19T05:40:26.598Z"
   },
   {
    "duration": 5,
    "start_time": "2022-12-19T05:40:26.607Z"
   },
   {
    "duration": 8,
    "start_time": "2022-12-19T05:40:26.614Z"
   },
   {
    "duration": 6,
    "start_time": "2022-12-19T05:40:26.623Z"
   },
   {
    "duration": 7,
    "start_time": "2022-12-19T05:40:26.630Z"
   },
   {
    "duration": 10,
    "start_time": "2022-12-19T05:40:26.638Z"
   },
   {
    "duration": 7,
    "start_time": "2022-12-19T05:40:26.649Z"
   },
   {
    "duration": 12,
    "start_time": "2022-12-19T05:40:26.658Z"
   },
   {
    "duration": 143,
    "start_time": "2022-12-19T05:40:26.697Z"
   },
   {
    "duration": 2,
    "start_time": "2022-12-19T05:40:26.842Z"
   },
   {
    "duration": 250,
    "start_time": "2022-12-19T05:40:26.847Z"
   },
   {
    "duration": 2,
    "start_time": "2022-12-19T05:40:27.099Z"
   },
   {
    "duration": 7,
    "start_time": "2022-12-19T05:40:27.103Z"
   },
   {
    "duration": 1095,
    "start_time": "2022-12-19T05:40:27.111Z"
   },
   {
    "duration": 486,
    "start_time": "2022-12-19T05:40:28.207Z"
   },
   {
    "duration": 3,
    "start_time": "2022-12-19T05:40:28.695Z"
   },
   {
    "duration": 16,
    "start_time": "2022-12-19T05:40:28.699Z"
   },
   {
    "duration": 287,
    "start_time": "2022-12-19T05:40:28.717Z"
   },
   {
    "duration": 2,
    "start_time": "2022-12-19T05:40:29.006Z"
   },
   {
    "duration": 174,
    "start_time": "2022-12-19T05:40:29.010Z"
   },
   {
    "duration": 10,
    "start_time": "2022-12-19T05:40:29.186Z"
   },
   {
    "duration": 2,
    "start_time": "2022-12-19T05:40:29.198Z"
   },
   {
    "duration": 267,
    "start_time": "2022-12-19T05:40:29.201Z"
   },
   {
    "duration": 262,
    "start_time": "2022-12-19T05:40:29.469Z"
   },
   {
    "duration": 268,
    "start_time": "2022-12-19T05:40:29.733Z"
   },
   {
    "duration": 3,
    "start_time": "2022-12-19T05:40:30.002Z"
   },
   {
    "duration": 26,
    "start_time": "2022-12-19T05:40:30.006Z"
   },
   {
    "duration": 10,
    "start_time": "2022-12-19T05:40:30.033Z"
   },
   {
    "duration": 27,
    "start_time": "2022-12-19T05:40:30.044Z"
   },
   {
    "duration": 9,
    "start_time": "2022-12-19T05:40:30.073Z"
   },
   {
    "duration": 21,
    "start_time": "2022-12-19T05:40:30.084Z"
   },
   {
    "duration": 16,
    "start_time": "2022-12-19T05:40:30.106Z"
   },
   {
    "duration": 71,
    "start_time": "2022-12-19T05:40:30.124Z"
   },
   {
    "duration": 58,
    "start_time": "2022-12-19T05:40:30.197Z"
   },
   {
    "duration": 55,
    "start_time": "2022-12-19T05:40:30.257Z"
   },
   {
    "duration": 42,
    "start_time": "2022-12-19T05:40:30.314Z"
   },
   {
    "duration": 31,
    "start_time": "2022-12-19T05:40:30.358Z"
   },
   {
    "duration": 11,
    "start_time": "2022-12-19T05:40:34.482Z"
   },
   {
    "duration": 41,
    "start_time": "2022-12-19T06:02:23.160Z"
   },
   {
    "duration": 107,
    "start_time": "2022-12-19T06:02:32.877Z"
   },
   {
    "duration": 10,
    "start_time": "2022-12-19T06:02:54.534Z"
   },
   {
    "duration": 9,
    "start_time": "2022-12-19T06:03:22.584Z"
   },
   {
    "duration": 10,
    "start_time": "2022-12-19T06:03:38.201Z"
   },
   {
    "duration": 12,
    "start_time": "2022-12-19T06:03:54.687Z"
   },
   {
    "duration": 7,
    "start_time": "2022-12-19T06:04:19.486Z"
   },
   {
    "duration": 7,
    "start_time": "2022-12-19T06:11:09.087Z"
   },
   {
    "duration": 7,
    "start_time": "2022-12-19T06:11:12.514Z"
   },
   {
    "duration": 12,
    "start_time": "2022-12-19T06:31:03.708Z"
   },
   {
    "duration": 12,
    "start_time": "2022-12-19T06:31:23.197Z"
   },
   {
    "duration": 11,
    "start_time": "2022-12-19T06:31:26.881Z"
   },
   {
    "duration": 7,
    "start_time": "2022-12-19T06:32:48.630Z"
   },
   {
    "duration": 13,
    "start_time": "2022-12-19T06:33:24.786Z"
   },
   {
    "duration": 13,
    "start_time": "2022-12-19T06:33:38.600Z"
   },
   {
    "duration": 20,
    "start_time": "2022-12-19T06:33:44.760Z"
   },
   {
    "duration": 8,
    "start_time": "2022-12-19T06:34:00.512Z"
   },
   {
    "duration": 10,
    "start_time": "2022-12-19T06:34:44.458Z"
   },
   {
    "duration": 15,
    "start_time": "2022-12-19T06:38:48.633Z"
   },
   {
    "duration": 15,
    "start_time": "2022-12-19T06:38:58.383Z"
   },
   {
    "duration": 16,
    "start_time": "2022-12-19T06:39:15.519Z"
   },
   {
    "duration": 19,
    "start_time": "2022-12-19T06:39:24.712Z"
   },
   {
    "duration": 13,
    "start_time": "2022-12-19T06:39:42.839Z"
   },
   {
    "duration": 9,
    "start_time": "2022-12-19T06:40:28.794Z"
   },
   {
    "duration": 14,
    "start_time": "2022-12-19T06:40:32.512Z"
   },
   {
    "duration": 18,
    "start_time": "2022-12-19T06:41:07.098Z"
   },
   {
    "duration": 22,
    "start_time": "2022-12-19T06:41:16.642Z"
   },
   {
    "duration": 19,
    "start_time": "2022-12-19T06:42:59.475Z"
   },
   {
    "duration": 14,
    "start_time": "2022-12-19T06:43:16.253Z"
   },
   {
    "duration": 14,
    "start_time": "2022-12-19T07:06:24.074Z"
   },
   {
    "duration": 10,
    "start_time": "2022-12-19T07:06:26.298Z"
   },
   {
    "duration": 18,
    "start_time": "2022-12-19T07:15:36.784Z"
   },
   {
    "duration": 16,
    "start_time": "2022-12-19T07:16:27.113Z"
   },
   {
    "duration": 19,
    "start_time": "2022-12-19T07:16:37.624Z"
   },
   {
    "duration": 16,
    "start_time": "2022-12-19T07:49:26.721Z"
   },
   {
    "duration": 12,
    "start_time": "2022-12-19T07:49:30.098Z"
   },
   {
    "duration": 2,
    "start_time": "2022-12-19T08:03:00.274Z"
   },
   {
    "duration": 43,
    "start_time": "2022-12-19T08:14:11.939Z"
   },
   {
    "duration": 12,
    "start_time": "2022-12-19T08:31:37.530Z"
   },
   {
    "duration": 27,
    "start_time": "2022-12-19T08:31:40.947Z"
   },
   {
    "duration": 3,
    "start_time": "2022-12-19T08:32:01.235Z"
   },
   {
    "duration": 3,
    "start_time": "2022-12-19T08:32:04.003Z"
   },
   {
    "duration": 55,
    "start_time": "2022-12-19T08:32:04.917Z"
   },
   {
    "duration": 12,
    "start_time": "2022-12-19T08:32:06.432Z"
   },
   {
    "duration": 1023,
    "start_time": "2022-12-19T08:51:58.274Z"
   },
   {
    "duration": 3,
    "start_time": "2022-12-19T08:51:59.299Z"
   },
   {
    "duration": 54,
    "start_time": "2022-12-19T08:51:59.303Z"
   },
   {
    "duration": 13,
    "start_time": "2022-12-19T08:51:59.358Z"
   },
   {
    "duration": 14,
    "start_time": "2022-12-19T08:51:59.373Z"
   },
   {
    "duration": 549,
    "start_time": "2022-12-19T08:51:59.388Z"
   },
   {
    "duration": 4,
    "start_time": "2022-12-19T08:51:59.938Z"
   },
   {
    "duration": 15,
    "start_time": "2022-12-19T08:51:59.943Z"
   },
   {
    "duration": 11,
    "start_time": "2022-12-19T08:51:59.959Z"
   },
   {
    "duration": 51,
    "start_time": "2022-12-19T08:51:59.972Z"
   },
   {
    "duration": 9,
    "start_time": "2022-12-19T08:52:00.024Z"
   },
   {
    "duration": 24,
    "start_time": "2022-12-19T08:52:00.035Z"
   },
   {
    "duration": 25,
    "start_time": "2022-12-19T08:52:00.061Z"
   },
   {
    "duration": 18,
    "start_time": "2022-12-19T08:52:00.089Z"
   },
   {
    "duration": 38,
    "start_time": "2022-12-19T08:52:00.108Z"
   },
   {
    "duration": 39,
    "start_time": "2022-12-19T08:52:00.147Z"
   },
   {
    "duration": 15,
    "start_time": "2022-12-19T08:52:00.187Z"
   },
   {
    "duration": 55,
    "start_time": "2022-12-19T08:52:00.203Z"
   },
   {
    "duration": 67,
    "start_time": "2022-12-19T08:52:00.259Z"
   },
   {
    "duration": 48,
    "start_time": "2022-12-19T08:52:00.328Z"
   },
   {
    "duration": 38,
    "start_time": "2022-12-19T08:52:00.377Z"
   },
   {
    "duration": 48,
    "start_time": "2022-12-19T08:52:00.416Z"
   },
   {
    "duration": 45,
    "start_time": "2022-12-19T08:52:00.466Z"
   },
   {
    "duration": 52,
    "start_time": "2022-12-19T08:52:00.513Z"
   },
   {
    "duration": 55,
    "start_time": "2022-12-19T08:52:00.566Z"
   },
   {
    "duration": 208,
    "start_time": "2022-12-19T08:52:00.623Z"
   },
   {
    "duration": 2,
    "start_time": "2022-12-19T08:52:00.833Z"
   },
   {
    "duration": 286,
    "start_time": "2022-12-19T08:52:00.837Z"
   },
   {
    "duration": 2,
    "start_time": "2022-12-19T08:52:01.125Z"
   },
   {
    "duration": 20,
    "start_time": "2022-12-19T08:52:01.128Z"
   },
   {
    "duration": 1121,
    "start_time": "2022-12-19T08:52:01.149Z"
   },
   {
    "duration": 477,
    "start_time": "2022-12-19T08:52:02.272Z"
   },
   {
    "duration": 3,
    "start_time": "2022-12-19T08:52:02.750Z"
   },
   {
    "duration": 17,
    "start_time": "2022-12-19T08:52:02.754Z"
   },
   {
    "duration": 298,
    "start_time": "2022-12-19T08:52:02.773Z"
   },
   {
    "duration": 2,
    "start_time": "2022-12-19T08:52:03.073Z"
   },
   {
    "duration": 174,
    "start_time": "2022-12-19T08:52:03.077Z"
   },
   {
    "duration": 2,
    "start_time": "2022-12-19T08:52:03.253Z"
   },
   {
    "duration": 13,
    "start_time": "2022-12-19T08:52:03.257Z"
   },
   {
    "duration": 277,
    "start_time": "2022-12-19T08:52:03.272Z"
   },
   {
    "duration": 258,
    "start_time": "2022-12-19T08:52:03.552Z"
   },
   {
    "duration": 256,
    "start_time": "2022-12-19T08:52:03.816Z"
   },
   {
    "duration": 11,
    "start_time": "2022-12-19T08:52:04.073Z"
   },
   {
    "duration": 30,
    "start_time": "2022-12-19T08:52:04.086Z"
   },
   {
    "duration": 9,
    "start_time": "2022-12-19T08:52:04.118Z"
   },
   {
    "duration": 8,
    "start_time": "2022-12-19T08:52:04.129Z"
   },
   {
    "duration": 15,
    "start_time": "2022-12-19T08:52:04.138Z"
   },
   {
    "duration": 12,
    "start_time": "2022-12-19T08:52:04.154Z"
   },
   {
    "duration": 16,
    "start_time": "2022-12-19T08:52:04.168Z"
   },
   {
    "duration": 34,
    "start_time": "2022-12-19T08:52:04.186Z"
   },
   {
    "duration": 9,
    "start_time": "2022-12-19T08:52:04.222Z"
   },
   {
    "duration": 11,
    "start_time": "2022-12-19T08:52:04.232Z"
   },
   {
    "duration": 18,
    "start_time": "2022-12-19T08:52:04.244Z"
   },
   {
    "duration": 12,
    "start_time": "2022-12-19T08:52:04.264Z"
   },
   {
    "duration": 77,
    "start_time": "2022-12-19T11:51:29.457Z"
   },
   {
    "duration": 78,
    "start_time": "2022-12-19T12:11:30.999Z"
   },
   {
    "duration": 65,
    "start_time": "2022-12-19T12:13:41.575Z"
   },
   {
    "duration": 1457,
    "start_time": "2022-12-19T12:13:49.460Z"
   },
   {
    "duration": 6,
    "start_time": "2022-12-19T12:13:50.919Z"
   },
   {
    "duration": 233,
    "start_time": "2022-12-19T12:13:50.926Z"
   },
   {
    "duration": 16,
    "start_time": "2022-12-19T12:13:51.161Z"
   },
   {
    "duration": 23,
    "start_time": "2022-12-19T12:13:51.179Z"
   },
   {
    "duration": 791,
    "start_time": "2022-12-19T12:13:51.204Z"
   },
   {
    "duration": 5,
    "start_time": "2022-12-19T12:13:51.997Z"
   },
   {
    "duration": 19,
    "start_time": "2022-12-19T12:13:52.003Z"
   },
   {
    "duration": 33,
    "start_time": "2022-12-19T12:13:52.024Z"
   },
   {
    "duration": 79,
    "start_time": "2022-12-19T12:13:52.060Z"
   },
   {
    "duration": 11,
    "start_time": "2022-12-19T12:13:52.141Z"
   },
   {
    "duration": 8,
    "start_time": "2022-12-19T12:13:52.154Z"
   },
   {
    "duration": 11,
    "start_time": "2022-12-19T12:13:52.163Z"
   },
   {
    "duration": 7,
    "start_time": "2022-12-19T12:13:52.176Z"
   },
   {
    "duration": 16,
    "start_time": "2022-12-19T12:13:52.186Z"
   },
   {
    "duration": 20,
    "start_time": "2022-12-19T12:13:52.204Z"
   },
   {
    "duration": 18,
    "start_time": "2022-12-19T12:13:52.226Z"
   },
   {
    "duration": 9,
    "start_time": "2022-12-19T12:13:52.246Z"
   },
   {
    "duration": 9,
    "start_time": "2022-12-19T12:13:52.257Z"
   },
   {
    "duration": 11,
    "start_time": "2022-12-19T12:13:52.268Z"
   },
   {
    "duration": 10,
    "start_time": "2022-12-19T12:13:52.280Z"
   },
   {
    "duration": 15,
    "start_time": "2022-12-19T12:13:52.292Z"
   },
   {
    "duration": 7,
    "start_time": "2022-12-19T12:13:52.309Z"
   },
   {
    "duration": 24,
    "start_time": "2022-12-19T12:13:52.318Z"
   },
   {
    "duration": 16,
    "start_time": "2022-12-19T12:13:52.344Z"
   },
   {
    "duration": 214,
    "start_time": "2022-12-19T12:13:54.342Z"
   },
   {
    "duration": 25,
    "start_time": "2022-12-19T12:14:00.472Z"
   },
   {
    "duration": 16,
    "start_time": "2022-12-19T12:14:28.945Z"
   },
   {
    "duration": 126,
    "start_time": "2022-12-19T12:15:51.603Z"
   },
   {
    "duration": 107,
    "start_time": "2022-12-19T12:16:44.084Z"
   },
   {
    "duration": 72,
    "start_time": "2022-12-19T12:23:08.669Z"
   },
   {
    "duration": 3,
    "start_time": "2022-12-19T12:23:12.812Z"
   },
   {
    "duration": 20,
    "start_time": "2022-12-19T12:23:12.818Z"
   },
   {
    "duration": 56,
    "start_time": "2022-12-19T12:23:12.840Z"
   },
   {
    "duration": 12,
    "start_time": "2022-12-19T12:23:12.897Z"
   },
   {
    "duration": 23,
    "start_time": "2022-12-19T12:23:12.912Z"
   },
   {
    "duration": 670,
    "start_time": "2022-12-19T12:23:12.937Z"
   },
   {
    "duration": 3,
    "start_time": "2022-12-19T12:23:13.609Z"
   },
   {
    "duration": 22,
    "start_time": "2022-12-19T12:23:13.623Z"
   },
   {
    "duration": 19,
    "start_time": "2022-12-19T12:23:13.647Z"
   },
   {
    "duration": 28,
    "start_time": "2022-12-19T12:23:13.667Z"
   },
   {
    "duration": 12,
    "start_time": "2022-12-19T12:23:13.698Z"
   },
   {
    "duration": 10,
    "start_time": "2022-12-19T12:23:13.712Z"
   },
   {
    "duration": 41,
    "start_time": "2022-12-19T12:23:13.724Z"
   },
   {
    "duration": 9,
    "start_time": "2022-12-19T12:23:13.766Z"
   },
   {
    "duration": 15,
    "start_time": "2022-12-19T12:23:13.777Z"
   },
   {
    "duration": 121,
    "start_time": "2022-12-19T12:23:13.794Z"
   },
   {
    "duration": 32,
    "start_time": "2022-12-19T12:23:13.917Z"
   },
   {
    "duration": 31,
    "start_time": "2022-12-19T12:23:13.951Z"
   },
   {
    "duration": 8,
    "start_time": "2022-12-19T12:23:13.983Z"
   },
   {
    "duration": 26,
    "start_time": "2022-12-19T12:23:13.992Z"
   },
   {
    "duration": 28,
    "start_time": "2022-12-19T12:23:14.020Z"
   },
   {
    "duration": 30,
    "start_time": "2022-12-19T12:23:14.050Z"
   },
   {
    "duration": 20,
    "start_time": "2022-12-19T12:23:14.083Z"
   },
   {
    "duration": 41,
    "start_time": "2022-12-19T12:23:14.106Z"
   },
   {
    "duration": 38,
    "start_time": "2022-12-19T12:23:14.149Z"
   },
   {
    "duration": 32,
    "start_time": "2022-12-19T12:23:14.189Z"
   },
   {
    "duration": 222,
    "start_time": "2022-12-19T12:23:14.223Z"
   },
   {
    "duration": 3,
    "start_time": "2022-12-19T12:23:14.447Z"
   },
   {
    "duration": 18,
    "start_time": "2022-12-19T12:23:14.453Z"
   },
   {
    "duration": 318,
    "start_time": "2022-12-19T12:23:14.473Z"
   },
   {
    "duration": 2,
    "start_time": "2022-12-19T12:23:14.793Z"
   },
   {
    "duration": 12,
    "start_time": "2022-12-19T12:23:14.797Z"
   },
   {
    "duration": 1285,
    "start_time": "2022-12-19T12:23:14.811Z"
   },
   {
    "duration": 554,
    "start_time": "2022-12-19T12:23:16.097Z"
   },
   {
    "duration": 2,
    "start_time": "2022-12-19T12:23:16.653Z"
   },
   {
    "duration": 58,
    "start_time": "2022-12-19T12:23:16.657Z"
   },
   {
    "duration": 367,
    "start_time": "2022-12-19T12:23:16.717Z"
   },
   {
    "duration": 3,
    "start_time": "2022-12-19T12:23:17.086Z"
   },
   {
    "duration": 208,
    "start_time": "2022-12-19T12:23:17.090Z"
   },
   {
    "duration": 251,
    "start_time": "2022-12-19T12:23:25.085Z"
   },
   {
    "duration": 93,
    "start_time": "2022-12-19T12:24:19.855Z"
   },
   {
    "duration": 170,
    "start_time": "2022-12-19T12:24:34.646Z"
   },
   {
    "duration": 174,
    "start_time": "2022-12-19T12:24:41.339Z"
   },
   {
    "duration": 88,
    "start_time": "2022-12-19T12:27:47.924Z"
   },
   {
    "duration": 85,
    "start_time": "2022-12-19T12:42:41.769Z"
   },
   {
    "duration": 69,
    "start_time": "2022-12-19T12:43:11.649Z"
   },
   {
    "duration": 2,
    "start_time": "2022-12-19T12:44:14.115Z"
   },
   {
    "duration": 9,
    "start_time": "2022-12-19T12:45:29.404Z"
   },
   {
    "duration": 3,
    "start_time": "2022-12-19T12:51:13.305Z"
   },
   {
    "duration": 42,
    "start_time": "2022-12-19T12:51:13.310Z"
   },
   {
    "duration": 79,
    "start_time": "2022-12-19T12:51:13.354Z"
   },
   {
    "duration": 12,
    "start_time": "2022-12-19T12:51:13.436Z"
   },
   {
    "duration": 44,
    "start_time": "2022-12-19T12:51:13.450Z"
   },
   {
    "duration": 708,
    "start_time": "2022-12-19T12:51:13.497Z"
   },
   {
    "duration": 7,
    "start_time": "2022-12-19T12:51:14.207Z"
   },
   {
    "duration": 32,
    "start_time": "2022-12-19T12:51:14.222Z"
   },
   {
    "duration": 21,
    "start_time": "2022-12-19T12:51:14.256Z"
   },
   {
    "duration": 18,
    "start_time": "2022-12-19T12:51:14.279Z"
   },
   {
    "duration": 13,
    "start_time": "2022-12-19T12:51:14.301Z"
   },
   {
    "duration": 30,
    "start_time": "2022-12-19T12:51:14.316Z"
   },
   {
    "duration": 9,
    "start_time": "2022-12-19T12:51:14.348Z"
   },
   {
    "duration": 15,
    "start_time": "2022-12-19T12:51:14.359Z"
   },
   {
    "duration": 8,
    "start_time": "2022-12-19T12:51:14.376Z"
   },
   {
    "duration": 12,
    "start_time": "2022-12-19T12:51:14.386Z"
   },
   {
    "duration": 19,
    "start_time": "2022-12-19T12:51:14.400Z"
   },
   {
    "duration": 34,
    "start_time": "2022-12-19T12:51:14.422Z"
   },
   {
    "duration": 7,
    "start_time": "2022-12-19T12:51:14.458Z"
   },
   {
    "duration": 9,
    "start_time": "2022-12-19T12:51:14.467Z"
   },
   {
    "duration": 6,
    "start_time": "2022-12-19T12:51:14.478Z"
   },
   {
    "duration": 12,
    "start_time": "2022-12-19T12:51:14.485Z"
   },
   {
    "duration": 7,
    "start_time": "2022-12-19T12:51:14.498Z"
   },
   {
    "duration": 16,
    "start_time": "2022-12-19T12:51:14.507Z"
   },
   {
    "duration": 34,
    "start_time": "2022-12-19T12:51:14.525Z"
   },
   {
    "duration": 15,
    "start_time": "2022-12-19T12:51:14.560Z"
   },
   {
    "duration": 176,
    "start_time": "2022-12-19T12:51:14.578Z"
   },
   {
    "duration": 3,
    "start_time": "2022-12-19T12:51:14.755Z"
   },
   {
    "duration": 15,
    "start_time": "2022-12-19T12:51:14.761Z"
   },
   {
    "duration": 300,
    "start_time": "2022-12-19T12:51:14.778Z"
   },
   {
    "duration": 2,
    "start_time": "2022-12-19T12:51:15.080Z"
   },
   {
    "duration": 19,
    "start_time": "2022-12-19T12:51:15.083Z"
   },
   {
    "duration": 1350,
    "start_time": "2022-12-19T12:51:15.104Z"
   },
   {
    "duration": 538,
    "start_time": "2022-12-19T12:51:16.456Z"
   },
   {
    "duration": 2,
    "start_time": "2022-12-19T12:51:16.995Z"
   },
   {
    "duration": 24,
    "start_time": "2022-12-19T12:51:16.999Z"
   },
   {
    "duration": 335,
    "start_time": "2022-12-19T12:51:17.026Z"
   },
   {
    "duration": 3,
    "start_time": "2022-12-19T12:51:17.363Z"
   },
   {
    "duration": 187,
    "start_time": "2022-12-19T12:51:17.367Z"
   },
   {
    "duration": 3,
    "start_time": "2022-12-19T12:51:17.556Z"
   },
   {
    "duration": 194,
    "start_time": "2022-12-19T12:51:17.561Z"
   },
   {
    "duration": 2,
    "start_time": "2022-12-19T12:51:17.756Z"
   },
   {
    "duration": 322,
    "start_time": "2022-12-19T12:51:17.760Z"
   },
   {
    "duration": 334,
    "start_time": "2022-12-19T12:51:18.083Z"
   },
   {
    "duration": 280,
    "start_time": "2022-12-19T12:51:18.419Z"
   },
   {
    "duration": 3,
    "start_time": "2022-12-19T12:51:18.700Z"
   },
   {
    "duration": 24,
    "start_time": "2022-12-19T12:51:18.704Z"
   },
   {
    "duration": 20,
    "start_time": "2022-12-19T12:51:18.729Z"
   },
   {
    "duration": 21,
    "start_time": "2022-12-19T12:51:18.751Z"
   },
   {
    "duration": 14,
    "start_time": "2022-12-19T12:51:18.774Z"
   },
   {
    "duration": 10,
    "start_time": "2022-12-19T12:51:18.790Z"
   },
   {
    "duration": 24,
    "start_time": "2022-12-19T12:51:18.801Z"
   },
   {
    "duration": 23,
    "start_time": "2022-12-19T12:51:18.827Z"
   },
   {
    "duration": 8,
    "start_time": "2022-12-19T12:51:18.852Z"
   },
   {
    "duration": 8,
    "start_time": "2022-12-19T12:51:18.862Z"
   },
   {
    "duration": 10,
    "start_time": "2022-12-19T12:51:18.872Z"
   },
   {
    "duration": 12,
    "start_time": "2022-12-19T12:51:24.922Z"
   },
   {
    "duration": 19,
    "start_time": "2022-12-19T12:51:36.420Z"
   },
   {
    "duration": 735,
    "start_time": "2022-12-19T12:55:30.739Z"
   },
   {
    "duration": 5,
    "start_time": "2022-12-19T12:57:35.116Z"
   },
   {
    "duration": 20,
    "start_time": "2022-12-19T12:57:39.596Z"
   },
   {
    "duration": 14,
    "start_time": "2022-12-19T12:57:42.254Z"
   },
   {
    "duration": 576,
    "start_time": "2022-12-19T12:58:07.033Z"
   },
   {
    "duration": 312,
    "start_time": "2022-12-19T12:58:47.151Z"
   },
   {
    "duration": 17,
    "start_time": "2022-12-19T12:58:56.123Z"
   },
   {
    "duration": 6,
    "start_time": "2022-12-19T12:59:06.463Z"
   },
   {
    "duration": 14,
    "start_time": "2022-12-19T13:00:45.544Z"
   },
   {
    "duration": 10,
    "start_time": "2022-12-19T13:02:42.236Z"
   },
   {
    "duration": 5,
    "start_time": "2022-12-19T13:02:52.395Z"
   },
   {
    "duration": 5,
    "start_time": "2022-12-19T13:03:02.219Z"
   },
   {
    "duration": 10,
    "start_time": "2022-12-19T13:03:14.979Z"
   },
   {
    "duration": 4,
    "start_time": "2022-12-19T13:03:16.316Z"
   },
   {
    "duration": 11,
    "start_time": "2022-12-19T13:03:19.187Z"
   },
   {
    "duration": 4,
    "start_time": "2022-12-19T13:03:20.604Z"
   },
   {
    "duration": 10,
    "start_time": "2022-12-19T13:03:33.981Z"
   },
   {
    "duration": 4,
    "start_time": "2022-12-19T13:03:35.644Z"
   },
   {
    "duration": 10,
    "start_time": "2022-12-19T13:03:41.189Z"
   },
   {
    "duration": 5,
    "start_time": "2022-12-19T13:03:43.907Z"
   },
   {
    "duration": 2,
    "start_time": "2022-12-19T13:07:29.890Z"
   },
   {
    "duration": 290,
    "start_time": "2022-12-19T13:08:11.258Z"
   },
   {
    "duration": 298,
    "start_time": "2022-12-19T13:08:24.978Z"
   },
   {
    "duration": 312,
    "start_time": "2022-12-19T13:08:31.323Z"
   },
   {
    "duration": 285,
    "start_time": "2022-12-19T13:08:39.875Z"
   },
   {
    "duration": 4,
    "start_time": "2022-12-19T13:10:50.392Z"
   },
   {
    "duration": 4,
    "start_time": "2022-12-19T13:10:56.735Z"
   },
   {
    "duration": 3,
    "start_time": "2022-12-19T13:10:59.982Z"
   },
   {
    "duration": 4,
    "start_time": "2022-12-19T13:11:01.439Z"
   },
   {
    "duration": 6,
    "start_time": "2022-12-19T13:13:53.275Z"
   },
   {
    "duration": 5,
    "start_time": "2022-12-19T13:13:55.515Z"
   },
   {
    "duration": 27,
    "start_time": "2022-12-19T13:14:05.914Z"
   },
   {
    "duration": 6,
    "start_time": "2022-12-19T13:14:11.885Z"
   },
   {
    "duration": 5,
    "start_time": "2022-12-19T13:14:21.356Z"
   },
   {
    "duration": 5,
    "start_time": "2022-12-19T13:14:22.837Z"
   },
   {
    "duration": 6,
    "start_time": "2022-12-19T13:15:36.676Z"
   },
   {
    "duration": 8,
    "start_time": "2022-12-19T13:15:42.452Z"
   },
   {
    "duration": 5,
    "start_time": "2022-12-19T13:15:57.678Z"
   },
   {
    "duration": 10,
    "start_time": "2022-12-19T13:16:15.565Z"
   },
   {
    "duration": 5,
    "start_time": "2022-12-19T13:16:16.988Z"
   },
   {
    "duration": 5,
    "start_time": "2022-12-19T13:17:04.151Z"
   },
   {
    "duration": 4,
    "start_time": "2022-12-19T13:17:23.615Z"
   },
   {
    "duration": 586,
    "start_time": "2022-12-19T13:17:28.290Z"
   },
   {
    "duration": 13,
    "start_time": "2022-12-19T13:17:53.672Z"
   },
   {
    "duration": 4,
    "start_time": "2022-12-19T13:21:06.643Z"
   },
   {
    "duration": 3,
    "start_time": "2022-12-19T13:21:07.485Z"
   },
   {
    "duration": 8,
    "start_time": "2022-12-19T13:21:12.772Z"
   },
   {
    "duration": 5,
    "start_time": "2022-12-19T13:21:14.300Z"
   },
   {
    "duration": 3,
    "start_time": "2022-12-19T13:21:21.925Z"
   },
   {
    "duration": 13,
    "start_time": "2022-12-19T13:21:23.212Z"
   },
   {
    "duration": 537,
    "start_time": "2022-12-19T13:21:29.478Z"
   },
   {
    "duration": 6,
    "start_time": "2022-12-19T13:21:56.377Z"
   },
   {
    "duration": 9,
    "start_time": "2022-12-19T13:21:57.444Z"
   },
   {
    "duration": 5,
    "start_time": "2022-12-19T13:21:58.592Z"
   },
   {
    "duration": 4,
    "start_time": "2022-12-19T13:22:00.151Z"
   },
   {
    "duration": 12,
    "start_time": "2022-12-19T13:22:00.845Z"
   },
   {
    "duration": 4,
    "start_time": "2022-12-19T13:22:16.134Z"
   },
   {
    "duration": 4,
    "start_time": "2022-12-19T13:22:20.103Z"
   },
   {
    "duration": 376,
    "start_time": "2022-12-19T13:22:23.272Z"
   },
   {
    "duration": 402,
    "start_time": "2022-12-19T13:27:52.344Z"
   },
   {
    "duration": 500,
    "start_time": "2022-12-19T13:28:54.552Z"
   },
   {
    "duration": 92,
    "start_time": "2022-12-19T13:36:53.626Z"
   },
   {
    "duration": 1171,
    "start_time": "2022-12-19T13:38:31.856Z"
   },
   {
    "duration": 3,
    "start_time": "2022-12-19T13:38:33.029Z"
   },
   {
    "duration": 69,
    "start_time": "2022-12-19T13:38:33.033Z"
   },
   {
    "duration": 14,
    "start_time": "2022-12-19T13:38:33.104Z"
   },
   {
    "duration": 21,
    "start_time": "2022-12-19T13:38:33.119Z"
   },
   {
    "duration": 632,
    "start_time": "2022-12-19T13:38:33.142Z"
   },
   {
    "duration": 5,
    "start_time": "2022-12-19T13:38:33.776Z"
   },
   {
    "duration": 5,
    "start_time": "2022-12-19T13:38:33.782Z"
   },
   {
    "duration": 12,
    "start_time": "2022-12-19T13:38:33.789Z"
   },
   {
    "duration": 55,
    "start_time": "2022-12-19T13:38:33.821Z"
   },
   {
    "duration": 10,
    "start_time": "2022-12-19T13:38:33.878Z"
   },
   {
    "duration": 4,
    "start_time": "2022-12-19T13:38:33.889Z"
   },
   {
    "duration": 29,
    "start_time": "2022-12-19T13:38:33.895Z"
   },
   {
    "duration": 6,
    "start_time": "2022-12-19T13:38:33.927Z"
   },
   {
    "duration": 7,
    "start_time": "2022-12-19T13:38:33.935Z"
   },
   {
    "duration": 11,
    "start_time": "2022-12-19T13:38:33.943Z"
   },
   {
    "duration": 10,
    "start_time": "2022-12-19T13:38:33.956Z"
   },
   {
    "duration": 16,
    "start_time": "2022-12-19T13:38:33.968Z"
   },
   {
    "duration": 13,
    "start_time": "2022-12-19T13:38:33.986Z"
   },
   {
    "duration": 10,
    "start_time": "2022-12-19T13:38:34.000Z"
   },
   {
    "duration": 6,
    "start_time": "2022-12-19T13:38:34.022Z"
   },
   {
    "duration": 11,
    "start_time": "2022-12-19T13:38:34.029Z"
   },
   {
    "duration": 13,
    "start_time": "2022-12-19T13:38:34.042Z"
   },
   {
    "duration": 13,
    "start_time": "2022-12-19T13:38:34.057Z"
   },
   {
    "duration": 24,
    "start_time": "2022-12-19T13:38:34.072Z"
   },
   {
    "duration": 42,
    "start_time": "2022-12-19T13:38:34.098Z"
   },
   {
    "duration": 218,
    "start_time": "2022-12-19T13:38:34.142Z"
   },
   {
    "duration": 3,
    "start_time": "2022-12-19T13:38:34.366Z"
   },
   {
    "duration": 7,
    "start_time": "2022-12-19T13:38:34.370Z"
   },
   {
    "duration": 283,
    "start_time": "2022-12-19T13:38:34.378Z"
   },
   {
    "duration": 2,
    "start_time": "2022-12-19T13:38:34.663Z"
   },
   {
    "duration": 17,
    "start_time": "2022-12-19T13:38:34.667Z"
   },
   {
    "duration": 1209,
    "start_time": "2022-12-19T13:38:34.686Z"
   },
   {
    "duration": 540,
    "start_time": "2022-12-19T13:38:35.896Z"
   },
   {
    "duration": 3,
    "start_time": "2022-12-19T13:38:36.437Z"
   },
   {
    "duration": 17,
    "start_time": "2022-12-19T13:38:36.441Z"
   },
   {
    "duration": 284,
    "start_time": "2022-12-19T13:38:36.459Z"
   },
   {
    "duration": 2,
    "start_time": "2022-12-19T13:38:36.745Z"
   },
   {
    "duration": 178,
    "start_time": "2022-12-19T13:38:36.749Z"
   },
   {
    "duration": 3,
    "start_time": "2022-12-19T13:38:36.929Z"
   },
   {
    "duration": 173,
    "start_time": "2022-12-19T13:38:36.934Z"
   },
   {
    "duration": 3,
    "start_time": "2022-12-19T13:38:37.108Z"
   },
   {
    "duration": 289,
    "start_time": "2022-12-19T13:38:37.112Z"
   },
   {
    "duration": 287,
    "start_time": "2022-12-19T13:38:37.403Z"
   },
   {
    "duration": 284,
    "start_time": "2022-12-19T13:38:37.691Z"
   },
   {
    "duration": 2,
    "start_time": "2022-12-19T13:38:37.977Z"
   },
   {
    "duration": 13,
    "start_time": "2022-12-19T13:38:37.980Z"
   },
   {
    "duration": 9,
    "start_time": "2022-12-19T13:38:37.994Z"
   },
   {
    "duration": 10,
    "start_time": "2022-12-19T13:38:38.023Z"
   },
   {
    "duration": 11,
    "start_time": "2022-12-19T13:38:38.035Z"
   },
   {
    "duration": 13,
    "start_time": "2022-12-19T13:38:38.048Z"
   },
   {
    "duration": 9,
    "start_time": "2022-12-19T13:38:38.063Z"
   },
   {
    "duration": 14,
    "start_time": "2022-12-19T13:38:38.074Z"
   },
   {
    "duration": 38,
    "start_time": "2022-12-19T13:38:38.090Z"
   },
   {
    "duration": 8,
    "start_time": "2022-12-19T13:38:38.129Z"
   },
   {
    "duration": 112,
    "start_time": "2022-12-19T13:38:38.139Z"
   },
   {
    "duration": 6,
    "start_time": "2022-12-19T13:38:38.252Z"
   },
   {
    "duration": 9,
    "start_time": "2022-12-19T13:38:38.259Z"
   },
   {
    "duration": 9,
    "start_time": "2022-12-19T13:38:38.270Z"
   },
   {
    "duration": 393,
    "start_time": "2022-12-19T13:38:38.281Z"
   },
   {
    "duration": 10,
    "start_time": "2022-12-19T13:38:38.676Z"
   },
   {
    "duration": 11,
    "start_time": "2022-12-19T13:38:38.688Z"
   },
   {
    "duration": 1186,
    "start_time": "2022-12-19T14:24:01.690Z"
   },
   {
    "duration": 3,
    "start_time": "2022-12-19T14:24:02.878Z"
   },
   {
    "duration": 60,
    "start_time": "2022-12-19T14:24:02.883Z"
   },
   {
    "duration": 18,
    "start_time": "2022-12-19T14:24:02.946Z"
   },
   {
    "duration": 20,
    "start_time": "2022-12-19T14:24:02.966Z"
   },
   {
    "duration": 603,
    "start_time": "2022-12-19T14:24:02.988Z"
   },
   {
    "duration": 7,
    "start_time": "2022-12-19T14:24:03.593Z"
   },
   {
    "duration": 16,
    "start_time": "2022-12-19T14:24:03.601Z"
   },
   {
    "duration": 14,
    "start_time": "2022-12-19T14:24:03.619Z"
   },
   {
    "duration": 51,
    "start_time": "2022-12-19T14:24:03.635Z"
   },
   {
    "duration": 34,
    "start_time": "2022-12-19T14:24:03.689Z"
   },
   {
    "duration": 5,
    "start_time": "2022-12-19T14:24:03.725Z"
   },
   {
    "duration": 11,
    "start_time": "2022-12-19T14:24:03.732Z"
   },
   {
    "duration": 10,
    "start_time": "2022-12-19T14:24:03.745Z"
   },
   {
    "duration": 15,
    "start_time": "2022-12-19T14:24:03.757Z"
   },
   {
    "duration": 9,
    "start_time": "2022-12-19T14:24:03.774Z"
   },
   {
    "duration": 9,
    "start_time": "2022-12-19T14:24:03.784Z"
   },
   {
    "duration": 21,
    "start_time": "2022-12-19T14:24:03.795Z"
   },
   {
    "duration": 5,
    "start_time": "2022-12-19T14:24:03.818Z"
   },
   {
    "duration": 14,
    "start_time": "2022-12-19T14:24:03.825Z"
   },
   {
    "duration": 7,
    "start_time": "2022-12-19T14:24:03.842Z"
   },
   {
    "duration": 12,
    "start_time": "2022-12-19T14:24:03.850Z"
   },
   {
    "duration": 8,
    "start_time": "2022-12-19T14:24:03.864Z"
   },
   {
    "duration": 12,
    "start_time": "2022-12-19T14:24:03.873Z"
   },
   {
    "duration": 13,
    "start_time": "2022-12-19T14:24:03.886Z"
   },
   {
    "duration": 15,
    "start_time": "2022-12-19T14:24:03.915Z"
   },
   {
    "duration": 219,
    "start_time": "2022-12-19T14:24:03.931Z"
   },
   {
    "duration": 2,
    "start_time": "2022-12-19T14:24:04.155Z"
   },
   {
    "duration": 16,
    "start_time": "2022-12-19T14:24:04.159Z"
   },
   {
    "duration": 285,
    "start_time": "2022-12-19T14:24:04.178Z"
   },
   {
    "duration": 2,
    "start_time": "2022-12-19T14:24:04.465Z"
   },
   {
    "duration": 12,
    "start_time": "2022-12-19T14:24:04.471Z"
   },
   {
    "duration": 1238,
    "start_time": "2022-12-19T14:24:04.486Z"
   },
   {
    "duration": 530,
    "start_time": "2022-12-19T14:24:05.725Z"
   },
   {
    "duration": 3,
    "start_time": "2022-12-19T14:24:06.257Z"
   },
   {
    "duration": 27,
    "start_time": "2022-12-19T14:24:06.262Z"
   },
   {
    "duration": 301,
    "start_time": "2022-12-19T14:24:06.291Z"
   },
   {
    "duration": 3,
    "start_time": "2022-12-19T14:24:06.594Z"
   },
   {
    "duration": 181,
    "start_time": "2022-12-19T14:24:06.599Z"
   },
   {
    "duration": 3,
    "start_time": "2022-12-19T14:24:06.782Z"
   },
   {
    "duration": 259,
    "start_time": "2022-12-19T14:24:06.786Z"
   },
   {
    "duration": 3,
    "start_time": "2022-12-19T14:24:07.047Z"
   },
   {
    "duration": 290,
    "start_time": "2022-12-19T14:24:07.052Z"
   },
   {
    "duration": 262,
    "start_time": "2022-12-19T14:24:07.343Z"
   },
   {
    "duration": 264,
    "start_time": "2022-12-19T14:24:07.606Z"
   },
   {
    "duration": 2,
    "start_time": "2022-12-19T14:24:07.874Z"
   },
   {
    "duration": 17,
    "start_time": "2022-12-19T14:24:07.878Z"
   },
   {
    "duration": 25,
    "start_time": "2022-12-19T14:24:07.897Z"
   },
   {
    "duration": 19,
    "start_time": "2022-12-19T14:24:07.925Z"
   },
   {
    "duration": 12,
    "start_time": "2022-12-19T14:24:07.946Z"
   },
   {
    "duration": 20,
    "start_time": "2022-12-19T14:24:07.960Z"
   },
   {
    "duration": 10,
    "start_time": "2022-12-19T14:24:07.982Z"
   },
   {
    "duration": 11,
    "start_time": "2022-12-19T14:24:08.015Z"
   },
   {
    "duration": 9,
    "start_time": "2022-12-19T14:24:08.028Z"
   },
   {
    "duration": 16,
    "start_time": "2022-12-19T14:24:08.039Z"
   },
   {
    "duration": 123,
    "start_time": "2022-12-19T14:24:08.057Z"
   },
   {
    "duration": 14,
    "start_time": "2022-12-19T14:24:08.182Z"
   },
   {
    "duration": 19,
    "start_time": "2022-12-19T14:24:08.198Z"
   },
   {
    "duration": 9,
    "start_time": "2022-12-19T14:24:08.219Z"
   },
   {
    "duration": 360,
    "start_time": "2022-12-19T14:24:08.229Z"
   },
   {
    "duration": 10,
    "start_time": "2022-12-19T14:24:08.590Z"
   },
   {
    "duration": 21,
    "start_time": "2022-12-19T14:24:08.601Z"
   },
   {
    "duration": 291,
    "start_time": "2022-12-19T14:25:50.265Z"
   },
   {
    "duration": 1110,
    "start_time": "2022-12-19T14:26:07.933Z"
   },
   {
    "duration": 3,
    "start_time": "2022-12-19T14:26:09.045Z"
   },
   {
    "duration": 55,
    "start_time": "2022-12-19T14:26:09.050Z"
   },
   {
    "duration": 20,
    "start_time": "2022-12-19T14:26:09.108Z"
   },
   {
    "duration": 18,
    "start_time": "2022-12-19T14:26:09.133Z"
   },
   {
    "duration": 575,
    "start_time": "2022-12-19T14:26:09.152Z"
   },
   {
    "duration": 4,
    "start_time": "2022-12-19T14:26:09.728Z"
   },
   {
    "duration": 5,
    "start_time": "2022-12-19T14:26:09.734Z"
   },
   {
    "duration": 11,
    "start_time": "2022-12-19T14:26:09.741Z"
   },
   {
    "duration": 49,
    "start_time": "2022-12-19T14:26:09.754Z"
   },
   {
    "duration": 24,
    "start_time": "2022-12-19T14:26:09.804Z"
   },
   {
    "duration": 8,
    "start_time": "2022-12-19T14:26:09.830Z"
   },
   {
    "duration": 6,
    "start_time": "2022-12-19T14:26:09.840Z"
   },
   {
    "duration": 5,
    "start_time": "2022-12-19T14:26:09.847Z"
   },
   {
    "duration": 6,
    "start_time": "2022-12-19T14:26:09.853Z"
   },
   {
    "duration": 12,
    "start_time": "2022-12-19T14:26:09.861Z"
   },
   {
    "duration": 3,
    "start_time": "2022-12-19T14:26:09.874Z"
   },
   {
    "duration": 7,
    "start_time": "2022-12-19T14:26:09.879Z"
   },
   {
    "duration": 28,
    "start_time": "2022-12-19T14:26:09.888Z"
   },
   {
    "duration": 27,
    "start_time": "2022-12-19T14:26:09.920Z"
   },
   {
    "duration": 18,
    "start_time": "2022-12-19T14:26:09.948Z"
   },
   {
    "duration": 24,
    "start_time": "2022-12-19T14:26:09.968Z"
   },
   {
    "duration": 26,
    "start_time": "2022-12-19T14:26:09.994Z"
   },
   {
    "duration": 28,
    "start_time": "2022-12-19T14:26:10.025Z"
   },
   {
    "duration": 18,
    "start_time": "2022-12-19T14:26:10.054Z"
   },
   {
    "duration": 16,
    "start_time": "2022-12-19T14:26:10.074Z"
   },
   {
    "duration": 147,
    "start_time": "2022-12-19T14:26:10.092Z"
   },
   {
    "duration": 2,
    "start_time": "2022-12-19T14:26:10.243Z"
   },
   {
    "duration": 11,
    "start_time": "2022-12-19T14:26:10.247Z"
   },
   {
    "duration": 279,
    "start_time": "2022-12-19T14:26:10.259Z"
   },
   {
    "duration": 3,
    "start_time": "2022-12-19T14:26:10.540Z"
   },
   {
    "duration": 8,
    "start_time": "2022-12-19T14:26:10.545Z"
   },
   {
    "duration": 1175,
    "start_time": "2022-12-19T14:26:10.554Z"
   },
   {
    "duration": 490,
    "start_time": "2022-12-19T14:26:11.732Z"
   },
   {
    "duration": 4,
    "start_time": "2022-12-19T14:26:12.229Z"
   },
   {
    "duration": 24,
    "start_time": "2022-12-19T14:26:12.235Z"
   },
   {
    "duration": 305,
    "start_time": "2022-12-19T14:26:12.260Z"
   },
   {
    "duration": 2,
    "start_time": "2022-12-19T14:26:12.567Z"
   },
   {
    "duration": 182,
    "start_time": "2022-12-19T14:26:12.571Z"
   },
   {
    "duration": 2,
    "start_time": "2022-12-19T14:26:12.755Z"
   },
   {
    "duration": 163,
    "start_time": "2022-12-19T14:26:12.758Z"
   },
   {
    "duration": 2,
    "start_time": "2022-12-19T14:26:12.933Z"
   },
   {
    "duration": 297,
    "start_time": "2022-12-19T14:26:12.936Z"
   },
   {
    "duration": 281,
    "start_time": "2022-12-19T14:26:13.235Z"
   },
   {
    "duration": 254,
    "start_time": "2022-12-19T14:26:13.529Z"
   },
   {
    "duration": 355,
    "start_time": "2022-12-19T14:26:13.785Z"
   },
   {
    "duration": 2,
    "start_time": "2022-12-19T14:26:14.142Z"
   },
   {
    "duration": 21,
    "start_time": "2022-12-19T14:26:14.145Z"
   },
   {
    "duration": 11,
    "start_time": "2022-12-19T14:26:14.167Z"
   },
   {
    "duration": 56,
    "start_time": "2022-12-19T14:26:14.179Z"
   },
   {
    "duration": 14,
    "start_time": "2022-12-19T14:26:14.236Z"
   },
   {
    "duration": 12,
    "start_time": "2022-12-19T14:26:14.251Z"
   },
   {
    "duration": 22,
    "start_time": "2022-12-19T14:26:14.264Z"
   },
   {
    "duration": 15,
    "start_time": "2022-12-19T14:26:14.287Z"
   },
   {
    "duration": 43,
    "start_time": "2022-12-19T14:26:14.303Z"
   },
   {
    "duration": 9,
    "start_time": "2022-12-19T14:26:14.347Z"
   },
   {
    "duration": 10,
    "start_time": "2022-12-19T14:26:14.357Z"
   },
   {
    "duration": 9,
    "start_time": "2022-12-19T14:26:14.369Z"
   },
   {
    "duration": 10,
    "start_time": "2022-12-19T14:26:14.380Z"
   },
   {
    "duration": 9,
    "start_time": "2022-12-19T14:26:14.391Z"
   },
   {
    "duration": 358,
    "start_time": "2022-12-19T14:26:14.401Z"
   },
   {
    "duration": 9,
    "start_time": "2022-12-19T14:26:14.761Z"
   },
   {
    "duration": 39,
    "start_time": "2022-12-19T14:26:14.772Z"
   },
   {
    "duration": 256,
    "start_time": "2022-12-19T14:27:29.971Z"
   },
   {
    "duration": 1033,
    "start_time": "2022-12-19T14:28:29.276Z"
   },
   {
    "duration": 4,
    "start_time": "2022-12-19T14:28:30.311Z"
   },
   {
    "duration": 68,
    "start_time": "2022-12-19T14:28:30.317Z"
   },
   {
    "duration": 14,
    "start_time": "2022-12-19T14:28:30.387Z"
   },
   {
    "duration": 51,
    "start_time": "2022-12-19T14:28:30.402Z"
   },
   {
    "duration": 604,
    "start_time": "2022-12-19T14:28:30.454Z"
   },
   {
    "duration": 4,
    "start_time": "2022-12-19T14:28:31.059Z"
   },
   {
    "duration": 26,
    "start_time": "2022-12-19T14:28:31.064Z"
   },
   {
    "duration": 31,
    "start_time": "2022-12-19T14:28:31.092Z"
   },
   {
    "duration": 55,
    "start_time": "2022-12-19T14:28:31.125Z"
   },
   {
    "duration": 9,
    "start_time": "2022-12-19T14:28:31.182Z"
   },
   {
    "duration": 28,
    "start_time": "2022-12-19T14:28:31.193Z"
   },
   {
    "duration": 13,
    "start_time": "2022-12-19T14:28:31.223Z"
   },
   {
    "duration": 19,
    "start_time": "2022-12-19T14:28:31.237Z"
   },
   {
    "duration": 18,
    "start_time": "2022-12-19T14:28:31.257Z"
   },
   {
    "duration": 15,
    "start_time": "2022-12-19T14:28:31.276Z"
   },
   {
    "duration": 24,
    "start_time": "2022-12-19T14:28:31.293Z"
   },
   {
    "duration": 19,
    "start_time": "2022-12-19T14:28:31.319Z"
   },
   {
    "duration": 21,
    "start_time": "2022-12-19T14:28:31.339Z"
   },
   {
    "duration": 15,
    "start_time": "2022-12-19T14:28:31.361Z"
   },
   {
    "duration": 13,
    "start_time": "2022-12-19T14:28:31.377Z"
   },
   {
    "duration": 108,
    "start_time": "2022-12-19T14:28:31.392Z"
   },
   {
    "duration": 0,
    "start_time": "2022-12-19T14:28:31.502Z"
   },
   {
    "duration": 0,
    "start_time": "2022-12-19T14:28:31.503Z"
   },
   {
    "duration": 0,
    "start_time": "2022-12-19T14:28:31.505Z"
   },
   {
    "duration": 0,
    "start_time": "2022-12-19T14:28:31.506Z"
   },
   {
    "duration": 0,
    "start_time": "2022-12-19T14:28:31.507Z"
   },
   {
    "duration": 0,
    "start_time": "2022-12-19T14:28:31.508Z"
   },
   {
    "duration": 0,
    "start_time": "2022-12-19T14:28:31.515Z"
   },
   {
    "duration": 0,
    "start_time": "2022-12-19T14:28:31.516Z"
   },
   {
    "duration": 0,
    "start_time": "2022-12-19T14:28:31.517Z"
   },
   {
    "duration": 0,
    "start_time": "2022-12-19T14:28:31.521Z"
   },
   {
    "duration": 0,
    "start_time": "2022-12-19T14:28:31.522Z"
   },
   {
    "duration": 0,
    "start_time": "2022-12-19T14:28:31.522Z"
   },
   {
    "duration": 0,
    "start_time": "2022-12-19T14:28:31.524Z"
   },
   {
    "duration": 0,
    "start_time": "2022-12-19T14:28:31.525Z"
   },
   {
    "duration": 0,
    "start_time": "2022-12-19T14:28:31.526Z"
   },
   {
    "duration": 0,
    "start_time": "2022-12-19T14:28:31.527Z"
   },
   {
    "duration": 0,
    "start_time": "2022-12-19T14:28:31.528Z"
   },
   {
    "duration": 0,
    "start_time": "2022-12-19T14:28:31.529Z"
   },
   {
    "duration": 0,
    "start_time": "2022-12-19T14:28:31.530Z"
   },
   {
    "duration": 0,
    "start_time": "2022-12-19T14:28:31.531Z"
   },
   {
    "duration": 0,
    "start_time": "2022-12-19T14:28:31.532Z"
   },
   {
    "duration": 0,
    "start_time": "2022-12-19T14:28:31.533Z"
   },
   {
    "duration": 0,
    "start_time": "2022-12-19T14:28:31.534Z"
   },
   {
    "duration": 0,
    "start_time": "2022-12-19T14:28:31.534Z"
   },
   {
    "duration": 0,
    "start_time": "2022-12-19T14:28:31.536Z"
   },
   {
    "duration": 0,
    "start_time": "2022-12-19T14:28:31.537Z"
   },
   {
    "duration": 0,
    "start_time": "2022-12-19T14:28:31.537Z"
   },
   {
    "duration": 0,
    "start_time": "2022-12-19T14:28:31.539Z"
   },
   {
    "duration": 0,
    "start_time": "2022-12-19T14:28:31.540Z"
   },
   {
    "duration": 1,
    "start_time": "2022-12-19T14:28:31.540Z"
   },
   {
    "duration": 0,
    "start_time": "2022-12-19T14:28:31.542Z"
   },
   {
    "duration": 0,
    "start_time": "2022-12-19T14:28:31.543Z"
   },
   {
    "duration": 0,
    "start_time": "2022-12-19T14:28:31.544Z"
   },
   {
    "duration": 0,
    "start_time": "2022-12-19T14:28:31.545Z"
   },
   {
    "duration": 0,
    "start_time": "2022-12-19T14:28:31.546Z"
   },
   {
    "duration": 0,
    "start_time": "2022-12-19T14:28:31.547Z"
   },
   {
    "duration": 0,
    "start_time": "2022-12-19T14:28:31.548Z"
   },
   {
    "duration": 0,
    "start_time": "2022-12-19T14:28:31.549Z"
   },
   {
    "duration": 0,
    "start_time": "2022-12-19T14:28:31.549Z"
   },
   {
    "duration": 0,
    "start_time": "2022-12-19T14:28:31.551Z"
   },
   {
    "duration": 0,
    "start_time": "2022-12-19T14:28:31.552Z"
   },
   {
    "duration": 9,
    "start_time": "2022-12-19T14:29:36.727Z"
   },
   {
    "duration": 3,
    "start_time": "2022-12-19T14:30:05.695Z"
   },
   {
    "duration": 1054,
    "start_time": "2022-12-19T14:30:10.980Z"
   },
   {
    "duration": 3,
    "start_time": "2022-12-19T14:30:12.035Z"
   },
   {
    "duration": 61,
    "start_time": "2022-12-19T14:30:12.040Z"
   },
   {
    "duration": 14,
    "start_time": "2022-12-19T14:30:12.103Z"
   },
   {
    "duration": 17,
    "start_time": "2022-12-19T14:30:12.119Z"
   },
   {
    "duration": 600,
    "start_time": "2022-12-19T14:30:12.138Z"
   },
   {
    "duration": 3,
    "start_time": "2022-12-19T14:30:12.740Z"
   },
   {
    "duration": 6,
    "start_time": "2022-12-19T14:30:12.744Z"
   },
   {
    "duration": 12,
    "start_time": "2022-12-19T14:30:12.751Z"
   },
   {
    "duration": 64,
    "start_time": "2022-12-19T14:30:12.765Z"
   },
   {
    "duration": 9,
    "start_time": "2022-12-19T14:30:12.830Z"
   },
   {
    "duration": 3,
    "start_time": "2022-12-19T14:30:12.841Z"
   },
   {
    "duration": 6,
    "start_time": "2022-12-19T14:30:12.846Z"
   },
   {
    "duration": 6,
    "start_time": "2022-12-19T14:30:12.853Z"
   },
   {
    "duration": 6,
    "start_time": "2022-12-19T14:30:12.860Z"
   },
   {
    "duration": 8,
    "start_time": "2022-12-19T14:30:12.867Z"
   },
   {
    "duration": 2,
    "start_time": "2022-12-19T14:30:12.876Z"
   },
   {
    "duration": 6,
    "start_time": "2022-12-19T14:30:12.880Z"
   },
   {
    "duration": 5,
    "start_time": "2022-12-19T14:30:12.916Z"
   },
   {
    "duration": 11,
    "start_time": "2022-12-19T14:30:12.922Z"
   },
   {
    "duration": 8,
    "start_time": "2022-12-19T14:30:12.935Z"
   },
   {
    "duration": 6,
    "start_time": "2022-12-19T14:30:12.944Z"
   },
   {
    "duration": 104,
    "start_time": "2022-12-19T14:30:12.952Z"
   },
   {
    "duration": 0,
    "start_time": "2022-12-19T14:30:13.059Z"
   },
   {
    "duration": 0,
    "start_time": "2022-12-19T14:30:13.061Z"
   },
   {
    "duration": 0,
    "start_time": "2022-12-19T14:30:13.061Z"
   },
   {
    "duration": 0,
    "start_time": "2022-12-19T14:30:13.062Z"
   },
   {
    "duration": 0,
    "start_time": "2022-12-19T14:30:13.064Z"
   },
   {
    "duration": 0,
    "start_time": "2022-12-19T14:30:13.065Z"
   },
   {
    "duration": 0,
    "start_time": "2022-12-19T14:30:13.066Z"
   },
   {
    "duration": 0,
    "start_time": "2022-12-19T14:30:13.067Z"
   },
   {
    "duration": 0,
    "start_time": "2022-12-19T14:30:13.069Z"
   },
   {
    "duration": 0,
    "start_time": "2022-12-19T14:30:13.070Z"
   },
   {
    "duration": 0,
    "start_time": "2022-12-19T14:30:13.071Z"
   },
   {
    "duration": 0,
    "start_time": "2022-12-19T14:30:13.072Z"
   },
   {
    "duration": 0,
    "start_time": "2022-12-19T14:30:13.073Z"
   },
   {
    "duration": 0,
    "start_time": "2022-12-19T14:30:13.074Z"
   },
   {
    "duration": 1,
    "start_time": "2022-12-19T14:30:13.075Z"
   },
   {
    "duration": 0,
    "start_time": "2022-12-19T14:30:13.076Z"
   },
   {
    "duration": 0,
    "start_time": "2022-12-19T14:30:13.078Z"
   },
   {
    "duration": 0,
    "start_time": "2022-12-19T14:30:13.079Z"
   },
   {
    "duration": 0,
    "start_time": "2022-12-19T14:30:13.116Z"
   },
   {
    "duration": 0,
    "start_time": "2022-12-19T14:30:13.117Z"
   },
   {
    "duration": 0,
    "start_time": "2022-12-19T14:30:13.119Z"
   },
   {
    "duration": 0,
    "start_time": "2022-12-19T14:30:13.120Z"
   },
   {
    "duration": 0,
    "start_time": "2022-12-19T14:30:13.121Z"
   },
   {
    "duration": 0,
    "start_time": "2022-12-19T14:30:13.122Z"
   },
   {
    "duration": 0,
    "start_time": "2022-12-19T14:30:13.123Z"
   },
   {
    "duration": 0,
    "start_time": "2022-12-19T14:30:13.124Z"
   },
   {
    "duration": 0,
    "start_time": "2022-12-19T14:30:13.125Z"
   },
   {
    "duration": 0,
    "start_time": "2022-12-19T14:30:13.126Z"
   },
   {
    "duration": 0,
    "start_time": "2022-12-19T14:30:13.128Z"
   },
   {
    "duration": 0,
    "start_time": "2022-12-19T14:30:13.129Z"
   },
   {
    "duration": 0,
    "start_time": "2022-12-19T14:30:13.130Z"
   },
   {
    "duration": 0,
    "start_time": "2022-12-19T14:30:13.131Z"
   },
   {
    "duration": 0,
    "start_time": "2022-12-19T14:30:13.132Z"
   },
   {
    "duration": 0,
    "start_time": "2022-12-19T14:30:13.133Z"
   },
   {
    "duration": 0,
    "start_time": "2022-12-19T14:30:13.135Z"
   },
   {
    "duration": 0,
    "start_time": "2022-12-19T14:30:13.136Z"
   },
   {
    "duration": 0,
    "start_time": "2022-12-19T14:30:13.137Z"
   },
   {
    "duration": 0,
    "start_time": "2022-12-19T14:30:13.138Z"
   },
   {
    "duration": 0,
    "start_time": "2022-12-19T14:30:13.140Z"
   },
   {
    "duration": 0,
    "start_time": "2022-12-19T14:30:13.141Z"
   },
   {
    "duration": 0,
    "start_time": "2022-12-19T14:30:13.142Z"
   },
   {
    "duration": 1153,
    "start_time": "2022-12-19T14:30:55.311Z"
   },
   {
    "duration": 4,
    "start_time": "2022-12-19T14:30:56.466Z"
   },
   {
    "duration": 67,
    "start_time": "2022-12-19T14:30:56.471Z"
   },
   {
    "duration": 15,
    "start_time": "2022-12-19T14:30:56.540Z"
   },
   {
    "duration": 14,
    "start_time": "2022-12-19T14:30:56.556Z"
   },
   {
    "duration": 628,
    "start_time": "2022-12-19T14:30:56.571Z"
   },
   {
    "duration": 3,
    "start_time": "2022-12-19T14:30:57.201Z"
   },
   {
    "duration": 12,
    "start_time": "2022-12-19T14:30:57.205Z"
   },
   {
    "duration": 12,
    "start_time": "2022-12-19T14:30:57.219Z"
   },
   {
    "duration": 51,
    "start_time": "2022-12-19T14:30:57.233Z"
   },
   {
    "duration": 11,
    "start_time": "2022-12-19T14:30:57.285Z"
   },
   {
    "duration": 4,
    "start_time": "2022-12-19T14:30:57.315Z"
   },
   {
    "duration": 15,
    "start_time": "2022-12-19T14:30:57.320Z"
   },
   {
    "duration": 5,
    "start_time": "2022-12-19T14:30:57.337Z"
   },
   {
    "duration": 6,
    "start_time": "2022-12-19T14:30:57.344Z"
   },
   {
    "duration": 6,
    "start_time": "2022-12-19T14:30:57.352Z"
   },
   {
    "duration": 5,
    "start_time": "2022-12-19T14:30:57.360Z"
   },
   {
    "duration": 10,
    "start_time": "2022-12-19T14:30:57.367Z"
   },
   {
    "duration": 5,
    "start_time": "2022-12-19T14:30:57.378Z"
   },
   {
    "duration": 31,
    "start_time": "2022-12-19T14:30:57.385Z"
   },
   {
    "duration": 2,
    "start_time": "2022-12-19T14:30:57.418Z"
   },
   {
    "duration": 9,
    "start_time": "2022-12-19T14:30:57.422Z"
   },
   {
    "duration": 121,
    "start_time": "2022-12-19T14:30:57.433Z"
   },
   {
    "duration": 0,
    "start_time": "2022-12-19T14:30:57.557Z"
   },
   {
    "duration": 0,
    "start_time": "2022-12-19T14:30:57.557Z"
   },
   {
    "duration": 0,
    "start_time": "2022-12-19T14:30:57.558Z"
   },
   {
    "duration": 0,
    "start_time": "2022-12-19T14:30:57.559Z"
   },
   {
    "duration": 0,
    "start_time": "2022-12-19T14:30:57.561Z"
   },
   {
    "duration": 0,
    "start_time": "2022-12-19T14:30:57.561Z"
   },
   {
    "duration": 0,
    "start_time": "2022-12-19T14:30:57.562Z"
   },
   {
    "duration": 0,
    "start_time": "2022-12-19T14:30:57.566Z"
   },
   {
    "duration": 0,
    "start_time": "2022-12-19T14:30:57.567Z"
   },
   {
    "duration": 0,
    "start_time": "2022-12-19T14:30:57.568Z"
   },
   {
    "duration": 0,
    "start_time": "2022-12-19T14:30:57.568Z"
   },
   {
    "duration": 0,
    "start_time": "2022-12-19T14:30:57.569Z"
   },
   {
    "duration": 0,
    "start_time": "2022-12-19T14:30:57.571Z"
   },
   {
    "duration": 0,
    "start_time": "2022-12-19T14:30:57.572Z"
   },
   {
    "duration": 0,
    "start_time": "2022-12-19T14:30:57.573Z"
   },
   {
    "duration": 0,
    "start_time": "2022-12-19T14:30:57.574Z"
   },
   {
    "duration": 0,
    "start_time": "2022-12-19T14:30:57.574Z"
   },
   {
    "duration": 0,
    "start_time": "2022-12-19T14:30:57.575Z"
   },
   {
    "duration": 0,
    "start_time": "2022-12-19T14:30:57.576Z"
   },
   {
    "duration": 0,
    "start_time": "2022-12-19T14:30:57.577Z"
   },
   {
    "duration": 0,
    "start_time": "2022-12-19T14:30:57.578Z"
   },
   {
    "duration": 0,
    "start_time": "2022-12-19T14:30:57.579Z"
   },
   {
    "duration": 0,
    "start_time": "2022-12-19T14:30:57.616Z"
   },
   {
    "duration": 0,
    "start_time": "2022-12-19T14:30:57.618Z"
   },
   {
    "duration": 0,
    "start_time": "2022-12-19T14:30:57.619Z"
   },
   {
    "duration": 0,
    "start_time": "2022-12-19T14:30:57.621Z"
   },
   {
    "duration": 0,
    "start_time": "2022-12-19T14:30:57.622Z"
   },
   {
    "duration": 0,
    "start_time": "2022-12-19T14:30:57.623Z"
   },
   {
    "duration": 0,
    "start_time": "2022-12-19T14:30:57.624Z"
   },
   {
    "duration": 0,
    "start_time": "2022-12-19T14:30:57.626Z"
   },
   {
    "duration": 0,
    "start_time": "2022-12-19T14:30:57.627Z"
   },
   {
    "duration": 0,
    "start_time": "2022-12-19T14:30:57.628Z"
   },
   {
    "duration": 0,
    "start_time": "2022-12-19T14:30:57.629Z"
   },
   {
    "duration": 0,
    "start_time": "2022-12-19T14:30:57.631Z"
   },
   {
    "duration": 0,
    "start_time": "2022-12-19T14:30:57.632Z"
   },
   {
    "duration": 0,
    "start_time": "2022-12-19T14:30:57.633Z"
   },
   {
    "duration": 0,
    "start_time": "2022-12-19T14:30:57.634Z"
   },
   {
    "duration": 0,
    "start_time": "2022-12-19T14:30:57.635Z"
   },
   {
    "duration": 0,
    "start_time": "2022-12-19T14:30:57.636Z"
   },
   {
    "duration": 0,
    "start_time": "2022-12-19T14:30:57.637Z"
   },
   {
    "duration": 0,
    "start_time": "2022-12-19T14:30:57.638Z"
   },
   {
    "duration": 1113,
    "start_time": "2022-12-19T14:31:12.497Z"
   },
   {
    "duration": 4,
    "start_time": "2022-12-19T14:31:13.612Z"
   },
   {
    "duration": 61,
    "start_time": "2022-12-19T14:31:13.617Z"
   },
   {
    "duration": 14,
    "start_time": "2022-12-19T14:31:13.680Z"
   },
   {
    "duration": 13,
    "start_time": "2022-12-19T14:31:13.695Z"
   },
   {
    "duration": 569,
    "start_time": "2022-12-19T14:31:13.709Z"
   },
   {
    "duration": 3,
    "start_time": "2022-12-19T14:31:14.280Z"
   },
   {
    "duration": 12,
    "start_time": "2022-12-19T14:31:14.285Z"
   },
   {
    "duration": 25,
    "start_time": "2022-12-19T14:31:14.298Z"
   },
   {
    "duration": 57,
    "start_time": "2022-12-19T14:31:14.325Z"
   },
   {
    "duration": 10,
    "start_time": "2022-12-19T14:31:14.383Z"
   },
   {
    "duration": 5,
    "start_time": "2022-12-19T14:31:14.394Z"
   },
   {
    "duration": 20,
    "start_time": "2022-12-19T14:31:14.400Z"
   },
   {
    "duration": 10,
    "start_time": "2022-12-19T14:31:14.421Z"
   },
   {
    "duration": 7,
    "start_time": "2022-12-19T14:31:14.432Z"
   },
   {
    "duration": 11,
    "start_time": "2022-12-19T14:31:14.440Z"
   },
   {
    "duration": 3,
    "start_time": "2022-12-19T14:31:14.453Z"
   },
   {
    "duration": 9,
    "start_time": "2022-12-19T14:31:14.457Z"
   },
   {
    "duration": 9,
    "start_time": "2022-12-19T14:31:14.467Z"
   },
   {
    "duration": 7,
    "start_time": "2022-12-19T14:31:14.478Z"
   },
   {
    "duration": 3,
    "start_time": "2022-12-19T14:31:14.487Z"
   },
   {
    "duration": 6,
    "start_time": "2022-12-19T14:31:14.491Z"
   },
   {
    "duration": 16,
    "start_time": "2022-12-19T14:31:14.499Z"
   },
   {
    "duration": 5,
    "start_time": "2022-12-19T14:31:14.516Z"
   },
   {
    "duration": 12,
    "start_time": "2022-12-19T14:31:14.523Z"
   },
   {
    "duration": 13,
    "start_time": "2022-12-19T14:31:14.537Z"
   },
   {
    "duration": 16,
    "start_time": "2022-12-19T14:31:14.551Z"
   },
   {
    "duration": 165,
    "start_time": "2022-12-19T14:31:14.571Z"
   },
   {
    "duration": 3,
    "start_time": "2022-12-19T14:31:14.738Z"
   },
   {
    "duration": 4,
    "start_time": "2022-12-19T14:31:14.743Z"
   },
   {
    "duration": 261,
    "start_time": "2022-12-19T14:31:14.748Z"
   },
   {
    "duration": 3,
    "start_time": "2022-12-19T14:31:15.015Z"
   },
   {
    "duration": 6,
    "start_time": "2022-12-19T14:31:15.019Z"
   },
   {
    "duration": 1151,
    "start_time": "2022-12-19T14:31:15.026Z"
   },
   {
    "duration": 538,
    "start_time": "2022-12-19T14:31:16.179Z"
   },
   {
    "duration": 3,
    "start_time": "2022-12-19T14:31:16.719Z"
   },
   {
    "duration": 22,
    "start_time": "2022-12-19T14:31:16.724Z"
   },
   {
    "duration": 288,
    "start_time": "2022-12-19T14:31:16.749Z"
   },
   {
    "duration": 4,
    "start_time": "2022-12-19T14:31:17.039Z"
   },
   {
    "duration": 170,
    "start_time": "2022-12-19T14:31:17.045Z"
   },
   {
    "duration": 2,
    "start_time": "2022-12-19T14:31:17.218Z"
   },
   {
    "duration": 156,
    "start_time": "2022-12-19T14:31:17.221Z"
   },
   {
    "duration": 2,
    "start_time": "2022-12-19T14:31:17.379Z"
   },
   {
    "duration": 830,
    "start_time": "2022-12-19T14:31:17.383Z"
   },
   {
    "duration": 1199,
    "start_time": "2022-12-19T14:31:18.215Z"
   },
   {
    "duration": 0,
    "start_time": "2022-12-19T14:31:19.416Z"
   },
   {
    "duration": 0,
    "start_time": "2022-12-19T14:31:19.417Z"
   },
   {
    "duration": 0,
    "start_time": "2022-12-19T14:31:19.418Z"
   },
   {
    "duration": 0,
    "start_time": "2022-12-19T14:31:19.419Z"
   },
   {
    "duration": 0,
    "start_time": "2022-12-19T14:31:19.420Z"
   },
   {
    "duration": 1,
    "start_time": "2022-12-19T14:31:19.421Z"
   },
   {
    "duration": 0,
    "start_time": "2022-12-19T14:31:19.423Z"
   },
   {
    "duration": 0,
    "start_time": "2022-12-19T14:31:19.424Z"
   },
   {
    "duration": 0,
    "start_time": "2022-12-19T14:31:19.425Z"
   },
   {
    "duration": 0,
    "start_time": "2022-12-19T14:31:19.426Z"
   },
   {
    "duration": 0,
    "start_time": "2022-12-19T14:31:19.427Z"
   },
   {
    "duration": 0,
    "start_time": "2022-12-19T14:31:19.428Z"
   },
   {
    "duration": 0,
    "start_time": "2022-12-19T14:31:19.429Z"
   },
   {
    "duration": 0,
    "start_time": "2022-12-19T14:31:19.430Z"
   },
   {
    "duration": 0,
    "start_time": "2022-12-19T14:31:19.431Z"
   },
   {
    "duration": 0,
    "start_time": "2022-12-19T14:31:19.432Z"
   },
   {
    "duration": 0,
    "start_time": "2022-12-19T14:31:19.433Z"
   },
   {
    "duration": 0,
    "start_time": "2022-12-19T14:31:19.435Z"
   },
   {
    "duration": 0,
    "start_time": "2022-12-19T14:31:19.435Z"
   },
   {
    "duration": 1038,
    "start_time": "2022-12-19T14:32:33.467Z"
   },
   {
    "duration": 3,
    "start_time": "2022-12-19T14:32:34.507Z"
   },
   {
    "duration": 55,
    "start_time": "2022-12-19T14:32:34.511Z"
   },
   {
    "duration": 13,
    "start_time": "2022-12-19T14:32:34.568Z"
   },
   {
    "duration": 14,
    "start_time": "2022-12-19T14:32:34.583Z"
   },
   {
    "duration": 532,
    "start_time": "2022-12-19T14:32:34.598Z"
   },
   {
    "duration": 4,
    "start_time": "2022-12-19T14:32:35.131Z"
   },
   {
    "duration": 13,
    "start_time": "2022-12-19T14:32:35.136Z"
   },
   {
    "duration": 11,
    "start_time": "2022-12-19T14:32:35.151Z"
   },
   {
    "duration": 52,
    "start_time": "2022-12-19T14:32:35.164Z"
   },
   {
    "duration": 10,
    "start_time": "2022-12-19T14:32:35.217Z"
   },
   {
    "duration": 6,
    "start_time": "2022-12-19T14:32:35.229Z"
   },
   {
    "duration": 7,
    "start_time": "2022-12-19T14:32:35.236Z"
   },
   {
    "duration": 9,
    "start_time": "2022-12-19T14:32:35.244Z"
   },
   {
    "duration": 5,
    "start_time": "2022-12-19T14:32:35.255Z"
   },
   {
    "duration": 7,
    "start_time": "2022-12-19T14:32:35.262Z"
   },
   {
    "duration": 4,
    "start_time": "2022-12-19T14:32:35.270Z"
   },
   {
    "duration": 10,
    "start_time": "2022-12-19T14:32:35.275Z"
   },
   {
    "duration": 11,
    "start_time": "2022-12-19T14:32:35.287Z"
   },
   {
    "duration": 17,
    "start_time": "2022-12-19T14:32:35.299Z"
   },
   {
    "duration": 5,
    "start_time": "2022-12-19T14:32:35.317Z"
   },
   {
    "duration": 6,
    "start_time": "2022-12-19T14:32:35.323Z"
   },
   {
    "duration": 21,
    "start_time": "2022-12-19T14:32:35.331Z"
   },
   {
    "duration": 8,
    "start_time": "2022-12-19T14:32:35.353Z"
   },
   {
    "duration": 18,
    "start_time": "2022-12-19T14:32:35.362Z"
   },
   {
    "duration": 15,
    "start_time": "2022-12-19T14:32:35.381Z"
   },
   {
    "duration": 14,
    "start_time": "2022-12-19T14:32:35.397Z"
   },
   {
    "duration": 132,
    "start_time": "2022-12-19T14:32:35.415Z"
   },
   {
    "duration": 2,
    "start_time": "2022-12-19T14:32:35.548Z"
   },
   {
    "duration": 14,
    "start_time": "2022-12-19T14:32:35.552Z"
   },
   {
    "duration": 248,
    "start_time": "2022-12-19T14:32:35.568Z"
   },
   {
    "duration": 3,
    "start_time": "2022-12-19T14:32:35.817Z"
   },
   {
    "duration": 19,
    "start_time": "2022-12-19T14:32:35.822Z"
   },
   {
    "duration": 1118,
    "start_time": "2022-12-19T14:32:35.843Z"
   },
   {
    "duration": 471,
    "start_time": "2022-12-19T14:32:36.963Z"
   },
   {
    "duration": 2,
    "start_time": "2022-12-19T14:32:37.436Z"
   },
   {
    "duration": 35,
    "start_time": "2022-12-19T14:32:37.440Z"
   },
   {
    "duration": 282,
    "start_time": "2022-12-19T14:32:37.477Z"
   },
   {
    "duration": 2,
    "start_time": "2022-12-19T14:32:37.760Z"
   },
   {
    "duration": 160,
    "start_time": "2022-12-19T14:32:37.764Z"
   },
   {
    "duration": 2,
    "start_time": "2022-12-19T14:32:37.925Z"
   },
   {
    "duration": 170,
    "start_time": "2022-12-19T14:32:37.929Z"
   },
   {
    "duration": 2,
    "start_time": "2022-12-19T14:32:38.101Z"
   },
   {
    "duration": 262,
    "start_time": "2022-12-19T14:32:38.105Z"
   },
   {
    "duration": 257,
    "start_time": "2022-12-19T14:32:38.369Z"
   },
   {
    "duration": 248,
    "start_time": "2022-12-19T14:32:38.627Z"
   },
   {
    "duration": 307,
    "start_time": "2022-12-19T14:32:38.877Z"
   },
   {
    "duration": 3,
    "start_time": "2022-12-19T14:32:39.185Z"
   },
   {
    "duration": 11,
    "start_time": "2022-12-19T14:32:39.189Z"
   },
   {
    "duration": 20,
    "start_time": "2022-12-19T14:32:39.201Z"
   },
   {
    "duration": 14,
    "start_time": "2022-12-19T14:32:39.223Z"
   },
   {
    "duration": 8,
    "start_time": "2022-12-19T14:32:39.238Z"
   },
   {
    "duration": 9,
    "start_time": "2022-12-19T14:32:39.247Z"
   },
   {
    "duration": 8,
    "start_time": "2022-12-19T14:32:39.257Z"
   },
   {
    "duration": 7,
    "start_time": "2022-12-19T14:32:39.266Z"
   },
   {
    "duration": 7,
    "start_time": "2022-12-19T14:32:39.275Z"
   },
   {
    "duration": 37,
    "start_time": "2022-12-19T14:32:39.284Z"
   },
   {
    "duration": 8,
    "start_time": "2022-12-19T14:32:39.322Z"
   },
   {
    "duration": 5,
    "start_time": "2022-12-19T14:32:39.332Z"
   },
   {
    "duration": 14,
    "start_time": "2022-12-19T14:32:39.338Z"
   },
   {
    "duration": 14,
    "start_time": "2022-12-19T14:32:39.353Z"
   },
   {
    "duration": 329,
    "start_time": "2022-12-19T14:32:39.369Z"
   },
   {
    "duration": 21,
    "start_time": "2022-12-19T14:32:39.699Z"
   },
   {
    "duration": 11,
    "start_time": "2022-12-19T14:32:39.721Z"
   },
   {
    "duration": 1231,
    "start_time": "2022-12-19T14:34:05.216Z"
   },
   {
    "duration": 4,
    "start_time": "2022-12-19T14:34:06.449Z"
   },
   {
    "duration": 97,
    "start_time": "2022-12-19T14:34:06.455Z"
   },
   {
    "duration": 17,
    "start_time": "2022-12-19T14:34:06.554Z"
   },
   {
    "duration": 29,
    "start_time": "2022-12-19T14:34:06.573Z"
   },
   {
    "duration": 597,
    "start_time": "2022-12-19T14:34:06.604Z"
   },
   {
    "duration": 4,
    "start_time": "2022-12-19T14:34:07.203Z"
   },
   {
    "duration": 17,
    "start_time": "2022-12-19T14:34:07.208Z"
   },
   {
    "duration": 15,
    "start_time": "2022-12-19T14:34:07.227Z"
   },
   {
    "duration": 52,
    "start_time": "2022-12-19T14:34:07.244Z"
   },
   {
    "duration": 10,
    "start_time": "2022-12-19T14:34:07.297Z"
   },
   {
    "duration": 8,
    "start_time": "2022-12-19T14:34:07.308Z"
   },
   {
    "duration": 12,
    "start_time": "2022-12-19T14:34:07.318Z"
   },
   {
    "duration": 11,
    "start_time": "2022-12-19T14:34:07.334Z"
   },
   {
    "duration": 7,
    "start_time": "2022-12-19T14:34:07.347Z"
   },
   {
    "duration": 11,
    "start_time": "2022-12-19T14:34:07.355Z"
   },
   {
    "duration": 7,
    "start_time": "2022-12-19T14:34:07.367Z"
   },
   {
    "duration": 7,
    "start_time": "2022-12-19T14:34:07.376Z"
   },
   {
    "duration": 9,
    "start_time": "2022-12-19T14:34:07.385Z"
   },
   {
    "duration": 36,
    "start_time": "2022-12-19T14:34:07.396Z"
   },
   {
    "duration": 17,
    "start_time": "2022-12-19T14:34:07.434Z"
   },
   {
    "duration": 13,
    "start_time": "2022-12-19T14:34:07.452Z"
   },
   {
    "duration": 8,
    "start_time": "2022-12-19T14:34:07.466Z"
   },
   {
    "duration": 11,
    "start_time": "2022-12-19T14:34:07.475Z"
   },
   {
    "duration": 11,
    "start_time": "2022-12-19T14:34:07.487Z"
   },
   {
    "duration": 14,
    "start_time": "2022-12-19T14:34:07.500Z"
   },
   {
    "duration": 147,
    "start_time": "2022-12-19T14:34:07.516Z"
   },
   {
    "duration": 3,
    "start_time": "2022-12-19T14:34:07.665Z"
   },
   {
    "duration": 6,
    "start_time": "2022-12-19T14:34:07.669Z"
   },
   {
    "duration": 267,
    "start_time": "2022-12-19T14:34:07.676Z"
   },
   {
    "duration": 3,
    "start_time": "2022-12-19T14:34:07.944Z"
   },
   {
    "duration": 5,
    "start_time": "2022-12-19T14:34:07.949Z"
   },
   {
    "duration": 1093,
    "start_time": "2022-12-19T14:34:07.955Z"
   },
   {
    "duration": 463,
    "start_time": "2022-12-19T14:34:09.050Z"
   },
   {
    "duration": 3,
    "start_time": "2022-12-19T14:34:09.515Z"
   },
   {
    "duration": 15,
    "start_time": "2022-12-19T14:34:09.520Z"
   },
   {
    "duration": 282,
    "start_time": "2022-12-19T14:34:09.537Z"
   },
   {
    "duration": 3,
    "start_time": "2022-12-19T14:34:09.820Z"
   },
   {
    "duration": 167,
    "start_time": "2022-12-19T14:34:09.824Z"
   },
   {
    "duration": 3,
    "start_time": "2022-12-19T14:34:09.992Z"
   },
   {
    "duration": 161,
    "start_time": "2022-12-19T14:34:09.999Z"
   },
   {
    "duration": 3,
    "start_time": "2022-12-19T14:34:10.161Z"
   },
   {
    "duration": 265,
    "start_time": "2022-12-19T14:34:10.165Z"
   },
   {
    "duration": 260,
    "start_time": "2022-12-19T14:34:10.432Z"
   },
   {
    "duration": 256,
    "start_time": "2022-12-19T14:34:10.694Z"
   },
   {
    "duration": 5,
    "start_time": "2022-12-19T14:34:10.952Z"
   },
   {
    "duration": 360,
    "start_time": "2022-12-19T14:34:10.959Z"
   },
   {
    "duration": 3,
    "start_time": "2022-12-19T14:34:11.320Z"
   },
   {
    "duration": 25,
    "start_time": "2022-12-19T14:34:11.324Z"
   },
   {
    "duration": 11,
    "start_time": "2022-12-19T14:34:11.350Z"
   },
   {
    "duration": 13,
    "start_time": "2022-12-19T14:34:11.362Z"
   },
   {
    "duration": 9,
    "start_time": "2022-12-19T14:34:11.376Z"
   },
   {
    "duration": 17,
    "start_time": "2022-12-19T14:34:11.387Z"
   },
   {
    "duration": 30,
    "start_time": "2022-12-19T14:34:11.406Z"
   },
   {
    "duration": 13,
    "start_time": "2022-12-19T14:34:11.442Z"
   },
   {
    "duration": 19,
    "start_time": "2022-12-19T14:34:11.457Z"
   },
   {
    "duration": 9,
    "start_time": "2022-12-19T14:34:11.477Z"
   },
   {
    "duration": 10,
    "start_time": "2022-12-19T14:34:11.487Z"
   },
   {
    "duration": 8,
    "start_time": "2022-12-19T14:34:11.498Z"
   },
   {
    "duration": 9,
    "start_time": "2022-12-19T14:34:11.507Z"
   },
   {
    "duration": 10,
    "start_time": "2022-12-19T14:34:11.517Z"
   },
   {
    "duration": 349,
    "start_time": "2022-12-19T14:34:11.529Z"
   },
   {
    "duration": 11,
    "start_time": "2022-12-19T14:34:11.880Z"
   },
   {
    "duration": 29,
    "start_time": "2022-12-19T14:34:11.892Z"
   },
   {
    "duration": 1077,
    "start_time": "2022-12-19T14:35:56.947Z"
   },
   {
    "duration": 4,
    "start_time": "2022-12-19T14:35:58.026Z"
   },
   {
    "duration": 63,
    "start_time": "2022-12-19T14:35:58.032Z"
   },
   {
    "duration": 14,
    "start_time": "2022-12-19T14:35:58.097Z"
   },
   {
    "duration": 15,
    "start_time": "2022-12-19T14:35:58.112Z"
   },
   {
    "duration": 611,
    "start_time": "2022-12-19T14:35:58.128Z"
   },
   {
    "duration": 4,
    "start_time": "2022-12-19T14:35:58.740Z"
   },
   {
    "duration": 8,
    "start_time": "2022-12-19T14:35:58.745Z"
   },
   {
    "duration": 12,
    "start_time": "2022-12-19T14:35:58.755Z"
   },
   {
    "duration": 62,
    "start_time": "2022-12-19T14:35:58.770Z"
   },
   {
    "duration": 10,
    "start_time": "2022-12-19T14:35:58.834Z"
   },
   {
    "duration": 4,
    "start_time": "2022-12-19T14:35:58.845Z"
   },
   {
    "duration": 7,
    "start_time": "2022-12-19T14:35:58.851Z"
   },
   {
    "duration": 10,
    "start_time": "2022-12-19T14:35:58.859Z"
   },
   {
    "duration": 7,
    "start_time": "2022-12-19T14:35:58.870Z"
   },
   {
    "duration": 6,
    "start_time": "2022-12-19T14:35:58.879Z"
   },
   {
    "duration": 28,
    "start_time": "2022-12-19T14:35:58.887Z"
   },
   {
    "duration": 5,
    "start_time": "2022-12-19T14:35:58.917Z"
   },
   {
    "duration": 8,
    "start_time": "2022-12-19T14:35:58.924Z"
   },
   {
    "duration": 16,
    "start_time": "2022-12-19T14:35:58.934Z"
   },
   {
    "duration": 9,
    "start_time": "2022-12-19T14:35:58.952Z"
   },
   {
    "duration": 9,
    "start_time": "2022-12-19T14:35:58.963Z"
   },
   {
    "duration": 15,
    "start_time": "2022-12-19T14:35:58.973Z"
   },
   {
    "duration": 9,
    "start_time": "2022-12-19T14:35:58.990Z"
   },
   {
    "duration": 22,
    "start_time": "2022-12-19T14:35:59.001Z"
   },
   {
    "duration": 27,
    "start_time": "2022-12-19T14:35:59.025Z"
   },
   {
    "duration": 153,
    "start_time": "2022-12-19T14:35:59.054Z"
   },
   {
    "duration": 3,
    "start_time": "2022-12-19T14:35:59.215Z"
   },
   {
    "duration": 6,
    "start_time": "2022-12-19T14:35:59.219Z"
   },
   {
    "duration": 282,
    "start_time": "2022-12-19T14:35:59.226Z"
   },
   {
    "duration": 2,
    "start_time": "2022-12-19T14:35:59.515Z"
   },
   {
    "duration": 9,
    "start_time": "2022-12-19T14:35:59.519Z"
   },
   {
    "duration": 1191,
    "start_time": "2022-12-19T14:35:59.529Z"
   },
   {
    "duration": 510,
    "start_time": "2022-12-19T14:36:00.722Z"
   },
   {
    "duration": 3,
    "start_time": "2022-12-19T14:36:01.234Z"
   },
   {
    "duration": 45,
    "start_time": "2022-12-19T14:36:01.238Z"
   },
   {
    "duration": 320,
    "start_time": "2022-12-19T14:36:01.285Z"
   },
   {
    "duration": 9,
    "start_time": "2022-12-19T14:36:01.607Z"
   },
   {
    "duration": 171,
    "start_time": "2022-12-19T14:36:01.618Z"
   },
   {
    "duration": 2,
    "start_time": "2022-12-19T14:36:01.791Z"
   },
   {
    "duration": 166,
    "start_time": "2022-12-19T14:36:01.794Z"
   },
   {
    "duration": 3,
    "start_time": "2022-12-19T14:36:01.961Z"
   },
   {
    "duration": 309,
    "start_time": "2022-12-19T14:36:01.965Z"
   },
   {
    "duration": 288,
    "start_time": "2022-12-19T14:36:02.276Z"
   },
   {
    "duration": 262,
    "start_time": "2022-12-19T14:36:02.565Z"
   },
   {
    "duration": 4,
    "start_time": "2022-12-19T14:36:02.829Z"
   },
   {
    "duration": 360,
    "start_time": "2022-12-19T14:36:02.834Z"
   },
   {
    "duration": 3,
    "start_time": "2022-12-19T14:36:03.195Z"
   },
   {
    "duration": 22,
    "start_time": "2022-12-19T14:36:03.199Z"
   },
   {
    "duration": 9,
    "start_time": "2022-12-19T14:36:03.223Z"
   },
   {
    "duration": 12,
    "start_time": "2022-12-19T14:36:03.234Z"
   },
   {
    "duration": 9,
    "start_time": "2022-12-19T14:36:03.247Z"
   },
   {
    "duration": 24,
    "start_time": "2022-12-19T14:36:03.258Z"
   },
   {
    "duration": 9,
    "start_time": "2022-12-19T14:36:03.283Z"
   },
   {
    "duration": 29,
    "start_time": "2022-12-19T14:36:03.293Z"
   },
   {
    "duration": 10,
    "start_time": "2022-12-19T14:36:03.323Z"
   },
   {
    "duration": 9,
    "start_time": "2022-12-19T14:36:03.334Z"
   },
   {
    "duration": 9,
    "start_time": "2022-12-19T14:36:03.345Z"
   },
   {
    "duration": 9,
    "start_time": "2022-12-19T14:36:03.355Z"
   },
   {
    "duration": 10,
    "start_time": "2022-12-19T14:36:03.366Z"
   },
   {
    "duration": 40,
    "start_time": "2022-12-19T14:36:03.377Z"
   },
   {
    "duration": 361,
    "start_time": "2022-12-19T14:36:03.418Z"
   },
   {
    "duration": 10,
    "start_time": "2022-12-19T14:36:03.780Z"
   },
   {
    "duration": 25,
    "start_time": "2022-12-19T14:36:03.791Z"
   },
   {
    "duration": 1077,
    "start_time": "2022-12-19T14:37:38.428Z"
   },
   {
    "duration": 3,
    "start_time": "2022-12-19T14:37:39.507Z"
   },
   {
    "duration": 70,
    "start_time": "2022-12-19T14:37:39.511Z"
   },
   {
    "duration": 13,
    "start_time": "2022-12-19T14:37:39.583Z"
   },
   {
    "duration": 13,
    "start_time": "2022-12-19T14:37:39.597Z"
   },
   {
    "duration": 583,
    "start_time": "2022-12-19T14:37:39.611Z"
   },
   {
    "duration": 4,
    "start_time": "2022-12-19T14:37:40.195Z"
   },
   {
    "duration": 8,
    "start_time": "2022-12-19T14:37:40.200Z"
   },
   {
    "duration": 16,
    "start_time": "2022-12-19T14:37:40.215Z"
   },
   {
    "duration": 50,
    "start_time": "2022-12-19T14:37:40.233Z"
   },
   {
    "duration": 10,
    "start_time": "2022-12-19T14:37:40.284Z"
   },
   {
    "duration": 4,
    "start_time": "2022-12-19T14:37:40.296Z"
   },
   {
    "duration": 7,
    "start_time": "2022-12-19T14:37:40.316Z"
   },
   {
    "duration": 13,
    "start_time": "2022-12-19T14:37:40.325Z"
   },
   {
    "duration": 7,
    "start_time": "2022-12-19T14:37:40.339Z"
   },
   {
    "duration": 9,
    "start_time": "2022-12-19T14:37:40.348Z"
   },
   {
    "duration": 6,
    "start_time": "2022-12-19T14:37:40.358Z"
   },
   {
    "duration": 9,
    "start_time": "2022-12-19T14:37:40.365Z"
   },
   {
    "duration": 6,
    "start_time": "2022-12-19T14:37:40.375Z"
   },
   {
    "duration": 10,
    "start_time": "2022-12-19T14:37:40.383Z"
   },
   {
    "duration": 4,
    "start_time": "2022-12-19T14:37:40.394Z"
   },
   {
    "duration": 20,
    "start_time": "2022-12-19T14:37:40.399Z"
   },
   {
    "duration": 7,
    "start_time": "2022-12-19T14:37:40.421Z"
   },
   {
    "duration": 9,
    "start_time": "2022-12-19T14:37:40.430Z"
   },
   {
    "duration": 13,
    "start_time": "2022-12-19T14:37:40.440Z"
   },
   {
    "duration": 19,
    "start_time": "2022-12-19T14:37:40.454Z"
   },
   {
    "duration": 14,
    "start_time": "2022-12-19T14:37:40.474Z"
   },
   {
    "duration": 165,
    "start_time": "2022-12-19T14:37:40.493Z"
   },
   {
    "duration": 2,
    "start_time": "2022-12-19T14:37:40.659Z"
   },
   {
    "duration": 7,
    "start_time": "2022-12-19T14:37:40.662Z"
   },
   {
    "duration": 274,
    "start_time": "2022-12-19T14:37:40.671Z"
   },
   {
    "duration": 3,
    "start_time": "2022-12-19T14:37:40.947Z"
   },
   {
    "duration": 18,
    "start_time": "2022-12-19T14:37:40.952Z"
   },
   {
    "duration": 1114,
    "start_time": "2022-12-19T14:37:40.971Z"
   },
   {
    "duration": 520,
    "start_time": "2022-12-19T14:37:42.087Z"
   },
   {
    "duration": 6,
    "start_time": "2022-12-19T14:37:42.609Z"
   },
   {
    "duration": 17,
    "start_time": "2022-12-19T14:37:42.617Z"
   },
   {
    "duration": 315,
    "start_time": "2022-12-19T14:37:42.635Z"
   },
   {
    "duration": 2,
    "start_time": "2022-12-19T14:37:42.952Z"
   },
   {
    "duration": 173,
    "start_time": "2022-12-19T14:37:42.956Z"
   },
   {
    "duration": 2,
    "start_time": "2022-12-19T14:37:43.131Z"
   },
   {
    "duration": 166,
    "start_time": "2022-12-19T14:37:43.134Z"
   },
   {
    "duration": 3,
    "start_time": "2022-12-19T14:37:43.302Z"
   },
   {
    "duration": 363,
    "start_time": "2022-12-19T14:37:43.306Z"
   },
   {
    "duration": 351,
    "start_time": "2022-12-19T14:37:43.670Z"
   },
   {
    "duration": 301,
    "start_time": "2022-12-19T14:37:44.023Z"
   },
   {
    "duration": 345,
    "start_time": "2022-12-19T14:37:44.325Z"
   },
   {
    "duration": 3,
    "start_time": "2022-12-19T14:37:44.671Z"
   },
   {
    "duration": 14,
    "start_time": "2022-12-19T14:37:44.675Z"
   },
   {
    "duration": 32,
    "start_time": "2022-12-19T14:37:44.691Z"
   },
   {
    "duration": 22,
    "start_time": "2022-12-19T14:37:44.725Z"
   },
   {
    "duration": 17,
    "start_time": "2022-12-19T14:37:44.748Z"
   },
   {
    "duration": 10,
    "start_time": "2022-12-19T14:37:44.767Z"
   },
   {
    "duration": 8,
    "start_time": "2022-12-19T14:37:44.778Z"
   },
   {
    "duration": 10,
    "start_time": "2022-12-19T14:37:44.788Z"
   },
   {
    "duration": 22,
    "start_time": "2022-12-19T14:37:44.799Z"
   },
   {
    "duration": 14,
    "start_time": "2022-12-19T14:37:44.823Z"
   },
   {
    "duration": 12,
    "start_time": "2022-12-19T14:37:44.840Z"
   },
   {
    "duration": 7,
    "start_time": "2022-12-19T14:37:44.854Z"
   },
   {
    "duration": 10,
    "start_time": "2022-12-19T14:37:44.863Z"
   },
   {
    "duration": 9,
    "start_time": "2022-12-19T14:37:44.874Z"
   },
   {
    "duration": 384,
    "start_time": "2022-12-19T14:37:44.916Z"
   },
   {
    "duration": 21,
    "start_time": "2022-12-19T14:37:45.302Z"
   },
   {
    "duration": 17,
    "start_time": "2022-12-19T14:37:45.324Z"
   },
   {
    "duration": 1447,
    "start_time": "2022-12-19T16:50:15.991Z"
   },
   {
    "duration": 3,
    "start_time": "2022-12-19T16:50:17.440Z"
   },
   {
    "duration": 99,
    "start_time": "2022-12-19T16:50:17.445Z"
   },
   {
    "duration": 17,
    "start_time": "2022-12-19T16:50:17.547Z"
   },
   {
    "duration": 16,
    "start_time": "2022-12-19T16:50:17.566Z"
   },
   {
    "duration": 890,
    "start_time": "2022-12-19T16:50:17.584Z"
   },
   {
    "duration": 5,
    "start_time": "2022-12-19T16:50:18.475Z"
   },
   {
    "duration": 4,
    "start_time": "2022-12-19T16:50:18.481Z"
   },
   {
    "duration": 16,
    "start_time": "2022-12-19T16:50:18.497Z"
   },
   {
    "duration": 53,
    "start_time": "2022-12-19T16:50:18.518Z"
   },
   {
    "duration": 29,
    "start_time": "2022-12-19T16:50:18.573Z"
   },
   {
    "duration": 6,
    "start_time": "2022-12-19T16:50:18.604Z"
   },
   {
    "duration": 14,
    "start_time": "2022-12-19T16:50:18.613Z"
   },
   {
    "duration": 8,
    "start_time": "2022-12-19T16:50:18.629Z"
   },
   {
    "duration": 13,
    "start_time": "2022-12-19T16:50:18.639Z"
   },
   {
    "duration": 9,
    "start_time": "2022-12-19T16:50:18.654Z"
   },
   {
    "duration": 5,
    "start_time": "2022-12-19T16:50:18.665Z"
   },
   {
    "duration": 8,
    "start_time": "2022-12-19T16:50:18.672Z"
   },
   {
    "duration": 15,
    "start_time": "2022-12-19T16:50:18.682Z"
   },
   {
    "duration": 8,
    "start_time": "2022-12-19T16:50:18.699Z"
   },
   {
    "duration": 12,
    "start_time": "2022-12-19T16:50:18.710Z"
   },
   {
    "duration": 5,
    "start_time": "2022-12-19T16:50:23.848Z"
   },
   {
    "duration": 5,
    "start_time": "2022-12-19T16:50:25.446Z"
   },
   {
    "duration": 5,
    "start_time": "2022-12-19T16:50:28.931Z"
   },
   {
    "duration": 9,
    "start_time": "2022-12-19T16:50:32.213Z"
   },
   {
    "duration": 12,
    "start_time": "2022-12-19T16:50:34.748Z"
   },
   {
    "duration": 14,
    "start_time": "2022-12-19T16:50:40.716Z"
   },
   {
    "duration": 152,
    "start_time": "2022-12-19T16:50:44.029Z"
   },
   {
    "duration": 264,
    "start_time": "2022-12-19T16:50:47.940Z"
   },
   {
    "duration": 1268,
    "start_time": "2022-12-19T16:50:54.773Z"
   },
   {
    "duration": 556,
    "start_time": "2022-12-19T16:50:58.021Z"
   },
   {
    "duration": 14,
    "start_time": "2022-12-19T16:51:05.254Z"
   },
   {
    "duration": 323,
    "start_time": "2022-12-19T16:51:10.452Z"
   },
   {
    "duration": 181,
    "start_time": "2022-12-19T16:51:13.349Z"
   },
   {
    "duration": 175,
    "start_time": "2022-12-19T16:51:27.662Z"
   },
   {
    "duration": 322,
    "start_time": "2022-12-19T16:52:05.751Z"
   },
   {
    "duration": 6,
    "start_time": "2022-12-19T16:54:15.466Z"
   },
   {
    "duration": 305,
    "start_time": "2022-12-19T16:56:42.973Z"
   },
   {
    "duration": 287,
    "start_time": "2022-12-19T16:56:54.756Z"
   },
   {
    "duration": 389,
    "start_time": "2022-12-19T16:57:02.661Z"
   },
   {
    "duration": 51,
    "start_time": "2022-12-19T16:57:38.012Z"
   },
   {
    "duration": 54,
    "start_time": "2022-12-19T17:59:18.548Z"
   },
   {
    "duration": 1392,
    "start_time": "2022-12-19T17:59:23.651Z"
   },
   {
    "duration": 3,
    "start_time": "2022-12-19T17:59:25.045Z"
   },
   {
    "duration": 99,
    "start_time": "2022-12-19T17:59:25.050Z"
   },
   {
    "duration": 17,
    "start_time": "2022-12-19T17:59:25.151Z"
   },
   {
    "duration": 14,
    "start_time": "2022-12-19T17:59:25.170Z"
   },
   {
    "duration": 644,
    "start_time": "2022-12-19T17:59:25.186Z"
   },
   {
    "duration": 4,
    "start_time": "2022-12-19T17:59:25.832Z"
   },
   {
    "duration": 7,
    "start_time": "2022-12-19T17:59:25.837Z"
   },
   {
    "duration": 12,
    "start_time": "2022-12-19T17:59:25.846Z"
   },
   {
    "duration": 75,
    "start_time": "2022-12-19T17:59:25.861Z"
   },
   {
    "duration": 11,
    "start_time": "2022-12-19T17:59:25.938Z"
   },
   {
    "duration": 7,
    "start_time": "2022-12-19T17:59:25.950Z"
   },
   {
    "duration": 9,
    "start_time": "2022-12-19T17:59:25.959Z"
   },
   {
    "duration": 9,
    "start_time": "2022-12-19T17:59:25.969Z"
   },
   {
    "duration": 10,
    "start_time": "2022-12-19T17:59:25.980Z"
   },
   {
    "duration": 6,
    "start_time": "2022-12-19T17:59:26.012Z"
   },
   {
    "duration": 6,
    "start_time": "2022-12-19T17:59:26.020Z"
   },
   {
    "duration": 10,
    "start_time": "2022-12-19T17:59:26.028Z"
   },
   {
    "duration": 18,
    "start_time": "2022-12-19T17:59:26.039Z"
   },
   {
    "duration": 12,
    "start_time": "2022-12-19T17:59:26.059Z"
   },
   {
    "duration": 10,
    "start_time": "2022-12-19T17:59:26.073Z"
   },
   {
    "duration": 9,
    "start_time": "2022-12-19T17:59:26.085Z"
   },
   {
    "duration": 8,
    "start_time": "2022-12-19T17:59:26.096Z"
   },
   {
    "duration": 5,
    "start_time": "2022-12-19T17:59:26.112Z"
   },
   {
    "duration": 8,
    "start_time": "2022-12-19T17:59:26.119Z"
   },
   {
    "duration": 13,
    "start_time": "2022-12-19T17:59:26.128Z"
   },
   {
    "duration": 17,
    "start_time": "2022-12-19T17:59:26.143Z"
   },
   {
    "duration": 191,
    "start_time": "2022-12-19T17:59:26.164Z"
   },
   {
    "duration": 3,
    "start_time": "2022-12-19T17:59:26.357Z"
   },
   {
    "duration": 8,
    "start_time": "2022-12-19T17:59:26.361Z"
   },
   {
    "duration": 297,
    "start_time": "2022-12-19T17:59:26.371Z"
   },
   {
    "duration": 2,
    "start_time": "2022-12-19T17:59:26.670Z"
   },
   {
    "duration": 7,
    "start_time": "2022-12-19T17:59:26.674Z"
   },
   {
    "duration": 1316,
    "start_time": "2022-12-19T17:59:26.683Z"
   },
   {
    "duration": 567,
    "start_time": "2022-12-19T17:59:28.001Z"
   },
   {
    "duration": 2,
    "start_time": "2022-12-19T17:59:28.570Z"
   },
   {
    "duration": 18,
    "start_time": "2022-12-19T17:59:28.574Z"
   },
   {
    "duration": 311,
    "start_time": "2022-12-19T17:59:28.595Z"
   },
   {
    "duration": 4,
    "start_time": "2022-12-19T17:59:28.908Z"
   },
   {
    "duration": 186,
    "start_time": "2022-12-19T17:59:28.914Z"
   },
   {
    "duration": 2,
    "start_time": "2022-12-19T17:59:29.102Z"
   },
   {
    "duration": 185,
    "start_time": "2022-12-19T17:59:29.111Z"
   },
   {
    "duration": 290,
    "start_time": "2022-12-19T17:59:32.722Z"
   },
   {
    "duration": 265,
    "start_time": "2022-12-19T18:01:00.438Z"
   },
   {
    "duration": 323,
    "start_time": "2022-12-19T18:01:18.167Z"
   },
   {
    "duration": 379,
    "start_time": "2022-12-19T18:03:30.974Z"
   },
   {
    "duration": 288,
    "start_time": "2022-12-19T18:03:55.085Z"
   },
   {
    "duration": 277,
    "start_time": "2022-12-19T18:04:01.131Z"
   },
   {
    "duration": 279,
    "start_time": "2022-12-19T18:04:07.287Z"
   },
   {
    "duration": 330,
    "start_time": "2022-12-19T18:04:19.032Z"
   },
   {
    "duration": 305,
    "start_time": "2022-12-19T18:08:54.803Z"
   },
   {
    "duration": 271,
    "start_time": "2022-12-19T18:09:01.534Z"
   },
   {
    "duration": 295,
    "start_time": "2022-12-19T18:09:22.204Z"
   },
   {
    "duration": 304,
    "start_time": "2022-12-19T18:10:15.078Z"
   },
   {
    "duration": 306,
    "start_time": "2022-12-19T18:10:18.956Z"
   },
   {
    "duration": 330,
    "start_time": "2022-12-19T18:10:24.644Z"
   },
   {
    "duration": 12,
    "start_time": "2022-12-19T18:12:36.017Z"
   },
   {
    "duration": 11,
    "start_time": "2022-12-19T18:12:38.007Z"
   },
   {
    "duration": 11,
    "start_time": "2022-12-19T18:12:40.304Z"
   },
   {
    "duration": 11,
    "start_time": "2022-12-19T18:13:06.505Z"
   },
   {
    "duration": 46,
    "start_time": "2022-12-19T18:15:36.262Z"
   },
   {
    "duration": 86,
    "start_time": "2022-12-19T18:20:01.755Z"
   },
   {
    "duration": 14,
    "start_time": "2022-12-19T18:20:06.275Z"
   },
   {
    "duration": 13,
    "start_time": "2022-12-19T18:20:14.971Z"
   },
   {
    "duration": 13,
    "start_time": "2022-12-19T18:20:39.939Z"
   },
   {
    "duration": 8,
    "start_time": "2022-12-19T18:20:50.853Z"
   },
   {
    "duration": 8,
    "start_time": "2022-12-19T18:20:57.476Z"
   },
   {
    "duration": 80,
    "start_time": "2022-12-19T18:26:04.179Z"
   },
   {
    "duration": 11,
    "start_time": "2022-12-19T18:36:16.568Z"
   },
   {
    "duration": 11,
    "start_time": "2022-12-19T18:36:29.439Z"
   },
   {
    "duration": 913,
    "start_time": "2022-12-19T18:36:34.257Z"
   },
   {
    "duration": 10,
    "start_time": "2022-12-19T18:36:37.578Z"
   },
   {
    "duration": 11,
    "start_time": "2022-12-19T18:39:29.341Z"
   },
   {
    "duration": 10,
    "start_time": "2022-12-19T18:39:55.182Z"
   },
   {
    "duration": 10,
    "start_time": "2022-12-19T18:39:57.948Z"
   },
   {
    "duration": 14,
    "start_time": "2022-12-19T18:39:59.524Z"
   },
   {
    "duration": 11,
    "start_time": "2022-12-19T18:40:11.894Z"
   },
   {
    "duration": 11,
    "start_time": "2022-12-19T18:40:15.991Z"
   },
   {
    "duration": 15,
    "start_time": "2022-12-19T18:43:31.021Z"
   },
   {
    "duration": 13,
    "start_time": "2022-12-19T18:43:49.268Z"
   },
   {
    "duration": 9,
    "start_time": "2022-12-19T18:43:51.541Z"
   },
   {
    "duration": 11,
    "start_time": "2022-12-19T18:43:52.640Z"
   },
   {
    "duration": 27,
    "start_time": "2022-12-19T18:47:03.906Z"
   },
   {
    "duration": 9,
    "start_time": "2022-12-19T18:49:07.859Z"
   },
   {
    "duration": 11,
    "start_time": "2022-12-19T18:50:51.740Z"
   },
   {
    "duration": 48,
    "start_time": "2022-12-19T18:51:09.854Z"
   },
   {
    "duration": 5,
    "start_time": "2022-12-19T18:51:22.250Z"
   },
   {
    "duration": 71,
    "start_time": "2022-12-19T18:51:54.807Z"
   },
   {
    "duration": 62,
    "start_time": "2022-12-19T18:52:22.567Z"
   },
   {
    "duration": 4,
    "start_time": "2022-12-19T18:52:27.847Z"
   },
   {
    "duration": 15,
    "start_time": "2022-12-19T18:52:37.752Z"
   },
   {
    "duration": 17,
    "start_time": "2022-12-19T18:53:24.979Z"
   },
   {
    "duration": 70,
    "start_time": "2022-12-19T18:53:37.593Z"
   },
   {
    "duration": 65,
    "start_time": "2022-12-19T18:54:03.106Z"
   },
   {
    "duration": 7,
    "start_time": "2022-12-19T18:54:30.842Z"
   },
   {
    "duration": 14,
    "start_time": "2022-12-19T18:54:45.508Z"
   },
   {
    "duration": 13,
    "start_time": "2022-12-19T18:57:15.501Z"
   },
   {
    "duration": 11,
    "start_time": "2022-12-19T18:57:27.350Z"
   },
   {
    "duration": 53,
    "start_time": "2022-12-19T18:58:45.393Z"
   },
   {
    "duration": 55,
    "start_time": "2022-12-19T18:58:55.880Z"
   },
   {
    "duration": 44,
    "start_time": "2022-12-19T19:11:40.225Z"
   },
   {
    "duration": 1414,
    "start_time": "2022-12-19T19:20:48.043Z"
   },
   {
    "duration": 4,
    "start_time": "2022-12-19T19:20:49.460Z"
   },
   {
    "duration": 77,
    "start_time": "2022-12-19T19:20:49.466Z"
   },
   {
    "duration": 17,
    "start_time": "2022-12-19T19:20:49.545Z"
   },
   {
    "duration": 21,
    "start_time": "2022-12-19T19:20:49.566Z"
   },
   {
    "duration": 743,
    "start_time": "2022-12-19T19:20:49.589Z"
   },
   {
    "duration": 7,
    "start_time": "2022-12-19T19:20:50.339Z"
   },
   {
    "duration": 8,
    "start_time": "2022-12-19T19:20:50.349Z"
   },
   {
    "duration": 21,
    "start_time": "2022-12-19T19:20:50.359Z"
   },
   {
    "duration": 91,
    "start_time": "2022-12-19T19:20:50.383Z"
   },
   {
    "duration": 11,
    "start_time": "2022-12-19T19:20:50.475Z"
   },
   {
    "duration": 11,
    "start_time": "2022-12-19T19:20:50.488Z"
   },
   {
    "duration": 12,
    "start_time": "2022-12-19T19:20:50.514Z"
   },
   {
    "duration": 17,
    "start_time": "2022-12-19T19:20:50.533Z"
   },
   {
    "duration": 9,
    "start_time": "2022-12-19T19:20:50.552Z"
   },
   {
    "duration": 11,
    "start_time": "2022-12-19T19:20:50.563Z"
   },
   {
    "duration": 8,
    "start_time": "2022-12-19T19:20:50.577Z"
   },
   {
    "duration": 10,
    "start_time": "2022-12-19T19:20:50.587Z"
   },
   {
    "duration": 21,
    "start_time": "2022-12-19T19:20:50.599Z"
   },
   {
    "duration": 29,
    "start_time": "2022-12-19T19:20:50.621Z"
   },
   {
    "duration": 5,
    "start_time": "2022-12-19T19:20:50.653Z"
   },
   {
    "duration": 9,
    "start_time": "2022-12-19T19:20:50.660Z"
   },
   {
    "duration": 21,
    "start_time": "2022-12-19T19:20:50.671Z"
   },
   {
    "duration": 45,
    "start_time": "2022-12-19T19:20:50.694Z"
   },
   {
    "duration": 26,
    "start_time": "2022-12-19T19:20:50.740Z"
   },
   {
    "duration": 18,
    "start_time": "2022-12-19T19:20:50.768Z"
   },
   {
    "duration": 16,
    "start_time": "2022-12-19T19:20:50.788Z"
   },
   {
    "duration": 202,
    "start_time": "2022-12-19T19:20:50.806Z"
   },
   {
    "duration": 11,
    "start_time": "2022-12-19T19:20:51.010Z"
   },
   {
    "duration": 24,
    "start_time": "2022-12-19T19:20:51.022Z"
   },
   {
    "duration": 347,
    "start_time": "2022-12-19T19:20:51.048Z"
   },
   {
    "duration": 2,
    "start_time": "2022-12-19T19:20:51.397Z"
   },
   {
    "duration": 21,
    "start_time": "2022-12-19T19:20:51.401Z"
   },
   {
    "duration": 1417,
    "start_time": "2022-12-19T19:20:51.433Z"
   },
   {
    "duration": 548,
    "start_time": "2022-12-19T19:20:52.852Z"
   },
   {
    "duration": 3,
    "start_time": "2022-12-19T19:20:53.401Z"
   },
   {
    "duration": 46,
    "start_time": "2022-12-19T19:20:53.406Z"
   },
   {
    "duration": 337,
    "start_time": "2022-12-19T19:20:53.454Z"
   },
   {
    "duration": 3,
    "start_time": "2022-12-19T19:20:53.792Z"
   },
   {
    "duration": 187,
    "start_time": "2022-12-19T19:20:53.797Z"
   },
   {
    "duration": 3,
    "start_time": "2022-12-19T19:20:53.988Z"
   },
   {
    "duration": 197,
    "start_time": "2022-12-19T19:20:53.993Z"
   },
   {
    "duration": 5,
    "start_time": "2022-12-19T19:20:54.193Z"
   },
   {
    "duration": 362,
    "start_time": "2022-12-19T19:20:54.215Z"
   },
   {
    "duration": 8,
    "start_time": "2022-12-19T19:20:54.580Z"
   },
   {
    "duration": 333,
    "start_time": "2022-12-19T19:20:54.590Z"
   },
   {
    "duration": 312,
    "start_time": "2022-12-19T19:20:54.934Z"
   },
   {
    "duration": 11,
    "start_time": "2022-12-19T19:20:55.248Z"
   },
   {
    "duration": 35,
    "start_time": "2022-12-19T19:20:55.260Z"
   },
   {
    "duration": 11,
    "start_time": "2022-12-19T19:20:55.296Z"
   },
   {
    "duration": 26,
    "start_time": "2022-12-19T19:20:55.314Z"
   },
   {
    "duration": 14,
    "start_time": "2022-12-19T19:20:55.344Z"
   },
   {
    "duration": 11,
    "start_time": "2022-12-19T19:20:55.360Z"
   },
   {
    "duration": 12,
    "start_time": "2022-12-19T19:20:55.374Z"
   },
   {
    "duration": 28,
    "start_time": "2022-12-19T19:20:55.388Z"
   },
   {
    "duration": 9,
    "start_time": "2022-12-19T19:20:55.420Z"
   },
   {
    "duration": 13,
    "start_time": "2022-12-19T19:20:55.433Z"
   },
   {
    "duration": 8,
    "start_time": "2022-12-19T19:20:55.448Z"
   },
   {
    "duration": 538,
    "start_time": "2022-12-19T19:20:55.458Z"
   },
   {
    "duration": 22,
    "start_time": "2022-12-19T19:20:55.998Z"
   },
   {
    "duration": 29,
    "start_time": "2022-12-19T19:20:56.023Z"
   },
   {
    "duration": 10,
    "start_time": "2022-12-19T19:20:56.054Z"
   },
   {
    "duration": 15,
    "start_time": "2022-12-19T19:20:56.066Z"
   },
   {
    "duration": 17,
    "start_time": "2022-12-19T19:20:56.083Z"
   },
   {
    "duration": 30,
    "start_time": "2022-12-19T19:20:56.117Z"
   },
   {
    "duration": 45,
    "start_time": "2022-12-19T19:22:59.573Z"
   }
  ],
  "kernelspec": {
   "display_name": "Python 3",
   "language": "python",
   "name": "python3"
  },
  "language_info": {
   "codemirror_mode": {
    "name": "ipython",
    "version": 3
   },
   "file_extension": ".py",
   "mimetype": "text/x-python",
   "name": "python",
   "nbconvert_exporter": "python",
   "pygments_lexer": "ipython3",
   "version": "3.7.6"
  },
  "toc": {
   "base_numbering": 1,
   "nav_menu": {
    "height": "626.306px",
    "width": "514.292px"
   },
   "number_sections": true,
   "sideBar": true,
   "skip_h1_title": true,
   "title_cell": "Содержание",
   "title_sidebar": "Contents",
   "toc_cell": true,
   "toc_position": {
    "height": "calc(100% - 180px)",
    "left": "10px",
    "top": "150px",
    "width": "323.55px"
   },
   "toc_section_display": true,
   "toc_window_display": true
  }
 },
 "nbformat": 4,
 "nbformat_minor": 2
}
