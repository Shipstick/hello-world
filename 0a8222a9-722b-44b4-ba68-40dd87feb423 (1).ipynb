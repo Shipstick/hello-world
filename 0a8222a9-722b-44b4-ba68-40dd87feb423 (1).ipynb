{
 "cells": [
  {
   "cell_type": "markdown",
   "metadata": {
    "toc": true
   },
   "source": [
    "<h1>Table of Contents<span class=\"tocSkip\"></span></h1>\n",
    "<div class=\"toc\"><ul class=\"toc-item\"><li><span><a href=\"#A/A/B---для-стартапа-по-продуктам-питания\" data-toc-modified-id=\"A/A/B---для-стартапа-по-продуктам-питания-1\">A/A/B - для стартапа по продуктам питания</a></span><ul class=\"toc-item\"><li><span><a href=\"#Описание-проекта\" data-toc-modified-id=\"Описание-проекта-1.1\">Описание проекта</a></span></li><li><span><a href=\"#Шаги-к-выполнению:\" data-toc-modified-id=\"Шаги-к-выполнению:-1.2\">Шаги к выполнению:</a></span></li><li><span><a href=\"#Подготовка-данных-к-анализу\" data-toc-modified-id=\"Подготовка-данных-к-анализу-1.3\">Подготовка данных к анализу</a></span><ul class=\"toc-item\"><li><ul class=\"toc-item\"><li><span><a href=\"#Переименование-колонок\" data-toc-modified-id=\"Переименование-колонок-1.3.0.1\">Переименование колонок</a></span></li><li><span><a href=\"#event_timestamp\" data-toc-modified-id=\"event_timestamp-1.3.0.2\">event_timestamp</a></span></li><li><span><a href=\"#date\" data-toc-modified-id=\"date-1.3.0.3\">date</a></span></li><li><span><a href=\"#Пропуски\" data-toc-modified-id=\"Пропуски-1.3.0.4\">Пропуски</a></span></li><li><span><a href=\"#Дубликаты\" data-toc-modified-id=\"Дубликаты-1.3.0.5\">Дубликаты</a></span></li></ul></li><li><span><a href=\"#Вывод-по-блоку-подготовки-данных-к-анализу:\" data-toc-modified-id=\"Вывод-по-блоку-подготовки-данных-к-анализу:-1.3.1\">Вывод по блоку подготовки данных к анализу:</a></span></li></ul></li><li><span><a href=\"#Изучение-и-проверка-данных\" data-toc-modified-id=\"Изучение-и-проверка-данных-1.4\">Изучение и проверка данных</a></span><ul class=\"toc-item\"><li><span><a href=\"#Сколько-всего-событий-в-логе?\" data-toc-modified-id=\"Сколько-всего-событий-в-логе?-1.4.1\">Сколько всего событий в логе?</a></span></li><li><span><a href=\"#Сколько-всего-пользователей-в-логе?\" data-toc-modified-id=\"Сколько-всего-пользователей-в-логе?-1.4.2\">Сколько всего пользователей в логе?</a></span></li><li><span><a href=\"#Сколько-в-среднем-событий-приходится-на-пользователя?\" data-toc-modified-id=\"Сколько-в-среднем-событий-приходится-на-пользователя?-1.4.3\">Сколько в среднем событий приходится на пользователя?</a></span></li><li><span><a href=\"#Данными-за-какой-период-мы-располагаем?-Найдём-максимальную-и-минимальную-дату.Построим-гистограмму-по-дате-и-времени.-Можно-ли-быть-уверенным,-что-у-нас-одинаково-полные-данные-за-весь-период?-Технически-в-логи-новых-дней-по-некоторым-пользователям-могут-«доезжать»-события-из-прошлого-—-это-может-«перекашивать-данные».-Определим,-с-какого-момента-данные-полные-и-отбросим-более-старые.-Данными-за-какой-период-времени-вы-располагаете-на-самом-деле?\" data-toc-modified-id=\"Данными-за-какой-период-мы-располагаем?-Найдём-максимальную-и-минимальную-дату.Построим-гистограмму-по-дате-и-времени.-Можно-ли-быть-уверенным,-что-у-нас-одинаково-полные-данные-за-весь-период?-Технически-в-логи-новых-дней-по-некоторым-пользователям-могут-«доезжать»-события-из-прошлого-—-это-может-«перекашивать-данные».-Определим,-с-какого-момента-данные-полные-и-отбросим-более-старые.-Данными-за-какой-период-времени-вы-располагаете-на-самом-деле?-1.4.4\">Данными за какой период мы располагаем? Найдём максимальную и минимальную дату.Построим гистограмму по дате и времени. Можно ли быть уверенным, что у нас одинаково полные данные за весь период? Технически в логи новых дней по некоторым пользователям могут «доезжать» события из прошлого — это может «перекашивать данные». Определим, с какого момента данные полные и отбросим более старые. Данными за какой период времени вы располагаете на самом деле?</a></span><ul class=\"toc-item\"><li><span><a href=\"#Вывод:\" data-toc-modified-id=\"Вывод:-1.4.4.1\">Вывод:</a></span></li></ul></li><li><span><a href=\"#Много-ли-событий-и-пользователей-мы-потеряли,-отбросив-старые-данные?\" data-toc-modified-id=\"Много-ли-событий-и-пользователей-мы-потеряли,-отбросив-старые-данные?-1.4.5\">Много ли событий и пользователей мы потеряли, отбросив старые данные?</a></span><ul class=\"toc-item\"><li><span><a href=\"#Вывод:\" data-toc-modified-id=\"Вывод:-1.4.5.1\">Вывод:</a></span></li></ul></li><li><span><a href=\"#Проверим,-что-у-нас-есть-пользователи-из-всех-трёх-экспериментальных-групп.\" data-toc-modified-id=\"Проверим,-что-у-нас-есть-пользователи-из-всех-трёх-экспериментальных-групп.-1.4.6\">Проверим, что у нас есть пользователи из всех трёх экспериментальных групп.</a></span></li><li><span><a href=\"#Вывод-по-блоку-изучения-и-проверки-данных:\" data-toc-modified-id=\"Вывод-по-блоку-изучения-и-проверки-данных:-1.4.7\">Вывод по блоку изучения и проверки данных:</a></span></li></ul></li><li><span><a href=\"#Изучение-воронки-событий\" data-toc-modified-id=\"Изучение-воронки-событий-1.5\">Изучение воронки событий</a></span><ul class=\"toc-item\"><li><span><a href=\"#Посмотрим,-какие-события-есть-в-логах,-как-часто-они-встречаются.-Отсортируем-события-по-частоте.Посчитаем,-сколько-пользователей-совершали-каждое-из-этих-событий.-Отсортируем-события-по-числу-пользователей.-Посчитаем-долю-пользователей,-которые-хоть-раз-совершали-событие.\" data-toc-modified-id=\"Посмотрим,-какие-события-есть-в-логах,-как-часто-они-встречаются.-Отсортируем-события-по-частоте.Посчитаем,-сколько-пользователей-совершали-каждое-из-этих-событий.-Отсортируем-события-по-числу-пользователей.-Посчитаем-долю-пользователей,-которые-хоть-раз-совершали-событие.-1.5.1\">Посмотрим, какие события есть в логах, как часто они встречаются. Отсортируем события по частоте.Посчитаем, сколько пользователей совершали каждое из этих событий. Отсортируем события по числу пользователей. Посчитаем долю пользователей, которые хоть раз совершали событие.</a></span><ul class=\"toc-item\"><li><span><a href=\"#Вывод:\" data-toc-modified-id=\"Вывод:-1.5.1.1\">Вывод:</a></span></li></ul></li><li><span><a href=\"#По-воронке-событий-посчитайте,-какая-доля-пользователей-проходит-на-следующий-шаг-воронки-(от-числа-пользователей-на-предыдущем).-То-есть-для-последовательности-событий-A-→-B-→-C-посчитайте-отношение-числа-пользователей-с-событием-B-к-количеству-пользователей-с-событием-A,-а-также-отношение-числа-пользователей-с-событием-C-к-количеству-пользователей-с-событием-B.\" data-toc-modified-id=\"По-воронке-событий-посчитайте,-какая-доля-пользователей-проходит-на-следующий-шаг-воронки-(от-числа-пользователей-на-предыдущем).-То-есть-для-последовательности-событий-A-→-B-→-C-посчитайте-отношение-числа-пользователей-с-событием-B-к-количеству-пользователей-с-событием-A,-а-также-отношение-числа-пользователей-с-событием-C-к-количеству-пользователей-с-событием-B.-1.5.2\">По воронке событий посчитайте, какая доля пользователей проходит на следующий шаг воронки (от числа пользователей на предыдущем). То есть для последовательности событий A → B → C посчитайте отношение числа пользователей с событием B к количеству пользователей с событием A, а также отношение числа пользователей с событием C к количеству пользователей с событием B.</a></span><ul class=\"toc-item\"><li><span><a href=\"#Вывод:\" data-toc-modified-id=\"Вывод:-1.5.2.1\">Вывод:</a></span></li><li><span><a href=\"#Вывод:\" data-toc-modified-id=\"Вывод:-1.5.2.2\">Вывод:</a></span></li></ul></li><li><span><a href=\"#Сколько-пользователей-в-каждой-экспериментальной-группе?-Есть-2-контрольные-группы-для-А/А-эксперимента,-чтобы-проверить-корректность-всех-механизмов-и-расчётов.\" data-toc-modified-id=\"Сколько-пользователей-в-каждой-экспериментальной-группе?-Есть-2-контрольные-группы-для-А/А-эксперимента,-чтобы-проверить-корректность-всех-механизмов-и-расчётов.-1.5.3\">Сколько пользователей в каждой экспериментальной группе? Есть 2 контрольные группы для А/А-эксперимента, чтобы проверить корректность всех механизмов и расчётов.</a></span></li><li><span><a href=\"#Проверим,-находят-ли-статистические-критерии-разницу-между-выборками-246-и-247.\" data-toc-modified-id=\"Проверим,-находят-ли-статистические-критерии-разницу-между-выборками-246-и-247.-1.5.4\">Проверим, находят ли статистические критерии разницу между выборками 246 и 247.</a></span></li></ul></li><li><span><a href=\"#Вывод:\" data-toc-modified-id=\"Вывод:-1.6\">Вывод:</a></span></li></ul></li></ul></div>"
   ]
  },
  {
   "cell_type": "markdown",
   "metadata": {},
   "source": [
    "# A/A/B - для стартапа по продуктам питания"
   ]
  },
  {
   "cell_type": "markdown",
   "metadata": {},
   "source": [
    "## Описание проекта"
   ]
  },
  {
   "cell_type": "markdown",
   "metadata": {},
   "source": [
    "- Мы работаем в стартапе, который продаёт продукты питания. Нужно разобраться, как ведут себя пользователи мобильного приложения. \n",
    "- Изучим воронку продаж. Узнаем, как пользователи доходят до покупки. Сколько пользователей доходит до покупки, а сколько — «застревает» на предыдущих шагах? На каких именно?\n",
    "- После этого исследуем результаты A/A/B-эксперимента. Дизайнеры захотели поменять шрифты во всём приложении, а менеджеры испугались, что пользователям будет непривычно. Договорились принять решение по результатам A/A/B-теста. Пользователей разбили на 3 группы: 2 контрольные со старыми шрифтами и одну экспериментальную — с новыми. Выясните, какой шрифт лучше.\n",
    "- Создание двух групп A вместо одной имеет определённые преимущества. Если две контрольные группы окажутся равны, мы можем быть уверены в точности проведенного тестирования. Если же между значениями A и A будут существенные различия, это поможет обнаружить факторы, которые привели к искажению результатов. Сравнение контрольных групп также помогает понять, сколько времени и данных потребуется для дальнейших тестов.\n",
    "- В случае общей аналитики и A/A/B-эксперимента работайте с одними и теми же данными. В реальных проектах всегда идут эксперименты. Аналитики исследуют качество работы приложения по общим данным, не учитывая принадлежность пользователей к экспериментам."
   ]
  },
  {
   "cell_type": "markdown",
   "metadata": {},
   "source": [
    "## Шаги к выполнению: \n",
    "**Шаг 1. Откройте файл с данными и изучите общую информацию**\n",
    "**Путь к файлу: /datasets/logs_exp.csv. Скачать датасет**\n",
    "**Шаг 2. Подготовьте данные**\n",
    "- Замените названия столбцов на удобные для вас;\n",
    "- Проверьте пропуски и типы данных. Откорректируйте, если нужно;\n",
    "- Добавьте столбец даты и времени, а также отдельный столбец дат;\n",
    "\n",
    "**Шаг 3. Изучите и проверьте данные**\n",
    "- Сколько всего событий в логе?\n",
    "- Сколько всего пользователей в логе?\n",
    "- Сколько в среднем событий приходится на пользователя?\n",
    "- Данными за какой период вы располагаете? Найдите максимальную и минимальную дату.\n",
    "- Постройте гистограмму по дате и времени.\n",
    "- Можно ли быть уверенным, что у вас одинаково полные данные за весь период?\n",
    "- Технически в логи новых дней по некоторым пользователям могут «доезжать» события из прошлого — это может «перекашивать данные». Определите, с какого момента данные полные и отбросьте более старые.\n",
    "- Данными за какой период времени вы располагаете на самом деле?\n",
    "- Много ли событий и пользователей вы потеряли, отбросив старые данные?\n",
    "- Проверьте, что у вас есть пользователи из всех трёх экспериментальных групп.\n",
    "\n",
    "**Шаг 4. Изучите воронку событий**\n",
    "- Посмотрите, какие события есть в логах, как часто они встречаются. Отсортируйте события по частоте.\n",
    "- Посчитайте, сколько пользователей совершали каждое из этих событий. Отсортируйте события по числу пользователей. Посчитайте долю пользователей, которые хоть раз совершали событие.\n",
    "- Предположите, в каком порядке происходят события. Все ли они выстраиваются в последовательную цепочку? Их не нужно учитывать при расчёте воронки.\n",
    "- По воронке событий посчитайте, какая доля пользователей проходит на следующий шаг воронки (от числа пользователей на предыдущем). То есть для последовательности событий A → B → C посчитайте отношение числа пользователей с событием B к количеству пользователей с событием A, а также отношение числа пользователей с событием C к количеству пользователей с событием B.\n",
    "- На каком шаге теряете больше всего пользователей?\n",
    "- Какая доля пользователей доходит от первого события до оплаты?\n",
    "\n",
    "**Шаг 5. Изучите результаты эксперимента**\n",
    "- Сколько пользователей в каждой экспериментальной группе?\n",
    "- Есть 2 контрольные группы для А/А-эксперимента, чтобы проверить корректность всех механизмов и расчётов. Проверьте, находят ли статистические критерии разницу между выборками 246 и 247.\n",
    "- Выберите самое популярное событие. Посчитайте число пользователей, совершивших это событие в каждой из контрольных групп. Посчитайте долю пользователей, совершивших это событие. Проверьте, будет ли отличие между группами статистически достоверным. Проделайте то же самое для всех других событий (удобно обернуть проверку в отдельную функцию). Можно ли сказать, что разбиение на группы работает корректно?\n",
    "- Аналогично поступите с группой с изменённым шрифтом. Сравните результаты с каждой из контрольных групп в отдельности по каждому событию. Сравните результаты с объединённой контрольной группой. Какие выводы из эксперимента можно сделать?\n",
    "- Какой уровень значимости вы выбрали при проверке статистических гипотез выше? Посчитайте, сколько проверок статистических гипотез вы сделали. При уровне значимости 0.1 каждый десятый раз можно получать ложный результат"
   ]
  },
  {
   "cell_type": "markdown",
   "metadata": {},
   "source": [
    "## Подготовка данных к анализу"
   ]
  },
  {
   "cell_type": "code",
   "execution_count": 1,
   "metadata": {},
   "outputs": [],
   "source": [
    "import pandas as pd\n",
    "import numpy as np\n",
    "import matplotlib.pyplot as plt\n",
    "from datetime import datetime, timedelta\n",
    "import seaborn as sns\n",
    "import warnings\n",
    "import plotly.express as px\n",
    "from plotly import graph_objects as go\n",
    "from scipy import stats as st\n",
    "import math as mth"
   ]
  },
  {
   "cell_type": "code",
   "execution_count": 2,
   "metadata": {},
   "outputs": [],
   "source": [
    "pd.set_option('display.max_rows', None)\n",
    "pd.set_option('display.max_columns', None)\n",
    "pd.options.display.float_format = '{:_.2f}'.format\n",
    "warnings.filterwarnings('ignore')"
   ]
  },
  {
   "cell_type": "code",
   "execution_count": 3,
   "metadata": {
    "scrolled": true
   },
   "outputs": [
    {
     "data": {
      "text/html": [
       "<div>\n",
       "<style scoped>\n",
       "    .dataframe tbody tr th:only-of-type {\n",
       "        vertical-align: middle;\n",
       "    }\n",
       "\n",
       "    .dataframe tbody tr th {\n",
       "        vertical-align: top;\n",
       "    }\n",
       "\n",
       "    .dataframe thead th {\n",
       "        text-align: right;\n",
       "    }\n",
       "</style>\n",
       "<table border=\"1\" class=\"dataframe\">\n",
       "  <thead>\n",
       "    <tr style=\"text-align: right;\">\n",
       "      <th></th>\n",
       "      <th>EventName</th>\n",
       "      <th>DeviceIDHash</th>\n",
       "      <th>EventTimestamp</th>\n",
       "      <th>ExpId</th>\n",
       "    </tr>\n",
       "  </thead>\n",
       "  <tbody>\n",
       "    <tr>\n",
       "      <th>0</th>\n",
       "      <td>MainScreenAppear</td>\n",
       "      <td>4575588528974610257</td>\n",
       "      <td>1564029816</td>\n",
       "      <td>246</td>\n",
       "    </tr>\n",
       "    <tr>\n",
       "      <th>1</th>\n",
       "      <td>MainScreenAppear</td>\n",
       "      <td>7416695313311560658</td>\n",
       "      <td>1564053102</td>\n",
       "      <td>246</td>\n",
       "    </tr>\n",
       "    <tr>\n",
       "      <th>2</th>\n",
       "      <td>PaymentScreenSuccessful</td>\n",
       "      <td>3518123091307005509</td>\n",
       "      <td>1564054127</td>\n",
       "      <td>248</td>\n",
       "    </tr>\n",
       "    <tr>\n",
       "      <th>3</th>\n",
       "      <td>CartScreenAppear</td>\n",
       "      <td>3518123091307005509</td>\n",
       "      <td>1564054127</td>\n",
       "      <td>248</td>\n",
       "    </tr>\n",
       "    <tr>\n",
       "      <th>4</th>\n",
       "      <td>PaymentScreenSuccessful</td>\n",
       "      <td>6217807653094995999</td>\n",
       "      <td>1564055322</td>\n",
       "      <td>248</td>\n",
       "    </tr>\n",
       "  </tbody>\n",
       "</table>\n",
       "</div>"
      ],
      "text/plain": [
       "                 EventName         DeviceIDHash  EventTimestamp  ExpId\n",
       "0         MainScreenAppear  4575588528974610257      1564029816    246\n",
       "1         MainScreenAppear  7416695313311560658      1564053102    246\n",
       "2  PaymentScreenSuccessful  3518123091307005509      1564054127    248\n",
       "3         CartScreenAppear  3518123091307005509      1564054127    248\n",
       "4  PaymentScreenSuccessful  6217807653094995999      1564055322    248"
      ]
     },
     "execution_count": 3,
     "metadata": {},
     "output_type": "execute_result"
    }
   ],
   "source": [
    "logs = pd.read_csv('/datasets/logs_exp.csv', sep='\\t')\n",
    "logs.head()"
   ]
  },
  {
   "cell_type": "markdown",
   "metadata": {},
   "source": [
    "**Описание данных**\n",
    "\n",
    "Каждая запись в логе — это действие пользователя, или событие. \n",
    "- EventName — название события;\n",
    "- DeviceIDHash — уникальный идентификатор пользователя;\n",
    "- EventTimestamp — время события;\n",
    "- ExpId — номер эксперимента: 246 и 247 — контрольные группы, а 248 — экспериментальная."
   ]
  },
  {
   "cell_type": "code",
   "execution_count": 4,
   "metadata": {
    "scrolled": true
   },
   "outputs": [
    {
     "name": "stdout",
     "output_type": "stream",
     "text": [
      "<class 'pandas.core.frame.DataFrame'>\n",
      "RangeIndex: 244126 entries, 0 to 244125\n",
      "Data columns (total 4 columns):\n",
      " #   Column          Non-Null Count   Dtype \n",
      "---  ------          --------------   ----- \n",
      " 0   EventName       244126 non-null  object\n",
      " 1   DeviceIDHash    244126 non-null  int64 \n",
      " 2   EventTimestamp  244126 non-null  int64 \n",
      " 3   ExpId           244126 non-null  int64 \n",
      "dtypes: int64(3), object(1)\n",
      "memory usage: 7.5+ MB\n"
     ]
    }
   ],
   "source": [
    "logs.info()"
   ]
  },
  {
   "cell_type": "markdown",
   "metadata": {},
   "source": [
    "#### Переименование колонок"
   ]
  },
  {
   "cell_type": "code",
   "execution_count": 5,
   "metadata": {},
   "outputs": [
    {
     "data": {
      "text/plain": [
       "Index(['eventname', 'deviceidhash', 'eventtimestamp', 'expid'], dtype='object')"
      ]
     },
     "execution_count": 5,
     "metadata": {},
     "output_type": "execute_result"
    }
   ],
   "source": [
    "logs.columns = logs.columns.str.lower()\n",
    "logs.columns"
   ]
  },
  {
   "cell_type": "code",
   "execution_count": 6,
   "metadata": {},
   "outputs": [
    {
     "data": {
      "text/plain": [
       "Index(['event_name', 'user_id', 'event_timestamp', 'group'], dtype='object')"
      ]
     },
     "execution_count": 6,
     "metadata": {},
     "output_type": "execute_result"
    }
   ],
   "source": [
    "logs.rename(columns={'eventname':'event_name','deviceidhash':'user_id','eventtimestamp':'event_timestamp','expid':'group'}, \n",
    "            inplace = True)\n",
    "logs.columns"
   ]
  },
  {
   "cell_type": "markdown",
   "metadata": {},
   "source": [
    "#### event_timestamp"
   ]
  },
  {
   "cell_type": "code",
   "execution_count": 7,
   "metadata": {
    "scrolled": true
   },
   "outputs": [
    {
     "data": {
      "text/html": [
       "<div>\n",
       "<style scoped>\n",
       "    .dataframe tbody tr th:only-of-type {\n",
       "        vertical-align: middle;\n",
       "    }\n",
       "\n",
       "    .dataframe tbody tr th {\n",
       "        vertical-align: top;\n",
       "    }\n",
       "\n",
       "    .dataframe thead th {\n",
       "        text-align: right;\n",
       "    }\n",
       "</style>\n",
       "<table border=\"1\" class=\"dataframe\">\n",
       "  <thead>\n",
       "    <tr style=\"text-align: right;\">\n",
       "      <th></th>\n",
       "      <th>event_name</th>\n",
       "      <th>user_id</th>\n",
       "      <th>event_timestamp</th>\n",
       "      <th>group</th>\n",
       "    </tr>\n",
       "  </thead>\n",
       "  <tbody>\n",
       "    <tr>\n",
       "      <th>0</th>\n",
       "      <td>MainScreenAppear</td>\n",
       "      <td>4575588528974610257</td>\n",
       "      <td>2019-07-25 04:43:36</td>\n",
       "      <td>246</td>\n",
       "    </tr>\n",
       "  </tbody>\n",
       "</table>\n",
       "</div>"
      ],
      "text/plain": [
       "         event_name              user_id     event_timestamp  group\n",
       "0  MainScreenAppear  4575588528974610257 2019-07-25 04:43:36    246"
      ]
     },
     "execution_count": 7,
     "metadata": {},
     "output_type": "execute_result"
    }
   ],
   "source": [
    "logs['event_timestamp'] = pd.to_datetime(logs['event_timestamp'], unit='s')\n",
    "logs.head(1)"
   ]
  },
  {
   "cell_type": "markdown",
   "metadata": {},
   "source": [
    "#### date"
   ]
  },
  {
   "cell_type": "code",
   "execution_count": 8,
   "metadata": {
    "scrolled": true
   },
   "outputs": [
    {
     "data": {
      "text/html": [
       "<div>\n",
       "<style scoped>\n",
       "    .dataframe tbody tr th:only-of-type {\n",
       "        vertical-align: middle;\n",
       "    }\n",
       "\n",
       "    .dataframe tbody tr th {\n",
       "        vertical-align: top;\n",
       "    }\n",
       "\n",
       "    .dataframe thead th {\n",
       "        text-align: right;\n",
       "    }\n",
       "</style>\n",
       "<table border=\"1\" class=\"dataframe\">\n",
       "  <thead>\n",
       "    <tr style=\"text-align: right;\">\n",
       "      <th></th>\n",
       "      <th>event_name</th>\n",
       "      <th>user_id</th>\n",
       "      <th>event_timestamp</th>\n",
       "      <th>group</th>\n",
       "      <th>date</th>\n",
       "    </tr>\n",
       "  </thead>\n",
       "  <tbody>\n",
       "    <tr>\n",
       "      <th>0</th>\n",
       "      <td>MainScreenAppear</td>\n",
       "      <td>4575588528974610257</td>\n",
       "      <td>2019-07-25 04:43:36</td>\n",
       "      <td>246</td>\n",
       "      <td>2019-07-25</td>\n",
       "    </tr>\n",
       "  </tbody>\n",
       "</table>\n",
       "</div>"
      ],
      "text/plain": [
       "         event_name              user_id     event_timestamp  group       date\n",
       "0  MainScreenAppear  4575588528974610257 2019-07-25 04:43:36    246 2019-07-25"
      ]
     },
     "execution_count": 8,
     "metadata": {},
     "output_type": "execute_result"
    }
   ],
   "source": [
    "logs['date'] = logs['event_timestamp'].dt.strftime('%Y-%m-%d')\n",
    "logs.date = pd.to_datetime(logs.date)\n",
    "logs.head(1)"
   ]
  },
  {
   "cell_type": "code",
   "execution_count": 9,
   "metadata": {},
   "outputs": [],
   "source": [
    "# Колонка с датой есть"
   ]
  },
  {
   "cell_type": "code",
   "execution_count": 10,
   "metadata": {},
   "outputs": [
    {
     "data": {
      "text/plain": [
       "248    85747\n",
       "246    80304\n",
       "247    78075\n",
       "Name: group, dtype: int64"
      ]
     },
     "execution_count": 10,
     "metadata": {},
     "output_type": "execute_result"
    }
   ],
   "source": [
    "logs.group.value_counts()"
   ]
  },
  {
   "cell_type": "markdown",
   "metadata": {},
   "source": [
    "#### Пропуски"
   ]
  },
  {
   "cell_type": "code",
   "execution_count": 11,
   "metadata": {
    "scrolled": false
   },
   "outputs": [
    {
     "data": {
      "text/html": [
       "<style  type=\"text/css\" >\n",
       "#T_d3fb3_row0_col0,#T_d3fb3_row1_col0,#T_d3fb3_row2_col0,#T_d3fb3_row3_col0,#T_d3fb3_row4_col0{\n",
       "            background-color:  #3b4cc0;\n",
       "            color:  #f1f1f1;\n",
       "        }</style><table id=\"T_d3fb3_\" ><thead>    <tr>        <th class=\"blank level0\" ></th>        <th class=\"col_heading level0 col0\" >0</th>    </tr></thead><tbody>\n",
       "                <tr>\n",
       "                        <th id=\"T_d3fb3_level0_row0\" class=\"row_heading level0 row0\" >event_name</th>\n",
       "                        <td id=\"T_d3fb3_row0_col0\" class=\"data row0 col0\" >0.000000</td>\n",
       "            </tr>\n",
       "            <tr>\n",
       "                        <th id=\"T_d3fb3_level0_row1\" class=\"row_heading level0 row1\" >user_id</th>\n",
       "                        <td id=\"T_d3fb3_row1_col0\" class=\"data row1 col0\" >0.000000</td>\n",
       "            </tr>\n",
       "            <tr>\n",
       "                        <th id=\"T_d3fb3_level0_row2\" class=\"row_heading level0 row2\" >event_timestamp</th>\n",
       "                        <td id=\"T_d3fb3_row2_col0\" class=\"data row2 col0\" >0.000000</td>\n",
       "            </tr>\n",
       "            <tr>\n",
       "                        <th id=\"T_d3fb3_level0_row3\" class=\"row_heading level0 row3\" >group</th>\n",
       "                        <td id=\"T_d3fb3_row3_col0\" class=\"data row3 col0\" >0.000000</td>\n",
       "            </tr>\n",
       "            <tr>\n",
       "                        <th id=\"T_d3fb3_level0_row4\" class=\"row_heading level0 row4\" >date</th>\n",
       "                        <td id=\"T_d3fb3_row4_col0\" class=\"data row4 col0\" >0.000000</td>\n",
       "            </tr>\n",
       "    </tbody></table>"
      ],
      "text/plain": [
       "<pandas.io.formats.style.Styler at 0x7f0bec720580>"
      ]
     },
     "execution_count": 11,
     "metadata": {},
     "output_type": "execute_result"
    }
   ],
   "source": [
    "pd.DataFrame(round(logs.isna().mean()*100,)).style.background_gradient('coolwarm')"
   ]
  },
  {
   "cell_type": "markdown",
   "metadata": {},
   "source": [
    " Пропусков не обнаружено"
   ]
  },
  {
   "cell_type": "markdown",
   "metadata": {},
   "source": [
    "#### Дубликаты\n"
   ]
  },
  {
   "cell_type": "code",
   "execution_count": 12,
   "metadata": {},
   "outputs": [
    {
     "data": {
      "text/plain": [
       "413"
      ]
     },
     "execution_count": 12,
     "metadata": {},
     "output_type": "execute_result"
    }
   ],
   "source": [
    "logs.duplicated().sum()\n"
   ]
  },
  {
   "cell_type": "code",
   "execution_count": 13,
   "metadata": {
    "scrolled": true
   },
   "outputs": [
    {
     "data": {
      "text/plain": [
       "(244126, 5)"
      ]
     },
     "execution_count": 13,
     "metadata": {},
     "output_type": "execute_result"
    }
   ],
   "source": [
    "logs.shape"
   ]
  },
  {
   "cell_type": "code",
   "execution_count": 14,
   "metadata": {},
   "outputs": [],
   "source": [
    "logs.drop_duplicates(inplace=True)"
   ]
  },
  {
   "cell_type": "code",
   "execution_count": 15,
   "metadata": {},
   "outputs": [
    {
     "data": {
      "text/plain": [
       "(243713, 5)"
      ]
     },
     "execution_count": 15,
     "metadata": {},
     "output_type": "execute_result"
    }
   ],
   "source": [
    "logs.shape"
   ]
  },
  {
   "cell_type": "markdown",
   "metadata": {},
   "source": [
    "Дубликаты удалены"
   ]
  },
  {
   "cell_type": "markdown",
   "metadata": {},
   "source": [
    "### Вывод по блоку подготовки данных к анализу:\n",
    "\n",
    "- Пропуски в данных отсутствуют\n",
    "- Дубликаты присутствуют, удалены\n",
    "- Колонка с датой и временем приведены к нужному типу данных\n",
    "- Названия колонок переименованы для удобной работы"
   ]
  },
  {
   "cell_type": "markdown",
   "metadata": {},
   "source": [
    "## Изучение и проверка данных"
   ]
  },
  {
   "cell_type": "markdown",
   "metadata": {},
   "source": [
    "### Сколько всего событий в логе?"
   ]
  },
  {
   "cell_type": "code",
   "execution_count": 16,
   "metadata": {},
   "outputs": [
    {
     "name": "stdout",
     "output_type": "stream",
     "text": [
      "Всего событий в логе: 243713\n"
     ]
    }
   ],
   "source": [
    "print('Всего событий в логе: {}'.format(len(logs)))"
   ]
  },
  {
   "cell_type": "markdown",
   "metadata": {},
   "source": [
    "### Сколько всего пользователей в логе?"
   ]
  },
  {
   "cell_type": "code",
   "execution_count": 17,
   "metadata": {},
   "outputs": [
    {
     "name": "stdout",
     "output_type": "stream",
     "text": [
      "Всего пользователей в логе: 7551\n"
     ]
    }
   ],
   "source": [
    "print('Всего пользователей в логе: {}'.format(logs.user_id.nunique()))"
   ]
  },
  {
   "cell_type": "markdown",
   "metadata": {},
   "source": [
    "### Сколько в среднем событий приходится на пользователя?"
   ]
  },
  {
   "cell_type": "code",
   "execution_count": 18,
   "metadata": {},
   "outputs": [],
   "source": [
    "user_mean = round(len(logs) / logs.user_id.nunique(),2)"
   ]
  },
  {
   "cell_type": "code",
   "execution_count": 19,
   "metadata": {},
   "outputs": [
    {
     "name": "stdout",
     "output_type": "stream",
     "text": [
      "Всего в среднем событий приходится на пользователя: 32.28\n"
     ]
    }
   ],
   "source": [
    "print('Всего в среднем событий приходится на пользователя: {a}'.format(a=user_mean))"
   ]
  },
  {
   "cell_type": "markdown",
   "metadata": {},
   "source": [
    "Дубли почистили, показатель стал ниже"
   ]
  },
  {
   "cell_type": "code",
   "execution_count": 20,
   "metadata": {
    "scrolled": false
   },
   "outputs": [
    {
     "data": {
      "image/png": "[encoded data removed]",
      "text/plain": [
       "<Figure size 720x432 with 1 Axes>"
      ]
     },
     "metadata": {
      "needs_background": "light"
     },
     "output_type": "display_data"
    }
   ],
   "source": [
    "fig, ax = plt.subplots(figsize=(10, 6))\n",
    "ax.scatter(x = logs.groupby('user_id').agg({'event_name':'count'}).index,\n",
    "           y = logs.groupby('user_id').agg({'event_name':'count'})['event_name'])\n",
    "plt.xlabel(\"user_id\")\n",
    "plt.ylabel(\"action_cnt\")\n",
    "plt.title('График действий пользователей')\n",
    "plt.show()"
   ]
  },
  {
   "cell_type": "code",
   "execution_count": 21,
   "metadata": {
    "scrolled": true
   },
   "outputs": [
    {
     "data": {
      "image/png": "[encoded data removed]",
      "text/plain": [
       "<Figure size 360x360 with 1 Axes>"
      ]
     },
     "metadata": {
      "needs_background": "light"
     },
     "output_type": "display_data"
    }
   ],
   "source": [
    "logs.groupby('user_id').agg({'event_name':'count'}).plot(kind='box',figsize=(5,5), ylim=(0,100))\n",
    "plt.show()"
   ]
  },
  {
   "cell_type": "code",
   "execution_count": 22,
   "metadata": {
    "scrolled": true
   },
   "outputs": [
    {
     "data": {
      "text/html": [
       "<div>\n",
       "<style scoped>\n",
       "    .dataframe tbody tr th:only-of-type {\n",
       "        vertical-align: middle;\n",
       "    }\n",
       "\n",
       "    .dataframe tbody tr th {\n",
       "        vertical-align: top;\n",
       "    }\n",
       "\n",
       "    .dataframe thead th {\n",
       "        text-align: right;\n",
       "    }\n",
       "</style>\n",
       "<table border=\"1\" class=\"dataframe\">\n",
       "  <thead>\n",
       "    <tr style=\"text-align: right;\">\n",
       "      <th></th>\n",
       "      <th>event_name</th>\n",
       "    </tr>\n",
       "  </thead>\n",
       "  <tbody>\n",
       "    <tr>\n",
       "      <th>count</th>\n",
       "      <td>7_551.00</td>\n",
       "    </tr>\n",
       "    <tr>\n",
       "      <th>mean</th>\n",
       "      <td>32.28</td>\n",
       "    </tr>\n",
       "    <tr>\n",
       "      <th>std</th>\n",
       "      <td>65.15</td>\n",
       "    </tr>\n",
       "    <tr>\n",
       "      <th>min</th>\n",
       "      <td>1.00</td>\n",
       "    </tr>\n",
       "    <tr>\n",
       "      <th>25%</th>\n",
       "      <td>9.00</td>\n",
       "    </tr>\n",
       "    <tr>\n",
       "      <th>50%</th>\n",
       "      <td>20.00</td>\n",
       "    </tr>\n",
       "    <tr>\n",
       "      <th>75%</th>\n",
       "      <td>37.00</td>\n",
       "    </tr>\n",
       "    <tr>\n",
       "      <th>max</th>\n",
       "      <td>2_307.00</td>\n",
       "    </tr>\n",
       "  </tbody>\n",
       "</table>\n",
       "</div>"
      ],
      "text/plain": [
       "       event_name\n",
       "count    7_551.00\n",
       "mean        32.28\n",
       "std         65.15\n",
       "min          1.00\n",
       "25%          9.00\n",
       "50%         20.00\n",
       "75%         37.00\n",
       "max      2_307.00"
      ]
     },
     "execution_count": 22,
     "metadata": {},
     "output_type": "execute_result"
    }
   ],
   "source": [
    "logs.groupby('user_id').agg({'event_name':'count'}).describe()"
   ]
  },
  {
   "cell_type": "code",
   "execution_count": 23,
   "metadata": {
    "scrolled": false
   },
   "outputs": [
    {
     "data": {
      "text/plain": [
       "Int64Index([   7702139951469979,   15708180189885246,   18658818197810381,\n",
       "              77364241990273403,   91292479590032512,  133486548927612375,\n",
       "             175525166103203661,  197027893265565660,  205293431553451771,\n",
       "             214508220474797491,\n",
       "            ...\n",
       "            9110248565804959041, 9148362922061241421, 9149962210250466129,\n",
       "            9163988972649326428, 9168350852884069895, 9182444363400946277,\n",
       "            9187990861085277398, 9203989356000728141, 9206002508877262744,\n",
       "            9212420551954885212],\n",
       "           dtype='int64', name='user_id', length=522)"
      ]
     },
     "execution_count": 23,
     "metadata": {},
     "output_type": "execute_result"
    }
   ],
   "source": [
    "# пользователи, превышающие верхнюю границу боксплота:\n",
    "ejection_values = logs.groupby('user_id').agg({'event_name':'count'})[logs.groupby('user_id').agg({'event_name':'count'})['event_name'] >= 78].index\n",
    "ejection_values"
   ]
  },
  {
   "cell_type": "markdown",
   "metadata": {},
   "source": [
    "### Данными за какой период мы располагаем? Найдём максимальную и минимальную дату.Построим гистограмму по дате и времени. Можно ли быть уверенным, что у нас одинаково полные данные за весь период? Технически в логи новых дней по некоторым пользователям могут «доезжать» события из прошлого — это может «перекашивать данные». Определим, с какого момента данные полные и отбросим более старые. Данными за какой период времени вы располагаете на самом деле?"
   ]
  },
  {
   "cell_type": "code",
   "execution_count": 25,
   "metadata": {},
   "outputs": [
    {
     "name": "stdout",
     "output_type": "stream",
     "text": [
      "Нижняя граница по дате и времени: 2019-07-25 04:43:36\n",
      "Верхняя граница по дате и времени: 2019-08-07 21:15:17\n",
      "--------------------------------------------------------------------\n",
      "Нижняя граница по дате и времени: 2019-07-25 00:00:00\n",
      "Верхняя граница по дате и времени: 2019-08-07 00:00:00\n"
     ]
    }
   ],
   "source": [
    "print('Нижняя граница по дате и времени:', logs['event_timestamp'].min())\n",
    "print('Верхняя граница по дате и времени:', logs['event_timestamp'].max())\n",
    "print('--------------------------------------------------------------------')\n",
    "print('Нижняя граница по дате и времени:', logs['date'].min())\n",
    "print('Верхняя граница по дате и времени:', logs['date'].max())"
   ]
  },
  {
   "cell_type": "code",
   "execution_count": 26,
   "metadata": {
    "scrolled": true
   },
   "outputs": [
    {
     "data": {
      "image/png": "[encoded data removed]",
      "text/plain": [
       "<Figure size 1152x360 with 1 Axes>"
      ]
     },
     "metadata": {
      "needs_background": "light"
     },
     "output_type": "display_data"
    }
   ],
   "source": [
    "plt.figure(figsize=[16,5])\n",
    "plt.hist(logs['event_timestamp'])\n",
    "plt.title('График распределения времени')\n",
    "plt.axhline(y=2000, color='orange', linestyle='--')\n",
    "plt.axhline(y=38000, color='green', linestyle='--')\n",
    "plt.axhline(y=54000, color='red', linestyle='--')\n",
    "\n",
    "plt.show()"
   ]
  },
  {
   "cell_type": "code",
   "execution_count": 28,
   "metadata": {},
   "outputs": [
    {
     "data": {
      "image/png": "[encoded data removed]",
      "text/plain": [
       "<Figure size 1008x360 with 1 Axes>"
      ]
     },
     "metadata": {
      "needs_background": "light"
     },
     "output_type": "display_data"
    }
   ],
   "source": [
    "# Здесь данные до 1 августа включены, бинами по-моему попал\n",
    "logs['event_timestamp'].hist(bins=20*8, figsize=(14, 5));"
   ]
  },
  {
   "cell_type": "markdown",
   "metadata": {},
   "source": [
    "#### Вывод: \n",
    "\n",
    "- В нашем распоряжении данные с 27 июля по по 7 августа. \n",
    "- По гистограмме видим, что в данных есть перекосы по дням, данные более или менее стабилизировались с 1 августа.\n",
    "- За весь период они неполные\n",
    "- Полными данными буду считать те, которые зарегистрированы с 1 августа\n",
    "- На самом деле в нашем распоряжении данные с 1 по 7 августа "
   ]
  },
  {
   "cell_type": "markdown",
   "metadata": {},
   "source": [
    "### Много ли событий и пользователей мы потеряли, отбросив старые данные?"
   ]
  },
  {
   "cell_type": "code",
   "execution_count": 29,
   "metadata": {},
   "outputs": [],
   "source": [
    "# cохраняю объём данных до отсечения старых данных\n",
    "volume_before = logs.shape[0]"
   ]
  },
  {
   "cell_type": "code",
   "execution_count": 30,
   "metadata": {
    "scrolled": true
   },
   "outputs": [],
   "source": [
    "# cохраняю количество юзеров до отсечения старых данных\n",
    "hash_vol_before = logs.user_id.nunique()"
   ]
  },
  {
   "cell_type": "code",
   "execution_count": 31,
   "metadata": {},
   "outputs": [],
   "source": [
    "# отсечения данных с 1 августа:\n",
    "logs = logs[logs['date'] >= '2019-08-01']"
   ]
  },
  {
   "cell_type": "code",
   "execution_count": 32,
   "metadata": {
    "scrolled": true
   },
   "outputs": [
    {
     "data": {
      "image/png": "[encoded data removed]",
      "text/plain": [
       "<Figure size 1152x360 with 1 Axes>"
      ]
     },
     "metadata": {
      "needs_background": "light"
     },
     "output_type": "display_data"
    }
   ],
   "source": [
    "plt.figure(figsize=[16,5])\n",
    "plt.hist(logs['event_timestamp'])\n",
    "plt.title('График распределения времени')\n",
    "plt.show()"
   ]
  },
  {
   "cell_type": "markdown",
   "metadata": {},
   "source": [
    "Распределение теперь более или менее плавное"
   ]
  },
  {
   "cell_type": "code",
   "execution_count": 34,
   "metadata": {},
   "outputs": [
    {
     "data": {
      "text/plain": [
       "240887"
      ]
     },
     "execution_count": 34,
     "metadata": {},
     "output_type": "execute_result"
    }
   ],
   "source": [
    "logs.shape[0]"
   ]
  },
  {
   "cell_type": "code",
   "execution_count": 35,
   "metadata": {
    "scrolled": false
   },
   "outputs": [
    {
     "name": "stdout",
     "output_type": "stream",
     "text": [
      "Потеряли 2826 событий, т.е. 1.16% \n",
      "Потеряли 17 Пользователей, т.е. 0.23%   \n"
     ]
    }
   ],
   "source": [
    "volume_after = logs.shape[0]\n",
    "hash_vol_after = logs.user_id.nunique()\n",
    "event_loss= volume_before - volume_after\n",
    "event_loss_perc = round((1 -(volume_after / volume_before))*100,2)\n",
    "text = '''Потеряли {a} событий, т.е. {b}% '''.format(a = event_loss, b = event_loss_perc)\n",
    "print(text)\n",
    "\n",
    "users_loss = hash_vol_before - hash_vol_after\n",
    "user_loss_perc = round(((1 -(hash_vol_after / hash_vol_before))*100),2)\n",
    "text = '''Потеряли {a} Пользователей, т.е. {b}%   '''. format(a = users_loss, b = user_loss_perc)\n",
    "print(text)"
   ]
  },
  {
   "cell_type": "markdown",
   "metadata": {},
   "source": [
    "#### Вывод:\n",
    "\n",
    "- Потеряли 2826 событий, т.е. 1.16% \n",
    "- Потеряли 17 Пользователей, т.е. 0.23% "
   ]
  },
  {
   "cell_type": "markdown",
   "metadata": {},
   "source": [
    "### Проверим, что у нас есть пользователи из всех трёх экспериментальных групп."
   ]
  },
  {
   "cell_type": "code",
   "execution_count": 36,
   "metadata": {
    "scrolled": false
   },
   "outputs": [
    {
     "data": {
      "text/plain": [
       "248    84563\n",
       "246    79302\n",
       "247    77022\n",
       "Name: group, dtype: int64"
      ]
     },
     "execution_count": 36,
     "metadata": {},
     "output_type": "execute_result"
    }
   ],
   "source": [
    "logs.group.value_counts()"
   ]
  },
  {
   "cell_type": "code",
   "execution_count": 37,
   "metadata": {},
   "outputs": [],
   "source": [
    "# Да, данные есть со всех трёх групп, однако в изменённой группе (248) данных больше"
   ]
  },
  {
   "cell_type": "markdown",
   "metadata": {},
   "source": [
    "### Вывод по блоку изучения и проверки данных: \n",
    "\n",
    "- Всего событий в логе: 243713\n",
    "- Всего пользователей в логе: 7551\n",
    "- Всего в среднем событий приходится на пользователя: 31.97\n",
    "\n",
    "- В нашем распоряжении данные с 27 июля по по 7 августа. \n",
    "- По гистограмме видим, что в данных есть перекосы по дням, данные более или менее стабилизировались с 1 августа.\n",
    "- За весь период они неполные\n",
    "- Полными данными буду считать те, которые зарегистрированы с 1 августа\n",
    "- На самом деле в нашем распоряжении данные с 1 по 7 августа \n",
    "- Данные по всех трём экспериментальным группам присутствуют\n",
    "\n",
    "- Потеряли 2826 событий, т.е. 1.16% \n",
    "- Потеряли 17 Пользователей, т.е. 0.23%   "
   ]
  },
  {
   "cell_type": "markdown",
   "metadata": {},
   "source": [
    "## Изучение воронки событий"
   ]
  },
  {
   "cell_type": "markdown",
   "metadata": {},
   "source": [
    "### Посмотрим, какие события есть в логах, как часто они встречаются. Отсортируем события по частоте.Посчитаем, сколько пользователей совершали каждое из этих событий. Отсортируем события по числу пользователей. Посчитаем долю пользователей, которые хоть раз совершали событие."
   ]
  },
  {
   "cell_type": "code",
   "execution_count": 38,
   "metadata": {},
   "outputs": [
    {
     "data": {
      "text/plain": [
       "MainScreenAppear           117328\n",
       "OffersScreenAppear          46333\n",
       "CartScreenAppear            42303\n",
       "PaymentScreenSuccessful     33918\n",
       "Tutorial                     1005\n",
       "Name: event_name, dtype: int64"
      ]
     },
     "execution_count": 38,
     "metadata": {},
     "output_type": "execute_result"
    }
   ],
   "source": [
    "event_cnt = logs['event_name'].value_counts()\n",
    "event_cnt"
   ]
  },
  {
   "cell_type": "code",
   "execution_count": 39,
   "metadata": {
    "scrolled": false
   },
   "outputs": [
    {
     "data": {
      "image/png": "[encoded data removed]",
      "text/plain": [
       "<Figure size 432x288 with 1 Axes>"
      ]
     },
     "metadata": {
      "needs_background": "light"
     },
     "output_type": "display_data"
    }
   ],
   "source": [
    "logs['event_name'].value_counts().plot(kind='bar')\n",
    "plt.show()"
   ]
  },
  {
   "cell_type": "code",
   "execution_count": 40,
   "metadata": {},
   "outputs": [],
   "source": [
    "# В событиях все выглядит логично: идёт снижение от главного меню к окну успешной покупки, инструкцию смотрят минимально"
   ]
  },
  {
   "cell_type": "code",
   "execution_count": 41,
   "metadata": {
    "scrolled": true
   },
   "outputs": [
    {
     "data": {
      "text/plain": [
       "MainScreenAppear          48.71\n",
       "OffersScreenAppear        19.23\n",
       "CartScreenAppear          17.56\n",
       "PaymentScreenSuccessful   14.08\n",
       "Tutorial                   0.42\n",
       "Name: event_name, dtype: float64"
      ]
     },
     "execution_count": 41,
     "metadata": {},
     "output_type": "execute_result"
    }
   ],
   "source": [
    "logs['event_name'].value_counts() / volume_after * 100"
   ]
  },
  {
   "cell_type": "code",
   "execution_count": 43,
   "metadata": {
    "scrolled": true
   },
   "outputs": [
    {
     "data": {
      "text/html": [
       "<div>\n",
       "<style scoped>\n",
       "    .dataframe tbody tr th:only-of-type {\n",
       "        vertical-align: middle;\n",
       "    }\n",
       "\n",
       "    .dataframe tbody tr th {\n",
       "        vertical-align: top;\n",
       "    }\n",
       "\n",
       "    .dataframe thead th {\n",
       "        text-align: right;\n",
       "    }\n",
       "</style>\n",
       "<table border=\"1\" class=\"dataframe\">\n",
       "  <thead>\n",
       "    <tr style=\"text-align: right;\">\n",
       "      <th></th>\n",
       "      <th>user_id</th>\n",
       "      <th>share</th>\n",
       "    </tr>\n",
       "    <tr>\n",
       "      <th>event_name</th>\n",
       "      <th></th>\n",
       "      <th></th>\n",
       "    </tr>\n",
       "  </thead>\n",
       "  <tbody>\n",
       "    <tr>\n",
       "      <th>MainScreenAppear</th>\n",
       "      <td>7419</td>\n",
       "      <td>98.47</td>\n",
       "    </tr>\n",
       "    <tr>\n",
       "      <th>OffersScreenAppear</th>\n",
       "      <td>4593</td>\n",
       "      <td>60.96</td>\n",
       "    </tr>\n",
       "    <tr>\n",
       "      <th>CartScreenAppear</th>\n",
       "      <td>3734</td>\n",
       "      <td>49.56</td>\n",
       "    </tr>\n",
       "    <tr>\n",
       "      <th>PaymentScreenSuccessful</th>\n",
       "      <td>3539</td>\n",
       "      <td>46.97</td>\n",
       "    </tr>\n",
       "    <tr>\n",
       "      <th>Tutorial</th>\n",
       "      <td>840</td>\n",
       "      <td>11.15</td>\n",
       "    </tr>\n",
       "  </tbody>\n",
       "</table>\n",
       "</div>"
      ],
      "text/plain": [
       "                         user_id  share\n",
       "event_name                             \n",
       "MainScreenAppear            7419  98.47\n",
       "OffersScreenAppear          4593  60.96\n",
       "CartScreenAppear            3734  49.56\n",
       "PaymentScreenSuccessful     3539  46.97\n",
       "Tutorial                     840  11.15"
      ]
     },
     "execution_count": 43,
     "metadata": {},
     "output_type": "execute_result"
    }
   ],
   "source": [
    "share = logs.groupby('event_name').agg({'user_id':'nunique'})\n",
    "share['share'] = (share['user_id'] / len(logs['user_id'].unique())) * 100\n",
    "\n",
    "share.sort_values(by='share', ascending=False)"
   ]
  },
  {
   "cell_type": "markdown",
   "metadata": {},
   "source": [
    "не все пользователи прошли этап MainScreenAppear, а раз они попали в базу, возможно они перед этим зашли в Tutorial"
   ]
  },
  {
   "cell_type": "markdown",
   "metadata": {},
   "source": [
    "#### Вывод:\n",
    "\n",
    "- Чаще всего в начале заходят на главное меню, затем юзер идет в каталог, а там уже - окно с картой и оплатой\n",
    "- Не все выстраиваеваются в последовательную цепочку и проходят все этапы, иначе у нас была бы не воронка, а \"труба\", где на входе и выходе было одинаковое количество людей"
   ]
  },
  {
   "cell_type": "markdown",
   "metadata": {},
   "source": [
    "### По воронке событий посчитайте, какая доля пользователей проходит на следующий шаг воронки (от числа пользователей на предыдущем). То есть для последовательности событий A → B → C посчитайте отношение числа пользователей с событием B к количеству пользователей с событием A, а также отношение числа пользователей с событием C к количеству пользователей с событием B. "
   ]
  },
  {
   "cell_type": "code",
   "execution_count": 44,
   "metadata": {
    "scrolled": true
   },
   "outputs": [
    {
     "data": {
      "text/html": [
       "<div>\n",
       "<style scoped>\n",
       "    .dataframe tbody tr th:only-of-type {\n",
       "        vertical-align: middle;\n",
       "    }\n",
       "\n",
       "    .dataframe tbody tr th {\n",
       "        vertical-align: top;\n",
       "    }\n",
       "\n",
       "    .dataframe thead th {\n",
       "        text-align: right;\n",
       "    }\n",
       "</style>\n",
       "<table border=\"1\" class=\"dataframe\">\n",
       "  <thead>\n",
       "    <tr style=\"text-align: right;\">\n",
       "      <th></th>\n",
       "      <th>user_id</th>\n",
       "      <th>percent</th>\n",
       "    </tr>\n",
       "    <tr>\n",
       "      <th>event_name</th>\n",
       "      <th></th>\n",
       "      <th></th>\n",
       "    </tr>\n",
       "  </thead>\n",
       "  <tbody>\n",
       "    <tr>\n",
       "      <th>MainScreenAppear</th>\n",
       "      <td>7419</td>\n",
       "      <td>100</td>\n",
       "    </tr>\n",
       "    <tr>\n",
       "      <th>OffersScreenAppear</th>\n",
       "      <td>4593</td>\n",
       "      <td>61</td>\n",
       "    </tr>\n",
       "    <tr>\n",
       "      <th>CartScreenAppear</th>\n",
       "      <td>3734</td>\n",
       "      <td>81</td>\n",
       "    </tr>\n",
       "    <tr>\n",
       "      <th>PaymentScreenSuccessful</th>\n",
       "      <td>3539</td>\n",
       "      <td>94</td>\n",
       "    </tr>\n",
       "    <tr>\n",
       "      <th>Tutorial</th>\n",
       "      <td>840</td>\n",
       "      <td>23</td>\n",
       "    </tr>\n",
       "  </tbody>\n",
       "</table>\n",
       "</div>"
      ],
      "text/plain": [
       "                         user_id  percent\n",
       "event_name                               \n",
       "MainScreenAppear            7419      100\n",
       "OffersScreenAppear          4593       61\n",
       "CartScreenAppear            3734       81\n",
       "PaymentScreenSuccessful     3539       94\n",
       "Tutorial                     840       23"
      ]
     },
     "execution_count": 44,
     "metadata": {},
     "output_type": "execute_result"
    }
   ],
   "source": [
    "funnel = logs.groupby('event_name').agg({'user_id': 'nunique'}).sort_values(by = 'user_id', ascending = False)\n",
    "funnel['percent'] = 0\n",
    "for i in range(0,len(funnel['user_id'])):\n",
    "    if i == 0:\n",
    "        funnel['percent'][i] = 100\n",
    "    else:\n",
    "        funnel['percent'][i] = round(funnel['user_id'][i] / funnel['user_id'][i-1]*100,2)\n",
    "funnel"
   ]
  },
  {
   "cell_type": "markdown",
   "metadata": {},
   "source": [
    "#### Вывод:\n",
    "\n",
    "- От MainScreenAppear к OffersScreenAppear - добрались 61% пользователей\n",
    "- От OffersScreenAppear к CartScreenAppear - добрались 81%\n",
    "- От CartScreenAppear к PaymentScreenSuccessful - добрались 94% пользователей\n",
    "- От PaymentScreenSuccessful к Tutorial - добрались 23% пользователей"
   ]
  },
  {
   "cell_type": "markdown",
   "metadata": {},
   "source": [
    "#### Вывод:\n",
    "\n",
    "**Доля пользователей, совершивших каждое из событий:**\n",
    "-  MainScreenAppear-98.47%\n",
    "- OffersScreenAppear-60.96%\n",
    "- CartScreenAppear-49.56%\n",
    "- PaymentScreenSuccessful-46.97%\n",
    "- Tutoria-11.15%\n",
    "\n",
    "**Доля пользователей, прошедших на следующий этап, относительно предыдущего:**\n",
    "\n",
    "- От MainScreenAppear к OffersScreenAppear - добрались 61% пользователей\n",
    "- От OffersScreenAppear к CartScreenAppear - добрались 81%\n",
    "- От CartScreenAppear к PaymentScreenSuccessful - добрались 94% пользователей\n",
    "- От PaymentScreenSuccessful к Tutorial - добрались 23% пользователей"
   ]
  },
  {
   "cell_type": "markdown",
   "metadata": {},
   "source": [
    "### Сколько пользователей в каждой экспериментальной группе? Есть 2 контрольные группы для А/А-эксперимента, чтобы проверить корректность всех механизмов и расчётов."
   ]
  },
  {
   "cell_type": "code",
   "execution_count": 45,
   "metadata": {
    "scrolled": true
   },
   "outputs": [
    {
     "data": {
      "text/html": [
       "<div>\n",
       "<style scoped>\n",
       "    .dataframe tbody tr th:only-of-type {\n",
       "        vertical-align: middle;\n",
       "    }\n",
       "\n",
       "    .dataframe tbody tr th {\n",
       "        vertical-align: top;\n",
       "    }\n",
       "\n",
       "    .dataframe thead th {\n",
       "        text-align: right;\n",
       "    }\n",
       "</style>\n",
       "<table border=\"1\" class=\"dataframe\">\n",
       "  <thead>\n",
       "    <tr style=\"text-align: right;\">\n",
       "      <th></th>\n",
       "      <th>user_id</th>\n",
       "    </tr>\n",
       "    <tr>\n",
       "      <th>group</th>\n",
       "      <th></th>\n",
       "    </tr>\n",
       "  </thead>\n",
       "  <tbody>\n",
       "    <tr>\n",
       "      <th>246</th>\n",
       "      <td>2484</td>\n",
       "    </tr>\n",
       "    <tr>\n",
       "      <th>247</th>\n",
       "      <td>2513</td>\n",
       "    </tr>\n",
       "    <tr>\n",
       "      <th>248</th>\n",
       "      <td>2537</td>\n",
       "    </tr>\n",
       "  </tbody>\n",
       "</table>\n",
       "</div>"
      ],
      "text/plain": [
       "       user_id\n",
       "group         \n",
       "246       2484\n",
       "247       2513\n",
       "248       2537"
      ]
     },
     "execution_count": 45,
     "metadata": {},
     "output_type": "execute_result"
    }
   ],
   "source": [
    "logs.groupby('group').agg({'user_id':'nunique'})"
   ]
  },
  {
   "cell_type": "markdown",
   "metadata": {},
   "source": [
    "**Вывод:**\n",
    "\n",
    "246 - 2484 человек\n",
    "\n",
    "247 - 2513 человек\n",
    "\n",
    "248 - 2537 человек"
   ]
  },
  {
   "cell_type": "code",
   "execution_count": 46,
   "metadata": {},
   "outputs": [],
   "source": [
    "# а если убрать tutorial, который проходит крайне малая часть?"
   ]
  },
  {
   "cell_type": "code",
   "execution_count": 47,
   "metadata": {},
   "outputs": [
    {
     "name": "stdout",
     "output_type": "stream",
     "text": [
      "group\n",
      "246       2483\n",
      "247       2512\n",
      "248       2535\n",
      "246247    4995\n",
      "Name: user_id, dtype: int64\n"
     ]
    }
   ],
   "source": [
    "# количество пользователей в каждой экспериментальной группе\n",
    "data_new = logs.query('event_name != \"Tutorial\"') # убираем данное событие, чтобы оно не попала в воронку\n",
    "# количество пользователей в каждой группе\n",
    "users_group = data_new.groupby('group')['user_id'].nunique()\n",
    "\n",
    "users_group[246247] = users_group[246] + users_group[247]\n",
    "\n",
    "print(users_group)"
   ]
  },
  {
   "cell_type": "code",
   "execution_count": 48,
   "metadata": {},
   "outputs": [],
   "source": [
    "data_246 = data_new[data_new['group'] == 246]\n",
    "\n",
    "data_247 = data_new[data_new['group'] == 247]\n",
    "\n",
    "data_248 = data_new[data_new['group'] == 248]"
   ]
  },
  {
   "cell_type": "markdown",
   "metadata": {},
   "source": [
    "### Проверим, находят ли статистические критерии разницу между выборками 246 и 247."
   ]
  },
  {
   "cell_type": "markdown",
   "metadata": {},
   "source": [
    "- Нулевая гипотеза: разницы долей между группами нет\n",
    "- Альтернативная гипотеза: разница долей между группами есть"
   ]
  },
  {
   "cell_type": "code",
   "execution_count": 49,
   "metadata": {
    "scrolled": false
   },
   "outputs": [
    {
     "name": "stdout",
     "output_type": "stream",
     "text": [
      "group                    246     247     248     246247\n",
      "event_name                                             \n",
      "MainScreenAppear           2450    2476    2493    4926\n",
      "OffersScreenAppear         1542    1520    1531    3062\n",
      "CartScreenAppear           1266    1238    1230    2504\n",
      "PaymentScreenSuccessful    1200    1158    1181    2358\n",
      "Tutorial                    278     283     279     561\n"
     ]
    }
   ],
   "source": [
    "# создаю таблицу с поддержкой пользователей на каждое событие\n",
    "group_event = (\n",
    "    logs.query('event_name != \"Учебник\"')\n",
    "    .pivot_table(index='event_name', columns='group', values='user_id', aggfunc='nunique')\n",
    "    .sort_values (by = 246 , ascending = False)\n",
    "              )\n",
    "group_event[246247] = group_event[246] + group_event[247]\n",
    "print(group_event)"
   ]
  },
  {
   "cell_type": "code",
   "execution_count": 50,
   "metadata": {},
   "outputs": [
    {
     "data": {
      "text/plain": [
       "group\n",
       "246       2483\n",
       "247       2512\n",
       "248       2535\n",
       "246247    4995\n",
       "Name: user_id, dtype: int64"
      ]
     },
     "execution_count": 50,
     "metadata": {},
     "output_type": "execute_result"
    }
   ],
   "source": [
    "users_group = data_new.groupby('group')['user_id'].nunique()\n",
    "\n",
    "users_group[246247] = users_group[246] + users_group[247]\n",
    "users_group"
   ]
  },
  {
   "cell_type": "code",
   "execution_count": 51,
   "metadata": {},
   "outputs": [],
   "source": [
    "# затем идет функция проверки статистической разницы\n",
    "def z_test (group_1, group_2, alpha, event_name):\n",
    "    alpha = alpha\n",
    " \n",
    "    success_1 = group_event.loc[event_name, group_1]\n",
    "    success_2 = group_event.loc[event_name, group_2]\n",
    " \n",
    "    users_count_1 = users_group.loc[group_1]\n",
    "    users_count_2 = users_group.loc[group_2] \n",
    " \n",
    "    p1 = success_1 / users_count_1\n",
    "    p2 = success_2 / users_count_2\n",
    " \n",
    "    p_combined = (success_1 + success_2) / (users_count_1 + users_count_2)\n",
    " \n",
    "    diff = p1 - p2\n",
    " \n",
    "    z_value = diff / mth.sqrt(p_combined * (1 - p_combined) * (1/users_count_1 + 1/users_count_2))\n",
    " \n",
    "    distr = st.norm(0, 1)\n",
    " \n",
    "    p_value = (1 - distr.cdf(abs(z_value))) * 2\n",
    " \n",
    "    print('p-значение: ', p_value)\n",
    " \n",
    "    if p_value < alpha:\n",
    "        print('Отвергаем H0')\n",
    "    else:\n",
    "        print('Не получилось отвергнуть H0')\n",
    " "
   ]
  },
  {
   "cell_type": "code",
   "execution_count": 52,
   "metadata": {},
   "outputs": [
    {
     "name": "stdout",
     "output_type": "stream",
     "text": [
      "MainScreenAppear\n",
      "p-значение:  0.7526703436483038\n",
      "Не получилось отвергнуть H0\n",
      "\n",
      "OffersScreenAppear\n",
      "p-значение:  0.24786096925282264\n",
      "Не получилось отвергнуть H0\n",
      "\n",
      "CartScreenAppear\n",
      "p-значение:  0.22867643757335676\n",
      "Не получилось отвергнуть H0\n",
      "\n",
      "PaymentScreenSuccessful\n",
      "p-значение:  0.11446627829276612\n",
      "Не получилось отвергнуть H0\n",
      "\n",
      "Tutorial\n",
      "p-значение:  0.9377445121288748\n",
      "Не получилось отвергнуть H0\n",
      "\n"
     ]
    }
   ],
   "source": [
    " \n",
    "# результаты с каждой из контрольных групп в зависимости от каждого событию\n",
    "for event_name in group_event.index:\n",
    "    print(event_name)\n",
    "    z_test(246, 247, 0.01, event_name)\n",
    "    print()"
   ]
  },
  {
   "cell_type": "code",
   "execution_count": 53,
   "metadata": {},
   "outputs": [
    {
     "name": "stdout",
     "output_type": "stream",
     "text": [
      "MainScreenAppear\n",
      "p-значение:  0.3387114076159288\n",
      "Не получилось отвергнуть H0\n",
      "\n",
      "OffersScreenAppear\n",
      "p-значение:  0.21442476639710506\n",
      "Не получилось отвергнуть H0\n",
      "\n",
      "CartScreenAppear\n",
      "p-значение:  0.08067367598823139\n",
      "Не получилось отвергнуть H0\n",
      "\n",
      "PaymentScreenSuccessful\n",
      "p-значение:  0.21693033984516674\n",
      "Не получилось отвергнуть H0\n",
      "\n",
      "Tutorial\n",
      "p-значение:  0.830187987566146\n",
      "Не получилось отвергнуть H0\n",
      "\n"
     ]
    }
   ],
   "source": [
    " \n",
    "# результаты с каждой из контрольных групп в зависимости от каждого событию\n",
    "for event_name in group_event.index:\n",
    "    print(event_name)\n",
    "    z_test(246, 248, 0.01, event_name)\n",
    "    print()"
   ]
  },
  {
   "cell_type": "code",
   "execution_count": 54,
   "metadata": {},
   "outputs": [
    {
     "name": "stdout",
     "output_type": "stream",
     "text": [
      "MainScreenAppear\n",
      "p-значение:  0.3486684291093256\n",
      "Не получилось отвергнуть H0\n",
      "\n",
      "OffersScreenAppear\n",
      "p-значение:  0.44582745409482394\n",
      "Не получилось отвергнуть H0\n",
      "\n",
      "CartScreenAppear\n",
      "p-значение:  0.18683558686831558\n",
      "Не получилось отвергнуть H0\n",
      "\n",
      "PaymentScreenSuccessful\n",
      "p-значение:  0.6107918742187335\n",
      "Не получилось отвергнуть H0\n",
      "\n",
      "Tutorial\n",
      "p-значение:  0.7691494385307878\n",
      "Не получилось отвергнуть H0\n",
      "\n"
     ]
    }
   ],
   "source": [
    "# результаты с объединенной контрольной группой\n",
    "for event_name in group_event.index:\n",
    "    print(event_name)\n",
    "    z_test(246247, 248, 0.01, event_name)\n",
    "    print()"
   ]
  },
  {
   "cell_type": "markdown",
   "metadata": {},
   "source": [
    "## Вывод:"
   ]
  },
  {
   "cell_type": "markdown",
   "metadata": {},
   "source": [
    "- С данными проведена предобработка, проведён исследовательский анализ, построены графики распределения событий по времени, распределение событий на человека, воронка событий, посчитаны конверсии пользователей от события к событию (также потери), сделан статистический анализ\n",
    "- Весомого отличия контрольной группы от групп 246, 247 не обнаружено\n",
    "- **248 группа лучше**, сравнение этой группы с комплексной дало p-значение: 0.6107918742187335 во время z-test\n",
    "\n",
    "**Доля пользователей, совершивших каждое из событий:**\n",
    "-  MainScreenAppear-98.47%\n",
    "- OffersScreenAppear-60.96%\n",
    "- CartScreenAppear-49.56%\n",
    "- PaymentScreenSuccessful-46.97%\n",
    "- Tutoria-11.15%\n",
    "\n",
    "**Доля пользователей, прошедших на следующий этап, относительно предыдущего:**\n",
    "\n",
    "- От MainScreenAppear к OffersScreenAppear - добрались 61% пользователей\n",
    "- От OffersScreenAppear к CartScreenAppear - добрались 81%\n",
    "- От CartScreenAppear к PaymentScreenSuccessful - добрались 94% пользователей\n",
    "- От PaymentScreenSuccessful к Tutorial - добрались 23% пользователей"
   ]
  }
 ],
 "metadata": {
  "ExecuteTimeLog": [
   {
    "duration": 1288,
    "start_time": "2023-03-09T14:23:19.396Z"
   },
   {
    "duration": 4,
    "start_time": "2023-03-09T14:23:24.907Z"
   },
   {
    "duration": 883,
    "start_time": "2023-03-09T14:24:08.925Z"
   },
   {
    "duration": 202,
    "start_time": "2023-03-09T14:24:23.317Z"
   },
   {
    "duration": 71,
    "start_time": "2023-03-09T14:24:32.901Z"
   },
   {
    "duration": 27,
    "start_time": "2023-03-09T14:24:42.182Z"
   },
   {
    "duration": 5,
    "start_time": "2023-03-09T14:24:50.013Z"
   },
   {
    "duration": 59,
    "start_time": "2023-03-09T14:24:56.879Z"
   },
   {
    "duration": 88,
    "start_time": "2023-03-09T14:25:03.980Z"
   },
   {
    "duration": 20,
    "start_time": "2023-03-09T14:25:12.077Z"
   },
   {
    "duration": 191,
    "start_time": "2023-03-09T14:25:21.671Z"
   },
   {
    "duration": 9,
    "start_time": "2023-03-09T14:46:21.808Z"
   },
   {
    "duration": 109,
    "start_time": "2023-03-09T14:46:32.084Z"
   },
   {
    "duration": 13,
    "start_time": "2023-03-09T14:46:34.670Z"
   },
   {
    "duration": 18,
    "start_time": "2023-03-09T14:46:37.897Z"
   },
   {
    "duration": 18,
    "start_time": "2023-03-09T14:46:50.705Z"
   },
   {
    "duration": 8,
    "start_time": "2023-03-09T14:57:04.709Z"
   },
   {
    "duration": 13,
    "start_time": "2023-03-09T14:57:13.965Z"
   },
   {
    "duration": 4,
    "start_time": "2023-03-09T14:57:39.206Z"
   },
   {
    "duration": 9,
    "start_time": "2023-03-09T14:59:26.173Z"
   },
   {
    "duration": 31,
    "start_time": "2023-03-09T15:02:16.844Z"
   },
   {
    "duration": 4,
    "start_time": "2023-03-09T15:04:06.302Z"
   },
   {
    "duration": 318,
    "start_time": "2023-03-09T15:04:10.689Z"
   },
   {
    "duration": 246,
    "start_time": "2023-03-09T15:04:49.889Z"
   },
   {
    "duration": 16,
    "start_time": "2023-03-09T15:05:03.163Z"
   },
   {
    "duration": 254,
    "start_time": "2023-03-09T15:05:07.080Z"
   },
   {
    "duration": 974,
    "start_time": "2023-03-09T15:06:14.252Z"
   },
   {
    "duration": 954,
    "start_time": "2023-03-09T15:06:23.150Z"
   },
   {
    "duration": 25,
    "start_time": "2023-03-09T15:07:04.856Z"
   },
   {
    "duration": 854,
    "start_time": "2023-03-09T15:07:17.771Z"
   },
   {
    "duration": 949,
    "start_time": "2023-03-09T15:07:22.275Z"
   },
   {
    "duration": 885,
    "start_time": "2023-03-09T15:07:25.339Z"
   },
   {
    "duration": 21,
    "start_time": "2023-03-09T15:07:48.569Z"
   },
   {
    "duration": 8,
    "start_time": "2023-03-09T15:07:57.899Z"
   },
   {
    "duration": 5,
    "start_time": "2023-03-09T15:08:00.115Z"
   },
   {
    "duration": 4,
    "start_time": "2023-03-09T15:08:10.692Z"
   },
   {
    "duration": 28,
    "start_time": "2023-03-09T15:08:16.435Z"
   },
   {
    "duration": 27,
    "start_time": "2023-03-09T15:08:38.038Z"
   },
   {
    "duration": 7,
    "start_time": "2023-03-09T15:09:59.005Z"
   },
   {
    "duration": 13,
    "start_time": "2023-03-09T15:10:23.102Z"
   },
   {
    "duration": 22,
    "start_time": "2023-03-09T15:10:39.902Z"
   },
   {
    "duration": 36,
    "start_time": "2023-03-09T15:10:48.423Z"
   },
   {
    "duration": 7,
    "start_time": "2023-03-09T15:11:08.070Z"
   },
   {
    "duration": 8,
    "start_time": "2023-03-09T15:11:10.815Z"
   },
   {
    "duration": 169,
    "start_time": "2023-03-09T15:12:59.830Z"
   },
   {
    "duration": 4,
    "start_time": "2023-03-09T15:13:09.173Z"
   },
   {
    "duration": 427,
    "start_time": "2023-03-09T15:13:10.638Z"
   },
   {
    "duration": 35,
    "start_time": "2023-03-09T15:13:22.973Z"
   },
   {
    "duration": 85,
    "start_time": "2023-03-09T15:13:28.238Z"
   },
   {
    "duration": 19,
    "start_time": "2023-03-09T15:13:41.719Z"
   },
   {
    "duration": 135,
    "start_time": "2023-03-09T15:13:44.097Z"
   },
   {
    "duration": 8,
    "start_time": "2023-03-09T15:13:47.815Z"
   },
   {
    "duration": 39,
    "start_time": "2023-03-09T15:13:52.071Z"
   },
   {
    "duration": 162,
    "start_time": "2023-03-09T15:14:07.736Z"
   },
   {
    "duration": 845,
    "start_time": "2023-03-09T15:14:24.669Z"
   },
   {
    "duration": 160,
    "start_time": "2023-03-09T15:14:30.537Z"
   },
   {
    "duration": 5,
    "start_time": "2023-03-09T15:14:46.072Z"
   },
   {
    "duration": 51,
    "start_time": "2023-03-09T15:14:50.440Z"
   },
   {
    "duration": 16,
    "start_time": "2023-03-09T15:14:55.601Z"
   },
   {
    "duration": 4,
    "start_time": "2023-03-09T15:15:27.190Z"
   },
   {
    "duration": 8,
    "start_time": "2023-03-09T15:15:35.315Z"
   },
   {
    "duration": 6,
    "start_time": "2023-03-09T15:15:39.531Z"
   },
   {
    "duration": 162,
    "start_time": "2023-03-09T15:17:21.287Z"
   },
   {
    "duration": 161,
    "start_time": "2023-03-09T15:17:33.992Z"
   },
   {
    "duration": 34,
    "start_time": "2023-03-09T15:18:06.370Z"
   },
   {
    "duration": 22,
    "start_time": "2023-03-09T15:18:13.440Z"
   },
   {
    "duration": 163,
    "start_time": "2023-03-09T15:24:15.300Z"
   },
   {
    "duration": 5,
    "start_time": "2023-03-09T15:24:18.811Z"
   },
   {
    "duration": 52,
    "start_time": "2023-03-09T15:24:29.836Z"
   },
   {
    "duration": 25,
    "start_time": "2023-03-09T15:24:37.429Z"
   },
   {
    "duration": 77,
    "start_time": "2023-03-09T15:24:41.058Z"
   },
   {
    "duration": 854,
    "start_time": "2023-03-09T15:30:08.903Z"
   },
   {
    "duration": 11,
    "start_time": "2023-03-09T15:30:23.207Z"
   },
   {
    "duration": 11,
    "start_time": "2023-03-09T15:30:46.067Z"
   },
   {
    "duration": 11,
    "start_time": "2023-03-09T15:31:51.121Z"
   },
   {
    "duration": 154,
    "start_time": "2023-03-09T15:31:54.873Z"
   },
   {
    "duration": 34,
    "start_time": "2023-03-09T15:31:56.657Z"
   },
   {
    "duration": 5,
    "start_time": "2023-03-09T15:31:58.700Z"
   },
   {
    "duration": 843,
    "start_time": "2023-03-09T15:32:00.137Z"
   },
   {
    "duration": 17,
    "start_time": "2023-03-09T15:32:22.378Z"
   },
   {
    "duration": 15,
    "start_time": "2023-03-09T15:32:26.257Z"
   },
   {
    "duration": 25,
    "start_time": "2023-03-09T15:33:30.483Z"
   },
   {
    "duration": 18,
    "start_time": "2023-03-09T15:33:53.933Z"
   },
   {
    "duration": 161,
    "start_time": "2023-03-09T15:34:01.124Z"
   },
   {
    "duration": 4,
    "start_time": "2023-03-09T15:34:06.212Z"
   },
   {
    "duration": 13,
    "start_time": "2023-03-09T15:34:08.416Z"
   },
   {
    "duration": 13,
    "start_time": "2023-03-09T15:34:10.152Z"
   },
   {
    "duration": 111,
    "start_time": "2023-03-09T15:34:52.958Z"
   },
   {
    "duration": 11,
    "start_time": "2023-03-09T15:34:56.558Z"
   },
   {
    "duration": 36,
    "start_time": "2023-03-09T15:35:08.007Z"
   },
   {
    "duration": 20,
    "start_time": "2023-03-09T15:35:12.766Z"
   },
   {
    "duration": 161,
    "start_time": "2023-03-09T15:35:17.535Z"
   },
   {
    "duration": 5,
    "start_time": "2023-03-09T15:35:21.271Z"
   },
   {
    "duration": 39,
    "start_time": "2023-03-09T15:35:24.150Z"
   },
   {
    "duration": 889,
    "start_time": "2023-03-09T15:35:28.391Z"
   },
   {
    "duration": 5,
    "start_time": "2023-03-09T15:35:44.407Z"
   },
   {
    "duration": 5,
    "start_time": "2023-03-09T15:35:46.201Z"
   },
   {
    "duration": 6,
    "start_time": "2023-03-09T15:36:16.369Z"
   },
   {
    "duration": 6,
    "start_time": "2023-03-09T15:36:22.496Z"
   },
   {
    "duration": 29,
    "start_time": "2023-03-09T15:36:44.896Z"
   },
   {
    "duration": 10,
    "start_time": "2023-03-09T15:36:48.043Z"
   },
   {
    "duration": 161,
    "start_time": "2023-03-09T15:39:02.773Z"
   },
   {
    "duration": 5,
    "start_time": "2023-03-09T15:39:06.702Z"
   },
   {
    "duration": 39,
    "start_time": "2023-03-09T15:39:09.358Z"
   },
   {
    "duration": 20,
    "start_time": "2023-03-09T15:39:16.612Z"
   },
   {
    "duration": 27,
    "start_time": "2023-03-09T15:39:23.051Z"
   },
   {
    "duration": 5,
    "start_time": "2023-03-09T15:39:30.165Z"
   },
   {
    "duration": 163,
    "start_time": "2023-03-09T15:40:08.200Z"
   },
   {
    "duration": 5,
    "start_time": "2023-03-09T15:40:11.109Z"
   },
   {
    "duration": 40,
    "start_time": "2023-03-09T15:40:13.155Z"
   },
   {
    "duration": 8,
    "start_time": "2023-03-09T15:40:17.535Z"
   },
   {
    "duration": 21,
    "start_time": "2023-03-09T15:40:38.928Z"
   },
   {
    "duration": 162,
    "start_time": "2023-03-09T15:42:36.459Z"
   },
   {
    "duration": 4,
    "start_time": "2023-03-09T15:42:40.682Z"
   },
   {
    "duration": 9,
    "start_time": "2023-03-09T15:42:50.757Z"
   },
   {
    "duration": 147,
    "start_time": "2023-03-09T15:45:39.902Z"
   },
   {
    "duration": 151,
    "start_time": "2023-03-09T15:46:03.184Z"
   },
   {
    "duration": 4,
    "start_time": "2023-03-09T15:46:06.768Z"
   },
   {
    "duration": 486,
    "start_time": "2023-03-09T15:46:25.155Z"
   },
   {
    "duration": 544,
    "start_time": "2023-03-09T15:46:47.042Z"
   },
   {
    "duration": 615,
    "start_time": "2023-03-09T15:46:50.576Z"
   },
   {
    "duration": 390,
    "start_time": "2023-03-09T15:46:56.915Z"
   },
   {
    "duration": 50,
    "start_time": "2023-03-09T15:47:12.659Z"
   },
   {
    "duration": 160,
    "start_time": "2023-03-09T15:47:16.509Z"
   },
   {
    "duration": 807,
    "start_time": "2023-03-09T15:47:35.210Z"
   },
   {
    "duration": 8,
    "start_time": "2023-03-09T15:47:43.559Z"
   },
   {
    "duration": 18,
    "start_time": "2023-03-09T15:47:49.139Z"
   },
   {
    "duration": 9,
    "start_time": "2023-03-09T15:48:03.275Z"
   },
   {
    "duration": 158,
    "start_time": "2023-03-09T15:48:08.219Z"
   },
   {
    "duration": 45,
    "start_time": "2023-03-09T15:48:10.959Z"
   },
   {
    "duration": 13,
    "start_time": "2023-03-09T15:48:15.659Z"
   },
   {
    "duration": 877,
    "start_time": "2023-03-09T15:48:17.610Z"
   },
   {
    "duration": 28,
    "start_time": "2023-03-09T15:48:24.763Z"
   },
   {
    "duration": 781,
    "start_time": "2023-03-09T15:48:26.322Z"
   },
   {
    "duration": 11,
    "start_time": "2023-03-09T15:48:31.459Z"
   },
   {
    "duration": 10,
    "start_time": "2023-03-09T15:48:34.109Z"
   },
   {
    "duration": 162,
    "start_time": "2023-03-09T15:48:45.667Z"
   },
   {
    "duration": 35,
    "start_time": "2023-03-09T15:48:56.298Z"
   },
   {
    "duration": 18,
    "start_time": "2023-03-09T15:49:12.178Z"
   },
   {
    "duration": 5,
    "start_time": "2023-03-09T15:49:21.173Z"
   },
   {
    "duration": 1171,
    "start_time": "2023-03-09T15:49:36.429Z"
   },
   {
    "duration": 52,
    "start_time": "2023-03-09T15:49:45.781Z"
   },
   {
    "duration": 176,
    "start_time": "2023-03-09T15:49:49.685Z"
   },
   {
    "duration": 6,
    "start_time": "2023-03-09T15:49:52.711Z"
   },
   {
    "duration": 38,
    "start_time": "2023-03-09T15:50:00.380Z"
   },
   {
    "duration": 1049,
    "start_time": "2023-03-09T15:50:03.197Z"
   },
   {
    "duration": 38,
    "start_time": "2023-03-09T15:50:09.868Z"
   },
   {
    "duration": 202,
    "start_time": "2023-03-09T15:50:14.557Z"
   },
   {
    "duration": 9,
    "start_time": "2023-03-09T15:50:16.937Z"
   },
   {
    "duration": 36,
    "start_time": "2023-03-09T15:50:20.868Z"
   },
   {
    "duration": 948,
    "start_time": "2023-03-09T15:50:25.574Z"
   },
   {
    "duration": 28,
    "start_time": "2023-03-09T15:50:35.415Z"
   },
   {
    "duration": 6,
    "start_time": "2023-03-09T15:50:51.494Z"
   },
   {
    "duration": 47,
    "start_time": "2023-03-09T15:50:52.870Z"
   },
   {
    "duration": 170,
    "start_time": "2023-03-09T15:51:21.364Z"
   },
   {
    "duration": 5,
    "start_time": "2023-03-09T15:51:25.325Z"
   },
   {
    "duration": 44,
    "start_time": "2023-03-09T15:51:27.168Z"
   },
   {
    "duration": 1039,
    "start_time": "2023-03-09T15:51:52.000Z"
   },
   {
    "duration": 6,
    "start_time": "2023-03-09T15:51:56.360Z"
   },
   {
    "duration": 26,
    "start_time": "2023-03-09T15:51:57.695Z"
   },
   {
    "duration": 302,
    "start_time": "2023-03-09T16:01:13.405Z"
   },
   {
    "duration": 278,
    "start_time": "2023-03-09T16:01:32.851Z"
   },
   {
    "duration": 161,
    "start_time": "2023-03-09T16:01:37.959Z"
   },
   {
    "duration": 22,
    "start_time": "2023-03-09T16:01:43.933Z"
   },
   {
    "duration": 5,
    "start_time": "2023-03-09T16:01:51.814Z"
   },
   {
    "duration": 47,
    "start_time": "2023-03-09T16:02:05.062Z"
   },
   {
    "duration": 151,
    "start_time": "2023-03-09T16:02:44.061Z"
   },
   {
    "duration": 4,
    "start_time": "2023-03-09T16:02:57.335Z"
   },
   {
    "duration": 376,
    "start_time": "2023-03-09T16:03:26.359Z"
   },
   {
    "duration": 8,
    "start_time": "2023-03-09T16:05:54.283Z"
   },
   {
    "duration": 47,
    "start_time": "2023-03-09T16:06:14.514Z"
   },
   {
    "duration": 8,
    "start_time": "2023-03-09T16:06:16.779Z"
   },
   {
    "duration": 12,
    "start_time": "2023-03-09T16:06:22.309Z"
   },
   {
    "duration": 8,
    "start_time": "2023-03-09T16:06:31.924Z"
   },
   {
    "duration": 155,
    "start_time": "2023-03-09T16:07:23.650Z"
   },
   {
    "duration": 4,
    "start_time": "2023-03-09T16:07:27.830Z"
   },
   {
    "duration": 395,
    "start_time": "2023-03-09T16:07:29.381Z"
   },
   {
    "duration": 566,
    "start_time": "2023-03-09T16:07:40.292Z"
   },
   {
    "duration": 398,
    "start_time": "2023-03-09T16:07:42.094Z"
   },
   {
    "duration": 362,
    "start_time": "2023-03-09T16:07:43.630Z"
   },
   {
    "duration": 374,
    "start_time": "2023-03-09T16:07:50.157Z"
   },
   {
    "duration": 13,
    "start_time": "2023-03-09T16:09:35.074Z"
   },
   {
    "duration": 998,
    "start_time": "2023-03-09T16:10:50.073Z"
   },
   {
    "duration": 6,
    "start_time": "2023-03-09T16:11:02.138Z"
   },
   {
    "duration": 44,
    "start_time": "2023-03-09T16:11:03.435Z"
   },
   {
    "duration": 152,
    "start_time": "2023-03-09T16:20:53.811Z"
   },
   {
    "duration": 18,
    "start_time": "2023-03-09T16:20:55.712Z"
   },
   {
    "duration": 4,
    "start_time": "2023-03-09T16:20:57.401Z"
   },
   {
    "duration": 14,
    "start_time": "2023-03-09T16:20:59.657Z"
   },
   {
    "duration": 928,
    "start_time": "2023-03-09T16:21:01.984Z"
   },
   {
    "duration": 5,
    "start_time": "2023-03-09T16:21:06.815Z"
   },
   {
    "duration": 38,
    "start_time": "2023-03-09T16:21:08.017Z"
   },
   {
    "duration": 4,
    "start_time": "2023-03-09T16:22:23.856Z"
   },
   {
    "duration": 9,
    "start_time": "2023-03-09T16:23:00.671Z"
   },
   {
    "duration": 4,
    "start_time": "2023-03-09T16:23:35.305Z"
   },
   {
    "duration": 7,
    "start_time": "2023-03-09T16:23:37.687Z"
   },
   {
    "duration": 8,
    "start_time": "2023-03-09T16:25:02.678Z"
   },
   {
    "duration": 33,
    "start_time": "2023-03-09T16:26:52.460Z"
   },
   {
    "duration": 43,
    "start_time": "2023-03-09T16:27:13.237Z"
   },
   {
    "duration": 27,
    "start_time": "2023-03-09T16:27:20.004Z"
   },
   {
    "duration": 58,
    "start_time": "2023-03-09T16:28:45.519Z"
   },
   {
    "duration": 34,
    "start_time": "2023-03-09T16:28:53.685Z"
   },
   {
    "duration": 127,
    "start_time": "2023-03-09T16:30:04.438Z"
   },
   {
    "duration": 0,
    "start_time": "2023-03-09T16:31:02.223Z"
   },
   {
    "duration": 34,
    "start_time": "2023-03-09T16:33:26.925Z"
   },
   {
    "duration": 24,
    "start_time": "2023-03-09T16:33:36.302Z"
   },
   {
    "duration": 9,
    "start_time": "2023-03-09T16:33:53.950Z"
   },
   {
    "duration": 42,
    "start_time": "2023-03-09T16:34:08.783Z"
   },
   {
    "duration": 1464,
    "start_time": "2023-03-09T16:34:14.718Z"
   },
   {
    "duration": 36930,
    "start_time": "2023-03-09T16:34:19.919Z"
   },
   {
    "duration": 1132,
    "start_time": "2023-03-09T16:36:25.600Z"
   },
   {
    "duration": 9,
    "start_time": "2023-03-09T16:36:45.352Z"
   },
   {
    "duration": 12,
    "start_time": "2023-03-09T16:37:14.955Z"
   },
   {
    "duration": 19,
    "start_time": "2023-03-09T16:37:49.130Z"
   },
   {
    "duration": 171,
    "start_time": "2023-03-09T16:37:59.802Z"
   },
   {
    "duration": 159,
    "start_time": "2023-03-09T16:38:23.316Z"
   },
   {
    "duration": 175,
    "start_time": "2023-03-09T16:38:27.330Z"
   },
   {
    "duration": 6,
    "start_time": "2023-03-09T16:38:34.513Z"
   },
   {
    "duration": 189,
    "start_time": "2023-03-09T16:38:43.474Z"
   },
   {
    "duration": 185,
    "start_time": "2023-03-09T16:38:53.226Z"
   },
   {
    "duration": 173,
    "start_time": "2023-03-09T16:38:56.514Z"
   },
   {
    "duration": 166,
    "start_time": "2023-03-09T16:39:02.651Z"
   },
   {
    "duration": 164,
    "start_time": "2023-03-09T16:39:05.465Z"
   },
   {
    "duration": 198,
    "start_time": "2023-03-09T16:39:41.810Z"
   },
   {
    "duration": 313,
    "start_time": "2023-03-09T16:40:10.863Z"
   },
   {
    "duration": 288,
    "start_time": "2023-03-09T16:40:19.157Z"
   },
   {
    "duration": 299,
    "start_time": "2023-03-09T16:40:24.995Z"
   },
   {
    "duration": 326,
    "start_time": "2023-03-09T17:16:28.620Z"
   },
   {
    "duration": 298,
    "start_time": "2023-03-09T17:16:34.387Z"
   },
   {
    "duration": 308,
    "start_time": "2023-03-09T17:17:11.906Z"
   },
   {
    "duration": 4,
    "start_time": "2023-03-09T17:19:16.926Z"
   },
   {
    "duration": 13,
    "start_time": "2023-03-09T17:20:23.375Z"
   },
   {
    "duration": 3,
    "start_time": "2023-03-09T17:20:52.439Z"
   },
   {
    "duration": 142,
    "start_time": "2023-03-09T17:20:53.672Z"
   },
   {
    "duration": 5,
    "start_time": "2023-03-09T17:20:57.519Z"
   },
   {
    "duration": 12,
    "start_time": "2023-03-09T17:20:59.783Z"
   },
   {
    "duration": 840,
    "start_time": "2023-03-09T17:21:04.313Z"
   },
   {
    "duration": 5,
    "start_time": "2023-03-09T17:21:08.282Z"
   },
   {
    "duration": 6,
    "start_time": "2023-03-09T17:21:09.768Z"
   },
   {
    "duration": 3,
    "start_time": "2023-03-09T17:21:25.495Z"
   },
   {
    "duration": 7,
    "start_time": "2023-03-09T17:21:26.599Z"
   },
   {
    "duration": 5,
    "start_time": "2023-03-09T17:21:28.160Z"
   },
   {
    "duration": 297,
    "start_time": "2023-03-09T17:21:39.303Z"
   },
   {
    "duration": 14,
    "start_time": "2023-03-09T17:23:53.371Z"
   },
   {
    "duration": 14,
    "start_time": "2023-03-09T17:23:57.715Z"
   },
   {
    "duration": 14,
    "start_time": "2023-03-09T17:24:01.235Z"
   },
   {
    "duration": 11,
    "start_time": "2023-03-09T17:24:04.397Z"
   },
   {
    "duration": 3,
    "start_time": "2023-03-09T17:24:18.926Z"
   },
   {
    "duration": 8,
    "start_time": "2023-03-09T17:24:18.931Z"
   },
   {
    "duration": 143,
    "start_time": "2023-03-09T17:24:18.940Z"
   },
   {
    "duration": 15,
    "start_time": "2023-03-09T17:24:19.085Z"
   },
   {
    "duration": 6,
    "start_time": "2023-03-09T17:24:19.101Z"
   },
   {
    "duration": 32,
    "start_time": "2023-03-09T17:24:19.108Z"
   },
   {
    "duration": 876,
    "start_time": "2023-03-09T17:24:19.142Z"
   },
   {
    "duration": 4,
    "start_time": "2023-03-09T17:24:20.020Z"
   },
   {
    "duration": 5,
    "start_time": "2023-03-09T17:24:20.039Z"
   },
   {
    "duration": 23,
    "start_time": "2023-03-09T17:24:20.046Z"
   },
   {
    "duration": 139,
    "start_time": "2023-03-09T17:24:20.070Z"
   },
   {
    "duration": 4,
    "start_time": "2023-03-09T17:24:20.210Z"
   },
   {
    "duration": 34,
    "start_time": "2023-03-09T17:24:20.215Z"
   },
   {
    "duration": 17,
    "start_time": "2023-03-09T17:24:20.251Z"
   },
   {
    "duration": 11,
    "start_time": "2023-03-09T17:24:20.269Z"
   },
   {
    "duration": 292,
    "start_time": "2023-03-09T17:24:20.282Z"
   },
   {
    "duration": 3,
    "start_time": "2023-03-09T17:24:40.924Z"
   },
   {
    "duration": 16,
    "start_time": "2023-03-09T17:24:42.340Z"
   },
   {
    "duration": 3,
    "start_time": "2023-03-09T17:24:43.877Z"
   },
   {
    "duration": 2,
    "start_time": "2023-03-09T17:24:48.084Z"
   },
   {
    "duration": 4,
    "start_time": "2023-03-09T17:25:37.943Z"
   },
   {
    "duration": 4,
    "start_time": "2023-03-09T17:25:51.029Z"
   },
   {
    "duration": 3,
    "start_time": "2023-03-09T17:26:03.421Z"
   },
   {
    "duration": 3,
    "start_time": "2023-03-09T17:26:09.023Z"
   },
   {
    "duration": 4,
    "start_time": "2023-03-09T17:26:44.198Z"
   },
   {
    "duration": 3,
    "start_time": "2023-03-09T17:26:54.983Z"
   },
   {
    "duration": 3,
    "start_time": "2023-03-09T17:27:05.303Z"
   },
   {
    "duration": 3,
    "start_time": "2023-03-09T17:27:11.072Z"
   },
   {
    "duration": 3,
    "start_time": "2023-03-09T17:27:19.031Z"
   },
   {
    "duration": 3,
    "start_time": "2023-03-09T17:27:30.407Z"
   },
   {
    "duration": 3,
    "start_time": "2023-03-09T17:27:46.009Z"
   },
   {
    "duration": 4,
    "start_time": "2023-03-09T17:27:52.400Z"
   },
   {
    "duration": 4,
    "start_time": "2023-03-09T17:28:24.720Z"
   },
   {
    "duration": 9,
    "start_time": "2023-03-09T17:28:51.354Z"
   },
   {
    "duration": 7,
    "start_time": "2023-03-09T17:29:06.722Z"
   },
   {
    "duration": 4,
    "start_time": "2023-03-09T17:30:00.507Z"
   },
   {
    "duration": 4,
    "start_time": "2023-03-09T17:30:06.363Z"
   },
   {
    "duration": 4,
    "start_time": "2023-03-09T17:30:26.997Z"
   },
   {
    "duration": 4,
    "start_time": "2023-03-09T17:30:31.628Z"
   },
   {
    "duration": 4,
    "start_time": "2023-03-09T17:33:39.009Z"
   },
   {
    "duration": 4,
    "start_time": "2023-03-09T17:33:50.706Z"
   },
   {
    "duration": 3,
    "start_time": "2023-03-09T17:34:38.501Z"
   },
   {
    "duration": 7,
    "start_time": "2023-03-09T17:34:38.506Z"
   },
   {
    "duration": 161,
    "start_time": "2023-03-09T17:34:38.514Z"
   },
   {
    "duration": 18,
    "start_time": "2023-03-09T17:34:38.677Z"
   },
   {
    "duration": 5,
    "start_time": "2023-03-09T17:34:38.696Z"
   },
   {
    "duration": 39,
    "start_time": "2023-03-09T17:34:38.702Z"
   },
   {
    "duration": 887,
    "start_time": "2023-03-09T17:34:38.743Z"
   },
   {
    "duration": 10,
    "start_time": "2023-03-09T17:34:39.631Z"
   },
   {
    "duration": 4,
    "start_time": "2023-03-09T17:34:39.643Z"
   },
   {
    "duration": 21,
    "start_time": "2023-03-09T17:34:39.650Z"
   },
   {
    "duration": 153,
    "start_time": "2023-03-09T17:34:39.673Z"
   },
   {
    "duration": 3,
    "start_time": "2023-03-09T17:34:39.827Z"
   },
   {
    "duration": 8,
    "start_time": "2023-03-09T17:34:39.840Z"
   },
   {
    "duration": 6,
    "start_time": "2023-03-09T17:34:39.850Z"
   },
   {
    "duration": 5,
    "start_time": "2023-03-09T17:34:39.857Z"
   },
   {
    "duration": 283,
    "start_time": "2023-03-09T17:34:39.864Z"
   },
   {
    "duration": 8,
    "start_time": "2023-03-09T17:34:49.851Z"
   },
   {
    "duration": 9,
    "start_time": "2023-03-09T17:35:09.556Z"
   },
   {
    "duration": 9,
    "start_time": "2023-03-09T17:35:23.652Z"
   },
   {
    "duration": 8,
    "start_time": "2023-03-09T17:36:03.348Z"
   },
   {
    "duration": 3,
    "start_time": "2023-03-09T17:37:21.702Z"
   },
   {
    "duration": 25,
    "start_time": "2023-03-09T17:37:21.707Z"
   },
   {
    "duration": 156,
    "start_time": "2023-03-09T17:37:21.734Z"
   },
   {
    "duration": 17,
    "start_time": "2023-03-09T17:37:21.892Z"
   },
   {
    "duration": 8,
    "start_time": "2023-03-09T17:37:21.911Z"
   },
   {
    "duration": 30,
    "start_time": "2023-03-09T17:37:21.920Z"
   },
   {
    "duration": 930,
    "start_time": "2023-03-09T17:37:21.952Z"
   },
   {
    "duration": 6,
    "start_time": "2023-03-09T17:37:22.884Z"
   },
   {
    "duration": 19,
    "start_time": "2023-03-09T17:37:22.892Z"
   },
   {
    "duration": 34,
    "start_time": "2023-03-09T17:37:22.913Z"
   },
   {
    "duration": 149,
    "start_time": "2023-03-09T17:37:22.948Z"
   },
   {
    "duration": 3,
    "start_time": "2023-03-09T17:37:23.099Z"
   },
   {
    "duration": 14,
    "start_time": "2023-03-09T17:37:23.104Z"
   },
   {
    "duration": 22,
    "start_time": "2023-03-09T17:37:23.120Z"
   },
   {
    "duration": 6,
    "start_time": "2023-03-09T17:37:23.143Z"
   },
   {
    "duration": 305,
    "start_time": "2023-03-09T17:37:23.151Z"
   },
   {
    "duration": 3,
    "start_time": "2023-03-09T17:37:23.458Z"
   },
   {
    "duration": 2,
    "start_time": "2023-03-09T17:37:24.550Z"
   },
   {
    "duration": 9,
    "start_time": "2023-03-09T17:37:25.206Z"
   },
   {
    "duration": 8,
    "start_time": "2023-03-09T17:37:32.775Z"
   },
   {
    "duration": 16,
    "start_time": "2023-03-09T17:37:34.407Z"
   },
   {
    "duration": 3,
    "start_time": "2023-03-09T17:38:00.307Z"
   },
   {
    "duration": 28,
    "start_time": "2023-03-09T17:38:00.312Z"
   },
   {
    "duration": 175,
    "start_time": "2023-03-09T17:38:00.342Z"
   },
   {
    "duration": 20,
    "start_time": "2023-03-09T17:38:00.520Z"
   },
   {
    "duration": 20,
    "start_time": "2023-03-09T17:38:00.542Z"
   },
   {
    "duration": 52,
    "start_time": "2023-03-09T17:38:00.564Z"
   },
   {
    "duration": 968,
    "start_time": "2023-03-09T17:38:00.618Z"
   },
   {
    "duration": 6,
    "start_time": "2023-03-09T17:38:01.588Z"
   },
   {
    "duration": 45,
    "start_time": "2023-03-09T17:38:01.598Z"
   },
   {
    "duration": 73,
    "start_time": "2023-03-09T17:38:01.645Z"
   },
   {
    "duration": 162,
    "start_time": "2023-03-09T17:38:01.720Z"
   },
   {
    "duration": 4,
    "start_time": "2023-03-09T17:38:01.884Z"
   },
   {
    "duration": 31,
    "start_time": "2023-03-09T17:38:01.890Z"
   },
   {
    "duration": 14,
    "start_time": "2023-03-09T17:38:01.923Z"
   },
   {
    "duration": 30,
    "start_time": "2023-03-09T17:38:01.939Z"
   },
   {
    "duration": 336,
    "start_time": "2023-03-09T17:38:01.971Z"
   },
   {
    "duration": 9,
    "start_time": "2023-03-09T17:39:57.938Z"
   },
   {
    "duration": 3,
    "start_time": "2023-03-09T17:40:06.995Z"
   },
   {
    "duration": 7,
    "start_time": "2023-03-09T17:40:08.362Z"
   },
   {
    "duration": 15,
    "start_time": "2023-03-09T17:40:09.266Z"
   },
   {
    "duration": 10,
    "start_time": "2023-03-09T17:40:10.908Z"
   },
   {
    "duration": 11,
    "start_time": "2023-03-09T17:40:26.531Z"
   },
   {
    "duration": 8,
    "start_time": "2023-03-09T17:41:31.821Z"
   },
   {
    "duration": 15,
    "start_time": "2023-03-09T17:42:18.457Z"
   },
   {
    "duration": 9,
    "start_time": "2023-03-09T17:42:24.317Z"
   },
   {
    "duration": 304,
    "start_time": "2023-03-09T17:43:03.311Z"
   },
   {
    "duration": 3,
    "start_time": "2023-03-09T17:43:33.292Z"
   },
   {
    "duration": 7,
    "start_time": "2023-03-09T17:43:33.297Z"
   },
   {
    "duration": 153,
    "start_time": "2023-03-09T17:43:33.305Z"
   },
   {
    "duration": 18,
    "start_time": "2023-03-09T17:43:33.460Z"
   },
   {
    "duration": 5,
    "start_time": "2023-03-09T17:43:33.480Z"
   },
   {
    "duration": 16,
    "start_time": "2023-03-09T17:43:33.487Z"
   },
   {
    "duration": 920,
    "start_time": "2023-03-09T17:43:33.505Z"
   },
   {
    "duration": 14,
    "start_time": "2023-03-09T17:43:34.426Z"
   },
   {
    "duration": 5,
    "start_time": "2023-03-09T17:43:34.442Z"
   },
   {
    "duration": 19,
    "start_time": "2023-03-09T17:43:34.448Z"
   },
   {
    "duration": 151,
    "start_time": "2023-03-09T17:43:34.469Z"
   },
   {
    "duration": 2,
    "start_time": "2023-03-09T17:43:34.622Z"
   },
   {
    "duration": 21,
    "start_time": "2023-03-09T17:43:34.625Z"
   },
   {
    "duration": 6,
    "start_time": "2023-03-09T17:43:34.648Z"
   },
   {
    "duration": 5,
    "start_time": "2023-03-09T17:43:34.656Z"
   },
   {
    "duration": 6,
    "start_time": "2023-03-09T17:43:37.624Z"
   },
   {
    "duration": 316,
    "start_time": "2023-03-09T17:43:38.991Z"
   },
   {
    "duration": 2,
    "start_time": "2023-03-09T17:43:48.199Z"
   },
   {
    "duration": 8,
    "start_time": "2023-03-09T17:43:48.855Z"
   },
   {
    "duration": 6,
    "start_time": "2023-03-09T17:43:50.319Z"
   },
   {
    "duration": 17,
    "start_time": "2023-03-09T17:43:50.919Z"
   },
   {
    "duration": 9,
    "start_time": "2023-03-09T17:43:51.704Z"
   },
   {
    "duration": 7,
    "start_time": "2023-03-09T17:43:53.656Z"
   },
   {
    "duration": 307,
    "start_time": "2023-03-09T17:43:57.824Z"
   },
   {
    "duration": 298,
    "start_time": "2023-03-09T17:44:05.433Z"
   },
   {
    "duration": 3,
    "start_time": "2023-03-09T17:45:02.334Z"
   },
   {
    "duration": 20,
    "start_time": "2023-03-09T17:45:02.339Z"
   },
   {
    "duration": 189,
    "start_time": "2023-03-09T17:45:02.360Z"
   },
   {
    "duration": 26,
    "start_time": "2023-03-09T17:45:02.551Z"
   },
   {
    "duration": 5,
    "start_time": "2023-03-09T17:45:02.580Z"
   },
   {
    "duration": 27,
    "start_time": "2023-03-09T17:45:02.587Z"
   },
   {
    "duration": 905,
    "start_time": "2023-03-09T17:45:02.616Z"
   },
   {
    "duration": 4,
    "start_time": "2023-03-09T17:45:03.523Z"
   },
   {
    "duration": 5,
    "start_time": "2023-03-09T17:45:03.540Z"
   },
   {
    "duration": 21,
    "start_time": "2023-03-09T17:45:03.546Z"
   },
   {
    "duration": 155,
    "start_time": "2023-03-09T17:45:03.568Z"
   },
   {
    "duration": 3,
    "start_time": "2023-03-09T17:45:03.725Z"
   },
   {
    "duration": 15,
    "start_time": "2023-03-09T17:45:03.730Z"
   },
   {
    "duration": 8,
    "start_time": "2023-03-09T17:45:03.746Z"
   },
   {
    "duration": 5,
    "start_time": "2023-03-09T17:45:03.756Z"
   },
   {
    "duration": 283,
    "start_time": "2023-03-09T17:45:03.763Z"
   },
   {
    "duration": 3,
    "start_time": "2023-03-09T17:45:04.962Z"
   },
   {
    "duration": 9,
    "start_time": "2023-03-09T17:45:05.569Z"
   },
   {
    "duration": 8,
    "start_time": "2023-03-09T17:45:06.944Z"
   },
   {
    "duration": 14,
    "start_time": "2023-03-09T17:45:10.234Z"
   },
   {
    "duration": 11,
    "start_time": "2023-03-09T17:45:16.305Z"
   },
   {
    "duration": 8,
    "start_time": "2023-03-09T17:45:17.297Z"
   },
   {
    "duration": 5,
    "start_time": "2023-03-09T17:45:20.019Z"
   },
   {
    "duration": 279,
    "start_time": "2023-03-09T17:45:21.833Z"
   },
   {
    "duration": 23,
    "start_time": "2023-03-09T17:46:16.348Z"
   },
   {
    "duration": 3,
    "start_time": "2023-03-09T17:46:50.217Z"
   },
   {
    "duration": 18,
    "start_time": "2023-03-09T17:46:50.222Z"
   },
   {
    "duration": 152,
    "start_time": "2023-03-09T17:46:50.242Z"
   },
   {
    "duration": 16,
    "start_time": "2023-03-09T17:46:50.396Z"
   },
   {
    "duration": 4,
    "start_time": "2023-03-09T17:46:50.414Z"
   },
   {
    "duration": 29,
    "start_time": "2023-03-09T17:46:50.420Z"
   },
   {
    "duration": 1003,
    "start_time": "2023-03-09T17:46:50.451Z"
   },
   {
    "duration": 7,
    "start_time": "2023-03-09T17:46:51.456Z"
   },
   {
    "duration": 7,
    "start_time": "2023-03-09T17:46:51.464Z"
   },
   {
    "duration": 38,
    "start_time": "2023-03-09T17:46:51.474Z"
   },
   {
    "duration": 170,
    "start_time": "2023-03-09T17:46:51.542Z"
   },
   {
    "duration": 3,
    "start_time": "2023-03-09T17:46:51.714Z"
   },
   {
    "duration": 24,
    "start_time": "2023-03-09T17:46:51.719Z"
   },
   {
    "duration": 9,
    "start_time": "2023-03-09T17:46:51.744Z"
   },
   {
    "duration": 5,
    "start_time": "2023-03-09T17:46:51.755Z"
   },
   {
    "duration": 298,
    "start_time": "2023-03-09T17:46:51.762Z"
   },
   {
    "duration": 2,
    "start_time": "2023-03-09T17:46:52.062Z"
   },
   {
    "duration": 16,
    "start_time": "2023-03-09T17:46:52.066Z"
   },
   {
    "duration": 7,
    "start_time": "2023-03-09T17:46:52.084Z"
   },
   {
    "duration": 16,
    "start_time": "2023-03-09T17:46:56.459Z"
   },
   {
    "duration": 8,
    "start_time": "2023-03-09T17:46:57.276Z"
   },
   {
    "duration": 322,
    "start_time": "2023-03-09T17:47:00.509Z"
   },
   {
    "duration": 26,
    "start_time": "2023-03-09T17:47:05.763Z"
   },
   {
    "duration": 11,
    "start_time": "2023-03-09T17:51:48.867Z"
   },
   {
    "duration": 13,
    "start_time": "2023-03-09T17:51:53.358Z"
   },
   {
    "duration": 203,
    "start_time": "2023-03-09T17:52:02.515Z"
   },
   {
    "duration": 269,
    "start_time": "2023-03-09T17:52:11.464Z"
   },
   {
    "duration": 3,
    "start_time": "2023-03-09T18:01:55.409Z"
   },
   {
    "duration": 7,
    "start_time": "2023-03-09T18:01:55.414Z"
   },
   {
    "duration": 173,
    "start_time": "2023-03-09T18:01:55.423Z"
   },
   {
    "duration": 19,
    "start_time": "2023-03-09T18:01:55.597Z"
   },
   {
    "duration": 27,
    "start_time": "2023-03-09T18:01:55.618Z"
   },
   {
    "duration": 0,
    "start_time": "2023-03-09T18:01:55.653Z"
   },
   {
    "duration": 0,
    "start_time": "2023-03-09T18:01:55.654Z"
   },
   {
    "duration": 0,
    "start_time": "2023-03-09T18:01:55.654Z"
   },
   {
    "duration": 0,
    "start_time": "2023-03-09T18:01:55.655Z"
   },
   {
    "duration": 0,
    "start_time": "2023-03-09T18:01:55.656Z"
   },
   {
    "duration": 0,
    "start_time": "2023-03-09T18:01:55.663Z"
   },
   {
    "duration": 0,
    "start_time": "2023-03-09T18:01:55.667Z"
   },
   {
    "duration": 0,
    "start_time": "2023-03-09T18:01:55.669Z"
   },
   {
    "duration": 0,
    "start_time": "2023-03-09T18:01:55.669Z"
   },
   {
    "duration": 0,
    "start_time": "2023-03-09T18:01:55.671Z"
   },
   {
    "duration": 0,
    "start_time": "2023-03-09T18:01:55.672Z"
   },
   {
    "duration": 0,
    "start_time": "2023-03-09T18:01:55.673Z"
   },
   {
    "duration": 0,
    "start_time": "2023-03-09T18:01:55.674Z"
   },
   {
    "duration": 0,
    "start_time": "2023-03-09T18:01:55.675Z"
   },
   {
    "duration": 0,
    "start_time": "2023-03-09T18:01:55.676Z"
   },
   {
    "duration": 0,
    "start_time": "2023-03-09T18:01:55.677Z"
   },
   {
    "duration": 0,
    "start_time": "2023-03-09T18:01:55.678Z"
   },
   {
    "duration": 0,
    "start_time": "2023-03-09T18:01:55.679Z"
   },
   {
    "duration": 0,
    "start_time": "2023-03-09T18:01:55.679Z"
   },
   {
    "duration": 0,
    "start_time": "2023-03-09T18:01:55.680Z"
   },
   {
    "duration": 67,
    "start_time": "2023-03-09T18:02:30.832Z"
   },
   {
    "duration": 2,
    "start_time": "2023-03-09T18:02:42.796Z"
   },
   {
    "duration": 7,
    "start_time": "2023-03-09T18:02:42.800Z"
   },
   {
    "duration": 162,
    "start_time": "2023-03-09T18:02:42.809Z"
   },
   {
    "duration": 18,
    "start_time": "2023-03-09T18:02:42.973Z"
   },
   {
    "duration": 21,
    "start_time": "2023-03-09T18:02:42.992Z"
   },
   {
    "duration": 4,
    "start_time": "2023-03-09T18:02:43.014Z"
   },
   {
    "duration": 42,
    "start_time": "2023-03-09T18:02:43.019Z"
   },
   {
    "duration": 1023,
    "start_time": "2023-03-09T18:02:43.070Z"
   },
   {
    "duration": 5,
    "start_time": "2023-03-09T18:02:44.095Z"
   },
   {
    "duration": 6,
    "start_time": "2023-03-09T18:02:44.102Z"
   },
   {
    "duration": 41,
    "start_time": "2023-03-09T18:02:44.109Z"
   },
   {
    "duration": 161,
    "start_time": "2023-03-09T18:02:44.151Z"
   },
   {
    "duration": 3,
    "start_time": "2023-03-09T18:02:44.314Z"
   },
   {
    "duration": 13,
    "start_time": "2023-03-09T18:02:44.319Z"
   },
   {
    "duration": 27,
    "start_time": "2023-03-09T18:02:44.334Z"
   },
   {
    "duration": 17,
    "start_time": "2023-03-09T18:02:44.368Z"
   },
   {
    "duration": 289,
    "start_time": "2023-03-09T18:02:44.387Z"
   },
   {
    "duration": 3,
    "start_time": "2023-03-09T18:02:44.677Z"
   },
   {
    "duration": 11,
    "start_time": "2023-03-09T18:02:44.681Z"
   },
   {
    "duration": 14,
    "start_time": "2023-03-09T18:02:44.694Z"
   },
   {
    "duration": 16,
    "start_time": "2023-03-09T18:02:44.709Z"
   },
   {
    "duration": 32,
    "start_time": "2023-03-09T18:02:44.727Z"
   },
   {
    "duration": 28,
    "start_time": "2023-03-09T18:02:44.762Z"
   },
   {
    "duration": 319,
    "start_time": "2023-03-09T18:02:44.793Z"
   },
   {
    "duration": 47,
    "start_time": "2023-03-09T18:02:45.114Z"
   },
   {
    "duration": 46,
    "start_time": "2023-03-09T18:07:06.486Z"
   },
   {
    "duration": 69,
    "start_time": "2023-03-09T18:07:25.118Z"
   },
   {
    "duration": 133,
    "start_time": "2023-03-09T18:24:47.612Z"
   },
   {
    "duration": 24,
    "start_time": "2023-03-09T18:25:32.237Z"
   },
   {
    "duration": 23,
    "start_time": "2023-03-09T18:29:12.502Z"
   },
   {
    "duration": 4,
    "start_time": "2023-03-09T18:29:23.505Z"
   },
   {
    "duration": 4,
    "start_time": "2023-03-09T18:29:27.498Z"
   },
   {
    "duration": 10,
    "start_time": "2023-03-09T18:29:36.114Z"
   },
   {
    "duration": 10,
    "start_time": "2023-03-09T18:29:41.937Z"
   },
   {
    "duration": 10,
    "start_time": "2023-03-09T18:29:45.635Z"
   },
   {
    "duration": 3,
    "start_time": "2023-03-09T18:29:55.322Z"
   },
   {
    "duration": 4,
    "start_time": "2023-03-09T18:29:59.458Z"
   },
   {
    "duration": 3,
    "start_time": "2023-03-09T18:30:12.979Z"
   },
   {
    "duration": 18,
    "start_time": "2023-03-09T18:30:24.906Z"
   },
   {
    "duration": 4,
    "start_time": "2023-03-09T18:30:34.586Z"
   },
   {
    "duration": 21,
    "start_time": "2023-03-09T18:30:51.238Z"
   },
   {
    "duration": 4,
    "start_time": "2023-03-09T18:34:15.785Z"
   },
   {
    "duration": 4,
    "start_time": "2023-03-09T18:34:19.967Z"
   },
   {
    "duration": 4,
    "start_time": "2023-03-09T18:34:39.145Z"
   },
   {
    "duration": 4,
    "start_time": "2023-03-09T18:34:43.679Z"
   },
   {
    "duration": 5,
    "start_time": "2023-03-09T18:34:46.119Z"
   },
   {
    "duration": 4,
    "start_time": "2023-03-09T18:35:23.400Z"
   },
   {
    "duration": 6,
    "start_time": "2023-03-09T18:35:29.745Z"
   },
   {
    "duration": 35,
    "start_time": "2023-03-09T18:35:55.275Z"
   },
   {
    "duration": 34,
    "start_time": "2023-03-09T18:36:43.115Z"
   },
   {
    "duration": 61,
    "start_time": "2023-03-09T18:37:09.257Z"
   },
   {
    "duration": 46,
    "start_time": "2023-03-09T18:37:27.509Z"
   },
   {
    "duration": 189,
    "start_time": "2023-03-09T18:37:39.303Z"
   },
   {
    "duration": 145,
    "start_time": "2023-03-09T18:37:48.708Z"
   },
   {
    "duration": 33,
    "start_time": "2023-03-09T18:38:39.469Z"
   },
   {
    "duration": 146,
    "start_time": "2023-03-09T18:38:54.286Z"
   },
   {
    "duration": 135,
    "start_time": "2023-03-09T18:39:28.430Z"
   },
   {
    "duration": 185,
    "start_time": "2023-03-09T18:39:59.999Z"
   },
   {
    "duration": 87,
    "start_time": "2023-03-09T18:41:57.561Z"
   },
   {
    "duration": 5,
    "start_time": "2023-03-09T18:43:06.694Z"
   },
   {
    "duration": 4,
    "start_time": "2023-03-09T18:43:37.523Z"
   },
   {
    "duration": 696,
    "start_time": "2023-03-09T18:43:44.142Z"
   },
   {
    "duration": 4,
    "start_time": "2023-03-09T18:43:53.912Z"
   },
   {
    "duration": 3,
    "start_time": "2023-03-09T18:43:59.586Z"
   },
   {
    "duration": 9,
    "start_time": "2023-03-09T18:44:35.564Z"
   },
   {
    "duration": 4,
    "start_time": "2023-03-09T18:44:37.476Z"
   },
   {
    "duration": 367,
    "start_time": "2023-03-09T18:44:42.820Z"
   },
   {
    "duration": 71,
    "start_time": "2023-03-09T18:45:32.048Z"
   },
   {
    "duration": 4,
    "start_time": "2023-03-09T18:45:50.057Z"
   },
   {
    "duration": 59,
    "start_time": "2023-03-09T18:47:50.115Z"
   },
   {
    "duration": 167,
    "start_time": "2023-03-09T18:48:06.906Z"
   },
   {
    "duration": 66,
    "start_time": "2023-03-09T18:48:17.860Z"
   },
   {
    "duration": 4,
    "start_time": "2023-03-09T18:51:10.815Z"
   },
   {
    "duration": 8,
    "start_time": "2023-03-09T18:51:10.821Z"
   },
   {
    "duration": 156,
    "start_time": "2023-03-09T18:51:10.830Z"
   },
   {
    "duration": 18,
    "start_time": "2023-03-09T18:51:10.988Z"
   },
   {
    "duration": 19,
    "start_time": "2023-03-09T18:51:11.008Z"
   },
   {
    "duration": 4,
    "start_time": "2023-03-09T18:51:11.041Z"
   },
   {
    "duration": 18,
    "start_time": "2023-03-09T18:51:11.046Z"
   },
   {
    "duration": 906,
    "start_time": "2023-03-09T18:51:11.066Z"
   },
   {
    "duration": 4,
    "start_time": "2023-03-09T18:51:11.975Z"
   },
   {
    "duration": 6,
    "start_time": "2023-03-09T18:51:11.981Z"
   },
   {
    "duration": 5,
    "start_time": "2023-03-09T18:51:11.989Z"
   },
   {
    "duration": 8,
    "start_time": "2023-03-09T18:51:11.996Z"
   },
   {
    "duration": 35,
    "start_time": "2023-03-09T18:51:12.005Z"
   },
   {
    "duration": 5,
    "start_time": "2023-03-09T18:51:12.042Z"
   },
   {
    "duration": 294,
    "start_time": "2023-03-09T18:51:12.048Z"
   },
   {
    "duration": 2,
    "start_time": "2023-03-09T18:51:12.344Z"
   },
   {
    "duration": 14,
    "start_time": "2023-03-09T18:51:12.348Z"
   },
   {
    "duration": 8,
    "start_time": "2023-03-09T18:51:12.364Z"
   },
   {
    "duration": 14,
    "start_time": "2023-03-09T18:51:12.374Z"
   },
   {
    "duration": 14,
    "start_time": "2023-03-09T18:51:12.390Z"
   },
   {
    "duration": 29,
    "start_time": "2023-03-09T18:51:12.406Z"
   },
   {
    "duration": 334,
    "start_time": "2023-03-09T18:51:12.437Z"
   },
   {
    "duration": 25,
    "start_time": "2023-03-09T18:51:12.773Z"
   },
   {
    "duration": 57,
    "start_time": "2023-03-09T18:51:12.801Z"
   },
   {
    "duration": 0,
    "start_time": "2023-03-09T18:51:12.860Z"
   },
   {
    "duration": 0,
    "start_time": "2023-03-09T18:51:12.861Z"
   },
   {
    "duration": 0,
    "start_time": "2023-03-09T18:51:12.862Z"
   },
   {
    "duration": 0,
    "start_time": "2023-03-09T18:51:12.863Z"
   },
   {
    "duration": 0,
    "start_time": "2023-03-09T18:51:12.865Z"
   },
   {
    "duration": 3,
    "start_time": "2023-03-09T18:51:21.670Z"
   },
   {
    "duration": 6,
    "start_time": "2023-03-09T18:51:21.674Z"
   },
   {
    "duration": 148,
    "start_time": "2023-03-09T18:51:21.682Z"
   },
   {
    "duration": 19,
    "start_time": "2023-03-09T18:51:21.832Z"
   },
   {
    "duration": 18,
    "start_time": "2023-03-09T18:51:21.852Z"
   },
   {
    "duration": 4,
    "start_time": "2023-03-09T18:51:21.871Z"
   },
   {
    "duration": 16,
    "start_time": "2023-03-09T18:51:21.877Z"
   },
   {
    "duration": 949,
    "start_time": "2023-03-09T18:51:21.894Z"
   },
   {
    "duration": 5,
    "start_time": "2023-03-09T18:51:22.846Z"
   },
   {
    "duration": 7,
    "start_time": "2023-03-09T18:51:22.852Z"
   },
   {
    "duration": 5,
    "start_time": "2023-03-09T18:51:22.861Z"
   },
   {
    "duration": 9,
    "start_time": "2023-03-09T18:51:22.867Z"
   },
   {
    "duration": 8,
    "start_time": "2023-03-09T18:51:22.877Z"
   },
   {
    "duration": 5,
    "start_time": "2023-03-09T18:51:22.887Z"
   },
   {
    "duration": 332,
    "start_time": "2023-03-09T18:51:22.894Z"
   },
   {
    "duration": 13,
    "start_time": "2023-03-09T18:51:23.228Z"
   },
   {
    "duration": 11,
    "start_time": "2023-03-09T18:51:23.242Z"
   },
   {
    "duration": 6,
    "start_time": "2023-03-09T18:51:23.258Z"
   },
   {
    "duration": 16,
    "start_time": "2023-03-09T18:51:23.266Z"
   },
   {
    "duration": 9,
    "start_time": "2023-03-09T18:51:23.284Z"
   },
   {
    "duration": 8,
    "start_time": "2023-03-09T18:51:23.294Z"
   },
   {
    "duration": 326,
    "start_time": "2023-03-09T18:51:23.303Z"
   },
   {
    "duration": 38,
    "start_time": "2023-03-09T18:51:23.631Z"
   },
   {
    "duration": 20,
    "start_time": "2023-03-09T18:51:28.181Z"
   },
   {
    "duration": 154,
    "start_time": "2023-03-09T18:51:29.774Z"
   },
   {
    "duration": 22,
    "start_time": "2023-03-09T18:51:36.446Z"
   },
   {
    "duration": 19,
    "start_time": "2023-03-09T18:52:06.024Z"
   },
   {
    "duration": 23,
    "start_time": "2023-03-09T18:52:12.812Z"
   },
   {
    "duration": 4,
    "start_time": "2023-03-09T18:52:20.959Z"
   },
   {
    "duration": 13,
    "start_time": "2023-03-09T18:52:27.879Z"
   },
   {
    "duration": 4,
    "start_time": "2023-03-09T18:52:30.918Z"
   },
   {
    "duration": 49,
    "start_time": "2023-03-09T18:52:52.969Z"
   },
   {
    "duration": 66,
    "start_time": "2023-03-09T18:58:39.509Z"
   },
   {
    "duration": 16,
    "start_time": "2023-03-09T19:02:27.227Z"
   },
   {
    "duration": 82,
    "start_time": "2023-03-09T19:03:26.644Z"
   },
   {
    "duration": 73,
    "start_time": "2023-03-09T19:05:17.069Z"
   },
   {
    "duration": 16,
    "start_time": "2023-03-09T19:06:41.828Z"
   },
   {
    "duration": 3,
    "start_time": "2023-03-09T19:07:17.811Z"
   },
   {
    "duration": 46,
    "start_time": "2023-03-09T19:07:57.640Z"
   },
   {
    "duration": 13,
    "start_time": "2023-03-09T19:08:04.272Z"
   },
   {
    "duration": 13,
    "start_time": "2023-03-09T19:10:32.926Z"
   },
   {
    "duration": 21,
    "start_time": "2023-03-09T19:25:48.462Z"
   },
   {
    "duration": 954,
    "start_time": "2023-03-09T19:26:08.969Z"
   },
   {
    "duration": 69,
    "start_time": "2023-03-09T19:26:32.592Z"
   },
   {
    "duration": 21,
    "start_time": "2023-03-09T19:26:39.185Z"
   },
   {
    "duration": 55,
    "start_time": "2023-03-09T19:27:48.266Z"
   },
   {
    "duration": 17,
    "start_time": "2023-03-09T19:28:02.604Z"
   },
   {
    "duration": 7,
    "start_time": "2023-03-09T19:29:16.411Z"
   },
   {
    "duration": 4,
    "start_time": "2023-03-09T19:30:30.483Z"
   },
   {
    "duration": 30,
    "start_time": "2023-03-09T19:30:30.489Z"
   },
   {
    "duration": 220,
    "start_time": "2023-03-09T19:30:30.521Z"
   },
   {
    "duration": 23,
    "start_time": "2023-03-09T19:30:30.743Z"
   },
   {
    "duration": 42,
    "start_time": "2023-03-09T19:30:30.769Z"
   },
   {
    "duration": 65,
    "start_time": "2023-03-09T19:30:30.814Z"
   },
   {
    "duration": 20,
    "start_time": "2023-03-09T19:30:30.881Z"
   },
   {
    "duration": 1114,
    "start_time": "2023-03-09T19:30:30.903Z"
   },
   {
    "duration": 6,
    "start_time": "2023-03-09T19:30:32.019Z"
   },
   {
    "duration": 18,
    "start_time": "2023-03-09T19:30:32.027Z"
   },
   {
    "duration": 30,
    "start_time": "2023-03-09T19:30:32.048Z"
   },
   {
    "duration": 13,
    "start_time": "2023-03-09T19:30:32.080Z"
   },
   {
    "duration": 18,
    "start_time": "2023-03-09T19:30:32.096Z"
   },
   {
    "duration": 6,
    "start_time": "2023-03-09T19:30:32.116Z"
   },
   {
    "duration": 359,
    "start_time": "2023-03-09T19:30:32.125Z"
   },
   {
    "duration": 4,
    "start_time": "2023-03-09T19:30:32.487Z"
   },
   {
    "duration": 18,
    "start_time": "2023-03-09T19:30:32.494Z"
   },
   {
    "duration": 18,
    "start_time": "2023-03-09T19:30:32.515Z"
   },
   {
    "duration": 65,
    "start_time": "2023-03-09T19:30:32.535Z"
   },
   {
    "duration": 16,
    "start_time": "2023-03-09T19:30:32.603Z"
   },
   {
    "duration": 14,
    "start_time": "2023-03-09T19:30:32.621Z"
   },
   {
    "duration": 332,
    "start_time": "2023-03-09T19:30:32.636Z"
   },
   {
    "duration": 33,
    "start_time": "2023-03-09T19:30:32.970Z"
   },
   {
    "duration": 37,
    "start_time": "2023-03-09T19:30:33.005Z"
   },
   {
    "duration": 154,
    "start_time": "2023-03-09T19:30:33.044Z"
   },
   {
    "duration": 2,
    "start_time": "2023-03-09T19:30:33.200Z"
   },
   {
    "duration": 48,
    "start_time": "2023-03-09T19:30:33.204Z"
   },
   {
    "duration": 26,
    "start_time": "2023-03-09T19:30:33.253Z"
   },
   {
    "duration": 10,
    "start_time": "2023-03-09T19:30:33.283Z"
   },
   {
    "duration": 97,
    "start_time": "2023-03-09T19:30:36.702Z"
   },
   {
    "duration": 7,
    "start_time": "2023-03-09T19:30:40.222Z"
   },
   {
    "duration": 4,
    "start_time": "2023-03-09T19:32:17.528Z"
   },
   {
    "duration": 5,
    "start_time": "2023-03-09T19:32:50.680Z"
   },
   {
    "duration": 14,
    "start_time": "2023-03-09T19:33:31.585Z"
   },
   {
    "duration": 10,
    "start_time": "2023-03-09T19:33:35.609Z"
   },
   {
    "duration": 15,
    "start_time": "2023-03-09T19:34:41.747Z"
   },
   {
    "duration": 6,
    "start_time": "2023-03-09T19:34:44.405Z"
   },
   {
    "duration": 13,
    "start_time": "2023-03-09T19:36:21.869Z"
   },
   {
    "duration": 11,
    "start_time": "2023-03-09T19:36:41.504Z"
   },
   {
    "duration": 12,
    "start_time": "2023-03-09T19:36:45.365Z"
   },
   {
    "duration": 9,
    "start_time": "2023-03-09T19:40:30.644Z"
   },
   {
    "duration": 8,
    "start_time": "2023-03-09T19:40:35.786Z"
   },
   {
    "duration": 12,
    "start_time": "2023-03-09T19:40:44.165Z"
   },
   {
    "duration": 12,
    "start_time": "2023-03-09T19:40:59.005Z"
   },
   {
    "duration": 13,
    "start_time": "2023-03-09T19:41:35.276Z"
   },
   {
    "duration": 13,
    "start_time": "2023-03-09T19:42:14.340Z"
   },
   {
    "duration": 7,
    "start_time": "2023-03-09T19:42:58.877Z"
   },
   {
    "duration": 10,
    "start_time": "2023-03-09T19:55:34.363Z"
   },
   {
    "duration": 7,
    "start_time": "2023-03-09T19:55:34.377Z"
   },
   {
    "duration": 167,
    "start_time": "2023-03-09T19:55:34.385Z"
   },
   {
    "duration": 29,
    "start_time": "2023-03-09T19:55:34.554Z"
   },
   {
    "duration": 22,
    "start_time": "2023-03-09T19:55:34.585Z"
   },
   {
    "duration": 5,
    "start_time": "2023-03-09T19:55:34.609Z"
   },
   {
    "duration": 32,
    "start_time": "2023-03-09T19:55:34.616Z"
   },
   {
    "duration": 1067,
    "start_time": "2023-03-09T19:55:34.651Z"
   },
   {
    "duration": 5,
    "start_time": "2023-03-09T19:55:35.720Z"
   },
   {
    "duration": 14,
    "start_time": "2023-03-09T19:55:35.727Z"
   },
   {
    "duration": 30,
    "start_time": "2023-03-09T19:55:35.752Z"
   },
   {
    "duration": 19,
    "start_time": "2023-03-09T19:55:35.784Z"
   },
   {
    "duration": 8,
    "start_time": "2023-03-09T19:55:35.810Z"
   },
   {
    "duration": 8,
    "start_time": "2023-03-09T19:55:35.820Z"
   },
   {
    "duration": 336,
    "start_time": "2023-03-09T19:55:35.830Z"
   },
   {
    "duration": 4,
    "start_time": "2023-03-09T19:55:36.168Z"
   },
   {
    "duration": 14,
    "start_time": "2023-03-09T19:55:36.176Z"
   },
   {
    "duration": 10,
    "start_time": "2023-03-09T19:55:36.192Z"
   },
   {
    "duration": 19,
    "start_time": "2023-03-09T19:55:36.204Z"
   },
   {
    "duration": 23,
    "start_time": "2023-03-09T19:55:36.225Z"
   },
   {
    "duration": 7,
    "start_time": "2023-03-09T19:55:36.249Z"
   },
   {
    "duration": 331,
    "start_time": "2023-03-09T19:55:36.264Z"
   },
   {
    "duration": 51,
    "start_time": "2023-03-09T19:55:36.597Z"
   },
   {
    "duration": 36,
    "start_time": "2023-03-09T19:55:36.650Z"
   },
   {
    "duration": 153,
    "start_time": "2023-03-09T19:55:39.290Z"
   },
   {
    "duration": 20,
    "start_time": "2023-03-09T19:55:41.377Z"
   },
   {
    "duration": 10,
    "start_time": "2023-03-09T19:55:43.070Z"
   },
   {
    "duration": 66,
    "start_time": "2023-03-09T19:55:51.367Z"
   },
   {
    "duration": 11,
    "start_time": "2023-03-09T19:56:16.913Z"
   },
   {
    "duration": 12,
    "start_time": "2023-03-09T19:56:23.178Z"
   },
   {
    "duration": 11,
    "start_time": "2023-03-09T19:56:28.939Z"
   },
   {
    "duration": 9,
    "start_time": "2023-03-09T19:57:07.898Z"
   },
   {
    "duration": 9,
    "start_time": "2023-03-09T19:57:13.167Z"
   },
   {
    "duration": 880,
    "start_time": "2023-03-09T20:05:05.326Z"
   },
   {
    "duration": 21,
    "start_time": "2023-03-09T20:05:20.640Z"
   },
   {
    "duration": 11,
    "start_time": "2023-03-09T20:06:39.366Z"
   },
   {
    "duration": 20,
    "start_time": "2023-03-09T20:06:53.240Z"
   },
   {
    "duration": 5,
    "start_time": "2023-03-09T20:07:19.585Z"
   },
   {
    "duration": 5,
    "start_time": "2023-03-09T20:07:33.269Z"
   },
   {
    "duration": 10,
    "start_time": "2023-03-09T20:07:57.738Z"
   },
   {
    "duration": 5,
    "start_time": "2023-03-09T20:08:01.089Z"
   },
   {
    "duration": 8,
    "start_time": "2023-03-09T20:08:17.041Z"
   },
   {
    "duration": 5,
    "start_time": "2023-03-09T20:08:36.875Z"
   },
   {
    "duration": 188,
    "start_time": "2023-03-09T20:09:20.068Z"
   },
   {
    "duration": 1563,
    "start_time": "2023-03-10T01:33:36.703Z"
   },
   {
    "duration": 4,
    "start_time": "2023-03-10T01:33:38.269Z"
   },
   {
    "duration": 551,
    "start_time": "2023-03-10T01:33:38.275Z"
   },
   {
    "duration": 23,
    "start_time": "2023-03-10T01:33:38.828Z"
   },
   {
    "duration": 71,
    "start_time": "2023-03-10T01:33:38.853Z"
   },
   {
    "duration": 7,
    "start_time": "2023-03-10T01:33:38.926Z"
   },
   {
    "duration": 29,
    "start_time": "2023-03-10T01:33:38.934Z"
   },
   {
    "duration": 1066,
    "start_time": "2023-03-10T01:33:38.965Z"
   },
   {
    "duration": 6,
    "start_time": "2023-03-10T01:33:40.033Z"
   },
   {
    "duration": 11,
    "start_time": "2023-03-10T01:33:40.042Z"
   },
   {
    "duration": 20,
    "start_time": "2023-03-10T01:33:40.054Z"
   },
   {
    "duration": 13,
    "start_time": "2023-03-10T01:33:40.075Z"
   },
   {
    "duration": 8,
    "start_time": "2023-03-10T01:33:40.090Z"
   },
   {
    "duration": 7,
    "start_time": "2023-03-10T01:33:40.100Z"
   },
   {
    "duration": 545,
    "start_time": "2023-03-10T01:33:40.108Z"
   },
   {
    "duration": 3,
    "start_time": "2023-03-10T01:33:40.655Z"
   },
   {
    "duration": 20,
    "start_time": "2023-03-10T01:33:40.660Z"
   },
   {
    "duration": 11,
    "start_time": "2023-03-10T01:33:40.682Z"
   },
   {
    "duration": 25,
    "start_time": "2023-03-10T01:33:40.695Z"
   },
   {
    "duration": 11,
    "start_time": "2023-03-10T01:33:40.722Z"
   },
   {
    "duration": 7,
    "start_time": "2023-03-10T01:33:40.736Z"
   },
   {
    "duration": 203,
    "start_time": "2023-03-10T01:33:40.773Z"
   },
   {
    "duration": 33,
    "start_time": "2023-03-10T01:33:40.978Z"
   },
   {
    "duration": 24,
    "start_time": "2023-03-10T01:33:41.013Z"
   },
   {
    "duration": 172,
    "start_time": "2023-03-10T01:33:41.039Z"
   },
   {
    "duration": 3,
    "start_time": "2023-03-10T01:33:41.212Z"
   },
   {
    "duration": 30,
    "start_time": "2023-03-10T01:33:41.216Z"
   },
   {
    "duration": 4,
    "start_time": "2023-03-10T01:33:41.249Z"
   },
   {
    "duration": 179,
    "start_time": "2023-03-10T01:33:41.255Z"
   },
   {
    "duration": 138,
    "start_time": "2023-03-10T01:33:41.436Z"
   },
   {
    "duration": 14,
    "start_time": "2023-03-10T01:33:41.576Z"
   },
   {
    "duration": 9,
    "start_time": "2023-03-10T01:33:56.975Z"
   },
   {
    "duration": 4,
    "start_time": "2023-03-10T01:33:59.079Z"
   },
   {
    "duration": 8,
    "start_time": "2023-03-10T01:37:15.716Z"
   },
   {
    "duration": 40,
    "start_time": "2023-03-10T01:37:57.731Z"
   },
   {
    "duration": 11,
    "start_time": "2023-03-10T01:45:26.637Z"
   },
   {
    "duration": 144,
    "start_time": "2023-03-10T01:45:56.430Z"
   },
   {
    "duration": 59,
    "start_time": "2023-03-10T01:46:11.555Z"
   },
   {
    "duration": 828,
    "start_time": "2023-03-10T01:49:17.423Z"
   },
   {
    "duration": 24,
    "start_time": "2023-03-10T01:49:30.193Z"
   },
   {
    "duration": 5,
    "start_time": "2023-03-10T01:50:01.955Z"
   },
   {
    "duration": 4,
    "start_time": "2023-03-10T01:50:13.291Z"
   },
   {
    "duration": 3,
    "start_time": "2023-03-10T01:51:19.197Z"
   },
   {
    "duration": 9,
    "start_time": "2023-03-10T01:51:20.781Z"
   },
   {
    "duration": 3,
    "start_time": "2023-03-10T01:51:39.269Z"
   },
   {
    "duration": 4,
    "start_time": "2023-03-10T01:51:44.853Z"
   },
   {
    "duration": 3,
    "start_time": "2023-03-10T01:52:19.358Z"
   },
   {
    "duration": 9,
    "start_time": "2023-03-10T01:59:15.655Z"
   },
   {
    "duration": 24,
    "start_time": "2023-03-10T02:01:10.371Z"
   },
   {
    "duration": 19,
    "start_time": "2023-03-10T02:01:24.561Z"
   },
   {
    "duration": 19,
    "start_time": "2023-03-10T02:01:32.436Z"
   },
   {
    "duration": 4,
    "start_time": "2023-03-10T02:04:38.374Z"
   },
   {
    "duration": 4,
    "start_time": "2023-03-10T02:04:39.502Z"
   },
   {
    "duration": 10,
    "start_time": "2023-03-10T02:05:29.888Z"
   },
   {
    "duration": 4,
    "start_time": "2023-03-10T02:05:31.974Z"
   },
   {
    "duration": 2,
    "start_time": "2023-03-10T02:05:32.648Z"
   },
   {
    "duration": 3,
    "start_time": "2023-03-10T02:05:33.888Z"
   },
   {
    "duration": 4,
    "start_time": "2023-03-10T02:05:35.135Z"
   },
   {
    "duration": 15,
    "start_time": "2023-03-10T02:08:39.358Z"
   },
   {
    "duration": 94,
    "start_time": "2023-03-10T02:08:51.740Z"
   },
   {
    "duration": 16,
    "start_time": "2023-03-10T02:08:58.702Z"
   },
   {
    "duration": 11,
    "start_time": "2023-03-10T02:09:05.828Z"
   },
   {
    "duration": 10,
    "start_time": "2023-03-10T02:09:24.964Z"
   },
   {
    "duration": 8,
    "start_time": "2023-03-10T02:09:37.011Z"
   },
   {
    "duration": 10,
    "start_time": "2023-03-10T02:09:49.211Z"
   },
   {
    "duration": 15,
    "start_time": "2023-03-10T02:09:57.995Z"
   },
   {
    "duration": 13,
    "start_time": "2023-03-10T02:10:19.012Z"
   },
   {
    "duration": 16,
    "start_time": "2023-03-10T02:10:21.260Z"
   },
   {
    "duration": 1192,
    "start_time": "2023-03-10T02:11:58.102Z"
   },
   {
    "duration": 1197,
    "start_time": "2023-03-10T02:12:08.887Z"
   },
   {
    "duration": 33,
    "start_time": "2023-03-10T02:13:21.481Z"
   },
   {
    "duration": 44,
    "start_time": "2023-03-10T02:14:14.938Z"
   },
   {
    "duration": 38,
    "start_time": "2023-03-10T02:15:00.507Z"
   },
   {
    "duration": 35,
    "start_time": "2023-03-10T02:15:53.124Z"
   },
   {
    "duration": 31,
    "start_time": "2023-03-10T02:16:01.324Z"
   },
   {
    "duration": 32,
    "start_time": "2023-03-10T02:17:35.607Z"
   },
   {
    "duration": 5,
    "start_time": "2023-03-10T02:18:39.647Z"
   },
   {
    "duration": 4,
    "start_time": "2023-03-10T02:18:41.313Z"
   },
   {
    "duration": 4,
    "start_time": "2023-03-10T02:19:55.048Z"
   },
   {
    "duration": 5,
    "start_time": "2023-03-10T02:20:34.634Z"
   },
   {
    "duration": 1566,
    "start_time": "2023-03-10T18:49:53.432Z"
   },
   {
    "duration": 5,
    "start_time": "2023-03-10T18:49:55.001Z"
   },
   {
    "duration": 579,
    "start_time": "2023-03-10T18:49:55.008Z"
   },
   {
    "duration": 22,
    "start_time": "2023-03-10T18:49:55.591Z"
   },
   {
    "duration": 65,
    "start_time": "2023-03-10T18:49:55.616Z"
   },
   {
    "duration": 5,
    "start_time": "2023-03-10T18:49:55.682Z"
   },
   {
    "duration": 53,
    "start_time": "2023-03-10T18:49:55.689Z"
   },
   {
    "duration": 1152,
    "start_time": "2023-03-10T18:49:55.744Z"
   },
   {
    "duration": 7,
    "start_time": "2023-03-10T18:49:56.898Z"
   },
   {
    "duration": 22,
    "start_time": "2023-03-10T18:49:56.907Z"
   },
   {
    "duration": 15,
    "start_time": "2023-03-10T18:49:56.931Z"
   },
   {
    "duration": 25,
    "start_time": "2023-03-10T18:49:56.949Z"
   },
   {
    "duration": 9,
    "start_time": "2023-03-10T18:49:56.976Z"
   },
   {
    "duration": 6,
    "start_time": "2023-03-10T18:49:56.988Z"
   },
   {
    "duration": 528,
    "start_time": "2023-03-10T18:49:56.996Z"
   },
   {
    "duration": 3,
    "start_time": "2023-03-10T18:49:57.526Z"
   },
   {
    "duration": 14,
    "start_time": "2023-03-10T18:49:57.531Z"
   },
   {
    "duration": 23,
    "start_time": "2023-03-10T18:49:57.546Z"
   },
   {
    "duration": 26,
    "start_time": "2023-03-10T18:49:57.571Z"
   },
   {
    "duration": 12,
    "start_time": "2023-03-10T18:49:57.599Z"
   },
   {
    "duration": 8,
    "start_time": "2023-03-10T18:49:57.613Z"
   },
   {
    "duration": 245,
    "start_time": "2023-03-10T18:49:57.622Z"
   },
   {
    "duration": 54,
    "start_time": "2023-03-10T18:49:57.870Z"
   },
   {
    "duration": 25,
    "start_time": "2023-03-10T18:49:57.927Z"
   },
   {
    "duration": 162,
    "start_time": "2023-03-10T18:49:57.963Z"
   },
   {
    "duration": 3,
    "start_time": "2023-03-10T18:49:58.127Z"
   },
   {
    "duration": 41,
    "start_time": "2023-03-10T18:49:58.132Z"
   },
   {
    "duration": 10,
    "start_time": "2023-03-10T18:49:58.175Z"
   },
   {
    "duration": 168,
    "start_time": "2023-03-10T18:49:58.187Z"
   },
   {
    "duration": 129,
    "start_time": "2023-03-10T18:49:58.358Z"
   },
   {
    "duration": 13,
    "start_time": "2023-03-10T18:49:58.489Z"
   },
   {
    "duration": 13,
    "start_time": "2023-03-10T18:49:58.503Z"
   },
   {
    "duration": 7,
    "start_time": "2023-03-10T18:49:58.564Z"
   },
   {
    "duration": 73,
    "start_time": "2023-03-10T18:49:58.574Z"
   },
   {
    "duration": 0,
    "start_time": "2023-03-10T18:49:58.650Z"
   },
   {
    "duration": 0,
    "start_time": "2023-03-10T18:49:58.651Z"
   },
   {
    "duration": 0,
    "start_time": "2023-03-10T18:49:58.653Z"
   },
   {
    "duration": 1,
    "start_time": "2023-03-10T18:49:58.654Z"
   },
   {
    "duration": 0,
    "start_time": "2023-03-10T18:49:58.656Z"
   },
   {
    "duration": 0,
    "start_time": "2023-03-10T18:49:58.657Z"
   },
   {
    "duration": 0,
    "start_time": "2023-03-10T18:49:58.659Z"
   },
   {
    "duration": 0,
    "start_time": "2023-03-10T18:49:58.661Z"
   },
   {
    "duration": 0,
    "start_time": "2023-03-10T18:49:58.662Z"
   },
   {
    "duration": 0,
    "start_time": "2023-03-10T18:49:58.664Z"
   },
   {
    "duration": 0,
    "start_time": "2023-03-10T18:49:58.665Z"
   },
   {
    "duration": 0,
    "start_time": "2023-03-10T18:49:58.666Z"
   },
   {
    "duration": 13,
    "start_time": "2023-03-10T18:50:14.731Z"
   },
   {
    "duration": 45,
    "start_time": "2023-03-10T18:50:16.050Z"
   },
   {
    "duration": 56,
    "start_time": "2023-03-10T18:50:44.900Z"
   },
   {
    "duration": 123,
    "start_time": "2023-03-10T18:50:48.418Z"
   },
   {
    "duration": 17,
    "start_time": "2023-03-10T18:52:22.429Z"
   },
   {
    "duration": 33,
    "start_time": "2023-03-10T18:52:25.360Z"
   },
   {
    "duration": 32,
    "start_time": "2023-03-10T18:52:27.654Z"
   },
   {
    "duration": 4,
    "start_time": "2023-03-10T18:52:54.191Z"
   },
   {
    "duration": 4,
    "start_time": "2023-03-10T18:58:17.909Z"
   },
   {
    "duration": 16,
    "start_time": "2023-03-10T18:58:45.669Z"
   },
   {
    "duration": 7,
    "start_time": "2023-03-10T18:58:58.534Z"
   },
   {
    "duration": 9,
    "start_time": "2023-03-10T19:04:44.870Z"
   },
   {
    "duration": 5,
    "start_time": "2023-03-10T19:04:55.190Z"
   },
   {
    "duration": 32,
    "start_time": "2023-03-10T19:05:03.486Z"
   },
   {
    "duration": 6,
    "start_time": "2023-03-10T19:05:21.935Z"
   },
   {
    "duration": 59,
    "start_time": "2023-03-10T19:05:29.527Z"
   },
   {
    "duration": 48,
    "start_time": "2023-03-10T19:05:38.623Z"
   },
   {
    "duration": 80,
    "start_time": "2023-03-10T19:05:50.423Z"
   },
   {
    "duration": 77,
    "start_time": "2023-03-10T19:06:04.783Z"
   },
   {
    "duration": 79,
    "start_time": "2023-03-10T19:06:53.241Z"
   },
   {
    "duration": 74,
    "start_time": "2023-03-10T19:07:10.692Z"
   },
   {
    "duration": 78,
    "start_time": "2023-03-10T19:08:13.635Z"
   },
   {
    "duration": 70,
    "start_time": "2023-03-10T19:08:26.507Z"
   },
   {
    "duration": 67,
    "start_time": "2023-03-10T19:08:38.602Z"
   },
   {
    "duration": 61,
    "start_time": "2023-03-10T19:08:46.148Z"
   },
   {
    "duration": 16,
    "start_time": "2023-03-10T19:09:15.603Z"
   },
   {
    "duration": 20,
    "start_time": "2023-03-10T19:10:11.103Z"
   },
   {
    "duration": 934,
    "start_time": "2023-03-10T19:10:14.678Z"
   },
   {
    "duration": 12,
    "start_time": "2023-03-10T19:10:29.464Z"
   },
   {
    "duration": 33,
    "start_time": "2023-03-10T19:10:51.798Z"
   },
   {
    "duration": 1252,
    "start_time": "2023-03-10T19:11:21.272Z"
   },
   {
    "duration": 1205,
    "start_time": "2023-03-10T19:11:28.671Z"
   },
   {
    "duration": 19,
    "start_time": "2023-03-10T19:11:42.895Z"
   },
   {
    "duration": 18,
    "start_time": "2023-03-10T19:12:20.080Z"
   },
   {
    "duration": 15,
    "start_time": "2023-03-10T19:12:44.665Z"
   },
   {
    "duration": 11,
    "start_time": "2023-03-10T19:12:58.472Z"
   },
   {
    "duration": 10,
    "start_time": "2023-03-10T19:13:02.793Z"
   },
   {
    "duration": 15,
    "start_time": "2023-03-10T19:13:15.138Z"
   },
   {
    "duration": 14,
    "start_time": "2023-03-10T19:13:18.176Z"
   },
   {
    "duration": 6,
    "start_time": "2023-03-10T19:13:19.479Z"
   },
   {
    "duration": 15,
    "start_time": "2023-03-10T19:13:32.546Z"
   },
   {
    "duration": 4,
    "start_time": "2023-03-10T19:20:34.352Z"
   },
   {
    "duration": 12,
    "start_time": "2023-03-10T19:20:34.359Z"
   },
   {
    "duration": 232,
    "start_time": "2023-03-10T19:20:34.374Z"
   },
   {
    "duration": 25,
    "start_time": "2023-03-10T19:20:34.609Z"
   },
   {
    "duration": 57,
    "start_time": "2023-03-10T19:20:34.637Z"
   },
   {
    "duration": 8,
    "start_time": "2023-03-10T19:20:34.696Z"
   },
   {
    "duration": 19,
    "start_time": "2023-03-10T19:20:34.707Z"
   },
   {
    "duration": 1001,
    "start_time": "2023-03-10T19:20:34.728Z"
   },
   {
    "duration": 5,
    "start_time": "2023-03-10T19:20:35.730Z"
   },
   {
    "duration": 9,
    "start_time": "2023-03-10T19:20:35.737Z"
   },
   {
    "duration": 4,
    "start_time": "2023-03-10T19:20:35.763Z"
   },
   {
    "duration": 23,
    "start_time": "2023-03-10T19:20:35.769Z"
   },
   {
    "duration": 8,
    "start_time": "2023-03-10T19:20:35.795Z"
   },
   {
    "duration": 7,
    "start_time": "2023-03-10T19:20:35.807Z"
   },
   {
    "duration": 460,
    "start_time": "2023-03-10T19:20:35.816Z"
   },
   {
    "duration": 4,
    "start_time": "2023-03-10T19:20:36.278Z"
   },
   {
    "duration": 14,
    "start_time": "2023-03-10T19:20:36.283Z"
   },
   {
    "duration": 9,
    "start_time": "2023-03-10T19:20:36.299Z"
   },
   {
    "duration": 18,
    "start_time": "2023-03-10T19:20:36.309Z"
   },
   {
    "duration": 39,
    "start_time": "2023-03-10T19:20:36.329Z"
   },
   {
    "duration": 7,
    "start_time": "2023-03-10T19:20:36.369Z"
   },
   {
    "duration": 214,
    "start_time": "2023-03-10T19:20:36.378Z"
   },
   {
    "duration": 30,
    "start_time": "2023-03-10T19:20:36.594Z"
   },
   {
    "duration": 45,
    "start_time": "2023-03-10T19:20:36.625Z"
   },
   {
    "duration": 187,
    "start_time": "2023-03-10T19:20:36.672Z"
   },
   {
    "duration": 3,
    "start_time": "2023-03-10T19:20:36.864Z"
   },
   {
    "duration": 31,
    "start_time": "2023-03-10T19:20:36.869Z"
   },
   {
    "duration": 7,
    "start_time": "2023-03-10T19:20:36.902Z"
   },
   {
    "duration": 12,
    "start_time": "2023-03-10T19:20:36.911Z"
   },
   {
    "duration": 87,
    "start_time": "2023-03-10T19:20:36.925Z"
   },
   {
    "duration": 13,
    "start_time": "2023-03-10T19:20:37.013Z"
   },
   {
    "duration": 37,
    "start_time": "2023-03-10T19:20:37.028Z"
   },
   {
    "duration": 7,
    "start_time": "2023-03-10T19:20:37.067Z"
   },
   {
    "duration": 14,
    "start_time": "2023-03-10T19:20:37.076Z"
   },
   {
    "duration": 43,
    "start_time": "2023-03-10T19:20:37.091Z"
   },
   {
    "duration": 3,
    "start_time": "2023-03-10T19:20:37.136Z"
   },
   {
    "duration": 71,
    "start_time": "2023-03-10T19:20:37.140Z"
   },
   {
    "duration": 15,
    "start_time": "2023-03-10T19:20:37.213Z"
   },
   {
    "duration": 49,
    "start_time": "2023-03-10T19:20:37.229Z"
   },
   {
    "duration": 33,
    "start_time": "2023-03-10T19:20:37.280Z"
   },
   {
    "duration": 6,
    "start_time": "2023-03-10T19:20:37.318Z"
   },
   {
    "duration": 86,
    "start_time": "2023-03-10T19:20:37.326Z"
   },
   {
    "duration": 13,
    "start_time": "2023-03-10T19:20:37.414Z"
   },
   {
    "duration": 37,
    "start_time": "2023-03-10T19:20:37.429Z"
   },
   {
    "duration": 0,
    "start_time": "2023-03-10T19:20:37.468Z"
   },
   {
    "duration": 12,
    "start_time": "2023-03-10T19:20:56.986Z"
   },
   {
    "duration": 6,
    "start_time": "2023-03-10T19:20:58.401Z"
   },
   {
    "duration": 10,
    "start_time": "2023-03-10T19:21:16.716Z"
   },
   {
    "duration": 10,
    "start_time": "2023-03-10T19:21:40.755Z"
   },
   {
    "duration": 9,
    "start_time": "2023-03-10T19:21:42.081Z"
   },
   {
    "duration": 17,
    "start_time": "2023-03-10T19:21:52.451Z"
   },
   {
    "duration": 13,
    "start_time": "2023-03-10T19:21:56.090Z"
   },
   {
    "duration": 10,
    "start_time": "2023-03-10T19:24:10.534Z"
   },
   {
    "duration": 5,
    "start_time": "2023-03-10T19:24:16.264Z"
   },
   {
    "duration": 5,
    "start_time": "2023-03-10T19:25:28.303Z"
   },
   {
    "duration": 5,
    "start_time": "2023-03-10T19:26:51.660Z"
   },
   {
    "duration": 14,
    "start_time": "2023-03-10T19:27:48.506Z"
   },
   {
    "duration": 19,
    "start_time": "2023-03-10T19:28:31.550Z"
   },
   {
    "duration": 35,
    "start_time": "2023-03-10T19:28:40.744Z"
   },
   {
    "duration": 19,
    "start_time": "2023-03-10T19:28:55.171Z"
   },
   {
    "duration": 18,
    "start_time": "2023-03-10T19:29:22.723Z"
   },
   {
    "duration": 18,
    "start_time": "2023-03-10T19:29:50.750Z"
   },
   {
    "duration": 21,
    "start_time": "2023-03-10T19:30:11.516Z"
   },
   {
    "duration": 102,
    "start_time": "2023-03-10T19:37:45.774Z"
   },
   {
    "duration": 11,
    "start_time": "2023-03-10T19:38:01.850Z"
   },
   {
    "duration": 10,
    "start_time": "2023-03-10T19:38:03.071Z"
   },
   {
    "duration": 10,
    "start_time": "2023-03-10T19:38:03.903Z"
   },
   {
    "duration": 9,
    "start_time": "2023-03-10T19:38:36.295Z"
   },
   {
    "duration": 1477,
    "start_time": "2023-03-11T19:54:52.166Z"
   },
   {
    "duration": 3,
    "start_time": "2023-03-11T19:54:53.645Z"
   },
   {
    "duration": 372,
    "start_time": "2023-03-11T19:54:53.649Z"
   },
   {
    "duration": 22,
    "start_time": "2023-03-11T19:54:54.023Z"
   },
   {
    "duration": 62,
    "start_time": "2023-03-11T19:54:54.047Z"
   },
   {
    "duration": 4,
    "start_time": "2023-03-11T19:54:54.111Z"
   },
   {
    "duration": 52,
    "start_time": "2023-03-11T19:54:54.117Z"
   },
   {
    "duration": 1091,
    "start_time": "2023-03-11T19:54:54.170Z"
   },
   {
    "duration": 5,
    "start_time": "2023-03-11T19:54:55.263Z"
   },
   {
    "duration": 25,
    "start_time": "2023-03-11T19:54:55.271Z"
   },
   {
    "duration": 9,
    "start_time": "2023-03-11T19:54:55.297Z"
   },
   {
    "duration": 23,
    "start_time": "2023-03-11T19:54:55.308Z"
   },
   {
    "duration": 8,
    "start_time": "2023-03-11T19:54:55.332Z"
   },
   {
    "duration": 6,
    "start_time": "2023-03-11T19:54:55.341Z"
   },
   {
    "duration": 470,
    "start_time": "2023-03-11T19:54:55.348Z"
   },
   {
    "duration": 3,
    "start_time": "2023-03-11T19:54:55.819Z"
   },
   {
    "duration": 17,
    "start_time": "2023-03-11T19:54:55.823Z"
   },
   {
    "duration": 11,
    "start_time": "2023-03-11T19:54:55.841Z"
   },
   {
    "duration": 22,
    "start_time": "2023-03-11T19:54:55.854Z"
   },
   {
    "duration": 11,
    "start_time": "2023-03-11T19:54:55.900Z"
   },
   {
    "duration": 7,
    "start_time": "2023-03-11T19:54:55.913Z"
   },
   {
    "duration": 208,
    "start_time": "2023-03-11T19:54:55.922Z"
   },
   {
    "duration": 31,
    "start_time": "2023-03-11T19:54:56.131Z"
   },
   {
    "duration": 46,
    "start_time": "2023-03-11T19:54:56.163Z"
   },
   {
    "duration": 196,
    "start_time": "2023-03-11T19:54:56.210Z"
   },
   {
    "duration": 2,
    "start_time": "2023-03-11T19:54:56.408Z"
   },
   {
    "duration": 44,
    "start_time": "2023-03-11T19:54:56.412Z"
   },
   {
    "duration": 2,
    "start_time": "2023-03-11T19:54:56.461Z"
   },
   {
    "duration": 220,
    "start_time": "2023-03-11T19:54:56.465Z"
   },
   {
    "duration": 133,
    "start_time": "2023-03-11T19:54:56.686Z"
   },
   {
    "duration": 13,
    "start_time": "2023-03-11T19:54:56.820Z"
   },
   {
    "duration": 70,
    "start_time": "2023-03-11T19:54:56.835Z"
   },
   {
    "duration": 9,
    "start_time": "2023-03-11T19:54:56.908Z"
   },
   {
    "duration": 15,
    "start_time": "2023-03-11T19:54:56.918Z"
   },
   {
    "duration": 41,
    "start_time": "2023-03-11T19:54:56.935Z"
   },
   {
    "duration": 2,
    "start_time": "2023-03-11T19:54:56.978Z"
   },
   {
    "duration": 66,
    "start_time": "2023-03-11T19:54:56.993Z"
   },
   {
    "duration": 21,
    "start_time": "2023-03-11T19:54:57.060Z"
   },
   {
    "duration": 36,
    "start_time": "2023-03-11T19:54:57.083Z"
   },
   {
    "duration": 32,
    "start_time": "2023-03-11T19:54:57.120Z"
   },
   {
    "duration": 5,
    "start_time": "2023-03-11T19:54:57.154Z"
   },
   {
    "duration": 88,
    "start_time": "2023-03-11T19:54:57.160Z"
   },
   {
    "duration": 18,
    "start_time": "2023-03-11T19:54:57.250Z"
   },
   {
    "duration": 31,
    "start_time": "2023-03-11T19:54:57.270Z"
   },
   {
    "duration": 21,
    "start_time": "2023-03-11T19:54:57.302Z"
   },
   {
    "duration": 10,
    "start_time": "2023-03-11T19:54:57.325Z"
   },
   {
    "duration": 10,
    "start_time": "2023-03-11T19:54:57.337Z"
   },
   {
    "duration": 11,
    "start_time": "2023-03-11T19:54:57.349Z"
   },
   {
    "duration": 11,
    "start_time": "2023-03-11T19:55:01.376Z"
   },
   {
    "duration": 113,
    "start_time": "2023-03-11T20:13:09.526Z"
   },
   {
    "duration": 4,
    "start_time": "2023-03-11T20:13:18.503Z"
   },
   {
    "duration": 9,
    "start_time": "2023-03-11T20:14:03.412Z"
   },
   {
    "duration": 6,
    "start_time": "2023-03-11T20:55:48.586Z"
   },
   {
    "duration": 2201,
    "start_time": "2023-03-11T21:05:36.548Z"
   },
   {
    "duration": 57,
    "start_time": "2023-03-11T21:05:51.647Z"
   },
   {
    "duration": 5,
    "start_time": "2023-03-11T21:11:40.154Z"
   },
   {
    "duration": 3,
    "start_time": "2023-03-11T21:12:01.475Z"
   },
   {
    "duration": 58,
    "start_time": "2023-03-11T21:12:01.480Z"
   },
   {
    "duration": 284,
    "start_time": "2023-03-11T21:12:01.540Z"
   },
   {
    "duration": 51,
    "start_time": "2023-03-11T21:12:01.825Z"
   },
   {
    "duration": 26,
    "start_time": "2023-03-11T21:12:01.878Z"
   },
   {
    "duration": 47,
    "start_time": "2023-03-11T21:12:01.905Z"
   },
   {
    "duration": 29,
    "start_time": "2023-03-11T21:12:01.954Z"
   },
   {
    "duration": 35,
    "start_time": "2023-03-11T21:12:01.985Z"
   },
   {
    "duration": 31,
    "start_time": "2023-03-11T21:12:02.022Z"
   },
   {
    "duration": 974,
    "start_time": "2023-03-11T21:12:02.055Z"
   },
   {
    "duration": 5,
    "start_time": "2023-03-11T21:12:03.032Z"
   },
   {
    "duration": 7,
    "start_time": "2023-03-11T21:12:03.038Z"
   },
   {
    "duration": 8,
    "start_time": "2023-03-11T21:12:03.047Z"
   },
   {
    "duration": 3,
    "start_time": "2023-03-11T21:12:03.057Z"
   },
   {
    "duration": 30,
    "start_time": "2023-03-11T21:12:03.062Z"
   },
   {
    "duration": 7,
    "start_time": "2023-03-11T21:12:03.093Z"
   },
   {
    "duration": 5,
    "start_time": "2023-03-11T21:12:03.102Z"
   },
   {
    "duration": 9,
    "start_time": "2023-03-11T21:12:03.109Z"
   },
   {
    "duration": 395,
    "start_time": "2023-03-11T21:12:03.120Z"
   },
   {
    "duration": 3,
    "start_time": "2023-03-11T21:12:03.516Z"
   },
   {
    "duration": 13,
    "start_time": "2023-03-11T21:12:03.520Z"
   },
   {
    "duration": 8,
    "start_time": "2023-03-11T21:12:03.534Z"
   },
   {
    "duration": 17,
    "start_time": "2023-03-11T21:12:03.543Z"
   },
   {
    "duration": 9,
    "start_time": "2023-03-11T21:12:03.562Z"
   },
   {
    "duration": 23,
    "start_time": "2023-03-11T21:12:03.572Z"
   },
   {
    "duration": 190,
    "start_time": "2023-03-11T21:12:03.596Z"
   },
   {
    "duration": 26,
    "start_time": "2023-03-11T21:12:03.790Z"
   },
   {
    "duration": 24,
    "start_time": "2023-03-11T21:12:03.817Z"
   },
   {
    "duration": 153,
    "start_time": "2023-03-11T21:12:03.844Z"
   },
   {
    "duration": 2,
    "start_time": "2023-03-11T21:12:03.999Z"
   },
   {
    "duration": 28,
    "start_time": "2023-03-11T21:12:04.002Z"
   },
   {
    "duration": 5,
    "start_time": "2023-03-11T21:12:04.032Z"
   },
   {
    "duration": 19,
    "start_time": "2023-03-11T21:12:04.039Z"
   },
   {
    "duration": 68,
    "start_time": "2023-03-11T21:12:04.059Z"
   },
   {
    "duration": 11,
    "start_time": "2023-03-11T21:12:04.129Z"
   },
   {
    "duration": 13,
    "start_time": "2023-03-11T21:12:04.141Z"
   },
   {
    "duration": 12,
    "start_time": "2023-03-11T21:12:04.155Z"
   },
   {
    "duration": 14,
    "start_time": "2023-03-11T21:12:04.169Z"
   },
   {
    "duration": 56,
    "start_time": "2023-03-11T21:12:04.185Z"
   },
   {
    "duration": 2,
    "start_time": "2023-03-11T21:12:04.243Z"
   },
   {
    "duration": 51,
    "start_time": "2023-03-11T21:12:04.247Z"
   },
   {
    "duration": 17,
    "start_time": "2023-03-11T21:12:04.300Z"
   },
   {
    "duration": 31,
    "start_time": "2023-03-11T21:12:04.319Z"
   },
   {
    "duration": 50,
    "start_time": "2023-03-11T21:12:04.352Z"
   },
   {
    "duration": 5,
    "start_time": "2023-03-11T21:12:04.404Z"
   },
   {
    "duration": 80,
    "start_time": "2023-03-11T21:12:04.411Z"
   },
   {
    "duration": 24,
    "start_time": "2023-03-11T21:12:04.493Z"
   },
   {
    "duration": 26,
    "start_time": "2023-03-11T21:12:04.519Z"
   },
   {
    "duration": 46,
    "start_time": "2023-03-11T21:12:04.547Z"
   },
   {
    "duration": 10,
    "start_time": "2023-03-11T21:12:04.594Z"
   },
   {
    "duration": 10,
    "start_time": "2023-03-11T21:12:04.606Z"
   },
   {
    "duration": 13,
    "start_time": "2023-03-11T21:12:04.617Z"
   },
   {
    "duration": 11,
    "start_time": "2023-03-11T21:12:04.631Z"
   },
   {
    "duration": 349,
    "start_time": "2023-03-11T21:13:36.718Z"
   },
   {
    "duration": 484,
    "start_time": "2023-03-11T21:13:46.624Z"
   },
   {
    "duration": 4,
    "start_time": "2023-03-11T21:13:51.718Z"
   },
   {
    "duration": 9,
    "start_time": "2023-03-11T21:13:51.724Z"
   },
   {
    "duration": 166,
    "start_time": "2023-03-11T21:13:51.734Z"
   },
   {
    "duration": 53,
    "start_time": "2023-03-11T21:13:51.902Z"
   },
   {
    "duration": 2,
    "start_time": "2023-03-11T21:13:51.957Z"
   },
   {
    "duration": 44,
    "start_time": "2023-03-11T21:13:51.961Z"
   },
   {
    "duration": 26,
    "start_time": "2023-03-11T21:13:52.007Z"
   },
   {
    "duration": 9,
    "start_time": "2023-03-11T21:13:52.034Z"
   },
   {
    "duration": 27,
    "start_time": "2023-03-11T21:13:52.046Z"
   },
   {
    "duration": 968,
    "start_time": "2023-03-11T21:13:52.074Z"
   },
   {
    "duration": 6,
    "start_time": "2023-03-11T21:13:53.043Z"
   },
   {
    "duration": 7,
    "start_time": "2023-03-11T21:13:53.050Z"
   },
   {
    "duration": 9,
    "start_time": "2023-03-11T21:13:53.059Z"
   },
   {
    "duration": 21,
    "start_time": "2023-03-11T21:13:53.069Z"
   },
   {
    "duration": 7,
    "start_time": "2023-03-11T21:13:53.092Z"
   },
   {
    "duration": 6,
    "start_time": "2023-03-11T21:13:53.100Z"
   },
   {
    "duration": 6,
    "start_time": "2023-03-11T21:13:53.107Z"
   },
   {
    "duration": 5,
    "start_time": "2023-03-11T21:13:53.114Z"
   },
   {
    "duration": 499,
    "start_time": "2023-03-11T21:13:53.121Z"
   },
   {
    "duration": 3,
    "start_time": "2023-03-11T21:13:53.622Z"
   },
   {
    "duration": 15,
    "start_time": "2023-03-11T21:13:53.626Z"
   },
   {
    "duration": 9,
    "start_time": "2023-03-11T21:13:53.642Z"
   },
   {
    "duration": 11,
    "start_time": "2023-03-11T21:13:53.652Z"
   },
   {
    "duration": 26,
    "start_time": "2023-03-11T21:13:53.668Z"
   },
   {
    "duration": 7,
    "start_time": "2023-03-11T21:13:53.696Z"
   },
   {
    "duration": 297,
    "start_time": "2023-03-11T21:13:53.705Z"
   },
   {
    "duration": 27,
    "start_time": "2023-03-11T21:13:54.004Z"
   },
   {
    "duration": 23,
    "start_time": "2023-03-11T21:13:54.033Z"
   },
   {
    "duration": 154,
    "start_time": "2023-03-11T21:13:54.058Z"
   },
   {
    "duration": 2,
    "start_time": "2023-03-11T21:13:54.214Z"
   },
   {
    "duration": 33,
    "start_time": "2023-03-11T21:13:54.217Z"
   },
   {
    "duration": 3,
    "start_time": "2023-03-11T21:13:54.251Z"
   },
   {
    "duration": 16,
    "start_time": "2023-03-11T21:13:54.255Z"
   },
   {
    "duration": 66,
    "start_time": "2023-03-11T21:13:54.273Z"
   },
   {
    "duration": 10,
    "start_time": "2023-03-11T21:13:54.341Z"
   },
   {
    "duration": 11,
    "start_time": "2023-03-11T21:13:54.353Z"
   },
   {
    "duration": 12,
    "start_time": "2023-03-11T21:13:54.366Z"
   },
   {
    "duration": 18,
    "start_time": "2023-03-11T21:13:54.380Z"
   },
   {
    "duration": 38,
    "start_time": "2023-03-11T21:13:54.399Z"
   },
   {
    "duration": 2,
    "start_time": "2023-03-11T21:13:54.440Z"
   },
   {
    "duration": 72,
    "start_time": "2023-03-11T21:13:54.444Z"
   },
   {
    "duration": 17,
    "start_time": "2023-03-11T21:13:54.518Z"
   },
   {
    "duration": 34,
    "start_time": "2023-03-11T21:13:54.537Z"
   },
   {
    "duration": 43,
    "start_time": "2023-03-11T21:13:54.572Z"
   },
   {
    "duration": 5,
    "start_time": "2023-03-11T21:13:54.616Z"
   },
   {
    "duration": 71,
    "start_time": "2023-03-11T21:13:54.622Z"
   },
   {
    "duration": 17,
    "start_time": "2023-03-11T21:13:54.695Z"
   },
   {
    "duration": 27,
    "start_time": "2023-03-11T21:13:54.714Z"
   },
   {
    "duration": 19,
    "start_time": "2023-03-11T21:13:54.743Z"
   },
   {
    "duration": 27,
    "start_time": "2023-03-11T21:13:54.763Z"
   },
   {
    "duration": 10,
    "start_time": "2023-03-11T21:13:54.792Z"
   },
   {
    "duration": 22,
    "start_time": "2023-03-11T21:13:54.804Z"
   },
   {
    "duration": 13,
    "start_time": "2023-03-11T21:13:54.828Z"
   },
   {
    "duration": 65,
    "start_time": "2023-03-11T21:15:58.185Z"
   },
   {
    "duration": 94,
    "start_time": "2023-03-11T21:16:17.119Z"
   },
   {
    "duration": 102,
    "start_time": "2023-03-11T21:16:35.273Z"
   },
   {
    "duration": 1400,
    "start_time": "2023-03-12T07:04:35.600Z"
   },
   {
    "duration": 4,
    "start_time": "2023-03-12T07:04:38.580Z"
   },
   {
    "duration": 359,
    "start_time": "2023-03-12T07:04:40.228Z"
   },
   {
    "duration": 221,
    "start_time": "2023-03-12T08:20:29.287Z"
   },
   {
    "duration": 3,
    "start_time": "2023-03-12T08:20:34.506Z"
   },
   {
    "duration": 7,
    "start_time": "2023-03-12T08:20:34.511Z"
   },
   {
    "duration": 183,
    "start_time": "2023-03-12T08:20:34.520Z"
   },
   {
    "duration": 70,
    "start_time": "2023-03-12T08:20:37.458Z"
   },
   {
    "duration": 66,
    "start_time": "2023-03-12T08:20:38.666Z"
   },
   {
    "duration": 80,
    "start_time": "2023-03-12T08:21:12.834Z"
   },
   {
    "duration": 64,
    "start_time": "2023-03-12T08:21:36.747Z"
   },
   {
    "duration": 67,
    "start_time": "2023-03-12T08:21:40.140Z"
   },
   {
    "duration": 33,
    "start_time": "2023-03-12T08:21:48.653Z"
   },
   {
    "duration": 76,
    "start_time": "2023-03-12T08:21:51.317Z"
   },
   {
    "duration": 65,
    "start_time": "2023-03-12T08:23:51.438Z"
   },
   {
    "duration": 121,
    "start_time": "2023-03-12T08:23:56.999Z"
   },
   {
    "duration": 66,
    "start_time": "2023-03-12T08:24:08.574Z"
   },
   {
    "duration": 4,
    "start_time": "2023-03-12T08:26:35.905Z"
   },
   {
    "duration": 18,
    "start_time": "2023-03-12T08:26:45.633Z"
   },
   {
    "duration": 17,
    "start_time": "2023-03-12T08:26:49.400Z"
   },
   {
    "duration": 1112,
    "start_time": "2023-03-12T08:27:26.514Z"
   },
   {
    "duration": 84,
    "start_time": "2023-03-12T08:28:32.532Z"
   },
   {
    "duration": 12,
    "start_time": "2023-03-12T08:28:42.364Z"
   },
   {
    "duration": 7,
    "start_time": "2023-03-12T08:28:56.812Z"
   },
   {
    "duration": 13,
    "start_time": "2023-03-12T08:30:47.462Z"
   },
   {
    "duration": 9,
    "start_time": "2023-03-12T08:30:54.205Z"
   },
   {
    "duration": 2,
    "start_time": "2023-03-12T08:32:12.400Z"
   },
   {
    "duration": 64,
    "start_time": "2023-03-12T08:32:14.588Z"
   },
   {
    "duration": 93,
    "start_time": "2023-03-12T08:32:39.666Z"
   },
   {
    "duration": 83,
    "start_time": "2023-03-12T08:32:44.776Z"
   },
   {
    "duration": 74,
    "start_time": "2023-03-12T08:35:29.220Z"
   },
   {
    "duration": 2,
    "start_time": "2023-03-12T08:37:04.160Z"
   },
   {
    "duration": 8,
    "start_time": "2023-03-12T08:41:11.595Z"
   },
   {
    "duration": 655,
    "start_time": "2023-03-12T08:41:26.318Z"
   },
   {
    "duration": 370,
    "start_time": "2023-03-12T08:41:31.687Z"
   },
   {
    "duration": 546,
    "start_time": "2023-03-12T08:41:37.907Z"
   },
   {
    "duration": 365,
    "start_time": "2023-03-12T08:41:42.308Z"
   },
   {
    "duration": 424,
    "start_time": "2023-03-12T08:41:50.341Z"
   },
   {
    "duration": 333,
    "start_time": "2023-03-12T08:41:56.858Z"
   },
   {
    "duration": 522,
    "start_time": "2023-03-12T08:42:01.412Z"
   },
   {
    "duration": 0,
    "start_time": "2023-03-12T08:42:13.323Z"
   },
   {
    "duration": 347,
    "start_time": "2023-03-12T08:42:22.765Z"
   },
   {
    "duration": 357,
    "start_time": "2023-03-12T08:42:28.902Z"
   },
   {
    "duration": 430,
    "start_time": "2023-03-12T08:42:35.739Z"
   },
   {
    "duration": 388,
    "start_time": "2023-03-12T08:42:44.749Z"
   },
   {
    "duration": 394,
    "start_time": "2023-03-12T08:43:53.789Z"
   },
   {
    "duration": 376,
    "start_time": "2023-03-12T08:43:59.024Z"
   },
   {
    "duration": 382,
    "start_time": "2023-03-12T08:44:04.085Z"
   },
   {
    "duration": 397,
    "start_time": "2023-03-12T08:44:10.295Z"
   },
   {
    "duration": 320,
    "start_time": "2023-03-12T08:44:13.519Z"
   },
   {
    "duration": 358,
    "start_time": "2023-03-12T08:44:24.015Z"
   },
   {
    "duration": 433,
    "start_time": "2023-03-12T08:44:30.912Z"
   },
   {
    "duration": 384,
    "start_time": "2023-03-12T08:44:34.192Z"
   },
   {
    "duration": 314,
    "start_time": "2023-03-12T08:44:39.967Z"
   },
   {
    "duration": 421,
    "start_time": "2023-03-12T08:44:57.602Z"
   },
   {
    "duration": 401,
    "start_time": "2023-03-12T08:45:04.634Z"
   },
   {
    "duration": 392,
    "start_time": "2023-03-12T08:45:12.946Z"
   },
   {
    "duration": 397,
    "start_time": "2023-03-12T08:45:31.442Z"
   },
   {
    "duration": 309,
    "start_time": "2023-03-12T08:45:42.666Z"
   },
   {
    "duration": 339,
    "start_time": "2023-03-12T08:45:46.898Z"
   },
   {
    "duration": 4,
    "start_time": "2023-03-12T08:50:18.912Z"
   },
   {
    "duration": 8,
    "start_time": "2023-03-12T08:50:19.586Z"
   },
   {
    "duration": 10,
    "start_time": "2023-03-12T08:50:26.896Z"
   },
   {
    "duration": 16,
    "start_time": "2023-03-12T08:50:30.091Z"
   },
   {
    "duration": 12,
    "start_time": "2023-03-12T08:50:38.567Z"
   },
   {
    "duration": 3,
    "start_time": "2023-03-12T09:03:33.143Z"
   },
   {
    "duration": 272,
    "start_time": "2023-03-12T09:03:35.520Z"
   },
   {
    "duration": 9,
    "start_time": "2023-03-12T09:04:04.736Z"
   },
   {
    "duration": 20,
    "start_time": "2023-03-12T09:04:05.648Z"
   },
   {
    "duration": 17,
    "start_time": "2023-03-12T09:04:06.554Z"
   },
   {
    "duration": 22,
    "start_time": "2023-03-12T09:04:12.056Z"
   },
   {
    "duration": 5,
    "start_time": "2023-03-12T09:04:14.946Z"
   },
   {
    "duration": 19,
    "start_time": "2023-03-12T09:04:14.953Z"
   },
   {
    "duration": 216,
    "start_time": "2023-03-12T09:04:14.974Z"
   },
   {
    "duration": 4,
    "start_time": "2023-03-12T09:04:15.193Z"
   },
   {
    "duration": 43,
    "start_time": "2023-03-12T09:04:15.199Z"
   },
   {
    "duration": 3,
    "start_time": "2023-03-12T09:04:15.245Z"
   },
   {
    "duration": 30,
    "start_time": "2023-03-12T09:04:15.250Z"
   },
   {
    "duration": 33,
    "start_time": "2023-03-12T09:04:15.283Z"
   },
   {
    "duration": 15,
    "start_time": "2023-03-12T09:04:15.320Z"
   },
   {
    "duration": 1345,
    "start_time": "2023-03-12T09:04:15.337Z"
   },
   {
    "duration": 3,
    "start_time": "2023-03-12T09:04:16.684Z"
   },
   {
    "duration": 14,
    "start_time": "2023-03-12T09:04:16.689Z"
   },
   {
    "duration": 57,
    "start_time": "2023-03-12T09:04:16.705Z"
   },
   {
    "duration": 4,
    "start_time": "2023-03-12T09:04:16.771Z"
   },
   {
    "duration": 75,
    "start_time": "2023-03-12T09:04:16.777Z"
   },
   {
    "duration": 72,
    "start_time": "2023-03-12T09:04:16.855Z"
   },
   {
    "duration": 3,
    "start_time": "2023-03-12T09:04:16.929Z"
   },
   {
    "duration": 24,
    "start_time": "2023-03-12T09:04:16.934Z"
   },
   {
    "duration": 17,
    "start_time": "2023-03-12T09:04:16.960Z"
   },
   {
    "duration": 0,
    "start_time": "2023-03-12T09:04:16.980Z"
   },
   {
    "duration": 0,
    "start_time": "2023-03-12T09:04:16.982Z"
   },
   {
    "duration": 0,
    "start_time": "2023-03-12T09:04:16.984Z"
   },
   {
    "duration": 0,
    "start_time": "2023-03-12T09:04:16.985Z"
   },
   {
    "duration": 0,
    "start_time": "2023-03-12T09:04:16.987Z"
   },
   {
    "duration": 0,
    "start_time": "2023-03-12T09:04:16.989Z"
   },
   {
    "duration": 0,
    "start_time": "2023-03-12T09:04:16.990Z"
   },
   {
    "duration": 9,
    "start_time": "2023-03-12T09:04:27.432Z"
   },
   {
    "duration": 9,
    "start_time": "2023-03-12T09:04:35.144Z"
   },
   {
    "duration": 11,
    "start_time": "2023-03-12T09:04:39.298Z"
   },
   {
    "duration": 360,
    "start_time": "2023-03-12T09:04:42.129Z"
   },
   {
    "duration": 3,
    "start_time": "2023-03-12T09:04:46.683Z"
   },
   {
    "duration": 9,
    "start_time": "2023-03-12T09:04:49.938Z"
   },
   {
    "duration": 7,
    "start_time": "2023-03-12T09:05:00.193Z"
   },
   {
    "duration": 16,
    "start_time": "2023-03-12T09:05:01.593Z"
   },
   {
    "duration": 19,
    "start_time": "2023-03-12T09:05:56.443Z"
   },
   {
    "duration": 13,
    "start_time": "2023-03-12T09:06:13.757Z"
   },
   {
    "duration": 10,
    "start_time": "2023-03-12T09:06:16.122Z"
   },
   {
    "duration": 69,
    "start_time": "2023-03-12T09:07:36.237Z"
   },
   {
    "duration": 12,
    "start_time": "2023-03-12T09:07:45.253Z"
   },
   {
    "duration": 8,
    "start_time": "2023-03-12T09:07:56.791Z"
   },
   {
    "duration": 10,
    "start_time": "2023-03-12T09:08:25.854Z"
   },
   {
    "duration": 9,
    "start_time": "2023-03-12T09:08:29.199Z"
   },
   {
    "duration": 12,
    "start_time": "2023-03-12T09:08:31.798Z"
   },
   {
    "duration": 5,
    "start_time": "2023-03-12T09:09:00.407Z"
   },
   {
    "duration": 9,
    "start_time": "2023-03-12T09:09:03.728Z"
   },
   {
    "duration": 5,
    "start_time": "2023-03-12T09:09:11.439Z"
   },
   {
    "duration": 11,
    "start_time": "2023-03-12T09:09:13.552Z"
   },
   {
    "duration": 124,
    "start_time": "2023-03-12T09:09:25.586Z"
   },
   {
    "duration": 10,
    "start_time": "2023-03-12T09:09:35.048Z"
   },
   {
    "duration": 12,
    "start_time": "2023-03-12T09:09:44.480Z"
   },
   {
    "duration": 196,
    "start_time": "2023-03-12T09:11:00.625Z"
   },
   {
    "duration": 270,
    "start_time": "2023-03-12T09:11:45.347Z"
   },
   {
    "duration": 2,
    "start_time": "2023-03-12T09:11:56.139Z"
   },
   {
    "duration": 1548,
    "start_time": "2023-03-12T09:12:25.707Z"
   },
   {
    "duration": 32,
    "start_time": "2023-03-12T09:12:31.244Z"
   },
   {
    "duration": 24,
    "start_time": "2023-03-12T09:12:38.724Z"
   },
   {
    "duration": 23,
    "start_time": "2023-03-12T09:13:10.077Z"
   },
   {
    "duration": 173,
    "start_time": "2023-03-12T09:13:12.525Z"
   },
   {
    "duration": 31,
    "start_time": "2023-03-12T09:13:16.365Z"
   },
   {
    "duration": 152,
    "start_time": "2023-03-12T09:13:20.349Z"
   },
   {
    "duration": 59,
    "start_time": "2023-03-12T09:15:26.192Z"
   },
   {
    "duration": 15,
    "start_time": "2023-03-12T09:16:12.200Z"
   },
   {
    "duration": 10,
    "start_time": "2023-03-12T09:16:16.098Z"
   },
   {
    "duration": 35,
    "start_time": "2023-03-12T09:17:32.626Z"
   },
   {
    "duration": 54,
    "start_time": "2023-03-12T09:17:52.132Z"
   },
   {
    "duration": 17,
    "start_time": "2023-03-12T09:17:59.106Z"
   },
   {
    "duration": 33,
    "start_time": "2023-03-12T09:18:17.700Z"
   },
   {
    "duration": 28,
    "start_time": "2023-03-12T09:18:36.781Z"
   },
   {
    "duration": 5,
    "start_time": "2023-03-12T09:18:59.812Z"
   },
   {
    "duration": 7,
    "start_time": "2023-03-12T09:27:22.464Z"
   },
   {
    "duration": 10,
    "start_time": "2023-03-12T09:28:28.930Z"
   },
   {
    "duration": 67,
    "start_time": "2023-03-12T09:28:54.980Z"
   },
   {
    "duration": 24,
    "start_time": "2023-03-12T09:29:06.386Z"
   },
   {
    "duration": 22,
    "start_time": "2023-03-12T09:29:13.795Z"
   },
   {
    "duration": 22,
    "start_time": "2023-03-12T09:29:37.571Z"
   },
   {
    "duration": 21,
    "start_time": "2023-03-12T09:29:42.792Z"
   },
   {
    "duration": 37,
    "start_time": "2023-03-12T09:30:11.587Z"
   },
   {
    "duration": 63,
    "start_time": "2023-03-12T09:43:00.069Z"
   },
   {
    "duration": 31,
    "start_time": "2023-03-12T09:43:25.094Z"
   },
   {
    "duration": 18,
    "start_time": "2023-03-12T09:43:35.022Z"
   },
   {
    "duration": 26,
    "start_time": "2023-03-12T09:43:45.990Z"
   },
   {
    "duration": 37,
    "start_time": "2023-03-12T09:43:49.047Z"
   },
   {
    "duration": 28,
    "start_time": "2023-03-12T09:43:50.357Z"
   },
   {
    "duration": 11,
    "start_time": "2023-03-12T09:44:51.758Z"
   },
   {
    "duration": 9,
    "start_time": "2023-03-12T09:44:52.328Z"
   },
   {
    "duration": 11,
    "start_time": "2023-03-12T09:44:52.952Z"
   },
   {
    "duration": 18,
    "start_time": "2023-03-12T09:44:57.824Z"
   },
   {
    "duration": 5,
    "start_time": "2023-03-12T09:45:02.197Z"
   },
   {
    "duration": 17,
    "start_time": "2023-03-12T10:22:17.345Z"
   },
   {
    "duration": 345,
    "start_time": "2023-03-12T10:22:31.293Z"
   },
   {
    "duration": 10,
    "start_time": "2023-03-12T10:22:53.704Z"
   },
   {
    "duration": 15,
    "start_time": "2023-03-12T10:23:53.395Z"
   },
   {
    "duration": 16,
    "start_time": "2023-03-12T10:24:10.779Z"
   },
   {
    "duration": 11,
    "start_time": "2023-03-12T10:25:13.295Z"
   },
   {
    "duration": 77,
    "start_time": "2023-03-12T10:25:36.455Z"
   },
   {
    "duration": 16,
    "start_time": "2023-03-12T10:25:41.205Z"
   },
   {
    "duration": 21,
    "start_time": "2023-03-12T10:26:06.727Z"
   },
   {
    "duration": 21,
    "start_time": "2023-03-12T10:26:16.838Z"
   },
   {
    "duration": 18,
    "start_time": "2023-03-12T10:26:22.098Z"
   },
   {
    "duration": 29,
    "start_time": "2023-03-12T10:26:26.561Z"
   },
   {
    "duration": 18,
    "start_time": "2023-03-12T10:26:31.831Z"
   },
   {
    "duration": 17,
    "start_time": "2023-03-12T10:27:02.282Z"
   },
   {
    "duration": 17,
    "start_time": "2023-03-12T10:27:03.200Z"
   },
   {
    "duration": 17,
    "start_time": "2023-03-12T10:27:03.833Z"
   },
   {
    "duration": 18,
    "start_time": "2023-03-12T10:27:19.817Z"
   },
   {
    "duration": 18,
    "start_time": "2023-03-12T10:27:20.618Z"
   },
   {
    "duration": 20,
    "start_time": "2023-03-12T10:27:21.448Z"
   },
   {
    "duration": 21,
    "start_time": "2023-03-12T10:27:34.480Z"
   },
   {
    "duration": 20,
    "start_time": "2023-03-12T10:27:35.593Z"
   },
   {
    "duration": 22,
    "start_time": "2023-03-12T10:27:49.353Z"
   },
   {
    "duration": 9,
    "start_time": "2023-03-12T10:29:05.122Z"
   },
   {
    "duration": 7,
    "start_time": "2023-03-12T10:29:41.532Z"
   },
   {
    "duration": 19,
    "start_time": "2023-03-12T10:30:26.716Z"
   },
   {
    "duration": 29,
    "start_time": "2023-03-12T10:30:27.957Z"
   },
   {
    "duration": 20,
    "start_time": "2023-03-12T10:30:28.732Z"
   },
   {
    "duration": 11,
    "start_time": "2023-03-12T10:30:35.481Z"
   },
   {
    "duration": 2,
    "start_time": "2023-03-12T10:31:59.839Z"
   },
   {
    "duration": 2,
    "start_time": "2023-03-12T10:34:28.419Z"
   },
   {
    "duration": 78,
    "start_time": "2023-03-12T10:36:12.573Z"
   },
   {
    "duration": 6,
    "start_time": "2023-03-12T10:54:08.772Z"
   },
   {
    "duration": 10,
    "start_time": "2023-03-12T10:55:17.617Z"
   },
   {
    "duration": 16,
    "start_time": "2023-03-12T10:55:33.440Z"
   },
   {
    "duration": 12,
    "start_time": "2023-03-12T10:57:03.122Z"
   },
   {
    "duration": 5,
    "start_time": "2023-03-12T10:57:24.764Z"
   },
   {
    "duration": 866,
    "start_time": "2023-03-12T10:57:26.050Z"
   },
   {
    "duration": 68,
    "start_time": "2023-03-12T11:04:45.150Z"
   },
   {
    "duration": 7,
    "start_time": "2023-03-12T11:11:31.865Z"
   },
   {
    "duration": 9,
    "start_time": "2023-03-12T11:11:55.921Z"
   },
   {
    "duration": 27,
    "start_time": "2023-03-12T11:12:05.681Z"
   },
   {
    "duration": 38,
    "start_time": "2023-03-12T11:12:40.090Z"
   },
   {
    "duration": 37,
    "start_time": "2023-03-12T11:13:06.922Z"
   },
   {
    "duration": 53,
    "start_time": "2023-03-12T11:13:54.300Z"
   },
   {
    "duration": 36,
    "start_time": "2023-03-12T11:15:03.069Z"
   },
   {
    "duration": 29,
    "start_time": "2023-03-12T11:15:58.792Z"
   },
   {
    "duration": 4,
    "start_time": "2023-03-12T11:18:57.092Z"
   },
   {
    "duration": 11,
    "start_time": "2023-03-12T11:18:57.099Z"
   },
   {
    "duration": 210,
    "start_time": "2023-03-12T11:18:57.112Z"
   },
   {
    "duration": 3,
    "start_time": "2023-03-12T11:18:57.335Z"
   },
   {
    "duration": 32,
    "start_time": "2023-03-12T11:18:57.340Z"
   },
   {
    "duration": 3,
    "start_time": "2023-03-12T11:18:57.374Z"
   },
   {
    "duration": 10,
    "start_time": "2023-03-12T11:18:57.379Z"
   },
   {
    "duration": 21,
    "start_time": "2023-03-12T11:18:57.391Z"
   },
   {
    "duration": 3,
    "start_time": "2023-03-12T11:18:57.416Z"
   },
   {
    "duration": 1057,
    "start_time": "2023-03-12T11:18:57.421Z"
   },
   {
    "duration": 3,
    "start_time": "2023-03-12T11:18:58.480Z"
   },
   {
    "duration": 19,
    "start_time": "2023-03-12T11:18:58.485Z"
   },
   {
    "duration": 30,
    "start_time": "2023-03-12T11:18:58.506Z"
   },
   {
    "duration": 3,
    "start_time": "2023-03-12T11:18:58.557Z"
   },
   {
    "duration": 72,
    "start_time": "2023-03-12T11:18:58.563Z"
   },
   {
    "duration": 95,
    "start_time": "2023-03-12T11:18:58.637Z"
   },
   {
    "duration": 2,
    "start_time": "2023-03-12T11:18:58.734Z"
   },
   {
    "duration": 21,
    "start_time": "2023-03-12T11:18:58.738Z"
   },
   {
    "duration": 13,
    "start_time": "2023-03-12T11:18:58.761Z"
   },
   {
    "duration": 6,
    "start_time": "2023-03-12T11:18:58.776Z"
   },
   {
    "duration": 14,
    "start_time": "2023-03-12T11:18:58.784Z"
   },
   {
    "duration": 383,
    "start_time": "2023-03-12T11:18:58.799Z"
   },
   {
    "duration": 3,
    "start_time": "2023-03-12T11:18:59.185Z"
   },
   {
    "duration": 8,
    "start_time": "2023-03-12T11:18:59.193Z"
   },
   {
    "duration": 21,
    "start_time": "2023-03-12T11:18:59.203Z"
   },
   {
    "duration": 236,
    "start_time": "2023-03-12T11:18:59.226Z"
   },
   {
    "duration": 3,
    "start_time": "2023-03-12T11:18:59.464Z"
   },
   {
    "duration": 12,
    "start_time": "2023-03-12T11:18:59.469Z"
   },
   {
    "duration": 14,
    "start_time": "2023-03-12T11:18:59.483Z"
   },
   {
    "duration": 0,
    "start_time": "2023-03-12T11:18:59.499Z"
   },
   {
    "duration": 0,
    "start_time": "2023-03-12T11:18:59.501Z"
   },
   {
    "duration": 0,
    "start_time": "2023-03-12T11:18:59.503Z"
   },
   {
    "duration": 0,
    "start_time": "2023-03-12T11:18:59.504Z"
   },
   {
    "duration": 0,
    "start_time": "2023-03-12T11:18:59.505Z"
   },
   {
    "duration": 0,
    "start_time": "2023-03-12T11:18:59.506Z"
   },
   {
    "duration": 0,
    "start_time": "2023-03-12T11:18:59.507Z"
   },
   {
    "duration": 0,
    "start_time": "2023-03-12T11:18:59.509Z"
   },
   {
    "duration": 0,
    "start_time": "2023-03-12T11:18:59.510Z"
   },
   {
    "duration": 0,
    "start_time": "2023-03-12T11:18:59.558Z"
   },
   {
    "duration": 0,
    "start_time": "2023-03-12T11:18:59.560Z"
   },
   {
    "duration": 0,
    "start_time": "2023-03-12T11:18:59.561Z"
   },
   {
    "duration": 0,
    "start_time": "2023-03-12T11:18:59.563Z"
   },
   {
    "duration": 0,
    "start_time": "2023-03-12T11:18:59.565Z"
   },
   {
    "duration": 0,
    "start_time": "2023-03-12T11:18:59.566Z"
   },
   {
    "duration": 0,
    "start_time": "2023-03-12T11:18:59.567Z"
   },
   {
    "duration": 0,
    "start_time": "2023-03-12T11:18:59.569Z"
   },
   {
    "duration": 0,
    "start_time": "2023-03-12T11:18:59.570Z"
   },
   {
    "duration": 0,
    "start_time": "2023-03-12T11:18:59.572Z"
   },
   {
    "duration": 0,
    "start_time": "2023-03-12T11:18:59.573Z"
   },
   {
    "duration": 0,
    "start_time": "2023-03-12T11:18:59.574Z"
   },
   {
    "duration": 0,
    "start_time": "2023-03-12T11:18:59.575Z"
   },
   {
    "duration": 0,
    "start_time": "2023-03-12T11:18:59.576Z"
   },
   {
    "duration": 0,
    "start_time": "2023-03-12T11:18:59.577Z"
   },
   {
    "duration": 0,
    "start_time": "2023-03-12T11:18:59.578Z"
   },
   {
    "duration": 0,
    "start_time": "2023-03-12T11:18:59.579Z"
   },
   {
    "duration": 0,
    "start_time": "2023-03-12T11:18:59.580Z"
   },
   {
    "duration": 0,
    "start_time": "2023-03-12T11:18:59.581Z"
   },
   {
    "duration": 0,
    "start_time": "2023-03-12T11:18:59.582Z"
   },
   {
    "duration": 0,
    "start_time": "2023-03-12T11:18:59.584Z"
   },
   {
    "duration": 3,
    "start_time": "2023-03-12T11:19:20.689Z"
   },
   {
    "duration": 7,
    "start_time": "2023-03-12T11:19:20.694Z"
   },
   {
    "duration": 203,
    "start_time": "2023-03-12T11:19:20.703Z"
   },
   {
    "duration": 3,
    "start_time": "2023-03-12T11:19:20.908Z"
   },
   {
    "duration": 26,
    "start_time": "2023-03-12T11:19:20.913Z"
   },
   {
    "duration": 7,
    "start_time": "2023-03-12T11:19:20.941Z"
   },
   {
    "duration": 7,
    "start_time": "2023-03-12T11:19:20.958Z"
   },
   {
    "duration": 18,
    "start_time": "2023-03-12T11:19:20.967Z"
   },
   {
    "duration": 2,
    "start_time": "2023-03-12T11:19:20.987Z"
   },
   {
    "duration": 991,
    "start_time": "2023-03-12T11:19:20.991Z"
   },
   {
    "duration": 4,
    "start_time": "2023-03-12T11:19:21.986Z"
   },
   {
    "duration": 12,
    "start_time": "2023-03-12T11:19:21.992Z"
   },
   {
    "duration": 58,
    "start_time": "2023-03-12T11:19:22.006Z"
   },
   {
    "duration": 3,
    "start_time": "2023-03-12T11:19:22.066Z"
   },
   {
    "duration": 93,
    "start_time": "2023-03-12T11:19:22.071Z"
   },
   {
    "duration": 77,
    "start_time": "2023-03-12T11:19:22.166Z"
   },
   {
    "duration": 12,
    "start_time": "2023-03-12T11:19:22.245Z"
   },
   {
    "duration": 9,
    "start_time": "2023-03-12T11:19:22.260Z"
   },
   {
    "duration": 14,
    "start_time": "2023-03-12T11:19:22.270Z"
   },
   {
    "duration": 7,
    "start_time": "2023-03-12T11:19:22.286Z"
   },
   {
    "duration": 9,
    "start_time": "2023-03-12T11:19:22.294Z"
   },
   {
    "duration": 370,
    "start_time": "2023-03-12T11:19:22.305Z"
   },
   {
    "duration": 3,
    "start_time": "2023-03-12T11:19:22.677Z"
   },
   {
    "duration": 12,
    "start_time": "2023-03-12T11:19:22.682Z"
   },
   {
    "duration": 14,
    "start_time": "2023-03-12T11:19:22.696Z"
   },
   {
    "duration": 948,
    "start_time": "2023-03-12T11:19:22.712Z"
   },
   {
    "duration": 2,
    "start_time": "2023-03-12T11:19:23.662Z"
   },
   {
    "duration": 11,
    "start_time": "2023-03-12T11:19:23.666Z"
   },
   {
    "duration": 8,
    "start_time": "2023-03-12T11:19:23.681Z"
   },
   {
    "duration": 3,
    "start_time": "2023-03-12T11:19:23.691Z"
   },
   {
    "duration": 64,
    "start_time": "2023-03-12T11:19:23.696Z"
   },
   {
    "duration": 161,
    "start_time": "2023-03-12T11:19:23.762Z"
   },
   {
    "duration": 3,
    "start_time": "2023-03-12T11:19:23.925Z"
   },
   {
    "duration": 63,
    "start_time": "2023-03-12T11:19:23.930Z"
   },
   {
    "duration": 4,
    "start_time": "2023-03-12T11:19:23.996Z"
   },
   {
    "duration": 13,
    "start_time": "2023-03-12T11:19:24.002Z"
   },
   {
    "duration": 83,
    "start_time": "2023-03-12T11:19:24.017Z"
   },
   {
    "duration": 12,
    "start_time": "2023-03-12T11:19:24.103Z"
   },
   {
    "duration": 13,
    "start_time": "2023-03-12T11:19:24.117Z"
   },
   {
    "duration": 4,
    "start_time": "2023-03-12T11:19:24.131Z"
   },
   {
    "duration": 35,
    "start_time": "2023-03-12T11:19:24.156Z"
   },
   {
    "duration": 2,
    "start_time": "2023-03-12T11:19:24.193Z"
   },
   {
    "duration": 71,
    "start_time": "2023-03-12T11:19:24.197Z"
   },
   {
    "duration": 16,
    "start_time": "2023-03-12T11:19:24.271Z"
   },
   {
    "duration": 35,
    "start_time": "2023-03-12T11:19:24.289Z"
   },
   {
    "duration": 56,
    "start_time": "2023-03-12T11:19:24.326Z"
   },
   {
    "duration": 3,
    "start_time": "2023-03-12T11:19:24.384Z"
   },
   {
    "duration": 9,
    "start_time": "2023-03-12T11:19:24.388Z"
   },
   {
    "duration": 14,
    "start_time": "2023-03-12T11:19:24.398Z"
   },
   {
    "duration": 59,
    "start_time": "2023-03-12T11:19:24.414Z"
   },
   {
    "duration": 58,
    "start_time": "2023-03-12T11:19:24.476Z"
   },
   {
    "duration": 38,
    "start_time": "2023-03-12T11:19:24.535Z"
   },
   {
    "duration": 20,
    "start_time": "2023-03-12T11:19:24.575Z"
   },
   {
    "duration": 20,
    "start_time": "2023-03-12T11:19:24.596Z"
   },
   {
    "duration": 2,
    "start_time": "2023-03-12T11:19:24.618Z"
   },
   {
    "duration": 49,
    "start_time": "2023-03-12T11:19:24.656Z"
   },
   {
    "duration": 56,
    "start_time": "2023-03-12T11:19:24.706Z"
   },
   {
    "duration": 39,
    "start_time": "2023-03-12T11:19:24.763Z"
   },
   {
    "duration": 56,
    "start_time": "2023-03-12T11:19:24.804Z"
   },
   {
    "duration": 2,
    "start_time": "2023-03-12T11:20:38.846Z"
   },
   {
    "duration": 8,
    "start_time": "2023-03-12T11:34:52.377Z"
   },
   {
    "duration": 5,
    "start_time": "2023-03-12T11:35:47.739Z"
   },
   {
    "duration": 10,
    "start_time": "2023-03-12T11:35:53.257Z"
   },
   {
    "duration": 10,
    "start_time": "2023-03-12T11:36:08.297Z"
   },
   {
    "duration": 15,
    "start_time": "2023-03-12T11:36:23.379Z"
   },
   {
    "duration": 16,
    "start_time": "2023-03-12T11:36:55.666Z"
   },
   {
    "duration": 9,
    "start_time": "2023-03-12T11:41:14.345Z"
   },
   {
    "duration": 6,
    "start_time": "2023-03-12T11:41:20.560Z"
   },
   {
    "duration": 13,
    "start_time": "2023-03-12T11:41:35.601Z"
   },
   {
    "duration": 37,
    "start_time": "2023-03-12T11:41:40.888Z"
   },
   {
    "duration": 53,
    "start_time": "2023-03-12T11:45:24.567Z"
   },
   {
    "duration": 46,
    "start_time": "2023-03-12T11:45:35.956Z"
   },
   {
    "duration": 46,
    "start_time": "2023-03-12T11:48:03.003Z"
   },
   {
    "duration": 32,
    "start_time": "2023-03-12T11:48:11.881Z"
   },
   {
    "duration": 43,
    "start_time": "2023-03-12T11:48:16.979Z"
   },
   {
    "duration": 46,
    "start_time": "2023-03-12T11:48:18.847Z"
   },
   {
    "duration": 42,
    "start_time": "2023-03-12T11:48:41.706Z"
   },
   {
    "duration": 32,
    "start_time": "2023-03-12T11:48:46.441Z"
   },
   {
    "duration": 46,
    "start_time": "2023-03-12T11:48:59.808Z"
   },
   {
    "duration": 41,
    "start_time": "2023-03-12T11:49:08.898Z"
   },
   {
    "duration": 50,
    "start_time": "2023-03-12T11:49:11.824Z"
   },
   {
    "duration": 33,
    "start_time": "2023-03-12T11:49:14.651Z"
   },
   {
    "duration": 55,
    "start_time": "2023-03-12T11:49:47.084Z"
   },
   {
    "duration": 36,
    "start_time": "2023-03-12T11:49:48.201Z"
   },
   {
    "duration": 34,
    "start_time": "2023-03-12T11:49:49.233Z"
   },
   {
    "duration": 34,
    "start_time": "2023-03-12T11:49:50.380Z"
   },
   {
    "duration": 31,
    "start_time": "2023-03-12T11:51:15.803Z"
   },
   {
    "duration": 32,
    "start_time": "2023-03-12T11:52:10.157Z"
   },
   {
    "duration": 32,
    "start_time": "2023-03-12T11:52:12.013Z"
   },
   {
    "duration": 32,
    "start_time": "2023-03-12T11:52:16.292Z"
   },
   {
    "duration": 32,
    "start_time": "2023-03-12T11:52:20.877Z"
   },
   {
    "duration": 44,
    "start_time": "2023-03-12T11:52:24.614Z"
   },
   {
    "duration": 10,
    "start_time": "2023-03-12T11:56:32.642Z"
   },
   {
    "duration": 5,
    "start_time": "2023-03-12T11:57:06.365Z"
   },
   {
    "duration": 10,
    "start_time": "2023-03-12T12:01:00.704Z"
   },
   {
    "duration": 34,
    "start_time": "2023-03-12T12:01:33.194Z"
   },
   {
    "duration": 13,
    "start_time": "2023-03-12T12:01:44.833Z"
   },
   {
    "duration": 71,
    "start_time": "2023-03-12T12:01:52.400Z"
   },
   {
    "duration": 1359,
    "start_time": "2023-03-12T12:11:03.231Z"
   },
   {
    "duration": 81,
    "start_time": "2023-03-12T12:11:09.334Z"
   },
   {
    "duration": 85,
    "start_time": "2023-03-12T12:11:13.304Z"
   },
   {
    "duration": 74,
    "start_time": "2023-03-12T12:11:17.071Z"
   },
   {
    "duration": 91,
    "start_time": "2023-03-12T12:11:22.079Z"
   },
   {
    "duration": 15,
    "start_time": "2023-03-12T12:15:25.853Z"
   },
   {
    "duration": 62,
    "start_time": "2023-03-12T12:15:59.585Z"
   },
   {
    "duration": 63,
    "start_time": "2023-03-12T12:16:32.742Z"
   },
   {
    "duration": 7,
    "start_time": "2023-03-12T12:16:38.640Z"
   },
   {
    "duration": 8,
    "start_time": "2023-03-12T12:16:46.317Z"
   },
   {
    "duration": 1306,
    "start_time": "2023-03-12T12:17:49.504Z"
   },
   {
    "duration": 8,
    "start_time": "2023-03-12T12:17:59.986Z"
   },
   {
    "duration": 15,
    "start_time": "2023-03-12T12:18:06.447Z"
   },
   {
    "duration": 4,
    "start_time": "2023-03-12T12:18:08.249Z"
   },
   {
    "duration": 15,
    "start_time": "2023-03-12T12:18:17.552Z"
   },
   {
    "duration": 6,
    "start_time": "2023-03-12T12:18:45.344Z"
   },
   {
    "duration": 5,
    "start_time": "2023-03-12T12:18:49.712Z"
   },
   {
    "duration": 1211,
    "start_time": "2023-03-12T12:18:58.537Z"
   },
   {
    "duration": 7,
    "start_time": "2023-03-12T12:19:04.521Z"
   },
   {
    "duration": 66,
    "start_time": "2023-03-12T12:19:20.537Z"
   },
   {
    "duration": 6,
    "start_time": "2023-03-12T12:20:19.651Z"
   },
   {
    "duration": 72,
    "start_time": "2023-03-12T12:20:43.555Z"
   },
   {
    "duration": 8,
    "start_time": "2023-03-12T12:20:47.269Z"
   },
   {
    "duration": 7,
    "start_time": "2023-03-12T12:21:18.077Z"
   },
   {
    "duration": 6,
    "start_time": "2023-03-12T12:21:41.974Z"
   },
   {
    "duration": 7,
    "start_time": "2023-03-12T12:21:44.877Z"
   },
   {
    "duration": 1379,
    "start_time": "2023-03-12T12:21:47.926Z"
   },
   {
    "duration": 7,
    "start_time": "2023-03-12T12:21:53.239Z"
   },
   {
    "duration": 7,
    "start_time": "2023-03-12T12:21:56.821Z"
   },
   {
    "duration": 1244,
    "start_time": "2023-03-12T12:22:03.501Z"
   },
   {
    "duration": 7,
    "start_time": "2023-03-12T12:22:09.668Z"
   },
   {
    "duration": 7,
    "start_time": "2023-03-12T12:22:27.647Z"
   },
   {
    "duration": 72,
    "start_time": "2023-03-12T12:22:38.798Z"
   },
   {
    "duration": 6,
    "start_time": "2023-03-12T12:22:58.424Z"
   },
   {
    "duration": 4,
    "start_time": "2023-03-12T12:23:06.448Z"
   },
   {
    "duration": 11,
    "start_time": "2023-03-12T12:23:17.592Z"
   },
   {
    "duration": 7,
    "start_time": "2023-03-12T12:23:20.712Z"
   },
   {
    "duration": 18,
    "start_time": "2023-03-12T12:23:34.257Z"
   },
   {
    "duration": 1207,
    "start_time": "2023-03-12T12:23:36.903Z"
   },
   {
    "duration": 7,
    "start_time": "2023-03-12T12:23:41.605Z"
   },
   {
    "duration": 7,
    "start_time": "2023-03-12T12:24:18.505Z"
   },
   {
    "duration": 5,
    "start_time": "2023-03-12T12:24:25.193Z"
   },
   {
    "duration": 87,
    "start_time": "2023-03-12T12:24:32.642Z"
   },
   {
    "duration": 6,
    "start_time": "2023-03-12T12:24:39.385Z"
   },
   {
    "duration": 6,
    "start_time": "2023-03-12T12:26:09.147Z"
   },
   {
    "duration": 6,
    "start_time": "2023-03-12T12:26:17.923Z"
   },
   {
    "duration": 7,
    "start_time": "2023-03-12T12:26:24.974Z"
   },
   {
    "duration": 6,
    "start_time": "2023-03-12T12:26:27.471Z"
   },
   {
    "duration": 1248,
    "start_time": "2023-03-12T14:16:45.435Z"
   },
   {
    "duration": 3,
    "start_time": "2023-03-12T14:16:46.685Z"
   },
   {
    "duration": 176,
    "start_time": "2023-03-12T14:16:46.689Z"
   },
   {
    "duration": 20,
    "start_time": "2023-03-12T14:16:46.867Z"
   },
   {
    "duration": 4,
    "start_time": "2023-03-12T14:16:46.889Z"
   },
   {
    "duration": 18,
    "start_time": "2023-03-12T14:16:46.895Z"
   },
   {
    "duration": 1085,
    "start_time": "2023-03-12T14:16:46.915Z"
   },
   {
    "duration": 2,
    "start_time": "2023-03-12T14:16:48.002Z"
   },
   {
    "duration": 13,
    "start_time": "2023-03-12T14:16:48.006Z"
   },
   {
    "duration": 73,
    "start_time": "2023-03-12T14:16:48.021Z"
   },
   {
    "duration": 3,
    "start_time": "2023-03-12T14:16:48.096Z"
   },
   {
    "duration": 80,
    "start_time": "2023-03-12T14:16:48.100Z"
   },
   {
    "duration": 84,
    "start_time": "2023-03-12T14:16:48.182Z"
   },
   {
    "duration": 2,
    "start_time": "2023-03-12T14:16:48.271Z"
   },
   {
    "duration": 10,
    "start_time": "2023-03-12T14:16:48.275Z"
   },
   {
    "duration": 11,
    "start_time": "2023-03-12T14:16:48.287Z"
   },
   {
    "duration": 8,
    "start_time": "2023-03-12T14:16:48.299Z"
   },
   {
    "duration": 9,
    "start_time": "2023-03-12T14:16:48.309Z"
   },
   {
    "duration": 404,
    "start_time": "2023-03-12T14:16:48.320Z"
   },
   {
    "duration": 2,
    "start_time": "2023-03-12T14:16:48.726Z"
   },
   {
    "duration": 10,
    "start_time": "2023-03-12T14:16:48.729Z"
   },
   {
    "duration": 25,
    "start_time": "2023-03-12T14:16:48.741Z"
   },
   {
    "duration": 186,
    "start_time": "2023-03-12T14:16:48.767Z"
   },
   {
    "duration": 2,
    "start_time": "2023-03-12T14:16:48.956Z"
   },
   {
    "duration": 15,
    "start_time": "2023-03-12T14:16:48.960Z"
   },
   {
    "duration": 12,
    "start_time": "2023-03-12T14:16:48.977Z"
   },
   {
    "duration": 5,
    "start_time": "2023-03-12T14:16:48.991Z"
   },
   {
    "duration": 26,
    "start_time": "2023-03-12T14:16:48.998Z"
   },
   {
    "duration": 164,
    "start_time": "2023-03-12T14:16:49.025Z"
   },
   {
    "duration": 2,
    "start_time": "2023-03-12T14:16:49.191Z"
   },
   {
    "duration": 28,
    "start_time": "2023-03-12T14:16:49.195Z"
   },
   {
    "duration": 4,
    "start_time": "2023-03-12T14:16:49.225Z"
   },
   {
    "duration": 303,
    "start_time": "2023-03-12T14:16:49.230Z"
   },
   {
    "duration": 69,
    "start_time": "2023-03-12T14:16:49.535Z"
   },
   {
    "duration": 13,
    "start_time": "2023-03-12T14:16:49.657Z"
   },
   {
    "duration": 9,
    "start_time": "2023-03-12T14:16:49.672Z"
   },
   {
    "duration": 7,
    "start_time": "2023-03-12T14:16:49.683Z"
   },
   {
    "duration": 90,
    "start_time": "2023-03-12T14:16:49.691Z"
   },
   {
    "duration": 6,
    "start_time": "2023-03-12T14:16:49.782Z"
   },
   {
    "duration": 10,
    "start_time": "2023-03-12T14:16:49.790Z"
   },
   {
    "duration": 7,
    "start_time": "2023-03-12T14:16:49.804Z"
   },
   {
    "duration": 59,
    "start_time": "2023-03-12T14:16:49.812Z"
   },
   {
    "duration": 2,
    "start_time": "2023-03-12T14:16:49.873Z"
   },
   {
    "duration": 48,
    "start_time": "2023-03-12T14:16:49.878Z"
   },
   {
    "duration": 38,
    "start_time": "2023-03-12T14:16:49.929Z"
   },
   {
    "duration": 30,
    "start_time": "2023-03-12T14:16:49.969Z"
   },
   {
    "duration": 29,
    "start_time": "2023-03-12T14:16:50.001Z"
   },
   {
    "duration": 2,
    "start_time": "2023-03-12T14:16:50.032Z"
   },
   {
    "duration": 6,
    "start_time": "2023-03-12T14:16:50.058Z"
   },
   {
    "duration": 6,
    "start_time": "2023-03-12T14:16:50.065Z"
   },
   {
    "duration": 57,
    "start_time": "2023-03-12T14:16:50.072Z"
   },
   {
    "duration": 74,
    "start_time": "2023-03-12T14:16:50.131Z"
   },
   {
    "duration": 18,
    "start_time": "2023-03-12T14:16:50.207Z"
   },
   {
    "duration": 36,
    "start_time": "2023-03-12T14:16:50.227Z"
   },
   {
    "duration": 19,
    "start_time": "2023-03-12T14:16:50.265Z"
   },
   {
    "duration": 2,
    "start_time": "2023-03-12T14:16:50.285Z"
   },
   {
    "duration": 74,
    "start_time": "2023-03-12T14:16:50.289Z"
   },
   {
    "duration": 34,
    "start_time": "2023-03-12T14:16:50.365Z"
   },
   {
    "duration": 34,
    "start_time": "2023-03-12T14:16:50.400Z"
   },
   {
    "duration": 51,
    "start_time": "2023-03-12T14:16:50.436Z"
   },
   {
    "duration": 17,
    "start_time": "2023-03-12T14:16:50.489Z"
   },
   {
    "duration": 65,
    "start_time": "2023-03-12T14:16:50.507Z"
   },
   {
    "duration": 31,
    "start_time": "2023-03-12T14:16:50.574Z"
   },
   {
    "duration": 50,
    "start_time": "2023-03-12T14:16:50.607Z"
   },
   {
    "duration": 29,
    "start_time": "2023-03-12T14:16:50.659Z"
   },
   {
    "duration": 2,
    "start_time": "2023-03-12T14:16:50.690Z"
   },
   {
    "duration": 9,
    "start_time": "2023-03-12T14:16:50.693Z"
   },
   {
    "duration": 5,
    "start_time": "2023-03-12T14:18:33.754Z"
   },
   {
    "duration": 691,
    "start_time": "2023-03-12T14:30:29.093Z"
   },
   {
    "duration": 1746,
    "start_time": "2023-03-12T15:20:03.580Z"
   },
   {
    "duration": 5,
    "start_time": "2023-03-12T15:20:05.328Z"
   },
   {
    "duration": 376,
    "start_time": "2023-03-12T15:20:05.334Z"
   },
   {
    "duration": 23,
    "start_time": "2023-03-12T15:20:05.712Z"
   },
   {
    "duration": 5,
    "start_time": "2023-03-12T15:20:05.737Z"
   },
   {
    "duration": 30,
    "start_time": "2023-03-12T15:20:05.744Z"
   },
   {
    "duration": 1010,
    "start_time": "2023-03-12T15:20:05.776Z"
   },
   {
    "duration": 4,
    "start_time": "2023-03-12T15:20:06.789Z"
   },
   {
    "duration": 13,
    "start_time": "2023-03-12T15:20:06.794Z"
   },
   {
    "duration": 132,
    "start_time": "2023-03-12T15:20:06.809Z"
   },
   {
    "duration": 2,
    "start_time": "2023-03-12T15:20:06.943Z"
   },
   {
    "duration": 88,
    "start_time": "2023-03-12T15:20:06.947Z"
   },
   {
    "duration": 76,
    "start_time": "2023-03-12T15:20:11.622Z"
   },
   {
    "duration": 2084,
    "start_time": "2023-03-12T15:20:59.899Z"
   },
   {
    "duration": 119,
    "start_time": "2023-03-12T15:21:40.680Z"
   },
   {
    "duration": 71,
    "start_time": "2023-03-12T15:24:57.336Z"
   },
   {
    "duration": 3,
    "start_time": "2023-03-12T17:51:02.835Z"
   },
   {
    "duration": 7,
    "start_time": "2023-03-12T17:51:02.841Z"
   },
   {
    "duration": 198,
    "start_time": "2023-03-12T17:51:02.850Z"
   },
   {
    "duration": 25,
    "start_time": "2023-03-12T17:51:03.049Z"
   },
   {
    "duration": 8,
    "start_time": "2023-03-12T17:51:47.310Z"
   },
   {
    "duration": 14,
    "start_time": "2023-03-12T17:53:46.722Z"
   },
   {
    "duration": 121,
    "start_time": "2023-03-12T17:53:54.599Z"
   },
   {
    "duration": 6,
    "start_time": "2023-03-12T17:54:00.249Z"
   },
   {
    "duration": 8,
    "start_time": "2023-03-12T17:54:07.583Z"
   },
   {
    "duration": 4,
    "start_time": "2023-03-12T17:54:18.507Z"
   },
   {
    "duration": 5,
    "start_time": "2023-03-12T17:54:25.196Z"
   },
   {
    "duration": 16702,
    "start_time": "2023-03-12T17:55:22.315Z"
   },
   {
    "duration": 9,
    "start_time": "2023-03-12T17:55:48.199Z"
   },
   {
    "duration": 9,
    "start_time": "2023-03-12T17:56:38.847Z"
   },
   {
    "duration": 16192,
    "start_time": "2023-03-12T17:56:43.513Z"
   },
   {
    "duration": 7,
    "start_time": "2023-03-12T17:57:09.003Z"
   },
   {
    "duration": 6,
    "start_time": "2023-03-12T17:57:49.901Z"
   },
   {
    "duration": 77,
    "start_time": "2023-03-12T17:58:40.528Z"
   },
   {
    "duration": 80,
    "start_time": "2023-03-12T17:59:16.512Z"
   },
   {
    "duration": 3,
    "start_time": "2023-03-12T17:59:28.246Z"
   },
   {
    "duration": 5,
    "start_time": "2023-03-12T17:59:28.252Z"
   },
   {
    "duration": 152,
    "start_time": "2023-03-12T17:59:28.259Z"
   },
   {
    "duration": 21,
    "start_time": "2023-03-12T17:59:28.413Z"
   },
   {
    "duration": 6,
    "start_time": "2023-03-12T17:59:28.436Z"
   },
   {
    "duration": 22,
    "start_time": "2023-03-12T17:59:28.445Z"
   },
   {
    "duration": 24,
    "start_time": "2023-03-12T17:59:28.469Z"
   },
   {
    "duration": 951,
    "start_time": "2023-03-12T17:59:28.495Z"
   },
   {
    "duration": 3,
    "start_time": "2023-03-12T17:59:29.448Z"
   },
   {
    "duration": 9,
    "start_time": "2023-03-12T17:59:29.463Z"
   },
   {
    "duration": 23,
    "start_time": "2023-03-12T17:59:29.474Z"
   },
   {
    "duration": 2,
    "start_time": "2023-03-12T17:59:29.499Z"
   },
   {
    "duration": 79,
    "start_time": "2023-03-12T17:59:29.502Z"
   },
   {
    "duration": 99,
    "start_time": "2023-03-12T17:59:33.199Z"
   },
   {
    "duration": 75,
    "start_time": "2023-03-12T18:02:50.726Z"
   },
   {
    "duration": 4,
    "start_time": "2023-03-12T18:03:50.271Z"
   },
   {
    "duration": 59,
    "start_time": "2023-03-12T18:04:03.739Z"
   },
   {
    "duration": 4,
    "start_time": "2023-03-12T18:04:11.316Z"
   },
   {
    "duration": 71,
    "start_time": "2023-03-12T18:04:57.298Z"
   },
   {
    "duration": 4,
    "start_time": "2023-03-12T18:12:55.339Z"
   },
   {
    "duration": 8,
    "start_time": "2023-03-12T18:12:55.345Z"
   },
   {
    "duration": 161,
    "start_time": "2023-03-12T18:12:55.355Z"
   },
   {
    "duration": 22,
    "start_time": "2023-03-12T18:12:55.518Z"
   },
   {
    "duration": 5,
    "start_time": "2023-03-12T18:12:55.542Z"
   },
   {
    "duration": 17,
    "start_time": "2023-03-12T18:12:55.548Z"
   },
   {
    "duration": 13,
    "start_time": "2023-03-12T18:12:55.567Z"
   },
   {
    "duration": 967,
    "start_time": "2023-03-12T18:12:55.582Z"
   },
   {
    "duration": 3,
    "start_time": "2023-03-12T18:12:56.551Z"
   },
   {
    "duration": 7,
    "start_time": "2023-03-12T18:12:56.565Z"
   },
   {
    "duration": 27,
    "start_time": "2023-03-12T18:12:56.574Z"
   },
   {
    "duration": 92,
    "start_time": "2023-03-12T18:12:56.603Z"
   },
   {
    "duration": 5,
    "start_time": "2023-03-12T18:12:56.697Z"
   },
   {
    "duration": 86,
    "start_time": "2023-03-12T18:12:56.705Z"
   },
   {
    "duration": 5,
    "start_time": "2023-03-12T18:12:56.793Z"
   },
   {
    "duration": 5,
    "start_time": "2023-03-12T18:12:56.800Z"
   },
   {
    "duration": 22,
    "start_time": "2023-03-12T18:12:56.807Z"
   },
   {
    "duration": 9,
    "start_time": "2023-03-12T18:12:59.476Z"
   },
   {
    "duration": 7,
    "start_time": "2023-03-12T18:13:01.586Z"
   },
   {
    "duration": 288,
    "start_time": "2023-03-12T18:15:46.646Z"
   },
   {
    "duration": 183,
    "start_time": "2023-03-12T18:15:55.334Z"
   },
   {
    "duration": 491,
    "start_time": "2023-03-12T18:16:08.305Z"
   },
   {
    "duration": 384,
    "start_time": "2023-03-12T18:16:14.335Z"
   },
   {
    "duration": 190,
    "start_time": "2023-03-12T18:16:18.079Z"
   },
   {
    "duration": 711,
    "start_time": "2023-03-12T18:16:26.303Z"
   },
   {
    "duration": 815,
    "start_time": "2023-03-12T18:17:00.981Z"
   },
   {
    "duration": 1409,
    "start_time": "2023-03-12T18:17:20.181Z"
   },
   {
    "duration": 341,
    "start_time": "2023-03-12T18:17:56.121Z"
   },
   {
    "duration": 776,
    "start_time": "2023-03-12T18:18:03.545Z"
   },
   {
    "duration": 295,
    "start_time": "2023-03-12T18:18:10.297Z"
   },
   {
    "duration": 580,
    "start_time": "2023-03-12T18:18:19.137Z"
   },
   {
    "duration": 399,
    "start_time": "2023-03-12T18:19:29.099Z"
   },
   {
    "duration": 69,
    "start_time": "2023-03-12T18:21:03.511Z"
   },
   {
    "duration": 11,
    "start_time": "2023-03-12T18:22:30.303Z"
   },
   {
    "duration": 525,
    "start_time": "2023-03-12T18:23:22.837Z"
   },
   {
    "duration": 273,
    "start_time": "2023-03-12T18:23:51.349Z"
   },
   {
    "duration": 557,
    "start_time": "2023-03-12T18:24:10.790Z"
   },
   {
    "duration": 681,
    "start_time": "2023-03-12T18:24:25.443Z"
   },
   {
    "duration": 564,
    "start_time": "2023-03-12T18:24:31.618Z"
   },
   {
    "duration": 149,
    "start_time": "2023-03-12T18:24:59.027Z"
   },
   {
    "duration": 191,
    "start_time": "2023-03-12T18:25:10.390Z"
   },
   {
    "duration": 925,
    "start_time": "2023-03-12T18:25:16.747Z"
   },
   {
    "duration": 0,
    "start_time": "2023-03-12T18:26:21.748Z"
   },
   {
    "duration": 151,
    "start_time": "2023-03-12T18:26:38.628Z"
   },
   {
    "duration": 177,
    "start_time": "2023-03-12T18:27:00.829Z"
   },
   {
    "duration": 243,
    "start_time": "2023-03-12T18:28:06.342Z"
   },
   {
    "duration": 22,
    "start_time": "2023-03-12T18:28:13.555Z"
   },
   {
    "duration": 21,
    "start_time": "2023-03-12T18:28:24.679Z"
   },
   {
    "duration": 22,
    "start_time": "2023-03-12T18:28:40.696Z"
   },
   {
    "duration": 23,
    "start_time": "2023-03-12T18:28:45.216Z"
   },
   {
    "duration": 22,
    "start_time": "2023-03-12T18:28:56.268Z"
   },
   {
    "duration": 22,
    "start_time": "2023-03-12T18:29:02.319Z"
   },
   {
    "duration": 43,
    "start_time": "2023-03-12T18:29:40.185Z"
   },
   {
    "duration": 25,
    "start_time": "2023-03-12T18:29:44.173Z"
   },
   {
    "duration": 118,
    "start_time": "2023-03-12T18:30:01.922Z"
   },
   {
    "duration": 30,
    "start_time": "2023-03-12T18:37:39.770Z"
   },
   {
    "duration": 1157,
    "start_time": "2023-03-12T18:38:48.716Z"
   },
   {
    "duration": 266,
    "start_time": "2023-03-12T18:38:53.654Z"
   },
   {
    "duration": 67,
    "start_time": "2023-03-12T18:39:09.662Z"
   },
   {
    "duration": 210,
    "start_time": "2023-03-12T18:39:31.918Z"
   },
   {
    "duration": 188,
    "start_time": "2023-03-12T18:39:46.737Z"
   },
   {
    "duration": 174,
    "start_time": "2023-03-12T18:40:09.982Z"
   },
   {
    "duration": 183,
    "start_time": "2023-03-12T18:40:32.199Z"
   },
   {
    "duration": 139,
    "start_time": "2023-03-12T18:51:32.892Z"
   },
   {
    "duration": 149,
    "start_time": "2023-03-12T18:51:53.892Z"
   },
   {
    "duration": 123,
    "start_time": "2023-03-12T18:52:13.891Z"
   },
   {
    "duration": 152,
    "start_time": "2023-03-12T18:52:54.511Z"
   },
   {
    "duration": 114,
    "start_time": "2023-03-12T18:53:05.870Z"
   },
   {
    "duration": 106,
    "start_time": "2023-03-12T18:53:10.703Z"
   },
   {
    "duration": 1313,
    "start_time": "2023-03-13T04:37:40.327Z"
   },
   {
    "duration": 4,
    "start_time": "2023-03-13T04:37:41.642Z"
   },
   {
    "duration": 263,
    "start_time": "2023-03-13T04:37:41.648Z"
   },
   {
    "duration": 28,
    "start_time": "2023-03-13T04:37:41.914Z"
   },
   {
    "duration": 5,
    "start_time": "2023-03-13T04:37:41.944Z"
   },
   {
    "duration": 5,
    "start_time": "2023-03-13T04:37:41.951Z"
   },
   {
    "duration": 27,
    "start_time": "2023-03-13T04:37:41.958Z"
   },
   {
    "duration": 982,
    "start_time": "2023-03-13T04:37:41.987Z"
   },
   {
    "duration": 2,
    "start_time": "2023-03-13T04:37:42.971Z"
   },
   {
    "duration": 7,
    "start_time": "2023-03-13T04:37:42.979Z"
   },
   {
    "duration": 58,
    "start_time": "2023-03-13T04:37:42.987Z"
   },
   {
    "duration": 84,
    "start_time": "2023-03-13T04:37:43.046Z"
   },
   {
    "duration": 3,
    "start_time": "2023-03-13T04:37:43.132Z"
   },
   {
    "duration": 81,
    "start_time": "2023-03-13T04:37:43.136Z"
   },
   {
    "duration": 3,
    "start_time": "2023-03-13T04:37:43.219Z"
   },
   {
    "duration": 4,
    "start_time": "2023-03-13T04:37:43.224Z"
   },
   {
    "duration": 7,
    "start_time": "2023-03-13T04:37:43.230Z"
   },
   {
    "duration": 8,
    "start_time": "2023-03-13T04:37:43.238Z"
   },
   {
    "duration": 181,
    "start_time": "2023-03-13T04:37:43.247Z"
   },
   {
    "duration": 20,
    "start_time": "2023-03-13T04:37:43.430Z"
   },
   {
    "duration": 33,
    "start_time": "2023-03-13T04:37:43.451Z"
   },
   {
    "duration": 19,
    "start_time": "2023-03-13T04:37:43.486Z"
   },
   {
    "duration": 17,
    "start_time": "2023-03-13T04:37:43.506Z"
   },
   {
    "duration": 193,
    "start_time": "2023-03-13T04:37:43.524Z"
   },
   {
    "duration": 100,
    "start_time": "2023-03-13T04:37:48.793Z"
   },
   {
    "duration": 24,
    "start_time": "2023-03-13T04:38:02.738Z"
   },
   {
    "duration": 261,
    "start_time": "2023-03-13T04:44:12.821Z"
   },
   {
    "duration": 57,
    "start_time": "2023-03-13T04:44:40.997Z"
   },
   {
    "duration": 19,
    "start_time": "2023-03-13T04:44:56.714Z"
   },
   {
    "duration": 60,
    "start_time": "2023-03-13T04:45:01.666Z"
   },
   {
    "duration": 1351,
    "start_time": "2023-03-13T04:45:05.456Z"
   },
   {
    "duration": 59,
    "start_time": "2023-03-13T04:45:09.057Z"
   },
   {
    "duration": 87,
    "start_time": "2023-03-13T04:45:18.056Z"
   },
   {
    "duration": 56,
    "start_time": "2023-03-13T04:45:35.194Z"
   },
   {
    "duration": 31,
    "start_time": "2023-03-13T04:46:21.887Z"
   },
   {
    "duration": 32,
    "start_time": "2023-03-13T04:46:59.500Z"
   },
   {
    "duration": 8,
    "start_time": "2023-03-13T04:47:06.622Z"
   },
   {
    "duration": 11,
    "start_time": "2023-03-13T04:47:51.438Z"
   },
   {
    "duration": 1344,
    "start_time": "2023-03-13T04:50:14.720Z"
   },
   {
    "duration": 6,
    "start_time": "2023-03-13T04:50:41.914Z"
   },
   {
    "duration": 15,
    "start_time": "2023-03-13T04:50:56.031Z"
   },
   {
    "duration": 5,
    "start_time": "2023-03-13T04:51:05.606Z"
   },
   {
    "duration": 8,
    "start_time": "2023-03-13T04:51:15.247Z"
   },
   {
    "duration": 5,
    "start_time": "2023-03-13T04:51:26.256Z"
   },
   {
    "duration": 9,
    "start_time": "2023-03-13T04:53:30.164Z"
   },
   {
    "duration": 9,
    "start_time": "2023-03-13T04:54:04.373Z"
   },
   {
    "duration": 3,
    "start_time": "2023-03-13T04:54:31.255Z"
   },
   {
    "duration": 23,
    "start_time": "2023-03-13T04:54:31.260Z"
   },
   {
    "duration": 177,
    "start_time": "2023-03-13T04:54:31.284Z"
   },
   {
    "duration": 18,
    "start_time": "2023-03-13T04:54:31.463Z"
   },
   {
    "duration": 28,
    "start_time": "2023-03-13T04:54:31.483Z"
   },
   {
    "duration": 28,
    "start_time": "2023-03-13T04:54:31.513Z"
   },
   {
    "duration": 37,
    "start_time": "2023-03-13T04:54:31.543Z"
   },
   {
    "duration": 959,
    "start_time": "2023-03-13T04:54:31.582Z"
   },
   {
    "duration": 2,
    "start_time": "2023-03-13T04:54:32.543Z"
   },
   {
    "duration": 12,
    "start_time": "2023-03-13T04:54:32.546Z"
   },
   {
    "duration": 24,
    "start_time": "2023-03-13T04:54:32.559Z"
   },
   {
    "duration": 56,
    "start_time": "2023-03-13T04:54:32.584Z"
   },
   {
    "duration": 3,
    "start_time": "2023-03-13T04:54:32.641Z"
   },
   {
    "duration": 82,
    "start_time": "2023-03-13T04:54:32.645Z"
   },
   {
    "duration": 4,
    "start_time": "2023-03-13T04:54:32.728Z"
   },
   {
    "duration": 7,
    "start_time": "2023-03-13T04:54:32.734Z"
   },
   {
    "duration": 12,
    "start_time": "2023-03-13T04:54:32.742Z"
   },
   {
    "duration": 11,
    "start_time": "2023-03-13T04:54:32.755Z"
   },
   {
    "duration": 176,
    "start_time": "2023-03-13T04:54:35.781Z"
   },
   {
    "duration": 86,
    "start_time": "2023-03-13T04:54:38.326Z"
   },
   {
    "duration": 22,
    "start_time": "2023-03-13T04:54:40.625Z"
   },
   {
    "duration": 33,
    "start_time": "2023-03-13T04:55:00.678Z"
   },
   {
    "duration": 5,
    "start_time": "2023-03-13T04:55:33.231Z"
   },
   {
    "duration": 89,
    "start_time": "2023-03-13T04:56:21.927Z"
   },
   {
    "duration": 1208,
    "start_time": "2023-03-13T04:58:15.259Z"
   },
   {
    "duration": 18,
    "start_time": "2023-03-13T04:58:30.788Z"
   },
   {
    "duration": 11354,
    "start_time": "2023-03-13T04:59:45.853Z"
   },
   {
    "duration": 52,
    "start_time": "2023-03-13T05:00:12.917Z"
   },
   {
    "duration": 1148,
    "start_time": "2023-03-13T05:00:42.855Z"
   },
   {
    "duration": 168,
    "start_time": "2023-03-13T05:00:59.375Z"
   },
   {
    "duration": 39,
    "start_time": "2023-03-13T05:01:26.398Z"
   },
   {
    "duration": 10,
    "start_time": "2023-03-13T05:01:53.439Z"
   },
   {
    "duration": 10,
    "start_time": "2023-03-13T05:01:56.375Z"
   },
   {
    "duration": 9,
    "start_time": "2023-03-13T05:02:18.687Z"
   },
   {
    "duration": 7,
    "start_time": "2023-03-13T05:02:21.312Z"
   },
   {
    "duration": 30,
    "start_time": "2023-03-13T05:02:39.302Z"
   },
   {
    "duration": 33,
    "start_time": "2023-03-13T05:02:54.905Z"
   },
   {
    "duration": 31,
    "start_time": "2023-03-13T05:03:13.762Z"
   },
   {
    "duration": 35,
    "start_time": "2023-03-13T05:03:22.570Z"
   },
   {
    "duration": 36,
    "start_time": "2023-03-13T05:04:07.530Z"
   },
   {
    "duration": 30,
    "start_time": "2023-03-13T05:04:16.659Z"
   },
   {
    "duration": 39,
    "start_time": "2023-03-13T05:04:40.059Z"
   },
   {
    "duration": 10,
    "start_time": "2023-03-13T05:06:06.941Z"
   },
   {
    "duration": 4,
    "start_time": "2023-03-13T05:06:19.598Z"
   },
   {
    "duration": 14,
    "start_time": "2023-03-13T05:08:35.921Z"
   },
   {
    "duration": 9,
    "start_time": "2023-03-13T05:08:47.225Z"
   },
   {
    "duration": 10,
    "start_time": "2023-03-13T05:08:51.514Z"
   },
   {
    "duration": 6,
    "start_time": "2023-03-13T05:08:58.962Z"
   },
   {
    "duration": 6,
    "start_time": "2023-03-13T05:09:08.569Z"
   },
   {
    "duration": 47,
    "start_time": "2023-03-13T05:10:46.563Z"
   },
   {
    "duration": 34,
    "start_time": "2023-03-13T05:11:15.212Z"
   },
   {
    "duration": 35,
    "start_time": "2023-03-13T05:11:30.596Z"
   },
   {
    "duration": 60,
    "start_time": "2023-03-13T05:11:45.196Z"
   },
   {
    "duration": 33,
    "start_time": "2023-03-13T05:12:04.342Z"
   },
   {
    "duration": 33,
    "start_time": "2023-03-13T05:12:11.317Z"
   },
   {
    "duration": 95,
    "start_time": "2023-03-13T05:12:18.956Z"
   },
   {
    "duration": 30,
    "start_time": "2023-03-13T05:12:25.782Z"
   },
   {
    "duration": 30,
    "start_time": "2023-03-13T05:12:34.629Z"
   },
   {
    "duration": 33,
    "start_time": "2023-03-13T05:13:27.847Z"
   },
   {
    "duration": 30,
    "start_time": "2023-03-13T05:13:39.224Z"
   },
   {
    "duration": 29,
    "start_time": "2023-03-13T05:13:45.852Z"
   },
   {
    "duration": 70,
    "start_time": "2023-03-13T05:15:34.282Z"
   },
   {
    "duration": 66,
    "start_time": "2023-03-13T05:15:40.939Z"
   },
   {
    "duration": 96,
    "start_time": "2023-03-13T05:15:48.178Z"
   },
   {
    "duration": 34,
    "start_time": "2023-03-13T05:16:06.385Z"
   },
   {
    "duration": 245,
    "start_time": "2023-03-13T05:16:19.094Z"
   },
   {
    "duration": 20,
    "start_time": "2023-03-13T05:16:33.827Z"
   },
   {
    "duration": 16,
    "start_time": "2023-03-13T05:16:39.227Z"
   },
   {
    "duration": 20,
    "start_time": "2023-03-13T05:17:34.797Z"
   },
   {
    "duration": 22,
    "start_time": "2023-03-13T05:17:38.740Z"
   },
   {
    "duration": 21,
    "start_time": "2023-03-13T05:17:44.909Z"
   },
   {
    "duration": 23,
    "start_time": "2023-03-13T05:17:51.942Z"
   },
   {
    "duration": 16,
    "start_time": "2023-03-13T05:25:16.646Z"
   },
   {
    "duration": 24,
    "start_time": "2023-03-13T05:25:28.566Z"
   },
   {
    "duration": 21,
    "start_time": "2023-03-13T05:25:49.431Z"
   },
   {
    "duration": 3,
    "start_time": "2023-03-13T05:26:07.461Z"
   },
   {
    "duration": 31,
    "start_time": "2023-03-13T05:26:16.712Z"
   },
   {
    "duration": 68,
    "start_time": "2023-03-13T06:03:46.926Z"
   },
   {
    "duration": 23,
    "start_time": "2023-03-13T06:03:56.765Z"
   },
   {
    "duration": 5,
    "start_time": "2023-03-13T06:16:30.192Z"
   },
   {
    "duration": 5,
    "start_time": "2023-03-13T06:16:35.623Z"
   },
   {
    "duration": 114,
    "start_time": "2023-03-13T06:17:19.330Z"
   },
   {
    "duration": 24,
    "start_time": "2023-03-13T06:17:28.744Z"
   },
   {
    "duration": 3,
    "start_time": "2023-03-13T06:17:37.810Z"
   },
   {
    "duration": 23,
    "start_time": "2023-03-13T06:19:19.644Z"
   },
   {
    "duration": 30,
    "start_time": "2023-03-13T06:19:25.963Z"
   },
   {
    "duration": 22,
    "start_time": "2023-03-13T06:20:15.813Z"
   },
   {
    "duration": 23,
    "start_time": "2023-03-13T06:20:20.349Z"
   },
   {
    "duration": 2,
    "start_time": "2023-03-13T07:01:10.515Z"
   },
   {
    "duration": 14,
    "start_time": "2023-03-13T07:15:57.896Z"
   },
   {
    "duration": 3,
    "start_time": "2023-03-13T07:16:06.593Z"
   },
   {
    "duration": 8,
    "start_time": "2023-03-13T07:16:07.473Z"
   },
   {
    "duration": 10,
    "start_time": "2023-03-13T07:16:08.105Z"
   },
   {
    "duration": 223,
    "start_time": "2023-03-13T07:16:09.536Z"
   },
   {
    "duration": 12,
    "start_time": "2023-03-13T07:16:13.208Z"
   },
   {
    "duration": 7,
    "start_time": "2023-03-13T07:16:22.402Z"
   },
   {
    "duration": 4,
    "start_time": "2023-03-13T07:17:13.706Z"
   },
   {
    "duration": 7,
    "start_time": "2023-03-13T07:18:00.723Z"
   },
   {
    "duration": 9,
    "start_time": "2023-03-13T07:18:20.828Z"
   },
   {
    "duration": 8,
    "start_time": "2023-03-13T07:18:32.686Z"
   },
   {
    "duration": 14,
    "start_time": "2023-03-13T07:21:53.690Z"
   },
   {
    "duration": 7,
    "start_time": "2023-03-13T07:22:17.978Z"
   },
   {
    "duration": 7,
    "start_time": "2023-03-13T07:22:40.228Z"
   },
   {
    "duration": 8,
    "start_time": "2023-03-13T07:22:48.659Z"
   },
   {
    "duration": 8,
    "start_time": "2023-03-13T07:23:02.019Z"
   },
   {
    "duration": 8,
    "start_time": "2023-03-13T07:23:15.152Z"
   },
   {
    "duration": 10,
    "start_time": "2023-03-13T07:23:31.067Z"
   },
   {
    "duration": 84,
    "start_time": "2023-03-13T07:24:06.046Z"
   },
   {
    "duration": 8,
    "start_time": "2023-03-13T07:24:55.775Z"
   },
   {
    "duration": 5,
    "start_time": "2023-03-13T07:29:01.997Z"
   },
   {
    "duration": 75,
    "start_time": "2023-03-13T07:29:16.581Z"
   },
   {
    "duration": 3,
    "start_time": "2023-03-13T07:29:22.238Z"
   },
   {
    "duration": 10,
    "start_time": "2023-03-13T07:30:16.927Z"
   },
   {
    "duration": 6,
    "start_time": "2023-03-13T07:30:19.614Z"
   },
   {
    "duration": 4,
    "start_time": "2023-03-13T07:30:33.487Z"
   },
   {
    "duration": 161,
    "start_time": "2023-03-13T07:31:33.943Z"
   },
   {
    "duration": 14,
    "start_time": "2023-03-13T07:32:06.529Z"
   },
   {
    "duration": 3,
    "start_time": "2023-03-13T07:32:12.901Z"
   },
   {
    "duration": 8,
    "start_time": "2023-03-13T07:32:12.906Z"
   },
   {
    "duration": 135,
    "start_time": "2023-03-13T07:32:12.916Z"
   },
   {
    "duration": 27,
    "start_time": "2023-03-13T07:32:13.052Z"
   },
   {
    "duration": 5,
    "start_time": "2023-03-13T07:32:13.081Z"
   },
   {
    "duration": 6,
    "start_time": "2023-03-13T07:32:13.087Z"
   },
   {
    "duration": 13,
    "start_time": "2023-03-13T07:32:13.095Z"
   },
   {
    "duration": 993,
    "start_time": "2023-03-13T07:32:13.109Z"
   },
   {
    "duration": 2,
    "start_time": "2023-03-13T07:32:14.104Z"
   },
   {
    "duration": 10,
    "start_time": "2023-03-13T07:32:14.108Z"
   },
   {
    "duration": 18,
    "start_time": "2023-03-13T07:32:14.120Z"
   },
   {
    "duration": 71,
    "start_time": "2023-03-13T07:32:14.139Z"
   },
   {
    "duration": 3,
    "start_time": "2023-03-13T07:32:14.211Z"
   },
   {
    "duration": 73,
    "start_time": "2023-03-13T07:32:14.216Z"
   },
   {
    "duration": 4,
    "start_time": "2023-03-13T07:32:14.290Z"
   },
   {
    "duration": 5,
    "start_time": "2023-03-13T07:32:14.295Z"
   },
   {
    "duration": 8,
    "start_time": "2023-03-13T07:32:14.302Z"
   },
   {
    "duration": 5,
    "start_time": "2023-03-13T07:32:14.311Z"
   },
   {
    "duration": 2,
    "start_time": "2023-03-13T07:32:14.318Z"
   },
   {
    "duration": 180,
    "start_time": "2023-03-13T07:32:14.322Z"
   },
   {
    "duration": 102,
    "start_time": "2023-03-13T07:32:14.503Z"
   },
   {
    "duration": 22,
    "start_time": "2023-03-13T07:32:14.607Z"
   },
   {
    "duration": 30,
    "start_time": "2023-03-13T07:32:14.631Z"
   },
   {
    "duration": 17,
    "start_time": "2023-03-13T07:32:14.662Z"
   },
   {
    "duration": 7,
    "start_time": "2023-03-13T07:32:14.683Z"
   },
   {
    "duration": 312,
    "start_time": "2023-03-13T07:32:14.692Z"
   },
   {
    "duration": 476,
    "start_time": "2023-03-13T07:32:15.005Z"
   },
   {
    "duration": 377,
    "start_time": "2023-03-13T07:32:15.483Z"
   },
   {
    "duration": 3,
    "start_time": "2023-03-13T07:32:15.861Z"
   },
   {
    "duration": 23,
    "start_time": "2023-03-13T07:32:15.866Z"
   },
   {
    "duration": 13,
    "start_time": "2023-03-13T07:32:15.890Z"
   },
   {
    "duration": 195,
    "start_time": "2023-03-13T07:32:15.905Z"
   },
   {
    "duration": 2,
    "start_time": "2023-03-13T07:32:16.102Z"
   },
   {
    "duration": 73,
    "start_time": "2023-03-13T07:32:16.106Z"
   },
   {
    "duration": 0,
    "start_time": "2023-03-13T07:32:16.180Z"
   },
   {
    "duration": 0,
    "start_time": "2023-03-13T07:32:16.182Z"
   },
   {
    "duration": 0,
    "start_time": "2023-03-13T07:32:16.183Z"
   },
   {
    "duration": 0,
    "start_time": "2023-03-13T07:32:16.184Z"
   },
   {
    "duration": 0,
    "start_time": "2023-03-13T07:32:16.186Z"
   },
   {
    "duration": 0,
    "start_time": "2023-03-13T07:32:16.187Z"
   },
   {
    "duration": 0,
    "start_time": "2023-03-13T07:32:16.188Z"
   },
   {
    "duration": 0,
    "start_time": "2023-03-13T07:32:16.189Z"
   },
   {
    "duration": 0,
    "start_time": "2023-03-13T07:32:16.190Z"
   },
   {
    "duration": 0,
    "start_time": "2023-03-13T07:32:16.191Z"
   },
   {
    "duration": 20,
    "start_time": "2023-03-13T07:32:19.432Z"
   },
   {
    "duration": 126,
    "start_time": "2023-03-13T07:32:21.168Z"
   },
   {
    "duration": 20,
    "start_time": "2023-03-13T07:32:22.570Z"
   },
   {
    "duration": 6,
    "start_time": "2023-03-13T07:32:25.888Z"
   },
   {
    "duration": 3,
    "start_time": "2023-03-13T07:32:54.470Z"
   },
   {
    "duration": 13,
    "start_time": "2023-03-13T07:32:54.475Z"
   },
   {
    "duration": 144,
    "start_time": "2023-03-13T07:32:54.490Z"
   },
   {
    "duration": 16,
    "start_time": "2023-03-13T07:32:54.635Z"
   },
   {
    "duration": 9,
    "start_time": "2023-03-13T07:32:54.653Z"
   },
   {
    "duration": 16,
    "start_time": "2023-03-13T07:32:54.664Z"
   },
   {
    "duration": 25,
    "start_time": "2023-03-13T07:32:54.682Z"
   },
   {
    "duration": 1030,
    "start_time": "2023-03-13T07:32:54.708Z"
   },
   {
    "duration": 2,
    "start_time": "2023-03-13T07:32:55.739Z"
   },
   {
    "duration": 18,
    "start_time": "2023-03-13T07:32:55.742Z"
   },
   {
    "duration": 47,
    "start_time": "2023-03-13T07:32:55.762Z"
   },
   {
    "duration": 55,
    "start_time": "2023-03-13T07:32:55.810Z"
   },
   {
    "duration": 4,
    "start_time": "2023-03-13T07:32:55.868Z"
   },
   {
    "duration": 85,
    "start_time": "2023-03-13T07:32:55.879Z"
   },
   {
    "duration": 4,
    "start_time": "2023-03-13T07:32:55.966Z"
   },
   {
    "duration": 7,
    "start_time": "2023-03-13T07:32:55.972Z"
   },
   {
    "duration": 15,
    "start_time": "2023-03-13T07:32:55.981Z"
   },
   {
    "duration": 23,
    "start_time": "2023-03-13T07:32:55.998Z"
   },
   {
    "duration": 14,
    "start_time": "2023-03-13T07:32:56.023Z"
   },
   {
    "duration": 212,
    "start_time": "2023-03-13T07:32:56.039Z"
   },
   {
    "duration": 106,
    "start_time": "2023-03-13T07:32:56.252Z"
   },
   {
    "duration": 30,
    "start_time": "2023-03-13T07:32:56.359Z"
   },
   {
    "duration": 35,
    "start_time": "2023-03-13T07:32:56.390Z"
   },
   {
    "duration": 2,
    "start_time": "2023-03-13T07:32:56.426Z"
   },
   {
    "duration": 38,
    "start_time": "2023-03-13T07:32:56.429Z"
   },
   {
    "duration": 293,
    "start_time": "2023-03-13T07:32:56.469Z"
   },
   {
    "duration": 606,
    "start_time": "2023-03-13T07:32:56.764Z"
   },
   {
    "duration": 332,
    "start_time": "2023-03-13T07:32:57.372Z"
   },
   {
    "duration": 3,
    "start_time": "2023-03-13T07:32:57.708Z"
   },
   {
    "duration": 8,
    "start_time": "2023-03-13T07:32:57.712Z"
   },
   {
    "duration": 10,
    "start_time": "2023-03-13T07:32:57.722Z"
   },
   {
    "duration": 193,
    "start_time": "2023-03-13T07:32:57.734Z"
   },
   {
    "duration": 3,
    "start_time": "2023-03-13T07:32:57.929Z"
   },
   {
    "duration": 28,
    "start_time": "2023-03-13T07:32:57.933Z"
   },
   {
    "duration": 80,
    "start_time": "2023-03-13T07:32:57.962Z"
   },
   {
    "duration": 0,
    "start_time": "2023-03-13T07:32:58.044Z"
   },
   {
    "duration": 0,
    "start_time": "2023-03-13T07:32:58.045Z"
   },
   {
    "duration": 0,
    "start_time": "2023-03-13T07:32:58.046Z"
   },
   {
    "duration": 0,
    "start_time": "2023-03-13T07:32:58.047Z"
   },
   {
    "duration": 0,
    "start_time": "2023-03-13T07:32:58.048Z"
   },
   {
    "duration": 0,
    "start_time": "2023-03-13T07:32:58.048Z"
   },
   {
    "duration": 0,
    "start_time": "2023-03-13T07:32:58.049Z"
   },
   {
    "duration": 0,
    "start_time": "2023-03-13T07:32:58.050Z"
   },
   {
    "duration": 22,
    "start_time": "2023-03-13T07:33:01.028Z"
   },
   {
    "duration": 4,
    "start_time": "2023-03-13T07:34:02.819Z"
   },
   {
    "duration": 4,
    "start_time": "2023-03-13T07:34:16.716Z"
   },
   {
    "duration": 7,
    "start_time": "2023-03-13T07:34:26.822Z"
   },
   {
    "duration": 9,
    "start_time": "2023-03-13T07:34:29.724Z"
   },
   {
    "duration": 8,
    "start_time": "2023-03-13T07:34:32.557Z"
   },
   {
    "duration": 8,
    "start_time": "2023-03-13T07:34:33.212Z"
   },
   {
    "duration": 8,
    "start_time": "2023-03-13T07:34:33.604Z"
   },
   {
    "duration": 8,
    "start_time": "2023-03-13T07:34:34.020Z"
   },
   {
    "duration": 5,
    "start_time": "2023-03-13T07:35:16.333Z"
   },
   {
    "duration": 4,
    "start_time": "2023-03-13T07:35:23.253Z"
   },
   {
    "duration": 9,
    "start_time": "2023-03-13T07:35:32.229Z"
   },
   {
    "duration": 4,
    "start_time": "2023-03-13T07:35:35.246Z"
   },
   {
    "duration": 4,
    "start_time": "2023-03-13T07:35:38.048Z"
   },
   {
    "duration": 5,
    "start_time": "2023-03-13T07:35:56.382Z"
   },
   {
    "duration": 8,
    "start_time": "2023-03-13T07:36:04.606Z"
   },
   {
    "duration": 8,
    "start_time": "2023-03-13T07:36:07.511Z"
   },
   {
    "duration": 6,
    "start_time": "2023-03-13T07:37:16.000Z"
   },
   {
    "duration": 9,
    "start_time": "2023-03-13T07:37:22.929Z"
   },
   {
    "duration": 7,
    "start_time": "2023-03-13T07:37:37.034Z"
   },
   {
    "duration": 84,
    "start_time": "2023-03-13T07:38:31.395Z"
   },
   {
    "duration": 35,
    "start_time": "2023-03-13T07:42:54.368Z"
   },
   {
    "duration": 33,
    "start_time": "2023-03-13T07:42:58.120Z"
   },
   {
    "duration": 8,
    "start_time": "2023-03-13T07:53:24.370Z"
   },
   {
    "duration": 121,
    "start_time": "2023-03-13T07:53:28.262Z"
   },
   {
    "duration": 20,
    "start_time": "2023-03-13T07:53:30.462Z"
   },
   {
    "duration": 2083,
    "start_time": "2023-03-13T07:54:36.784Z"
   },
   {
    "duration": 19,
    "start_time": "2023-03-13T07:55:13.483Z"
   },
   {
    "duration": 9,
    "start_time": "2023-03-13T07:57:37.828Z"
   },
   {
    "duration": 6,
    "start_time": "2023-03-13T07:57:40.913Z"
   },
   {
    "duration": 4,
    "start_time": "2023-03-13T07:57:55.891Z"
   },
   {
    "duration": 4,
    "start_time": "2023-03-13T07:58:02.765Z"
   },
   {
    "duration": 9,
    "start_time": "2023-03-13T07:58:09.365Z"
   },
   {
    "duration": 13,
    "start_time": "2023-03-13T07:58:17.477Z"
   },
   {
    "duration": 12,
    "start_time": "2023-03-13T07:59:51.504Z"
   },
   {
    "duration": 4,
    "start_time": "2023-03-13T07:59:58.176Z"
   },
   {
    "duration": 4,
    "start_time": "2023-03-13T08:01:48.025Z"
   },
   {
    "duration": 22,
    "start_time": "2023-03-13T08:01:55.084Z"
   },
   {
    "duration": 4,
    "start_time": "2023-03-13T08:03:36.724Z"
   },
   {
    "duration": 4,
    "start_time": "2023-03-13T08:04:05.308Z"
   },
   {
    "duration": 5,
    "start_time": "2023-03-13T08:04:08.885Z"
   },
   {
    "duration": 5,
    "start_time": "2023-03-13T08:05:31.361Z"
   },
   {
    "duration": 21,
    "start_time": "2023-03-13T08:05:34.656Z"
   },
   {
    "duration": 5,
    "start_time": "2023-03-13T08:05:40.159Z"
   },
   {
    "duration": 7,
    "start_time": "2023-03-13T08:06:10.910Z"
   },
   {
    "duration": 5,
    "start_time": "2023-03-13T08:06:37.576Z"
   },
   {
    "duration": 5,
    "start_time": "2023-03-13T08:06:45.081Z"
   },
   {
    "duration": 5,
    "start_time": "2023-03-13T08:06:53.065Z"
   },
   {
    "duration": 9,
    "start_time": "2023-03-13T08:07:11.819Z"
   },
   {
    "duration": 10,
    "start_time": "2023-03-13T08:07:17.777Z"
   },
   {
    "duration": 6,
    "start_time": "2023-03-13T08:07:20.948Z"
   },
   {
    "duration": 21,
    "start_time": "2023-03-13T08:07:32.546Z"
   },
   {
    "duration": 4,
    "start_time": "2023-03-13T08:07:42.706Z"
   },
   {
    "duration": 4,
    "start_time": "2023-03-13T08:07:50.843Z"
   },
   {
    "duration": 3,
    "start_time": "2023-03-13T08:08:39.947Z"
   },
   {
    "duration": 4,
    "start_time": "2023-03-13T08:08:50.731Z"
   },
   {
    "duration": 11,
    "start_time": "2023-03-13T08:09:02.644Z"
   },
   {
    "duration": 12,
    "start_time": "2023-03-13T08:09:13.748Z"
   },
   {
    "duration": 195,
    "start_time": "2023-03-13T08:09:19.157Z"
   },
   {
    "duration": 4,
    "start_time": "2023-03-13T08:09:21.009Z"
   },
   {
    "duration": 7,
    "start_time": "2023-03-13T08:10:16.093Z"
   },
   {
    "duration": 7,
    "start_time": "2023-03-13T08:10:33.638Z"
   },
   {
    "duration": 4,
    "start_time": "2023-03-13T08:10:46.550Z"
   },
   {
    "duration": 3,
    "start_time": "2023-03-13T08:13:21.563Z"
   },
   {
    "duration": 5,
    "start_time": "2023-03-13T08:13:26.291Z"
   },
   {
    "duration": 1671,
    "start_time": "2023-03-13T08:13:34.991Z"
   },
   {
    "duration": 10,
    "start_time": "2023-03-13T08:17:56.041Z"
   },
   {
    "duration": 48,
    "start_time": "2023-03-13T08:19:15.342Z"
   },
   {
    "duration": 47,
    "start_time": "2023-03-13T08:19:38.506Z"
   },
   {
    "duration": 49,
    "start_time": "2023-03-13T08:20:04.051Z"
   },
   {
    "duration": 49,
    "start_time": "2023-03-13T08:20:09.563Z"
   },
   {
    "duration": 67,
    "start_time": "2023-03-13T08:21:02.655Z"
   },
   {
    "duration": 50,
    "start_time": "2023-03-13T08:21:07.252Z"
   },
   {
    "duration": 52,
    "start_time": "2023-03-13T08:21:23.422Z"
   },
   {
    "duration": 53,
    "start_time": "2023-03-13T08:22:22.576Z"
   },
   {
    "duration": 74,
    "start_time": "2023-03-13T08:39:19.630Z"
   },
   {
    "duration": 54,
    "start_time": "2023-03-13T08:42:10.408Z"
   },
   {
    "duration": 53,
    "start_time": "2023-03-13T08:42:18.561Z"
   },
   {
    "duration": 8,
    "start_time": "2023-03-13T09:24:34.857Z"
   },
   {
    "duration": 8,
    "start_time": "2023-03-13T09:24:37.672Z"
   },
   {
    "duration": 40,
    "start_time": "2023-03-13T09:24:42.864Z"
   },
   {
    "duration": 15,
    "start_time": "2023-03-13T09:24:43.977Z"
   },
   {
    "duration": 9,
    "start_time": "2023-03-13T09:24:45.811Z"
   },
   {
    "duration": 32,
    "start_time": "2023-03-13T09:26:13.838Z"
   },
   {
    "duration": 40,
    "start_time": "2023-03-13T09:26:28.779Z"
   },
   {
    "duration": 37,
    "start_time": "2023-03-13T09:26:49.820Z"
   },
   {
    "duration": 15,
    "start_time": "2023-03-13T09:26:50.483Z"
   },
   {
    "duration": 8,
    "start_time": "2023-03-13T09:44:01.442Z"
   },
   {
    "duration": 9,
    "start_time": "2023-03-13T09:44:28.688Z"
   },
   {
    "duration": 927,
    "start_time": "2023-03-13T09:44:32.534Z"
   },
   {
    "duration": 94,
    "start_time": "2023-03-13T09:52:35.089Z"
   },
   {
    "duration": 12,
    "start_time": "2023-03-13T10:05:03.488Z"
   },
   {
    "duration": 16,
    "start_time": "2023-03-13T10:05:36.430Z"
   },
   {
    "duration": 15,
    "start_time": "2023-03-13T10:07:31.884Z"
   },
   {
    "duration": 3,
    "start_time": "2023-03-13T10:08:01.746Z"
   },
   {
    "duration": 4,
    "start_time": "2023-03-13T10:08:33.814Z"
   },
   {
    "duration": 1302,
    "start_time": "2023-03-13T10:08:35.818Z"
   },
   {
    "duration": 930,
    "start_time": "2023-03-13T10:09:12.134Z"
   },
   {
    "duration": 80,
    "start_time": "2023-03-13T10:09:46.749Z"
   },
   {
    "duration": 10,
    "start_time": "2023-03-13T10:09:48.684Z"
   },
   {
    "duration": 11,
    "start_time": "2023-03-13T10:10:29.238Z"
   },
   {
    "duration": 3,
    "start_time": "2023-03-13T10:11:55.311Z"
   },
   {
    "duration": 990,
    "start_time": "2023-03-13T10:11:59.390Z"
   },
   {
    "duration": 2070,
    "start_time": "2023-03-13T10:12:11.919Z"
   },
   {
    "duration": 1405,
    "start_time": "2023-03-13T10:13:25.204Z"
   },
   {
    "duration": 1305,
    "start_time": "2023-03-13T10:13:52.026Z"
   },
   {
    "duration": 7,
    "start_time": "2023-03-13T10:14:19.072Z"
   },
   {
    "duration": 1681,
    "start_time": "2023-03-13T10:21:01.722Z"
   },
   {
    "duration": 5,
    "start_time": "2023-03-13T10:22:58.451Z"
   },
   {
    "duration": 1310,
    "start_time": "2023-03-13T10:22:59.722Z"
   },
   {
    "duration": 5,
    "start_time": "2023-03-13T10:23:10.370Z"
   },
   {
    "duration": 13,
    "start_time": "2023-03-13T10:23:12.659Z"
   },
   {
    "duration": 3,
    "start_time": "2023-03-13T10:23:24.204Z"
   },
   {
    "duration": 906,
    "start_time": "2023-03-13T10:25:08.133Z"
   },
   {
    "duration": 5,
    "start_time": "2023-03-13T10:25:21.068Z"
   },
   {
    "duration": 4,
    "start_time": "2023-03-13T10:25:27.509Z"
   },
   {
    "duration": 4,
    "start_time": "2023-03-13T10:25:40.506Z"
   },
   {
    "duration": 1118,
    "start_time": "2023-03-13T10:25:49.942Z"
   },
   {
    "duration": 7,
    "start_time": "2023-03-13T10:31:02.788Z"
   },
   {
    "duration": 1218,
    "start_time": "2023-03-13T10:31:17.310Z"
   },
   {
    "duration": 10,
    "start_time": "2023-03-13T10:31:27.123Z"
   },
   {
    "duration": 1200,
    "start_time": "2023-03-13T10:31:30.659Z"
   },
   {
    "duration": 1130,
    "start_time": "2023-03-13T10:31:36.504Z"
   },
   {
    "duration": 1569,
    "start_time": "2023-03-13T10:31:40.205Z"
   },
   {
    "duration": 6,
    "start_time": "2023-03-13T10:31:43.931Z"
   },
   {
    "duration": 3,
    "start_time": "2023-03-13T10:31:52.636Z"
   },
   {
    "duration": 5,
    "start_time": "2023-03-13T10:32:47.045Z"
   },
   {
    "duration": 4,
    "start_time": "2023-03-13T10:33:48.245Z"
   },
   {
    "duration": 3,
    "start_time": "2023-03-13T10:33:52.175Z"
   },
   {
    "duration": 4,
    "start_time": "2023-03-13T10:33:58.670Z"
   },
   {
    "duration": 9,
    "start_time": "2023-03-13T10:34:04.111Z"
   },
   {
    "duration": 3,
    "start_time": "2023-03-13T10:34:06.106Z"
   },
   {
    "duration": 24,
    "start_time": "2023-03-13T10:34:21.056Z"
   },
   {
    "duration": 1283,
    "start_time": "2023-03-13T10:34:29.720Z"
   },
   {
    "duration": 1090,
    "start_time": "2023-03-13T10:34:58.707Z"
   },
   {
    "duration": 1300,
    "start_time": "2023-03-13T10:35:19.005Z"
   },
   {
    "duration": 1734,
    "start_time": "2023-03-13T10:35:22.511Z"
   },
   {
    "duration": 1196,
    "start_time": "2023-03-13T10:38:07.810Z"
   },
   {
    "duration": 5,
    "start_time": "2023-03-13T10:38:48.155Z"
   },
   {
    "duration": 9,
    "start_time": "2023-03-13T10:39:21.315Z"
   },
   {
    "duration": 1382,
    "start_time": "2023-03-13T10:39:38.683Z"
   },
   {
    "duration": 9,
    "start_time": "2023-03-13T10:39:44.443Z"
   },
   {
    "duration": 4,
    "start_time": "2023-03-13T10:39:52.436Z"
   },
   {
    "duration": 4,
    "start_time": "2023-03-13T10:40:15.869Z"
   },
   {
    "duration": 4,
    "start_time": "2023-03-13T10:40:25.200Z"
   },
   {
    "duration": 104,
    "start_time": "2023-03-13T10:40:35.973Z"
   },
   {
    "duration": 72,
    "start_time": "2023-03-13T10:40:42.964Z"
   },
   {
    "duration": 5,
    "start_time": "2023-03-13T10:40:45.600Z"
   },
   {
    "duration": 1102,
    "start_time": "2023-03-13T10:41:11.100Z"
   },
   {
    "duration": 4,
    "start_time": "2023-03-13T10:41:20.662Z"
   },
   {
    "duration": 1336,
    "start_time": "2023-03-13T10:41:28.157Z"
   },
   {
    "duration": 89,
    "start_time": "2023-03-13T10:41:35.878Z"
   },
   {
    "duration": 1304,
    "start_time": "2023-03-13T10:41:38.038Z"
   },
   {
    "duration": 5,
    "start_time": "2023-03-13T10:41:55.975Z"
   },
   {
    "duration": 5,
    "start_time": "2023-03-13T10:42:02.862Z"
   },
   {
    "duration": 6,
    "start_time": "2023-03-13T10:42:19.512Z"
   },
   {
    "duration": 19,
    "start_time": "2023-03-13T10:42:22.004Z"
   },
   {
    "duration": 1411,
    "start_time": "2023-03-13T10:42:40.959Z"
   },
   {
    "duration": 1355,
    "start_time": "2023-03-13T10:42:45.584Z"
   },
   {
    "duration": 15,
    "start_time": "2023-03-13T10:45:33.980Z"
   },
   {
    "duration": 4,
    "start_time": "2023-03-13T10:45:37.115Z"
   },
   {
    "duration": 17,
    "start_time": "2023-03-13T10:45:39.075Z"
   },
   {
    "duration": 7,
    "start_time": "2023-03-13T10:45:46.211Z"
   },
   {
    "duration": 1627,
    "start_time": "2023-03-13T10:45:47.612Z"
   },
   {
    "duration": 4,
    "start_time": "2023-03-13T10:45:54.154Z"
   },
   {
    "duration": 10,
    "start_time": "2023-03-13T10:45:55.393Z"
   },
   {
    "duration": 10,
    "start_time": "2023-03-13T10:45:57.837Z"
   },
   {
    "duration": 1237,
    "start_time": "2023-03-13T10:46:13.661Z"
   },
   {
    "duration": 44,
    "start_time": "2023-03-13T10:48:07.213Z"
   },
   {
    "duration": 48,
    "start_time": "2023-03-13T10:48:13.317Z"
   },
   {
    "duration": 40,
    "start_time": "2023-03-13T10:49:19.918Z"
   },
   {
    "duration": 1290,
    "start_time": "2023-03-13T10:49:24.159Z"
   },
   {
    "duration": 4,
    "start_time": "2023-03-13T10:52:44.770Z"
   },
   {
    "duration": 5,
    "start_time": "2023-03-13T10:52:56.042Z"
   },
   {
    "duration": 4,
    "start_time": "2023-03-13T10:53:03.218Z"
   },
   {
    "duration": 4,
    "start_time": "2023-03-13T10:53:28.979Z"
   },
   {
    "duration": 4,
    "start_time": "2023-03-13T10:53:44.635Z"
   },
   {
    "duration": 1328,
    "start_time": "2023-03-13T10:53:46.915Z"
   },
   {
    "duration": 3,
    "start_time": "2023-03-13T10:53:50.915Z"
   },
   {
    "duration": 51,
    "start_time": "2023-03-13T11:03:17.650Z"
   },
   {
    "duration": 1350,
    "start_time": "2023-03-13T22:30:13.736Z"
   },
   {
    "duration": 4,
    "start_time": "2023-03-13T22:30:15.088Z"
   },
   {
    "duration": 212,
    "start_time": "2023-03-13T22:30:15.094Z"
   },
   {
    "duration": 33,
    "start_time": "2023-03-13T22:30:15.308Z"
   },
   {
    "duration": 35,
    "start_time": "2023-03-13T22:30:15.344Z"
   },
   {
    "duration": 64,
    "start_time": "2023-03-13T22:30:15.382Z"
   },
   {
    "duration": 81,
    "start_time": "2023-03-13T22:30:15.448Z"
   },
   {
    "duration": 1083,
    "start_time": "2023-03-13T22:30:15.531Z"
   },
   {
    "duration": 3,
    "start_time": "2023-03-13T22:30:16.615Z"
   },
   {
    "duration": 25,
    "start_time": "2023-03-13T22:30:16.621Z"
   },
   {
    "duration": 72,
    "start_time": "2023-03-13T22:30:16.648Z"
   },
   {
    "duration": 101,
    "start_time": "2023-03-13T22:30:16.722Z"
   },
   {
    "duration": 17,
    "start_time": "2023-03-13T22:30:16.826Z"
   },
   {
    "duration": 109,
    "start_time": "2023-03-13T22:30:16.845Z"
   },
   {
    "duration": 5,
    "start_time": "2023-03-13T22:30:16.956Z"
   },
   {
    "duration": 13,
    "start_time": "2023-03-13T22:30:16.962Z"
   },
   {
    "duration": 9,
    "start_time": "2023-03-13T22:30:16.976Z"
   },
   {
    "duration": 8,
    "start_time": "2023-03-13T22:30:16.987Z"
   },
   {
    "duration": 6,
    "start_time": "2023-03-13T22:30:16.996Z"
   },
   {
    "duration": 226,
    "start_time": "2023-03-13T22:30:17.004Z"
   },
   {
    "duration": 134,
    "start_time": "2023-03-13T22:30:17.232Z"
   },
   {
    "duration": 32,
    "start_time": "2023-03-13T22:30:17.368Z"
   },
   {
    "duration": 69,
    "start_time": "2023-03-13T22:30:17.402Z"
   },
   {
    "duration": 3,
    "start_time": "2023-03-13T22:30:17.473Z"
   },
   {
    "duration": 68,
    "start_time": "2023-03-13T22:30:17.478Z"
   },
   {
    "duration": 457,
    "start_time": "2023-03-13T22:30:17.549Z"
   },
   {
    "duration": 725,
    "start_time": "2023-03-13T22:30:18.008Z"
   },
   {
    "duration": 426,
    "start_time": "2023-03-13T22:30:18.741Z"
   },
   {
    "duration": 3,
    "start_time": "2023-03-13T22:30:19.169Z"
   },
   {
    "duration": 37,
    "start_time": "2023-03-13T22:30:19.173Z"
   },
   {
    "duration": 19,
    "start_time": "2023-03-13T22:30:19.212Z"
   },
   {
    "duration": 219,
    "start_time": "2023-03-13T22:30:19.233Z"
   },
   {
    "duration": 3,
    "start_time": "2023-03-13T22:30:19.455Z"
   },
   {
    "duration": 14,
    "start_time": "2023-03-13T22:30:19.459Z"
   },
   {
    "duration": 105,
    "start_time": "2023-03-13T22:30:19.475Z"
   },
   {
    "duration": 0,
    "start_time": "2023-03-13T22:30:19.582Z"
   },
   {
    "duration": 0,
    "start_time": "2023-03-13T22:30:19.583Z"
   },
   {
    "duration": 0,
    "start_time": "2023-03-13T22:30:19.585Z"
   },
   {
    "duration": 0,
    "start_time": "2023-03-13T22:30:19.586Z"
   },
   {
    "duration": 0,
    "start_time": "2023-03-13T22:30:19.588Z"
   },
   {
    "duration": 0,
    "start_time": "2023-03-13T22:30:19.589Z"
   },
   {
    "duration": 0,
    "start_time": "2023-03-13T22:30:19.591Z"
   },
   {
    "duration": 0,
    "start_time": "2023-03-13T22:30:19.592Z"
   },
   {
    "duration": 0,
    "start_time": "2023-03-13T22:30:19.594Z"
   },
   {
    "duration": 0,
    "start_time": "2023-03-13T22:30:19.595Z"
   },
   {
    "duration": 0,
    "start_time": "2023-03-13T22:30:19.596Z"
   },
   {
    "duration": 0,
    "start_time": "2023-03-13T22:30:19.598Z"
   },
   {
    "duration": 0,
    "start_time": "2023-03-13T22:30:19.599Z"
   },
   {
    "duration": 0,
    "start_time": "2023-03-13T22:30:19.601Z"
   },
   {
    "duration": 0,
    "start_time": "2023-03-13T22:30:19.602Z"
   },
   {
    "duration": 0,
    "start_time": "2023-03-13T22:30:19.603Z"
   },
   {
    "duration": 0,
    "start_time": "2023-03-13T22:30:19.605Z"
   },
   {
    "duration": 0,
    "start_time": "2023-03-13T22:30:19.606Z"
   },
   {
    "duration": 0,
    "start_time": "2023-03-13T22:30:19.607Z"
   },
   {
    "duration": 0,
    "start_time": "2023-03-13T22:30:19.609Z"
   },
   {
    "duration": 0,
    "start_time": "2023-03-13T22:30:19.610Z"
   },
   {
    "duration": 0,
    "start_time": "2023-03-13T22:30:19.611Z"
   },
   {
    "duration": 0,
    "start_time": "2023-03-13T22:30:19.613Z"
   },
   {
    "duration": 0,
    "start_time": "2023-03-13T22:30:19.614Z"
   },
   {
    "duration": 133,
    "start_time": "2023-03-13T22:32:30.609Z"
   },
   {
    "duration": 9551,
    "start_time": "2023-03-13T22:33:27.595Z"
   },
   {
    "duration": 4,
    "start_time": "2023-03-13T22:33:48.056Z"
   },
   {
    "duration": 22506,
    "start_time": "2023-03-13T22:33:51.836Z"
   },
   {
    "duration": 1318,
    "start_time": "2023-03-13T22:34:49.537Z"
   },
   {
    "duration": 3,
    "start_time": "2023-03-13T22:34:50.857Z"
   },
   {
    "duration": 199,
    "start_time": "2023-03-13T22:34:50.862Z"
   },
   {
    "duration": 21,
    "start_time": "2023-03-13T22:34:51.063Z"
   },
   {
    "duration": 5,
    "start_time": "2023-03-13T22:34:51.086Z"
   },
   {
    "duration": 14,
    "start_time": "2023-03-13T22:34:51.092Z"
   },
   {
    "duration": 39,
    "start_time": "2023-03-13T22:34:51.107Z"
   },
   {
    "duration": 1085,
    "start_time": "2023-03-13T22:34:51.148Z"
   },
   {
    "duration": 3,
    "start_time": "2023-03-13T22:34:52.240Z"
   },
   {
    "duration": 18,
    "start_time": "2023-03-13T22:34:52.245Z"
   },
   {
    "duration": 61,
    "start_time": "2023-03-13T22:34:52.265Z"
   },
   {
    "duration": 89,
    "start_time": "2023-03-13T22:34:52.328Z"
   },
   {
    "duration": 3,
    "start_time": "2023-03-13T22:34:52.419Z"
   },
   {
    "duration": 104,
    "start_time": "2023-03-13T22:34:52.424Z"
   },
   {
    "duration": 43,
    "start_time": "2023-03-13T22:34:52.529Z"
   },
   {
    "duration": 6,
    "start_time": "2023-03-13T22:34:52.574Z"
   },
   {
    "duration": 9,
    "start_time": "2023-03-13T22:34:52.581Z"
   },
   {
    "duration": 7,
    "start_time": "2023-03-13T22:34:52.591Z"
   },
   {
    "duration": 8,
    "start_time": "2023-03-13T22:34:52.599Z"
   },
   {
    "duration": 215,
    "start_time": "2023-03-13T22:34:52.609Z"
   },
   {
    "duration": 120,
    "start_time": "2023-03-13T22:34:52.826Z"
   },
   {
    "duration": 26,
    "start_time": "2023-03-13T22:34:52.953Z"
   },
   {
    "duration": 32,
    "start_time": "2023-03-13T22:34:52.981Z"
   },
   {
    "duration": 2,
    "start_time": "2023-03-13T22:34:53.015Z"
   },
   {
    "duration": 40,
    "start_time": "2023-03-13T22:34:53.018Z"
   },
   {
    "duration": 358,
    "start_time": "2023-03-13T22:34:53.059Z"
   },
   {
    "duration": 721,
    "start_time": "2023-03-13T22:34:53.419Z"
   },
   {
    "duration": 393,
    "start_time": "2023-03-13T22:34:54.145Z"
   },
   {
    "duration": 3,
    "start_time": "2023-03-13T22:34:54.540Z"
   },
   {
    "duration": 14,
    "start_time": "2023-03-13T22:34:54.546Z"
   },
   {
    "duration": 11,
    "start_time": "2023-03-13T22:34:54.562Z"
   },
   {
    "duration": 211,
    "start_time": "2023-03-13T22:34:54.575Z"
   },
   {
    "duration": 2,
    "start_time": "2023-03-13T22:34:54.787Z"
   },
   {
    "duration": 6,
    "start_time": "2023-03-13T22:34:54.791Z"
   },
   {
    "duration": 99,
    "start_time": "2023-03-13T22:34:54.798Z"
   },
   {
    "duration": 0,
    "start_time": "2023-03-13T22:34:54.899Z"
   },
   {
    "duration": 0,
    "start_time": "2023-03-13T22:34:54.901Z"
   },
   {
    "duration": 0,
    "start_time": "2023-03-13T22:34:54.902Z"
   },
   {
    "duration": 0,
    "start_time": "2023-03-13T22:34:54.903Z"
   },
   {
    "duration": 0,
    "start_time": "2023-03-13T22:34:54.905Z"
   },
   {
    "duration": 0,
    "start_time": "2023-03-13T22:34:54.906Z"
   },
   {
    "duration": 1,
    "start_time": "2023-03-13T22:34:54.906Z"
   },
   {
    "duration": 0,
    "start_time": "2023-03-13T22:34:54.908Z"
   },
   {
    "duration": 0,
    "start_time": "2023-03-13T22:34:54.909Z"
   },
   {
    "duration": 0,
    "start_time": "2023-03-13T22:34:54.910Z"
   },
   {
    "duration": 0,
    "start_time": "2023-03-13T22:34:54.911Z"
   },
   {
    "duration": 0,
    "start_time": "2023-03-13T22:34:54.913Z"
   },
   {
    "duration": 0,
    "start_time": "2023-03-13T22:34:54.914Z"
   },
   {
    "duration": 0,
    "start_time": "2023-03-13T22:34:54.915Z"
   },
   {
    "duration": 0,
    "start_time": "2023-03-13T22:34:54.916Z"
   },
   {
    "duration": 0,
    "start_time": "2023-03-13T22:34:54.917Z"
   },
   {
    "duration": 0,
    "start_time": "2023-03-13T22:34:54.918Z"
   },
   {
    "duration": 0,
    "start_time": "2023-03-13T22:34:54.919Z"
   },
   {
    "duration": 0,
    "start_time": "2023-03-13T22:34:54.920Z"
   },
   {
    "duration": 0,
    "start_time": "2023-03-13T22:34:54.921Z"
   },
   {
    "duration": 0,
    "start_time": "2023-03-13T22:34:54.922Z"
   },
   {
    "duration": 0,
    "start_time": "2023-03-13T22:34:54.923Z"
   },
   {
    "duration": 0,
    "start_time": "2023-03-13T22:34:54.924Z"
   },
   {
    "duration": 0,
    "start_time": "2023-03-13T22:34:54.925Z"
   },
   {
    "duration": 23308,
    "start_time": "2023-03-13T22:35:12.627Z"
   },
   {
    "duration": 1288,
    "start_time": "2023-03-13T22:35:59.195Z"
   },
   {
    "duration": 3,
    "start_time": "2023-03-13T22:36:00.484Z"
   },
   {
    "duration": 269,
    "start_time": "2023-03-13T22:36:00.489Z"
   },
   {
    "duration": 21,
    "start_time": "2023-03-13T22:36:00.760Z"
   },
   {
    "duration": 74,
    "start_time": "2023-03-13T22:36:00.783Z"
   },
   {
    "duration": 83,
    "start_time": "2023-03-13T22:36:00.859Z"
   },
   {
    "duration": 125,
    "start_time": "2023-03-13T22:36:00.945Z"
   },
   {
    "duration": 1205,
    "start_time": "2023-03-13T22:36:01.073Z"
   },
   {
    "duration": 2,
    "start_time": "2023-03-13T22:36:02.280Z"
   },
   {
    "duration": 44,
    "start_time": "2023-03-13T22:36:02.284Z"
   },
   {
    "duration": 82,
    "start_time": "2023-03-13T22:36:02.330Z"
   },
   {
    "duration": 79,
    "start_time": "2023-03-13T22:36:02.413Z"
   },
   {
    "duration": 3,
    "start_time": "2023-03-13T22:36:02.494Z"
   },
   {
    "duration": 108,
    "start_time": "2023-03-13T22:36:02.500Z"
   },
   {
    "duration": 3,
    "start_time": "2023-03-13T22:36:02.610Z"
   },
   {
    "duration": 22,
    "start_time": "2023-03-13T22:36:02.615Z"
   },
   {
    "duration": 18,
    "start_time": "2023-03-13T22:36:02.639Z"
   },
   {
    "duration": 5,
    "start_time": "2023-03-13T22:36:02.659Z"
   },
   {
    "duration": 4,
    "start_time": "2023-03-13T22:36:02.666Z"
   },
   {
    "duration": 209,
    "start_time": "2023-03-13T22:36:02.671Z"
   },
   {
    "duration": 126,
    "start_time": "2023-03-13T22:36:02.882Z"
   },
   {
    "duration": 41,
    "start_time": "2023-03-13T22:36:03.010Z"
   },
   {
    "duration": 39,
    "start_time": "2023-03-13T22:36:03.054Z"
   },
   {
    "duration": 3,
    "start_time": "2023-03-13T22:36:03.094Z"
   },
   {
    "duration": 24,
    "start_time": "2023-03-13T22:36:03.098Z"
   },
   {
    "duration": 397,
    "start_time": "2023-03-13T22:36:03.124Z"
   },
   {
    "duration": 735,
    "start_time": "2023-03-13T22:36:03.523Z"
   },
   {
    "duration": 402,
    "start_time": "2023-03-13T22:36:04.260Z"
   },
   {
    "duration": 3,
    "start_time": "2023-03-13T22:36:04.663Z"
   },
   {
    "duration": 11,
    "start_time": "2023-03-13T22:36:04.667Z"
   },
   {
    "duration": 11,
    "start_time": "2023-03-13T22:36:04.680Z"
   },
   {
    "duration": 214,
    "start_time": "2023-03-13T22:36:04.692Z"
   },
   {
    "duration": 2,
    "start_time": "2023-03-13T22:36:04.908Z"
   },
   {
    "duration": 6,
    "start_time": "2023-03-13T22:36:04.911Z"
   },
   {
    "duration": 24,
    "start_time": "2023-03-13T22:36:04.918Z"
   },
   {
    "duration": 16,
    "start_time": "2023-03-13T22:36:04.944Z"
   },
   {
    "duration": 4,
    "start_time": "2023-03-13T22:36:04.962Z"
   },
   {
    "duration": 25,
    "start_time": "2023-03-13T22:36:04.968Z"
   },
   {
    "duration": 172,
    "start_time": "2023-03-13T22:36:04.995Z"
   },
   {
    "duration": 2,
    "start_time": "2023-03-13T22:36:05.169Z"
   },
   {
    "duration": 41,
    "start_time": "2023-03-13T22:36:05.175Z"
   },
   {
    "duration": 4,
    "start_time": "2023-03-13T22:36:05.218Z"
   },
   {
    "duration": 463,
    "start_time": "2023-03-13T22:36:05.223Z"
   },
   {
    "duration": 75,
    "start_time": "2023-03-13T22:36:05.687Z"
   },
   {
    "duration": 64,
    "start_time": "2023-03-13T22:36:05.763Z"
   },
   {
    "duration": 41,
    "start_time": "2023-03-13T22:36:05.829Z"
   },
   {
    "duration": 2,
    "start_time": "2023-03-13T22:36:05.872Z"
   },
   {
    "duration": 79,
    "start_time": "2023-03-13T22:36:05.875Z"
   },
   {
    "duration": 18,
    "start_time": "2023-03-13T22:36:05.956Z"
   },
   {
    "duration": 196,
    "start_time": "2023-03-13T22:36:05.976Z"
   },
   {
    "duration": 4,
    "start_time": "2023-03-13T22:36:06.174Z"
   },
   {
    "duration": 6,
    "start_time": "2023-03-13T22:36:06.180Z"
   },
   {
    "duration": 55,
    "start_time": "2023-03-13T22:36:06.188Z"
   },
   {
    "duration": 9,
    "start_time": "2023-03-13T22:36:06.245Z"
   },
   {
    "duration": 14,
    "start_time": "2023-03-13T22:36:06.256Z"
   },
   {
    "duration": 10,
    "start_time": "2023-03-13T22:36:06.272Z"
   },
   {
    "duration": 62,
    "start_time": "2023-03-13T22:36:06.284Z"
   },
   {
    "duration": 2112,
    "start_time": "2023-03-13T22:36:06.348Z"
   },
   {
    "duration": 266,
    "start_time": "2023-03-13T22:37:15.210Z"
   },
   {
    "duration": 23,
    "start_time": "2023-03-13T22:37:58.873Z"
   },
   {
    "duration": 8,
    "start_time": "2023-03-13T22:38:21.920Z"
   },
   {
    "duration": 6161,
    "start_time": "2023-03-13T22:38:25.540Z"
   },
   {
    "duration": 9,
    "start_time": "2023-03-13T22:39:09.820Z"
   },
   {
    "duration": 9,
    "start_time": "2023-03-13T22:39:57.870Z"
   },
   {
    "duration": 33,
    "start_time": "2023-03-13T22:40:01.430Z"
   },
   {
    "duration": 11,
    "start_time": "2023-03-13T22:40:03.900Z"
   },
   {
    "duration": 115,
    "start_time": "2023-03-13T22:40:20.221Z"
   },
   {
    "duration": 4,
    "start_time": "2023-03-13T22:40:43.800Z"
   },
   {
    "duration": 25,
    "start_time": "2023-03-13T22:43:12.730Z"
   },
   {
    "duration": 18,
    "start_time": "2023-03-13T22:43:22.593Z"
   },
   {
    "duration": 4,
    "start_time": "2023-03-13T22:43:28.693Z"
   },
   {
    "duration": 12,
    "start_time": "2023-03-13T22:43:36.600Z"
   },
   {
    "duration": 16,
    "start_time": "2023-03-13T22:43:39.430Z"
   },
   {
    "duration": 9,
    "start_time": "2023-03-13T22:43:40.140Z"
   },
   {
    "duration": 1259,
    "start_time": "2023-03-13T22:51:52.930Z"
   },
   {
    "duration": 1745,
    "start_time": "2023-03-13T22:52:22.593Z"
   },
   {
    "duration": 10,
    "start_time": "2023-03-13T22:52:35.554Z"
   },
   {
    "duration": 3,
    "start_time": "2023-03-13T22:52:38.620Z"
   },
   {
    "duration": 1318,
    "start_time": "2023-03-13T22:52:51.293Z"
   },
   {
    "duration": 4,
    "start_time": "2023-03-13T22:53:22.000Z"
   },
   {
    "duration": 5,
    "start_time": "2023-03-13T22:53:37.720Z"
   },
   {
    "duration": 1723,
    "start_time": "2023-03-13T22:53:53.200Z"
   },
   {
    "duration": 1361,
    "start_time": "2023-03-14T06:48:59.724Z"
   },
   {
    "duration": 3,
    "start_time": "2023-03-14T06:49:01.088Z"
   },
   {
    "duration": 285,
    "start_time": "2023-03-14T06:49:01.096Z"
   },
   {
    "duration": 20,
    "start_time": "2023-03-14T06:49:01.384Z"
   },
   {
    "duration": 51,
    "start_time": "2023-03-14T06:49:01.405Z"
   },
   {
    "duration": 44,
    "start_time": "2023-03-14T06:49:01.458Z"
   },
   {
    "duration": 58,
    "start_time": "2023-03-14T06:49:01.504Z"
   },
   {
    "duration": 1089,
    "start_time": "2023-03-14T06:49:01.564Z"
   },
   {
    "duration": 2,
    "start_time": "2023-03-14T06:49:02.655Z"
   },
   {
    "duration": 14,
    "start_time": "2023-03-14T06:49:02.660Z"
   },
   {
    "duration": 64,
    "start_time": "2023-03-14T06:49:02.679Z"
   },
   {
    "duration": 81,
    "start_time": "2023-03-14T06:49:02.745Z"
   },
   {
    "duration": 3,
    "start_time": "2023-03-14T06:49:02.828Z"
   },
   {
    "duration": 86,
    "start_time": "2023-03-14T06:49:02.833Z"
   },
   {
    "duration": 4,
    "start_time": "2023-03-14T06:49:02.920Z"
   },
   {
    "duration": 5,
    "start_time": "2023-03-14T06:49:02.925Z"
   },
   {
    "duration": 8,
    "start_time": "2023-03-14T06:49:02.931Z"
   },
   {
    "duration": 6,
    "start_time": "2023-03-14T06:49:02.940Z"
   },
   {
    "duration": 3,
    "start_time": "2023-03-14T06:49:02.947Z"
   },
   {
    "duration": 208,
    "start_time": "2023-03-14T06:49:02.951Z"
   },
   {
    "duration": 110,
    "start_time": "2023-03-14T06:49:03.161Z"
   },
   {
    "duration": 29,
    "start_time": "2023-03-14T06:49:03.273Z"
   },
   {
    "duration": 33,
    "start_time": "2023-03-14T06:49:03.303Z"
   },
   {
    "duration": 2,
    "start_time": "2023-03-14T06:49:03.337Z"
   },
   {
    "duration": 10,
    "start_time": "2023-03-14T06:49:03.341Z"
   },
   {
    "duration": 447,
    "start_time": "2023-03-14T06:49:03.352Z"
   },
   {
    "duration": 571,
    "start_time": "2023-03-14T06:49:03.800Z"
   },
   {
    "duration": 346,
    "start_time": "2023-03-14T06:49:04.375Z"
   },
   {
    "duration": 3,
    "start_time": "2023-03-14T06:49:04.722Z"
   },
   {
    "duration": 15,
    "start_time": "2023-03-14T06:49:04.726Z"
   },
   {
    "duration": 10,
    "start_time": "2023-03-14T06:49:04.743Z"
   },
   {
    "duration": 164,
    "start_time": "2023-03-14T06:49:04.754Z"
   },
   {
    "duration": 2,
    "start_time": "2023-03-14T06:49:04.919Z"
   },
   {
    "duration": 5,
    "start_time": "2023-03-14T06:49:04.922Z"
   },
   {
    "duration": 7,
    "start_time": "2023-03-14T06:49:04.928Z"
   },
   {
    "duration": 6,
    "start_time": "2023-03-14T06:49:04.936Z"
   },
   {
    "duration": 2,
    "start_time": "2023-03-14T06:49:04.943Z"
   },
   {
    "duration": 41,
    "start_time": "2023-03-14T06:49:04.946Z"
   },
   {
    "duration": 121,
    "start_time": "2023-03-14T06:49:04.989Z"
   },
   {
    "duration": 3,
    "start_time": "2023-03-14T06:49:05.111Z"
   },
   {
    "duration": 20,
    "start_time": "2023-03-14T06:49:05.115Z"
   },
   {
    "duration": 5,
    "start_time": "2023-03-14T06:49:05.136Z"
   },
   {
    "duration": 142,
    "start_time": "2023-03-14T06:49:05.143Z"
   },
   {
    "duration": 100,
    "start_time": "2023-03-14T06:49:05.287Z"
   },
   {
    "duration": 49,
    "start_time": "2023-03-14T06:49:05.389Z"
   },
   {
    "duration": 50,
    "start_time": "2023-03-14T06:49:05.440Z"
   },
   {
    "duration": 2,
    "start_time": "2023-03-14T06:49:05.491Z"
   },
   {
    "duration": 43,
    "start_time": "2023-03-14T06:49:05.494Z"
   },
   {
    "duration": 13,
    "start_time": "2023-03-14T06:49:05.539Z"
   },
   {
    "duration": 78,
    "start_time": "2023-03-14T06:56:44.455Z"
   },
   {
    "duration": 120,
    "start_time": "2023-03-14T06:57:15.842Z"
   },
   {
    "duration": 11,
    "start_time": "2023-03-14T06:57:23.011Z"
   },
   {
    "duration": 85,
    "start_time": "2023-03-14T06:57:32.379Z"
   },
   {
    "duration": 11,
    "start_time": "2023-03-14T06:57:34.428Z"
   },
   {
    "duration": 8,
    "start_time": "2023-03-14T06:59:08.709Z"
   },
   {
    "duration": 8,
    "start_time": "2023-03-14T06:59:18.086Z"
   },
   {
    "duration": 85,
    "start_time": "2023-03-14T06:59:27.215Z"
   },
   {
    "duration": 9,
    "start_time": "2023-03-14T06:59:28.749Z"
   },
   {
    "duration": 3,
    "start_time": "2023-03-14T06:59:48.308Z"
   },
   {
    "duration": 4,
    "start_time": "2023-03-14T06:59:54.104Z"
   },
   {
    "duration": 2585,
    "start_time": "2023-03-14T07:00:58.985Z"
   },
   {
    "duration": 2033,
    "start_time": "2023-03-14T07:01:08.554Z"
   },
   {
    "duration": 4,
    "start_time": "2023-03-14T07:01:37.576Z"
   },
   {
    "duration": 1898,
    "start_time": "2023-03-14T07:01:46.970Z"
   },
   {
    "duration": 83,
    "start_time": "2023-03-14T07:01:55.606Z"
   },
   {
    "duration": 931,
    "start_time": "2023-03-14T07:01:58.116Z"
   },
   {
    "duration": 4,
    "start_time": "2023-03-14T07:02:02.842Z"
   },
   {
    "duration": 7,
    "start_time": "2023-03-14T07:09:23.411Z"
   },
   {
    "duration": 8,
    "start_time": "2023-03-14T07:09:28.131Z"
   },
   {
    "duration": 86,
    "start_time": "2023-03-14T07:09:30.052Z"
   },
   {
    "duration": 1755,
    "start_time": "2023-03-14T07:09:38.924Z"
   },
   {
    "duration": 1816,
    "start_time": "2023-03-14T07:09:45.415Z"
   },
   {
    "duration": 4,
    "start_time": "2023-03-14T07:09:52.510Z"
   },
   {
    "duration": 5,
    "start_time": "2023-03-14T07:10:10.853Z"
   },
   {
    "duration": 4,
    "start_time": "2023-03-14T07:10:45.878Z"
   },
   {
    "duration": 19,
    "start_time": "2023-03-14T07:10:48.846Z"
   },
   {
    "duration": 5,
    "start_time": "2023-03-14T07:11:57.231Z"
   },
   {
    "duration": 10,
    "start_time": "2023-03-14T07:11:59.624Z"
   },
   {
    "duration": 11,
    "start_time": "2023-03-14T07:13:26.205Z"
   },
   {
    "duration": 10,
    "start_time": "2023-03-14T07:16:45.341Z"
   },
   {
    "duration": 10,
    "start_time": "2023-03-14T07:16:55.750Z"
   },
   {
    "duration": 9,
    "start_time": "2023-03-14T07:17:14.822Z"
   },
   {
    "duration": 4,
    "start_time": "2023-03-14T07:19:24.672Z"
   },
   {
    "duration": 5,
    "start_time": "2023-03-14T07:26:11.922Z"
   },
   {
    "duration": 1225,
    "start_time": "2023-03-14T07:26:14.841Z"
   },
   {
    "duration": 25,
    "start_time": "2023-03-14T07:28:43.890Z"
   },
   {
    "duration": 4,
    "start_time": "2023-03-14T07:28:49.317Z"
   },
   {
    "duration": 8,
    "start_time": "2023-03-14T07:28:51.180Z"
   },
   {
    "duration": 9,
    "start_time": "2023-03-14T07:28:54.835Z"
   },
   {
    "duration": 1158,
    "start_time": "2023-03-14T07:28:58.027Z"
   },
   {
    "duration": 1349,
    "start_time": "2023-03-14T07:30:14.303Z"
   },
   {
    "duration": 868,
    "start_time": "2023-03-14T07:30:26.856Z"
   },
   {
    "duration": 8,
    "start_time": "2023-03-14T07:30:41.232Z"
   },
   {
    "duration": 4,
    "start_time": "2023-03-14T07:30:54.510Z"
   },
   {
    "duration": 1167,
    "start_time": "2023-03-14T07:32:14.703Z"
   },
   {
    "duration": 4,
    "start_time": "2023-03-14T07:33:24.309Z"
   },
   {
    "duration": 4,
    "start_time": "2023-03-14T07:33:32.852Z"
   },
   {
    "duration": 3,
    "start_time": "2023-03-14T07:33:56.843Z"
   },
   {
    "duration": 4,
    "start_time": "2023-03-14T07:34:05.450Z"
   },
   {
    "duration": 1123,
    "start_time": "2023-03-14T07:34:09.508Z"
   },
   {
    "duration": 29,
    "start_time": "2023-03-14T07:34:57.171Z"
   },
   {
    "duration": 4,
    "start_time": "2023-03-14T07:34:59.780Z"
   },
   {
    "duration": 31,
    "start_time": "2023-03-14T07:35:17.582Z"
   },
   {
    "duration": 4,
    "start_time": "2023-03-14T07:35:21.230Z"
   },
   {
    "duration": 12,
    "start_time": "2023-03-14T07:35:34.695Z"
   },
   {
    "duration": 75,
    "start_time": "2023-03-14T07:38:39.611Z"
   },
   {
    "duration": 74,
    "start_time": "2023-03-14T07:38:45.561Z"
   },
   {
    "duration": 12,
    "start_time": "2023-03-14T07:40:15.984Z"
   },
   {
    "duration": 10,
    "start_time": "2023-03-14T07:40:23.004Z"
   },
   {
    "duration": 9,
    "start_time": "2023-03-14T07:40:27.308Z"
   },
   {
    "duration": 33,
    "start_time": "2023-03-14T07:41:01.508Z"
   },
   {
    "duration": 12,
    "start_time": "2023-03-14T07:54:43.698Z"
   },
   {
    "duration": 7,
    "start_time": "2023-03-14T07:58:30.083Z"
   },
   {
    "duration": 1225,
    "start_time": "2023-03-14T07:58:33.105Z"
   },
   {
    "duration": 9,
    "start_time": "2023-03-14T07:58:45.731Z"
   },
   {
    "duration": 7,
    "start_time": "2023-03-14T07:59:31.083Z"
   },
   {
    "duration": 10,
    "start_time": "2023-03-14T07:59:55.745Z"
   },
   {
    "duration": 9,
    "start_time": "2023-03-14T07:59:59.252Z"
   },
   {
    "duration": 10,
    "start_time": "2023-03-14T08:00:00.956Z"
   },
   {
    "duration": 6,
    "start_time": "2023-03-14T08:00:04.081Z"
   },
   {
    "duration": 4,
    "start_time": "2023-03-14T08:01:02.966Z"
   },
   {
    "duration": 88,
    "start_time": "2023-03-14T08:01:09.054Z"
   },
   {
    "duration": 8,
    "start_time": "2023-03-14T08:01:13.373Z"
   },
   {
    "duration": 4,
    "start_time": "2023-03-14T08:01:16.429Z"
   },
   {
    "duration": 3,
    "start_time": "2023-03-14T08:01:28.870Z"
   },
   {
    "duration": 6,
    "start_time": "2023-03-14T08:02:09.657Z"
   },
   {
    "duration": 13,
    "start_time": "2023-03-14T08:02:12.671Z"
   },
   {
    "duration": 5,
    "start_time": "2023-03-14T08:02:32.403Z"
   },
   {
    "duration": 10,
    "start_time": "2023-03-14T08:02:34.304Z"
   },
   {
    "duration": 9,
    "start_time": "2023-03-14T08:02:40.808Z"
   },
   {
    "duration": 11,
    "start_time": "2023-03-14T08:02:53.855Z"
   },
   {
    "duration": 5,
    "start_time": "2023-03-14T08:03:30.604Z"
   },
   {
    "duration": 9,
    "start_time": "2023-03-14T08:03:32.405Z"
   },
   {
    "duration": 9,
    "start_time": "2023-03-14T08:03:34.040Z"
   },
   {
    "duration": 10,
    "start_time": "2023-03-14T08:03:35.404Z"
   },
   {
    "duration": 3,
    "start_time": "2023-03-14T08:03:56.537Z"
   },
   {
    "duration": 3,
    "start_time": "2023-03-14T08:12:25.469Z"
   },
   {
    "duration": 76,
    "start_time": "2023-03-14T08:12:25.473Z"
   },
   {
    "duration": 193,
    "start_time": "2023-03-14T08:12:25.550Z"
   },
   {
    "duration": 16,
    "start_time": "2023-03-14T08:12:25.744Z"
   },
   {
    "duration": 4,
    "start_time": "2023-03-14T08:12:25.762Z"
   },
   {
    "duration": 27,
    "start_time": "2023-03-14T08:12:25.767Z"
   },
   {
    "duration": 18,
    "start_time": "2023-03-14T08:12:25.795Z"
   },
   {
    "duration": 1024,
    "start_time": "2023-03-14T08:12:25.814Z"
   },
   {
    "duration": 2,
    "start_time": "2023-03-14T08:12:26.839Z"
   },
   {
    "duration": 8,
    "start_time": "2023-03-14T08:12:26.842Z"
   },
   {
    "duration": 32,
    "start_time": "2023-03-14T08:12:26.852Z"
   },
   {
    "duration": 54,
    "start_time": "2023-03-14T08:12:26.885Z"
   },
   {
    "duration": 3,
    "start_time": "2023-03-14T08:12:26.941Z"
   },
   {
    "duration": 74,
    "start_time": "2023-03-14T08:12:26.945Z"
   },
   {
    "duration": 4,
    "start_time": "2023-03-14T08:12:27.020Z"
   },
   {
    "duration": 5,
    "start_time": "2023-03-14T08:12:27.025Z"
   },
   {
    "duration": 8,
    "start_time": "2023-03-14T08:12:27.031Z"
   },
   {
    "duration": 6,
    "start_time": "2023-03-14T08:12:27.040Z"
   },
   {
    "duration": 3,
    "start_time": "2023-03-14T08:12:27.047Z"
   },
   {
    "duration": 179,
    "start_time": "2023-03-14T08:12:27.051Z"
   },
   {
    "duration": 96,
    "start_time": "2023-03-14T08:12:27.231Z"
   },
   {
    "duration": 21,
    "start_time": "2023-03-14T08:12:27.329Z"
   },
   {
    "duration": 38,
    "start_time": "2023-03-14T08:12:27.351Z"
   },
   {
    "duration": 2,
    "start_time": "2023-03-14T08:12:27.391Z"
   },
   {
    "duration": 29,
    "start_time": "2023-03-14T08:12:27.394Z"
   },
   {
    "duration": 337,
    "start_time": "2023-03-14T08:12:27.424Z"
   },
   {
    "duration": 452,
    "start_time": "2023-03-14T08:12:27.763Z"
   },
   {
    "duration": 315,
    "start_time": "2023-03-14T08:12:28.216Z"
   },
   {
    "duration": 2,
    "start_time": "2023-03-14T08:12:28.534Z"
   },
   {
    "duration": 15,
    "start_time": "2023-03-14T08:12:28.538Z"
   },
   {
    "duration": 12,
    "start_time": "2023-03-14T08:12:28.554Z"
   },
   {
    "duration": 184,
    "start_time": "2023-03-14T08:12:28.568Z"
   },
   {
    "duration": 2,
    "start_time": "2023-03-14T08:12:28.754Z"
   },
   {
    "duration": 8,
    "start_time": "2023-03-14T08:12:28.757Z"
   },
   {
    "duration": 18,
    "start_time": "2023-03-14T08:12:28.766Z"
   },
   {
    "duration": 7,
    "start_time": "2023-03-14T08:12:28.785Z"
   },
   {
    "duration": 20,
    "start_time": "2023-03-14T08:12:28.794Z"
   },
   {
    "duration": 23,
    "start_time": "2023-03-14T08:12:28.816Z"
   },
   {
    "duration": 114,
    "start_time": "2023-03-14T08:12:28.840Z"
   },
   {
    "duration": 2,
    "start_time": "2023-03-14T08:12:28.955Z"
   },
   {
    "duration": 32,
    "start_time": "2023-03-14T08:12:28.959Z"
   },
   {
    "duration": 96,
    "start_time": "2023-03-14T08:12:28.993Z"
   },
   {
    "duration": 73,
    "start_time": "2023-03-14T08:12:29.091Z"
   },
   {
    "duration": 50,
    "start_time": "2023-03-14T08:12:29.166Z"
   },
   {
    "duration": 29,
    "start_time": "2023-03-14T08:12:29.217Z"
   },
   {
    "duration": 2,
    "start_time": "2023-03-14T08:12:29.247Z"
   },
   {
    "duration": 44,
    "start_time": "2023-03-14T08:12:29.250Z"
   },
   {
    "duration": 13,
    "start_time": "2023-03-14T08:12:29.295Z"
   },
   {
    "duration": 91,
    "start_time": "2023-03-14T08:12:29.309Z"
   },
   {
    "duration": 27,
    "start_time": "2023-03-14T08:12:29.401Z"
   },
   {
    "duration": 5,
    "start_time": "2023-03-14T08:12:29.429Z"
   },
   {
    "duration": 20,
    "start_time": "2023-03-14T08:12:29.435Z"
   },
   {
    "duration": 24,
    "start_time": "2023-03-14T08:12:29.457Z"
   },
   {
    "duration": 10,
    "start_time": "2023-03-14T08:12:29.483Z"
   },
   {
    "duration": 1558,
    "start_time": "2023-03-14T21:35:02.549Z"
   },
   {
    "duration": 4,
    "start_time": "2023-03-14T21:35:04.110Z"
   },
   {
    "duration": 213,
    "start_time": "2023-03-14T21:35:04.116Z"
   },
   {
    "duration": 20,
    "start_time": "2023-03-14T21:35:04.331Z"
   },
   {
    "duration": 6,
    "start_time": "2023-03-14T21:35:04.354Z"
   },
   {
    "duration": 14,
    "start_time": "2023-03-14T21:35:04.361Z"
   },
   {
    "duration": 21,
    "start_time": "2023-03-14T21:35:04.377Z"
   },
   {
    "duration": 981,
    "start_time": "2023-03-14T21:35:04.400Z"
   },
   {
    "duration": 3,
    "start_time": "2023-03-14T21:35:05.382Z"
   },
   {
    "duration": 12,
    "start_time": "2023-03-14T21:35:05.386Z"
   },
   {
    "duration": 79,
    "start_time": "2023-03-14T21:35:05.400Z"
   },
   {
    "duration": 87,
    "start_time": "2023-03-14T21:35:05.482Z"
   },
   {
    "duration": 4,
    "start_time": "2023-03-14T21:35:05.572Z"
   },
   {
    "duration": 99,
    "start_time": "2023-03-14T21:35:05.580Z"
   },
   {
    "duration": 4,
    "start_time": "2023-03-14T21:35:05.681Z"
   },
   {
    "duration": 11,
    "start_time": "2023-03-14T21:35:05.687Z"
   },
   {
    "duration": 9,
    "start_time": "2023-03-14T21:35:05.700Z"
   },
   {
    "duration": 7,
    "start_time": "2023-03-14T21:35:05.710Z"
   },
   {
    "duration": 3,
    "start_time": "2023-03-14T21:35:05.718Z"
   },
   {
    "duration": 362,
    "start_time": "2023-03-14T21:35:05.723Z"
   },
   {
    "duration": 273,
    "start_time": "2023-03-14T21:35:06.087Z"
   },
   {
    "duration": 26,
    "start_time": "2023-03-14T21:35:06.362Z"
   },
   {
    "duration": 36,
    "start_time": "2023-03-14T21:35:06.389Z"
   },
   {
    "duration": 2,
    "start_time": "2023-03-14T21:35:06.427Z"
   },
   {
    "duration": 10,
    "start_time": "2023-03-14T21:35:06.452Z"
   },
   {
    "duration": 527,
    "start_time": "2023-03-14T21:35:06.464Z"
   },
   {
    "duration": 806,
    "start_time": "2023-03-14T21:35:06.993Z"
   },
   {
    "duration": 726,
    "start_time": "2023-03-14T21:35:07.801Z"
   },
   {
    "duration": 3,
    "start_time": "2023-03-14T21:35:08.529Z"
   },
   {
    "duration": 20,
    "start_time": "2023-03-14T21:35:08.533Z"
   },
   {
    "duration": 15,
    "start_time": "2023-03-14T21:35:08.555Z"
   },
   {
    "duration": 339,
    "start_time": "2023-03-14T21:35:08.571Z"
   },
   {
    "duration": 3,
    "start_time": "2023-03-14T21:35:08.911Z"
   },
   {
    "duration": 9,
    "start_time": "2023-03-14T21:35:08.916Z"
   },
   {
    "duration": 10,
    "start_time": "2023-03-14T21:35:08.926Z"
   },
   {
    "duration": 6,
    "start_time": "2023-03-14T21:35:08.954Z"
   },
   {
    "duration": 14,
    "start_time": "2023-03-14T21:35:08.962Z"
   },
   {
    "duration": 24,
    "start_time": "2023-03-14T21:35:08.978Z"
   },
   {
    "duration": 308,
    "start_time": "2023-03-14T21:35:09.004Z"
   },
   {
    "duration": 3,
    "start_time": "2023-03-14T21:35:09.314Z"
   },
   {
    "duration": 36,
    "start_time": "2023-03-14T21:35:09.321Z"
   },
   {
    "duration": 421,
    "start_time": "2023-03-14T21:35:09.359Z"
   },
   {
    "duration": 90,
    "start_time": "2023-03-14T21:35:09.782Z"
   },
   {
    "duration": 111,
    "start_time": "2023-03-14T21:35:09.874Z"
   },
   {
    "duration": 37,
    "start_time": "2023-03-14T21:35:09.987Z"
   },
   {
    "duration": 2,
    "start_time": "2023-03-14T21:35:10.026Z"
   },
   {
    "duration": 74,
    "start_time": "2023-03-14T21:35:10.029Z"
   },
   {
    "duration": 19,
    "start_time": "2023-03-14T21:35:10.105Z"
   },
   {
    "duration": 146,
    "start_time": "2023-03-14T21:35:10.126Z"
   },
   {
    "duration": 36,
    "start_time": "2023-03-14T21:35:10.274Z"
   },
   {
    "duration": 5,
    "start_time": "2023-03-14T21:35:10.312Z"
   },
   {
    "duration": 37,
    "start_time": "2023-03-14T21:35:10.319Z"
   },
   {
    "duration": 12,
    "start_time": "2023-03-14T21:35:10.358Z"
   },
   {
    "duration": 12,
    "start_time": "2023-03-14T21:35:10.372Z"
   },
   {
    "duration": 1418,
    "start_time": "2023-04-26T14:50:17.410Z"
   },
   {
    "duration": 4,
    "start_time": "2023-04-26T14:50:18.830Z"
   },
   {
    "duration": 288,
    "start_time": "2023-04-26T14:50:18.835Z"
   },
   {
    "duration": 25,
    "start_time": "2023-04-26T14:50:19.126Z"
   },
   {
    "duration": 6,
    "start_time": "2023-04-26T14:50:19.153Z"
   },
   {
    "duration": 12,
    "start_time": "2023-04-26T14:50:19.161Z"
   },
   {
    "duration": 29,
    "start_time": "2023-04-26T14:50:19.175Z"
   },
   {
    "duration": 997,
    "start_time": "2023-04-26T14:50:19.207Z"
   },
   {
    "duration": 2,
    "start_time": "2023-04-26T14:50:20.206Z"
   },
   {
    "duration": 22,
    "start_time": "2023-04-26T14:50:20.211Z"
   },
   {
    "duration": 78,
    "start_time": "2023-04-26T14:50:20.235Z"
   },
   {
    "duration": 74,
    "start_time": "2023-04-26T14:50:20.315Z"
   },
   {
    "duration": 5,
    "start_time": "2023-04-26T14:50:20.390Z"
   },
   {
    "duration": 98,
    "start_time": "2023-04-26T14:50:20.396Z"
   },
   {
    "duration": 4,
    "start_time": "2023-04-26T14:50:20.496Z"
   },
   {
    "duration": 11,
    "start_time": "2023-04-26T14:50:20.501Z"
   },
   {
    "duration": 13,
    "start_time": "2023-04-26T14:50:20.513Z"
   },
   {
    "duration": 22,
    "start_time": "2023-04-26T14:50:20.528Z"
   },
   {
    "duration": 18,
    "start_time": "2023-04-26T14:50:20.551Z"
   },
   {
    "duration": 196,
    "start_time": "2023-04-26T14:50:20.571Z"
   },
   {
    "duration": 130,
    "start_time": "2023-04-26T14:50:20.768Z"
   },
   {
    "duration": 27,
    "start_time": "2023-04-26T14:50:20.900Z"
   },
   {
    "duration": 55,
    "start_time": "2023-04-26T14:50:20.929Z"
   },
   {
    "duration": 3,
    "start_time": "2023-04-26T14:50:20.985Z"
   },
   {
    "duration": 62,
    "start_time": "2023-04-26T14:50:20.990Z"
   },
   {
    "duration": 431,
    "start_time": "2023-04-26T14:50:21.054Z"
   },
   {
    "duration": 680,
    "start_time": "2023-04-26T14:50:21.487Z"
   },
   {
    "duration": 396,
    "start_time": "2023-04-26T14:50:22.171Z"
   },
   {
    "duration": 3,
    "start_time": "2023-04-26T14:50:22.568Z"
   },
   {
    "duration": 56,
    "start_time": "2023-04-26T14:50:22.573Z"
   },
   {
    "duration": 16,
    "start_time": "2023-04-26T14:50:22.631Z"
   },
   {
    "duration": 197,
    "start_time": "2023-04-26T14:50:22.649Z"
   },
   {
    "duration": 2,
    "start_time": "2023-04-26T14:50:22.849Z"
   },
   {
    "duration": 32,
    "start_time": "2023-04-26T14:50:22.854Z"
   },
   {
    "duration": 13,
    "start_time": "2023-04-26T14:50:22.888Z"
   },
   {
    "duration": 13,
    "start_time": "2023-04-26T14:50:22.903Z"
   },
   {
    "duration": 14,
    "start_time": "2023-04-26T14:50:22.918Z"
   },
   {
    "duration": 42,
    "start_time": "2023-04-26T14:50:22.933Z"
   },
   {
    "duration": 168,
    "start_time": "2023-04-26T14:50:22.976Z"
   },
   {
    "duration": 2,
    "start_time": "2023-04-26T14:50:23.146Z"
   },
   {
    "duration": 36,
    "start_time": "2023-04-26T14:50:23.150Z"
   },
   {
    "duration": 286,
    "start_time": "2023-04-26T14:50:26.592Z"
   },
   {
    "duration": 1142,
    "start_time": "2023-05-16T08:27:10.096Z"
   },
   {
    "duration": 2,
    "start_time": "2023-05-16T08:27:11.240Z"
   },
   {
    "duration": 704,
    "start_time": "2023-05-16T08:27:11.243Z"
   },
   {
    "duration": 18,
    "start_time": "2023-05-16T08:27:11.948Z"
   },
   {
    "duration": 4,
    "start_time": "2023-05-16T08:27:11.968Z"
   },
   {
    "duration": 6,
    "start_time": "2023-05-16T08:27:11.973Z"
   },
   {
    "duration": 26,
    "start_time": "2023-05-16T08:27:11.981Z"
   },
   {
    "duration": 943,
    "start_time": "2023-05-16T08:27:12.009Z"
   },
   {
    "duration": 2,
    "start_time": "2023-05-16T08:27:12.954Z"
   },
   {
    "duration": 7,
    "start_time": "2023-05-16T08:27:12.959Z"
   },
   {
    "duration": 63,
    "start_time": "2023-05-16T08:27:12.968Z"
   },
   {
    "duration": 58,
    "start_time": "2023-05-16T08:27:13.033Z"
   },
   {
    "duration": 14,
    "start_time": "2023-05-16T08:27:13.093Z"
   },
   {
    "duration": 91,
    "start_time": "2023-05-16T08:27:13.108Z"
   },
   {
    "duration": 3,
    "start_time": "2023-05-16T08:27:13.200Z"
   },
   {
    "duration": 13,
    "start_time": "2023-05-16T08:27:13.206Z"
   },
   {
    "duration": 23,
    "start_time": "2023-05-16T08:27:13.220Z"
   },
   {
    "duration": 15,
    "start_time": "2023-05-16T08:27:13.244Z"
   },
   {
    "duration": 16,
    "start_time": "2023-05-16T08:27:13.260Z"
   },
   {
    "duration": 166,
    "start_time": "2023-05-16T08:27:13.278Z"
   },
   {
    "duration": 100,
    "start_time": "2023-05-16T08:27:13.446Z"
   },
   {
    "duration": 22,
    "start_time": "2023-05-16T08:27:13.548Z"
   },
   {
    "duration": 46,
    "start_time": "2023-05-16T08:27:13.572Z"
   },
   {
    "duration": 2,
    "start_time": "2023-05-16T08:27:13.620Z"
   },
   {
    "duration": 9,
    "start_time": "2023-05-16T08:27:13.623Z"
   },
   {
    "duration": 332,
    "start_time": "2023-05-16T08:27:13.633Z"
   },
   {
    "duration": 596,
    "start_time": "2023-05-16T08:27:13.967Z"
   },
   {
    "duration": 311,
    "start_time": "2023-05-16T08:27:14.566Z"
   },
   {
    "duration": 2,
    "start_time": "2023-05-16T08:27:14.879Z"
   },
   {
    "duration": 10,
    "start_time": "2023-05-16T08:27:14.883Z"
   },
   {
    "duration": 11,
    "start_time": "2023-05-16T08:27:14.895Z"
   },
   {
    "duration": 169,
    "start_time": "2023-05-16T08:27:14.908Z"
   },
   {
    "duration": 2,
    "start_time": "2023-05-16T08:27:15.078Z"
   },
   {
    "duration": 31,
    "start_time": "2023-05-16T08:27:15.082Z"
   },
   {
    "duration": 36,
    "start_time": "2023-05-16T08:27:15.115Z"
   },
   {
    "duration": 22,
    "start_time": "2023-05-16T08:27:15.153Z"
   },
   {
    "duration": 2,
    "start_time": "2023-05-16T08:27:15.177Z"
   },
   {
    "duration": 24,
    "start_time": "2023-05-16T08:27:15.180Z"
   },
   {
    "duration": 150,
    "start_time": "2023-05-16T08:27:15.206Z"
   },
   {
    "duration": 1,
    "start_time": "2023-05-16T08:27:15.358Z"
   },
   {
    "duration": 30,
    "start_time": "2023-05-16T08:27:15.361Z"
   },
   {
    "duration": 111,
    "start_time": "2023-05-16T08:27:15.393Z"
   },
   {
    "duration": 108,
    "start_time": "2023-05-16T08:27:15.506Z"
   },
   {
    "duration": 48,
    "start_time": "2023-05-16T08:27:15.615Z"
   },
   {
    "duration": 51,
    "start_time": "2023-05-16T08:27:15.664Z"
   },
   {
    "duration": 2,
    "start_time": "2023-05-16T08:27:15.717Z"
   },
   {
    "duration": 41,
    "start_time": "2023-05-16T08:27:15.720Z"
   },
   {
    "duration": 13,
    "start_time": "2023-05-16T08:27:15.763Z"
   },
   {
    "duration": 99,
    "start_time": "2023-05-16T08:27:15.777Z"
   },
   {
    "duration": 37,
    "start_time": "2023-05-16T08:27:15.878Z"
   },
   {
    "duration": 4,
    "start_time": "2023-05-16T08:27:15.917Z"
   },
   {
    "duration": 14,
    "start_time": "2023-05-16T08:27:15.922Z"
   },
   {
    "duration": 10,
    "start_time": "2023-05-16T08:27:15.937Z"
   },
   {
    "duration": 9,
    "start_time": "2023-05-16T08:27:15.948Z"
   }
  ],
  "kernelspec": {
   "display_name": "Python 3",
   "language": "python",
   "name": "python3"
  },
  "language_info": {
   "codemirror_mode": {
    "name": "ipython",
    "version": 3
   },
   "file_extension": ".py",
   "mimetype": "text/x-python",
   "name": "python",
   "nbconvert_exporter": "python",
   "pygments_lexer": "ipython3",
   "version": "3.7.6"
  },
  "toc": {
   "base_numbering": 1,
   "nav_menu": {},
   "number_sections": false,
   "sideBar": true,
   "skip_h1_title": false,
   "title_cell": "Table of Contents",
   "title_sidebar": "Contents",
   "toc_cell": true,
   "toc_position": {
    "height": "calc(100% - 180px)",
    "left": "10px",
    "top": "150px",
    "width": "213.556px"
   },
   "toc_section_display": true,
   "toc_window_display": true
  }
 },
 "nbformat": 4,
 "nbformat_minor": 2
}
